{
 "cells": [
  {
   "cell_type": "markdown",
   "id": "6024f606-7aa7-4f43-bc5b-4941a2686579",
   "metadata": {},
   "source": [
    "# Import "
   ]
  },
  {
   "cell_type": "code",
   "execution_count": 1,
   "id": "07dade98-d203-4c37-9201-094d4fa9684c",
   "metadata": {},
   "outputs": [],
   "source": [
    "import sklearn_crfsuite\n",
    "from sklearn_crfsuite.metrics import flat_f1_score\n",
    "from sklearn_crfsuite import CRF\n",
    "from sklearn.model_selection import train_test_split\n",
    "import pandas as pd\n",
    "import numpy as np\n",
    "from spacy.lang.en import English\n",
    "from spacy import displacy\n",
    "from pathlib import Path\n",
    "import joblib\n",
    "from spacy.tokens import Doc\n",
    "from typing import List\n",
    "import random\n",
    "from statistics import mean, stdev\n",
    "from loguru import logger\n",
    "import sys\n",
    "import spacy"
   ]
  },
  {
   "cell_type": "code",
   "execution_count": 2,
   "id": "456d2db0-ae32-41e5-822b-b79feff89fad",
   "metadata": {},
   "outputs": [],
   "source": [
    "from medspacy_io.reader.brat_reader import BratDocReader, BratDirReader\n",
    "import medspacy"
   ]
  },
  {
   "cell_type": "markdown",
   "id": "b3074734-1e2a-4093-9e17-393710ab8ef9",
   "metadata": {},
   "source": [
    "## Initiate BratDirReader"
   ]
  },
  {
   "cell_type": "code",
   "execution_count": 3,
   "id": "fb94b875-5b8d-4d0f-9101-e9cd5e27f253",
   "metadata": {},
   "outputs": [
    {
     "data": {
      "text/plain": [
       "(True, True)"
      ]
     },
     "execution_count": 3,
     "metadata": {},
     "output_type": "execute_result"
    }
   ],
   "source": [
    "cleaned_train_dir=r'..\\data\\n2c2\\cleaned_training'\n",
    "cleaned_test_dir=r'..\\data\\n2c2\\cleaned_test'\n",
    "Path(cleaned_train_dir).exists(), Path(cleaned_test_dir).exists()"
   ]
  },
  {
   "cell_type": "code",
   "execution_count": 4,
   "id": "2ead595b-6b3f-4164-a45a-a2824c58def4",
   "metadata": {},
   "outputs": [],
   "source": [
    "nlp=spacy.load('en_core_web_sm', disable=['ner'])"
   ]
  },
  {
   "cell_type": "code",
   "execution_count": 5,
   "id": "bd04508a-15e5-4c5d-b191-509ae92865ae",
   "metadata": {},
   "outputs": [],
   "source": [
    "dir_reader = BratDirReader(nlp=nlp, schema_file=str(Path(cleaned_train_dir, 'annotation.conf')), support_overlap=True)"
   ]
  },
  {
   "cell_type": "markdown",
   "id": "94341b2a-fd10-4fb9-98f5-8169b259a21a",
   "metadata": {},
   "source": [
    "## Read Brat annotations | load from pickles"
   ]
  },
  {
   "cell_type": "code",
   "execution_count": 6,
   "id": "59de7b8c-52c2-43fb-9cce-392d8dd4de8c",
   "metadata": {},
   "outputs": [],
   "source": [
    "pickle_file= r'..\\data\\n2c2\\spacy_docs.joblib'"
   ]
  },
  {
   "cell_type": "code",
   "execution_count": 7,
   "id": "762f6665-6fe5-4bc2-81dc-2dfff06abd71",
   "metadata": {},
   "outputs": [
    {
     "name": "stdout",
     "output_type": "stream",
     "text": [
      "..\\data\\n2c2\\spacy_docs.joblib already exists, load them directly\n"
     ]
    }
   ],
   "source": [
    "if not Path(pickle_file).exists():\n",
    "    train_docs=dir_reader.read(txt_dir=cleaned_train_dir)\n",
    "    test_docs=dir_reader.read(txt_dir=cleaned_test_dir)\n",
    "    print(len(train_docs), len(test_docs))\n",
    "    joblib.dump((train_docs, test_docs), pickle_file)\n",
    "else:\n",
    "    print(f'{pickle_file} already exists, load them directly')\n",
    "    # before load from pickle, initiate EhostDirReader or EhostDocReader first, because some Doc extension used to store meta data will not be automatically recreated by loading.\n",
    "    train_docs, test_docs=joblib.load(pickle_file)"
   ]
  },
  {
   "cell_type": "markdown",
   "id": "bba0f1e6-1515-4db9-af90-2b37f69bdd64",
   "metadata": {},
   "source": [
    "# Define sampling functions"
   ]
  },
  {
   "cell_type": "code",
   "execution_count": 8,
   "id": "9aedf902-836b-442b-89a4-5962d8d1495f",
   "metadata": {},
   "outputs": [],
   "source": [
    "rounds =10\n",
    "seed= 14"
   ]
  },
  {
   "cell_type": "code",
   "execution_count": 9,
   "id": "01b9ce81-2d67-4b15-bca0-87af84c1dfd0",
   "metadata": {},
   "outputs": [
    {
     "data": {
      "text/plain": [
       "(303, 202)"
      ]
     },
     "execution_count": 9,
     "metadata": {},
     "output_type": "execute_result"
    }
   ],
   "source": [
    "len(train_docs), len(test_docs)"
   ]
  },
  {
   "cell_type": "markdown",
   "id": "9d89180d-7331-4737-bfd7-626b66eae5f8",
   "metadata": {},
   "source": [
    "### Define CRF Wrapper"
   ]
  },
  {
   "cell_type": "code",
   "execution_count": 10,
   "id": "e8e5443c-44d1-449e-a150-f57b432b04fd",
   "metadata": {},
   "outputs": [],
   "source": [
    "from CRFWrapper import spans_to_bio, convert_docs, word2features, sent2features,compute_metrics_and_averages,  CRFModel\n",
    "from ALSampler import SamplingSimulator, ModelSamplingSimulator"
   ]
  },
  {
   "cell_type": "code",
   "execution_count": 11,
   "id": "64c66e94-fc84-4943-bc6c-fc584406f46c",
   "metadata": {},
   "outputs": [
    {
     "name": "stdout",
     "output_type": "stream",
     "text": [
      "{'Frequency', 'Dosage', 'Drug', 'Strength', 'Route', 'Reason', 'Duration', 'ADE', 'Form'}\n"
     ]
    }
   ],
   "source": [
    "## Get all annotation types: \n",
    "annos=set()\n",
    "for d in train_docs:\n",
    "    for anno in d.spans.keys():\n",
    "        annos.add(anno)\n",
    "print(annos)"
   ]
  },
  {
   "cell_type": "code",
   "execution_count": 12,
   "id": "f25910bf-2fc9-411b-9dc0-33f0d3997fef",
   "metadata": {},
   "outputs": [],
   "source": [
    "crf_model=CRFModel(anno_types=annos)\n",
    "m_simulator=ModelSamplingSimulator(train_docs, total_round=10, modelWrapper=crf_model, eval_docs=test_docs, init_seed=seed)"
   ]
  },
  {
   "cell_type": "markdown",
   "id": "d8687ece-0d65-4def-888e-9372a7e58744",
   "metadata": {},
   "source": [
    "### Test run"
   ]
  },
  {
   "cell_type": "code",
   "execution_count": 13,
   "id": "b4bbf19a-e592-4853-a61a-160f7f19db49",
   "metadata": {},
   "outputs": [
    {
     "name": "stderr",
     "output_type": "stream",
     "text": [
      "\u001b[32m2024-05-22 11:41:34.116\u001b[0m | \u001b[1mINFO    \u001b[0m | \u001b[36mALSampler\u001b[0m:\u001b[36msimulate_rounds\u001b[0m:\u001b[36m53\u001b[0m - \u001b[1msimulate round 0.\u001b[0m\n",
      "\u001b[32m2024-05-22 11:41:34.117\u001b[0m | \u001b[34m\u001b[1mDEBUG   \u001b[0m | \u001b[36mALSampler\u001b[0m:\u001b[36mkeep_sample\u001b[0m:\u001b[36m39\u001b[0m - \u001b[34m\u001b[1mThe first round sampling will be random\u001b[0m\n",
      "\u001b[32m2024-05-22 11:41:34.119\u001b[0m | \u001b[1mINFO    \u001b[0m | \u001b[36mALSampler\u001b[0m:\u001b[36mkeep_sample\u001b[0m:\u001b[36m43\u001b[0m - \u001b[1mcurrent sampled: 30, remaining: 273\u001b[0m\n",
      "\u001b[32m2024-05-22 11:41:38.138\u001b[0m | \u001b[34m\u001b[1mDEBUG   \u001b[0m | \u001b[36mCRFWrapper\u001b[0m:\u001b[36mfit\u001b[0m:\u001b[36m266\u001b[0m - \u001b[34m\u001b[1mReset and train CRF model...\u001b[0m\n",
      "\u001b[32m2024-05-22 11:42:37.656\u001b[0m | \u001b[34m\u001b[1mDEBUG   \u001b[0m | \u001b[36mCRFWrapper\u001b[0m:\u001b[36mfit\u001b[0m:\u001b[36m274\u001b[0m - \u001b[34m\u001b[1mTraining complete.\u001b[0m\n",
      "\u001b[32m2024-05-22 11:42:37.750\u001b[0m | \u001b[34m\u001b[1mDEBUG   \u001b[0m | \u001b[36mCRFWrapper\u001b[0m:\u001b[36mbootstrap_eval\u001b[0m:\u001b[36m299\u001b[0m - \u001b[34m\u001b[1mPredicting eval docs...\u001b[0m\n",
      "\u001b[32m2024-05-22 11:43:17.190\u001b[0m | \u001b[34m\u001b[1mDEBUG   \u001b[0m | \u001b[36mCRFWrapper\u001b[0m:\u001b[36mbootstrap_eval\u001b[0m:\u001b[36m303\u001b[0m - \u001b[34m\u001b[1mCalculate scores from bootstrapping 200 times\u001b[0m\n",
      "\u001b[32m2024-05-22 11:47:43.647\u001b[0m | \u001b[34m\u001b[1mDEBUG   \u001b[0m | \u001b[36mCRFWrapper\u001b[0m:\u001b[36mbootstrap_eval\u001b[0m:\u001b[36m313\u001b[0m - \u001b[34m\u001b[1mcomplete\u001b[0m\n",
      "\u001b[32m2024-05-22 11:47:43.786\u001b[0m | \u001b[34m\u001b[1mDEBUG   \u001b[0m | \u001b[36mALSampler\u001b[0m:\u001b[36msimulate_rounds\u001b[0m:\u001b[36m64\u001b[0m - \u001b[34m\u001b[1m{'precision': 0.9436780861622498, 'recall': 0.7790147749120776, 'f1': 0.8534724728682227}\u001b[0m\n",
      "\u001b[32m2024-05-22 11:47:43.790\u001b[0m | \u001b[1mINFO    \u001b[0m | \u001b[36mALSampler\u001b[0m:\u001b[36msimulate_rounds\u001b[0m:\u001b[36m53\u001b[0m - \u001b[1msimulate round 1.\u001b[0m\n",
      "\u001b[32m2024-05-22 11:47:43.791\u001b[0m | \u001b[34m\u001b[1mDEBUG   \u001b[0m | \u001b[36mALSampler\u001b[0m:\u001b[36msample_next_round\u001b[0m:\u001b[36m95\u001b[0m - \u001b[34m\u001b[1mTrain model wrapper on sampled 30 samples\u001b[0m\n",
      "\u001b[32m2024-05-22 11:47:43.792\u001b[0m | \u001b[34m\u001b[1mDEBUG   \u001b[0m | \u001b[36mALSampler\u001b[0m:\u001b[36msample_next_round\u001b[0m:\u001b[36m96\u001b[0m - \u001b[34m\u001b[1mUse trained model to estimate the remaining data certainty.\u001b[0m\n",
      "\u001b[32m2024-05-22 11:49:03.295\u001b[0m | \u001b[34m\u001b[1mDEBUG   \u001b[0m | \u001b[36mALSampler\u001b[0m:\u001b[36msample_next_round\u001b[0m:\u001b[36m99\u001b[0m - \u001b[34m\u001b[1mremain 273 docs, sort indx on certainty for 273\u001b[0m\n",
      "\u001b[32m2024-05-22 11:49:03.298\u001b[0m | \u001b[34m\u001b[1mDEBUG   \u001b[0m | \u001b[36mALSampler\u001b[0m:\u001b[36msample_next_round\u001b[0m:\u001b[36m106\u001b[0m - \u001b[34m\u001b[1mUpdate model with new sampled data\u001b[0m\n",
      "\u001b[32m2024-05-22 11:49:03.299\u001b[0m | \u001b[1mINFO    \u001b[0m | \u001b[36mALSampler\u001b[0m:\u001b[36mkeep_sample\u001b[0m:\u001b[36m43\u001b[0m - \u001b[1mcurrent sampled: 60, remaining: 243\u001b[0m\n",
      "\u001b[32m2024-05-22 11:49:12.280\u001b[0m | \u001b[34m\u001b[1mDEBUG   \u001b[0m | \u001b[36mCRFWrapper\u001b[0m:\u001b[36mfit\u001b[0m:\u001b[36m266\u001b[0m - \u001b[34m\u001b[1mReset and train CRF model...\u001b[0m\n",
      "\u001b[32m2024-05-22 11:51:29.615\u001b[0m | \u001b[34m\u001b[1mDEBUG   \u001b[0m | \u001b[36mCRFWrapper\u001b[0m:\u001b[36mfit\u001b[0m:\u001b[36m274\u001b[0m - \u001b[34m\u001b[1mTraining complete.\u001b[0m\n",
      "\u001b[32m2024-05-22 11:51:29.824\u001b[0m | \u001b[34m\u001b[1mDEBUG   \u001b[0m | \u001b[36mCRFWrapper\u001b[0m:\u001b[36mbootstrap_eval\u001b[0m:\u001b[36m299\u001b[0m - \u001b[34m\u001b[1mPredicting eval docs...\u001b[0m\n",
      "\u001b[32m2024-05-22 11:52:06.620\u001b[0m | \u001b[34m\u001b[1mDEBUG   \u001b[0m | \u001b[36mCRFWrapper\u001b[0m:\u001b[36mbootstrap_eval\u001b[0m:\u001b[36m303\u001b[0m - \u001b[34m\u001b[1mCalculate scores from bootstrapping 200 times\u001b[0m\n",
      "\u001b[32m2024-05-22 11:56:19.055\u001b[0m | \u001b[34m\u001b[1mDEBUG   \u001b[0m | \u001b[36mCRFWrapper\u001b[0m:\u001b[36mbootstrap_eval\u001b[0m:\u001b[36m313\u001b[0m - \u001b[34m\u001b[1mcomplete\u001b[0m\n",
      "\u001b[32m2024-05-22 11:56:19.185\u001b[0m | \u001b[34m\u001b[1mDEBUG   \u001b[0m | \u001b[36mALSampler\u001b[0m:\u001b[36msimulate_rounds\u001b[0m:\u001b[36m64\u001b[0m - \u001b[34m\u001b[1m{'precision': 0.9453897331709186, 'recall': 0.8092974336525001, 'f1': 0.8720626287930512}\u001b[0m\n",
      "\u001b[32m2024-05-22 11:56:19.187\u001b[0m | \u001b[1mINFO    \u001b[0m | \u001b[36mALSampler\u001b[0m:\u001b[36msimulate_rounds\u001b[0m:\u001b[36m53\u001b[0m - \u001b[1msimulate round 2.\u001b[0m\n",
      "\u001b[32m2024-05-22 11:56:19.188\u001b[0m | \u001b[34m\u001b[1mDEBUG   \u001b[0m | \u001b[36mALSampler\u001b[0m:\u001b[36msample_next_round\u001b[0m:\u001b[36m95\u001b[0m - \u001b[34m\u001b[1mTrain model wrapper on sampled 60 samples\u001b[0m\n",
      "\u001b[32m2024-05-22 11:56:19.190\u001b[0m | \u001b[34m\u001b[1mDEBUG   \u001b[0m | \u001b[36mALSampler\u001b[0m:\u001b[36msample_next_round\u001b[0m:\u001b[36m96\u001b[0m - \u001b[34m\u001b[1mUse trained model to estimate the remaining data certainty.\u001b[0m\n",
      "\u001b[32m2024-05-22 11:57:24.196\u001b[0m | \u001b[34m\u001b[1mDEBUG   \u001b[0m | \u001b[36mALSampler\u001b[0m:\u001b[36msample_next_round\u001b[0m:\u001b[36m99\u001b[0m - \u001b[34m\u001b[1mremain 243 docs, sort indx on certainty for 243\u001b[0m\n",
      "\u001b[32m2024-05-22 11:57:24.199\u001b[0m | \u001b[34m\u001b[1mDEBUG   \u001b[0m | \u001b[36mALSampler\u001b[0m:\u001b[36msample_next_round\u001b[0m:\u001b[36m106\u001b[0m - \u001b[34m\u001b[1mUpdate model with new sampled data\u001b[0m\n",
      "\u001b[32m2024-05-22 11:57:24.200\u001b[0m | \u001b[1mINFO    \u001b[0m | \u001b[36mALSampler\u001b[0m:\u001b[36mkeep_sample\u001b[0m:\u001b[36m43\u001b[0m - \u001b[1mcurrent sampled: 90, remaining: 213\u001b[0m\n",
      "\u001b[32m2024-05-22 11:57:37.657\u001b[0m | \u001b[34m\u001b[1mDEBUG   \u001b[0m | \u001b[36mCRFWrapper\u001b[0m:\u001b[36mfit\u001b[0m:\u001b[36m266\u001b[0m - \u001b[34m\u001b[1mReset and train CRF model...\u001b[0m\n",
      "\u001b[32m2024-05-22 12:01:04.973\u001b[0m | \u001b[34m\u001b[1mDEBUG   \u001b[0m | \u001b[36mCRFWrapper\u001b[0m:\u001b[36mfit\u001b[0m:\u001b[36m274\u001b[0m - \u001b[34m\u001b[1mTraining complete.\u001b[0m\n",
      "\u001b[32m2024-05-22 12:01:05.317\u001b[0m | \u001b[34m\u001b[1mDEBUG   \u001b[0m | \u001b[36mCRFWrapper\u001b[0m:\u001b[36mbootstrap_eval\u001b[0m:\u001b[36m299\u001b[0m - \u001b[34m\u001b[1mPredicting eval docs...\u001b[0m\n",
      "\u001b[32m2024-05-22 12:01:42.008\u001b[0m | \u001b[34m\u001b[1mDEBUG   \u001b[0m | \u001b[36mCRFWrapper\u001b[0m:\u001b[36mbootstrap_eval\u001b[0m:\u001b[36m303\u001b[0m - \u001b[34m\u001b[1mCalculate scores from bootstrapping 200 times\u001b[0m\n",
      "\u001b[32m2024-05-22 12:05:25.347\u001b[0m | \u001b[34m\u001b[1mDEBUG   \u001b[0m | \u001b[36mCRFWrapper\u001b[0m:\u001b[36mbootstrap_eval\u001b[0m:\u001b[36m313\u001b[0m - \u001b[34m\u001b[1mcomplete\u001b[0m\n",
      "\u001b[32m2024-05-22 12:05:25.473\u001b[0m | \u001b[34m\u001b[1mDEBUG   \u001b[0m | \u001b[36mALSampler\u001b[0m:\u001b[36msimulate_rounds\u001b[0m:\u001b[36m64\u001b[0m - \u001b[34m\u001b[1m{'precision': 0.9451607929592578, 'recall': 0.8271609107055627, 'f1': 0.8822298659380026}\u001b[0m\n",
      "\u001b[32m2024-05-22 12:05:25.475\u001b[0m | \u001b[1mINFO    \u001b[0m | \u001b[36mALSampler\u001b[0m:\u001b[36msimulate_rounds\u001b[0m:\u001b[36m53\u001b[0m - \u001b[1msimulate round 3.\u001b[0m\n",
      "\u001b[32m2024-05-22 12:05:25.476\u001b[0m | \u001b[34m\u001b[1mDEBUG   \u001b[0m | \u001b[36mALSampler\u001b[0m:\u001b[36msample_next_round\u001b[0m:\u001b[36m95\u001b[0m - \u001b[34m\u001b[1mTrain model wrapper on sampled 90 samples\u001b[0m\n",
      "\u001b[32m2024-05-22 12:05:25.478\u001b[0m | \u001b[34m\u001b[1mDEBUG   \u001b[0m | \u001b[36mALSampler\u001b[0m:\u001b[36msample_next_round\u001b[0m:\u001b[36m96\u001b[0m - \u001b[34m\u001b[1mUse trained model to estimate the remaining data certainty.\u001b[0m\n",
      "\u001b[32m2024-05-22 12:06:20.574\u001b[0m | \u001b[34m\u001b[1mDEBUG   \u001b[0m | \u001b[36mALSampler\u001b[0m:\u001b[36msample_next_round\u001b[0m:\u001b[36m99\u001b[0m - \u001b[34m\u001b[1mremain 213 docs, sort indx on certainty for 213\u001b[0m\n",
      "\u001b[32m2024-05-22 12:06:20.576\u001b[0m | \u001b[34m\u001b[1mDEBUG   \u001b[0m | \u001b[36mALSampler\u001b[0m:\u001b[36msample_next_round\u001b[0m:\u001b[36m106\u001b[0m - \u001b[34m\u001b[1mUpdate model with new sampled data\u001b[0m\n",
      "\u001b[32m2024-05-22 12:06:20.577\u001b[0m | \u001b[1mINFO    \u001b[0m | \u001b[36mALSampler\u001b[0m:\u001b[36mkeep_sample\u001b[0m:\u001b[36m43\u001b[0m - \u001b[1mcurrent sampled: 120, remaining: 183\u001b[0m\n",
      "\u001b[32m2024-05-22 12:06:37.513\u001b[0m | \u001b[34m\u001b[1mDEBUG   \u001b[0m | \u001b[36mCRFWrapper\u001b[0m:\u001b[36mfit\u001b[0m:\u001b[36m266\u001b[0m - \u001b[34m\u001b[1mReset and train CRF model...\u001b[0m\n",
      "\u001b[32m2024-05-22 12:11:08.443\u001b[0m | \u001b[34m\u001b[1mDEBUG   \u001b[0m | \u001b[36mCRFWrapper\u001b[0m:\u001b[36mfit\u001b[0m:\u001b[36m274\u001b[0m - \u001b[34m\u001b[1mTraining complete.\u001b[0m\n",
      "\u001b[32m2024-05-22 12:11:08.831\u001b[0m | \u001b[34m\u001b[1mDEBUG   \u001b[0m | \u001b[36mCRFWrapper\u001b[0m:\u001b[36mbootstrap_eval\u001b[0m:\u001b[36m299\u001b[0m - \u001b[34m\u001b[1mPredicting eval docs...\u001b[0m\n",
      "\u001b[32m2024-05-22 12:11:45.359\u001b[0m | \u001b[34m\u001b[1mDEBUG   \u001b[0m | \u001b[36mCRFWrapper\u001b[0m:\u001b[36mbootstrap_eval\u001b[0m:\u001b[36m303\u001b[0m - \u001b[34m\u001b[1mCalculate scores from bootstrapping 200 times\u001b[0m\n",
      "\u001b[32m2024-05-22 12:15:52.483\u001b[0m | \u001b[34m\u001b[1mDEBUG   \u001b[0m | \u001b[36mCRFWrapper\u001b[0m:\u001b[36mbootstrap_eval\u001b[0m:\u001b[36m313\u001b[0m - \u001b[34m\u001b[1mcomplete\u001b[0m\n",
      "\u001b[32m2024-05-22 12:15:52.613\u001b[0m | \u001b[34m\u001b[1mDEBUG   \u001b[0m | \u001b[36mALSampler\u001b[0m:\u001b[36msimulate_rounds\u001b[0m:\u001b[36m64\u001b[0m - \u001b[34m\u001b[1m{'precision': 0.9460886551055642, 'recall': 0.8371183635276992, 'f1': 0.8882712894026897}\u001b[0m\n",
      "\u001b[32m2024-05-22 12:15:52.615\u001b[0m | \u001b[1mINFO    \u001b[0m | \u001b[36mALSampler\u001b[0m:\u001b[36msimulate_rounds\u001b[0m:\u001b[36m53\u001b[0m - \u001b[1msimulate round 4.\u001b[0m\n",
      "\u001b[32m2024-05-22 12:15:52.616\u001b[0m | \u001b[34m\u001b[1mDEBUG   \u001b[0m | \u001b[36mALSampler\u001b[0m:\u001b[36msample_next_round\u001b[0m:\u001b[36m95\u001b[0m - \u001b[34m\u001b[1mTrain model wrapper on sampled 120 samples\u001b[0m\n",
      "\u001b[32m2024-05-22 12:15:52.617\u001b[0m | \u001b[34m\u001b[1mDEBUG   \u001b[0m | \u001b[36mALSampler\u001b[0m:\u001b[36msample_next_round\u001b[0m:\u001b[36m96\u001b[0m - \u001b[34m\u001b[1mUse trained model to estimate the remaining data certainty.\u001b[0m\n",
      "\u001b[32m2024-05-22 12:16:39.564\u001b[0m | \u001b[34m\u001b[1mDEBUG   \u001b[0m | \u001b[36mALSampler\u001b[0m:\u001b[36msample_next_round\u001b[0m:\u001b[36m99\u001b[0m - \u001b[34m\u001b[1mremain 183 docs, sort indx on certainty for 183\u001b[0m\n",
      "\u001b[32m2024-05-22 12:16:39.567\u001b[0m | \u001b[34m\u001b[1mDEBUG   \u001b[0m | \u001b[36mALSampler\u001b[0m:\u001b[36msample_next_round\u001b[0m:\u001b[36m106\u001b[0m - \u001b[34m\u001b[1mUpdate model with new sampled data\u001b[0m\n",
      "\u001b[32m2024-05-22 12:16:39.569\u001b[0m | \u001b[1mINFO    \u001b[0m | \u001b[36mALSampler\u001b[0m:\u001b[36mkeep_sample\u001b[0m:\u001b[36m43\u001b[0m - \u001b[1mcurrent sampled: 150, remaining: 153\u001b[0m\n",
      "\u001b[32m2024-05-22 12:17:02.116\u001b[0m | \u001b[34m\u001b[1mDEBUG   \u001b[0m | \u001b[36mCRFWrapper\u001b[0m:\u001b[36mfit\u001b[0m:\u001b[36m266\u001b[0m - \u001b[34m\u001b[1mReset and train CRF model...\u001b[0m\n",
      "\u001b[32m2024-05-22 12:22:58.285\u001b[0m | \u001b[34m\u001b[1mDEBUG   \u001b[0m | \u001b[36mCRFWrapper\u001b[0m:\u001b[36mfit\u001b[0m:\u001b[36m274\u001b[0m - \u001b[34m\u001b[1mTraining complete.\u001b[0m\n",
      "\u001b[32m2024-05-22 12:22:58.881\u001b[0m | \u001b[34m\u001b[1mDEBUG   \u001b[0m | \u001b[36mCRFWrapper\u001b[0m:\u001b[36mbootstrap_eval\u001b[0m:\u001b[36m299\u001b[0m - \u001b[34m\u001b[1mPredicting eval docs...\u001b[0m\n",
      "\u001b[32m2024-05-22 12:23:35.665\u001b[0m | \u001b[34m\u001b[1mDEBUG   \u001b[0m | \u001b[36mCRFWrapper\u001b[0m:\u001b[36mbootstrap_eval\u001b[0m:\u001b[36m303\u001b[0m - \u001b[34m\u001b[1mCalculate scores from bootstrapping 200 times\u001b[0m\n",
      "\u001b[32m2024-05-22 12:27:48.730\u001b[0m | \u001b[34m\u001b[1mDEBUG   \u001b[0m | \u001b[36mCRFWrapper\u001b[0m:\u001b[36mbootstrap_eval\u001b[0m:\u001b[36m313\u001b[0m - \u001b[34m\u001b[1mcomplete\u001b[0m\n",
      "\u001b[32m2024-05-22 12:27:48.854\u001b[0m | \u001b[34m\u001b[1mDEBUG   \u001b[0m | \u001b[36mALSampler\u001b[0m:\u001b[36msimulate_rounds\u001b[0m:\u001b[36m64\u001b[0m - \u001b[34m\u001b[1m{'precision': 0.9448261572505384, 'recall': 0.8443729022756091, 'f1': 0.8917770209969899}\u001b[0m\n",
      "\u001b[32m2024-05-22 12:27:48.856\u001b[0m | \u001b[1mINFO    \u001b[0m | \u001b[36mALSampler\u001b[0m:\u001b[36msimulate_rounds\u001b[0m:\u001b[36m53\u001b[0m - \u001b[1msimulate round 5.\u001b[0m\n",
      "\u001b[32m2024-05-22 12:27:48.857\u001b[0m | \u001b[34m\u001b[1mDEBUG   \u001b[0m | \u001b[36mALSampler\u001b[0m:\u001b[36msample_next_round\u001b[0m:\u001b[36m95\u001b[0m - \u001b[34m\u001b[1mTrain model wrapper on sampled 150 samples\u001b[0m\n",
      "\u001b[32m2024-05-22 12:27:48.859\u001b[0m | \u001b[34m\u001b[1mDEBUG   \u001b[0m | \u001b[36mALSampler\u001b[0m:\u001b[36msample_next_round\u001b[0m:\u001b[36m96\u001b[0m - \u001b[34m\u001b[1mUse trained model to estimate the remaining data certainty.\u001b[0m\n",
      "\u001b[32m2024-05-22 12:28:24.862\u001b[0m | \u001b[34m\u001b[1mDEBUG   \u001b[0m | \u001b[36mALSampler\u001b[0m:\u001b[36msample_next_round\u001b[0m:\u001b[36m99\u001b[0m - \u001b[34m\u001b[1mremain 153 docs, sort indx on certainty for 153\u001b[0m\n",
      "\u001b[32m2024-05-22 12:28:24.865\u001b[0m | \u001b[34m\u001b[1mDEBUG   \u001b[0m | \u001b[36mALSampler\u001b[0m:\u001b[36msample_next_round\u001b[0m:\u001b[36m106\u001b[0m - \u001b[34m\u001b[1mUpdate model with new sampled data\u001b[0m\n",
      "\u001b[32m2024-05-22 12:28:24.867\u001b[0m | \u001b[1mINFO    \u001b[0m | \u001b[36mALSampler\u001b[0m:\u001b[36mkeep_sample\u001b[0m:\u001b[36m43\u001b[0m - \u001b[1mcurrent sampled: 180, remaining: 123\u001b[0m\n",
      "\u001b[32m2024-05-22 12:28:51.002\u001b[0m | \u001b[34m\u001b[1mDEBUG   \u001b[0m | \u001b[36mCRFWrapper\u001b[0m:\u001b[36mfit\u001b[0m:\u001b[36m266\u001b[0m - \u001b[34m\u001b[1mReset and train CRF model...\u001b[0m\n",
      "\u001b[32m2024-05-22 12:35:59.396\u001b[0m | \u001b[34m\u001b[1mDEBUG   \u001b[0m | \u001b[36mCRFWrapper\u001b[0m:\u001b[36mfit\u001b[0m:\u001b[36m274\u001b[0m - \u001b[34m\u001b[1mTraining complete.\u001b[0m\n",
      "\u001b[32m2024-05-22 12:36:00.097\u001b[0m | \u001b[34m\u001b[1mDEBUG   \u001b[0m | \u001b[36mCRFWrapper\u001b[0m:\u001b[36mbootstrap_eval\u001b[0m:\u001b[36m299\u001b[0m - \u001b[34m\u001b[1mPredicting eval docs...\u001b[0m\n",
      "\u001b[32m2024-05-22 12:36:38.423\u001b[0m | \u001b[34m\u001b[1mDEBUG   \u001b[0m | \u001b[36mCRFWrapper\u001b[0m:\u001b[36mbootstrap_eval\u001b[0m:\u001b[36m303\u001b[0m - \u001b[34m\u001b[1mCalculate scores from bootstrapping 200 times\u001b[0m\n",
      "\u001b[32m2024-05-22 12:41:00.629\u001b[0m | \u001b[34m\u001b[1mDEBUG   \u001b[0m | \u001b[36mCRFWrapper\u001b[0m:\u001b[36mbootstrap_eval\u001b[0m:\u001b[36m313\u001b[0m - \u001b[34m\u001b[1mcomplete\u001b[0m\n",
      "\u001b[32m2024-05-22 12:41:00.757\u001b[0m | \u001b[34m\u001b[1mDEBUG   \u001b[0m | \u001b[36mALSampler\u001b[0m:\u001b[36msimulate_rounds\u001b[0m:\u001b[36m64\u001b[0m - \u001b[34m\u001b[1m{'precision': 0.9444035666256018, 'recall': 0.8527065974085847, 'f1': 0.8962135107999967}\u001b[0m\n",
      "\u001b[32m2024-05-22 12:41:00.759\u001b[0m | \u001b[1mINFO    \u001b[0m | \u001b[36mALSampler\u001b[0m:\u001b[36msimulate_rounds\u001b[0m:\u001b[36m53\u001b[0m - \u001b[1msimulate round 6.\u001b[0m\n",
      "\u001b[32m2024-05-22 12:41:00.763\u001b[0m | \u001b[34m\u001b[1mDEBUG   \u001b[0m | \u001b[36mALSampler\u001b[0m:\u001b[36msample_next_round\u001b[0m:\u001b[36m95\u001b[0m - \u001b[34m\u001b[1mTrain model wrapper on sampled 180 samples\u001b[0m\n",
      "\u001b[32m2024-05-22 12:41:00.763\u001b[0m | \u001b[34m\u001b[1mDEBUG   \u001b[0m | \u001b[36mALSampler\u001b[0m:\u001b[36msample_next_round\u001b[0m:\u001b[36m96\u001b[0m - \u001b[34m\u001b[1mUse trained model to estimate the remaining data certainty.\u001b[0m\n",
      "\u001b[32m2024-05-22 12:41:28.556\u001b[0m | \u001b[34m\u001b[1mDEBUG   \u001b[0m | \u001b[36mALSampler\u001b[0m:\u001b[36msample_next_round\u001b[0m:\u001b[36m99\u001b[0m - \u001b[34m\u001b[1mremain 123 docs, sort indx on certainty for 123\u001b[0m\n",
      "\u001b[32m2024-05-22 12:41:28.559\u001b[0m | \u001b[34m\u001b[1mDEBUG   \u001b[0m | \u001b[36mALSampler\u001b[0m:\u001b[36msample_next_round\u001b[0m:\u001b[36m106\u001b[0m - \u001b[34m\u001b[1mUpdate model with new sampled data\u001b[0m\n",
      "\u001b[32m2024-05-22 12:41:28.561\u001b[0m | \u001b[1mINFO    \u001b[0m | \u001b[36mALSampler\u001b[0m:\u001b[36mkeep_sample\u001b[0m:\u001b[36m43\u001b[0m - \u001b[1mcurrent sampled: 210, remaining: 93\u001b[0m\n",
      "\u001b[32m2024-05-22 12:41:59.751\u001b[0m | \u001b[34m\u001b[1mDEBUG   \u001b[0m | \u001b[36mCRFWrapper\u001b[0m:\u001b[36mfit\u001b[0m:\u001b[36m266\u001b[0m - \u001b[34m\u001b[1mReset and train CRF model...\u001b[0m\n",
      "\u001b[32m2024-05-22 12:50:38.980\u001b[0m | \u001b[34m\u001b[1mDEBUG   \u001b[0m | \u001b[36mCRFWrapper\u001b[0m:\u001b[36mfit\u001b[0m:\u001b[36m274\u001b[0m - \u001b[34m\u001b[1mTraining complete.\u001b[0m\n",
      "\u001b[32m2024-05-22 12:50:39.858\u001b[0m | \u001b[34m\u001b[1mDEBUG   \u001b[0m | \u001b[36mCRFWrapper\u001b[0m:\u001b[36mbootstrap_eval\u001b[0m:\u001b[36m299\u001b[0m - \u001b[34m\u001b[1mPredicting eval docs...\u001b[0m\n",
      "\u001b[32m2024-05-22 12:51:18.008\u001b[0m | \u001b[34m\u001b[1mDEBUG   \u001b[0m | \u001b[36mCRFWrapper\u001b[0m:\u001b[36mbootstrap_eval\u001b[0m:\u001b[36m303\u001b[0m - \u001b[34m\u001b[1mCalculate scores from bootstrapping 200 times\u001b[0m\n",
      "\u001b[32m2024-05-22 12:55:35.948\u001b[0m | \u001b[34m\u001b[1mDEBUG   \u001b[0m | \u001b[36mCRFWrapper\u001b[0m:\u001b[36mbootstrap_eval\u001b[0m:\u001b[36m313\u001b[0m - \u001b[34m\u001b[1mcomplete\u001b[0m\n",
      "\u001b[32m2024-05-22 12:55:36.075\u001b[0m | \u001b[34m\u001b[1mDEBUG   \u001b[0m | \u001b[36mALSampler\u001b[0m:\u001b[36msimulate_rounds\u001b[0m:\u001b[36m64\u001b[0m - \u001b[34m\u001b[1m{'precision': 0.9470967598179815, 'recall': 0.8529471026281533, 'f1': 0.8975575603143889}\u001b[0m\n",
      "\u001b[32m2024-05-22 12:55:36.077\u001b[0m | \u001b[1mINFO    \u001b[0m | \u001b[36mALSampler\u001b[0m:\u001b[36msimulate_rounds\u001b[0m:\u001b[36m53\u001b[0m - \u001b[1msimulate round 7.\u001b[0m\n",
      "\u001b[32m2024-05-22 12:55:36.079\u001b[0m | \u001b[34m\u001b[1mDEBUG   \u001b[0m | \u001b[36mALSampler\u001b[0m:\u001b[36msample_next_round\u001b[0m:\u001b[36m95\u001b[0m - \u001b[34m\u001b[1mTrain model wrapper on sampled 210 samples\u001b[0m\n",
      "\u001b[32m2024-05-22 12:55:36.080\u001b[0m | \u001b[34m\u001b[1mDEBUG   \u001b[0m | \u001b[36mALSampler\u001b[0m:\u001b[36msample_next_round\u001b[0m:\u001b[36m96\u001b[0m - \u001b[34m\u001b[1mUse trained model to estimate the remaining data certainty.\u001b[0m\n",
      "\u001b[32m2024-05-22 12:55:56.518\u001b[0m | \u001b[34m\u001b[1mDEBUG   \u001b[0m | \u001b[36mALSampler\u001b[0m:\u001b[36msample_next_round\u001b[0m:\u001b[36m99\u001b[0m - \u001b[34m\u001b[1mremain 93 docs, sort indx on certainty for 93\u001b[0m\n",
      "\u001b[32m2024-05-22 12:55:56.522\u001b[0m | \u001b[34m\u001b[1mDEBUG   \u001b[0m | \u001b[36mALSampler\u001b[0m:\u001b[36msample_next_round\u001b[0m:\u001b[36m106\u001b[0m - \u001b[34m\u001b[1mUpdate model with new sampled data\u001b[0m\n",
      "\u001b[32m2024-05-22 12:55:56.523\u001b[0m | \u001b[1mINFO    \u001b[0m | \u001b[36mALSampler\u001b[0m:\u001b[36mkeep_sample\u001b[0m:\u001b[36m43\u001b[0m - \u001b[1mcurrent sampled: 240, remaining: 63\u001b[0m\n",
      "\u001b[32m2024-05-22 12:56:30.298\u001b[0m | \u001b[34m\u001b[1mDEBUG   \u001b[0m | \u001b[36mCRFWrapper\u001b[0m:\u001b[36mfit\u001b[0m:\u001b[36m266\u001b[0m - \u001b[34m\u001b[1mReset and train CRF model...\u001b[0m\n",
      "\u001b[32m2024-05-22 13:05:46.107\u001b[0m | \u001b[34m\u001b[1mDEBUG   \u001b[0m | \u001b[36mCRFWrapper\u001b[0m:\u001b[36mfit\u001b[0m:\u001b[36m274\u001b[0m - \u001b[34m\u001b[1mTraining complete.\u001b[0m\n",
      "\u001b[32m2024-05-22 13:05:46.985\u001b[0m | \u001b[34m\u001b[1mDEBUG   \u001b[0m | \u001b[36mCRFWrapper\u001b[0m:\u001b[36mbootstrap_eval\u001b[0m:\u001b[36m299\u001b[0m - \u001b[34m\u001b[1mPredicting eval docs...\u001b[0m\n",
      "\u001b[32m2024-05-22 13:06:26.229\u001b[0m | \u001b[34m\u001b[1mDEBUG   \u001b[0m | \u001b[36mCRFWrapper\u001b[0m:\u001b[36mbootstrap_eval\u001b[0m:\u001b[36m303\u001b[0m - \u001b[34m\u001b[1mCalculate scores from bootstrapping 200 times\u001b[0m\n",
      "\u001b[32m2024-05-22 13:10:59.525\u001b[0m | \u001b[34m\u001b[1mDEBUG   \u001b[0m | \u001b[36mCRFWrapper\u001b[0m:\u001b[36mbootstrap_eval\u001b[0m:\u001b[36m313\u001b[0m - \u001b[34m\u001b[1mcomplete\u001b[0m\n",
      "\u001b[32m2024-05-22 13:10:59.649\u001b[0m | \u001b[34m\u001b[1mDEBUG   \u001b[0m | \u001b[36mALSampler\u001b[0m:\u001b[36msimulate_rounds\u001b[0m:\u001b[36m64\u001b[0m - \u001b[34m\u001b[1m{'precision': 0.9450324800295931, 'recall': 0.8571792436582283, 'f1': 0.8989625521175912}\u001b[0m\n",
      "\u001b[32m2024-05-22 13:10:59.651\u001b[0m | \u001b[1mINFO    \u001b[0m | \u001b[36mALSampler\u001b[0m:\u001b[36msimulate_rounds\u001b[0m:\u001b[36m53\u001b[0m - \u001b[1msimulate round 8.\u001b[0m\n",
      "\u001b[32m2024-05-22 13:10:59.652\u001b[0m | \u001b[34m\u001b[1mDEBUG   \u001b[0m | \u001b[36mALSampler\u001b[0m:\u001b[36msample_next_round\u001b[0m:\u001b[36m95\u001b[0m - \u001b[34m\u001b[1mTrain model wrapper on sampled 240 samples\u001b[0m\n",
      "\u001b[32m2024-05-22 13:10:59.653\u001b[0m | \u001b[34m\u001b[1mDEBUG   \u001b[0m | \u001b[36mALSampler\u001b[0m:\u001b[36msample_next_round\u001b[0m:\u001b[36m96\u001b[0m - \u001b[34m\u001b[1mUse trained model to estimate the remaining data certainty.\u001b[0m\n",
      "\u001b[32m2024-05-22 13:11:13.401\u001b[0m | \u001b[34m\u001b[1mDEBUG   \u001b[0m | \u001b[36mALSampler\u001b[0m:\u001b[36msample_next_round\u001b[0m:\u001b[36m99\u001b[0m - \u001b[34m\u001b[1mremain 63 docs, sort indx on certainty for 63\u001b[0m\n",
      "\u001b[32m2024-05-22 13:11:13.403\u001b[0m | \u001b[34m\u001b[1mDEBUG   \u001b[0m | \u001b[36mALSampler\u001b[0m:\u001b[36msample_next_round\u001b[0m:\u001b[36m106\u001b[0m - \u001b[34m\u001b[1mUpdate model with new sampled data\u001b[0m\n",
      "\u001b[32m2024-05-22 13:11:13.405\u001b[0m | \u001b[1mINFO    \u001b[0m | \u001b[36mALSampler\u001b[0m:\u001b[36mkeep_sample\u001b[0m:\u001b[36m43\u001b[0m - \u001b[1mcurrent sampled: 270, remaining: 33\u001b[0m\n",
      "\u001b[32m2024-05-22 13:11:48.890\u001b[0m | \u001b[34m\u001b[1mDEBUG   \u001b[0m | \u001b[36mCRFWrapper\u001b[0m:\u001b[36mfit\u001b[0m:\u001b[36m266\u001b[0m - \u001b[34m\u001b[1mReset and train CRF model...\u001b[0m\n",
      "\u001b[32m2024-05-22 13:21:46.373\u001b[0m | \u001b[34m\u001b[1mDEBUG   \u001b[0m | \u001b[36mCRFWrapper\u001b[0m:\u001b[36mfit\u001b[0m:\u001b[36m274\u001b[0m - \u001b[34m\u001b[1mTraining complete.\u001b[0m\n",
      "\u001b[32m2024-05-22 13:21:47.318\u001b[0m | \u001b[34m\u001b[1mDEBUG   \u001b[0m | \u001b[36mCRFWrapper\u001b[0m:\u001b[36mbootstrap_eval\u001b[0m:\u001b[36m299\u001b[0m - \u001b[34m\u001b[1mPredicting eval docs...\u001b[0m\n",
      "\u001b[32m2024-05-22 13:22:25.500\u001b[0m | \u001b[34m\u001b[1mDEBUG   \u001b[0m | \u001b[36mCRFWrapper\u001b[0m:\u001b[36mbootstrap_eval\u001b[0m:\u001b[36m303\u001b[0m - \u001b[34m\u001b[1mCalculate scores from bootstrapping 200 times\u001b[0m\n",
      "\u001b[32m2024-05-22 13:26:48.102\u001b[0m | \u001b[34m\u001b[1mDEBUG   \u001b[0m | \u001b[36mCRFWrapper\u001b[0m:\u001b[36mbootstrap_eval\u001b[0m:\u001b[36m313\u001b[0m - \u001b[34m\u001b[1mcomplete\u001b[0m\n",
      "\u001b[32m2024-05-22 13:26:48.222\u001b[0m | \u001b[34m\u001b[1mDEBUG   \u001b[0m | \u001b[36mALSampler\u001b[0m:\u001b[36msimulate_rounds\u001b[0m:\u001b[36m64\u001b[0m - \u001b[34m\u001b[1m{'precision': 0.9482133881421012, 'recall': 0.8570828756301871, 'f1': 0.9003459764324028}\u001b[0m\n",
      "\u001b[32m2024-05-22 13:26:48.223\u001b[0m | \u001b[1mINFO    \u001b[0m | \u001b[36mALSampler\u001b[0m:\u001b[36msimulate_rounds\u001b[0m:\u001b[36m53\u001b[0m - \u001b[1msimulate round 9.\u001b[0m\n",
      "\u001b[32m2024-05-22 13:26:48.226\u001b[0m | \u001b[34m\u001b[1mDEBUG   \u001b[0m | \u001b[36mALSampler\u001b[0m:\u001b[36msample_next_round\u001b[0m:\u001b[36m95\u001b[0m - \u001b[34m\u001b[1mTrain model wrapper on sampled 270 samples\u001b[0m\n",
      "\u001b[32m2024-05-22 13:26:48.226\u001b[0m | \u001b[34m\u001b[1mDEBUG   \u001b[0m | \u001b[36mALSampler\u001b[0m:\u001b[36msample_next_round\u001b[0m:\u001b[36m96\u001b[0m - \u001b[34m\u001b[1mUse trained model to estimate the remaining data certainty.\u001b[0m\n",
      "\u001b[32m2024-05-22 13:26:54.045\u001b[0m | \u001b[34m\u001b[1mDEBUG   \u001b[0m | \u001b[36mALSampler\u001b[0m:\u001b[36msample_next_round\u001b[0m:\u001b[36m99\u001b[0m - \u001b[34m\u001b[1mremain 33 docs, sort indx on certainty for 33\u001b[0m\n",
      "\u001b[32m2024-05-22 13:26:54.047\u001b[0m | \u001b[34m\u001b[1mDEBUG   \u001b[0m | \u001b[36mALSampler\u001b[0m:\u001b[36msample_next_round\u001b[0m:\u001b[36m106\u001b[0m - \u001b[34m\u001b[1mUpdate model with new sampled data\u001b[0m\n",
      "\u001b[32m2024-05-22 13:26:54.048\u001b[0m | \u001b[1mINFO    \u001b[0m | \u001b[36mALSampler\u001b[0m:\u001b[36mkeep_sample\u001b[0m:\u001b[36m43\u001b[0m - \u001b[1mcurrent sampled: 300, remaining: 3\u001b[0m\n",
      "\u001b[32m2024-05-22 13:26:54.049\u001b[0m | \u001b[1mINFO    \u001b[0m | \u001b[36mALSampler\u001b[0m:\u001b[36msimulate_rounds\u001b[0m:\u001b[36m58\u001b[0m - \u001b[1mIt's the last round, now add all docs to sampled.\u001b[0m\n",
      "\u001b[32m2024-05-22 13:27:31.814\u001b[0m | \u001b[34m\u001b[1mDEBUG   \u001b[0m | \u001b[36mCRFWrapper\u001b[0m:\u001b[36mfit\u001b[0m:\u001b[36m266\u001b[0m - \u001b[34m\u001b[1mReset and train CRF model...\u001b[0m\n",
      "\u001b[32m2024-05-22 13:38:00.717\u001b[0m | \u001b[34m\u001b[1mDEBUG   \u001b[0m | \u001b[36mCRFWrapper\u001b[0m:\u001b[36mfit\u001b[0m:\u001b[36m274\u001b[0m - \u001b[34m\u001b[1mTraining complete.\u001b[0m\n",
      "\u001b[32m2024-05-22 13:38:01.747\u001b[0m | \u001b[34m\u001b[1mDEBUG   \u001b[0m | \u001b[36mCRFWrapper\u001b[0m:\u001b[36mbootstrap_eval\u001b[0m:\u001b[36m299\u001b[0m - \u001b[34m\u001b[1mPredicting eval docs...\u001b[0m\n",
      "\u001b[32m2024-05-22 13:38:39.259\u001b[0m | \u001b[34m\u001b[1mDEBUG   \u001b[0m | \u001b[36mCRFWrapper\u001b[0m:\u001b[36mbootstrap_eval\u001b[0m:\u001b[36m303\u001b[0m - \u001b[34m\u001b[1mCalculate scores from bootstrapping 200 times\u001b[0m\n",
      "\u001b[32m2024-05-22 13:42:52.785\u001b[0m | \u001b[34m\u001b[1mDEBUG   \u001b[0m | \u001b[36mCRFWrapper\u001b[0m:\u001b[36mbootstrap_eval\u001b[0m:\u001b[36m313\u001b[0m - \u001b[34m\u001b[1mcomplete\u001b[0m\n",
      "\u001b[32m2024-05-22 13:42:52.905\u001b[0m | \u001b[34m\u001b[1mDEBUG   \u001b[0m | \u001b[36mALSampler\u001b[0m:\u001b[36msimulate_rounds\u001b[0m:\u001b[36m64\u001b[0m - \u001b[34m\u001b[1m{'precision': 0.9459211614216876, 'recall': 0.8596433709480625, 'f1': 0.9007189686376789}\u001b[0m\n"
     ]
    }
   ],
   "source": [
    "scores=m_simulator.simulate_rounds()"
   ]
  },
  {
   "cell_type": "code",
   "execution_count": 14,
   "id": "c909a29a-29f4-4a98-a698-782d85c1fd1a",
   "metadata": {},
   "outputs": [],
   "source": [
    "def compute_mean_ci(scores):\n",
    "    ave=np.mean(scores)\n",
    "    ci=np.percentile(scores, [2.5, 97.5])\n",
    "    return ave, ci\n",
    "\n",
    "summary={'precision': [], 'pl':[], 'pu': [], 'recall': [], 'rl':[], 'ru': [], 'f1':[], 'fl':[], 'fu': []}\n",
    "for s in scores:    \n",
    "    for k,v in s.items():\n",
    "        ave, (l, u)=compute_mean_ci(v)\n",
    "        summary[k].append(ave)\n",
    "        summary[k[0]+'l'].append(l)\n",
    "        summary[k[0]+'u'].append(u)\n"
   ]
  },
  {
   "cell_type": "code",
   "execution_count": 15,
   "id": "ef755c0a-2def-498e-a42b-9bd858b164be",
   "metadata": {},
   "outputs": [],
   "source": [
    "pd.options.display.float_format='{:,.4f}'.format"
   ]
  },
  {
   "cell_type": "code",
   "execution_count": 16,
   "id": "4232d31c-9d9f-44bc-8a21-e87889df420f",
   "metadata": {},
   "outputs": [
    {
     "data": {
      "text/html": [
       "<div>\n",
       "<style scoped>\n",
       "    .dataframe tbody tr th:only-of-type {\n",
       "        vertical-align: middle;\n",
       "    }\n",
       "\n",
       "    .dataframe tbody tr th {\n",
       "        vertical-align: top;\n",
       "    }\n",
       "\n",
       "    .dataframe thead th {\n",
       "        text-align: right;\n",
       "    }\n",
       "</style>\n",
       "<table border=\"1\" class=\"dataframe\">\n",
       "  <thead>\n",
       "    <tr style=\"text-align: right;\">\n",
       "      <th></th>\n",
       "      <th>precision</th>\n",
       "      <th>pl</th>\n",
       "      <th>pu</th>\n",
       "      <th>recall</th>\n",
       "      <th>rl</th>\n",
       "      <th>ru</th>\n",
       "      <th>f1</th>\n",
       "      <th>fl</th>\n",
       "      <th>fu</th>\n",
       "    </tr>\n",
       "  </thead>\n",
       "  <tbody>\n",
       "    <tr>\n",
       "      <th>0</th>\n",
       "      <td>0.9437</td>\n",
       "      <td>0.9399</td>\n",
       "      <td>0.9471</td>\n",
       "      <td>0.7790</td>\n",
       "      <td>0.7721</td>\n",
       "      <td>0.7856</td>\n",
       "      <td>0.8535</td>\n",
       "      <td>0.8489</td>\n",
       "      <td>0.8579</td>\n",
       "    </tr>\n",
       "    <tr>\n",
       "      <th>1</th>\n",
       "      <td>0.9454</td>\n",
       "      <td>0.9421</td>\n",
       "      <td>0.9485</td>\n",
       "      <td>0.8093</td>\n",
       "      <td>0.8027</td>\n",
       "      <td>0.8151</td>\n",
       "      <td>0.8721</td>\n",
       "      <td>0.8674</td>\n",
       "      <td>0.8762</td>\n",
       "    </tr>\n",
       "    <tr>\n",
       "      <th>2</th>\n",
       "      <td>0.9452</td>\n",
       "      <td>0.9414</td>\n",
       "      <td>0.9484</td>\n",
       "      <td>0.8272</td>\n",
       "      <td>0.8217</td>\n",
       "      <td>0.8329</td>\n",
       "      <td>0.8822</td>\n",
       "      <td>0.8782</td>\n",
       "      <td>0.8865</td>\n",
       "    </tr>\n",
       "    <tr>\n",
       "      <th>3</th>\n",
       "      <td>0.9461</td>\n",
       "      <td>0.9431</td>\n",
       "      <td>0.9494</td>\n",
       "      <td>0.8371</td>\n",
       "      <td>0.8314</td>\n",
       "      <td>0.8433</td>\n",
       "      <td>0.8883</td>\n",
       "      <td>0.8847</td>\n",
       "      <td>0.8928</td>\n",
       "    </tr>\n",
       "    <tr>\n",
       "      <th>4</th>\n",
       "      <td>0.9448</td>\n",
       "      <td>0.9417</td>\n",
       "      <td>0.9481</td>\n",
       "      <td>0.8444</td>\n",
       "      <td>0.8389</td>\n",
       "      <td>0.8496</td>\n",
       "      <td>0.8918</td>\n",
       "      <td>0.8879</td>\n",
       "      <td>0.8958</td>\n",
       "    </tr>\n",
       "    <tr>\n",
       "      <th>5</th>\n",
       "      <td>0.9444</td>\n",
       "      <td>0.9408</td>\n",
       "      <td>0.9478</td>\n",
       "      <td>0.8527</td>\n",
       "      <td>0.8477</td>\n",
       "      <td>0.8583</td>\n",
       "      <td>0.8962</td>\n",
       "      <td>0.8926</td>\n",
       "      <td>0.9000</td>\n",
       "    </tr>\n",
       "    <tr>\n",
       "      <th>6</th>\n",
       "      <td>0.9471</td>\n",
       "      <td>0.9437</td>\n",
       "      <td>0.9502</td>\n",
       "      <td>0.8529</td>\n",
       "      <td>0.8478</td>\n",
       "      <td>0.8583</td>\n",
       "      <td>0.8976</td>\n",
       "      <td>0.8936</td>\n",
       "      <td>0.9011</td>\n",
       "    </tr>\n",
       "    <tr>\n",
       "      <th>7</th>\n",
       "      <td>0.9450</td>\n",
       "      <td>0.9418</td>\n",
       "      <td>0.9483</td>\n",
       "      <td>0.8572</td>\n",
       "      <td>0.8524</td>\n",
       "      <td>0.8629</td>\n",
       "      <td>0.8990</td>\n",
       "      <td>0.8953</td>\n",
       "      <td>0.9027</td>\n",
       "    </tr>\n",
       "    <tr>\n",
       "      <th>8</th>\n",
       "      <td>0.9482</td>\n",
       "      <td>0.9448</td>\n",
       "      <td>0.9511</td>\n",
       "      <td>0.8571</td>\n",
       "      <td>0.8522</td>\n",
       "      <td>0.8625</td>\n",
       "      <td>0.9003</td>\n",
       "      <td>0.8965</td>\n",
       "      <td>0.9040</td>\n",
       "    </tr>\n",
       "    <tr>\n",
       "      <th>9</th>\n",
       "      <td>0.9459</td>\n",
       "      <td>0.9427</td>\n",
       "      <td>0.9490</td>\n",
       "      <td>0.8596</td>\n",
       "      <td>0.8551</td>\n",
       "      <td>0.8649</td>\n",
       "      <td>0.9007</td>\n",
       "      <td>0.8972</td>\n",
       "      <td>0.9046</td>\n",
       "    </tr>\n",
       "  </tbody>\n",
       "</table>\n",
       "</div>"
      ],
      "text/plain": [
       "   precision     pl     pu  recall     rl     ru     f1     fl     fu\n",
       "0     0.9437 0.9399 0.9471  0.7790 0.7721 0.7856 0.8535 0.8489 0.8579\n",
       "1     0.9454 0.9421 0.9485  0.8093 0.8027 0.8151 0.8721 0.8674 0.8762\n",
       "2     0.9452 0.9414 0.9484  0.8272 0.8217 0.8329 0.8822 0.8782 0.8865\n",
       "3     0.9461 0.9431 0.9494  0.8371 0.8314 0.8433 0.8883 0.8847 0.8928\n",
       "4     0.9448 0.9417 0.9481  0.8444 0.8389 0.8496 0.8918 0.8879 0.8958\n",
       "5     0.9444 0.9408 0.9478  0.8527 0.8477 0.8583 0.8962 0.8926 0.9000\n",
       "6     0.9471 0.9437 0.9502  0.8529 0.8478 0.8583 0.8976 0.8936 0.9011\n",
       "7     0.9450 0.9418 0.9483  0.8572 0.8524 0.8629 0.8990 0.8953 0.9027\n",
       "8     0.9482 0.9448 0.9511  0.8571 0.8522 0.8625 0.9003 0.8965 0.9040\n",
       "9     0.9459 0.9427 0.9490  0.8596 0.8551 0.8649 0.9007 0.8972 0.9046"
      ]
     },
     "execution_count": 16,
     "metadata": {},
     "output_type": "execute_result"
    }
   ],
   "source": [
    "pd.DataFrame(summary)"
   ]
  },
  {
   "cell_type": "markdown",
   "id": "f4b51bd0-6d3e-4141-b4f3-415e27d84914",
   "metadata": {},
   "source": [
    "## Bootstrap 3 different initials runs"
   ]
  },
  {
   "cell_type": "code",
   "execution_count": 17,
   "id": "e1b6a7cf-9b75-42ca-ae75-4417a360d52f",
   "metadata": {},
   "outputs": [],
   "source": [
    "boostrap_runs=3\n",
    "total_round=10"
   ]
  },
  {
   "cell_type": "code",
   "execution_count": 18,
   "id": "ae0cbdbc-d3fa-4388-b3ec-beb675d3ef00",
   "metadata": {},
   "outputs": [
    {
     "data": {
      "text/plain": [
       "1"
      ]
     },
     "execution_count": 18,
     "metadata": {},
     "output_type": "execute_result"
    }
   ],
   "source": [
    "logger.remove()\n",
    "logger.add(sys.stderr, level='INFO')"
   ]
  },
  {
   "cell_type": "code",
   "execution_count": 19,
   "id": "fb1ecb94-8454-4765-ae6e-aeeb6d501e3f",
   "metadata": {},
   "outputs": [
    {
     "data": {
      "text/plain": [
       "[1792286, 8843471, 4142887]"
      ]
     },
     "execution_count": 19,
     "metadata": {},
     "output_type": "execute_result"
    }
   ],
   "source": [
    "random.seed(14)\n",
    "seeds=[random.randint(1,10000000) for  _ in range(boostrap_runs)]\n",
    "seeds"
   ]
  },
  {
   "cell_type": "code",
   "execution_count": 20,
   "id": "29beb899-99be-45da-9a06-cb34f5031980",
   "metadata": {},
   "outputs": [
    {
     "name": "stderr",
     "output_type": "stream",
     "text": [
      "\u001b[32m2024-05-22 13:42:53.116\u001b[0m | \u001b[1mINFO    \u001b[0m | \u001b[36m__main__\u001b[0m:\u001b[36m<module>\u001b[0m:\u001b[36m3\u001b[0m - \u001b[1mstart run 0.\u001b[0m\n",
      "\u001b[32m2024-05-22 13:42:53.125\u001b[0m | \u001b[1mINFO    \u001b[0m | \u001b[36mALSampler\u001b[0m:\u001b[36msimulate_rounds\u001b[0m:\u001b[36m53\u001b[0m - \u001b[1msimulate round 0.\u001b[0m\n",
      "\u001b[32m2024-05-22 13:42:53.127\u001b[0m | \u001b[1mINFO    \u001b[0m | \u001b[36mALSampler\u001b[0m:\u001b[36mkeep_sample\u001b[0m:\u001b[36m43\u001b[0m - \u001b[1mcurrent sampled: 30, remaining: 273\u001b[0m\n",
      "\u001b[32m2024-05-22 13:48:27.179\u001b[0m | \u001b[1mINFO    \u001b[0m | \u001b[36mALSampler\u001b[0m:\u001b[36msimulate_rounds\u001b[0m:\u001b[36m53\u001b[0m - \u001b[1msimulate round 1.\u001b[0m\n",
      "\u001b[32m2024-05-22 13:49:41.466\u001b[0m | \u001b[1mINFO    \u001b[0m | \u001b[36mALSampler\u001b[0m:\u001b[36mkeep_sample\u001b[0m:\u001b[36m43\u001b[0m - \u001b[1mcurrent sampled: 60, remaining: 243\u001b[0m\n",
      "\u001b[32m2024-05-22 13:56:55.923\u001b[0m | \u001b[1mINFO    \u001b[0m | \u001b[36mALSampler\u001b[0m:\u001b[36msimulate_rounds\u001b[0m:\u001b[36m53\u001b[0m - \u001b[1msimulate round 2.\u001b[0m\n",
      "\u001b[32m2024-05-22 13:57:58.822\u001b[0m | \u001b[1mINFO    \u001b[0m | \u001b[36mALSampler\u001b[0m:\u001b[36mkeep_sample\u001b[0m:\u001b[36m43\u001b[0m - \u001b[1mcurrent sampled: 90, remaining: 213\u001b[0m\n",
      "\u001b[32m2024-05-22 14:06:14.908\u001b[0m | \u001b[1mINFO    \u001b[0m | \u001b[36mALSampler\u001b[0m:\u001b[36msimulate_rounds\u001b[0m:\u001b[36m53\u001b[0m - \u001b[1msimulate round 3.\u001b[0m\n",
      "\u001b[32m2024-05-22 14:07:09.660\u001b[0m | \u001b[1mINFO    \u001b[0m | \u001b[36mALSampler\u001b[0m:\u001b[36mkeep_sample\u001b[0m:\u001b[36m43\u001b[0m - \u001b[1mcurrent sampled: 120, remaining: 183\u001b[0m\n",
      "\u001b[32m2024-05-22 14:16:27.401\u001b[0m | \u001b[1mINFO    \u001b[0m | \u001b[36mALSampler\u001b[0m:\u001b[36msimulate_rounds\u001b[0m:\u001b[36m53\u001b[0m - \u001b[1msimulate round 4.\u001b[0m\n",
      "\u001b[32m2024-05-22 14:17:14.261\u001b[0m | \u001b[1mINFO    \u001b[0m | \u001b[36mALSampler\u001b[0m:\u001b[36mkeep_sample\u001b[0m:\u001b[36m43\u001b[0m - \u001b[1mcurrent sampled: 150, remaining: 153\u001b[0m\n",
      "\u001b[32m2024-05-22 14:28:31.931\u001b[0m | \u001b[1mINFO    \u001b[0m | \u001b[36mALSampler\u001b[0m:\u001b[36msimulate_rounds\u001b[0m:\u001b[36m53\u001b[0m - \u001b[1msimulate round 5.\u001b[0m\n",
      "\u001b[32m2024-05-22 14:29:10.734\u001b[0m | \u001b[1mINFO    \u001b[0m | \u001b[36mALSampler\u001b[0m:\u001b[36mkeep_sample\u001b[0m:\u001b[36m43\u001b[0m - \u001b[1mcurrent sampled: 180, remaining: 123\u001b[0m\n",
      "\u001b[32m2024-05-22 14:41:28.409\u001b[0m | \u001b[1mINFO    \u001b[0m | \u001b[36mALSampler\u001b[0m:\u001b[36msimulate_rounds\u001b[0m:\u001b[36m53\u001b[0m - \u001b[1msimulate round 6.\u001b[0m\n",
      "\u001b[32m2024-05-22 14:41:54.346\u001b[0m | \u001b[1mINFO    \u001b[0m | \u001b[36mALSampler\u001b[0m:\u001b[36mkeep_sample\u001b[0m:\u001b[36m43\u001b[0m - \u001b[1mcurrent sampled: 210, remaining: 93\u001b[0m\n",
      "\u001b[32m2024-05-22 14:54:59.480\u001b[0m | \u001b[1mINFO    \u001b[0m | \u001b[36mALSampler\u001b[0m:\u001b[36msimulate_rounds\u001b[0m:\u001b[36m53\u001b[0m - \u001b[1msimulate round 7.\u001b[0m\n",
      "\u001b[32m2024-05-22 14:55:19.951\u001b[0m | \u001b[1mINFO    \u001b[0m | \u001b[36mALSampler\u001b[0m:\u001b[36mkeep_sample\u001b[0m:\u001b[36m43\u001b[0m - \u001b[1mcurrent sampled: 240, remaining: 63\u001b[0m\n",
      "\u001b[32m2024-05-22 15:09:00.457\u001b[0m | \u001b[1mINFO    \u001b[0m | \u001b[36mALSampler\u001b[0m:\u001b[36msimulate_rounds\u001b[0m:\u001b[36m53\u001b[0m - \u001b[1msimulate round 8.\u001b[0m\n",
      "\u001b[32m2024-05-22 15:09:12.618\u001b[0m | \u001b[1mINFO    \u001b[0m | \u001b[36mALSampler\u001b[0m:\u001b[36mkeep_sample\u001b[0m:\u001b[36m43\u001b[0m - \u001b[1mcurrent sampled: 270, remaining: 33\u001b[0m\n",
      "\u001b[32m2024-05-22 15:24:07.002\u001b[0m | \u001b[1mINFO    \u001b[0m | \u001b[36mALSampler\u001b[0m:\u001b[36msimulate_rounds\u001b[0m:\u001b[36m53\u001b[0m - \u001b[1msimulate round 9.\u001b[0m\n",
      "\u001b[32m2024-05-22 15:24:13.075\u001b[0m | \u001b[1mINFO    \u001b[0m | \u001b[36mALSampler\u001b[0m:\u001b[36mkeep_sample\u001b[0m:\u001b[36m43\u001b[0m - \u001b[1mcurrent sampled: 300, remaining: 3\u001b[0m\n",
      "\u001b[32m2024-05-22 15:24:13.078\u001b[0m | \u001b[1mINFO    \u001b[0m | \u001b[36mALSampler\u001b[0m:\u001b[36msimulate_rounds\u001b[0m:\u001b[36m58\u001b[0m - \u001b[1mIt's the last round, now add all docs to sampled.\u001b[0m\n",
      "\u001b[32m2024-05-22 15:40:08.102\u001b[0m | \u001b[1mINFO    \u001b[0m | \u001b[36m__main__\u001b[0m:\u001b[36m<module>\u001b[0m:\u001b[36m3\u001b[0m - \u001b[1mstart run 1.\u001b[0m\n",
      "\u001b[32m2024-05-22 15:40:08.114\u001b[0m | \u001b[1mINFO    \u001b[0m | \u001b[36mALSampler\u001b[0m:\u001b[36msimulate_rounds\u001b[0m:\u001b[36m53\u001b[0m - \u001b[1msimulate round 0.\u001b[0m\n",
      "\u001b[32m2024-05-22 15:40:08.115\u001b[0m | \u001b[1mINFO    \u001b[0m | \u001b[36mALSampler\u001b[0m:\u001b[36mkeep_sample\u001b[0m:\u001b[36m43\u001b[0m - \u001b[1mcurrent sampled: 30, remaining: 273\u001b[0m\n",
      "\u001b[32m2024-05-22 15:45:55.839\u001b[0m | \u001b[1mINFO    \u001b[0m | \u001b[36mALSampler\u001b[0m:\u001b[36msimulate_rounds\u001b[0m:\u001b[36m53\u001b[0m - \u001b[1msimulate round 1.\u001b[0m\n",
      "\u001b[32m2024-05-22 15:47:11.089\u001b[0m | \u001b[1mINFO    \u001b[0m | \u001b[36mALSampler\u001b[0m:\u001b[36mkeep_sample\u001b[0m:\u001b[36m43\u001b[0m - \u001b[1mcurrent sampled: 60, remaining: 243\u001b[0m\n",
      "\u001b[32m2024-05-22 15:54:33.500\u001b[0m | \u001b[1mINFO    \u001b[0m | \u001b[36mALSampler\u001b[0m:\u001b[36msimulate_rounds\u001b[0m:\u001b[36m53\u001b[0m - \u001b[1msimulate round 2.\u001b[0m\n",
      "\u001b[32m2024-05-22 15:55:38.012\u001b[0m | \u001b[1mINFO    \u001b[0m | \u001b[36mALSampler\u001b[0m:\u001b[36mkeep_sample\u001b[0m:\u001b[36m43\u001b[0m - \u001b[1mcurrent sampled: 90, remaining: 213\u001b[0m\n",
      "\u001b[32m2024-05-22 16:04:05.391\u001b[0m | \u001b[1mINFO    \u001b[0m | \u001b[36mALSampler\u001b[0m:\u001b[36msimulate_rounds\u001b[0m:\u001b[36m53\u001b[0m - \u001b[1msimulate round 3.\u001b[0m\n",
      "\u001b[32m2024-05-22 16:05:00.015\u001b[0m | \u001b[1mINFO    \u001b[0m | \u001b[36mALSampler\u001b[0m:\u001b[36mkeep_sample\u001b[0m:\u001b[36m43\u001b[0m - \u001b[1mcurrent sampled: 120, remaining: 183\u001b[0m\n",
      "\u001b[32m2024-05-22 16:14:25.204\u001b[0m | \u001b[1mINFO    \u001b[0m | \u001b[36mALSampler\u001b[0m:\u001b[36msimulate_rounds\u001b[0m:\u001b[36m53\u001b[0m - \u001b[1msimulate round 4.\u001b[0m\n",
      "\u001b[32m2024-05-22 16:15:11.282\u001b[0m | \u001b[1mINFO    \u001b[0m | \u001b[36mALSampler\u001b[0m:\u001b[36mkeep_sample\u001b[0m:\u001b[36m43\u001b[0m - \u001b[1mcurrent sampled: 150, remaining: 153\u001b[0m\n",
      "\u001b[32m2024-05-22 16:26:17.120\u001b[0m | \u001b[1mINFO    \u001b[0m | \u001b[36mALSampler\u001b[0m:\u001b[36msimulate_rounds\u001b[0m:\u001b[36m53\u001b[0m - \u001b[1msimulate round 5.\u001b[0m\n",
      "\u001b[32m2024-05-22 16:26:53.610\u001b[0m | \u001b[1mINFO    \u001b[0m | \u001b[36mALSampler\u001b[0m:\u001b[36mkeep_sample\u001b[0m:\u001b[36m43\u001b[0m - \u001b[1mcurrent sampled: 180, remaining: 123\u001b[0m\n",
      "\u001b[32m2024-05-22 16:39:06.815\u001b[0m | \u001b[1mINFO    \u001b[0m | \u001b[36mALSampler\u001b[0m:\u001b[36msimulate_rounds\u001b[0m:\u001b[36m53\u001b[0m - \u001b[1msimulate round 6.\u001b[0m\n",
      "\u001b[32m2024-05-22 16:39:33.968\u001b[0m | \u001b[1mINFO    \u001b[0m | \u001b[36mALSampler\u001b[0m:\u001b[36mkeep_sample\u001b[0m:\u001b[36m43\u001b[0m - \u001b[1mcurrent sampled: 210, remaining: 93\u001b[0m\n",
      "\u001b[32m2024-05-22 16:52:42.188\u001b[0m | \u001b[1mINFO    \u001b[0m | \u001b[36mALSampler\u001b[0m:\u001b[36msimulate_rounds\u001b[0m:\u001b[36m53\u001b[0m - \u001b[1msimulate round 7.\u001b[0m\n",
      "\u001b[32m2024-05-22 16:53:02.114\u001b[0m | \u001b[1mINFO    \u001b[0m | \u001b[36mALSampler\u001b[0m:\u001b[36mkeep_sample\u001b[0m:\u001b[36m43\u001b[0m - \u001b[1mcurrent sampled: 240, remaining: 63\u001b[0m\n",
      "\u001b[32m2024-05-22 17:06:44.871\u001b[0m | \u001b[1mINFO    \u001b[0m | \u001b[36mALSampler\u001b[0m:\u001b[36msimulate_rounds\u001b[0m:\u001b[36m53\u001b[0m - \u001b[1msimulate round 8.\u001b[0m\n",
      "\u001b[32m2024-05-22 17:06:55.588\u001b[0m | \u001b[1mINFO    \u001b[0m | \u001b[36mALSampler\u001b[0m:\u001b[36mkeep_sample\u001b[0m:\u001b[36m43\u001b[0m - \u001b[1mcurrent sampled: 270, remaining: 33\u001b[0m\n",
      "\u001b[32m2024-05-22 17:20:59.517\u001b[0m | \u001b[1mINFO    \u001b[0m | \u001b[36mALSampler\u001b[0m:\u001b[36msimulate_rounds\u001b[0m:\u001b[36m53\u001b[0m - \u001b[1msimulate round 9.\u001b[0m\n",
      "\u001b[32m2024-05-22 17:21:05.248\u001b[0m | \u001b[1mINFO    \u001b[0m | \u001b[36mALSampler\u001b[0m:\u001b[36mkeep_sample\u001b[0m:\u001b[36m43\u001b[0m - \u001b[1mcurrent sampled: 300, remaining: 3\u001b[0m\n",
      "\u001b[32m2024-05-22 17:21:05.250\u001b[0m | \u001b[1mINFO    \u001b[0m | \u001b[36mALSampler\u001b[0m:\u001b[36msimulate_rounds\u001b[0m:\u001b[36m58\u001b[0m - \u001b[1mIt's the last round, now add all docs to sampled.\u001b[0m\n",
      "\u001b[32m2024-05-22 17:35:46.583\u001b[0m | \u001b[1mINFO    \u001b[0m | \u001b[36m__main__\u001b[0m:\u001b[36m<module>\u001b[0m:\u001b[36m3\u001b[0m - \u001b[1mstart run 2.\u001b[0m\n",
      "\u001b[32m2024-05-22 17:35:46.594\u001b[0m | \u001b[1mINFO    \u001b[0m | \u001b[36mALSampler\u001b[0m:\u001b[36msimulate_rounds\u001b[0m:\u001b[36m53\u001b[0m - \u001b[1msimulate round 0.\u001b[0m\n",
      "\u001b[32m2024-05-22 17:35:46.596\u001b[0m | \u001b[1mINFO    \u001b[0m | \u001b[36mALSampler\u001b[0m:\u001b[36mkeep_sample\u001b[0m:\u001b[36m43\u001b[0m - \u001b[1mcurrent sampled: 30, remaining: 273\u001b[0m\n",
      "\u001b[32m2024-05-22 17:40:53.393\u001b[0m | \u001b[1mINFO    \u001b[0m | \u001b[36mALSampler\u001b[0m:\u001b[36msimulate_rounds\u001b[0m:\u001b[36m53\u001b[0m - \u001b[1msimulate round 1.\u001b[0m\n",
      "\u001b[32m2024-05-22 17:41:56.630\u001b[0m | \u001b[1mINFO    \u001b[0m | \u001b[36mALSampler\u001b[0m:\u001b[36mkeep_sample\u001b[0m:\u001b[36m43\u001b[0m - \u001b[1mcurrent sampled: 60, remaining: 243\u001b[0m\n",
      "\u001b[32m2024-05-22 17:48:33.179\u001b[0m | \u001b[1mINFO    \u001b[0m | \u001b[36mALSampler\u001b[0m:\u001b[36msimulate_rounds\u001b[0m:\u001b[36m53\u001b[0m - \u001b[1msimulate round 2.\u001b[0m\n",
      "\u001b[32m2024-05-22 17:49:27.039\u001b[0m | \u001b[1mINFO    \u001b[0m | \u001b[36mALSampler\u001b[0m:\u001b[36mkeep_sample\u001b[0m:\u001b[36m43\u001b[0m - \u001b[1mcurrent sampled: 90, remaining: 213\u001b[0m\n",
      "\u001b[32m2024-05-22 17:56:42.594\u001b[0m | \u001b[1mINFO    \u001b[0m | \u001b[36mALSampler\u001b[0m:\u001b[36msimulate_rounds\u001b[0m:\u001b[36m53\u001b[0m - \u001b[1msimulate round 3.\u001b[0m\n",
      "\u001b[32m2024-05-22 17:57:29.019\u001b[0m | \u001b[1mINFO    \u001b[0m | \u001b[36mALSampler\u001b[0m:\u001b[36mkeep_sample\u001b[0m:\u001b[36m43\u001b[0m - \u001b[1mcurrent sampled: 120, remaining: 183\u001b[0m\n",
      "\u001b[32m2024-05-22 18:06:53.722\u001b[0m | \u001b[1mINFO    \u001b[0m | \u001b[36mALSampler\u001b[0m:\u001b[36msimulate_rounds\u001b[0m:\u001b[36m53\u001b[0m - \u001b[1msimulate round 4.\u001b[0m\n",
      "\u001b[32m2024-05-22 18:07:40.122\u001b[0m | \u001b[1mINFO    \u001b[0m | \u001b[36mALSampler\u001b[0m:\u001b[36mkeep_sample\u001b[0m:\u001b[36m43\u001b[0m - \u001b[1mcurrent sampled: 150, remaining: 153\u001b[0m\n",
      "\u001b[32m2024-05-22 18:18:15.154\u001b[0m | \u001b[1mINFO    \u001b[0m | \u001b[36mALSampler\u001b[0m:\u001b[36msimulate_rounds\u001b[0m:\u001b[36m53\u001b[0m - \u001b[1msimulate round 5.\u001b[0m\n",
      "\u001b[32m2024-05-22 18:18:51.266\u001b[0m | \u001b[1mINFO    \u001b[0m | \u001b[36mALSampler\u001b[0m:\u001b[36mkeep_sample\u001b[0m:\u001b[36m43\u001b[0m - \u001b[1mcurrent sampled: 180, remaining: 123\u001b[0m\n",
      "\u001b[32m2024-05-22 18:30:52.739\u001b[0m | \u001b[1mINFO    \u001b[0m | \u001b[36mALSampler\u001b[0m:\u001b[36msimulate_rounds\u001b[0m:\u001b[36m53\u001b[0m - \u001b[1msimulate round 6.\u001b[0m\n",
      "\u001b[32m2024-05-22 18:31:18.847\u001b[0m | \u001b[1mINFO    \u001b[0m | \u001b[36mALSampler\u001b[0m:\u001b[36mkeep_sample\u001b[0m:\u001b[36m43\u001b[0m - \u001b[1mcurrent sampled: 210, remaining: 93\u001b[0m\n",
      "\u001b[32m2024-05-22 18:43:57.791\u001b[0m | \u001b[1mINFO    \u001b[0m | \u001b[36mALSampler\u001b[0m:\u001b[36msimulate_rounds\u001b[0m:\u001b[36m53\u001b[0m - \u001b[1msimulate round 7.\u001b[0m\n",
      "\u001b[32m2024-05-22 18:44:17.179\u001b[0m | \u001b[1mINFO    \u001b[0m | \u001b[36mALSampler\u001b[0m:\u001b[36mkeep_sample\u001b[0m:\u001b[36m43\u001b[0m - \u001b[1mcurrent sampled: 240, remaining: 63\u001b[0m\n",
      "\u001b[32m2024-05-22 18:58:20.851\u001b[0m | \u001b[1mINFO    \u001b[0m | \u001b[36mALSampler\u001b[0m:\u001b[36msimulate_rounds\u001b[0m:\u001b[36m53\u001b[0m - \u001b[1msimulate round 8.\u001b[0m\n",
      "\u001b[32m2024-05-22 18:58:33.975\u001b[0m | \u001b[1mINFO    \u001b[0m | \u001b[36mALSampler\u001b[0m:\u001b[36mkeep_sample\u001b[0m:\u001b[36m43\u001b[0m - \u001b[1mcurrent sampled: 270, remaining: 33\u001b[0m\n",
      "\u001b[32m2024-05-22 19:13:17.799\u001b[0m | \u001b[1mINFO    \u001b[0m | \u001b[36mALSampler\u001b[0m:\u001b[36msimulate_rounds\u001b[0m:\u001b[36m53\u001b[0m - \u001b[1msimulate round 9.\u001b[0m\n",
      "\u001b[32m2024-05-22 19:13:23.558\u001b[0m | \u001b[1mINFO    \u001b[0m | \u001b[36mALSampler\u001b[0m:\u001b[36mkeep_sample\u001b[0m:\u001b[36m43\u001b[0m - \u001b[1mcurrent sampled: 300, remaining: 3\u001b[0m\n",
      "\u001b[32m2024-05-22 19:13:23.560\u001b[0m | \u001b[1mINFO    \u001b[0m | \u001b[36mALSampler\u001b[0m:\u001b[36msimulate_rounds\u001b[0m:\u001b[36m58\u001b[0m - \u001b[1mIt's the last round, now add all docs to sampled.\u001b[0m\n"
     ]
    }
   ],
   "source": [
    "all_scores=[]\n",
    "for si, seed  in enumerate(seeds):\n",
    "    logger.info(f'start run {si}.')\n",
    "    crf_model=CRFModel(anno_types=annos)\n",
    "    m_simulator=ModelSamplingSimulator(train_docs, total_round=total_round, modelWrapper=crf_model, eval_docs=test_docs, init_seed=seed)\n",
    "    scores=m_simulator.simulate_rounds()\n",
    "    all_scores.append(scores) "
   ]
  },
  {
   "cell_type": "code",
   "execution_count": 22,
   "id": "c87e3bad-fb84-4ae7-bf45-d59e830396ab",
   "metadata": {
    "scrolled": true
   },
   "outputs": [
    {
     "data": {
      "text/plain": [
       "['..\\\\data\\\\vb_sampling\\\\ner_crf_scores.joblib']"
      ]
     },
     "execution_count": 22,
     "metadata": {},
     "output_type": "execute_result"
    }
   ],
   "source": [
    "joblib.dump(all_scores, r'..\\data\\vb_sampling\\ner_crf_scores.joblib')"
   ]
  },
  {
   "cell_type": "code",
   "execution_count": null,
   "id": "b47650d3-234b-4e21-95f6-f4651fdb4df0",
   "metadata": {},
   "outputs": [],
   "source": []
  }
 ],
 "metadata": {
  "kernelspec": {
   "display_name": "Python 3 (ipykernel)",
   "language": "python",
   "name": "python3"
  },
  "language_info": {
   "codemirror_mode": {
    "name": "ipython",
    "version": 3
   },
   "file_extension": ".py",
   "mimetype": "text/x-python",
   "name": "python",
   "nbconvert_exporter": "python",
   "pygments_lexer": "ipython3",
   "version": "3.8.18"
  }
 },
 "nbformat": 4,
 "nbformat_minor": 5
}
