{
 "cells": [
  {
   "cell_type": "code",
   "execution_count": 1,
   "id": "1d06fd2f-0f58-4378-93c8-7de06105d6ab",
   "metadata": {},
   "outputs": [],
   "source": [
    "import sklearn_crfsuite\n",
    "from sklearn_crfsuite.metrics import flat_f1_score\n",
    "from sklearn_crfsuite import CRF\n",
    "from sklearn.model_selection import train_test_split\n",
    "import pandas as pd\n",
    "import numpy as np\n",
    "from spacy.lang.en import English\n",
    "from spacy import displacy\n",
    "from pathlib import Path\n",
    "import joblib\n",
    "from spacy.tokens import Doc\n",
    "from typing import List\n",
    "import random\n",
    "from statistics import mean, stdev\n",
    "from loguru import logger\n",
    "import sys\n",
    "import spacy\n",
    "from medspacy_io.reader.brat_reader import BratDocReader, BratDirReader\n",
    "import medspacy"
   ]
  },
  {
   "cell_type": "markdown",
   "id": "c4ebcc40-cce9-4850-994e-88e7676001aa",
   "metadata": {},
   "source": [
    "## Initiate Brat Reader"
   ]
  },
  {
   "cell_type": "code",
   "execution_count": 2,
   "id": "f46d89db-4564-4ed9-80b2-63f50917632b",
   "metadata": {},
   "outputs": [
    {
     "data": {
      "text/plain": [
       "(True, True)"
      ]
     },
     "execution_count": 2,
     "metadata": {},
     "output_type": "execute_result"
    }
   ],
   "source": [
    "cleaned_train_dir=r'..\\data\\n2c2\\cleaned_training'\n",
    "cleaned_test_dir=r'..\\data\\n2c2\\cleaned_test'\n",
    "Path(cleaned_train_dir).exists(), Path(cleaned_test_dir).exists()"
   ]
  },
  {
   "cell_type": "code",
   "execution_count": 3,
   "id": "f14a9e8e-beaa-46a7-9746-45a519024166",
   "metadata": {},
   "outputs": [],
   "source": [
    "nlp=spacy.load('en_core_web_sm', disable=['ner'])"
   ]
  },
  {
   "cell_type": "code",
   "execution_count": 4,
   "id": "a492fdb2-6746-47ab-848f-ee7205d70ecf",
   "metadata": {},
   "outputs": [],
   "source": [
    "dir_reader = BratDirReader(nlp=nlp, schema_file=str(Path(cleaned_train_dir, 'annotation.conf')), support_overlap=True)"
   ]
  },
  {
   "cell_type": "markdown",
   "id": "3bddc4d1-7c89-4aed-a23d-dbfb9b252052",
   "metadata": {},
   "source": [
    "## Read Brat annotations | load from pickles"
   ]
  },
  {
   "cell_type": "code",
   "execution_count": 5,
   "id": "a3977d19-a168-4227-b5aa-4149ab8fb257",
   "metadata": {},
   "outputs": [],
   "source": [
    "pickle_file= r'..\\data\\n2c2\\spacy_docs.joblib'"
   ]
  },
  {
   "cell_type": "code",
   "execution_count": 6,
   "id": "b9e1ec19-15bb-428a-b4a3-6f93d960fdd3",
   "metadata": {},
   "outputs": [
    {
     "name": "stdout",
     "output_type": "stream",
     "text": [
      "..\\data\\n2c2\\spacy_docs.joblib already exists, load them directly\n"
     ]
    }
   ],
   "source": [
    "if not Path(pickle_file).exists():\n",
    "    train_docs=dir_reader.read(txt_dir=cleaned_train_dir)\n",
    "    test_docs=dir_reader.read(txt_dir=cleaned_test_dir)\n",
    "    print(len(train_docs), len(test_docs))\n",
    "    joblib.dump((train_docs, test_docs), pickle_file)\n",
    "else:\n",
    "    print(f'{pickle_file} already exists, load them directly')\n",
    "    # before load from pickle, initiate EhostDirReader or EhostDocReader first, because some Doc extension used to store meta data will not be automatically recreated by loading.\n",
    "    train_docs, test_docs=joblib.load(pickle_file)"
   ]
  },
  {
   "cell_type": "markdown",
   "id": "fa734e16-0b79-4962-a847-70dff5dcd65b",
   "metadata": {},
   "source": [
    "## Define sampling function"
   ]
  },
  {
   "cell_type": "code",
   "execution_count": 7,
   "id": "bbbb3c59-0b8b-4d21-97e5-82fba88ceba9",
   "metadata": {},
   "outputs": [],
   "source": [
    "rounds =10\n",
    "seed= 14"
   ]
  },
  {
   "cell_type": "code",
   "execution_count": 8,
   "id": "fbf9df2b-5afa-4fdb-bd73-6177eb07230d",
   "metadata": {},
   "outputs": [
    {
     "data": {
      "text/plain": [
       "(303, 202)"
      ]
     },
     "execution_count": 8,
     "metadata": {},
     "output_type": "execute_result"
    }
   ],
   "source": [
    "len(train_docs), len(test_docs)"
   ]
  },
  {
   "cell_type": "markdown",
   "id": "16ca4361-326c-43b2-ad20-235bfeb45e4e",
   "metadata": {},
   "source": [
    "## CRF Wrapper"
   ]
  },
  {
   "cell_type": "code",
   "execution_count": 9,
   "id": "457f3a47-5f7c-4f7d-bde9-8f770976949b",
   "metadata": {},
   "outputs": [],
   "source": [
    "from CRFWrapper_Sentence import spans_to_bio, convert_docs, word2features, sent2features,compute_metrics_and_averages,  CRFModel\n"
   ]
  },
  {
   "cell_type": "code",
   "execution_count": 10,
   "id": "08885eea-4455-44d2-8aba-e490de84d92b",
   "metadata": {},
   "outputs": [
    {
     "name": "stdout",
     "output_type": "stream",
     "text": [
      "{'Frequency', 'Duration', 'Route', 'Dosage', 'ADE', 'Drug', 'Strength', 'Reason', 'Form'}\n"
     ]
    }
   ],
   "source": [
    "## Get all annotation types: \n",
    "annos=set()\n",
    "for d in train_docs:\n",
    "    for anno in d.spans.keys():\n",
    "        annos.add(anno)\n",
    "print(annos)"
   ]
  },
  {
   "cell_type": "code",
   "execution_count": 11,
   "id": "81569176-1e88-4933-8320-d1550c06ff09",
   "metadata": {},
   "outputs": [],
   "source": [
    "crf_model=CRFModel(anno_types=annos)"
   ]
  },
  {
   "cell_type": "markdown",
   "id": "a034d2e9-eb8f-4c9a-9ff6-f80cb3d38692",
   "metadata": {},
   "source": [
    "## Convert training and testing docs into sentence level dataframe"
   ]
  },
  {
   "cell_type": "code",
   "execution_count": 12,
   "id": "2191a750-1f00-4ca5-af86-8c3ea3474583",
   "metadata": {},
   "outputs": [],
   "source": [
    "_, train_df=convert_docs(train_docs, anno_types=annos)"
   ]
  },
  {
   "cell_type": "code",
   "execution_count": 13,
   "id": "9004db6c-bb4e-4031-80d9-984574d583ec",
   "metadata": {},
   "outputs": [],
   "source": [
    "_, test_df=convert_docs(test_docs, anno_types=annos)"
   ]
  },
  {
   "cell_type": "code",
   "execution_count": 14,
   "id": "39bb6895-a0bd-4b23-9a39-cd99e157aad4",
   "metadata": {},
   "outputs": [
    {
     "data": {
      "text/html": [
       "<div>\n",
       "<style scoped>\n",
       "    .dataframe tbody tr th:only-of-type {\n",
       "        vertical-align: middle;\n",
       "    }\n",
       "\n",
       "    .dataframe tbody tr th {\n",
       "        vertical-align: top;\n",
       "    }\n",
       "\n",
       "    .dataframe thead th {\n",
       "        text-align: right;\n",
       "    }\n",
       "</style>\n",
       "<table border=\"1\" class=\"dataframe\">\n",
       "  <thead>\n",
       "    <tr style=\"text-align: right;\">\n",
       "      <th></th>\n",
       "      <th>sentence_id</th>\n",
       "      <th>doc_name</th>\n",
       "      <th>token</th>\n",
       "      <th>label</th>\n",
       "    </tr>\n",
       "  </thead>\n",
       "  <tbody>\n",
       "    <tr>\n",
       "      <th>0</th>\n",
       "      <td>0</td>\n",
       "      <td>100035.txt</td>\n",
       "      <td>Admission</td>\n",
       "      <td>O</td>\n",
       "    </tr>\n",
       "    <tr>\n",
       "      <th>1</th>\n",
       "      <td>0</td>\n",
       "      <td>100035.txt</td>\n",
       "      <td>Date</td>\n",
       "      <td>O</td>\n",
       "    </tr>\n",
       "    <tr>\n",
       "      <th>2</th>\n",
       "      <td>0</td>\n",
       "      <td>100035.txt</td>\n",
       "      <td>:</td>\n",
       "      <td>O</td>\n",
       "    </tr>\n",
       "    <tr>\n",
       "      <th>3</th>\n",
       "      <td>1</td>\n",
       "      <td>100035.txt</td>\n",
       "      <td>[</td>\n",
       "      <td>O</td>\n",
       "    </tr>\n",
       "    <tr>\n",
       "      <th>4</th>\n",
       "      <td>1</td>\n",
       "      <td>100035.txt</td>\n",
       "      <td>*</td>\n",
       "      <td>O</td>\n",
       "    </tr>\n",
       "    <tr>\n",
       "      <th>...</th>\n",
       "      <td>...</td>\n",
       "      <td>...</td>\n",
       "      <td>...</td>\n",
       "      <td>...</td>\n",
       "    </tr>\n",
       "    <tr>\n",
       "      <th>3151</th>\n",
       "      <td>929927</td>\n",
       "      <td>198406.txt</td>\n",
       "      <td>Followup</td>\n",
       "      <td>O</td>\n",
       "    </tr>\n",
       "    <tr>\n",
       "      <th>3152</th>\n",
       "      <td>929927</td>\n",
       "      <td>198406.txt</td>\n",
       "      <td>Instructions</td>\n",
       "      <td>O</td>\n",
       "    </tr>\n",
       "    <tr>\n",
       "      <th>3153</th>\n",
       "      <td>929927</td>\n",
       "      <td>198406.txt</td>\n",
       "      <td>:</td>\n",
       "      <td>O</td>\n",
       "    </tr>\n",
       "    <tr>\n",
       "      <th>3154</th>\n",
       "      <td>929927</td>\n",
       "      <td>198406.txt</td>\n",
       "      <td>\\n</td>\n",
       "      <td>O</td>\n",
       "    </tr>\n",
       "    <tr>\n",
       "      <th>3155</th>\n",
       "      <td>929927</td>\n",
       "      <td>198406.txt</td>\n",
       "      <td>Deceased</td>\n",
       "      <td>O</td>\n",
       "    </tr>\n",
       "  </tbody>\n",
       "</table>\n",
       "<p>932906 rows × 4 columns</p>\n",
       "</div>"
      ],
      "text/plain": [
       "      sentence_id    doc_name         token label\n",
       "0               0  100035.txt     Admission     O\n",
       "1               0  100035.txt          Date     O\n",
       "2               0  100035.txt             :     O\n",
       "3               1  100035.txt             [     O\n",
       "4               1  100035.txt             *     O\n",
       "...           ...         ...           ...   ...\n",
       "3151       929927  198406.txt      Followup     O\n",
       "3152       929927  198406.txt  Instructions     O\n",
       "3153       929927  198406.txt             :     O\n",
       "3154       929927  198406.txt            \\n     O\n",
       "3155       929927  198406.txt      Deceased     O\n",
       "\n",
       "[932906 rows x 4 columns]"
      ]
     },
     "execution_count": 14,
     "metadata": {},
     "output_type": "execute_result"
    }
   ],
   "source": [
    "train_df"
   ]
  },
  {
   "cell_type": "code",
   "execution_count": 15,
   "id": "98074645-09c3-4bca-bd8e-1bfb1f51f83b",
   "metadata": {},
   "outputs": [],
   "source": [
    "train_sentID_list = train_df['sentence_id'].to_list()\n",
    "train_sentID_set = set(train_sentID_list)\n",
    "train_sentID_uniqList = list(train_sentID_set)\n",
    "test_sentID_list = test_df['sentence_id'].to_list()\n",
    "test_sentID_set = set(test_sentID_list)\n",
    "test_sentID_uniqList = list(test_sentID_set)"
   ]
  },
  {
   "cell_type": "code",
   "execution_count": 16,
   "id": "562d0da3-35fa-4dc1-8400-3790e068629d",
   "metadata": {},
   "outputs": [
    {
     "name": "stdout",
     "output_type": "stream",
     "text": [
      "51798 34334\n"
     ]
    }
   ],
   "source": [
    "print(len(train_sentID_uniqList), len(test_sentID_uniqList))"
   ]
  },
  {
   "cell_type": "code",
   "execution_count": 18,
   "id": "02530d0a-7dce-499d-9aac-0463937fa6ca",
   "metadata": {},
   "outputs": [
    {
     "data": {
      "text/plain": [
       "2589"
      ]
     },
     "execution_count": 18,
     "metadata": {},
     "output_type": "execute_result"
    }
   ],
   "source": [
    "int(1.0*len(train_sentID_uniqList)/20)"
   ]
  },
  {
   "cell_type": "markdown",
   "id": "4559a754-6d0d-4481-aa1d-1348c28a63c4",
   "metadata": {},
   "source": [
    "## sampling simulator"
   ]
  },
  {
   "cell_type": "code",
   "execution_count": 19,
   "id": "b43e4d3f-de3d-40c7-91cf-cc5d13c5da34",
   "metadata": {},
   "outputs": [],
   "source": [
    "from ALLSampler_Sentence import SamplingSimulator, ModelSamplingSimulator"
   ]
  },
  {
   "cell_type": "code",
   "execution_count": 20,
   "id": "81ab7e63-9392-4e85-83ad-c6f9e3964a35",
   "metadata": {},
   "outputs": [],
   "source": [
    "m_simulator=ModelSamplingSimulator(total_sents=train_df, \n",
    "                                   total_round=10, \n",
    "                                   modelWrapper=crf_model, \n",
    "                                   eval_sents=test_df, \n",
    "                                   init_seed=seed)"
   ]
  },
  {
   "cell_type": "markdown",
   "id": "3dbbf886-af82-4739-8fce-23690948c141",
   "metadata": {},
   "source": [
    "## test run"
   ]
  },
  {
   "cell_type": "code",
   "execution_count": 20,
   "id": "c0e5256f-0e53-4e2f-b728-a88bc9f77419",
   "metadata": {},
   "outputs": [
    {
     "name": "stderr",
     "output_type": "stream",
     "text": [
      "\u001b[32m2024-04-23 23:49:06.744\u001b[0m | \u001b[1mINFO    \u001b[0m | \u001b[36mALLSampler_Sentence\u001b[0m:\u001b[36msimulate_rounds\u001b[0m:\u001b[36m92\u001b[0m - \u001b[1msimulate round 0.\u001b[0m\n",
      "\u001b[32m2024-04-23 23:49:06.746\u001b[0m | \u001b[34m\u001b[1mDEBUG   \u001b[0m | \u001b[36mALLSampler_Sentence\u001b[0m:\u001b[36mkeep_sample\u001b[0m:\u001b[36m75\u001b[0m - \u001b[34m\u001b[1mThe first round sampling will be random\u001b[0m\n",
      "\u001b[32m2024-04-23 23:49:07.146\u001b[0m | \u001b[1mINFO    \u001b[0m | \u001b[36mALLSampler_Sentence\u001b[0m:\u001b[36mkeep_sample\u001b[0m:\u001b[36m82\u001b[0m - \u001b[1mcurrent sampled sentences: 5179, remaining sentences: 46619\u001b[0m\n",
      "\u001b[32m2024-04-23 23:49:09.124\u001b[0m | \u001b[34m\u001b[1mDEBUG   \u001b[0m | \u001b[36mCRFWrapper_Sentence\u001b[0m:\u001b[36mfit\u001b[0m:\u001b[36m284\u001b[0m - \u001b[34m\u001b[1mReset and train CRF model...\u001b[0m\n",
      "\u001b[32m2024-04-23 23:50:07.596\u001b[0m | \u001b[34m\u001b[1mDEBUG   \u001b[0m | \u001b[36mCRFWrapper_Sentence\u001b[0m:\u001b[36mfit\u001b[0m:\u001b[36m292\u001b[0m - \u001b[34m\u001b[1mTraining complete.\u001b[0m\n",
      "\u001b[32m2024-04-23 23:50:07.690\u001b[0m | \u001b[34m\u001b[1mDEBUG   \u001b[0m | \u001b[36mCRFWrapper_Sentence\u001b[0m:\u001b[36mbootstrap_eval_DFsent\u001b[0m:\u001b[36m352\u001b[0m - \u001b[34m\u001b[1mPredicting eval sents...\u001b[0m\n",
      "\u001b[32m2024-04-23 23:50:32.987\u001b[0m | \u001b[34m\u001b[1mDEBUG   \u001b[0m | \u001b[36mCRFWrapper_Sentence\u001b[0m:\u001b[36mbootstrap_eval_DFsent\u001b[0m:\u001b[36m356\u001b[0m - \u001b[34m\u001b[1mCalculate scores from bootstrapping 200 times\u001b[0m\n",
      "\u001b[32m2024-04-23 23:54:44.927\u001b[0m | \u001b[34m\u001b[1mDEBUG   \u001b[0m | \u001b[36mCRFWrapper_Sentence\u001b[0m:\u001b[36mbootstrap_eval_DFsent\u001b[0m:\u001b[36m365\u001b[0m - \u001b[34m\u001b[1mcomplete\u001b[0m\n",
      "\u001b[32m2024-04-23 23:54:45.055\u001b[0m | \u001b[34m\u001b[1mDEBUG   \u001b[0m | \u001b[36mALLSampler_Sentence\u001b[0m:\u001b[36msimulate_rounds\u001b[0m:\u001b[36m103\u001b[0m - \u001b[34m\u001b[1m{'precision': 0.9460863337731906, 'recall': 0.7718258294774815, 'f1': 0.8501139611079124}\u001b[0m\n",
      "\u001b[32m2024-04-23 23:54:45.057\u001b[0m | \u001b[1mINFO    \u001b[0m | \u001b[36mALLSampler_Sentence\u001b[0m:\u001b[36msimulate_rounds\u001b[0m:\u001b[36m92\u001b[0m - \u001b[1msimulate round 1.\u001b[0m\n",
      "\u001b[32m2024-04-23 23:54:45.059\u001b[0m | \u001b[34m\u001b[1mDEBUG   \u001b[0m | \u001b[36mALLSampler_Sentence\u001b[0m:\u001b[36mkeep_sample\u001b[0m:\u001b[36m78\u001b[0m - \u001b[34m\u001b[1mSample according to certainties\u001b[0m\n",
      "\u001b[32m2024-04-23 23:54:45.157\u001b[0m | \u001b[34m\u001b[1mDEBUG   \u001b[0m | \u001b[36mALLSampler_Sentence\u001b[0m:\u001b[36msample_next_round\u001b[0m:\u001b[36m143\u001b[0m - \u001b[34m\u001b[1mTrain model wrapper on sampled 5179 sentences samples\u001b[0m\n",
      "\u001b[32m2024-04-23 23:54:45.159\u001b[0m | \u001b[34m\u001b[1mDEBUG   \u001b[0m | \u001b[36mALLSampler_Sentence\u001b[0m:\u001b[36msample_next_round\u001b[0m:\u001b[36m144\u001b[0m - \u001b[34m\u001b[1mUse trained model to estimate the remaining data certainty.\u001b[0m\n",
      "\u001b[32m2024-04-23 23:55:43.954\u001b[0m | \u001b[34m\u001b[1mDEBUG   \u001b[0m | \u001b[36mALLSampler_Sentence\u001b[0m:\u001b[36msample_next_round\u001b[0m:\u001b[36m153\u001b[0m - \u001b[34m\u001b[1mremain 839161 rows, sort indx on certainty for 46619 sentences\u001b[0m\n",
      "\u001b[32m2024-04-23 23:55:44.107\u001b[0m | \u001b[34m\u001b[1mDEBUG   \u001b[0m | \u001b[36mALLSampler_Sentence\u001b[0m:\u001b[36msample_next_round\u001b[0m:\u001b[36m169\u001b[0m - \u001b[34m\u001b[1mUpdate model with new sampled data\u001b[0m\n",
      "\u001b[32m2024-04-23 23:55:44.242\u001b[0m | \u001b[1mINFO    \u001b[0m | \u001b[36mALLSampler_Sentence\u001b[0m:\u001b[36mkeep_sample\u001b[0m:\u001b[36m82\u001b[0m - \u001b[1mcurrent sampled sentences: 10358, remaining sentences: 41440\u001b[0m\n",
      "\u001b[32m2024-04-23 23:55:48.196\u001b[0m | \u001b[34m\u001b[1mDEBUG   \u001b[0m | \u001b[36mCRFWrapper_Sentence\u001b[0m:\u001b[36mfit\u001b[0m:\u001b[36m284\u001b[0m - \u001b[34m\u001b[1mReset and train CRF model...\u001b[0m\n",
      "\u001b[32m2024-04-23 23:57:43.353\u001b[0m | \u001b[34m\u001b[1mDEBUG   \u001b[0m | \u001b[36mCRFWrapper_Sentence\u001b[0m:\u001b[36mfit\u001b[0m:\u001b[36m292\u001b[0m - \u001b[34m\u001b[1mTraining complete.\u001b[0m\n",
      "\u001b[32m2024-04-23 23:57:43.524\u001b[0m | \u001b[34m\u001b[1mDEBUG   \u001b[0m | \u001b[36mCRFWrapper_Sentence\u001b[0m:\u001b[36mbootstrap_eval_DFsent\u001b[0m:\u001b[36m352\u001b[0m - \u001b[34m\u001b[1mPredicting eval sents...\u001b[0m\n",
      "\u001b[32m2024-04-23 23:58:07.964\u001b[0m | \u001b[34m\u001b[1mDEBUG   \u001b[0m | \u001b[36mCRFWrapper_Sentence\u001b[0m:\u001b[36mbootstrap_eval_DFsent\u001b[0m:\u001b[36m356\u001b[0m - \u001b[34m\u001b[1mCalculate scores from bootstrapping 200 times\u001b[0m\n",
      "\u001b[32m2024-04-24 00:02:20.937\u001b[0m | \u001b[34m\u001b[1mDEBUG   \u001b[0m | \u001b[36mCRFWrapper_Sentence\u001b[0m:\u001b[36mbootstrap_eval_DFsent\u001b[0m:\u001b[36m365\u001b[0m - \u001b[34m\u001b[1mcomplete\u001b[0m\n",
      "\u001b[32m2024-04-24 00:02:21.061\u001b[0m | \u001b[34m\u001b[1mDEBUG   \u001b[0m | \u001b[36mALLSampler_Sentence\u001b[0m:\u001b[36msimulate_rounds\u001b[0m:\u001b[36m103\u001b[0m - \u001b[34m\u001b[1m{'precision': 0.941900437966913, 'recall': 0.8131657689266593, 'f1': 0.8728080310655052}\u001b[0m\n",
      "\u001b[32m2024-04-24 00:02:21.063\u001b[0m | \u001b[1mINFO    \u001b[0m | \u001b[36mALLSampler_Sentence\u001b[0m:\u001b[36msimulate_rounds\u001b[0m:\u001b[36m92\u001b[0m - \u001b[1msimulate round 2.\u001b[0m\n",
      "\u001b[32m2024-04-24 00:02:21.064\u001b[0m | \u001b[34m\u001b[1mDEBUG   \u001b[0m | \u001b[36mALLSampler_Sentence\u001b[0m:\u001b[36mkeep_sample\u001b[0m:\u001b[36m78\u001b[0m - \u001b[34m\u001b[1mSample according to certainties\u001b[0m\n",
      "\u001b[32m2024-04-24 00:02:21.165\u001b[0m | \u001b[34m\u001b[1mDEBUG   \u001b[0m | \u001b[36mALLSampler_Sentence\u001b[0m:\u001b[36msample_next_round\u001b[0m:\u001b[36m143\u001b[0m - \u001b[34m\u001b[1mTrain model wrapper on sampled 10358 sentences samples\u001b[0m\n",
      "\u001b[32m2024-04-24 00:02:21.167\u001b[0m | \u001b[34m\u001b[1mDEBUG   \u001b[0m | \u001b[36mALLSampler_Sentence\u001b[0m:\u001b[36msample_next_round\u001b[0m:\u001b[36m144\u001b[0m - \u001b[34m\u001b[1mUse trained model to estimate the remaining data certainty.\u001b[0m\n",
      "\u001b[32m2024-04-24 00:03:13.800\u001b[0m | \u001b[34m\u001b[1mDEBUG   \u001b[0m | \u001b[36mALLSampler_Sentence\u001b[0m:\u001b[36msample_next_round\u001b[0m:\u001b[36m153\u001b[0m - \u001b[34m\u001b[1mremain 745556 rows, sort indx on certainty for 41440 sentences\u001b[0m\n",
      "\u001b[32m2024-04-24 00:03:13.934\u001b[0m | \u001b[34m\u001b[1mDEBUG   \u001b[0m | \u001b[36mALLSampler_Sentence\u001b[0m:\u001b[36msample_next_round\u001b[0m:\u001b[36m169\u001b[0m - \u001b[34m\u001b[1mUpdate model with new sampled data\u001b[0m\n",
      "\u001b[32m2024-04-24 00:03:14.060\u001b[0m | \u001b[1mINFO    \u001b[0m | \u001b[36mALLSampler_Sentence\u001b[0m:\u001b[36mkeep_sample\u001b[0m:\u001b[36m82\u001b[0m - \u001b[1mcurrent sampled sentences: 15537, remaining sentences: 36261\u001b[0m\n",
      "\u001b[32m2024-04-24 00:03:20.509\u001b[0m | \u001b[34m\u001b[1mDEBUG   \u001b[0m | \u001b[36mCRFWrapper_Sentence\u001b[0m:\u001b[36mfit\u001b[0m:\u001b[36m284\u001b[0m - \u001b[34m\u001b[1mReset and train CRF model...\u001b[0m\n",
      "\u001b[32m2024-04-24 00:06:16.762\u001b[0m | \u001b[34m\u001b[1mDEBUG   \u001b[0m | \u001b[36mCRFWrapper_Sentence\u001b[0m:\u001b[36mfit\u001b[0m:\u001b[36m292\u001b[0m - \u001b[34m\u001b[1mTraining complete.\u001b[0m\n",
      "\u001b[32m2024-04-24 00:06:17.026\u001b[0m | \u001b[34m\u001b[1mDEBUG   \u001b[0m | \u001b[36mCRFWrapper_Sentence\u001b[0m:\u001b[36mbootstrap_eval_DFsent\u001b[0m:\u001b[36m352\u001b[0m - \u001b[34m\u001b[1mPredicting eval sents...\u001b[0m\n",
      "\u001b[32m2024-04-24 00:06:41.727\u001b[0m | \u001b[34m\u001b[1mDEBUG   \u001b[0m | \u001b[36mCRFWrapper_Sentence\u001b[0m:\u001b[36mbootstrap_eval_DFsent\u001b[0m:\u001b[36m356\u001b[0m - \u001b[34m\u001b[1mCalculate scores from bootstrapping 200 times\u001b[0m\n",
      "\u001b[32m2024-04-24 00:10:53.698\u001b[0m | \u001b[34m\u001b[1mDEBUG   \u001b[0m | \u001b[36mCRFWrapper_Sentence\u001b[0m:\u001b[36mbootstrap_eval_DFsent\u001b[0m:\u001b[36m365\u001b[0m - \u001b[34m\u001b[1mcomplete\u001b[0m\n",
      "\u001b[32m2024-04-24 00:10:53.827\u001b[0m | \u001b[34m\u001b[1mDEBUG   \u001b[0m | \u001b[36mALLSampler_Sentence\u001b[0m:\u001b[36msimulate_rounds\u001b[0m:\u001b[36m103\u001b[0m - \u001b[34m\u001b[1m{'precision': 0.9429590162111353, 'recall': 0.8263665829508511, 'f1': 0.8808181995838789}\u001b[0m\n",
      "\u001b[32m2024-04-24 00:10:53.829\u001b[0m | \u001b[1mINFO    \u001b[0m | \u001b[36mALLSampler_Sentence\u001b[0m:\u001b[36msimulate_rounds\u001b[0m:\u001b[36m92\u001b[0m - \u001b[1msimulate round 3.\u001b[0m\n",
      "\u001b[32m2024-04-24 00:10:53.830\u001b[0m | \u001b[34m\u001b[1mDEBUG   \u001b[0m | \u001b[36mALLSampler_Sentence\u001b[0m:\u001b[36mkeep_sample\u001b[0m:\u001b[36m78\u001b[0m - \u001b[34m\u001b[1mSample according to certainties\u001b[0m\n",
      "\u001b[32m2024-04-24 00:10:53.932\u001b[0m | \u001b[34m\u001b[1mDEBUG   \u001b[0m | \u001b[36mALLSampler_Sentence\u001b[0m:\u001b[36msample_next_round\u001b[0m:\u001b[36m143\u001b[0m - \u001b[34m\u001b[1mTrain model wrapper on sampled 15537 sentences samples\u001b[0m\n",
      "\u001b[32m2024-04-24 00:10:53.934\u001b[0m | \u001b[34m\u001b[1mDEBUG   \u001b[0m | \u001b[36mALLSampler_Sentence\u001b[0m:\u001b[36msample_next_round\u001b[0m:\u001b[36m144\u001b[0m - \u001b[34m\u001b[1mUse trained model to estimate the remaining data certainty.\u001b[0m\n",
      "\u001b[32m2024-04-24 00:11:40.043\u001b[0m | \u001b[34m\u001b[1mDEBUG   \u001b[0m | \u001b[36mALLSampler_Sentence\u001b[0m:\u001b[36msample_next_round\u001b[0m:\u001b[36m153\u001b[0m - \u001b[34m\u001b[1mremain 651983 rows, sort indx on certainty for 36261 sentences\u001b[0m\n",
      "\u001b[32m2024-04-24 00:11:40.172\u001b[0m | \u001b[34m\u001b[1mDEBUG   \u001b[0m | \u001b[36mALLSampler_Sentence\u001b[0m:\u001b[36msample_next_round\u001b[0m:\u001b[36m169\u001b[0m - \u001b[34m\u001b[1mUpdate model with new sampled data\u001b[0m\n",
      "\u001b[32m2024-04-24 00:11:40.310\u001b[0m | \u001b[1mINFO    \u001b[0m | \u001b[36mALLSampler_Sentence\u001b[0m:\u001b[36mkeep_sample\u001b[0m:\u001b[36m82\u001b[0m - \u001b[1mcurrent sampled sentences: 20716, remaining sentences: 31082\u001b[0m\n",
      "\u001b[32m2024-04-24 00:11:48.050\u001b[0m | \u001b[34m\u001b[1mDEBUG   \u001b[0m | \u001b[36mCRFWrapper_Sentence\u001b[0m:\u001b[36mfit\u001b[0m:\u001b[36m284\u001b[0m - \u001b[34m\u001b[1mReset and train CRF model...\u001b[0m\n",
      "\u001b[32m2024-04-24 00:15:51.721\u001b[0m | \u001b[34m\u001b[1mDEBUG   \u001b[0m | \u001b[36mCRFWrapper_Sentence\u001b[0m:\u001b[36mfit\u001b[0m:\u001b[36m292\u001b[0m - \u001b[34m\u001b[1mTraining complete.\u001b[0m\n",
      "\u001b[32m2024-04-24 00:15:52.116\u001b[0m | \u001b[34m\u001b[1mDEBUG   \u001b[0m | \u001b[36mCRFWrapper_Sentence\u001b[0m:\u001b[36mbootstrap_eval_DFsent\u001b[0m:\u001b[36m352\u001b[0m - \u001b[34m\u001b[1mPredicting eval sents...\u001b[0m\n",
      "\u001b[32m2024-04-24 00:16:17.614\u001b[0m | \u001b[34m\u001b[1mDEBUG   \u001b[0m | \u001b[36mCRFWrapper_Sentence\u001b[0m:\u001b[36mbootstrap_eval_DFsent\u001b[0m:\u001b[36m356\u001b[0m - \u001b[34m\u001b[1mCalculate scores from bootstrapping 200 times\u001b[0m\n",
      "\u001b[32m2024-04-24 00:20:30.396\u001b[0m | \u001b[34m\u001b[1mDEBUG   \u001b[0m | \u001b[36mCRFWrapper_Sentence\u001b[0m:\u001b[36mbootstrap_eval_DFsent\u001b[0m:\u001b[36m365\u001b[0m - \u001b[34m\u001b[1mcomplete\u001b[0m\n",
      "\u001b[32m2024-04-24 00:20:30.508\u001b[0m | \u001b[34m\u001b[1mDEBUG   \u001b[0m | \u001b[36mALLSampler_Sentence\u001b[0m:\u001b[36msimulate_rounds\u001b[0m:\u001b[36m103\u001b[0m - \u001b[34m\u001b[1m{'precision': 0.9446342276592472, 'recall': 0.8359365365026359, 'f1': 0.8869650335146727}\u001b[0m\n",
      "\u001b[32m2024-04-24 00:20:30.511\u001b[0m | \u001b[1mINFO    \u001b[0m | \u001b[36mALLSampler_Sentence\u001b[0m:\u001b[36msimulate_rounds\u001b[0m:\u001b[36m92\u001b[0m - \u001b[1msimulate round 4.\u001b[0m\n",
      "\u001b[32m2024-04-24 00:20:30.512\u001b[0m | \u001b[34m\u001b[1mDEBUG   \u001b[0m | \u001b[36mALLSampler_Sentence\u001b[0m:\u001b[36mkeep_sample\u001b[0m:\u001b[36m78\u001b[0m - \u001b[34m\u001b[1mSample according to certainties\u001b[0m\n",
      "\u001b[32m2024-04-24 00:20:30.608\u001b[0m | \u001b[34m\u001b[1mDEBUG   \u001b[0m | \u001b[36mALLSampler_Sentence\u001b[0m:\u001b[36msample_next_round\u001b[0m:\u001b[36m143\u001b[0m - \u001b[34m\u001b[1mTrain model wrapper on sampled 20716 sentences samples\u001b[0m\n",
      "\u001b[32m2024-04-24 00:20:30.611\u001b[0m | \u001b[34m\u001b[1mDEBUG   \u001b[0m | \u001b[36mALLSampler_Sentence\u001b[0m:\u001b[36msample_next_round\u001b[0m:\u001b[36m144\u001b[0m - \u001b[34m\u001b[1mUse trained model to estimate the remaining data certainty.\u001b[0m\n",
      "\u001b[32m2024-04-24 00:21:09.432\u001b[0m | \u001b[34m\u001b[1mDEBUG   \u001b[0m | \u001b[36mALLSampler_Sentence\u001b[0m:\u001b[36msample_next_round\u001b[0m:\u001b[36m153\u001b[0m - \u001b[34m\u001b[1mremain 557807 rows, sort indx on certainty for 31082 sentences\u001b[0m\n",
      "\u001b[32m2024-04-24 00:21:09.548\u001b[0m | \u001b[34m\u001b[1mDEBUG   \u001b[0m | \u001b[36mALLSampler_Sentence\u001b[0m:\u001b[36msample_next_round\u001b[0m:\u001b[36m169\u001b[0m - \u001b[34m\u001b[1mUpdate model with new sampled data\u001b[0m\n",
      "\u001b[32m2024-04-24 00:21:09.680\u001b[0m | \u001b[1mINFO    \u001b[0m | \u001b[36mALLSampler_Sentence\u001b[0m:\u001b[36mkeep_sample\u001b[0m:\u001b[36m82\u001b[0m - \u001b[1mcurrent sampled sentences: 25895, remaining sentences: 25903\u001b[0m\n",
      "\u001b[32m2024-04-24 00:21:20.008\u001b[0m | \u001b[34m\u001b[1mDEBUG   \u001b[0m | \u001b[36mCRFWrapper_Sentence\u001b[0m:\u001b[36mfit\u001b[0m:\u001b[36m284\u001b[0m - \u001b[34m\u001b[1mReset and train CRF model...\u001b[0m\n",
      "\u001b[32m2024-04-24 00:26:16.311\u001b[0m | \u001b[34m\u001b[1mDEBUG   \u001b[0m | \u001b[36mCRFWrapper_Sentence\u001b[0m:\u001b[36mfit\u001b[0m:\u001b[36m292\u001b[0m - \u001b[34m\u001b[1mTraining complete.\u001b[0m\n",
      "\u001b[32m2024-04-24 00:26:16.809\u001b[0m | \u001b[34m\u001b[1mDEBUG   \u001b[0m | \u001b[36mCRFWrapper_Sentence\u001b[0m:\u001b[36mbootstrap_eval_DFsent\u001b[0m:\u001b[36m352\u001b[0m - \u001b[34m\u001b[1mPredicting eval sents...\u001b[0m\n",
      "\u001b[32m2024-04-24 00:26:41.343\u001b[0m | \u001b[34m\u001b[1mDEBUG   \u001b[0m | \u001b[36mCRFWrapper_Sentence\u001b[0m:\u001b[36mbootstrap_eval_DFsent\u001b[0m:\u001b[36m356\u001b[0m - \u001b[34m\u001b[1mCalculate scores from bootstrapping 200 times\u001b[0m\n",
      "\u001b[32m2024-04-24 00:30:51.652\u001b[0m | \u001b[34m\u001b[1mDEBUG   \u001b[0m | \u001b[36mCRFWrapper_Sentence\u001b[0m:\u001b[36mbootstrap_eval_DFsent\u001b[0m:\u001b[36m365\u001b[0m - \u001b[34m\u001b[1mcomplete\u001b[0m\n",
      "\u001b[32m2024-04-24 00:30:51.775\u001b[0m | \u001b[34m\u001b[1mDEBUG   \u001b[0m | \u001b[36mALLSampler_Sentence\u001b[0m:\u001b[36msimulate_rounds\u001b[0m:\u001b[36m103\u001b[0m - \u001b[34m\u001b[1m{'precision': 0.9438751636039736, 'recall': 0.8452966014551031, 'f1': 0.8918680762172991}\u001b[0m\n",
      "\u001b[32m2024-04-24 00:30:51.777\u001b[0m | \u001b[1mINFO    \u001b[0m | \u001b[36mALLSampler_Sentence\u001b[0m:\u001b[36msimulate_rounds\u001b[0m:\u001b[36m92\u001b[0m - \u001b[1msimulate round 5.\u001b[0m\n",
      "\u001b[32m2024-04-24 00:30:51.778\u001b[0m | \u001b[34m\u001b[1mDEBUG   \u001b[0m | \u001b[36mALLSampler_Sentence\u001b[0m:\u001b[36mkeep_sample\u001b[0m:\u001b[36m78\u001b[0m - \u001b[34m\u001b[1mSample according to certainties\u001b[0m\n",
      "\u001b[32m2024-04-24 00:30:51.872\u001b[0m | \u001b[34m\u001b[1mDEBUG   \u001b[0m | \u001b[36mALLSampler_Sentence\u001b[0m:\u001b[36msample_next_round\u001b[0m:\u001b[36m143\u001b[0m - \u001b[34m\u001b[1mTrain model wrapper on sampled 25895 sentences samples\u001b[0m\n",
      "\u001b[32m2024-04-24 00:30:51.874\u001b[0m | \u001b[34m\u001b[1mDEBUG   \u001b[0m | \u001b[36mALLSampler_Sentence\u001b[0m:\u001b[36msample_next_round\u001b[0m:\u001b[36m144\u001b[0m - \u001b[34m\u001b[1mUse trained model to estimate the remaining data certainty.\u001b[0m\n",
      "\u001b[32m2024-04-24 00:31:24.848\u001b[0m | \u001b[34m\u001b[1mDEBUG   \u001b[0m | \u001b[36mALLSampler_Sentence\u001b[0m:\u001b[36msample_next_round\u001b[0m:\u001b[36m153\u001b[0m - \u001b[34m\u001b[1mremain 464199 rows, sort indx on certainty for 25903 sentences\u001b[0m\n",
      "\u001b[32m2024-04-24 00:31:24.948\u001b[0m | \u001b[34m\u001b[1mDEBUG   \u001b[0m | \u001b[36mALLSampler_Sentence\u001b[0m:\u001b[36msample_next_round\u001b[0m:\u001b[36m169\u001b[0m - \u001b[34m\u001b[1mUpdate model with new sampled data\u001b[0m\n",
      "\u001b[32m2024-04-24 00:31:25.079\u001b[0m | \u001b[1mINFO    \u001b[0m | \u001b[36mALLSampler_Sentence\u001b[0m:\u001b[36mkeep_sample\u001b[0m:\u001b[36m82\u001b[0m - \u001b[1mcurrent sampled sentences: 31074, remaining sentences: 20724\u001b[0m\n",
      "\u001b[32m2024-04-24 00:31:36.772\u001b[0m | \u001b[34m\u001b[1mDEBUG   \u001b[0m | \u001b[36mCRFWrapper_Sentence\u001b[0m:\u001b[36mfit\u001b[0m:\u001b[36m284\u001b[0m - \u001b[34m\u001b[1mReset and train CRF model...\u001b[0m\n",
      "\u001b[32m2024-04-24 00:37:35.143\u001b[0m | \u001b[34m\u001b[1mDEBUG   \u001b[0m | \u001b[36mCRFWrapper_Sentence\u001b[0m:\u001b[36mfit\u001b[0m:\u001b[36m292\u001b[0m - \u001b[34m\u001b[1mTraining complete.\u001b[0m\n",
      "\u001b[32m2024-04-24 00:37:35.750\u001b[0m | \u001b[34m\u001b[1mDEBUG   \u001b[0m | \u001b[36mCRFWrapper_Sentence\u001b[0m:\u001b[36mbootstrap_eval_DFsent\u001b[0m:\u001b[36m352\u001b[0m - \u001b[34m\u001b[1mPredicting eval sents...\u001b[0m\n",
      "\u001b[32m2024-04-24 00:38:00.960\u001b[0m | \u001b[34m\u001b[1mDEBUG   \u001b[0m | \u001b[36mCRFWrapper_Sentence\u001b[0m:\u001b[36mbootstrap_eval_DFsent\u001b[0m:\u001b[36m356\u001b[0m - \u001b[34m\u001b[1mCalculate scores from bootstrapping 200 times\u001b[0m\n",
      "\u001b[32m2024-04-24 00:42:13.128\u001b[0m | \u001b[34m\u001b[1mDEBUG   \u001b[0m | \u001b[36mCRFWrapper_Sentence\u001b[0m:\u001b[36mbootstrap_eval_DFsent\u001b[0m:\u001b[36m365\u001b[0m - \u001b[34m\u001b[1mcomplete\u001b[0m\n",
      "\u001b[32m2024-04-24 00:42:13.253\u001b[0m | \u001b[34m\u001b[1mDEBUG   \u001b[0m | \u001b[36mALLSampler_Sentence\u001b[0m:\u001b[36msimulate_rounds\u001b[0m:\u001b[36m103\u001b[0m - \u001b[34m\u001b[1m{'precision': 0.9456156506808802, 'recall': 0.847361099803908, 'f1': 0.8937938168688165}\u001b[0m\n",
      "\u001b[32m2024-04-24 00:42:13.256\u001b[0m | \u001b[1mINFO    \u001b[0m | \u001b[36mALLSampler_Sentence\u001b[0m:\u001b[36msimulate_rounds\u001b[0m:\u001b[36m92\u001b[0m - \u001b[1msimulate round 6.\u001b[0m\n",
      "\u001b[32m2024-04-24 00:42:13.258\u001b[0m | \u001b[34m\u001b[1mDEBUG   \u001b[0m | \u001b[36mALLSampler_Sentence\u001b[0m:\u001b[36mkeep_sample\u001b[0m:\u001b[36m78\u001b[0m - \u001b[34m\u001b[1mSample according to certainties\u001b[0m\n",
      "\u001b[32m2024-04-24 00:42:13.363\u001b[0m | \u001b[34m\u001b[1mDEBUG   \u001b[0m | \u001b[36mALLSampler_Sentence\u001b[0m:\u001b[36msample_next_round\u001b[0m:\u001b[36m143\u001b[0m - \u001b[34m\u001b[1mTrain model wrapper on sampled 31074 sentences samples\u001b[0m\n",
      "\u001b[32m2024-04-24 00:42:13.365\u001b[0m | \u001b[34m\u001b[1mDEBUG   \u001b[0m | \u001b[36mALLSampler_Sentence\u001b[0m:\u001b[36msample_next_round\u001b[0m:\u001b[36m144\u001b[0m - \u001b[34m\u001b[1mUse trained model to estimate the remaining data certainty.\u001b[0m\n",
      "\u001b[32m2024-04-24 00:42:39.105\u001b[0m | \u001b[34m\u001b[1mDEBUG   \u001b[0m | \u001b[36mALLSampler_Sentence\u001b[0m:\u001b[36msample_next_round\u001b[0m:\u001b[36m153\u001b[0m - \u001b[34m\u001b[1mremain 371248 rows, sort indx on certainty for 20724 sentences\u001b[0m\n",
      "\u001b[32m2024-04-24 00:42:39.196\u001b[0m | \u001b[34m\u001b[1mDEBUG   \u001b[0m | \u001b[36mALLSampler_Sentence\u001b[0m:\u001b[36msample_next_round\u001b[0m:\u001b[36m169\u001b[0m - \u001b[34m\u001b[1mUpdate model with new sampled data\u001b[0m\n",
      "\u001b[32m2024-04-24 00:42:39.327\u001b[0m | \u001b[1mINFO    \u001b[0m | \u001b[36mALLSampler_Sentence\u001b[0m:\u001b[36mkeep_sample\u001b[0m:\u001b[36m82\u001b[0m - \u001b[1mcurrent sampled sentences: 36253, remaining sentences: 15545\u001b[0m\n",
      "\u001b[32m2024-04-24 00:42:54.040\u001b[0m | \u001b[34m\u001b[1mDEBUG   \u001b[0m | \u001b[36mCRFWrapper_Sentence\u001b[0m:\u001b[36mfit\u001b[0m:\u001b[36m284\u001b[0m - \u001b[34m\u001b[1mReset and train CRF model...\u001b[0m\n",
      "\u001b[32m2024-04-24 00:49:53.682\u001b[0m | \u001b[34m\u001b[1mDEBUG   \u001b[0m | \u001b[36mCRFWrapper_Sentence\u001b[0m:\u001b[36mfit\u001b[0m:\u001b[36m292\u001b[0m - \u001b[34m\u001b[1mTraining complete.\u001b[0m\n",
      "\u001b[32m2024-04-24 00:49:54.351\u001b[0m | \u001b[34m\u001b[1mDEBUG   \u001b[0m | \u001b[36mCRFWrapper_Sentence\u001b[0m:\u001b[36mbootstrap_eval_DFsent\u001b[0m:\u001b[36m352\u001b[0m - \u001b[34m\u001b[1mPredicting eval sents...\u001b[0m\n",
      "\u001b[32m2024-04-24 00:50:18.580\u001b[0m | \u001b[34m\u001b[1mDEBUG   \u001b[0m | \u001b[36mCRFWrapper_Sentence\u001b[0m:\u001b[36mbootstrap_eval_DFsent\u001b[0m:\u001b[36m356\u001b[0m - \u001b[34m\u001b[1mCalculate scores from bootstrapping 200 times\u001b[0m\n",
      "\u001b[32m2024-04-24 00:54:30.513\u001b[0m | \u001b[34m\u001b[1mDEBUG   \u001b[0m | \u001b[36mCRFWrapper_Sentence\u001b[0m:\u001b[36mbootstrap_eval_DFsent\u001b[0m:\u001b[36m365\u001b[0m - \u001b[34m\u001b[1mcomplete\u001b[0m\n",
      "\u001b[32m2024-04-24 00:54:30.626\u001b[0m | \u001b[34m\u001b[1mDEBUG   \u001b[0m | \u001b[36mALLSampler_Sentence\u001b[0m:\u001b[36msimulate_rounds\u001b[0m:\u001b[36m103\u001b[0m - \u001b[34m\u001b[1m{'precision': 0.9461673958929634, 'recall': 0.8493875681911285, 'f1': 0.8951670371439913}\u001b[0m\n",
      "\u001b[32m2024-04-24 00:54:30.628\u001b[0m | \u001b[1mINFO    \u001b[0m | \u001b[36mALLSampler_Sentence\u001b[0m:\u001b[36msimulate_rounds\u001b[0m:\u001b[36m92\u001b[0m - \u001b[1msimulate round 7.\u001b[0m\n",
      "\u001b[32m2024-04-24 00:54:30.631\u001b[0m | \u001b[34m\u001b[1mDEBUG   \u001b[0m | \u001b[36mALLSampler_Sentence\u001b[0m:\u001b[36mkeep_sample\u001b[0m:\u001b[36m78\u001b[0m - \u001b[34m\u001b[1mSample according to certainties\u001b[0m\n",
      "\u001b[32m2024-04-24 00:54:30.725\u001b[0m | \u001b[34m\u001b[1mDEBUG   \u001b[0m | \u001b[36mALLSampler_Sentence\u001b[0m:\u001b[36msample_next_round\u001b[0m:\u001b[36m143\u001b[0m - \u001b[34m\u001b[1mTrain model wrapper on sampled 36253 sentences samples\u001b[0m\n",
      "\u001b[32m2024-04-24 00:54:30.727\u001b[0m | \u001b[34m\u001b[1mDEBUG   \u001b[0m | \u001b[36mALLSampler_Sentence\u001b[0m:\u001b[36msample_next_round\u001b[0m:\u001b[36m144\u001b[0m - \u001b[34m\u001b[1mUse trained model to estimate the remaining data certainty.\u001b[0m\n",
      "\u001b[32m2024-04-24 00:54:50.734\u001b[0m | \u001b[34m\u001b[1mDEBUG   \u001b[0m | \u001b[36mALLSampler_Sentence\u001b[0m:\u001b[36msample_next_round\u001b[0m:\u001b[36m153\u001b[0m - \u001b[34m\u001b[1mremain 277333 rows, sort indx on certainty for 15545 sentences\u001b[0m\n",
      "\u001b[32m2024-04-24 00:54:50.815\u001b[0m | \u001b[34m\u001b[1mDEBUG   \u001b[0m | \u001b[36mALLSampler_Sentence\u001b[0m:\u001b[36msample_next_round\u001b[0m:\u001b[36m169\u001b[0m - \u001b[34m\u001b[1mUpdate model with new sampled data\u001b[0m\n",
      "\u001b[32m2024-04-24 00:54:50.948\u001b[0m | \u001b[1mINFO    \u001b[0m | \u001b[36mALLSampler_Sentence\u001b[0m:\u001b[36mkeep_sample\u001b[0m:\u001b[36m82\u001b[0m - \u001b[1mcurrent sampled sentences: 41432, remaining sentences: 10366\u001b[0m\n",
      "\u001b[32m2024-04-24 00:55:06.439\u001b[0m | \u001b[34m\u001b[1mDEBUG   \u001b[0m | \u001b[36mCRFWrapper_Sentence\u001b[0m:\u001b[36mfit\u001b[0m:\u001b[36m284\u001b[0m - \u001b[34m\u001b[1mReset and train CRF model...\u001b[0m\n",
      "\u001b[32m2024-04-24 01:03:07.780\u001b[0m | \u001b[34m\u001b[1mDEBUG   \u001b[0m | \u001b[36mCRFWrapper_Sentence\u001b[0m:\u001b[36mfit\u001b[0m:\u001b[36m292\u001b[0m - \u001b[34m\u001b[1mTraining complete.\u001b[0m\n",
      "\u001b[32m2024-04-24 01:03:08.561\u001b[0m | \u001b[34m\u001b[1mDEBUG   \u001b[0m | \u001b[36mCRFWrapper_Sentence\u001b[0m:\u001b[36mbootstrap_eval_DFsent\u001b[0m:\u001b[36m352\u001b[0m - \u001b[34m\u001b[1mPredicting eval sents...\u001b[0m\n",
      "\u001b[32m2024-04-24 01:03:33.812\u001b[0m | \u001b[34m\u001b[1mDEBUG   \u001b[0m | \u001b[36mCRFWrapper_Sentence\u001b[0m:\u001b[36mbootstrap_eval_DFsent\u001b[0m:\u001b[36m356\u001b[0m - \u001b[34m\u001b[1mCalculate scores from bootstrapping 200 times\u001b[0m\n",
      "\u001b[32m2024-04-24 01:07:45.907\u001b[0m | \u001b[34m\u001b[1mDEBUG   \u001b[0m | \u001b[36mCRFWrapper_Sentence\u001b[0m:\u001b[36mbootstrap_eval_DFsent\u001b[0m:\u001b[36m365\u001b[0m - \u001b[34m\u001b[1mcomplete\u001b[0m\n",
      "\u001b[32m2024-04-24 01:07:46.020\u001b[0m | \u001b[34m\u001b[1mDEBUG   \u001b[0m | \u001b[36mALLSampler_Sentence\u001b[0m:\u001b[36msimulate_rounds\u001b[0m:\u001b[36m103\u001b[0m - \u001b[34m\u001b[1m{'precision': 0.9454757713401716, 'recall': 0.8539119652091881, 'f1': 0.8973621761071281}\u001b[0m\n",
      "\u001b[32m2024-04-24 01:07:46.021\u001b[0m | \u001b[1mINFO    \u001b[0m | \u001b[36mALLSampler_Sentence\u001b[0m:\u001b[36msimulate_rounds\u001b[0m:\u001b[36m92\u001b[0m - \u001b[1msimulate round 8.\u001b[0m\n",
      "\u001b[32m2024-04-24 01:07:46.022\u001b[0m | \u001b[34m\u001b[1mDEBUG   \u001b[0m | \u001b[36mALLSampler_Sentence\u001b[0m:\u001b[36mkeep_sample\u001b[0m:\u001b[36m78\u001b[0m - \u001b[34m\u001b[1mSample according to certainties\u001b[0m\n",
      "\u001b[32m2024-04-24 01:07:46.121\u001b[0m | \u001b[34m\u001b[1mDEBUG   \u001b[0m | \u001b[36mALLSampler_Sentence\u001b[0m:\u001b[36msample_next_round\u001b[0m:\u001b[36m143\u001b[0m - \u001b[34m\u001b[1mTrain model wrapper on sampled 41432 sentences samples\u001b[0m\n",
      "\u001b[32m2024-04-24 01:07:46.122\u001b[0m | \u001b[34m\u001b[1mDEBUG   \u001b[0m | \u001b[36mALLSampler_Sentence\u001b[0m:\u001b[36msample_next_round\u001b[0m:\u001b[36m144\u001b[0m - \u001b[34m\u001b[1mUse trained model to estimate the remaining data certainty.\u001b[0m\n",
      "\u001b[32m2024-04-24 01:07:59.064\u001b[0m | \u001b[34m\u001b[1mDEBUG   \u001b[0m | \u001b[36mALLSampler_Sentence\u001b[0m:\u001b[36msample_next_round\u001b[0m:\u001b[36m153\u001b[0m - \u001b[34m\u001b[1mremain 184160 rows, sort indx on certainty for 10366 sentences\u001b[0m\n",
      "\u001b[32m2024-04-24 01:07:59.131\u001b[0m | \u001b[34m\u001b[1mDEBUG   \u001b[0m | \u001b[36mALLSampler_Sentence\u001b[0m:\u001b[36msample_next_round\u001b[0m:\u001b[36m169\u001b[0m - \u001b[34m\u001b[1mUpdate model with new sampled data\u001b[0m\n",
      "\u001b[32m2024-04-24 01:07:59.275\u001b[0m | \u001b[1mINFO    \u001b[0m | \u001b[36mALLSampler_Sentence\u001b[0m:\u001b[36mkeep_sample\u001b[0m:\u001b[36m82\u001b[0m - \u001b[1mcurrent sampled sentences: 46611, remaining sentences: 5187\u001b[0m\n",
      "\u001b[32m2024-04-24 01:08:17.455\u001b[0m | \u001b[34m\u001b[1mDEBUG   \u001b[0m | \u001b[36mCRFWrapper_Sentence\u001b[0m:\u001b[36mfit\u001b[0m:\u001b[36m284\u001b[0m - \u001b[34m\u001b[1mReset and train CRF model...\u001b[0m\n",
      "\u001b[32m2024-04-24 01:17:14.844\u001b[0m | \u001b[34m\u001b[1mDEBUG   \u001b[0m | \u001b[36mCRFWrapper_Sentence\u001b[0m:\u001b[36mfit\u001b[0m:\u001b[36m292\u001b[0m - \u001b[34m\u001b[1mTraining complete.\u001b[0m\n",
      "\u001b[32m2024-04-24 01:17:15.758\u001b[0m | \u001b[34m\u001b[1mDEBUG   \u001b[0m | \u001b[36mCRFWrapper_Sentence\u001b[0m:\u001b[36mbootstrap_eval_DFsent\u001b[0m:\u001b[36m352\u001b[0m - \u001b[34m\u001b[1mPredicting eval sents...\u001b[0m\n",
      "\u001b[32m2024-04-24 01:17:41.302\u001b[0m | \u001b[34m\u001b[1mDEBUG   \u001b[0m | \u001b[36mCRFWrapper_Sentence\u001b[0m:\u001b[36mbootstrap_eval_DFsent\u001b[0m:\u001b[36m356\u001b[0m - \u001b[34m\u001b[1mCalculate scores from bootstrapping 200 times\u001b[0m\n",
      "\u001b[32m2024-04-24 01:21:54.130\u001b[0m | \u001b[34m\u001b[1mDEBUG   \u001b[0m | \u001b[36mCRFWrapper_Sentence\u001b[0m:\u001b[36mbootstrap_eval_DFsent\u001b[0m:\u001b[36m365\u001b[0m - \u001b[34m\u001b[1mcomplete\u001b[0m\n",
      "\u001b[32m2024-04-24 01:21:54.240\u001b[0m | \u001b[34m\u001b[1mDEBUG   \u001b[0m | \u001b[36mALLSampler_Sentence\u001b[0m:\u001b[36msimulate_rounds\u001b[0m:\u001b[36m103\u001b[0m - \u001b[34m\u001b[1m{'precision': 0.9462651395088887, 'recall': 0.8572525236621612, 'f1': 0.8995604003941432}\u001b[0m\n",
      "\u001b[32m2024-04-24 01:21:54.242\u001b[0m | \u001b[1mINFO    \u001b[0m | \u001b[36mALLSampler_Sentence\u001b[0m:\u001b[36msimulate_rounds\u001b[0m:\u001b[36m92\u001b[0m - \u001b[1msimulate round 9.\u001b[0m\n",
      "\u001b[32m2024-04-24 01:21:54.244\u001b[0m | \u001b[34m\u001b[1mDEBUG   \u001b[0m | \u001b[36mALLSampler_Sentence\u001b[0m:\u001b[36mkeep_sample\u001b[0m:\u001b[36m78\u001b[0m - \u001b[34m\u001b[1mSample according to certainties\u001b[0m\n",
      "\u001b[32m2024-04-24 01:21:54.340\u001b[0m | \u001b[34m\u001b[1mDEBUG   \u001b[0m | \u001b[36mALLSampler_Sentence\u001b[0m:\u001b[36msample_next_round\u001b[0m:\u001b[36m143\u001b[0m - \u001b[34m\u001b[1mTrain model wrapper on sampled 46611 sentences samples\u001b[0m\n",
      "\u001b[32m2024-04-24 01:21:54.342\u001b[0m | \u001b[34m\u001b[1mDEBUG   \u001b[0m | \u001b[36mALLSampler_Sentence\u001b[0m:\u001b[36msample_next_round\u001b[0m:\u001b[36m144\u001b[0m - \u001b[34m\u001b[1mUse trained model to estimate the remaining data certainty.\u001b[0m\n",
      "\u001b[32m2024-04-24 01:22:00.769\u001b[0m | \u001b[34m\u001b[1mDEBUG   \u001b[0m | \u001b[36mALLSampler_Sentence\u001b[0m:\u001b[36msample_next_round\u001b[0m:\u001b[36m153\u001b[0m - \u001b[34m\u001b[1mremain 93768 rows, sort indx on certainty for 5187 sentences\u001b[0m\n",
      "\u001b[32m2024-04-24 01:22:00.828\u001b[0m | \u001b[34m\u001b[1mDEBUG   \u001b[0m | \u001b[36mALLSampler_Sentence\u001b[0m:\u001b[36msample_next_round\u001b[0m:\u001b[36m169\u001b[0m - \u001b[34m\u001b[1mUpdate model with new sampled data\u001b[0m\n",
      "\u001b[32m2024-04-24 01:22:00.974\u001b[0m | \u001b[1mINFO    \u001b[0m | \u001b[36mALLSampler_Sentence\u001b[0m:\u001b[36mkeep_sample\u001b[0m:\u001b[36m82\u001b[0m - \u001b[1mcurrent sampled sentences: 51790, remaining sentences: 8\u001b[0m\n",
      "\u001b[32m2024-04-24 01:22:01.008\u001b[0m | \u001b[1mINFO    \u001b[0m | \u001b[36mALLSampler_Sentence\u001b[0m:\u001b[36msimulate_rounds\u001b[0m:\u001b[36m97\u001b[0m - \u001b[1mIt's the last round, now add all docs to sampled.\u001b[0m\n",
      "\u001b[32m2024-04-24 01:22:20.424\u001b[0m | \u001b[34m\u001b[1mDEBUG   \u001b[0m | \u001b[36mCRFWrapper_Sentence\u001b[0m:\u001b[36mfit\u001b[0m:\u001b[36m284\u001b[0m - \u001b[34m\u001b[1mReset and train CRF model...\u001b[0m\n",
      "\u001b[32m2024-04-24 01:32:25.724\u001b[0m | \u001b[34m\u001b[1mDEBUG   \u001b[0m | \u001b[36mCRFWrapper_Sentence\u001b[0m:\u001b[36mfit\u001b[0m:\u001b[36m292\u001b[0m - \u001b[34m\u001b[1mTraining complete.\u001b[0m\n",
      "\u001b[32m2024-04-24 01:32:26.795\u001b[0m | \u001b[34m\u001b[1mDEBUG   \u001b[0m | \u001b[36mCRFWrapper_Sentence\u001b[0m:\u001b[36mbootstrap_eval_DFsent\u001b[0m:\u001b[36m352\u001b[0m - \u001b[34m\u001b[1mPredicting eval sents...\u001b[0m\n",
      "\u001b[32m2024-04-24 01:32:52.329\u001b[0m | \u001b[34m\u001b[1mDEBUG   \u001b[0m | \u001b[36mCRFWrapper_Sentence\u001b[0m:\u001b[36mbootstrap_eval_DFsent\u001b[0m:\u001b[36m356\u001b[0m - \u001b[34m\u001b[1mCalculate scores from bootstrapping 200 times\u001b[0m\n",
      "\u001b[32m2024-04-24 01:37:04.286\u001b[0m | \u001b[34m\u001b[1mDEBUG   \u001b[0m | \u001b[36mCRFWrapper_Sentence\u001b[0m:\u001b[36mbootstrap_eval_DFsent\u001b[0m:\u001b[36m365\u001b[0m - \u001b[34m\u001b[1mcomplete\u001b[0m\n",
      "\u001b[32m2024-04-24 01:37:04.397\u001b[0m | \u001b[34m\u001b[1mDEBUG   \u001b[0m | \u001b[36mALLSampler_Sentence\u001b[0m:\u001b[36msimulate_rounds\u001b[0m:\u001b[36m103\u001b[0m - \u001b[34m\u001b[1m{'precision': 0.9458741915098224, 'recall': 0.8602660573331704, 'f1': 0.9010392635896093}\u001b[0m\n"
     ]
    }
   ],
   "source": [
    "scores=m_simulator.simulate_rounds() #sample sentences for 10 rounds; each round bootstrap sampling 200 for evaluation"
   ]
  },
  {
   "cell_type": "code",
   "execution_count": 21,
   "id": "17b20c33-621f-435a-941e-9afec4ba3163",
   "metadata": {},
   "outputs": [],
   "source": [
    "def compute_mean_ci(scores):\n",
    "    ave=np.mean(scores)\n",
    "    ci=np.percentile(scores, [2.5, 97.5])\n",
    "    return ave, ci\n",
    "\n",
    "summary={'precision': [], 'pl':[], 'pu': [], 'recall': [], 'rl':[], 'ru': [], 'f1':[], 'fl':[], 'fu': []}\n",
    "for s in scores:    \n",
    "    for k,v in s.items():\n",
    "        ave, (l, u)=compute_mean_ci(v)\n",
    "        summary[k].append(ave)\n",
    "        summary[k[0]+'l'].append(l)\n",
    "        summary[k[0]+'u'].append(u)\n"
   ]
  },
  {
   "cell_type": "code",
   "execution_count": 22,
   "id": "5e66e082-0f6c-4539-b800-3af4c0238ec5",
   "metadata": {},
   "outputs": [],
   "source": [
    "pd.options.display.float_format='{:,.4f}'.format"
   ]
  },
  {
   "cell_type": "code",
   "execution_count": 23,
   "id": "62713da9-b2a7-4eb6-8898-58922f65a479",
   "metadata": {},
   "outputs": [
    {
     "data": {
      "text/html": [
       "<div>\n",
       "<style scoped>\n",
       "    .dataframe tbody tr th:only-of-type {\n",
       "        vertical-align: middle;\n",
       "    }\n",
       "\n",
       "    .dataframe tbody tr th {\n",
       "        vertical-align: top;\n",
       "    }\n",
       "\n",
       "    .dataframe thead th {\n",
       "        text-align: right;\n",
       "    }\n",
       "</style>\n",
       "<table border=\"1\" class=\"dataframe\">\n",
       "  <thead>\n",
       "    <tr style=\"text-align: right;\">\n",
       "      <th></th>\n",
       "      <th>precision</th>\n",
       "      <th>pl</th>\n",
       "      <th>pu</th>\n",
       "      <th>recall</th>\n",
       "      <th>rl</th>\n",
       "      <th>ru</th>\n",
       "      <th>f1</th>\n",
       "      <th>fl</th>\n",
       "      <th>fu</th>\n",
       "    </tr>\n",
       "  </thead>\n",
       "  <tbody>\n",
       "    <tr>\n",
       "      <th>0</th>\n",
       "      <td>0.9461</td>\n",
       "      <td>0.9429</td>\n",
       "      <td>0.9494</td>\n",
       "      <td>0.7718</td>\n",
       "      <td>0.7655</td>\n",
       "      <td>0.7785</td>\n",
       "      <td>0.8501</td>\n",
       "      <td>0.8460</td>\n",
       "      <td>0.8547</td>\n",
       "    </tr>\n",
       "    <tr>\n",
       "      <th>1</th>\n",
       "      <td>0.9419</td>\n",
       "      <td>0.9387</td>\n",
       "      <td>0.9452</td>\n",
       "      <td>0.8132</td>\n",
       "      <td>0.8063</td>\n",
       "      <td>0.8200</td>\n",
       "      <td>0.8728</td>\n",
       "      <td>0.8689</td>\n",
       "      <td>0.8770</td>\n",
       "    </tr>\n",
       "    <tr>\n",
       "      <th>2</th>\n",
       "      <td>0.9430</td>\n",
       "      <td>0.9401</td>\n",
       "      <td>0.9459</td>\n",
       "      <td>0.8264</td>\n",
       "      <td>0.8206</td>\n",
       "      <td>0.8327</td>\n",
       "      <td>0.8808</td>\n",
       "      <td>0.8774</td>\n",
       "      <td>0.8850</td>\n",
       "    </tr>\n",
       "    <tr>\n",
       "      <th>3</th>\n",
       "      <td>0.9446</td>\n",
       "      <td>0.9413</td>\n",
       "      <td>0.9476</td>\n",
       "      <td>0.8359</td>\n",
       "      <td>0.8306</td>\n",
       "      <td>0.8412</td>\n",
       "      <td>0.8870</td>\n",
       "      <td>0.8830</td>\n",
       "      <td>0.8907</td>\n",
       "    </tr>\n",
       "    <tr>\n",
       "      <th>4</th>\n",
       "      <td>0.9439</td>\n",
       "      <td>0.9405</td>\n",
       "      <td>0.9474</td>\n",
       "      <td>0.8453</td>\n",
       "      <td>0.8402</td>\n",
       "      <td>0.8507</td>\n",
       "      <td>0.8919</td>\n",
       "      <td>0.8883</td>\n",
       "      <td>0.8956</td>\n",
       "    </tr>\n",
       "    <tr>\n",
       "      <th>5</th>\n",
       "      <td>0.9456</td>\n",
       "      <td>0.9420</td>\n",
       "      <td>0.9485</td>\n",
       "      <td>0.8474</td>\n",
       "      <td>0.8415</td>\n",
       "      <td>0.8522</td>\n",
       "      <td>0.8938</td>\n",
       "      <td>0.8899</td>\n",
       "      <td>0.8973</td>\n",
       "    </tr>\n",
       "    <tr>\n",
       "      <th>6</th>\n",
       "      <td>0.9462</td>\n",
       "      <td>0.9432</td>\n",
       "      <td>0.9490</td>\n",
       "      <td>0.8494</td>\n",
       "      <td>0.8444</td>\n",
       "      <td>0.8544</td>\n",
       "      <td>0.8952</td>\n",
       "      <td>0.8915</td>\n",
       "      <td>0.8988</td>\n",
       "    </tr>\n",
       "    <tr>\n",
       "      <th>7</th>\n",
       "      <td>0.9455</td>\n",
       "      <td>0.9424</td>\n",
       "      <td>0.9485</td>\n",
       "      <td>0.8539</td>\n",
       "      <td>0.8486</td>\n",
       "      <td>0.8589</td>\n",
       "      <td>0.8974</td>\n",
       "      <td>0.8936</td>\n",
       "      <td>0.9011</td>\n",
       "    </tr>\n",
       "    <tr>\n",
       "      <th>8</th>\n",
       "      <td>0.9463</td>\n",
       "      <td>0.9431</td>\n",
       "      <td>0.9489</td>\n",
       "      <td>0.8573</td>\n",
       "      <td>0.8528</td>\n",
       "      <td>0.8622</td>\n",
       "      <td>0.8996</td>\n",
       "      <td>0.8962</td>\n",
       "      <td>0.9029</td>\n",
       "    </tr>\n",
       "    <tr>\n",
       "      <th>9</th>\n",
       "      <td>0.9459</td>\n",
       "      <td>0.9424</td>\n",
       "      <td>0.9489</td>\n",
       "      <td>0.8603</td>\n",
       "      <td>0.8557</td>\n",
       "      <td>0.8653</td>\n",
       "      <td>0.9010</td>\n",
       "      <td>0.8981</td>\n",
       "      <td>0.9043</td>\n",
       "    </tr>\n",
       "  </tbody>\n",
       "</table>\n",
       "</div>"
      ],
      "text/plain": [
       "   precision     pl     pu  recall     rl     ru     f1     fl     fu\n",
       "0     0.9461 0.9429 0.9494  0.7718 0.7655 0.7785 0.8501 0.8460 0.8547\n",
       "1     0.9419 0.9387 0.9452  0.8132 0.8063 0.8200 0.8728 0.8689 0.8770\n",
       "2     0.9430 0.9401 0.9459  0.8264 0.8206 0.8327 0.8808 0.8774 0.8850\n",
       "3     0.9446 0.9413 0.9476  0.8359 0.8306 0.8412 0.8870 0.8830 0.8907\n",
       "4     0.9439 0.9405 0.9474  0.8453 0.8402 0.8507 0.8919 0.8883 0.8956\n",
       "5     0.9456 0.9420 0.9485  0.8474 0.8415 0.8522 0.8938 0.8899 0.8973\n",
       "6     0.9462 0.9432 0.9490  0.8494 0.8444 0.8544 0.8952 0.8915 0.8988\n",
       "7     0.9455 0.9424 0.9485  0.8539 0.8486 0.8589 0.8974 0.8936 0.9011\n",
       "8     0.9463 0.9431 0.9489  0.8573 0.8528 0.8622 0.8996 0.8962 0.9029\n",
       "9     0.9459 0.9424 0.9489  0.8603 0.8557 0.8653 0.9010 0.8981 0.9043"
      ]
     },
     "execution_count": 23,
     "metadata": {},
     "output_type": "execute_result"
    }
   ],
   "source": [
    "pd.DataFrame(summary)"
   ]
  },
  {
   "cell_type": "markdown",
   "id": "ed143d7d-8b49-46a2-a2b0-f9036220fd8e",
   "metadata": {},
   "source": [
    "## Bootstrap 3 different initials runs"
   ]
  },
  {
   "cell_type": "code",
   "execution_count": 21,
   "id": "f0054da7-99ce-476b-abbc-b0ee52a1fbc3",
   "metadata": {},
   "outputs": [
    {
     "data": {
      "text/plain": [
       "1"
      ]
     },
     "execution_count": 21,
     "metadata": {},
     "output_type": "execute_result"
    }
   ],
   "source": [
    "boostrap_runs=3\n",
    "total_round=10\n",
    "logger.remove()\n",
    "logger.add(sys.stderr, level='INFO')"
   ]
  },
  {
   "cell_type": "code",
   "execution_count": 22,
   "id": "f27dcf48-8965-43c2-b034-dae968ced812",
   "metadata": {},
   "outputs": [
    {
     "data": {
      "text/plain": [
       "[1792286, 8843471, 4142887]"
      ]
     },
     "execution_count": 22,
     "metadata": {},
     "output_type": "execute_result"
    }
   ],
   "source": [
    "random.seed(14)\n",
    "seeds=[random.randint(1,10000000) for  _ in range(boostrap_runs)]\n",
    "seeds"
   ]
  },
  {
   "cell_type": "code",
   "execution_count": 23,
   "id": "f0b2c1d6-e6c9-407a-a272-f90003b54258",
   "metadata": {},
   "outputs": [
    {
     "name": "stderr",
     "output_type": "stream",
     "text": [
      "\u001b[32m2024-05-03 11:21:55.070\u001b[0m | \u001b[1mINFO    \u001b[0m | \u001b[36m__main__\u001b[0m:\u001b[36m<module>\u001b[0m:\u001b[36m3\u001b[0m - \u001b[1mstart run 0.\u001b[0m\n",
      "\u001b[32m2024-05-03 11:21:55.189\u001b[0m | \u001b[1mINFO    \u001b[0m | \u001b[36mALLSampler_Sentence\u001b[0m:\u001b[36msimulate_rounds\u001b[0m:\u001b[36m92\u001b[0m - \u001b[1msimulate round 0.\u001b[0m\n",
      "\u001b[32m2024-05-03 11:21:55.583\u001b[0m | \u001b[1mINFO    \u001b[0m | \u001b[36mALLSampler_Sentence\u001b[0m:\u001b[36mkeep_sample\u001b[0m:\u001b[36m82\u001b[0m - \u001b[1mcurrent sampled sentences: 2589, remaining sentences: 49209\u001b[0m\n",
      "\u001b[32m2024-05-03 11:27:10.196\u001b[0m | \u001b[1mINFO    \u001b[0m | \u001b[36mALLSampler_Sentence\u001b[0m:\u001b[36msimulate_rounds\u001b[0m:\u001b[36m92\u001b[0m - \u001b[1msimulate round 1.\u001b[0m\n",
      "\u001b[32m2024-05-03 11:28:14.181\u001b[0m | \u001b[1mINFO    \u001b[0m | \u001b[36mALLSampler_Sentence\u001b[0m:\u001b[36mkeep_sample\u001b[0m:\u001b[36m82\u001b[0m - \u001b[1mcurrent sampled sentences: 5178, remaining sentences: 46620\u001b[0m\n",
      "\u001b[32m2024-05-03 11:33:55.159\u001b[0m | \u001b[1mINFO    \u001b[0m | \u001b[36mALLSampler_Sentence\u001b[0m:\u001b[36msimulate_rounds\u001b[0m:\u001b[36m92\u001b[0m - \u001b[1msimulate round 2.\u001b[0m\n",
      "\u001b[32m2024-05-03 11:34:55.151\u001b[0m | \u001b[1mINFO    \u001b[0m | \u001b[36mALLSampler_Sentence\u001b[0m:\u001b[36mkeep_sample\u001b[0m:\u001b[36m82\u001b[0m - \u001b[1mcurrent sampled sentences: 7767, remaining sentences: 44031\u001b[0m\n",
      "\u001b[32m2024-05-03 11:41:09.971\u001b[0m | \u001b[1mINFO    \u001b[0m | \u001b[36mALLSampler_Sentence\u001b[0m:\u001b[36msimulate_rounds\u001b[0m:\u001b[36m92\u001b[0m - \u001b[1msimulate round 3.\u001b[0m\n",
      "\u001b[32m2024-05-03 11:42:06.511\u001b[0m | \u001b[1mINFO    \u001b[0m | \u001b[36mALLSampler_Sentence\u001b[0m:\u001b[36mkeep_sample\u001b[0m:\u001b[36m82\u001b[0m - \u001b[1mcurrent sampled sentences: 10356, remaining sentences: 41442\u001b[0m\n",
      "\u001b[32m2024-05-03 11:48:53.088\u001b[0m | \u001b[1mINFO    \u001b[0m | \u001b[36mALLSampler_Sentence\u001b[0m:\u001b[36msimulate_rounds\u001b[0m:\u001b[36m92\u001b[0m - \u001b[1msimulate round 4.\u001b[0m\n",
      "\u001b[32m2024-05-03 11:49:46.385\u001b[0m | \u001b[1mINFO    \u001b[0m | \u001b[36mALLSampler_Sentence\u001b[0m:\u001b[36mkeep_sample\u001b[0m:\u001b[36m82\u001b[0m - \u001b[1mcurrent sampled sentences: 12945, remaining sentences: 38853\u001b[0m\n",
      "\u001b[32m2024-05-03 11:57:05.558\u001b[0m | \u001b[1mINFO    \u001b[0m | \u001b[36mALLSampler_Sentence\u001b[0m:\u001b[36msimulate_rounds\u001b[0m:\u001b[36m92\u001b[0m - \u001b[1msimulate round 5.\u001b[0m\n",
      "\u001b[32m2024-05-03 11:57:55.835\u001b[0m | \u001b[1mINFO    \u001b[0m | \u001b[36mALLSampler_Sentence\u001b[0m:\u001b[36mkeep_sample\u001b[0m:\u001b[36m82\u001b[0m - \u001b[1mcurrent sampled sentences: 15534, remaining sentences: 36264\u001b[0m\n",
      "\u001b[32m2024-05-03 12:05:47.223\u001b[0m | \u001b[1mINFO    \u001b[0m | \u001b[36mALLSampler_Sentence\u001b[0m:\u001b[36msimulate_rounds\u001b[0m:\u001b[36m92\u001b[0m - \u001b[1msimulate round 6.\u001b[0m\n",
      "\u001b[32m2024-05-03 12:06:33.735\u001b[0m | \u001b[1mINFO    \u001b[0m | \u001b[36mALLSampler_Sentence\u001b[0m:\u001b[36mkeep_sample\u001b[0m:\u001b[36m82\u001b[0m - \u001b[1mcurrent sampled sentences: 18123, remaining sentences: 33675\u001b[0m\n",
      "\u001b[32m2024-05-03 12:14:59.948\u001b[0m | \u001b[1mINFO    \u001b[0m | \u001b[36mALLSampler_Sentence\u001b[0m:\u001b[36msimulate_rounds\u001b[0m:\u001b[36m92\u001b[0m - \u001b[1msimulate round 7.\u001b[0m\n",
      "\u001b[32m2024-05-03 12:15:45.013\u001b[0m | \u001b[1mINFO    \u001b[0m | \u001b[36mALLSampler_Sentence\u001b[0m:\u001b[36mkeep_sample\u001b[0m:\u001b[36m82\u001b[0m - \u001b[1mcurrent sampled sentences: 20712, remaining sentences: 31086\u001b[0m\n",
      "\u001b[32m2024-05-03 12:24:46.088\u001b[0m | \u001b[1mINFO    \u001b[0m | \u001b[36mALLSampler_Sentence\u001b[0m:\u001b[36msimulate_rounds\u001b[0m:\u001b[36m92\u001b[0m - \u001b[1msimulate round 8.\u001b[0m\n",
      "\u001b[32m2024-05-03 12:25:25.848\u001b[0m | \u001b[1mINFO    \u001b[0m | \u001b[36mALLSampler_Sentence\u001b[0m:\u001b[36mkeep_sample\u001b[0m:\u001b[36m82\u001b[0m - \u001b[1mcurrent sampled sentences: 23301, remaining sentences: 28497\u001b[0m\n",
      "\u001b[32m2024-05-03 12:34:58.165\u001b[0m | \u001b[1mINFO    \u001b[0m | \u001b[36mALLSampler_Sentence\u001b[0m:\u001b[36msimulate_rounds\u001b[0m:\u001b[36m92\u001b[0m - \u001b[1msimulate round 9.\u001b[0m\n",
      "\u001b[32m2024-05-03 12:35:36.992\u001b[0m | \u001b[1mINFO    \u001b[0m | \u001b[36mALLSampler_Sentence\u001b[0m:\u001b[36mkeep_sample\u001b[0m:\u001b[36m82\u001b[0m - \u001b[1mcurrent sampled sentences: 25890, remaining sentences: 25908\u001b[0m\n",
      "\u001b[32m2024-05-03 12:35:37.027\u001b[0m | \u001b[1mINFO    \u001b[0m | \u001b[36mALLSampler_Sentence\u001b[0m:\u001b[36msimulate_rounds\u001b[0m:\u001b[36m97\u001b[0m - \u001b[1mIt's the last round, now add all docs to sampled.\u001b[0m\n",
      "\u001b[32m2024-05-03 12:51:05.304\u001b[0m | \u001b[1mINFO    \u001b[0m | \u001b[36m__main__\u001b[0m:\u001b[36m<module>\u001b[0m:\u001b[36m3\u001b[0m - \u001b[1mstart run 1.\u001b[0m\n",
      "\u001b[32m2024-05-03 12:51:05.413\u001b[0m | \u001b[1mINFO    \u001b[0m | \u001b[36mALLSampler_Sentence\u001b[0m:\u001b[36msimulate_rounds\u001b[0m:\u001b[36m92\u001b[0m - \u001b[1msimulate round 0.\u001b[0m\n",
      "\u001b[32m2024-05-03 12:51:05.772\u001b[0m | \u001b[1mINFO    \u001b[0m | \u001b[36mALLSampler_Sentence\u001b[0m:\u001b[36mkeep_sample\u001b[0m:\u001b[36m82\u001b[0m - \u001b[1mcurrent sampled sentences: 2589, remaining sentences: 49209\u001b[0m\n",
      "\u001b[32m2024-05-03 12:56:22.415\u001b[0m | \u001b[1mINFO    \u001b[0m | \u001b[36mALLSampler_Sentence\u001b[0m:\u001b[36msimulate_rounds\u001b[0m:\u001b[36m92\u001b[0m - \u001b[1msimulate round 1.\u001b[0m\n",
      "\u001b[32m2024-05-03 12:57:28.429\u001b[0m | \u001b[1mINFO    \u001b[0m | \u001b[36mALLSampler_Sentence\u001b[0m:\u001b[36mkeep_sample\u001b[0m:\u001b[36m82\u001b[0m - \u001b[1mcurrent sampled sentences: 5178, remaining sentences: 46620\u001b[0m\n",
      "\u001b[32m2024-05-03 13:03:14.787\u001b[0m | \u001b[1mINFO    \u001b[0m | \u001b[36mALLSampler_Sentence\u001b[0m:\u001b[36msimulate_rounds\u001b[0m:\u001b[36m92\u001b[0m - \u001b[1msimulate round 2.\u001b[0m\n",
      "\u001b[32m2024-05-03 13:04:16.654\u001b[0m | \u001b[1mINFO    \u001b[0m | \u001b[36mALLSampler_Sentence\u001b[0m:\u001b[36mkeep_sample\u001b[0m:\u001b[36m82\u001b[0m - \u001b[1mcurrent sampled sentences: 7767, remaining sentences: 44031\u001b[0m\n",
      "\u001b[32m2024-05-03 13:10:33.612\u001b[0m | \u001b[1mINFO    \u001b[0m | \u001b[36mALLSampler_Sentence\u001b[0m:\u001b[36msimulate_rounds\u001b[0m:\u001b[36m92\u001b[0m - \u001b[1msimulate round 3.\u001b[0m\n",
      "\u001b[32m2024-05-03 13:11:31.335\u001b[0m | \u001b[1mINFO    \u001b[0m | \u001b[36mALLSampler_Sentence\u001b[0m:\u001b[36mkeep_sample\u001b[0m:\u001b[36m82\u001b[0m - \u001b[1mcurrent sampled sentences: 10356, remaining sentences: 41442\u001b[0m\n",
      "\u001b[32m2024-05-03 13:18:26.295\u001b[0m | \u001b[1mINFO    \u001b[0m | \u001b[36mALLSampler_Sentence\u001b[0m:\u001b[36msimulate_rounds\u001b[0m:\u001b[36m92\u001b[0m - \u001b[1msimulate round 4.\u001b[0m\n",
      "\u001b[32m2024-05-03 13:19:21.575\u001b[0m | \u001b[1mINFO    \u001b[0m | \u001b[36mALLSampler_Sentence\u001b[0m:\u001b[36mkeep_sample\u001b[0m:\u001b[36m82\u001b[0m - \u001b[1mcurrent sampled sentences: 12945, remaining sentences: 38853\u001b[0m\n",
      "\u001b[32m2024-05-03 13:26:42.275\u001b[0m | \u001b[1mINFO    \u001b[0m | \u001b[36mALLSampler_Sentence\u001b[0m:\u001b[36msimulate_rounds\u001b[0m:\u001b[36m92\u001b[0m - \u001b[1msimulate round 5.\u001b[0m\n",
      "\u001b[32m2024-05-03 13:27:34.545\u001b[0m | \u001b[1mINFO    \u001b[0m | \u001b[36mALLSampler_Sentence\u001b[0m:\u001b[36mkeep_sample\u001b[0m:\u001b[36m82\u001b[0m - \u001b[1mcurrent sampled sentences: 15534, remaining sentences: 36264\u001b[0m\n",
      "\u001b[32m2024-05-03 13:35:27.221\u001b[0m | \u001b[1mINFO    \u001b[0m | \u001b[36mALLSampler_Sentence\u001b[0m:\u001b[36msimulate_rounds\u001b[0m:\u001b[36m92\u001b[0m - \u001b[1msimulate round 6.\u001b[0m\n",
      "\u001b[32m2024-05-03 13:36:15.654\u001b[0m | \u001b[1mINFO    \u001b[0m | \u001b[36mALLSampler_Sentence\u001b[0m:\u001b[36mkeep_sample\u001b[0m:\u001b[36m82\u001b[0m - \u001b[1mcurrent sampled sentences: 18123, remaining sentences: 33675\u001b[0m\n",
      "\u001b[32m2024-05-03 13:44:40.611\u001b[0m | \u001b[1mINFO    \u001b[0m | \u001b[36mALLSampler_Sentence\u001b[0m:\u001b[36msimulate_rounds\u001b[0m:\u001b[36m92\u001b[0m - \u001b[1msimulate round 7.\u001b[0m\n",
      "\u001b[32m2024-05-03 13:45:26.181\u001b[0m | \u001b[1mINFO    \u001b[0m | \u001b[36mALLSampler_Sentence\u001b[0m:\u001b[36mkeep_sample\u001b[0m:\u001b[36m82\u001b[0m - \u001b[1mcurrent sampled sentences: 20712, remaining sentences: 31086\u001b[0m\n",
      "\u001b[32m2024-05-03 13:54:25.451\u001b[0m | \u001b[1mINFO    \u001b[0m | \u001b[36mALLSampler_Sentence\u001b[0m:\u001b[36msimulate_rounds\u001b[0m:\u001b[36m92\u001b[0m - \u001b[1msimulate round 8.\u001b[0m\n",
      "\u001b[32m2024-05-03 13:55:07.191\u001b[0m | \u001b[1mINFO    \u001b[0m | \u001b[36mALLSampler_Sentence\u001b[0m:\u001b[36mkeep_sample\u001b[0m:\u001b[36m82\u001b[0m - \u001b[1mcurrent sampled sentences: 23301, remaining sentences: 28497\u001b[0m\n",
      "\u001b[32m2024-05-03 14:04:36.064\u001b[0m | \u001b[1mINFO    \u001b[0m | \u001b[36mALLSampler_Sentence\u001b[0m:\u001b[36msimulate_rounds\u001b[0m:\u001b[36m92\u001b[0m - \u001b[1msimulate round 9.\u001b[0m\n",
      "\u001b[32m2024-05-03 14:05:14.109\u001b[0m | \u001b[1mINFO    \u001b[0m | \u001b[36mALLSampler_Sentence\u001b[0m:\u001b[36mkeep_sample\u001b[0m:\u001b[36m82\u001b[0m - \u001b[1mcurrent sampled sentences: 25890, remaining sentences: 25908\u001b[0m\n",
      "\u001b[32m2024-05-03 14:05:14.144\u001b[0m | \u001b[1mINFO    \u001b[0m | \u001b[36mALLSampler_Sentence\u001b[0m:\u001b[36msimulate_rounds\u001b[0m:\u001b[36m97\u001b[0m - \u001b[1mIt's the last round, now add all docs to sampled.\u001b[0m\n",
      "\u001b[32m2024-05-03 14:20:38.589\u001b[0m | \u001b[1mINFO    \u001b[0m | \u001b[36m__main__\u001b[0m:\u001b[36m<module>\u001b[0m:\u001b[36m3\u001b[0m - \u001b[1mstart run 2.\u001b[0m\n",
      "\u001b[32m2024-05-03 14:20:38.699\u001b[0m | \u001b[1mINFO    \u001b[0m | \u001b[36mALLSampler_Sentence\u001b[0m:\u001b[36msimulate_rounds\u001b[0m:\u001b[36m92\u001b[0m - \u001b[1msimulate round 0.\u001b[0m\n",
      "\u001b[32m2024-05-03 14:20:39.077\u001b[0m | \u001b[1mINFO    \u001b[0m | \u001b[36mALLSampler_Sentence\u001b[0m:\u001b[36mkeep_sample\u001b[0m:\u001b[36m82\u001b[0m - \u001b[1mcurrent sampled sentences: 2589, remaining sentences: 49209\u001b[0m\n",
      "\u001b[32m2024-05-03 14:25:56.533\u001b[0m | \u001b[1mINFO    \u001b[0m | \u001b[36mALLSampler_Sentence\u001b[0m:\u001b[36msimulate_rounds\u001b[0m:\u001b[36m92\u001b[0m - \u001b[1msimulate round 1.\u001b[0m\n",
      "\u001b[32m2024-05-03 14:27:01.481\u001b[0m | \u001b[1mINFO    \u001b[0m | \u001b[36mALLSampler_Sentence\u001b[0m:\u001b[36mkeep_sample\u001b[0m:\u001b[36m82\u001b[0m - \u001b[1mcurrent sampled sentences: 5178, remaining sentences: 46620\u001b[0m\n",
      "\u001b[32m2024-05-03 14:32:43.740\u001b[0m | \u001b[1mINFO    \u001b[0m | \u001b[36mALLSampler_Sentence\u001b[0m:\u001b[36msimulate_rounds\u001b[0m:\u001b[36m92\u001b[0m - \u001b[1msimulate round 2.\u001b[0m\n",
      "\u001b[32m2024-05-03 14:33:44.831\u001b[0m | \u001b[1mINFO    \u001b[0m | \u001b[36mALLSampler_Sentence\u001b[0m:\u001b[36mkeep_sample\u001b[0m:\u001b[36m82\u001b[0m - \u001b[1mcurrent sampled sentences: 7767, remaining sentences: 44031\u001b[0m\n",
      "\u001b[32m2024-05-03 14:40:03.661\u001b[0m | \u001b[1mINFO    \u001b[0m | \u001b[36mALLSampler_Sentence\u001b[0m:\u001b[36msimulate_rounds\u001b[0m:\u001b[36m92\u001b[0m - \u001b[1msimulate round 3.\u001b[0m\n",
      "\u001b[32m2024-05-03 14:41:02.954\u001b[0m | \u001b[1mINFO    \u001b[0m | \u001b[36mALLSampler_Sentence\u001b[0m:\u001b[36mkeep_sample\u001b[0m:\u001b[36m82\u001b[0m - \u001b[1mcurrent sampled sentences: 10356, remaining sentences: 41442\u001b[0m\n",
      "\u001b[32m2024-05-03 14:47:52.868\u001b[0m | \u001b[1mINFO    \u001b[0m | \u001b[36mALLSampler_Sentence\u001b[0m:\u001b[36msimulate_rounds\u001b[0m:\u001b[36m92\u001b[0m - \u001b[1msimulate round 4.\u001b[0m\n",
      "\u001b[32m2024-05-03 14:48:48.172\u001b[0m | \u001b[1mINFO    \u001b[0m | \u001b[36mALLSampler_Sentence\u001b[0m:\u001b[36mkeep_sample\u001b[0m:\u001b[36m82\u001b[0m - \u001b[1mcurrent sampled sentences: 12945, remaining sentences: 38853\u001b[0m\n",
      "\u001b[32m2024-05-03 14:56:03.220\u001b[0m | \u001b[1mINFO    \u001b[0m | \u001b[36mALLSampler_Sentence\u001b[0m:\u001b[36msimulate_rounds\u001b[0m:\u001b[36m92\u001b[0m - \u001b[1msimulate round 5.\u001b[0m\n",
      "\u001b[32m2024-05-03 14:56:54.797\u001b[0m | \u001b[1mINFO    \u001b[0m | \u001b[36mALLSampler_Sentence\u001b[0m:\u001b[36mkeep_sample\u001b[0m:\u001b[36m82\u001b[0m - \u001b[1mcurrent sampled sentences: 15534, remaining sentences: 36264\u001b[0m\n",
      "\u001b[32m2024-05-03 15:04:44.320\u001b[0m | \u001b[1mINFO    \u001b[0m | \u001b[36mALLSampler_Sentence\u001b[0m:\u001b[36msimulate_rounds\u001b[0m:\u001b[36m92\u001b[0m - \u001b[1msimulate round 6.\u001b[0m\n",
      "\u001b[32m2024-05-03 15:05:32.679\u001b[0m | \u001b[1mINFO    \u001b[0m | \u001b[36mALLSampler_Sentence\u001b[0m:\u001b[36mkeep_sample\u001b[0m:\u001b[36m82\u001b[0m - \u001b[1mcurrent sampled sentences: 18123, remaining sentences: 33675\u001b[0m\n",
      "\u001b[32m2024-05-03 15:13:48.755\u001b[0m | \u001b[1mINFO    \u001b[0m | \u001b[36mALLSampler_Sentence\u001b[0m:\u001b[36msimulate_rounds\u001b[0m:\u001b[36m92\u001b[0m - \u001b[1msimulate round 7.\u001b[0m\n",
      "\u001b[32m2024-05-03 15:14:33.725\u001b[0m | \u001b[1mINFO    \u001b[0m | \u001b[36mALLSampler_Sentence\u001b[0m:\u001b[36mkeep_sample\u001b[0m:\u001b[36m82\u001b[0m - \u001b[1mcurrent sampled sentences: 20712, remaining sentences: 31086\u001b[0m\n",
      "\u001b[32m2024-05-03 15:23:24.682\u001b[0m | \u001b[1mINFO    \u001b[0m | \u001b[36mALLSampler_Sentence\u001b[0m:\u001b[36msimulate_rounds\u001b[0m:\u001b[36m92\u001b[0m - \u001b[1msimulate round 8.\u001b[0m\n",
      "\u001b[32m2024-05-03 15:24:05.002\u001b[0m | \u001b[1mINFO    \u001b[0m | \u001b[36mALLSampler_Sentence\u001b[0m:\u001b[36mkeep_sample\u001b[0m:\u001b[36m82\u001b[0m - \u001b[1mcurrent sampled sentences: 23301, remaining sentences: 28497\u001b[0m\n",
      "\u001b[32m2024-05-03 15:33:28.662\u001b[0m | \u001b[1mINFO    \u001b[0m | \u001b[36mALLSampler_Sentence\u001b[0m:\u001b[36msimulate_rounds\u001b[0m:\u001b[36m92\u001b[0m - \u001b[1msimulate round 9.\u001b[0m\n",
      "\u001b[32m2024-05-03 15:34:07.250\u001b[0m | \u001b[1mINFO    \u001b[0m | \u001b[36mALLSampler_Sentence\u001b[0m:\u001b[36mkeep_sample\u001b[0m:\u001b[36m82\u001b[0m - \u001b[1mcurrent sampled sentences: 25890, remaining sentences: 25908\u001b[0m\n",
      "\u001b[32m2024-05-03 15:34:07.286\u001b[0m | \u001b[1mINFO    \u001b[0m | \u001b[36mALLSampler_Sentence\u001b[0m:\u001b[36msimulate_rounds\u001b[0m:\u001b[36m97\u001b[0m - \u001b[1mIt's the last round, now add all docs to sampled.\u001b[0m\n"
     ]
    }
   ],
   "source": [
    "all_scores=[]\n",
    "for si, seed  in enumerate(seeds):\n",
    "    logger.info(f'start run {si}.')\n",
    "    crf_model=CRFModel(anno_types=annos)\n",
    "    m_simulator=ModelSamplingSimulator(total_sents=train_df, \n",
    "                                   total_round=10, \n",
    "                                   modelWrapper=crf_model, \n",
    "                                   eval_sents=test_df, \n",
    "                                   init_seed=seed)  \n",
    "    scores=m_simulator.simulate_rounds()\n",
    "    all_scores.append(scores) "
   ]
  },
  {
   "cell_type": "code",
   "execution_count": 24,
   "id": "7f948158-e601-4bf5-b198-858598c65992",
   "metadata": {},
   "outputs": [
    {
     "data": {
      "text/plain": [
       "['../data/n2c2/scores_sentence_sampling/ner_crf_scores_sentenceSampling_5percent10round.joblib']"
      ]
     },
     "execution_count": 24,
     "metadata": {},
     "output_type": "execute_result"
    }
   ],
   "source": [
    "joblib.dump(all_scores, r'../data/n2c2/scores_sentence_sampling/ner_crf_scores_sentenceSampling_5percent10round.joblib')\n"
   ]
  },
  {
   "cell_type": "code",
   "execution_count": null,
   "id": "4467b761-6d66-410f-a2f7-5899f6166995",
   "metadata": {},
   "outputs": [],
   "source": []
  }
 ],
 "metadata": {
  "kernelspec": {
   "display_name": "Python 3 (ipykernel)",
   "language": "python",
   "name": "python3"
  },
  "language_info": {
   "codemirror_mode": {
    "name": "ipython",
    "version": 3
   },
   "file_extension": ".py",
   "mimetype": "text/x-python",
   "name": "python",
   "nbconvert_exporter": "python",
   "pygments_lexer": "ipython3",
   "version": "3.8.18"
  }
 },
 "nbformat": 4,
 "nbformat_minor": 5
}
