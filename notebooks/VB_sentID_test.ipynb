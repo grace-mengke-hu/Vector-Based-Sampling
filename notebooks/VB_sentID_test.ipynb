{
 "cells": [
  {
   "cell_type": "code",
   "execution_count": 1,
   "id": "feab558e-3a11-41d7-b20b-d0dc7795b4a9",
   "metadata": {},
   "outputs": [],
   "source": [
    "import sklearn_crfsuite\n",
    "from sklearn_crfsuite.metrics import flat_f1_score\n",
    "from sklearn_crfsuite import CRF\n",
    "from sklearn.model_selection import train_test_split\n",
    "import pandas as pd\n",
    "import numpy as np\n",
    "from spacy.lang.en import English\n",
    "from spacy import displacy\n",
    "from pathlib import Path\n",
    "import joblib\n",
    "from spacy.tokens import Doc\n",
    "from typing import List\n",
    "import random\n",
    "from statistics import mean, stdev\n",
    "from loguru import logger\n",
    "import sys\n",
    "import spacy\n",
    "from medspacy_io.reader.brat_reader import BratDocReader, BratDirReader\n",
    "import medspacy"
   ]
  },
  {
   "cell_type": "markdown",
   "id": "7ca126de-4a85-4bc9-9f9b-67fe6cf055e7",
   "metadata": {},
   "source": [
    "### initialize Brat reader"
   ]
  },
  {
   "cell_type": "code",
   "execution_count": 2,
   "id": "c00e2f62-fbb2-4537-acd7-8d6d65676834",
   "metadata": {},
   "outputs": [
    {
     "data": {
      "text/plain": [
       "(True, True)"
      ]
     },
     "execution_count": 2,
     "metadata": {},
     "output_type": "execute_result"
    }
   ],
   "source": [
    "cleaned_train_dir=r'..\\data\\n2c2\\cleaned_training'\n",
    "cleaned_test_dir=r'..\\data\\n2c2\\cleaned_test'\n",
    "Path(cleaned_train_dir).exists(), Path(cleaned_test_dir).exists()"
   ]
  },
  {
   "cell_type": "code",
   "execution_count": 3,
   "id": "fc996951-b31e-4e46-8d6b-51b209576140",
   "metadata": {},
   "outputs": [],
   "source": [
    "nlp=spacy.load('en_core_web_sm', disable=['ner'])"
   ]
  },
  {
   "cell_type": "code",
   "execution_count": 4,
   "id": "d50b5dff-507a-434f-a07c-dc5280c1b587",
   "metadata": {},
   "outputs": [],
   "source": [
    "dir_reader = BratDirReader(nlp=nlp, schema_file=str(Path(cleaned_train_dir, 'annotation.conf')), support_overlap=True)"
   ]
  },
  {
   "cell_type": "markdown",
   "id": "fa2bfcf8-5218-463e-83b9-0653e28edbf1",
   "metadata": {},
   "source": [
    "### Read eHOST annotations | load from pickles"
   ]
  },
  {
   "cell_type": "code",
   "execution_count": 5,
   "id": "131c046e-ec9f-4107-857c-00756b29a185",
   "metadata": {},
   "outputs": [],
   "source": [
    "pickle_file= r'..\\data\\n2c2\\spacy_docs.joblib'"
   ]
  },
  {
   "cell_type": "code",
   "execution_count": 6,
   "id": "779d0113-6fa2-4bb5-aab4-93612b343183",
   "metadata": {},
   "outputs": [
    {
     "name": "stdout",
     "output_type": "stream",
     "text": [
      "..\\data\\n2c2\\spacy_docs.joblib already exists, load them directly\n"
     ]
    }
   ],
   "source": [
    "if not Path(pickle_file).exists():\n",
    "    train_docs=dir_reader.read(txt_dir=cleaned_train_dir)\n",
    "    test_docs=dir_reader.read(txt_dir=cleaned_test_dir)\n",
    "    print(len(train_docs), len(test_docs))\n",
    "    joblib.dump((train_docs, test_docs), pickle_file)\n",
    "else:\n",
    "    print(f'{pickle_file} already exists, load them directly')\n",
    "    # before load from pickle, initiate EhostDirReader or EhostDocReader first, because some Doc extension used to store meta data will not be automatically recreated by loading.\n",
    "    train_docs, test_docs=joblib.load(pickle_file)"
   ]
  },
  {
   "cell_type": "code",
   "execution_count": 7,
   "id": "81d749b3-7060-488b-b76a-74bcae21edbd",
   "metadata": {},
   "outputs": [
    {
     "data": {
      "text/plain": [
       "(303, 202)"
      ]
     },
     "execution_count": 7,
     "metadata": {},
     "output_type": "execute_result"
    }
   ],
   "source": [
    "len(train_docs), len(test_docs)"
   ]
  },
  {
   "cell_type": "markdown",
   "id": "eda91604-4825-4bc6-beab-edc7fc52d4a4",
   "metadata": {},
   "source": [
    "### CRF Wrapper (only use for eval)"
   ]
  },
  {
   "cell_type": "code",
   "execution_count": 8,
   "id": "d47223f5-b41c-491c-a22c-67b970f03b3c",
   "metadata": {},
   "outputs": [],
   "source": [
    "from CRFWrapper_Sentence import spans_to_bio, convert_docs, word2features, sent2features,compute_metrics_and_averages,  CRFModel\n"
   ]
  },
  {
   "cell_type": "code",
   "execution_count": 9,
   "id": "8a44dc18-62d4-4dca-8238-adc20db45fba",
   "metadata": {},
   "outputs": [
    {
     "name": "stdout",
     "output_type": "stream",
     "text": [
      "{'Reason', 'Drug', 'Frequency', 'Duration', 'Strength', 'Dosage', 'Route', 'Form', 'ADE'}\n"
     ]
    }
   ],
   "source": [
    "## Get all annotation types: \n",
    "annos=set()\n",
    "for d in train_docs:\n",
    "    for anno in d.spans.keys():\n",
    "        annos.add(anno)\n",
    "print(annos)"
   ]
  },
  {
   "cell_type": "code",
   "execution_count": 10,
   "id": "c5b9712d-0510-4110-ab60-1f6c29166926",
   "metadata": {},
   "outputs": [],
   "source": [
    "crf_model=CRFModel(anno_types=annos)"
   ]
  },
  {
   "cell_type": "markdown",
   "id": "085b060a-8218-4231-ae5e-31a4f94af6f6",
   "metadata": {},
   "source": [
    "### converting docs to DF"
   ]
  },
  {
   "cell_type": "code",
   "execution_count": 11,
   "id": "bce769c7-5f5e-4862-971c-d8854209b336",
   "metadata": {},
   "outputs": [],
   "source": [
    "from ALLSampler_Sentence import SamplingSimulator, ModelSamplingSimulator, VBSamplingSimulator, convert_docs_medspacyIOvec"
   ]
  },
  {
   "cell_type": "code",
   "execution_count": 12,
   "id": "a7c7a62a-2488-4ae2-b533-4e478804af84",
   "metadata": {},
   "outputs": [],
   "source": [
    "_, train_df=convert_docs(train_docs, anno_types=annos)\n",
    "_, test_df=convert_docs(test_docs, anno_types=annos)"
   ]
  },
  {
   "cell_type": "code",
   "execution_count": 13,
   "id": "a7809ffc-5785-4200-b263-7cc79a500562",
   "metadata": {},
   "outputs": [
    {
     "data": {
      "text/html": [
       "<div>\n",
       "<style scoped>\n",
       "    .dataframe tbody tr th:only-of-type {\n",
       "        vertical-align: middle;\n",
       "    }\n",
       "\n",
       "    .dataframe tbody tr th {\n",
       "        vertical-align: top;\n",
       "    }\n",
       "\n",
       "    .dataframe thead th {\n",
       "        text-align: right;\n",
       "    }\n",
       "</style>\n",
       "<table border=\"1\" class=\"dataframe\">\n",
       "  <thead>\n",
       "    <tr style=\"text-align: right;\">\n",
       "      <th></th>\n",
       "      <th>sentence_id</th>\n",
       "      <th>doc_name</th>\n",
       "      <th>token</th>\n",
       "      <th>label</th>\n",
       "      <th>sentence</th>\n",
       "    </tr>\n",
       "  </thead>\n",
       "  <tbody>\n",
       "    <tr>\n",
       "      <th>0</th>\n",
       "      <td>0</td>\n",
       "      <td>100035.txt</td>\n",
       "      <td>Admission</td>\n",
       "      <td>O</td>\n",
       "      <td>Admission Date:</td>\n",
       "    </tr>\n",
       "    <tr>\n",
       "      <th>1</th>\n",
       "      <td>0</td>\n",
       "      <td>100035.txt</td>\n",
       "      <td>Date</td>\n",
       "      <td>O</td>\n",
       "      <td>Admission Date:</td>\n",
       "    </tr>\n",
       "    <tr>\n",
       "      <th>2</th>\n",
       "      <td>0</td>\n",
       "      <td>100035.txt</td>\n",
       "      <td>:</td>\n",
       "      <td>O</td>\n",
       "      <td>Admission Date:</td>\n",
       "    </tr>\n",
       "    <tr>\n",
       "      <th>3</th>\n",
       "      <td>1</td>\n",
       "      <td>100035.txt</td>\n",
       "      <td>[</td>\n",
       "      <td>O</td>\n",
       "      <td>[**2115-2-22**]              Discharge Date:  ...</td>\n",
       "    </tr>\n",
       "    <tr>\n",
       "      <th>4</th>\n",
       "      <td>1</td>\n",
       "      <td>100035.txt</td>\n",
       "      <td>*</td>\n",
       "      <td>O</td>\n",
       "      <td>[**2115-2-22**]              Discharge Date:  ...</td>\n",
       "    </tr>\n",
       "    <tr>\n",
       "      <th>...</th>\n",
       "      <td>...</td>\n",
       "      <td>...</td>\n",
       "      <td>...</td>\n",
       "      <td>...</td>\n",
       "      <td>...</td>\n",
       "    </tr>\n",
       "    <tr>\n",
       "      <th>3151</th>\n",
       "      <td>929927</td>\n",
       "      <td>198406.txt</td>\n",
       "      <td>Followup</td>\n",
       "      <td>O</td>\n",
       "      <td>Mirtazapine 15 mg PO QHS\\n\\n\\nDischarge Medica...</td>\n",
       "    </tr>\n",
       "    <tr>\n",
       "      <th>3152</th>\n",
       "      <td>929927</td>\n",
       "      <td>198406.txt</td>\n",
       "      <td>Instructions</td>\n",
       "      <td>O</td>\n",
       "      <td>Mirtazapine 15 mg PO QHS\\n\\n\\nDischarge Medica...</td>\n",
       "    </tr>\n",
       "    <tr>\n",
       "      <th>3153</th>\n",
       "      <td>929927</td>\n",
       "      <td>198406.txt</td>\n",
       "      <td>:</td>\n",
       "      <td>O</td>\n",
       "      <td>Mirtazapine 15 mg PO QHS\\n\\n\\nDischarge Medica...</td>\n",
       "    </tr>\n",
       "    <tr>\n",
       "      <th>3154</th>\n",
       "      <td>929927</td>\n",
       "      <td>198406.txt</td>\n",
       "      <td>\\n</td>\n",
       "      <td>O</td>\n",
       "      <td>Mirtazapine 15 mg PO QHS\\n\\n\\nDischarge Medica...</td>\n",
       "    </tr>\n",
       "    <tr>\n",
       "      <th>3155</th>\n",
       "      <td>929927</td>\n",
       "      <td>198406.txt</td>\n",
       "      <td>Deceased</td>\n",
       "      <td>O</td>\n",
       "      <td>Mirtazapine 15 mg PO QHS\\n\\n\\nDischarge Medica...</td>\n",
       "    </tr>\n",
       "  </tbody>\n",
       "</table>\n",
       "<p>932906 rows × 5 columns</p>\n",
       "</div>"
      ],
      "text/plain": [
       "      sentence_id    doc_name         token label  \\\n",
       "0               0  100035.txt     Admission     O   \n",
       "1               0  100035.txt          Date     O   \n",
       "2               0  100035.txt             :     O   \n",
       "3               1  100035.txt             [     O   \n",
       "4               1  100035.txt             *     O   \n",
       "...           ...         ...           ...   ...   \n",
       "3151       929927  198406.txt      Followup     O   \n",
       "3152       929927  198406.txt  Instructions     O   \n",
       "3153       929927  198406.txt             :     O   \n",
       "3154       929927  198406.txt            \\n     O   \n",
       "3155       929927  198406.txt      Deceased     O   \n",
       "\n",
       "                                               sentence  \n",
       "0                                     Admission Date:    \n",
       "1                                     Admission Date:    \n",
       "2                                     Admission Date:    \n",
       "3     [**2115-2-22**]              Discharge Date:  ...  \n",
       "4     [**2115-2-22**]              Discharge Date:  ...  \n",
       "...                                                 ...  \n",
       "3151  Mirtazapine 15 mg PO QHS\\n\\n\\nDischarge Medica...  \n",
       "3152  Mirtazapine 15 mg PO QHS\\n\\n\\nDischarge Medica...  \n",
       "3153  Mirtazapine 15 mg PO QHS\\n\\n\\nDischarge Medica...  \n",
       "3154  Mirtazapine 15 mg PO QHS\\n\\n\\nDischarge Medica...  \n",
       "3155  Mirtazapine 15 mg PO QHS\\n\\n\\nDischarge Medica...  \n",
       "\n",
       "[932906 rows x 5 columns]"
      ]
     },
     "execution_count": 13,
     "metadata": {},
     "output_type": "execute_result"
    }
   ],
   "source": [
    "train_df #sentence_id\tdoc_name\ttoken\tlabel\tsentence"
   ]
  },
  {
   "cell_type": "code",
   "execution_count": 14,
   "id": "83bbe9e9-cffb-442e-a299-5e313ab2226e",
   "metadata": {},
   "outputs": [
    {
     "data": {
      "text/html": [
       "<div>\n",
       "<style scoped>\n",
       "    .dataframe tbody tr th:only-of-type {\n",
       "        vertical-align: middle;\n",
       "    }\n",
       "\n",
       "    .dataframe tbody tr th {\n",
       "        vertical-align: top;\n",
       "    }\n",
       "\n",
       "    .dataframe thead th {\n",
       "        text-align: right;\n",
       "    }\n",
       "</style>\n",
       "<table border=\"1\" class=\"dataframe\">\n",
       "  <thead>\n",
       "    <tr style=\"text-align: right;\">\n",
       "      <th></th>\n",
       "      <th>sentence</th>\n",
       "      <th>concept</th>\n",
       "      <th>y</th>\n",
       "      <th>doc_name</th>\n",
       "    </tr>\n",
       "  </thead>\n",
       "  <tbody>\n",
       "    <tr>\n",
       "      <th>0</th>\n",
       "      <td>[**2078-8-9**]             Sex:   M\\n\\nService...</td>\n",
       "      <td>Vicodin</td>\n",
       "      <td>Drug</td>\n",
       "      <td>100035.txt</td>\n",
       "    </tr>\n",
       "    <tr>\n",
       "      <th>1</th>\n",
       "      <td>While at the OSH, he received CTX,\\nazithromyc...</td>\n",
       "      <td>CTX</td>\n",
       "      <td>Drug</td>\n",
       "      <td>100035.txt</td>\n",
       "    </tr>\n",
       "    <tr>\n",
       "      <th>2</th>\n",
       "      <td>While at the OSH, he received CTX,\\nazithromyc...</td>\n",
       "      <td>azithromycin</td>\n",
       "      <td>Drug</td>\n",
       "      <td>100035.txt</td>\n",
       "    </tr>\n",
       "    <tr>\n",
       "      <th>3</th>\n",
       "      <td>While at the OSH, he received CTX,\\nazithromyc...</td>\n",
       "      <td>epinephrine</td>\n",
       "      <td>Drug</td>\n",
       "      <td>100035.txt</td>\n",
       "    </tr>\n",
       "    <tr>\n",
       "      <th>4</th>\n",
       "      <td>While at the OSH, he received CTX,\\nazithromyc...</td>\n",
       "      <td>solumedrol</td>\n",
       "      <td>Drug</td>\n",
       "      <td>100035.txt</td>\n",
       "    </tr>\n",
       "    <tr>\n",
       "      <th>...</th>\n",
       "      <td>...</td>\n",
       "      <td>...</td>\n",
       "      <td>...</td>\n",
       "      <td>...</td>\n",
       "    </tr>\n",
       "    <tr>\n",
       "      <th>90405</th>\n",
       "      <td>[**Name (NI) **]</td>\n",
       "      <td></td>\n",
       "      <td>NEG</td>\n",
       "      <td>198406.txt</td>\n",
       "    </tr>\n",
       "    <tr>\n",
       "      <th>90406</th>\n",
       "      <td>[**Telephone/Fax (1) 92787**](H),</td>\n",
       "      <td></td>\n",
       "      <td>NEG</td>\n",
       "      <td>198406.txt</td>\n",
       "    </tr>\n",
       "    <tr>\n",
       "      <th>90407</th>\n",
       "      <td>[**Telephone/Fax (1) 92788**](C)\\n\\n\\nMedicati...</td>\n",
       "      <td></td>\n",
       "      <td>NEG</td>\n",
       "      <td>198406.txt</td>\n",
       "    </tr>\n",
       "    <tr>\n",
       "      <th>90408</th>\n",
       "      <td>3.</td>\n",
       "      <td></td>\n",
       "      <td>NEG</td>\n",
       "      <td>198406.txt</td>\n",
       "    </tr>\n",
       "    <tr>\n",
       "      <th>90409</th>\n",
       "      <td>6.</td>\n",
       "      <td></td>\n",
       "      <td>NEG</td>\n",
       "      <td>198406.txt</td>\n",
       "    </tr>\n",
       "  </tbody>\n",
       "</table>\n",
       "<p>90410 rows × 4 columns</p>\n",
       "</div>"
      ],
      "text/plain": [
       "                                                sentence       concept     y  \\\n",
       "0      [**2078-8-9**]             Sex:   M\\n\\nService...       Vicodin  Drug   \n",
       "1      While at the OSH, he received CTX,\\nazithromyc...           CTX  Drug   \n",
       "2      While at the OSH, he received CTX,\\nazithromyc...  azithromycin  Drug   \n",
       "3      While at the OSH, he received CTX,\\nazithromyc...   epinephrine  Drug   \n",
       "4      While at the OSH, he received CTX,\\nazithromyc...    solumedrol  Drug   \n",
       "...                                                  ...           ...   ...   \n",
       "90405                                   [**Name (NI) **]                 NEG   \n",
       "90406                  [**Telephone/Fax (1) 92787**](H),                 NEG   \n",
       "90407  [**Telephone/Fax (1) 92788**](C)\\n\\n\\nMedicati...                 NEG   \n",
       "90408                                                 3.                 NEG   \n",
       "90409                                                 6.                 NEG   \n",
       "\n",
       "         doc_name  \n",
       "0      100035.txt  \n",
       "1      100035.txt  \n",
       "2      100035.txt  \n",
       "3      100035.txt  \n",
       "4      100035.txt  \n",
       "...           ...  \n",
       "90405  198406.txt  \n",
       "90406  198406.txt  \n",
       "90407  198406.txt  \n",
       "90408  198406.txt  \n",
       "90409  198406.txt  \n",
       "\n",
       "[90410 rows x 4 columns]"
      ]
     },
     "execution_count": 14,
     "metadata": {},
     "output_type": "execute_result"
    }
   ],
   "source": [
    "sdf_labels_train=convert_docs_medspacyIOvec(train_docs)\n",
    "sdf_labels_train #sentence\tconcept\ty\tdoc_name"
   ]
  },
  {
   "cell_type": "code",
   "execution_count": 15,
   "id": "ae67c18f-9fd5-4509-96f8-3a30007d2e74",
   "metadata": {},
   "outputs": [],
   "source": [
    "# load embedding for unique sentences\n",
    "pickle_embedding_file= r'..\\data\\n2c2\\embedding_df_uniqueSentID.joblib'\n",
    "embedding_df=joblib.load(pickle_embedding_file)"
   ]
  },
  {
   "cell_type": "code",
   "execution_count": 16,
   "id": "dae5c6cf-78da-40d8-b2e4-556ea2ec0b35",
   "metadata": {},
   "outputs": [
    {
     "data": {
      "text/html": [
       "<div>\n",
       "<style scoped>\n",
       "    .dataframe tbody tr th:only-of-type {\n",
       "        vertical-align: middle;\n",
       "    }\n",
       "\n",
       "    .dataframe tbody tr th {\n",
       "        vertical-align: top;\n",
       "    }\n",
       "\n",
       "    .dataframe thead th {\n",
       "        text-align: right;\n",
       "    }\n",
       "</style>\n",
       "<table border=\"1\" class=\"dataframe\">\n",
       "  <thead>\n",
       "    <tr style=\"text-align: right;\">\n",
       "      <th></th>\n",
       "      <th>sentence_id</th>\n",
       "      <th>sentence</th>\n",
       "      <th>embedding</th>\n",
       "    </tr>\n",
       "  </thead>\n",
       "  <tbody>\n",
       "    <tr>\n",
       "      <th>0</th>\n",
       "      <td>0</td>\n",
       "      <td>Admission Date:</td>\n",
       "      <td>[0.026282, 0.03218903, -0.022386529, 0.0493732...</td>\n",
       "    </tr>\n",
       "    <tr>\n",
       "      <th>3</th>\n",
       "      <td>1</td>\n",
       "      <td>[**2115-2-22**]              Discharge Date:  ...</td>\n",
       "      <td>[0.016159855, 0.042264156, -0.018290585, -0.05...</td>\n",
       "    </tr>\n",
       "    <tr>\n",
       "      <th>35</th>\n",
       "      <td>2</td>\n",
       "      <td>[**2078-8-9**]             Sex:   M\\n\\nService...</td>\n",
       "      <td>[0.025958579, -0.05749655, 0.012378361, -0.009...</td>\n",
       "    </tr>\n",
       "    <tr>\n",
       "      <th>113</th>\n",
       "      <td>3</td>\n",
       "      <td>[**Known lastname 3234**] is a 36 year old gen...</td>\n",
       "      <td>[0.023170307, 0.03989108, 0.026217388, -0.0272...</td>\n",
       "    </tr>\n",
       "    <tr>\n",
       "      <th>163</th>\n",
       "      <td>4</td>\n",
       "      <td>The patient initially presented to LGH ED with...</td>\n",
       "      <td>[0.008176211, -0.06342948, 0.048615105, -0.045...</td>\n",
       "    </tr>\n",
       "    <tr>\n",
       "      <th>...</th>\n",
       "      <td>...</td>\n",
       "      <td>...</td>\n",
       "      <td>...</td>\n",
       "    </tr>\n",
       "    <tr>\n",
       "      <th>3059</th>\n",
       "      <td>929923</td>\n",
       "      <td>Cyanocobalamin 1,000 mcg/mL Injection once a m...</td>\n",
       "      <td>[0.050521564, -0.08905716, -0.0019493615, -0.0...</td>\n",
       "    </tr>\n",
       "    <tr>\n",
       "      <th>3071</th>\n",
       "      <td>929924</td>\n",
       "      <td>Lorazepam 0.25 QAM, O.25 QPM, 0.5 mg QHS\\n8 Ca...</td>\n",
       "      <td>[-0.030010266, -0.062390286, 0.00167252, 0.016...</td>\n",
       "    </tr>\n",
       "    <tr>\n",
       "      <th>3086</th>\n",
       "      <td>929925</td>\n",
       "      <td>Cream Topical TID\\n9.</td>\n",
       "      <td>[0.026732022, -0.04987913, 0.024520764, -0.016...</td>\n",
       "    </tr>\n",
       "    <tr>\n",
       "      <th>3092</th>\n",
       "      <td>929926</td>\n",
       "      <td>Acetaminophen 1000 mg PO Q6H\\n10.</td>\n",
       "      <td>[-0.017295217, -0.10513715, -0.0030776137, -0....</td>\n",
       "    </tr>\n",
       "    <tr>\n",
       "      <th>3100</th>\n",
       "      <td>929927</td>\n",
       "      <td>Mirtazapine 15 mg PO QHS\\n\\n\\nDischarge Medica...</td>\n",
       "      <td>[0.02337662, 0.021309359, 0.039473698, -0.0429...</td>\n",
       "    </tr>\n",
       "  </tbody>\n",
       "</table>\n",
       "<p>51798 rows × 3 columns</p>\n",
       "</div>"
      ],
      "text/plain": [
       "      sentence_id                                           sentence  \\\n",
       "0               0                                  Admission Date:     \n",
       "3               1  [**2115-2-22**]              Discharge Date:  ...   \n",
       "35              2  [**2078-8-9**]             Sex:   M\\n\\nService...   \n",
       "113             3  [**Known lastname 3234**] is a 36 year old gen...   \n",
       "163             4  The patient initially presented to LGH ED with...   \n",
       "...           ...                                                ...   \n",
       "3059       929923  Cyanocobalamin 1,000 mcg/mL Injection once a m...   \n",
       "3071       929924  Lorazepam 0.25 QAM, O.25 QPM, 0.5 mg QHS\\n8 Ca...   \n",
       "3086       929925                              Cream Topical TID\\n9.   \n",
       "3092       929926                  Acetaminophen 1000 mg PO Q6H\\n10.   \n",
       "3100       929927  Mirtazapine 15 mg PO QHS\\n\\n\\nDischarge Medica...   \n",
       "\n",
       "                                              embedding  \n",
       "0     [0.026282, 0.03218903, -0.022386529, 0.0493732...  \n",
       "3     [0.016159855, 0.042264156, -0.018290585, -0.05...  \n",
       "35    [0.025958579, -0.05749655, 0.012378361, -0.009...  \n",
       "113   [0.023170307, 0.03989108, 0.026217388, -0.0272...  \n",
       "163   [0.008176211, -0.06342948, 0.048615105, -0.045...  \n",
       "...                                                 ...  \n",
       "3059  [0.050521564, -0.08905716, -0.0019493615, -0.0...  \n",
       "3071  [-0.030010266, -0.062390286, 0.00167252, 0.016...  \n",
       "3086  [0.026732022, -0.04987913, 0.024520764, -0.016...  \n",
       "3092  [-0.017295217, -0.10513715, -0.0030776137, -0....  \n",
       "3100  [0.02337662, 0.021309359, 0.039473698, -0.0429...  \n",
       "\n",
       "[51798 rows x 3 columns]"
      ]
     },
     "execution_count": 16,
     "metadata": {},
     "output_type": "execute_result"
    }
   ],
   "source": [
    "embedding_df #51798 unique sentences"
   ]
  },
  {
   "cell_type": "code",
   "execution_count": 17,
   "id": "2f611ba2-881e-4aa9-816a-14087bee73d7",
   "metadata": {},
   "outputs": [],
   "source": [
    "#join the embedding to get sentence ID\n",
    "sdf_labels_sid = sdf_labels_train.merge(embedding_df, how='inner', on='sentence') "
   ]
  },
  {
   "cell_type": "code",
   "execution_count": 18,
   "id": "f51ecaf3-96ed-4e6a-8f83-37a54796dd25",
   "metadata": {},
   "outputs": [
    {
     "data": {
      "text/html": [
       "<div>\n",
       "<style scoped>\n",
       "    .dataframe tbody tr th:only-of-type {\n",
       "        vertical-align: middle;\n",
       "    }\n",
       "\n",
       "    .dataframe tbody tr th {\n",
       "        vertical-align: top;\n",
       "    }\n",
       "\n",
       "    .dataframe thead th {\n",
       "        text-align: right;\n",
       "    }\n",
       "</style>\n",
       "<table border=\"1\" class=\"dataframe\">\n",
       "  <thead>\n",
       "    <tr style=\"text-align: right;\">\n",
       "      <th></th>\n",
       "      <th>sentence</th>\n",
       "      <th>concept</th>\n",
       "      <th>y</th>\n",
       "      <th>doc_name</th>\n",
       "      <th>sentence_id</th>\n",
       "      <th>embedding</th>\n",
       "    </tr>\n",
       "  </thead>\n",
       "  <tbody>\n",
       "    <tr>\n",
       "      <th>0</th>\n",
       "      <td>[**2078-8-9**]             Sex:   M\\n\\nService...</td>\n",
       "      <td>Vicodin</td>\n",
       "      <td>Drug</td>\n",
       "      <td>100035.txt</td>\n",
       "      <td>2</td>\n",
       "      <td>[0.025958579, -0.05749655, 0.012378361, -0.009...</td>\n",
       "    </tr>\n",
       "    <tr>\n",
       "      <th>1</th>\n",
       "      <td>While at the OSH, he received CTX,\\nazithromyc...</td>\n",
       "      <td>CTX</td>\n",
       "      <td>Drug</td>\n",
       "      <td>100035.txt</td>\n",
       "      <td>5</td>\n",
       "      <td>[0.038356796, -0.054362558, 0.028156247, -0.02...</td>\n",
       "    </tr>\n",
       "    <tr>\n",
       "      <th>2</th>\n",
       "      <td>While at the OSH, he received CTX,\\nazithromyc...</td>\n",
       "      <td>azithromycin</td>\n",
       "      <td>Drug</td>\n",
       "      <td>100035.txt</td>\n",
       "      <td>5</td>\n",
       "      <td>[0.038356796, -0.054362558, 0.028156247, -0.02...</td>\n",
       "    </tr>\n",
       "    <tr>\n",
       "      <th>3</th>\n",
       "      <td>While at the OSH, he received CTX,\\nazithromyc...</td>\n",
       "      <td>epinephrine</td>\n",
       "      <td>Drug</td>\n",
       "      <td>100035.txt</td>\n",
       "      <td>5</td>\n",
       "      <td>[0.038356796, -0.054362558, 0.028156247, -0.02...</td>\n",
       "    </tr>\n",
       "    <tr>\n",
       "      <th>4</th>\n",
       "      <td>While at the OSH, he received CTX,\\nazithromyc...</td>\n",
       "      <td>solumedrol</td>\n",
       "      <td>Drug</td>\n",
       "      <td>100035.txt</td>\n",
       "      <td>5</td>\n",
       "      <td>[0.038356796, -0.054362558, 0.028156247, -0.02...</td>\n",
       "    </tr>\n",
       "    <tr>\n",
       "      <th>...</th>\n",
       "      <td>...</td>\n",
       "      <td>...</td>\n",
       "      <td>...</td>\n",
       "      <td>...</td>\n",
       "      <td>...</td>\n",
       "      <td>...</td>\n",
       "    </tr>\n",
       "    <tr>\n",
       "      <th>638687</th>\n",
       "      <td>Patient had some cardiac enzyme leaks\\nduring ...</td>\n",
       "      <td></td>\n",
       "      <td>NEG</td>\n",
       "      <td>198406.txt</td>\n",
       "      <td>929907</td>\n",
       "      <td>[0.02065785, -0.06587324, 0.055154495, 0.01074...</td>\n",
       "    </tr>\n",
       "    <tr>\n",
       "      <th>638688</th>\n",
       "      <td>Patient was given cardiac healthy diet during ...</td>\n",
       "      <td></td>\n",
       "      <td>NEG</td>\n",
       "      <td>198406.txt</td>\n",
       "      <td>929910</td>\n",
       "      <td>[0.030450102, -0.042418838, 0.00325665, 0.0384...</td>\n",
       "    </tr>\n",
       "    <tr>\n",
       "      <th>638689</th>\n",
       "      <td># CODE: DNR/DNI (discussed with patient and so...</td>\n",
       "      <td></td>\n",
       "      <td>NEG</td>\n",
       "      <td>198406.txt</td>\n",
       "      <td>929911</td>\n",
       "      <td>[0.023342747, 0.013347558, -0.01095362, -0.052...</td>\n",
       "    </tr>\n",
       "    <tr>\n",
       "      <th>638690</th>\n",
       "      <td>[**Telephone/Fax (1) 92787**](H),</td>\n",
       "      <td></td>\n",
       "      <td>NEG</td>\n",
       "      <td>198406.txt</td>\n",
       "      <td>929914</td>\n",
       "      <td>[0.02003492, 0.029056935, -0.0140215475, 0.007...</td>\n",
       "    </tr>\n",
       "    <tr>\n",
       "      <th>638691</th>\n",
       "      <td>[**Telephone/Fax (1) 92788**](C)\\n\\n\\nMedicati...</td>\n",
       "      <td></td>\n",
       "      <td>NEG</td>\n",
       "      <td>198406.txt</td>\n",
       "      <td>929915</td>\n",
       "      <td>[0.013550696, -0.004964338, -0.024216548, -0.0...</td>\n",
       "    </tr>\n",
       "  </tbody>\n",
       "</table>\n",
       "<p>638692 rows × 6 columns</p>\n",
       "</div>"
      ],
      "text/plain": [
       "                                                 sentence       concept     y  \\\n",
       "0       [**2078-8-9**]             Sex:   M\\n\\nService...       Vicodin  Drug   \n",
       "1       While at the OSH, he received CTX,\\nazithromyc...           CTX  Drug   \n",
       "2       While at the OSH, he received CTX,\\nazithromyc...  azithromycin  Drug   \n",
       "3       While at the OSH, he received CTX,\\nazithromyc...   epinephrine  Drug   \n",
       "4       While at the OSH, he received CTX,\\nazithromyc...    solumedrol  Drug   \n",
       "...                                                   ...           ...   ...   \n",
       "638687  Patient had some cardiac enzyme leaks\\nduring ...                 NEG   \n",
       "638688  Patient was given cardiac healthy diet during ...                 NEG   \n",
       "638689  # CODE: DNR/DNI (discussed with patient and so...                 NEG   \n",
       "638690                  [**Telephone/Fax (1) 92787**](H),                 NEG   \n",
       "638691  [**Telephone/Fax (1) 92788**](C)\\n\\n\\nMedicati...                 NEG   \n",
       "\n",
       "          doc_name  sentence_id  \\\n",
       "0       100035.txt            2   \n",
       "1       100035.txt            5   \n",
       "2       100035.txt            5   \n",
       "3       100035.txt            5   \n",
       "4       100035.txt            5   \n",
       "...            ...          ...   \n",
       "638687  198406.txt       929907   \n",
       "638688  198406.txt       929910   \n",
       "638689  198406.txt       929911   \n",
       "638690  198406.txt       929914   \n",
       "638691  198406.txt       929915   \n",
       "\n",
       "                                                embedding  \n",
       "0       [0.025958579, -0.05749655, 0.012378361, -0.009...  \n",
       "1       [0.038356796, -0.054362558, 0.028156247, -0.02...  \n",
       "2       [0.038356796, -0.054362558, 0.028156247, -0.02...  \n",
       "3       [0.038356796, -0.054362558, 0.028156247, -0.02...  \n",
       "4       [0.038356796, -0.054362558, 0.028156247, -0.02...  \n",
       "...                                                   ...  \n",
       "638687  [0.02065785, -0.06587324, 0.055154495, 0.01074...  \n",
       "638688  [0.030450102, -0.042418838, 0.00325665, 0.0384...  \n",
       "638689  [0.023342747, 0.013347558, -0.01095362, -0.052...  \n",
       "638690  [0.02003492, 0.029056935, -0.0140215475, 0.007...  \n",
       "638691  [0.013550696, -0.004964338, -0.024216548, -0.0...  \n",
       "\n",
       "[638692 rows x 6 columns]"
      ]
     },
     "execution_count": 18,
     "metadata": {},
     "output_type": "execute_result"
    }
   ],
   "source": [
    "sdf_labels_sid"
   ]
  },
  {
   "cell_type": "markdown",
   "id": "7b8f54d6-cbce-462a-ab9a-c3ea5ddbdace",
   "metadata": {},
   "source": [
    "### test the sampling simulation"
   ]
  },
  {
   "cell_type": "code",
   "execution_count": 19,
   "id": "2f7400fe-4673-4b6a-b1fb-084db74e2d9e",
   "metadata": {},
   "outputs": [],
   "source": [
    "faiss_index_path= r'..\\data\\n2c2\\faiss_index_st768'\n",
    "pickle_embedding_file= r'..\\data\\n2c2\\embedding_df_uniqueSentID.joblib'"
   ]
  },
  {
   "cell_type": "code",
   "execution_count": 20,
   "id": "8903336b-4ea4-4c48-9099-d74a23c7dd99",
   "metadata": {},
   "outputs": [
    {
     "data": {
      "text/plain": [
       "2"
      ]
     },
     "execution_count": 20,
     "metadata": {},
     "output_type": "execute_result"
    }
   ],
   "source": [
    "# Debugging mode\n",
    "logger.remove()\n",
    "logger.add(sys.stderr, level='INFO')\n",
    "logger.add(sys.stderr, level='DEBUG')"
   ]
  },
  {
   "cell_type": "code",
   "execution_count": 21,
   "id": "0e53e2ef-32ef-4031-9996-28775cb87579",
   "metadata": {},
   "outputs": [
    {
     "name": "stderr",
     "output_type": "stream",
     "text": [
      "\u001b[32m2024-05-15 16:06:27.010\u001b[0m | \u001b[34m\u001b[1mDEBUG   \u001b[0m | \u001b[36mALLSampler_Sentence\u001b[0m:\u001b[36m__init__\u001b[0m:\u001b[36m69\u001b[0m - \u001b[34m\u001b[1mnum per found unique sent: 10\u001b[0m\n",
      "\u001b[32m2024-05-15 16:06:27.018\u001b[0m | \u001b[34m\u001b[1mDEBUG   \u001b[0m | \u001b[36mALLSampler_Sentence\u001b[0m:\u001b[36m__init__\u001b[0m:\u001b[36m224\u001b[0m - \u001b[34m\u001b[1mLoading index...\u001b[0m\n",
      "\u001b[32m2024-05-15 16:06:27.545\u001b[0m | \u001b[34m\u001b[1mDEBUG   \u001b[0m | \u001b[36mALLSampler_Sentence\u001b[0m:\u001b[36m__init__\u001b[0m:\u001b[36m226\u001b[0m - \u001b[34m\u001b[1mdone\u001b[0m\n"
     ]
    }
   ],
   "source": [
    "# initialize VB max: sample 3 round each round 10 sents\n",
    "seed=14\n",
    "vb_simulator=VBSamplingSimulator(total_sents=train_df, \n",
    "                                 total_round=3, \n",
    "                                 modelWrapper=crf_model, \n",
    "                                 eval_sents=test_df, \n",
    "                                 init_seed=seed, \n",
    "                                 faiss_index_path=faiss_index_path, \n",
    "                                 embedding_df=embedding_df,\n",
    "                                 sdf_labels=sdf_labels_sid[['sentence','concept', 'y', 'doc_name','sentence_id']]\n",
    "                                 #,\n",
    "                                 #min_dist_diff=True\n",
    "                                )"
   ]
  },
  {
   "cell_type": "code",
   "execution_count": 22,
   "id": "4e07dd7c-8465-4174-bcf6-a9942e0fb82b",
   "metadata": {},
   "outputs": [],
   "source": [
    "def distribution(df):\n",
    "    gdf=df.groupby('sentence_id')\n",
    "    nsent={}\n",
    "    psent={}\n",
    "    for i,sent in gdf:\n",
    "        labels=list(sent.label.unique()) #sentence labe is in `concept column`\n",
    "        labels.remove('O')\n",
    "        if len(labels)>0:\n",
    "            psent[i]=(labels, ' '.join([str(t) for t in sent.token]))\n",
    "        else:\n",
    "            nsent[i]=(labels,' '.join([str(t) for t in sent.token]))\n",
    "    return psent, nsent"
   ]
  },
  {
   "cell_type": "markdown",
   "id": "f72b7f5b-0d4b-4a43-b70e-975992c21691",
   "metadata": {},
   "source": [
    "#### first round sampling completely random"
   ]
  },
  {
   "cell_type": "code",
   "execution_count": 23,
   "id": "db15f2fd-6226-4e9d-9294-0d04dada8738",
   "metadata": {},
   "outputs": [],
   "source": [
    "vb_simulator.num_per_round=10"
   ]
  },
  {
   "cell_type": "code",
   "execution_count": 24,
   "id": "e29d7173-6556-420a-a0f8-0ce245ba0f12",
   "metadata": {},
   "outputs": [
    {
     "name": "stderr",
     "output_type": "stream",
     "text": [
      "\u001b[32m2024-05-15 16:06:33.003\u001b[0m | \u001b[34m\u001b[1mDEBUG   \u001b[0m | \u001b[36mALLSampler_Sentence\u001b[0m:\u001b[36mkeep_sample\u001b[0m:\u001b[36m78\u001b[0m - \u001b[34m\u001b[1mThe first round sampling will be random\u001b[0m\n",
      "\u001b[32m2024-05-15 16:06:33.428\u001b[0m | \u001b[1mINFO    \u001b[0m | \u001b[36mALLSampler_Sentence\u001b[0m:\u001b[36mkeep_sample\u001b[0m:\u001b[36m85\u001b[0m - \u001b[1mcurrent sampled sentences: 10, remaining sentences: 51788\u001b[0m\n",
      "\u001b[32m2024-05-15 16:06:33.428\u001b[0m | \u001b[1mINFO    \u001b[0m | \u001b[36mALLSampler_Sentence\u001b[0m:\u001b[36mkeep_sample\u001b[0m:\u001b[36m85\u001b[0m - \u001b[1mcurrent sampled sentences: 10, remaining sentences: 51788\u001b[0m\n"
     ]
    }
   ],
   "source": [
    "Sampled_1roundRandom,Remaining_1roundRandom=vb_simulator.keep_sample(True)"
   ]
  },
  {
   "cell_type": "code",
   "execution_count": 25,
   "id": "d6380b93-377d-4f7f-a096-09e31fe0ffc0",
   "metadata": {},
   "outputs": [],
   "source": [
    "psent, nsent=distribution(vb_simulator.sampled)"
   ]
  },
  {
   "cell_type": "code",
   "execution_count": 26,
   "id": "7152d3ff-a743-4216-a21b-afc4d7063dab",
   "metadata": {},
   "outputs": [
    {
     "data": {
      "text/plain": [
       "(9, 1)"
      ]
     },
     "execution_count": 26,
     "metadata": {},
     "output_type": "execute_result"
    }
   ],
   "source": [
    "len(nsent), len(psent) #neg sent, labeled sent"
   ]
  },
  {
   "cell_type": "code",
   "execution_count": 27,
   "id": "f2bef800-9445-4205-9194-124e0e746de4",
   "metadata": {},
   "outputs": [
    {
     "data": {
      "text/plain": [
       "{173777,\n",
       " 238893,\n",
       " 247359,\n",
       " 384017,\n",
       " 541227,\n",
       " 541265,\n",
       " 545918,\n",
       " 606928,\n",
       " 611466,\n",
       " 827217}"
      ]
     },
     "execution_count": 27,
     "metadata": {},
     "output_type": "execute_result"
    }
   ],
   "source": [
    "set(vb_simulator.sampled.sentence_id.to_list()) # unique sentences sampled in 1 round (random sampling)"
   ]
  },
  {
   "cell_type": "code",
   "execution_count": 28,
   "id": "a635d640-a77b-4487-b0fb-c81f29a71c54",
   "metadata": {},
   "outputs": [
    {
     "data": {
      "text/plain": [
       "numpy.int32"
      ]
     },
     "execution_count": 28,
     "metadata": {},
     "output_type": "execute_result"
    }
   ],
   "source": [
    "type(vb_simulator.sdf_labels.iloc[0].sentence_id) #int32 is type of int"
   ]
  },
  {
   "cell_type": "markdown",
   "id": "86435485-39f2-467d-8f67-47771b5fceb4",
   "metadata": {},
   "source": [
    "#### 2nd round sample 10 sentence according to VBmax"
   ]
  },
  {
   "cell_type": "code",
   "execution_count": 29,
   "id": "bea9c062-c773-4773-9884-e652121cb903",
   "metadata": {},
   "outputs": [
    {
     "name": "stderr",
     "output_type": "stream",
     "text": [
      "\u001b[32m2024-05-15 16:06:40.572\u001b[0m | \u001b[34m\u001b[1mDEBUG   \u001b[0m | \u001b[36mCRFWrapper_Sentence\u001b[0m:\u001b[36mfit\u001b[0m:\u001b[36m285\u001b[0m - \u001b[34m\u001b[1mReset and train CRF model...\u001b[0m\n",
      "\u001b[32m2024-05-15 16:06:40.618\u001b[0m | \u001b[34m\u001b[1mDEBUG   \u001b[0m | \u001b[36mCRFWrapper_Sentence\u001b[0m:\u001b[36mfit\u001b[0m:\u001b[36m293\u001b[0m - \u001b[34m\u001b[1mTraining complete.\u001b[0m\n"
     ]
    }
   ],
   "source": [
    "vb_simulator.modelWrapper.fit(vb_simulator.sampled) #CRF model in VBsimulator is only for evaluation performances"
   ]
  },
  {
   "cell_type": "code",
   "execution_count": 30,
   "id": "02ec32d4-fc19-496b-8643-6576ba62a220",
   "metadata": {},
   "outputs": [
    {
     "data": {
      "text/plain": [
       "((141, 5), (932765, 5))"
      ]
     },
     "execution_count": 30,
     "metadata": {},
     "output_type": "execute_result"
    }
   ],
   "source": [
    "vb_simulator.sampled.shape, vb_simulator.remaining.shape"
   ]
  },
  {
   "cell_type": "code",
   "execution_count": 31,
   "id": "4a1d6a44-f5a2-4568-a35d-c9e8ce914118",
   "metadata": {},
   "outputs": [
    {
     "name": "stderr",
     "output_type": "stream",
     "text": [
      "\u001b[32m2024-05-15 16:06:44.510\u001b[0m | \u001b[34m\u001b[1mDEBUG   \u001b[0m | \u001b[36mALLSampler_Sentence\u001b[0m:\u001b[36mfit\u001b[0m:\u001b[36m265\u001b[0m - \u001b[34m\u001b[1m4 centroids detected from the given sampled_docs\u001b[0m\n"
     ]
    }
   ],
   "source": [
    "# this is to get the centroids from sampled dataset\n",
    "vb_simulator.fit(vb_simulator.sampled)"
   ]
  },
  {
   "cell_type": "code",
   "execution_count": 32,
   "id": "e7440dbc-eea8-4997-97f8-d74ee7215c7c",
   "metadata": {},
   "outputs": [
    {
     "name": "stderr",
     "output_type": "stream",
     "text": [
      "\u001b[32m2024-05-15 16:06:48.431\u001b[0m | \u001b[34m\u001b[1mDEBUG   \u001b[0m | \u001b[36mALLSampler_Sentence\u001b[0m:\u001b[36msample_next_round\u001b[0m:\u001b[36m319\u001b[0m - \u001b[34m\u001b[1mCalculating centroids...\u001b[0m\n",
      "\u001b[32m2024-05-15 16:06:48.644\u001b[0m | \u001b[34m\u001b[1mDEBUG   \u001b[0m | \u001b[36mALLSampler_Sentence\u001b[0m:\u001b[36mfit\u001b[0m:\u001b[36m265\u001b[0m - \u001b[34m\u001b[1m4 centroids detected from the given sampled_docs\u001b[0m\n",
      "\u001b[32m2024-05-15 16:06:48.645\u001b[0m | \u001b[34m\u001b[1mDEBUG   \u001b[0m | \u001b[36mALLSampler_Sentence\u001b[0m:\u001b[36msample_next_round\u001b[0m:\u001b[36m322\u001b[0m - \u001b[34m\u001b[1mSearching from the vector index...\u001b[0m\n",
      "\u001b[32m2024-05-15 16:06:48.753\u001b[0m | \u001b[1mINFO    \u001b[0m | \u001b[36mALLSampler_Sentence\u001b[0m:\u001b[36msample_next_round\u001b[0m:\u001b[36m338\u001b[0m - \u001b[1mdistance shape: (929928, 4), max to retrieve 51789 sentences\u001b[0m\n",
      "\u001b[32m2024-05-15 16:06:48.753\u001b[0m | \u001b[1mINFO    \u001b[0m | \u001b[36mALLSampler_Sentence\u001b[0m:\u001b[36msample_next_round\u001b[0m:\u001b[36m338\u001b[0m - \u001b[1mdistance shape: (929928, 4), max to retrieve 51789 sentences\u001b[0m\n",
      "\u001b[32m2024-05-15 16:06:48.755\u001b[0m | \u001b[34m\u001b[1mDEBUG   \u001b[0m | \u001b[36mALLSampler_Sentence\u001b[0m:\u001b[36msample_next_round\u001b[0m:\u001b[36m342\u001b[0m - \u001b[34m\u001b[1msearch for centroid: Drug\u001b[0m\n",
      "\u001b[32m2024-05-15 16:06:48.835\u001b[0m | \u001b[34m\u001b[1mDEBUG   \u001b[0m | \u001b[36mALLSampler_Sentence\u001b[0m:\u001b[36msample_next_round\u001b[0m:\u001b[36m344\u001b[0m - \u001b[34m\u001b[1mFAISS index D shape (1, 51789), I shape: (1, 51789)\u001b[0m\n",
      "\u001b[32m2024-05-15 16:06:48.920\u001b[0m | \u001b[34m\u001b[1mDEBUG   \u001b[0m | \u001b[36mALLSampler_Sentence\u001b[0m:\u001b[36msample_next_round\u001b[0m:\u001b[36m342\u001b[0m - \u001b[34m\u001b[1msearch for centroid: Form\u001b[0m\n",
      "\u001b[32m2024-05-15 16:06:49.090\u001b[0m | \u001b[34m\u001b[1mDEBUG   \u001b[0m | \u001b[36mALLSampler_Sentence\u001b[0m:\u001b[36msample_next_round\u001b[0m:\u001b[36m344\u001b[0m - \u001b[34m\u001b[1mFAISS index D shape (1, 51789), I shape: (1, 51789)\u001b[0m\n",
      "\u001b[32m2024-05-15 16:06:49.133\u001b[0m | \u001b[34m\u001b[1mDEBUG   \u001b[0m | \u001b[36mALLSampler_Sentence\u001b[0m:\u001b[36msample_next_round\u001b[0m:\u001b[36m342\u001b[0m - \u001b[34m\u001b[1msearch for centroid: NEG\u001b[0m\n",
      "\u001b[32m2024-05-15 16:06:49.293\u001b[0m | \u001b[34m\u001b[1mDEBUG   \u001b[0m | \u001b[36mALLSampler_Sentence\u001b[0m:\u001b[36msample_next_round\u001b[0m:\u001b[36m344\u001b[0m - \u001b[34m\u001b[1mFAISS index D shape (1, 51789), I shape: (1, 51789)\u001b[0m\n",
      "\u001b[32m2024-05-15 16:06:49.333\u001b[0m | \u001b[34m\u001b[1mDEBUG   \u001b[0m | \u001b[36mALLSampler_Sentence\u001b[0m:\u001b[36msample_next_round\u001b[0m:\u001b[36m342\u001b[0m - \u001b[34m\u001b[1msearch for centroid: Reason\u001b[0m\n",
      "\u001b[32m2024-05-15 16:06:49.438\u001b[0m | \u001b[34m\u001b[1mDEBUG   \u001b[0m | \u001b[36mALLSampler_Sentence\u001b[0m:\u001b[36msample_next_round\u001b[0m:\u001b[36m344\u001b[0m - \u001b[34m\u001b[1mFAISS index D shape (1, 51789), I shape: (1, 51789)\u001b[0m\n",
      "\u001b[32m2024-05-15 16:06:49.504\u001b[0m | \u001b[1mINFO    \u001b[0m | \u001b[36mALLSampler_Sentence\u001b[0m:\u001b[36msample_next_round\u001b[0m:\u001b[36m351\u001b[0m - \u001b[1mAFTER FAISS INDEXING distance shape: (929928, 4)\u001b[0m\n",
      "\u001b[32m2024-05-15 16:06:49.504\u001b[0m | \u001b[1mINFO    \u001b[0m | \u001b[36mALLSampler_Sentence\u001b[0m:\u001b[36msample_next_round\u001b[0m:\u001b[36m351\u001b[0m - \u001b[1mAFTER FAISS INDEXING distance shape: (929928, 4)\u001b[0m\n",
      "\u001b[32m2024-05-15 16:06:49.512\u001b[0m | \u001b[34m\u001b[1mDEBUG   \u001b[0m | \u001b[36mALLSampler_Sentence\u001b[0m:\u001b[36msort_dist_diff\u001b[0m:\u001b[36m287\u001b[0m - \u001b[34m\u001b[1mCompute max distance differences to centroids.\u001b[0m\n",
      "\u001b[32m2024-05-15 16:06:49.747\u001b[0m | \u001b[34m\u001b[1mDEBUG   \u001b[0m | \u001b[36mALLSampler_Sentence\u001b[0m:\u001b[36msample_next_round\u001b[0m:\u001b[36m354\u001b[0m - \u001b[34m\u001b[1mLocate the docs of these sentences\u001b[0m\n",
      "\u001b[32m2024-05-15 16:06:49.749\u001b[0m | \u001b[34m\u001b[1mDEBUG   \u001b[0m | \u001b[36mALLSampler_Sentence\u001b[0m:\u001b[36msample_next_round\u001b[0m:\u001b[36m355\u001b[0m - \u001b[34m\u001b[1mthe sorted_sids length is: 51780\u001b[0m\n",
      "\u001b[32m2024-05-15 16:06:49.765\u001b[0m | \u001b[34m\u001b[1mDEBUG   \u001b[0m | \u001b[36mALLSampler_Sentence\u001b[0m:\u001b[36msample_next_round\u001b[0m:\u001b[36m360\u001b[0m - \u001b[34m\u001b[1mthe sorted_sid_excludeSampled length is: 51770\u001b[0m\n",
      "\u001b[32m2024-05-15 16:06:49.766\u001b[0m | \u001b[34m\u001b[1mDEBUG   \u001b[0m | \u001b[36mALLSampler_Sentence\u001b[0m:\u001b[36msample_next_round\u001b[0m:\u001b[36m368\u001b[0m - \u001b[34m\u001b[1mNEW SAMPLED UNIQUE SENT REACH NUM_PER_ROUND---:\u001b[0m\n",
      "\u001b[32m2024-05-15 16:06:49.767\u001b[0m | \u001b[34m\u001b[1mDEBUG   \u001b[0m | \u001b[36mALLSampler_Sentence\u001b[0m:\u001b[36msample_next_round\u001b[0m:\u001b[36m369\u001b[0m - \u001b[34m\u001b[1mnum per found 10\u001b[0m\n",
      "\u001b[32m2024-05-15 16:06:49.768\u001b[0m | \u001b[34m\u001b[1mDEBUG   \u001b[0m | \u001b[36mALLSampler_Sentence\u001b[0m:\u001b[36msample_next_round\u001b[0m:\u001b[36m370\u001b[0m - \u001b[34m\u001b[1mnew_sampled_sentID: 10\u001b[0m\n",
      "\u001b[32m2024-05-15 16:06:49.769\u001b[0m | \u001b[34m\u001b[1mDEBUG   \u001b[0m | \u001b[36mALLSampler_Sentence\u001b[0m:\u001b[36msample_next_round\u001b[0m:\u001b[36m371\u001b[0m - \u001b[34m\u001b[1m--------------------------\u001b[0m\n",
      "\u001b[32m2024-05-15 16:06:49.877\u001b[0m | \u001b[34m\u001b[1mDEBUG   \u001b[0m | \u001b[36mALLSampler_Sentence\u001b[0m:\u001b[36msample_next_round\u001b[0m:\u001b[36m375\u001b[0m - \u001b[34m\u001b[1mnew sampled unique sent num: 10\u001b[0m\n",
      "\u001b[32m2024-05-15 16:06:49.879\u001b[0m | \u001b[34m\u001b[1mDEBUG   \u001b[0m | \u001b[36mALLSampler_Sentence\u001b[0m:\u001b[36msample_next_round\u001b[0m:\u001b[36m376\u001b[0m - \u001b[34m\u001b[1mnew remaining unique sent num: 51778\u001b[0m\n"
     ]
    },
    {
     "name": "stdout",
     "output_type": "stream",
     "text": [
      "DISTANCE max_values each row [1.87979615 1.72878361 1.47523391 ... 1.69934332 1.51038969 1.32937431] size: 929928\n",
      "DISTANCE min_values each row [1.76865101 1.4595108  0.92393023 ... 1.37233245 1.11906171 1.02086699] size: 929928\n",
      "DISTANCE max_diff each row [0.11114514 0.2692728  0.55130368 ... 0.32701087 0.39132798 0.30850732] size: 929928\n",
      "after masking max_diff size 51780\n",
      "new_sampled_sentID is Unique Sent in sortedID: {0, 917505, 917506, 917507, 917508, 917509, 917504, 7, 917512, 917513}\n"
     ]
    },
    {
     "name": "stderr",
     "output_type": "stream",
     "text": [
      "\u001b[32m2024-05-15 16:06:50.058\u001b[0m | \u001b[34m\u001b[1mDEBUG   \u001b[0m | \u001b[36mALLSampler_Sentence\u001b[0m:\u001b[36msample_next_round\u001b[0m:\u001b[36m381\u001b[0m - \u001b[34m\u001b[1mBEFORE update model with old sampled data 141, old remaining data 932765 \u001b[0m\n",
      "\u001b[32m2024-05-15 16:06:50.060\u001b[0m | \u001b[34m\u001b[1mDEBUG   \u001b[0m | \u001b[36mALLSampler_Sentence\u001b[0m:\u001b[36msample_next_round\u001b[0m:\u001b[36m384\u001b[0m - \u001b[34m\u001b[1mnew_sampled 123, new remaining data 932642 \u001b[0m\n",
      "\u001b[32m2024-05-15 16:06:50.062\u001b[0m | \u001b[34m\u001b[1mDEBUG   \u001b[0m | \u001b[36mALLSampler_Sentence\u001b[0m:\u001b[36msample_next_round\u001b[0m:\u001b[36m387\u001b[0m - \u001b[34m\u001b[1mUpdate model with new sampled data 264, new remaining data 932642 \u001b[0m\n"
     ]
    },
    {
     "name": "stdout",
     "output_type": "stream",
     "text": [
      "sampled sentID before updating: [611466, 541227, 238893, 606928, 173777, 384017, 541265, 827217, 545918, 247359]\n",
      "new sampled current round: {0, 917505, 917506, 917507, 917508, 917509, 917504, 7, 917512, 917513}\n",
      "sampled sentID after updating: [0, 917504, 917505, 917506, 917507, 917508, 917509, 7, 917512, 917513, 611466, 384017, 541227, 238893, 247359, 606928, 173777, 541265, 827217, 545918]\n"
     ]
    }
   ],
   "source": [
    "# test the sample_next_round\n",
    "sampled_2nd, remaining_2nd =vb_simulator.sample_next_round(vb_simulator.sampled, vb_simulator.remaining, randomly=False)"
   ]
  },
  {
   "cell_type": "code",
   "execution_count": 33,
   "id": "69fa063e-6be4-4df1-a7f5-9074b784e807",
   "metadata": {},
   "outputs": [
    {
     "name": "stderr",
     "output_type": "stream",
     "text": [
      "\u001b[32m2024-05-15 16:07:02.035\u001b[0m | \u001b[34m\u001b[1mDEBUG   \u001b[0m | \u001b[36mALLSampler_Sentence\u001b[0m:\u001b[36mkeep_sample\u001b[0m:\u001b[36m81\u001b[0m - \u001b[34m\u001b[1mSample according to certainties\u001b[0m\n",
      "\u001b[32m2024-05-15 16:07:02.156\u001b[0m | \u001b[34m\u001b[1mDEBUG   \u001b[0m | \u001b[36mALLSampler_Sentence\u001b[0m:\u001b[36msample_next_round\u001b[0m:\u001b[36m319\u001b[0m - \u001b[34m\u001b[1mCalculating centroids...\u001b[0m\n",
      "\u001b[32m2024-05-15 16:07:02.369\u001b[0m | \u001b[34m\u001b[1mDEBUG   \u001b[0m | \u001b[36mALLSampler_Sentence\u001b[0m:\u001b[36mfit\u001b[0m:\u001b[36m265\u001b[0m - \u001b[34m\u001b[1m4 centroids detected from the given sampled_docs\u001b[0m\n",
      "\u001b[32m2024-05-15 16:07:02.371\u001b[0m | \u001b[34m\u001b[1mDEBUG   \u001b[0m | \u001b[36mALLSampler_Sentence\u001b[0m:\u001b[36msample_next_round\u001b[0m:\u001b[36m322\u001b[0m - \u001b[34m\u001b[1mSearching from the vector index...\u001b[0m\n",
      "\u001b[32m2024-05-15 16:07:02.481\u001b[0m | \u001b[1mINFO    \u001b[0m | \u001b[36mALLSampler_Sentence\u001b[0m:\u001b[36msample_next_round\u001b[0m:\u001b[36m338\u001b[0m - \u001b[1mdistance shape: (929928, 4), max to retrieve 51789 sentences\u001b[0m\n",
      "\u001b[32m2024-05-15 16:07:02.481\u001b[0m | \u001b[1mINFO    \u001b[0m | \u001b[36mALLSampler_Sentence\u001b[0m:\u001b[36msample_next_round\u001b[0m:\u001b[36m338\u001b[0m - \u001b[1mdistance shape: (929928, 4), max to retrieve 51789 sentences\u001b[0m\n",
      "\u001b[32m2024-05-15 16:07:02.484\u001b[0m | \u001b[34m\u001b[1mDEBUG   \u001b[0m | \u001b[36mALLSampler_Sentence\u001b[0m:\u001b[36msample_next_round\u001b[0m:\u001b[36m342\u001b[0m - \u001b[34m\u001b[1msearch for centroid: Drug\u001b[0m\n",
      "\u001b[32m2024-05-15 16:07:02.643\u001b[0m | \u001b[34m\u001b[1mDEBUG   \u001b[0m | \u001b[36mALLSampler_Sentence\u001b[0m:\u001b[36msample_next_round\u001b[0m:\u001b[36m344\u001b[0m - \u001b[34m\u001b[1mFAISS index D shape (1, 51789), I shape: (1, 51789)\u001b[0m\n",
      "\u001b[32m2024-05-15 16:07:02.683\u001b[0m | \u001b[34m\u001b[1mDEBUG   \u001b[0m | \u001b[36mALLSampler_Sentence\u001b[0m:\u001b[36msample_next_round\u001b[0m:\u001b[36m342\u001b[0m - \u001b[34m\u001b[1msearch for centroid: Form\u001b[0m\n",
      "\u001b[32m2024-05-15 16:07:02.843\u001b[0m | \u001b[34m\u001b[1mDEBUG   \u001b[0m | \u001b[36mALLSampler_Sentence\u001b[0m:\u001b[36msample_next_round\u001b[0m:\u001b[36m344\u001b[0m - \u001b[34m\u001b[1mFAISS index D shape (1, 51789), I shape: (1, 51789)\u001b[0m\n",
      "\u001b[32m2024-05-15 16:07:02.895\u001b[0m | \u001b[34m\u001b[1mDEBUG   \u001b[0m | \u001b[36mALLSampler_Sentence\u001b[0m:\u001b[36msample_next_round\u001b[0m:\u001b[36m342\u001b[0m - \u001b[34m\u001b[1msearch for centroid: NEG\u001b[0m\n",
      "\u001b[32m2024-05-15 16:07:03.071\u001b[0m | \u001b[34m\u001b[1mDEBUG   \u001b[0m | \u001b[36mALLSampler_Sentence\u001b[0m:\u001b[36msample_next_round\u001b[0m:\u001b[36m344\u001b[0m - \u001b[34m\u001b[1mFAISS index D shape (1, 51789), I shape: (1, 51789)\u001b[0m\n",
      "\u001b[32m2024-05-15 16:07:03.113\u001b[0m | \u001b[34m\u001b[1mDEBUG   \u001b[0m | \u001b[36mALLSampler_Sentence\u001b[0m:\u001b[36msample_next_round\u001b[0m:\u001b[36m342\u001b[0m - \u001b[34m\u001b[1msearch for centroid: Reason\u001b[0m\n",
      "\u001b[32m2024-05-15 16:07:03.273\u001b[0m | \u001b[34m\u001b[1mDEBUG   \u001b[0m | \u001b[36mALLSampler_Sentence\u001b[0m:\u001b[36msample_next_round\u001b[0m:\u001b[36m344\u001b[0m - \u001b[34m\u001b[1mFAISS index D shape (1, 51789), I shape: (1, 51789)\u001b[0m\n",
      "\u001b[32m2024-05-15 16:07:03.311\u001b[0m | \u001b[1mINFO    \u001b[0m | \u001b[36mALLSampler_Sentence\u001b[0m:\u001b[36msample_next_round\u001b[0m:\u001b[36m351\u001b[0m - \u001b[1mAFTER FAISS INDEXING distance shape: (929928, 4)\u001b[0m\n",
      "\u001b[32m2024-05-15 16:07:03.311\u001b[0m | \u001b[1mINFO    \u001b[0m | \u001b[36mALLSampler_Sentence\u001b[0m:\u001b[36msample_next_round\u001b[0m:\u001b[36m351\u001b[0m - \u001b[1mAFTER FAISS INDEXING distance shape: (929928, 4)\u001b[0m\n",
      "\u001b[32m2024-05-15 16:07:03.313\u001b[0m | \u001b[34m\u001b[1mDEBUG   \u001b[0m | \u001b[36mALLSampler_Sentence\u001b[0m:\u001b[36msort_dist_diff\u001b[0m:\u001b[36m287\u001b[0m - \u001b[34m\u001b[1mCompute max distance differences to centroids.\u001b[0m\n",
      "\u001b[32m2024-05-15 16:07:03.548\u001b[0m | \u001b[34m\u001b[1mDEBUG   \u001b[0m | \u001b[36mALLSampler_Sentence\u001b[0m:\u001b[36msample_next_round\u001b[0m:\u001b[36m354\u001b[0m - \u001b[34m\u001b[1mLocate the docs of these sentences\u001b[0m\n",
      "\u001b[32m2024-05-15 16:07:03.549\u001b[0m | \u001b[34m\u001b[1mDEBUG   \u001b[0m | \u001b[36mALLSampler_Sentence\u001b[0m:\u001b[36msample_next_round\u001b[0m:\u001b[36m355\u001b[0m - \u001b[34m\u001b[1mthe sorted_sids length is: 51780\u001b[0m\n",
      "\u001b[32m2024-05-15 16:07:03.565\u001b[0m | \u001b[34m\u001b[1mDEBUG   \u001b[0m | \u001b[36mALLSampler_Sentence\u001b[0m:\u001b[36msample_next_round\u001b[0m:\u001b[36m360\u001b[0m - \u001b[34m\u001b[1mthe sorted_sid_excludeSampled length is: 51770\u001b[0m\n",
      "\u001b[32m2024-05-15 16:07:03.566\u001b[0m | \u001b[34m\u001b[1mDEBUG   \u001b[0m | \u001b[36mALLSampler_Sentence\u001b[0m:\u001b[36msample_next_round\u001b[0m:\u001b[36m368\u001b[0m - \u001b[34m\u001b[1mNEW SAMPLED UNIQUE SENT REACH NUM_PER_ROUND---:\u001b[0m\n",
      "\u001b[32m2024-05-15 16:07:03.567\u001b[0m | \u001b[34m\u001b[1mDEBUG   \u001b[0m | \u001b[36mALLSampler_Sentence\u001b[0m:\u001b[36msample_next_round\u001b[0m:\u001b[36m369\u001b[0m - \u001b[34m\u001b[1mnum per found 10\u001b[0m\n",
      "\u001b[32m2024-05-15 16:07:03.568\u001b[0m | \u001b[34m\u001b[1mDEBUG   \u001b[0m | \u001b[36mALLSampler_Sentence\u001b[0m:\u001b[36msample_next_round\u001b[0m:\u001b[36m370\u001b[0m - \u001b[34m\u001b[1mnew_sampled_sentID: 10\u001b[0m\n",
      "\u001b[32m2024-05-15 16:07:03.570\u001b[0m | \u001b[34m\u001b[1mDEBUG   \u001b[0m | \u001b[36mALLSampler_Sentence\u001b[0m:\u001b[36msample_next_round\u001b[0m:\u001b[36m371\u001b[0m - \u001b[34m\u001b[1m--------------------------\u001b[0m\n",
      "\u001b[32m2024-05-15 16:07:03.689\u001b[0m | \u001b[34m\u001b[1mDEBUG   \u001b[0m | \u001b[36mALLSampler_Sentence\u001b[0m:\u001b[36msample_next_round\u001b[0m:\u001b[36m375\u001b[0m - \u001b[34m\u001b[1mnew sampled unique sent num: 10\u001b[0m\n",
      "\u001b[32m2024-05-15 16:07:03.691\u001b[0m | \u001b[34m\u001b[1mDEBUG   \u001b[0m | \u001b[36mALLSampler_Sentence\u001b[0m:\u001b[36msample_next_round\u001b[0m:\u001b[36m376\u001b[0m - \u001b[34m\u001b[1mnew remaining unique sent num: 51778\u001b[0m\n"
     ]
    },
    {
     "name": "stdout",
     "output_type": "stream",
     "text": [
      "DISTANCE max_values each row [1.87979615 1.72878361 1.47523391 ... 1.69934332 1.51038969 1.32937431] size: 929928\n",
      "DISTANCE min_values each row [1.76865101 1.4595108  0.92393023 ... 1.37233245 1.11906171 1.02086699] size: 929928\n",
      "DISTANCE max_diff each row [0.11114514 0.2692728  0.55130368 ... 0.32701087 0.39132798 0.30850732] size: 929928\n",
      "after masking max_diff size 51780\n",
      "new_sampled_sentID is Unique Sent in sortedID: {0, 917505, 917506, 917507, 917508, 917509, 917504, 7, 917512, 917513}\n"
     ]
    },
    {
     "name": "stderr",
     "output_type": "stream",
     "text": [
      "\u001b[32m2024-05-15 16:07:03.869\u001b[0m | \u001b[34m\u001b[1mDEBUG   \u001b[0m | \u001b[36mALLSampler_Sentence\u001b[0m:\u001b[36msample_next_round\u001b[0m:\u001b[36m381\u001b[0m - \u001b[34m\u001b[1mBEFORE update model with old sampled data 141, old remaining data 932765 \u001b[0m\n",
      "\u001b[32m2024-05-15 16:07:03.872\u001b[0m | \u001b[34m\u001b[1mDEBUG   \u001b[0m | \u001b[36mALLSampler_Sentence\u001b[0m:\u001b[36msample_next_round\u001b[0m:\u001b[36m384\u001b[0m - \u001b[34m\u001b[1mnew_sampled 123, new remaining data 932642 \u001b[0m\n",
      "\u001b[32m2024-05-15 16:07:03.874\u001b[0m | \u001b[34m\u001b[1mDEBUG   \u001b[0m | \u001b[36mALLSampler_Sentence\u001b[0m:\u001b[36msample_next_round\u001b[0m:\u001b[36m387\u001b[0m - \u001b[34m\u001b[1mUpdate model with new sampled data 264, new remaining data 932642 \u001b[0m\n",
      "\u001b[32m2024-05-15 16:07:04.008\u001b[0m | \u001b[1mINFO    \u001b[0m | \u001b[36mALLSampler_Sentence\u001b[0m:\u001b[36mkeep_sample\u001b[0m:\u001b[36m85\u001b[0m - \u001b[1mcurrent sampled sentences: 20, remaining sentences: 51778\u001b[0m\n",
      "\u001b[32m2024-05-15 16:07:04.008\u001b[0m | \u001b[1mINFO    \u001b[0m | \u001b[36mALLSampler_Sentence\u001b[0m:\u001b[36mkeep_sample\u001b[0m:\u001b[36m85\u001b[0m - \u001b[1mcurrent sampled sentences: 20, remaining sentences: 51778\u001b[0m\n"
     ]
    },
    {
     "name": "stdout",
     "output_type": "stream",
     "text": [
      "sampled sentID before updating: [611466, 541227, 238893, 606928, 173777, 384017, 541265, 827217, 545918, 247359]\n",
      "new sampled current round: {0, 917505, 917506, 917507, 917508, 917509, 917504, 7, 917512, 917513}\n",
      "sampled sentID after updating: [0, 917504, 917505, 917506, 917507, 917508, 917509, 7, 917512, 917513, 611466, 384017, 541227, 238893, 247359, 606928, 173777, 541265, 827217, 545918]\n"
     ]
    }
   ],
   "source": [
    "# now update the sampled to self.sampled\n",
    "sampled_2nd_self, remaining_2nd_self=vb_simulator.keep_sample(False)"
   ]
  },
  {
   "cell_type": "code",
   "execution_count": 34,
   "id": "cbaab502-aa4f-43e0-adc7-7a3d60532114",
   "metadata": {},
   "outputs": [
    {
     "data": {
      "text/plain": [
       "((264, 5), (932642, 5))"
      ]
     },
     "execution_count": 34,
     "metadata": {},
     "output_type": "execute_result"
    }
   ],
   "source": [
    "# check if self.sampled updated after 2nd round\n",
    "vb_simulator.sampled.shape, vb_simulator.remaining.shape"
   ]
  },
  {
   "cell_type": "markdown",
   "id": "32808c47-b56d-453d-98d8-98a20cee53a7",
   "metadata": {},
   "source": [
    "#### 3rd round VB"
   ]
  },
  {
   "cell_type": "code",
   "execution_count": 35,
   "id": "48c58a25-3c2e-416d-a126-b6045313aa61",
   "metadata": {},
   "outputs": [
    {
     "name": "stderr",
     "output_type": "stream",
     "text": [
      "\u001b[32m2024-05-15 16:07:13.315\u001b[0m | \u001b[34m\u001b[1mDEBUG   \u001b[0m | \u001b[36mCRFWrapper_Sentence\u001b[0m:\u001b[36mfit\u001b[0m:\u001b[36m285\u001b[0m - \u001b[34m\u001b[1mReset and train CRF model...\u001b[0m\n",
      "\u001b[32m2024-05-15 16:07:13.378\u001b[0m | \u001b[34m\u001b[1mDEBUG   \u001b[0m | \u001b[36mCRFWrapper_Sentence\u001b[0m:\u001b[36mfit\u001b[0m:\u001b[36m293\u001b[0m - \u001b[34m\u001b[1mTraining complete.\u001b[0m\n"
     ]
    }
   ],
   "source": [
    "vb_simulator.modelWrapper.fit(vb_simulator.sampled) #CRF model in VBsimulator is only for evaluation performances"
   ]
  },
  {
   "cell_type": "code",
   "execution_count": 36,
   "id": "fad618fd-8410-4128-8f16-9ad054983997",
   "metadata": {},
   "outputs": [
    {
     "data": {
      "text/plain": [
       "((264, 5), (932642, 5))"
      ]
     },
     "execution_count": 36,
     "metadata": {},
     "output_type": "execute_result"
    }
   ],
   "source": [
    "vb_simulator.sampled.shape, vb_simulator.remaining.shape #output of 2nd round; input of 3rd round"
   ]
  },
  {
   "cell_type": "code",
   "execution_count": 37,
   "id": "fb216cc2-5447-4143-b53d-0516848cd688",
   "metadata": {},
   "outputs": [
    {
     "name": "stderr",
     "output_type": "stream",
     "text": [
      "\u001b[32m2024-05-15 16:07:17.358\u001b[0m | \u001b[34m\u001b[1mDEBUG   \u001b[0m | \u001b[36mALLSampler_Sentence\u001b[0m:\u001b[36mfit\u001b[0m:\u001b[36m265\u001b[0m - \u001b[34m\u001b[1m4 centroids detected from the given sampled_docs\u001b[0m\n"
     ]
    }
   ],
   "source": [
    "# obtain the centroid from the sampled data in 2nd round\n",
    "vb_simulator.fit(vb_simulator.sampled)"
   ]
  },
  {
   "cell_type": "code",
   "execution_count": 38,
   "id": "e1d9eae5-672c-469d-b483-189f14a04124",
   "metadata": {},
   "outputs": [
    {
     "name": "stderr",
     "output_type": "stream",
     "text": [
      "\u001b[32m2024-05-15 16:07:20.381\u001b[0m | \u001b[34m\u001b[1mDEBUG   \u001b[0m | \u001b[36mALLSampler_Sentence\u001b[0m:\u001b[36mkeep_sample\u001b[0m:\u001b[36m81\u001b[0m - \u001b[34m\u001b[1mSample according to certainties\u001b[0m\n",
      "\u001b[32m2024-05-15 16:07:20.499\u001b[0m | \u001b[34m\u001b[1mDEBUG   \u001b[0m | \u001b[36mALLSampler_Sentence\u001b[0m:\u001b[36msample_next_round\u001b[0m:\u001b[36m319\u001b[0m - \u001b[34m\u001b[1mCalculating centroids...\u001b[0m\n",
      "\u001b[32m2024-05-15 16:07:21.038\u001b[0m | \u001b[34m\u001b[1mDEBUG   \u001b[0m | \u001b[36mALLSampler_Sentence\u001b[0m:\u001b[36mfit\u001b[0m:\u001b[36m265\u001b[0m - \u001b[34m\u001b[1m4 centroids detected from the given sampled_docs\u001b[0m\n",
      "\u001b[32m2024-05-15 16:07:21.040\u001b[0m | \u001b[34m\u001b[1mDEBUG   \u001b[0m | \u001b[36mALLSampler_Sentence\u001b[0m:\u001b[36msample_next_round\u001b[0m:\u001b[36m322\u001b[0m - \u001b[34m\u001b[1mSearching from the vector index...\u001b[0m\n",
      "\u001b[32m2024-05-15 16:07:21.153\u001b[0m | \u001b[1mINFO    \u001b[0m | \u001b[36mALLSampler_Sentence\u001b[0m:\u001b[36msample_next_round\u001b[0m:\u001b[36m338\u001b[0m - \u001b[1mdistance shape: (929928, 4), max to retrieve 51789 sentences\u001b[0m\n",
      "\u001b[32m2024-05-15 16:07:21.153\u001b[0m | \u001b[1mINFO    \u001b[0m | \u001b[36mALLSampler_Sentence\u001b[0m:\u001b[36msample_next_round\u001b[0m:\u001b[36m338\u001b[0m - \u001b[1mdistance shape: (929928, 4), max to retrieve 51789 sentences\u001b[0m\n",
      "\u001b[32m2024-05-15 16:07:21.158\u001b[0m | \u001b[34m\u001b[1mDEBUG   \u001b[0m | \u001b[36mALLSampler_Sentence\u001b[0m:\u001b[36msample_next_round\u001b[0m:\u001b[36m342\u001b[0m - \u001b[34m\u001b[1msearch for centroid: Drug\u001b[0m\n",
      "\u001b[32m2024-05-15 16:07:21.317\u001b[0m | \u001b[34m\u001b[1mDEBUG   \u001b[0m | \u001b[36mALLSampler_Sentence\u001b[0m:\u001b[36msample_next_round\u001b[0m:\u001b[36m344\u001b[0m - \u001b[34m\u001b[1mFAISS index D shape (1, 51789), I shape: (1, 51789)\u001b[0m\n",
      "\u001b[32m2024-05-15 16:07:21.357\u001b[0m | \u001b[34m\u001b[1mDEBUG   \u001b[0m | \u001b[36mALLSampler_Sentence\u001b[0m:\u001b[36msample_next_round\u001b[0m:\u001b[36m342\u001b[0m - \u001b[34m\u001b[1msearch for centroid: Form\u001b[0m\n",
      "\u001b[32m2024-05-15 16:07:21.497\u001b[0m | \u001b[34m\u001b[1mDEBUG   \u001b[0m | \u001b[36mALLSampler_Sentence\u001b[0m:\u001b[36msample_next_round\u001b[0m:\u001b[36m344\u001b[0m - \u001b[34m\u001b[1mFAISS index D shape (1, 51789), I shape: (1, 51789)\u001b[0m\n",
      "\u001b[32m2024-05-15 16:07:21.541\u001b[0m | \u001b[34m\u001b[1mDEBUG   \u001b[0m | \u001b[36mALLSampler_Sentence\u001b[0m:\u001b[36msample_next_round\u001b[0m:\u001b[36m342\u001b[0m - \u001b[34m\u001b[1msearch for centroid: NEG\u001b[0m\n",
      "\u001b[32m2024-05-15 16:07:21.702\u001b[0m | \u001b[34m\u001b[1mDEBUG   \u001b[0m | \u001b[36mALLSampler_Sentence\u001b[0m:\u001b[36msample_next_round\u001b[0m:\u001b[36m344\u001b[0m - \u001b[34m\u001b[1mFAISS index D shape (1, 51789), I shape: (1, 51789)\u001b[0m\n",
      "\u001b[32m2024-05-15 16:07:21.744\u001b[0m | \u001b[34m\u001b[1mDEBUG   \u001b[0m | \u001b[36mALLSampler_Sentence\u001b[0m:\u001b[36msample_next_round\u001b[0m:\u001b[36m342\u001b[0m - \u001b[34m\u001b[1msearch for centroid: Reason\u001b[0m\n",
      "\u001b[32m2024-05-15 16:07:22.008\u001b[0m | \u001b[34m\u001b[1mDEBUG   \u001b[0m | \u001b[36mALLSampler_Sentence\u001b[0m:\u001b[36msample_next_round\u001b[0m:\u001b[36m344\u001b[0m - \u001b[34m\u001b[1mFAISS index D shape (1, 51789), I shape: (1, 51789)\u001b[0m\n",
      "\u001b[32m2024-05-15 16:07:22.051\u001b[0m | \u001b[1mINFO    \u001b[0m | \u001b[36mALLSampler_Sentence\u001b[0m:\u001b[36msample_next_round\u001b[0m:\u001b[36m351\u001b[0m - \u001b[1mAFTER FAISS INDEXING distance shape: (929928, 4)\u001b[0m\n",
      "\u001b[32m2024-05-15 16:07:22.051\u001b[0m | \u001b[1mINFO    \u001b[0m | \u001b[36mALLSampler_Sentence\u001b[0m:\u001b[36msample_next_round\u001b[0m:\u001b[36m351\u001b[0m - \u001b[1mAFTER FAISS INDEXING distance shape: (929928, 4)\u001b[0m\n",
      "\u001b[32m2024-05-15 16:07:22.059\u001b[0m | \u001b[34m\u001b[1mDEBUG   \u001b[0m | \u001b[36mALLSampler_Sentence\u001b[0m:\u001b[36msort_dist_diff\u001b[0m:\u001b[36m287\u001b[0m - \u001b[34m\u001b[1mCompute max distance differences to centroids.\u001b[0m\n",
      "\u001b[32m2024-05-15 16:07:22.292\u001b[0m | \u001b[34m\u001b[1mDEBUG   \u001b[0m | \u001b[36mALLSampler_Sentence\u001b[0m:\u001b[36msample_next_round\u001b[0m:\u001b[36m354\u001b[0m - \u001b[34m\u001b[1mLocate the docs of these sentences\u001b[0m\n",
      "\u001b[32m2024-05-15 16:07:22.294\u001b[0m | \u001b[34m\u001b[1mDEBUG   \u001b[0m | \u001b[36mALLSampler_Sentence\u001b[0m:\u001b[36msample_next_round\u001b[0m:\u001b[36m355\u001b[0m - \u001b[34m\u001b[1mthe sorted_sids length is: 51764\u001b[0m\n",
      "\u001b[32m2024-05-15 16:07:22.311\u001b[0m | \u001b[34m\u001b[1mDEBUG   \u001b[0m | \u001b[36mALLSampler_Sentence\u001b[0m:\u001b[36msample_next_round\u001b[0m:\u001b[36m360\u001b[0m - \u001b[34m\u001b[1mthe sorted_sid_excludeSampled length is: 51744\u001b[0m\n",
      "\u001b[32m2024-05-15 16:07:22.313\u001b[0m | \u001b[34m\u001b[1mDEBUG   \u001b[0m | \u001b[36mALLSampler_Sentence\u001b[0m:\u001b[36msample_next_round\u001b[0m:\u001b[36m368\u001b[0m - \u001b[34m\u001b[1mNEW SAMPLED UNIQUE SENT REACH NUM_PER_ROUND---:\u001b[0m\n",
      "\u001b[32m2024-05-15 16:07:22.314\u001b[0m | \u001b[34m\u001b[1mDEBUG   \u001b[0m | \u001b[36mALLSampler_Sentence\u001b[0m:\u001b[36msample_next_round\u001b[0m:\u001b[36m369\u001b[0m - \u001b[34m\u001b[1mnum per found 10\u001b[0m\n",
      "\u001b[32m2024-05-15 16:07:22.315\u001b[0m | \u001b[34m\u001b[1mDEBUG   \u001b[0m | \u001b[36mALLSampler_Sentence\u001b[0m:\u001b[36msample_next_round\u001b[0m:\u001b[36m370\u001b[0m - \u001b[34m\u001b[1mnew_sampled_sentID: 10\u001b[0m\n",
      "\u001b[32m2024-05-15 16:07:22.316\u001b[0m | \u001b[34m\u001b[1mDEBUG   \u001b[0m | \u001b[36mALLSampler_Sentence\u001b[0m:\u001b[36msample_next_round\u001b[0m:\u001b[36m371\u001b[0m - \u001b[34m\u001b[1m--------------------------\u001b[0m\n",
      "\u001b[32m2024-05-15 16:07:22.435\u001b[0m | \u001b[34m\u001b[1mDEBUG   \u001b[0m | \u001b[36mALLSampler_Sentence\u001b[0m:\u001b[36msample_next_round\u001b[0m:\u001b[36m375\u001b[0m - \u001b[34m\u001b[1mnew sampled unique sent num: 10\u001b[0m\n",
      "\u001b[32m2024-05-15 16:07:22.436\u001b[0m | \u001b[34m\u001b[1mDEBUG   \u001b[0m | \u001b[36mALLSampler_Sentence\u001b[0m:\u001b[36msample_next_round\u001b[0m:\u001b[36m376\u001b[0m - \u001b[34m\u001b[1mnew remaining unique sent num: 51768\u001b[0m\n"
     ]
    },
    {
     "name": "stdout",
     "output_type": "stream",
     "text": [
      "DISTANCE max_values each row [1.87979615 1.72878361 1.47523391 ... 1.69934332 1.51038969 1.40727425] size: 929928\n",
      "DISTANCE min_values each row [0.04539243 0.85744834 0.89775473 ... 1.36736798 0.98108822 0.93269664] size: 929928\n",
      "DISTANCE max_diff each row [1.83440372 0.87133527 0.57747918 ... 0.33197534 0.52930146 0.47457761] size: 929928\n",
      "after masking max_diff size 51764\n",
      "new_sampled_sentID is Unique Sent in sortedID: {3, 5, 917510, 917511, 8, 917514, 12, 13, 917519, 917521}\n"
     ]
    },
    {
     "name": "stderr",
     "output_type": "stream",
     "text": [
      "\u001b[32m2024-05-15 16:07:22.615\u001b[0m | \u001b[34m\u001b[1mDEBUG   \u001b[0m | \u001b[36mALLSampler_Sentence\u001b[0m:\u001b[36msample_next_round\u001b[0m:\u001b[36m381\u001b[0m - \u001b[34m\u001b[1mBEFORE update model with old sampled data 264, old remaining data 932642 \u001b[0m\n",
      "\u001b[32m2024-05-15 16:07:22.618\u001b[0m | \u001b[34m\u001b[1mDEBUG   \u001b[0m | \u001b[36mALLSampler_Sentence\u001b[0m:\u001b[36msample_next_round\u001b[0m:\u001b[36m384\u001b[0m - \u001b[34m\u001b[1mnew_sampled 191, new remaining data 932451 \u001b[0m\n",
      "\u001b[32m2024-05-15 16:07:22.620\u001b[0m | \u001b[34m\u001b[1mDEBUG   \u001b[0m | \u001b[36mALLSampler_Sentence\u001b[0m:\u001b[36msample_next_round\u001b[0m:\u001b[36m387\u001b[0m - \u001b[34m\u001b[1mUpdate model with new sampled data 455, new remaining data 932451 \u001b[0m\n",
      "\u001b[32m2024-05-15 16:07:22.758\u001b[0m | \u001b[1mINFO    \u001b[0m | \u001b[36mALLSampler_Sentence\u001b[0m:\u001b[36mkeep_sample\u001b[0m:\u001b[36m85\u001b[0m - \u001b[1mcurrent sampled sentences: 30, remaining sentences: 51768\u001b[0m\n",
      "\u001b[32m2024-05-15 16:07:22.758\u001b[0m | \u001b[1mINFO    \u001b[0m | \u001b[36mALLSampler_Sentence\u001b[0m:\u001b[36mkeep_sample\u001b[0m:\u001b[36m85\u001b[0m - \u001b[1mcurrent sampled sentences: 30, remaining sentences: 51768\u001b[0m\n"
     ]
    },
    {
     "name": "stdout",
     "output_type": "stream",
     "text": [
      "sampled sentID before updating: [0, 917504, 917505, 917506, 917507, 917508, 917509, 7, 917512, 917513, 611466, 384017, 541227, 238893, 247359, 606928, 173777, 541265, 827217, 545918]\n",
      "new sampled current round: {3, 5, 917510, 917511, 8, 917514, 12, 13, 917519, 917521}\n",
      "sampled sentID after updating: [0, 917504, 917505, 917506, 917507, 917508, 917509, 7, 917512, 917513, 611466, 3, 5, 8, 12, 13, 917511, 384017, 917514, 917519, 917521, 917510, 541227, 238893, 247359, 606928, 173777, 541265, 827217, 545918]\n"
     ]
    }
   ],
   "source": [
    "# sampled the 3rd round and updated self.sampled and self.remaining\n",
    "sampled_3rd_self, remaining_3rd_self=vb_simulator.keep_sample(False) #this should be 3rd round"
   ]
  },
  {
   "cell_type": "code",
   "execution_count": 39,
   "id": "3b3e851a-3967-4904-89f8-b91471beb2c4",
   "metadata": {},
   "outputs": [
    {
     "data": {
      "text/plain": [
       "((455, 5), (932451, 5))"
      ]
     },
     "execution_count": 39,
     "metadata": {},
     "output_type": "execute_result"
    }
   ],
   "source": [
    "vb_simulator.sampled.shape, vb_simulator.remaining.shape #output of 3rd round"
   ]
  },
  {
   "cell_type": "code",
   "execution_count": 40,
   "id": "ee17be74-14e2-4b76-b7fa-e2e426a709b8",
   "metadata": {},
   "outputs": [
    {
     "data": {
      "text/plain": [
       "((455, 5), (932451, 5))"
      ]
     },
     "execution_count": 40,
     "metadata": {},
     "output_type": "execute_result"
    }
   ],
   "source": [
    "sampled_3rd_self.shape, remaining_3rd_self.shape"
   ]
  },
  {
   "cell_type": "code",
   "execution_count": null,
   "id": "8a2ab169-e6a3-463c-84ef-799e029f7ba2",
   "metadata": {},
   "outputs": [],
   "source": []
  },
  {
   "cell_type": "code",
   "execution_count": 40,
   "id": "072be0bc-020f-4f0b-851a-babf7e88ba5b",
   "metadata": {},
   "outputs": [
    {
     "data": {
      "text/plain": [
       "dict"
      ]
     },
     "execution_count": 40,
     "metadata": {},
     "output_type": "execute_result"
    }
   ],
   "source": [
    "type(vb_simulator.centroid)"
   ]
  },
  {
   "cell_type": "code",
   "execution_count": 41,
   "id": "6a7f9919-e3fa-4527-a6be-693fd7c55fa4",
   "metadata": {},
   "outputs": [
    {
     "data": {
      "text/plain": [
       "dict_keys(['Drug', 'Form', 'NEG', 'Reason', 'Route'])"
      ]
     },
     "execution_count": 41,
     "metadata": {},
     "output_type": "execute_result"
    }
   ],
   "source": [
    "vb_simulator.centroid.keys()"
   ]
  },
  {
   "cell_type": "code",
   "execution_count": 42,
   "id": "ebd19880-e569-4e16-84d6-8b5b6cd3b89c",
   "metadata": {},
   "outputs": [
    {
     "data": {
      "text/plain": [
       "array([ 4.45337072e-02, -6.01181239e-02,  1.02942521e-02,  5.56362746e-03,\n",
       "        2.74320059e-02,  2.50571650e-02, -2.82390062e-02,  5.34454212e-02,\n",
       "       -2.75464337e-02,  4.29910747e-03,  1.62351150e-02,  1.04062436e-02,\n",
       "       -8.26748554e-03, -2.50051860e-02,  2.88324663e-03,  1.71642490e-02,\n",
       "       -7.18276063e-03,  1.39244320e-02, -4.65564393e-02, -1.82620175e-02,\n",
       "       -2.82244366e-02,  7.65391439e-03,  7.15207634e-03,  2.77388226e-02,\n",
       "        7.08213374e-02,  3.61935329e-03,  3.89691652e-03,  2.15454120e-03,\n",
       "       -8.40971433e-03, -4.74486351e-02, -4.16325890e-02,  2.21200585e-02,\n",
       "        7.94919953e-03, -9.37988758e-02,  1.55014959e-06,  1.58981644e-02,\n",
       "        5.98545093e-03,  1.31536061e-02, -2.28002053e-02, -7.13021830e-02,\n",
       "        4.48224507e-03, -9.83978808e-02,  9.67068132e-03, -1.59962028e-02,\n",
       "       -1.31882094e-02, -6.07571639e-02,  2.45078187e-03,  4.51347642e-02,\n",
       "       -3.03639472e-02, -3.09917983e-02,  2.09520776e-02,  4.98968363e-02,\n",
       "       -1.83546413e-02,  8.64964072e-03,  6.57160580e-02, -1.18097877e-02,\n",
       "       -4.32273149e-02, -8.81679449e-03,  4.92209420e-02,  3.37330215e-02,\n",
       "        4.92345588e-03,  2.27821544e-02,  1.63991433e-02,  7.47340359e-03,\n",
       "        4.52713110e-03,  9.43978783e-03,  4.80615487e-03, -2.56188586e-02,\n",
       "       -2.24054921e-02,  1.73985772e-02, -2.52292920e-02,  3.90731730e-02,\n",
       "        2.60128677e-02,  5.27735911e-02, -3.23164836e-02, -5.59553020e-02,\n",
       "        2.99038645e-02, -2.18060501e-02, -3.00303977e-02, -3.25428322e-02,\n",
       "        5.41787855e-02,  1.21009732e-02, -1.75718181e-02,  1.24040665e-02,\n",
       "        7.95946177e-03, -2.09323447e-02,  1.60634574e-02,  3.39087914e-03,\n",
       "       -1.08202815e-03,  5.36918677e-02, -7.50746438e-03, -1.17486306e-02,\n",
       "        4.30427156e-02,  6.98929420e-03,  8.65907874e-03, -2.98896641e-03,\n",
       "       -5.31870918e-03, -4.55724224e-02,  2.45189574e-03, -4.32011448e-02,\n",
       "       -1.25373518e-02,  1.02374540e-03,  1.59521271e-02,  1.35993550e-03,\n",
       "       -2.80641299e-02, -3.46620241e-03, -1.38877332e-02, -4.01116733e-04,\n",
       "       -1.20796151e-02,  2.93225050e-02,  7.50769628e-03,  4.33505177e-02,\n",
       "       -2.34933849e-02,  5.32669388e-02,  6.61102980e-02, -3.02132592e-02,\n",
       "       -2.41616797e-02,  6.50488259e-03,  6.81333197e-03,  5.45433126e-02,\n",
       "       -3.00794444e-03,  3.47476043e-02, -2.14601066e-02,  2.32794285e-02,\n",
       "        2.42719948e-02, -3.78299057e-02,  5.18551609e-03,  9.59831104e-03,\n",
       "        8.24989751e-03,  1.68200564e-02,  2.32466441e-02, -3.19992378e-02,\n",
       "       -1.44174453e-02, -1.70706790e-02,  3.95045709e-03,  1.62007995e-02,\n",
       "        4.25061136e-02,  4.54320274e-02,  7.40952929e-03, -1.01923905e-02,\n",
       "        9.90048423e-03,  1.08747631e-02,  1.15453415e-02,  2.90276092e-02,\n",
       "        2.21569259e-02,  3.93106081e-02,  1.78939197e-02, -6.42890483e-03,\n",
       "       -2.07635164e-02, -5.18982357e-04, -2.21354552e-02, -7.24140089e-03,\n",
       "        9.78072290e-04, -3.35066835e-03, -3.84219438e-02,  3.56797478e-03,\n",
       "        4.78137359e-02, -4.31866832e-02, -3.69379733e-04, -3.62388901e-02,\n",
       "        1.11151887e-02, -3.40468646e-03, -3.26057593e-03, -3.70268375e-02,\n",
       "        1.33669646e-02,  7.38327485e-03, -1.35363694e-02,  1.52892889e-02,\n",
       "        9.10004601e-03,  2.65719518e-02, -4.32123244e-02,  2.17137448e-02,\n",
       "       -9.53964889e-03,  5.98315476e-03, -6.98137609e-03, -6.37051743e-03,\n",
       "        7.80742010e-03, -4.42878045e-02, -1.31512424e-02, -8.29541758e-02,\n",
       "        5.67754395e-02, -1.02766864e-02, -2.23829448e-02, -1.40662696e-02,\n",
       "        3.13392617e-02,  1.72965750e-02,  3.00751231e-03, -5.84455617e-02,\n",
       "       -1.97126511e-02, -9.22962185e-03,  4.13521081e-02,  1.61578367e-03,\n",
       "       -1.64357442e-02,  4.13210951e-02,  3.51787657e-02,  3.26531045e-02,\n",
       "       -2.10800152e-02,  7.64203118e-03, -7.60746794e-03,  9.88748018e-03,\n",
       "       -8.31717160e-03,  1.85358385e-03, -4.86689582e-02,  7.39975795e-02,\n",
       "       -3.97622306e-03,  4.69356515e-02, -8.21082154e-04, -9.19181667e-03,\n",
       "       -3.09292544e-02,  1.98788345e-02, -2.58775055e-02,  1.83066409e-02,\n",
       "        2.77644210e-02, -2.32177563e-02,  2.88600102e-02,  4.05621491e-02,\n",
       "        3.28331105e-02, -2.52273697e-02, -2.14114133e-02, -6.66644285e-03,\n",
       "       -6.12838045e-02, -8.87055509e-03,  2.20943987e-02,  3.80878299e-02,\n",
       "        8.89263209e-03, -8.52375664e-03,  1.15232877e-02,  1.94128007e-02,\n",
       "       -2.24665031e-02, -2.65521389e-02,  2.73498353e-02, -3.92411556e-03,\n",
       "        3.35469991e-02, -4.78079123e-03, -6.29936345e-03,  1.27988616e-02,\n",
       "        1.02385832e-02, -4.16640826e-02,  2.79335701e-03,  6.51328415e-02,\n",
       "        1.72764529e-02, -4.88538891e-02, -4.75399010e-02, -4.89494428e-02,\n",
       "        4.40666750e-02, -3.19399009e-03,  3.68550271e-02,  1.57368481e-02,\n",
       "        4.25456427e-02,  5.37179224e-02,  4.45259968e-03, -1.62617546e-02,\n",
       "       -2.94219907e-02,  4.65037674e-02,  1.81847885e-02,  4.08746339e-02,\n",
       "       -5.17431609e-02,  4.50756401e-04, -2.63639772e-03, -4.65736957e-03,\n",
       "        5.16293524e-03, -5.09282062e-03,  2.46501155e-02, -5.23020625e-02,\n",
       "       -3.29439081e-02, -1.23255942e-02,  3.41077428e-03,  1.20243421e-02,\n",
       "        9.17815324e-03,  1.32942013e-02,  3.33952308e-02,  2.02667788e-02,\n",
       "        2.22855266e-02, -1.01023528e-03, -2.93501094e-02, -9.50771011e-03,\n",
       "       -3.53031941e-02,  2.01977026e-02, -3.10497507e-02, -8.16055015e-03,\n",
       "        5.21466695e-02,  4.82145175e-02,  1.89655498e-02,  1.53375128e-02,\n",
       "        2.16354374e-02,  6.56194706e-03, -5.69620356e-02, -2.99591967e-03,\n",
       "        9.40465368e-03, -1.36730252e-02, -1.10446550e-02,  4.11563963e-02,\n",
       "       -2.69126147e-04, -4.82962839e-03,  4.53792550e-02, -1.11078646e-03,\n",
       "       -6.72416613e-02,  4.94228341e-02,  8.72823130e-03,  4.56070639e-02,\n",
       "        2.00979551e-03,  9.37408488e-03,  1.91352088e-02,  8.53465125e-03,\n",
       "       -3.46770547e-02, -2.71211676e-02,  4.25774306e-02,  2.07575802e-02,\n",
       "       -6.04311861e-02,  3.20044048e-02,  3.08725964e-02,  6.82758493e-03,\n",
       "       -1.57644376e-02, -8.54401067e-02,  2.36222930e-02, -3.97632755e-02,\n",
       "       -3.99493314e-02, -6.78299507e-03,  5.30486880e-03, -2.67268401e-02,\n",
       "        1.85290817e-02, -1.41163440e-02, -1.19275330e-02,  1.33678773e-02,\n",
       "       -2.98520643e-02, -5.23390397e-02, -2.31448468e-02,  2.26680581e-02,\n",
       "       -7.02308118e-02,  1.02034789e-02, -3.77292308e-04,  1.48579534e-02,\n",
       "        2.25482248e-02, -4.09245444e-03,  1.35797048e-02,  1.89468842e-02,\n",
       "       -1.52292633e-02, -2.02359427e-02, -3.91492918e-02, -4.54057503e-04,\n",
       "        1.35321924e-02, -5.30823208e-02, -5.47217624e-03,  1.82785951e-02,\n",
       "        1.96344741e-02, -1.03678489e-02, -2.08101347e-02,  5.26189455e-04,\n",
       "       -1.03849731e-02, -4.69814092e-02, -3.71765271e-02,  1.13243693e-02,\n",
       "       -3.46812210e-03, -3.35053653e-02, -1.13198049e-02, -1.01928804e-02,\n",
       "        3.74839790e-02, -1.56791676e-02, -7.20639993e-03, -1.77416727e-02,\n",
       "        1.23966590e-03,  3.41630839e-02,  5.46356477e-02, -4.79523977e-03,\n",
       "        2.02201195e-02,  2.21049543e-02,  3.10397688e-02, -1.32476212e-03,\n",
       "        8.47449247e-03,  1.95198432e-02,  2.86575276e-02,  5.05050225e-03,\n",
       "        1.15060396e-02,  5.20115755e-02,  2.57970998e-03, -1.49533628e-02,\n",
       "        1.67808644e-02, -3.70360129e-02, -5.38736545e-02, -1.83670241e-02,\n",
       "        2.05325801e-02, -2.65220813e-02, -7.95516744e-03, -1.37729533e-02,\n",
       "       -1.71703212e-02,  1.84818394e-02,  3.15041430e-02, -4.26460989e-02,\n",
       "        9.67001822e-03,  6.68878062e-03, -1.15447845e-02, -3.38843167e-02,\n",
       "       -3.39451060e-02, -1.81583911e-02, -8.07583984e-03,  4.05841470e-02,\n",
       "       -6.68227673e-02,  1.09240878e-02,  3.13021895e-03,  2.11239010e-02,\n",
       "        1.18773375e-02,  3.37464958e-02,  8.79521389e-03,  4.41477150e-02,\n",
       "        1.35644432e-02, -2.13331506e-02, -3.91557030e-02, -3.51935513e-02,\n",
       "        8.32796190e-03,  4.70775999e-02,  2.57956870e-02, -5.04885092e-02,\n",
       "       -3.45747955e-02,  1.41463885e-02,  5.51442243e-02, -6.06244579e-02,\n",
       "       -6.59859134e-03, -2.04197895e-02,  6.69463873e-02, -9.49663594e-02,\n",
       "        3.19423936e-02, -3.81006338e-02, -6.89775497e-02, -5.85774817e-02,\n",
       "        6.96472777e-03, -3.42396498e-02,  6.51481822e-02,  1.70688378e-03,\n",
       "       -1.11805266e-02,  1.71534475e-02, -5.63869078e-04, -1.58371013e-02,\n",
       "        6.66161953e-03,  2.97286026e-02, -2.86502074e-02,  1.80449616e-02,\n",
       "       -3.17094810e-02,  1.32749416e-02, -5.63679216e-03, -2.25122757e-02,\n",
       "       -7.35720107e-03,  3.05115655e-02,  8.15142691e-03, -7.60968635e-03,\n",
       "        3.83245433e-03,  4.71897563e-03,  1.09971398e-02,  5.29747456e-02,\n",
       "        3.48833799e-02,  4.02273126e-02,  1.56770274e-02,  2.11598091e-02,\n",
       "       -1.19066713e-02, -2.46169250e-02, -5.02535701e-03, -2.91073266e-02,\n",
       "        3.21963914e-02, -1.39269950e-02, -1.51594291e-02, -1.12632271e-02,\n",
       "       -1.29397297e-02,  2.38014478e-02,  2.76984628e-02, -3.73874158e-02,\n",
       "        8.55760649e-03, -1.01919957e-02,  6.07930124e-03,  4.97933254e-02,\n",
       "       -4.70628627e-02, -1.45362532e-02,  5.09309722e-03,  8.77130218e-03,\n",
       "        2.17108149e-03, -5.12964465e-03,  1.52757345e-02, -2.25972310e-02,\n",
       "       -7.26136845e-03,  1.89681984e-02,  8.70175008e-03,  2.16286313e-02,\n",
       "       -5.21606542e-02, -1.63325127e-02, -4.96323928e-02, -3.17269303e-02,\n",
       "       -3.72868478e-02, -8.55441671e-03,  1.90724023e-02,  1.25551876e-02,\n",
       "       -7.20288930e-03,  8.65808222e-03, -3.26541886e-02, -3.52616608e-03,\n",
       "       -5.26217092e-03, -7.61116995e-03, -3.44527140e-02,  3.93609423e-03,\n",
       "        1.89190556e-03, -2.16597002e-02, -1.77711789e-02, -1.56425163e-02,\n",
       "        4.98113148e-02,  5.67808151e-02,  3.88562046e-02,  2.03893054e-02,\n",
       "        2.39451765e-03,  4.97365743e-02,  8.63938034e-03,  3.41910496e-02,\n",
       "       -8.17091949e-03, -4.47475445e-03,  6.44145766e-03,  3.45498510e-02,\n",
       "       -2.86282077e-02,  1.12320445e-02,  1.57587652e-04, -6.89679906e-02,\n",
       "       -4.73546796e-03,  4.33389843e-03,  1.30368499e-02, -1.76046900e-02,\n",
       "       -1.70678478e-02, -1.98497921e-02,  5.56629151e-04,  4.93562035e-03,\n",
       "        8.99832249e-02,  1.21384999e-02, -1.12368818e-02,  1.25013776e-02,\n",
       "       -4.37341444e-02,  7.14782998e-02, -2.03858372e-02, -4.97198896e-03,\n",
       "       -4.26598229e-02,  2.14392263e-02,  6.51381304e-03, -3.32211815e-02,\n",
       "       -2.96814344e-03, -1.03777926e-02,  8.73424858e-03, -2.40104683e-02,\n",
       "        3.80760580e-02, -6.56512799e-03,  9.86641925e-03, -2.31317040e-02,\n",
       "       -3.50386538e-02, -1.86814554e-03, -7.85208400e-03,  2.20523402e-02,\n",
       "        2.13806270e-04, -1.85658745e-02,  1.36681674e-02,  3.99345309e-02,\n",
       "        1.98409911e-02,  2.24053510e-03,  9.40348301e-03, -5.09466305e-33,\n",
       "        2.84823291e-02,  1.52542628e-02, -7.60345720e-03, -3.20277661e-02,\n",
       "        2.02238280e-02,  8.52594450e-02, -1.11446176e-02, -5.70979435e-03,\n",
       "       -4.72705998e-02, -3.46293580e-03, -1.56729277e-02, -7.32189836e-03,\n",
       "        2.06428152e-02,  5.00860102e-02,  9.17540118e-03, -3.79471518e-02,\n",
       "       -4.40715207e-03,  1.51720792e-02, -1.48041816e-02,  2.72415150e-02,\n",
       "       -2.87927333e-02,  9.11619421e-03,  1.24572664e-02, -5.67479583e-04,\n",
       "        3.25945579e-02, -1.71533879e-02,  6.14783391e-02,  2.57242676e-02,\n",
       "       -8.15457385e-03,  3.38538922e-02, -1.04956357e-02,  1.02585675e-02,\n",
       "       -1.00142974e-02, -1.34221073e-02, -3.07639566e-04, -5.77304363e-02,\n",
       "       -2.46112533e-02,  3.59389707e-02,  4.67755646e-02, -4.52075265e-02,\n",
       "       -6.57979995e-02, -4.26945882e-03,  6.84280507e-03,  2.91116182e-02,\n",
       "        3.21289301e-02, -4.87631075e-02, -4.15903442e-02,  9.26589407e-03,\n",
       "       -3.26017104e-02, -1.46304555e-02,  3.87220532e-02,  3.94459032e-02,\n",
       "        3.52774896e-02, -2.94113681e-02, -2.77123507e-02,  4.19115089e-02,\n",
       "       -1.13469698e-02,  5.96365705e-02,  5.90915717e-02,  3.52091156e-02,\n",
       "       -2.34411340e-02,  2.97950264e-02,  1.38367256e-02, -3.36849727e-02,\n",
       "       -4.62445989e-02, -1.05610006e-02,  5.16968817e-02,  3.92766930e-02,\n",
       "       -2.43634824e-02,  5.18294424e-02, -6.93182424e-02, -3.24285030e-03,\n",
       "        2.15686243e-02, -1.43534662e-02, -6.86495751e-02,  4.68925200e-03,\n",
       "        6.80894777e-02,  3.09250522e-02, -2.85918284e-02,  3.35941575e-02,\n",
       "       -1.84394512e-02, -1.14888614e-02, -1.69395972e-02, -1.36749735e-02,\n",
       "       -1.53462058e-02,  9.26508382e-03, -1.41608473e-02,  1.88722610e-02,\n",
       "        3.28280479e-02,  3.13628768e-03,  1.75536089e-02,  1.08273188e-02,\n",
       "        3.18703689e-02,  1.35296052e-02,  1.29710138e-02,  1.70974005e-02,\n",
       "        7.95754883e-03,  3.35684270e-02, -6.54601585e-03, -4.19806577e-02,\n",
       "        2.68106647e-02, -2.19176952e-02,  7.04452395e-02, -9.70872212e-03,\n",
       "       -3.55669223e-02, -1.65501349e-02,  1.00795059e-02,  1.52195040e-02,\n",
       "       -3.15890484e-03,  1.58535112e-02, -9.37894639e-03, -1.90797541e-02,\n",
       "       -1.90646015e-02,  2.80221757e-02, -2.81073879e-02,  2.88991053e-02,\n",
       "        3.48548442e-02, -8.15366860e-03, -1.29206087e-02, -2.44999304e-02,\n",
       "        1.24690346e-02, -6.42626956e-02,  1.88279245e-02, -1.63708311e-02,\n",
       "       -4.11950424e-02,  2.29196232e-02,  9.05650295e-03,  5.38061000e-02,\n",
       "       -1.34824151e-02,  2.51915678e-02,  2.47373581e-02, -5.22631891e-02,\n",
       "        2.37388662e-07,  1.80241577e-02, -2.39391043e-03, -2.01784298e-02,\n",
       "       -5.29798493e-02,  6.95271790e-03, -2.36829463e-02,  2.93446123e-03,\n",
       "        1.97778991e-03,  2.58020195e-03, -2.22310070e-02,  4.94440459e-02,\n",
       "        2.15715747e-02,  1.72477607e-02, -7.09747896e-02,  5.24653755e-02,\n",
       "       -4.72706780e-02,  2.17669327e-02, -5.88802844e-02,  2.15043444e-02,\n",
       "       -2.39787884e-02,  3.49396132e-02, -1.90487821e-02, -8.09654072e-02,\n",
       "       -1.22704199e-02,  1.07733458e-02, -1.18380031e-02, -2.36194413e-02,\n",
       "       -4.51920144e-02, -9.14342329e-02, -1.30187282e-02,  1.03755547e-02,\n",
       "        2.86942441e-02,  8.46236572e-03,  4.11679000e-02, -3.10020968e-02,\n",
       "       -2.19340604e-02, -8.92452546e-04, -8.25648382e-03, -6.15796074e-02,\n",
       "       -2.58337855e-02, -3.02832015e-02, -4.83239293e-02, -3.29924375e-03,\n",
       "        1.19935637e-02, -1.83406398e-02,  7.63648078e-02, -7.19656982e-03,\n",
       "        2.57926900e-03, -7.07831583e-04, -1.37641933e-02,  8.15580226e-03,\n",
       "       -6.12262590e-03, -2.15138663e-02,  3.72927487e-02,  1.38939684e-02,\n",
       "        3.73811461e-02, -6.47242516e-02, -3.36792916e-02,  4.17083502e-02,\n",
       "        4.49432582e-02, -1.98629834e-02, -7.97103122e-02, -6.42315904e-03,\n",
       "       -1.67459324e-02,  2.10431982e-02, -4.80280779e-02, -1.88044794e-02,\n",
       "        1.70693454e-34,  1.89989582e-02, -5.63632883e-03,  2.98444112e-03,\n",
       "       -1.60660699e-03,  9.96830221e-03, -2.27455776e-02,  5.24886837e-03,\n",
       "       -3.59854922e-02, -2.98242504e-03, -4.52065617e-02, -3.15496437e-02],\n",
       "      dtype=float32)"
      ]
     },
     "execution_count": 42,
     "metadata": {},
     "output_type": "execute_result"
    }
   ],
   "source": [
    "vb_simulator.centroid['Drug']"
   ]
  },
  {
   "cell_type": "code",
   "execution_count": 43,
   "id": "c4e89c6f-7056-404b-b728-5205e2346b8f",
   "metadata": {},
   "outputs": [],
   "source": [
    "D, I=vb_simulator.index.search(vb_simulator.centroid['Drug'].reshape(1, len(vb_simulator.centroid['Drug'])), vb_simulator.max_retrieve)"
   ]
  },
  {
   "cell_type": "code",
   "execution_count": 44,
   "id": "1823b7ce-480b-4c35-a405-25c2f32a2e45",
   "metadata": {},
   "outputs": [
    {
     "data": {
      "text/plain": [
       "(1, 51789)"
      ]
     },
     "execution_count": 44,
     "metadata": {},
     "output_type": "execute_result"
    }
   ],
   "source": [
    "I.shape"
   ]
  },
  {
   "cell_type": "code",
   "execution_count": 33,
   "id": "f7862f58-8cd6-4d08-95e4-8d817c5d61a5",
   "metadata": {},
   "outputs": [
    {
     "ename": "NameError",
     "evalue": "name 'I' is not defined",
     "output_type": "error",
     "traceback": [
      "\u001b[1;31m---------------------------------------------------------------------------\u001b[0m",
      "\u001b[1;31mNameError\u001b[0m                                 Traceback (most recent call last)",
      "Cell \u001b[1;32mIn[33], line 1\u001b[0m\n\u001b[1;32m----> 1\u001b[0m \u001b[43mI\u001b[49m\n",
      "\u001b[1;31mNameError\u001b[0m: name 'I' is not defined"
     ]
    }
   ],
   "source": [
    "I"
   ]
  },
  {
   "cell_type": "code",
   "execution_count": null,
   "id": "3b4c3cf4-ff27-4b1c-8ef7-9fd3b15610ce",
   "metadata": {},
   "outputs": [],
   "source": []
  }
 ],
 "metadata": {
  "kernelspec": {
   "display_name": "Python 3 (ipykernel)",
   "language": "python",
   "name": "python3"
  },
  "language_info": {
   "codemirror_mode": {
    "name": "ipython",
    "version": 3
   },
   "file_extension": ".py",
   "mimetype": "text/x-python",
   "name": "python",
   "nbconvert_exporter": "python",
   "pygments_lexer": "ipython3",
   "version": "3.8.18"
  }
 },
 "nbformat": 4,
 "nbformat_minor": 5
}
