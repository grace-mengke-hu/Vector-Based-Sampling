{
 "cells": [
  {
   "cell_type": "markdown",
   "id": "6024f606-7aa7-4f43-bc5b-4941a2686579",
   "metadata": {},
   "source": [
    "# Import "
   ]
  },
  {
   "cell_type": "code",
   "execution_count": 1,
   "id": "07dade98-d203-4c37-9201-094d4fa9684c",
   "metadata": {},
   "outputs": [],
   "source": [
    "import sklearn_crfsuite\n",
    "from sklearn_crfsuite.metrics import flat_f1_score\n",
    "from sklearn_crfsuite import CRF\n",
    "from sklearn.model_selection import train_test_split\n",
    "import pandas as pd\n",
    "import numpy as np\n",
    "from spacy.lang.en import English\n",
    "from spacy import displacy\n",
    "from pathlib import Path\n",
    "import joblib\n",
    "from spacy.tokens import Doc\n",
    "from typing import List\n",
    "import random\n",
    "from statistics import mean, stdev\n",
    "from loguru import logger\n",
    "import sys\n",
    "import spacy"
   ]
  },
  {
   "cell_type": "code",
   "execution_count": 2,
   "id": "456d2db0-ae32-41e5-822b-b79feff89fad",
   "metadata": {},
   "outputs": [],
   "source": [
    "from medspacy_io.reader.brat_reader import BratDocReader, BratDirReader\n",
    "import medspacy"
   ]
  },
  {
   "cell_type": "markdown",
   "id": "b3074734-1e2a-4093-9e17-393710ab8ef9",
   "metadata": {},
   "source": [
    "## Initiate BratDirReader"
   ]
  },
  {
   "cell_type": "code",
   "execution_count": 3,
   "id": "fb94b875-5b8d-4d0f-9101-e9cd5e27f253",
   "metadata": {},
   "outputs": [
    {
     "data": {
      "text/plain": [
       "(True, True)"
      ]
     },
     "execution_count": 3,
     "metadata": {},
     "output_type": "execute_result"
    }
   ],
   "source": [
    "cleaned_train_dir=r'..\\data\\n2c2\\cleaned_training'\n",
    "cleaned_test_dir=r'..\\data\\n2c2\\cleaned_test'\n",
    "Path(cleaned_train_dir).exists(), Path(cleaned_test_dir).exists()"
   ]
  },
  {
   "cell_type": "code",
   "execution_count": 4,
   "id": "2ead595b-6b3f-4164-a45a-a2824c58def4",
   "metadata": {},
   "outputs": [],
   "source": [
    "nlp=spacy.load('en_core_web_sm', disable=['ner'])"
   ]
  },
  {
   "cell_type": "code",
   "execution_count": 5,
   "id": "bd04508a-15e5-4c5d-b191-509ae92865ae",
   "metadata": {},
   "outputs": [],
   "source": [
    "dir_reader = BratDirReader(nlp=nlp, schema_file=str(Path(cleaned_train_dir, 'annotation.conf')), support_overlap=True)"
   ]
  },
  {
   "cell_type": "markdown",
   "id": "94341b2a-fd10-4fb9-98f5-8169b259a21a",
   "metadata": {},
   "source": [
    "## Read eHOST annotations | load from pickles"
   ]
  },
  {
   "cell_type": "code",
   "execution_count": 6,
   "id": "59de7b8c-52c2-43fb-9cce-392d8dd4de8c",
   "metadata": {},
   "outputs": [],
   "source": [
    "pickle_file= r'..\\data\\n2c2\\spacy_docs.joblib'"
   ]
  },
  {
   "cell_type": "code",
   "execution_count": 7,
   "id": "762f6665-6fe5-4bc2-81dc-2dfff06abd71",
   "metadata": {},
   "outputs": [
    {
     "name": "stdout",
     "output_type": "stream",
     "text": [
      "..\\data\\n2c2\\spacy_docs.joblib already exists, load them directly\n"
     ]
    }
   ],
   "source": [
    "if not Path(pickle_file).exists():\n",
    "    train_docs=dir_reader.read(txt_dir=cleaned_train_dir)\n",
    "    test_docs=dir_reader.read(txt_dir=cleaned_test_dir)\n",
    "    print(len(train_docs), len(test_docs))\n",
    "    joblib.dump((train_docs, test_docs), pickle_file)\n",
    "else:\n",
    "    print(f'{pickle_file} already exists, load them directly')\n",
    "    # before load from pickle, initiate EhostDirReader or EhostDocReader first, because some Doc extension used to store meta data will not be automatically recreated by loading.\n",
    "    train_docs, test_docs=joblib.load(pickle_file)"
   ]
  },
  {
   "cell_type": "markdown",
   "id": "bba0f1e6-1515-4db9-af90-2b37f69bdd64",
   "metadata": {},
   "source": [
    "# Define sampling functions"
   ]
  },
  {
   "cell_type": "code",
   "execution_count": 8,
   "id": "9aedf902-836b-442b-89a4-5962d8d1495f",
   "metadata": {},
   "outputs": [],
   "source": [
    "rounds =10\n",
    "seed= 14"
   ]
  },
  {
   "cell_type": "code",
   "execution_count": 9,
   "id": "01b9ce81-2d67-4b15-bca0-87af84c1dfd0",
   "metadata": {},
   "outputs": [
    {
     "data": {
      "text/plain": [
       "(303, 202)"
      ]
     },
     "execution_count": 9,
     "metadata": {},
     "output_type": "execute_result"
    }
   ],
   "source": [
    "len(train_docs), len(test_docs)"
   ]
  },
  {
   "cell_type": "markdown",
   "id": "9d89180d-7331-4737-bfd7-626b66eae5f8",
   "metadata": {},
   "source": [
    "### Define CRF Wrapper"
   ]
  },
  {
   "cell_type": "code",
   "execution_count": 10,
   "id": "e8e5443c-44d1-449e-a150-f57b432b04fd",
   "metadata": {},
   "outputs": [],
   "source": [
    "from CRFWrapper import spans_to_bio, convert_docs, word2features, sent2features,compute_metrics_and_averages,  CRFModel\n",
    "from ALSampler import SamplingSimulator, ModelSamplingSimulator, RandomSamplingSimulator"
   ]
  },
  {
   "cell_type": "code",
   "execution_count": 11,
   "id": "64c66e94-fc84-4943-bc6c-fc584406f46c",
   "metadata": {},
   "outputs": [
    {
     "name": "stdout",
     "output_type": "stream",
     "text": [
      "{'Route', 'Dosage', 'Duration', 'Drug', 'ADE', 'Form', 'Reason', 'Frequency', 'Strength'}\n"
     ]
    }
   ],
   "source": [
    "## Get all annotation types: \n",
    "annos=set()\n",
    "for d in train_docs:\n",
    "    for anno in d.spans.keys():\n",
    "        annos.add(anno)\n",
    "print(annos)"
   ]
  },
  {
   "cell_type": "code",
   "execution_count": 12,
   "id": "f25910bf-2fc9-411b-9dc0-33f0d3997fef",
   "metadata": {},
   "outputs": [],
   "source": [
    "crf_model=CRFModel(anno_types=annos)\n",
    "r_simulator=RandomSamplingSimulator(train_docs, total_round=10, modelWrapper=crf_model, eval_docs=test_docs, init_seed=seed)"
   ]
  },
  {
   "cell_type": "code",
   "execution_count": 13,
   "id": "b4bbf19a-e592-4853-a61a-160f7f19db49",
   "metadata": {},
   "outputs": [
    {
     "name": "stderr",
     "output_type": "stream",
     "text": [
      "\u001b[32m2024-03-21 11:54:40.926\u001b[0m | \u001b[1mINFO    \u001b[0m | \u001b[36mALSampler\u001b[0m:\u001b[36msimulate_rounds\u001b[0m:\u001b[36m35\u001b[0m - \u001b[1msimulate round 0.\u001b[0m\n",
      "\u001b[32m2024-03-21 11:54:44.668\u001b[0m | \u001b[34m\u001b[1mDEBUG   \u001b[0m | \u001b[36mCRFWrapper\u001b[0m:\u001b[36mfit\u001b[0m:\u001b[36m251\u001b[0m - \u001b[34m\u001b[1mReset and train CRF model...\u001b[0m\n",
      "\u001b[32m2024-03-21 11:55:40.195\u001b[0m | \u001b[34m\u001b[1mDEBUG   \u001b[0m | \u001b[36mCRFWrapper\u001b[0m:\u001b[36mfit\u001b[0m:\u001b[36m259\u001b[0m - \u001b[34m\u001b[1mTraining complete.\u001b[0m\n",
      "\u001b[32m2024-03-21 11:55:40.295\u001b[0m | \u001b[34m\u001b[1mDEBUG   \u001b[0m | \u001b[36mCRFWrapper\u001b[0m:\u001b[36mbootstrap_eval\u001b[0m:\u001b[36m280\u001b[0m - \u001b[34m\u001b[1mPredicting eval docs...\u001b[0m\n",
      "\u001b[32m2024-03-21 11:56:17.287\u001b[0m | \u001b[34m\u001b[1mDEBUG   \u001b[0m | \u001b[36mCRFWrapper\u001b[0m:\u001b[36mbootstrap_eval\u001b[0m:\u001b[36m284\u001b[0m - \u001b[34m\u001b[1mCalculate scores from bootstrapping 200 times\u001b[0m\n",
      "\u001b[32m2024-03-21 12:00:39.376\u001b[0m | \u001b[34m\u001b[1mDEBUG   \u001b[0m | \u001b[36mCRFWrapper\u001b[0m:\u001b[36mbootstrap_eval\u001b[0m:\u001b[36m293\u001b[0m - \u001b[34m\u001b[1mcomplete\u001b[0m\n",
      "\u001b[32m2024-03-21 12:00:39.516\u001b[0m | \u001b[34m\u001b[1mDEBUG   \u001b[0m | \u001b[36mALSampler\u001b[0m:\u001b[36msimulate_rounds\u001b[0m:\u001b[36m44\u001b[0m - \u001b[34m\u001b[1m{'precision': 0.9435403132345506, 'recall': 0.7792371047764345, 'f1': 0.8535492442836575}\u001b[0m\n",
      "\u001b[32m2024-03-21 12:00:39.518\u001b[0m | \u001b[1mINFO    \u001b[0m | \u001b[36mALSampler\u001b[0m:\u001b[36msimulate_rounds\u001b[0m:\u001b[36m35\u001b[0m - \u001b[1msimulate round 1.\u001b[0m\n",
      "\u001b[32m2024-03-21 12:00:46.249\u001b[0m | \u001b[34m\u001b[1mDEBUG   \u001b[0m | \u001b[36mCRFWrapper\u001b[0m:\u001b[36mfit\u001b[0m:\u001b[36m251\u001b[0m - \u001b[34m\u001b[1mReset and train CRF model...\u001b[0m\n",
      "\u001b[32m2024-03-21 12:02:40.092\u001b[0m | \u001b[34m\u001b[1mDEBUG   \u001b[0m | \u001b[36mCRFWrapper\u001b[0m:\u001b[36mfit\u001b[0m:\u001b[36m259\u001b[0m - \u001b[34m\u001b[1mTraining complete.\u001b[0m\n",
      "\u001b[32m2024-03-21 12:02:40.267\u001b[0m | \u001b[34m\u001b[1mDEBUG   \u001b[0m | \u001b[36mCRFWrapper\u001b[0m:\u001b[36mbootstrap_eval\u001b[0m:\u001b[36m280\u001b[0m - \u001b[34m\u001b[1mPredicting eval docs...\u001b[0m\n",
      "\u001b[32m2024-03-21 12:03:18.011\u001b[0m | \u001b[34m\u001b[1mDEBUG   \u001b[0m | \u001b[36mCRFWrapper\u001b[0m:\u001b[36mbootstrap_eval\u001b[0m:\u001b[36m284\u001b[0m - \u001b[34m\u001b[1mCalculate scores from bootstrapping 200 times\u001b[0m\n",
      "\u001b[32m2024-03-21 12:07:30.820\u001b[0m | \u001b[34m\u001b[1mDEBUG   \u001b[0m | \u001b[36mCRFWrapper\u001b[0m:\u001b[36mbootstrap_eval\u001b[0m:\u001b[36m293\u001b[0m - \u001b[34m\u001b[1mcomplete\u001b[0m\n",
      "\u001b[32m2024-03-21 12:07:30.953\u001b[0m | \u001b[34m\u001b[1mDEBUG   \u001b[0m | \u001b[36mALSampler\u001b[0m:\u001b[36msimulate_rounds\u001b[0m:\u001b[36m44\u001b[0m - \u001b[34m\u001b[1m{'precision': 0.9432931915654678, 'recall': 0.8089205092382573, 'f1': 0.8709507839464322}\u001b[0m\n",
      "\u001b[32m2024-03-21 12:07:30.955\u001b[0m | \u001b[1mINFO    \u001b[0m | \u001b[36mALSampler\u001b[0m:\u001b[36msimulate_rounds\u001b[0m:\u001b[36m35\u001b[0m - \u001b[1msimulate round 2.\u001b[0m\n",
      "\u001b[32m2024-03-21 12:07:41.313\u001b[0m | \u001b[34m\u001b[1mDEBUG   \u001b[0m | \u001b[36mCRFWrapper\u001b[0m:\u001b[36mfit\u001b[0m:\u001b[36m251\u001b[0m - \u001b[34m\u001b[1mReset and train CRF model...\u001b[0m\n",
      "\u001b[32m2024-03-21 12:10:28.595\u001b[0m | \u001b[34m\u001b[1mDEBUG   \u001b[0m | \u001b[36mCRFWrapper\u001b[0m:\u001b[36mfit\u001b[0m:\u001b[36m259\u001b[0m - \u001b[34m\u001b[1mTraining complete.\u001b[0m\n",
      "\u001b[32m2024-03-21 12:10:28.852\u001b[0m | \u001b[34m\u001b[1mDEBUG   \u001b[0m | \u001b[36mCRFWrapper\u001b[0m:\u001b[36mbootstrap_eval\u001b[0m:\u001b[36m280\u001b[0m - \u001b[34m\u001b[1mPredicting eval docs...\u001b[0m\n",
      "\u001b[32m2024-03-21 12:11:05.001\u001b[0m | \u001b[34m\u001b[1mDEBUG   \u001b[0m | \u001b[36mCRFWrapper\u001b[0m:\u001b[36mbootstrap_eval\u001b[0m:\u001b[36m284\u001b[0m - \u001b[34m\u001b[1mCalculate scores from bootstrapping 200 times\u001b[0m\n",
      "\u001b[32m2024-03-21 12:15:18.238\u001b[0m | \u001b[34m\u001b[1mDEBUG   \u001b[0m | \u001b[36mCRFWrapper\u001b[0m:\u001b[36mbootstrap_eval\u001b[0m:\u001b[36m293\u001b[0m - \u001b[34m\u001b[1mcomplete\u001b[0m\n",
      "\u001b[32m2024-03-21 12:15:18.368\u001b[0m | \u001b[34m\u001b[1mDEBUG   \u001b[0m | \u001b[36mALSampler\u001b[0m:\u001b[36msimulate_rounds\u001b[0m:\u001b[36m44\u001b[0m - \u001b[34m\u001b[1m{'precision': 0.9429682163328613, 'recall': 0.8246238877300714, 'f1': 0.8798313150924827}\u001b[0m\n",
      "\u001b[32m2024-03-21 12:15:18.370\u001b[0m | \u001b[1mINFO    \u001b[0m | \u001b[36mALSampler\u001b[0m:\u001b[36msimulate_rounds\u001b[0m:\u001b[36m35\u001b[0m - \u001b[1msimulate round 3.\u001b[0m\n",
      "\u001b[32m2024-03-21 12:15:32.927\u001b[0m | \u001b[34m\u001b[1mDEBUG   \u001b[0m | \u001b[36mCRFWrapper\u001b[0m:\u001b[36mfit\u001b[0m:\u001b[36m251\u001b[0m - \u001b[34m\u001b[1mReset and train CRF model...\u001b[0m\n",
      "\u001b[32m2024-03-21 12:19:27.913\u001b[0m | \u001b[34m\u001b[1mDEBUG   \u001b[0m | \u001b[36mCRFWrapper\u001b[0m:\u001b[36mfit\u001b[0m:\u001b[36m259\u001b[0m - \u001b[34m\u001b[1mTraining complete.\u001b[0m\n",
      "\u001b[32m2024-03-21 12:19:28.292\u001b[0m | \u001b[34m\u001b[1mDEBUG   \u001b[0m | \u001b[36mCRFWrapper\u001b[0m:\u001b[36mbootstrap_eval\u001b[0m:\u001b[36m280\u001b[0m - \u001b[34m\u001b[1mPredicting eval docs...\u001b[0m\n",
      "\u001b[32m2024-03-21 12:20:04.925\u001b[0m | \u001b[34m\u001b[1mDEBUG   \u001b[0m | \u001b[36mCRFWrapper\u001b[0m:\u001b[36mbootstrap_eval\u001b[0m:\u001b[36m284\u001b[0m - \u001b[34m\u001b[1mCalculate scores from bootstrapping 200 times\u001b[0m\n",
      "\u001b[32m2024-03-21 12:24:18.420\u001b[0m | \u001b[34m\u001b[1mDEBUG   \u001b[0m | \u001b[36mCRFWrapper\u001b[0m:\u001b[36mbootstrap_eval\u001b[0m:\u001b[36m293\u001b[0m - \u001b[34m\u001b[1mcomplete\u001b[0m\n",
      "\u001b[32m2024-03-21 12:24:18.549\u001b[0m | \u001b[34m\u001b[1mDEBUG   \u001b[0m | \u001b[36mALSampler\u001b[0m:\u001b[36msimulate_rounds\u001b[0m:\u001b[36m44\u001b[0m - \u001b[34m\u001b[1m{'precision': 0.9433145296220511, 'recall': 0.8333935283539222, 'f1': 0.8849507025711687}\u001b[0m\n",
      "\u001b[32m2024-03-21 12:24:18.551\u001b[0m | \u001b[1mINFO    \u001b[0m | \u001b[36mALSampler\u001b[0m:\u001b[36msimulate_rounds\u001b[0m:\u001b[36m35\u001b[0m - \u001b[1msimulate round 4.\u001b[0m\n",
      "\u001b[32m2024-03-21 12:24:36.791\u001b[0m | \u001b[34m\u001b[1mDEBUG   \u001b[0m | \u001b[36mCRFWrapper\u001b[0m:\u001b[36mfit\u001b[0m:\u001b[36m251\u001b[0m - \u001b[34m\u001b[1mReset and train CRF model...\u001b[0m\n",
      "\u001b[32m2024-03-21 12:29:38.278\u001b[0m | \u001b[34m\u001b[1mDEBUG   \u001b[0m | \u001b[36mCRFWrapper\u001b[0m:\u001b[36mfit\u001b[0m:\u001b[36m259\u001b[0m - \u001b[34m\u001b[1mTraining complete.\u001b[0m\n",
      "\u001b[32m2024-03-21 12:29:38.777\u001b[0m | \u001b[34m\u001b[1mDEBUG   \u001b[0m | \u001b[36mCRFWrapper\u001b[0m:\u001b[36mbootstrap_eval\u001b[0m:\u001b[36m280\u001b[0m - \u001b[34m\u001b[1mPredicting eval docs...\u001b[0m\n",
      "\u001b[32m2024-03-21 12:30:14.582\u001b[0m | \u001b[34m\u001b[1mDEBUG   \u001b[0m | \u001b[36mCRFWrapper\u001b[0m:\u001b[36mbootstrap_eval\u001b[0m:\u001b[36m284\u001b[0m - \u001b[34m\u001b[1mCalculate scores from bootstrapping 200 times\u001b[0m\n",
      "\u001b[32m2024-03-21 12:34:27.144\u001b[0m | \u001b[34m\u001b[1mDEBUG   \u001b[0m | \u001b[36mCRFWrapper\u001b[0m:\u001b[36mbootstrap_eval\u001b[0m:\u001b[36m293\u001b[0m - \u001b[34m\u001b[1mcomplete\u001b[0m\n",
      "\u001b[32m2024-03-21 12:34:27.274\u001b[0m | \u001b[34m\u001b[1mDEBUG   \u001b[0m | \u001b[36mALSampler\u001b[0m:\u001b[36msimulate_rounds\u001b[0m:\u001b[36m44\u001b[0m - \u001b[34m\u001b[1m{'precision': 0.9435742922947989, 'recall': 0.8427111932432639, 'f1': 0.8902924049995758}\u001b[0m\n",
      "\u001b[32m2024-03-21 12:34:27.276\u001b[0m | \u001b[1mINFO    \u001b[0m | \u001b[36mALSampler\u001b[0m:\u001b[36msimulate_rounds\u001b[0m:\u001b[36m35\u001b[0m - \u001b[1msimulate round 5.\u001b[0m\n",
      "\u001b[32m2024-03-21 12:34:49.506\u001b[0m | \u001b[34m\u001b[1mDEBUG   \u001b[0m | \u001b[36mCRFWrapper\u001b[0m:\u001b[36mfit\u001b[0m:\u001b[36m251\u001b[0m - \u001b[34m\u001b[1mReset and train CRF model...\u001b[0m\n",
      "\u001b[32m2024-03-21 12:40:54.310\u001b[0m | \u001b[34m\u001b[1mDEBUG   \u001b[0m | \u001b[36mCRFWrapper\u001b[0m:\u001b[36mfit\u001b[0m:\u001b[36m259\u001b[0m - \u001b[34m\u001b[1mTraining complete.\u001b[0m\n",
      "\u001b[32m2024-03-21 12:40:54.940\u001b[0m | \u001b[34m\u001b[1mDEBUG   \u001b[0m | \u001b[36mCRFWrapper\u001b[0m:\u001b[36mbootstrap_eval\u001b[0m:\u001b[36m280\u001b[0m - \u001b[34m\u001b[1mPredicting eval docs...\u001b[0m\n",
      "\u001b[32m2024-03-21 12:41:32.006\u001b[0m | \u001b[34m\u001b[1mDEBUG   \u001b[0m | \u001b[36mCRFWrapper\u001b[0m:\u001b[36mbootstrap_eval\u001b[0m:\u001b[36m284\u001b[0m - \u001b[34m\u001b[1mCalculate scores from bootstrapping 200 times\u001b[0m\n",
      "\u001b[32m2024-03-21 12:45:52.234\u001b[0m | \u001b[34m\u001b[1mDEBUG   \u001b[0m | \u001b[36mCRFWrapper\u001b[0m:\u001b[36mbootstrap_eval\u001b[0m:\u001b[36m293\u001b[0m - \u001b[34m\u001b[1mcomplete\u001b[0m\n",
      "\u001b[32m2024-03-21 12:45:52.370\u001b[0m | \u001b[34m\u001b[1mDEBUG   \u001b[0m | \u001b[36mALSampler\u001b[0m:\u001b[36msimulate_rounds\u001b[0m:\u001b[36m44\u001b[0m - \u001b[34m\u001b[1m{'precision': 0.9457005619123094, 'recall': 0.8448889037977753, 'f1': 0.892454121113698}\u001b[0m\n",
      "\u001b[32m2024-03-21 12:45:52.372\u001b[0m | \u001b[1mINFO    \u001b[0m | \u001b[36mALSampler\u001b[0m:\u001b[36msimulate_rounds\u001b[0m:\u001b[36m35\u001b[0m - \u001b[1msimulate round 6.\u001b[0m\n",
      "\u001b[32m2024-03-21 12:46:19.310\u001b[0m | \u001b[34m\u001b[1mDEBUG   \u001b[0m | \u001b[36mCRFWrapper\u001b[0m:\u001b[36mfit\u001b[0m:\u001b[36m251\u001b[0m - \u001b[34m\u001b[1mReset and train CRF model...\u001b[0m\n",
      "\u001b[32m2024-03-21 12:53:42.997\u001b[0m | \u001b[34m\u001b[1mDEBUG   \u001b[0m | \u001b[36mCRFWrapper\u001b[0m:\u001b[36mfit\u001b[0m:\u001b[36m259\u001b[0m - \u001b[34m\u001b[1mTraining complete.\u001b[0m\n",
      "\u001b[32m2024-03-21 12:53:43.799\u001b[0m | \u001b[34m\u001b[1mDEBUG   \u001b[0m | \u001b[36mCRFWrapper\u001b[0m:\u001b[36mbootstrap_eval\u001b[0m:\u001b[36m280\u001b[0m - \u001b[34m\u001b[1mPredicting eval docs...\u001b[0m\n",
      "\u001b[32m2024-03-21 12:54:20.344\u001b[0m | \u001b[34m\u001b[1mDEBUG   \u001b[0m | \u001b[36mCRFWrapper\u001b[0m:\u001b[36mbootstrap_eval\u001b[0m:\u001b[36m284\u001b[0m - \u001b[34m\u001b[1mCalculate scores from bootstrapping 200 times\u001b[0m\n",
      "\u001b[32m2024-03-21 12:58:34.232\u001b[0m | \u001b[34m\u001b[1mDEBUG   \u001b[0m | \u001b[36mCRFWrapper\u001b[0m:\u001b[36mbootstrap_eval\u001b[0m:\u001b[36m293\u001b[0m - \u001b[34m\u001b[1mcomplete\u001b[0m\n",
      "\u001b[32m2024-03-21 12:58:34.355\u001b[0m | \u001b[34m\u001b[1mDEBUG   \u001b[0m | \u001b[36mALSampler\u001b[0m:\u001b[36msimulate_rounds\u001b[0m:\u001b[36m44\u001b[0m - \u001b[34m\u001b[1m{'precision': 0.9459303020826225, 'recall': 0.8498116175811041, 'f1': 0.8952958953732428}\u001b[0m\n",
      "\u001b[32m2024-03-21 12:58:34.357\u001b[0m | \u001b[1mINFO    \u001b[0m | \u001b[36mALSampler\u001b[0m:\u001b[36msimulate_rounds\u001b[0m:\u001b[36m35\u001b[0m - \u001b[1msimulate round 7.\u001b[0m\n",
      "\u001b[32m2024-03-21 12:59:04.572\u001b[0m | \u001b[34m\u001b[1mDEBUG   \u001b[0m | \u001b[36mCRFWrapper\u001b[0m:\u001b[36mfit\u001b[0m:\u001b[36m251\u001b[0m - \u001b[34m\u001b[1mReset and train CRF model...\u001b[0m\n",
      "\u001b[32m2024-03-21 13:07:10.102\u001b[0m | \u001b[34m\u001b[1mDEBUG   \u001b[0m | \u001b[36mCRFWrapper\u001b[0m:\u001b[36mfit\u001b[0m:\u001b[36m259\u001b[0m - \u001b[34m\u001b[1mTraining complete.\u001b[0m\n",
      "\u001b[32m2024-03-21 13:07:10.993\u001b[0m | \u001b[34m\u001b[1mDEBUG   \u001b[0m | \u001b[36mCRFWrapper\u001b[0m:\u001b[36mbootstrap_eval\u001b[0m:\u001b[36m280\u001b[0m - \u001b[34m\u001b[1mPredicting eval docs...\u001b[0m\n",
      "\u001b[32m2024-03-21 13:07:46.842\u001b[0m | \u001b[34m\u001b[1mDEBUG   \u001b[0m | \u001b[36mCRFWrapper\u001b[0m:\u001b[36mbootstrap_eval\u001b[0m:\u001b[36m284\u001b[0m - \u001b[34m\u001b[1mCalculate scores from bootstrapping 200 times\u001b[0m\n",
      "\u001b[32m2024-03-21 13:11:59.479\u001b[0m | \u001b[34m\u001b[1mDEBUG   \u001b[0m | \u001b[36mCRFWrapper\u001b[0m:\u001b[36mbootstrap_eval\u001b[0m:\u001b[36m293\u001b[0m - \u001b[34m\u001b[1mcomplete\u001b[0m\n",
      "\u001b[32m2024-03-21 13:11:59.604\u001b[0m | \u001b[34m\u001b[1mDEBUG   \u001b[0m | \u001b[36mALSampler\u001b[0m:\u001b[36msimulate_rounds\u001b[0m:\u001b[36m44\u001b[0m - \u001b[34m\u001b[1m{'precision': 0.944608452396719, 'recall': 0.8541730282434807, 'f1': 0.8971145349482373}\u001b[0m\n",
      "\u001b[32m2024-03-21 13:11:59.606\u001b[0m | \u001b[1mINFO    \u001b[0m | \u001b[36mALSampler\u001b[0m:\u001b[36msimulate_rounds\u001b[0m:\u001b[36m35\u001b[0m - \u001b[1msimulate round 8.\u001b[0m\n",
      "\u001b[32m2024-03-21 13:12:32.314\u001b[0m | \u001b[34m\u001b[1mDEBUG   \u001b[0m | \u001b[36mCRFWrapper\u001b[0m:\u001b[36mfit\u001b[0m:\u001b[36m251\u001b[0m - \u001b[34m\u001b[1mReset and train CRF model...\u001b[0m\n",
      "\u001b[32m2024-03-21 13:21:37.227\u001b[0m | \u001b[34m\u001b[1mDEBUG   \u001b[0m | \u001b[36mCRFWrapper\u001b[0m:\u001b[36mfit\u001b[0m:\u001b[36m259\u001b[0m - \u001b[34m\u001b[1mTraining complete.\u001b[0m\n",
      "\u001b[32m2024-03-21 13:21:38.228\u001b[0m | \u001b[34m\u001b[1mDEBUG   \u001b[0m | \u001b[36mCRFWrapper\u001b[0m:\u001b[36mbootstrap_eval\u001b[0m:\u001b[36m280\u001b[0m - \u001b[34m\u001b[1mPredicting eval docs...\u001b[0m\n",
      "\u001b[32m2024-03-21 13:22:14.187\u001b[0m | \u001b[34m\u001b[1mDEBUG   \u001b[0m | \u001b[36mCRFWrapper\u001b[0m:\u001b[36mbootstrap_eval\u001b[0m:\u001b[36m284\u001b[0m - \u001b[34m\u001b[1mCalculate scores from bootstrapping 200 times\u001b[0m\n",
      "\u001b[32m2024-03-21 13:26:33.019\u001b[0m | \u001b[34m\u001b[1mDEBUG   \u001b[0m | \u001b[36mCRFWrapper\u001b[0m:\u001b[36mbootstrap_eval\u001b[0m:\u001b[36m293\u001b[0m - \u001b[34m\u001b[1mcomplete\u001b[0m\n",
      "\u001b[32m2024-03-21 13:26:33.151\u001b[0m | \u001b[34m\u001b[1mDEBUG   \u001b[0m | \u001b[36mALSampler\u001b[0m:\u001b[36msimulate_rounds\u001b[0m:\u001b[36m44\u001b[0m - \u001b[34m\u001b[1m{'precision': 0.9456681105545474, 'recall': 0.8580635794690923, 'f1': 0.8997359856865482}\u001b[0m\n",
      "\u001b[32m2024-03-21 13:26:33.153\u001b[0m | \u001b[1mINFO    \u001b[0m | \u001b[36mALSampler\u001b[0m:\u001b[36msimulate_rounds\u001b[0m:\u001b[36m35\u001b[0m - \u001b[1msimulate round 9.\u001b[0m\n",
      "\u001b[32m2024-03-21 13:27:12.054\u001b[0m | \u001b[34m\u001b[1mDEBUG   \u001b[0m | \u001b[36mCRFWrapper\u001b[0m:\u001b[36mfit\u001b[0m:\u001b[36m251\u001b[0m - \u001b[34m\u001b[1mReset and train CRF model...\u001b[0m\n",
      "\u001b[32m2024-03-21 13:37:44.679\u001b[0m | \u001b[34m\u001b[1mDEBUG   \u001b[0m | \u001b[36mCRFWrapper\u001b[0m:\u001b[36mfit\u001b[0m:\u001b[36m259\u001b[0m - \u001b[34m\u001b[1mTraining complete.\u001b[0m\n",
      "\u001b[32m2024-03-21 13:37:45.726\u001b[0m | \u001b[34m\u001b[1mDEBUG   \u001b[0m | \u001b[36mCRFWrapper\u001b[0m:\u001b[36mbootstrap_eval\u001b[0m:\u001b[36m280\u001b[0m - \u001b[34m\u001b[1mPredicting eval docs...\u001b[0m\n",
      "\u001b[32m2024-03-21 13:38:24.011\u001b[0m | \u001b[34m\u001b[1mDEBUG   \u001b[0m | \u001b[36mCRFWrapper\u001b[0m:\u001b[36mbootstrap_eval\u001b[0m:\u001b[36m284\u001b[0m - \u001b[34m\u001b[1mCalculate scores from bootstrapping 200 times\u001b[0m\n",
      "\u001b[32m2024-03-21 13:42:55.606\u001b[0m | \u001b[34m\u001b[1mDEBUG   \u001b[0m | \u001b[36mCRFWrapper\u001b[0m:\u001b[36mbootstrap_eval\u001b[0m:\u001b[36m293\u001b[0m - \u001b[34m\u001b[1mcomplete\u001b[0m\n",
      "\u001b[32m2024-03-21 13:42:55.735\u001b[0m | \u001b[34m\u001b[1mDEBUG   \u001b[0m | \u001b[36mALSampler\u001b[0m:\u001b[36msimulate_rounds\u001b[0m:\u001b[36m44\u001b[0m - \u001b[34m\u001b[1m{'precision': 0.9458921597883659, 'recall': 0.8585314341406581, 'f1': 0.9000943376079582}\u001b[0m\n",
      "\u001b[32m2024-03-21 13:42:55.737\u001b[0m | \u001b[1mINFO    \u001b[0m | \u001b[36mALSampler\u001b[0m:\u001b[36msimulate_rounds\u001b[0m:\u001b[36m35\u001b[0m - \u001b[1msimulate round 10.\u001b[0m\n",
      "\u001b[32m2024-03-21 13:43:35.086\u001b[0m | \u001b[34m\u001b[1mDEBUG   \u001b[0m | \u001b[36mCRFWrapper\u001b[0m:\u001b[36mfit\u001b[0m:\u001b[36m251\u001b[0m - \u001b[34m\u001b[1mReset and train CRF model...\u001b[0m\n",
      "\u001b[32m2024-03-21 13:54:24.818\u001b[0m | \u001b[34m\u001b[1mDEBUG   \u001b[0m | \u001b[36mCRFWrapper\u001b[0m:\u001b[36mfit\u001b[0m:\u001b[36m259\u001b[0m - \u001b[34m\u001b[1mTraining complete.\u001b[0m\n"
     ]
    }
   ],
   "source": [
    "scores=r_simulator.simulate_rounds(boostrap_times=200)"
   ]
  },
  {
   "cell_type": "code",
   "execution_count": 16,
   "id": "ea8fc7ea-31eb-48a2-9f50-17f939f999e5",
   "metadata": {},
   "outputs": [],
   "source": [
    "def compute_mean_ci(scores):\n",
    "    ave=np.mean(scores)\n",
    "    ci=np.percentile(scores, [2.5, 97.5])\n",
    "    return ave, ci\n",
    "\n",
    "summary={'precision': [], 'pl':[], 'pu': [], 'recall': [], 'rl':[], 'ru': [], 'f1':[], 'fl':[], 'fu': []}\n",
    "for s in scores:    \n",
    "    for k,v in s.items():\n",
    "        ave, (l, u)=compute_mean_ci(v)\n",
    "        summary[k].append(ave)\n",
    "        summary[k[0]+'l'].append(l)\n",
    "        summary[k[0]+'u'].append(u)\n"
   ]
  },
  {
   "cell_type": "code",
   "execution_count": 18,
   "id": "39559314-f045-458b-95e7-dd582861c5b6",
   "metadata": {},
   "outputs": [],
   "source": [
    "pd.options.display.float_format='{:,.5f}'.format"
   ]
  },
  {
   "cell_type": "code",
   "execution_count": 19,
   "id": "4232d31c-9d9f-44bc-8a21-e87889df420f",
   "metadata": {},
   "outputs": [
    {
     "data": {
      "text/html": [
       "<div>\n",
       "<style scoped>\n",
       "    .dataframe tbody tr th:only-of-type {\n",
       "        vertical-align: middle;\n",
       "    }\n",
       "\n",
       "    .dataframe tbody tr th {\n",
       "        vertical-align: top;\n",
       "    }\n",
       "\n",
       "    .dataframe thead th {\n",
       "        text-align: right;\n",
       "    }\n",
       "</style>\n",
       "<table border=\"1\" class=\"dataframe\">\n",
       "  <thead>\n",
       "    <tr style=\"text-align: right;\">\n",
       "      <th></th>\n",
       "      <th>precision</th>\n",
       "      <th>pl</th>\n",
       "      <th>pu</th>\n",
       "      <th>recall</th>\n",
       "      <th>rl</th>\n",
       "      <th>ru</th>\n",
       "      <th>f1</th>\n",
       "      <th>fl</th>\n",
       "      <th>fu</th>\n",
       "    </tr>\n",
       "  </thead>\n",
       "  <tbody>\n",
       "    <tr>\n",
       "      <th>0</th>\n",
       "      <td>0.94354</td>\n",
       "      <td>0.94023</td>\n",
       "      <td>0.94722</td>\n",
       "      <td>0.77924</td>\n",
       "      <td>0.77152</td>\n",
       "      <td>0.78596</td>\n",
       "      <td>0.85355</td>\n",
       "      <td>0.84848</td>\n",
       "      <td>0.85821</td>\n",
       "    </tr>\n",
       "    <tr>\n",
       "      <th>1</th>\n",
       "      <td>0.94329</td>\n",
       "      <td>0.94022</td>\n",
       "      <td>0.94628</td>\n",
       "      <td>0.80892</td>\n",
       "      <td>0.80119</td>\n",
       "      <td>0.81500</td>\n",
       "      <td>0.87095</td>\n",
       "      <td>0.86591</td>\n",
       "      <td>0.87517</td>\n",
       "    </tr>\n",
       "    <tr>\n",
       "      <th>2</th>\n",
       "      <td>0.94297</td>\n",
       "      <td>0.93944</td>\n",
       "      <td>0.94554</td>\n",
       "      <td>0.82462</td>\n",
       "      <td>0.81823</td>\n",
       "      <td>0.83039</td>\n",
       "      <td>0.87983</td>\n",
       "      <td>0.87584</td>\n",
       "      <td>0.88378</td>\n",
       "    </tr>\n",
       "    <tr>\n",
       "      <th>3</th>\n",
       "      <td>0.94331</td>\n",
       "      <td>0.93995</td>\n",
       "      <td>0.94607</td>\n",
       "      <td>0.83339</td>\n",
       "      <td>0.82730</td>\n",
       "      <td>0.83949</td>\n",
       "      <td>0.88495</td>\n",
       "      <td>0.88076</td>\n",
       "      <td>0.88887</td>\n",
       "    </tr>\n",
       "    <tr>\n",
       "      <th>4</th>\n",
       "      <td>0.94357</td>\n",
       "      <td>0.94041</td>\n",
       "      <td>0.94629</td>\n",
       "      <td>0.84271</td>\n",
       "      <td>0.83687</td>\n",
       "      <td>0.84897</td>\n",
       "      <td>0.89029</td>\n",
       "      <td>0.88649</td>\n",
       "      <td>0.89463</td>\n",
       "    </tr>\n",
       "    <tr>\n",
       "      <th>5</th>\n",
       "      <td>0.94570</td>\n",
       "      <td>0.94255</td>\n",
       "      <td>0.94851</td>\n",
       "      <td>0.84489</td>\n",
       "      <td>0.83914</td>\n",
       "      <td>0.85075</td>\n",
       "      <td>0.89245</td>\n",
       "      <td>0.88881</td>\n",
       "      <td>0.89659</td>\n",
       "    </tr>\n",
       "    <tr>\n",
       "      <th>6</th>\n",
       "      <td>0.94593</td>\n",
       "      <td>0.94288</td>\n",
       "      <td>0.94866</td>\n",
       "      <td>0.84981</td>\n",
       "      <td>0.84425</td>\n",
       "      <td>0.85546</td>\n",
       "      <td>0.89530</td>\n",
       "      <td>0.89135</td>\n",
       "      <td>0.89906</td>\n",
       "    </tr>\n",
       "    <tr>\n",
       "      <th>7</th>\n",
       "      <td>0.94461</td>\n",
       "      <td>0.94150</td>\n",
       "      <td>0.94742</td>\n",
       "      <td>0.85417</td>\n",
       "      <td>0.84831</td>\n",
       "      <td>0.85987</td>\n",
       "      <td>0.89711</td>\n",
       "      <td>0.89352</td>\n",
       "      <td>0.90095</td>\n",
       "    </tr>\n",
       "    <tr>\n",
       "      <th>8</th>\n",
       "      <td>0.94567</td>\n",
       "      <td>0.94266</td>\n",
       "      <td>0.94856</td>\n",
       "      <td>0.85806</td>\n",
       "      <td>0.85262</td>\n",
       "      <td>0.86329</td>\n",
       "      <td>0.89974</td>\n",
       "      <td>0.89619</td>\n",
       "      <td>0.90357</td>\n",
       "    </tr>\n",
       "    <tr>\n",
       "      <th>9</th>\n",
       "      <td>0.94589</td>\n",
       "      <td>0.94309</td>\n",
       "      <td>0.94887</td>\n",
       "      <td>0.85853</td>\n",
       "      <td>0.85240</td>\n",
       "      <td>0.86406</td>\n",
       "      <td>0.90009</td>\n",
       "      <td>0.89629</td>\n",
       "      <td>0.90338</td>\n",
       "    </tr>\n",
       "  </tbody>\n",
       "</table>\n",
       "</div>"
      ],
      "text/plain": [
       "   precision      pl      pu  recall      rl      ru      f1      fl      fu\n",
       "0    0.94354 0.94023 0.94722 0.77924 0.77152 0.78596 0.85355 0.84848 0.85821\n",
       "1    0.94329 0.94022 0.94628 0.80892 0.80119 0.81500 0.87095 0.86591 0.87517\n",
       "2    0.94297 0.93944 0.94554 0.82462 0.81823 0.83039 0.87983 0.87584 0.88378\n",
       "3    0.94331 0.93995 0.94607 0.83339 0.82730 0.83949 0.88495 0.88076 0.88887\n",
       "4    0.94357 0.94041 0.94629 0.84271 0.83687 0.84897 0.89029 0.88649 0.89463\n",
       "5    0.94570 0.94255 0.94851 0.84489 0.83914 0.85075 0.89245 0.88881 0.89659\n",
       "6    0.94593 0.94288 0.94866 0.84981 0.84425 0.85546 0.89530 0.89135 0.89906\n",
       "7    0.94461 0.94150 0.94742 0.85417 0.84831 0.85987 0.89711 0.89352 0.90095\n",
       "8    0.94567 0.94266 0.94856 0.85806 0.85262 0.86329 0.89974 0.89619 0.90357\n",
       "9    0.94589 0.94309 0.94887 0.85853 0.85240 0.86406 0.90009 0.89629 0.90338"
      ]
     },
     "execution_count": 19,
     "metadata": {},
     "output_type": "execute_result"
    }
   ],
   "source": [
    "pd.DataFrame(summary)"
   ]
  },
  {
   "cell_type": "markdown",
   "id": "f4b51bd0-6d3e-4141-b4f3-415e27d84914",
   "metadata": {},
   "source": [
    "## Bootstrap 10 runs"
   ]
  },
  {
   "cell_type": "code",
   "execution_count": 13,
   "id": "aa0818ee-3bdf-4c16-abb6-cc71054c2cd8",
   "metadata": {},
   "outputs": [],
   "source": [
    "boostrap_runs=3\n",
    "total_round=10"
   ]
  },
  {
   "cell_type": "code",
   "execution_count": 14,
   "id": "15afec04-f7e9-4f63-8b17-b9199055d192",
   "metadata": {},
   "outputs": [
    {
     "data": {
      "text/plain": [
       "1"
      ]
     },
     "execution_count": 14,
     "metadata": {},
     "output_type": "execute_result"
    }
   ],
   "source": [
    "logger.remove()\n",
    "logger.add(sys.stderr, level='INFO')"
   ]
  },
  {
   "cell_type": "code",
   "execution_count": 15,
   "id": "fb1ecb94-8454-4765-ae6e-aeeb6d501e3f",
   "metadata": {},
   "outputs": [
    {
     "data": {
      "text/plain": [
       "[1792286, 8843471, 4142887]"
      ]
     },
     "execution_count": 15,
     "metadata": {},
     "output_type": "execute_result"
    }
   ],
   "source": [
    "random.seed(14)\n",
    "seeds=[random.randint(1,10000000) for  _ in range(boostrap_runs)]\n",
    "seeds"
   ]
  },
  {
   "cell_type": "code",
   "execution_count": 16,
   "id": "6a39c3bc-d4e6-452f-971a-c57849235765",
   "metadata": {},
   "outputs": [
    {
     "name": "stderr",
     "output_type": "stream",
     "text": [
      "\u001b[32m2024-03-22 21:39:25.752\u001b[0m | \u001b[1mINFO    \u001b[0m | \u001b[36m__main__\u001b[0m:\u001b[36m<module>\u001b[0m:\u001b[36m3\u001b[0m - \u001b[1mstart run 0.\u001b[0m\n",
      "\u001b[32m2024-03-22 21:39:25.754\u001b[0m | \u001b[1mINFO    \u001b[0m | \u001b[36mALSampler\u001b[0m:\u001b[36msimulate_rounds\u001b[0m:\u001b[36m45\u001b[0m - \u001b[1msimulate round 0.\u001b[0m\n",
      "\u001b[32m2024-03-22 21:39:25.757\u001b[0m | \u001b[1mINFO    \u001b[0m | \u001b[36mALSampler\u001b[0m:\u001b[36mkeep_sample\u001b[0m:\u001b[36m39\u001b[0m - \u001b[1mcurrent sampled: 30\u001b[0m\n",
      "\u001b[32m2024-03-22 21:47:17.349\u001b[0m | \u001b[1mINFO    \u001b[0m | \u001b[36mALSampler\u001b[0m:\u001b[36msimulate_rounds\u001b[0m:\u001b[36m45\u001b[0m - \u001b[1msimulate round 1.\u001b[0m\n",
      "\u001b[32m2024-03-22 21:47:17.354\u001b[0m | \u001b[1mINFO    \u001b[0m | \u001b[36mALSampler\u001b[0m:\u001b[36mkeep_sample\u001b[0m:\u001b[36m39\u001b[0m - \u001b[1mcurrent sampled: 60\u001b[0m\n",
      "\u001b[32m2024-03-22 21:56:27.687\u001b[0m | \u001b[1mINFO    \u001b[0m | \u001b[36mALSampler\u001b[0m:\u001b[36msimulate_rounds\u001b[0m:\u001b[36m45\u001b[0m - \u001b[1msimulate round 2.\u001b[0m\n",
      "\u001b[32m2024-03-22 21:56:27.690\u001b[0m | \u001b[1mINFO    \u001b[0m | \u001b[36mALSampler\u001b[0m:\u001b[36mkeep_sample\u001b[0m:\u001b[36m39\u001b[0m - \u001b[1mcurrent sampled: 90\u001b[0m\n",
      "\u001b[32m2024-03-22 22:06:14.709\u001b[0m | \u001b[1mINFO    \u001b[0m | \u001b[36mALSampler\u001b[0m:\u001b[36msimulate_rounds\u001b[0m:\u001b[36m45\u001b[0m - \u001b[1msimulate round 3.\u001b[0m\n",
      "\u001b[32m2024-03-22 22:06:14.711\u001b[0m | \u001b[1mINFO    \u001b[0m | \u001b[36mALSampler\u001b[0m:\u001b[36mkeep_sample\u001b[0m:\u001b[36m39\u001b[0m - \u001b[1mcurrent sampled: 120\u001b[0m\n",
      "\u001b[32m2024-03-22 22:16:55.941\u001b[0m | \u001b[1mINFO    \u001b[0m | \u001b[36mALSampler\u001b[0m:\u001b[36msimulate_rounds\u001b[0m:\u001b[36m45\u001b[0m - \u001b[1msimulate round 4.\u001b[0m\n",
      "\u001b[32m2024-03-22 22:16:55.942\u001b[0m | \u001b[1mINFO    \u001b[0m | \u001b[36mALSampler\u001b[0m:\u001b[36mkeep_sample\u001b[0m:\u001b[36m39\u001b[0m - \u001b[1mcurrent sampled: 150\u001b[0m\n",
      "\u001b[32m2024-03-22 22:30:06.919\u001b[0m | \u001b[1mINFO    \u001b[0m | \u001b[36mALSampler\u001b[0m:\u001b[36msimulate_rounds\u001b[0m:\u001b[36m45\u001b[0m - \u001b[1msimulate round 5.\u001b[0m\n",
      "\u001b[32m2024-03-22 22:30:06.921\u001b[0m | \u001b[1mINFO    \u001b[0m | \u001b[36mALSampler\u001b[0m:\u001b[36mkeep_sample\u001b[0m:\u001b[36m39\u001b[0m - \u001b[1mcurrent sampled: 180\u001b[0m\n",
      "\u001b[32m2024-03-22 22:43:49.589\u001b[0m | \u001b[1mINFO    \u001b[0m | \u001b[36mALSampler\u001b[0m:\u001b[36msimulate_rounds\u001b[0m:\u001b[36m45\u001b[0m - \u001b[1msimulate round 6.\u001b[0m\n",
      "\u001b[32m2024-03-22 22:43:49.590\u001b[0m | \u001b[1mINFO    \u001b[0m | \u001b[36mALSampler\u001b[0m:\u001b[36mkeep_sample\u001b[0m:\u001b[36m39\u001b[0m - \u001b[1mcurrent sampled: 210\u001b[0m\n",
      "\u001b[32m2024-03-22 22:59:57.370\u001b[0m | \u001b[1mINFO    \u001b[0m | \u001b[36mALSampler\u001b[0m:\u001b[36msimulate_rounds\u001b[0m:\u001b[36m45\u001b[0m - \u001b[1msimulate round 7.\u001b[0m\n",
      "\u001b[32m2024-03-22 22:59:57.373\u001b[0m | \u001b[1mINFO    \u001b[0m | \u001b[36mALSampler\u001b[0m:\u001b[36mkeep_sample\u001b[0m:\u001b[36m39\u001b[0m - \u001b[1mcurrent sampled: 240\u001b[0m\n",
      "\u001b[32m2024-03-22 23:16:57.130\u001b[0m | \u001b[1mINFO    \u001b[0m | \u001b[36mALSampler\u001b[0m:\u001b[36msimulate_rounds\u001b[0m:\u001b[36m45\u001b[0m - \u001b[1msimulate round 8.\u001b[0m\n",
      "\u001b[32m2024-03-22 23:16:57.132\u001b[0m | \u001b[1mINFO    \u001b[0m | \u001b[36mALSampler\u001b[0m:\u001b[36mkeep_sample\u001b[0m:\u001b[36m39\u001b[0m - \u001b[1mcurrent sampled: 270\u001b[0m\n",
      "\u001b[32m2024-03-22 23:35:53.686\u001b[0m | \u001b[1mINFO    \u001b[0m | \u001b[36mALSampler\u001b[0m:\u001b[36msimulate_rounds\u001b[0m:\u001b[36m45\u001b[0m - \u001b[1msimulate round 9.\u001b[0m\n",
      "\u001b[32m2024-03-22 23:35:53.688\u001b[0m | \u001b[1mINFO    \u001b[0m | \u001b[36mALSampler\u001b[0m:\u001b[36mkeep_sample\u001b[0m:\u001b[36m39\u001b[0m - \u001b[1mcurrent sampled: 300\u001b[0m\n",
      "\u001b[32m2024-03-22 23:56:26.613\u001b[0m | \u001b[1mINFO    \u001b[0m | \u001b[36mALSampler\u001b[0m:\u001b[36msimulate_rounds\u001b[0m:\u001b[36m45\u001b[0m - \u001b[1msimulate round 10.\u001b[0m\n",
      "\u001b[32m2024-03-22 23:56:26.614\u001b[0m | \u001b[1mINFO    \u001b[0m | \u001b[36mALSampler\u001b[0m:\u001b[36mkeep_sample\u001b[0m:\u001b[36m39\u001b[0m - \u001b[1mcurrent sampled: 303\u001b[0m\n",
      "\u001b[32m2024-03-22 23:56:26.617\u001b[0m | \u001b[1mINFO    \u001b[0m | \u001b[36m__main__\u001b[0m:\u001b[36m<module>\u001b[0m:\u001b[36m3\u001b[0m - \u001b[1mstart run 1.\u001b[0m\n",
      "\u001b[32m2024-03-22 23:56:26.627\u001b[0m | \u001b[1mINFO    \u001b[0m | \u001b[36mALSampler\u001b[0m:\u001b[36msimulate_rounds\u001b[0m:\u001b[36m45\u001b[0m - \u001b[1msimulate round 0.\u001b[0m\n",
      "\u001b[32m2024-03-22 23:56:26.628\u001b[0m | \u001b[1mINFO    \u001b[0m | \u001b[36mALSampler\u001b[0m:\u001b[36mkeep_sample\u001b[0m:\u001b[36m39\u001b[0m - \u001b[1mcurrent sampled: 30\u001b[0m\n",
      "\u001b[32m2024-03-23 00:04:19.199\u001b[0m | \u001b[1mINFO    \u001b[0m | \u001b[36mALSampler\u001b[0m:\u001b[36msimulate_rounds\u001b[0m:\u001b[36m45\u001b[0m - \u001b[1msimulate round 1.\u001b[0m\n",
      "\u001b[32m2024-03-23 00:04:19.200\u001b[0m | \u001b[1mINFO    \u001b[0m | \u001b[36mALSampler\u001b[0m:\u001b[36mkeep_sample\u001b[0m:\u001b[36m39\u001b[0m - \u001b[1mcurrent sampled: 60\u001b[0m\n",
      "\u001b[32m2024-03-23 00:12:43.342\u001b[0m | \u001b[1mINFO    \u001b[0m | \u001b[36mALSampler\u001b[0m:\u001b[36msimulate_rounds\u001b[0m:\u001b[36m45\u001b[0m - \u001b[1msimulate round 2.\u001b[0m\n",
      "\u001b[32m2024-03-23 00:12:43.345\u001b[0m | \u001b[1mINFO    \u001b[0m | \u001b[36mALSampler\u001b[0m:\u001b[36mkeep_sample\u001b[0m:\u001b[36m39\u001b[0m - \u001b[1mcurrent sampled: 90\u001b[0m\n",
      "\u001b[32m2024-03-23 00:23:00.855\u001b[0m | \u001b[1mINFO    \u001b[0m | \u001b[36mALSampler\u001b[0m:\u001b[36msimulate_rounds\u001b[0m:\u001b[36m45\u001b[0m - \u001b[1msimulate round 3.\u001b[0m\n",
      "\u001b[32m2024-03-23 00:23:00.858\u001b[0m | \u001b[1mINFO    \u001b[0m | \u001b[36mALSampler\u001b[0m:\u001b[36mkeep_sample\u001b[0m:\u001b[36m39\u001b[0m - \u001b[1mcurrent sampled: 120\u001b[0m\n",
      "\u001b[32m2024-03-23 00:35:03.415\u001b[0m | \u001b[1mINFO    \u001b[0m | \u001b[36mALSampler\u001b[0m:\u001b[36msimulate_rounds\u001b[0m:\u001b[36m45\u001b[0m - \u001b[1msimulate round 4.\u001b[0m\n",
      "\u001b[32m2024-03-23 00:35:03.417\u001b[0m | \u001b[1mINFO    \u001b[0m | \u001b[36mALSampler\u001b[0m:\u001b[36mkeep_sample\u001b[0m:\u001b[36m39\u001b[0m - \u001b[1mcurrent sampled: 150\u001b[0m\n",
      "\u001b[32m2024-03-23 00:48:45.384\u001b[0m | \u001b[1mINFO    \u001b[0m | \u001b[36mALSampler\u001b[0m:\u001b[36msimulate_rounds\u001b[0m:\u001b[36m45\u001b[0m - \u001b[1msimulate round 5.\u001b[0m\n",
      "\u001b[32m2024-03-23 00:48:45.386\u001b[0m | \u001b[1mINFO    \u001b[0m | \u001b[36mALSampler\u001b[0m:\u001b[36mkeep_sample\u001b[0m:\u001b[36m39\u001b[0m - \u001b[1mcurrent sampled: 180\u001b[0m\n",
      "\u001b[32m2024-03-23 01:03:18.683\u001b[0m | \u001b[1mINFO    \u001b[0m | \u001b[36mALSampler\u001b[0m:\u001b[36msimulate_rounds\u001b[0m:\u001b[36m45\u001b[0m - \u001b[1msimulate round 6.\u001b[0m\n",
      "\u001b[32m2024-03-23 01:03:18.685\u001b[0m | \u001b[1mINFO    \u001b[0m | \u001b[36mALSampler\u001b[0m:\u001b[36mkeep_sample\u001b[0m:\u001b[36m39\u001b[0m - \u001b[1mcurrent sampled: 210\u001b[0m\n",
      "\u001b[32m2024-03-23 01:19:17.705\u001b[0m | \u001b[1mINFO    \u001b[0m | \u001b[36mALSampler\u001b[0m:\u001b[36msimulate_rounds\u001b[0m:\u001b[36m45\u001b[0m - \u001b[1msimulate round 7.\u001b[0m\n",
      "\u001b[32m2024-03-23 01:19:17.708\u001b[0m | \u001b[1mINFO    \u001b[0m | \u001b[36mALSampler\u001b[0m:\u001b[36mkeep_sample\u001b[0m:\u001b[36m39\u001b[0m - \u001b[1mcurrent sampled: 240\u001b[0m\n",
      "\u001b[32m2024-03-23 01:36:16.542\u001b[0m | \u001b[1mINFO    \u001b[0m | \u001b[36mALSampler\u001b[0m:\u001b[36msimulate_rounds\u001b[0m:\u001b[36m45\u001b[0m - \u001b[1msimulate round 8.\u001b[0m\n",
      "\u001b[32m2024-03-23 01:36:16.544\u001b[0m | \u001b[1mINFO    \u001b[0m | \u001b[36mALSampler\u001b[0m:\u001b[36mkeep_sample\u001b[0m:\u001b[36m39\u001b[0m - \u001b[1mcurrent sampled: 270\u001b[0m\n",
      "\u001b[32m2024-03-23 01:54:01.946\u001b[0m | \u001b[1mINFO    \u001b[0m | \u001b[36mALSampler\u001b[0m:\u001b[36msimulate_rounds\u001b[0m:\u001b[36m45\u001b[0m - \u001b[1msimulate round 9.\u001b[0m\n",
      "\u001b[32m2024-03-23 01:54:01.949\u001b[0m | \u001b[1mINFO    \u001b[0m | \u001b[36mALSampler\u001b[0m:\u001b[36mkeep_sample\u001b[0m:\u001b[36m39\u001b[0m - \u001b[1mcurrent sampled: 300\u001b[0m\n",
      "\u001b[32m2024-03-23 02:13:06.361\u001b[0m | \u001b[1mINFO    \u001b[0m | \u001b[36mALSampler\u001b[0m:\u001b[36msimulate_rounds\u001b[0m:\u001b[36m45\u001b[0m - \u001b[1msimulate round 10.\u001b[0m\n",
      "\u001b[32m2024-03-23 02:13:06.363\u001b[0m | \u001b[1mINFO    \u001b[0m | \u001b[36mALSampler\u001b[0m:\u001b[36mkeep_sample\u001b[0m:\u001b[36m39\u001b[0m - \u001b[1mcurrent sampled: 303\u001b[0m\n",
      "\u001b[32m2024-03-23 02:13:06.366\u001b[0m | \u001b[1mINFO    \u001b[0m | \u001b[36m__main__\u001b[0m:\u001b[36m<module>\u001b[0m:\u001b[36m3\u001b[0m - \u001b[1mstart run 2.\u001b[0m\n",
      "\u001b[32m2024-03-23 02:13:06.378\u001b[0m | \u001b[1mINFO    \u001b[0m | \u001b[36mALSampler\u001b[0m:\u001b[36msimulate_rounds\u001b[0m:\u001b[36m45\u001b[0m - \u001b[1msimulate round 0.\u001b[0m\n",
      "\u001b[32m2024-03-23 02:13:06.380\u001b[0m | \u001b[1mINFO    \u001b[0m | \u001b[36mALSampler\u001b[0m:\u001b[36mkeep_sample\u001b[0m:\u001b[36m39\u001b[0m - \u001b[1mcurrent sampled: 30\u001b[0m\n",
      "\u001b[32m2024-03-23 02:20:09.129\u001b[0m | \u001b[1mINFO    \u001b[0m | \u001b[36mALSampler\u001b[0m:\u001b[36msimulate_rounds\u001b[0m:\u001b[36m45\u001b[0m - \u001b[1msimulate round 1.\u001b[0m\n",
      "\u001b[32m2024-03-23 02:20:09.131\u001b[0m | \u001b[1mINFO    \u001b[0m | \u001b[36mALSampler\u001b[0m:\u001b[36mkeep_sample\u001b[0m:\u001b[36m39\u001b[0m - \u001b[1mcurrent sampled: 60\u001b[0m\n",
      "\u001b[32m2024-03-23 02:28:43.649\u001b[0m | \u001b[1mINFO    \u001b[0m | \u001b[36mALSampler\u001b[0m:\u001b[36msimulate_rounds\u001b[0m:\u001b[36m45\u001b[0m - \u001b[1msimulate round 2.\u001b[0m\n",
      "\u001b[32m2024-03-23 02:28:43.652\u001b[0m | \u001b[1mINFO    \u001b[0m | \u001b[36mALSampler\u001b[0m:\u001b[36mkeep_sample\u001b[0m:\u001b[36m39\u001b[0m - \u001b[1mcurrent sampled: 90\u001b[0m\n",
      "\u001b[32m2024-03-23 02:39:11.073\u001b[0m | \u001b[1mINFO    \u001b[0m | \u001b[36mALSampler\u001b[0m:\u001b[36msimulate_rounds\u001b[0m:\u001b[36m45\u001b[0m - \u001b[1msimulate round 3.\u001b[0m\n",
      "\u001b[32m2024-03-23 02:39:11.076\u001b[0m | \u001b[1mINFO    \u001b[0m | \u001b[36mALSampler\u001b[0m:\u001b[36mkeep_sample\u001b[0m:\u001b[36m39\u001b[0m - \u001b[1mcurrent sampled: 120\u001b[0m\n",
      "\u001b[32m2024-03-23 02:51:17.403\u001b[0m | \u001b[1mINFO    \u001b[0m | \u001b[36mALSampler\u001b[0m:\u001b[36msimulate_rounds\u001b[0m:\u001b[36m45\u001b[0m - \u001b[1msimulate round 4.\u001b[0m\n",
      "\u001b[32m2024-03-23 02:51:17.405\u001b[0m | \u001b[1mINFO    \u001b[0m | \u001b[36mALSampler\u001b[0m:\u001b[36mkeep_sample\u001b[0m:\u001b[36m39\u001b[0m - \u001b[1mcurrent sampled: 150\u001b[0m\n",
      "\u001b[32m2024-03-23 03:04:01.144\u001b[0m | \u001b[1mINFO    \u001b[0m | \u001b[36mALSampler\u001b[0m:\u001b[36msimulate_rounds\u001b[0m:\u001b[36m45\u001b[0m - \u001b[1msimulate round 5.\u001b[0m\n",
      "\u001b[32m2024-03-23 03:04:01.146\u001b[0m | \u001b[1mINFO    \u001b[0m | \u001b[36mALSampler\u001b[0m:\u001b[36mkeep_sample\u001b[0m:\u001b[36m39\u001b[0m - \u001b[1mcurrent sampled: 180\u001b[0m\n",
      "\u001b[32m2024-03-23 03:17:40.593\u001b[0m | \u001b[1mINFO    \u001b[0m | \u001b[36mALSampler\u001b[0m:\u001b[36msimulate_rounds\u001b[0m:\u001b[36m45\u001b[0m - \u001b[1msimulate round 6.\u001b[0m\n",
      "\u001b[32m2024-03-23 03:17:40.594\u001b[0m | \u001b[1mINFO    \u001b[0m | \u001b[36mALSampler\u001b[0m:\u001b[36mkeep_sample\u001b[0m:\u001b[36m39\u001b[0m - \u001b[1mcurrent sampled: 210\u001b[0m\n",
      "\u001b[32m2024-03-23 03:34:02.456\u001b[0m | \u001b[1mINFO    \u001b[0m | \u001b[36mALSampler\u001b[0m:\u001b[36msimulate_rounds\u001b[0m:\u001b[36m45\u001b[0m - \u001b[1msimulate round 7.\u001b[0m\n",
      "\u001b[32m2024-03-23 03:34:02.458\u001b[0m | \u001b[1mINFO    \u001b[0m | \u001b[36mALSampler\u001b[0m:\u001b[36mkeep_sample\u001b[0m:\u001b[36m39\u001b[0m - \u001b[1mcurrent sampled: 240\u001b[0m\n",
      "\u001b[32m2024-03-23 03:52:05.265\u001b[0m | \u001b[1mINFO    \u001b[0m | \u001b[36mALSampler\u001b[0m:\u001b[36msimulate_rounds\u001b[0m:\u001b[36m45\u001b[0m - \u001b[1msimulate round 8.\u001b[0m\n",
      "\u001b[32m2024-03-23 03:52:05.268\u001b[0m | \u001b[1mINFO    \u001b[0m | \u001b[36mALSampler\u001b[0m:\u001b[36mkeep_sample\u001b[0m:\u001b[36m39\u001b[0m - \u001b[1mcurrent sampled: 270\u001b[0m\n",
      "\u001b[32m2024-03-23 04:10:47.129\u001b[0m | \u001b[1mINFO    \u001b[0m | \u001b[36mALSampler\u001b[0m:\u001b[36msimulate_rounds\u001b[0m:\u001b[36m45\u001b[0m - \u001b[1msimulate round 9.\u001b[0m\n",
      "\u001b[32m2024-03-23 04:10:47.131\u001b[0m | \u001b[1mINFO    \u001b[0m | \u001b[36mALSampler\u001b[0m:\u001b[36mkeep_sample\u001b[0m:\u001b[36m39\u001b[0m - \u001b[1mcurrent sampled: 300\u001b[0m\n",
      "\u001b[32m2024-03-23 04:30:03.785\u001b[0m | \u001b[1mINFO    \u001b[0m | \u001b[36mALSampler\u001b[0m:\u001b[36msimulate_rounds\u001b[0m:\u001b[36m45\u001b[0m - \u001b[1msimulate round 10.\u001b[0m\n",
      "\u001b[32m2024-03-23 04:30:03.786\u001b[0m | \u001b[1mINFO    \u001b[0m | \u001b[36mALSampler\u001b[0m:\u001b[36mkeep_sample\u001b[0m:\u001b[36m39\u001b[0m - \u001b[1mcurrent sampled: 303\u001b[0m\n"
     ]
    }
   ],
   "source": [
    "all_scores=[]\n",
    "for si, seed  in enumerate(seeds):\n",
    "    logger.info(f'start run {si}.')\n",
    "    crf_model=CRFModel(anno_types=annos)\n",
    "    m_simulator=RandomSamplingSimulator(train_docs, total_round=total_round, modelWrapper=crf_model, eval_docs=test_docs, init_seed=seed)\n",
    "    scores=m_simulator.simulate_rounds()\n",
    "    all_scores.append(scores) "
   ]
  },
  {
   "cell_type": "code",
   "execution_count": 17,
   "id": "c87e3bad-fb84-4ae7-bf45-d59e830396ab",
   "metadata": {},
   "outputs": [
    {
     "data": {
      "text/plain": [
       "['..\\\\data\\\\vb_sampling\\\\ner_rand_scores.joblib']"
      ]
     },
     "execution_count": 17,
     "metadata": {},
     "output_type": "execute_result"
    }
   ],
   "source": [
    "joblib.dump(all_scores, r'..\\data\\vb_sampling\\ner_rand_scores.joblib')"
   ]
  },
  {
   "cell_type": "code",
   "execution_count": 20,
   "id": "a29db564-8534-4b6b-85e9-cedabfcb3127",
   "metadata": {},
   "outputs": [
    {
     "data": {
      "text/plain": [
       "10"
      ]
     },
     "execution_count": 20,
     "metadata": {},
     "output_type": "execute_result"
    }
   ],
   "source": [
    "len(all_scores[0])"
   ]
  },
  {
   "cell_type": "code",
   "execution_count": null,
   "id": "c60adb88-dc23-43ae-be48-54c1eb6cace7",
   "metadata": {},
   "outputs": [],
   "source": []
  }
 ],
 "metadata": {
  "kernelspec": {
   "display_name": "Python 3 (ipykernel)",
   "language": "python",
   "name": "python3"
  },
  "language_info": {
   "codemirror_mode": {
    "name": "ipython",
    "version": 3
   },
   "file_extension": ".py",
   "mimetype": "text/x-python",
   "name": "python",
   "nbconvert_exporter": "python",
   "pygments_lexer": "ipython3",
   "version": "3.8.18"
  }
 },
 "nbformat": 4,
 "nbformat_minor": 5
}
