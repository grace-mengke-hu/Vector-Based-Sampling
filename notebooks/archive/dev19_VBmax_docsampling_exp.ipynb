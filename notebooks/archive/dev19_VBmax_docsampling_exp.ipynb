{
 "cells": [
  {
   "cell_type": "markdown",
   "id": "5d5d3d80-2d25-4c5b-8a65-bad684d507f2",
   "metadata": {},
   "source": [
    "This notebook demonstrates using vector index to sample. There are different ways to determine the uncertainty: \n",
    "min_dist_diff: if true, prioritize the sentences that have distances to two centroids have smaller difference\n",
    "                if false, then prioritize the sentences that have a smaller difference of the max differences to all centroids (max distance- min distance).  \n",
    "This notebook use  min_dist_diff=False           "
   ]
  },
  {
   "cell_type": "markdown",
   "id": "6024f606-7aa7-4f43-bc5b-4941a2686579",
   "metadata": {},
   "source": [
    "# Import "
   ]
  },
  {
   "cell_type": "code",
   "execution_count": 1,
   "id": "07dade98-d203-4c37-9201-094d4fa9684c",
   "metadata": {},
   "outputs": [],
   "source": [
    "import sklearn_crfsuite\n",
    "from sklearn_crfsuite.metrics import flat_f1_score\n",
    "from sklearn_crfsuite import CRF\n",
    "from sklearn.model_selection import train_test_split\n",
    "import pandas as pd\n",
    "import numpy as np\n",
    "from spacy.lang.en import English\n",
    "from spacy import displacy\n",
    "from pathlib import Path\n",
    "import joblib\n",
    "from spacy.tokens import Doc\n",
    "from typing import List\n",
    "import random\n",
    "from statistics import mean, stdev\n",
    "from loguru import logger\n",
    "import sys\n",
    "import spacy"
   ]
  },
  {
   "cell_type": "code",
   "execution_count": 2,
   "id": "456d2db0-ae32-41e5-822b-b79feff89fad",
   "metadata": {},
   "outputs": [],
   "source": [
    "from medspacy_io.reader.brat_reader import BratDocReader, BratDirReader\n",
    "import medspacy"
   ]
  },
  {
   "cell_type": "markdown",
   "id": "b3074734-1e2a-4093-9e17-393710ab8ef9",
   "metadata": {},
   "source": [
    "## Initiate BratDirReader"
   ]
  },
  {
   "cell_type": "code",
   "execution_count": 3,
   "id": "fb94b875-5b8d-4d0f-9101-e9cd5e27f253",
   "metadata": {},
   "outputs": [
    {
     "data": {
      "text/plain": [
       "(True, True)"
      ]
     },
     "execution_count": 3,
     "metadata": {},
     "output_type": "execute_result"
    }
   ],
   "source": [
    "cleaned_train_dir=r'..\\data\\n2c2\\cleaned_training'\n",
    "cleaned_test_dir=r'..\\data\\n2c2\\cleaned_test'\n",
    "Path(cleaned_train_dir).exists(), Path(cleaned_test_dir).exists()"
   ]
  },
  {
   "cell_type": "code",
   "execution_count": 4,
   "id": "2ead595b-6b3f-4164-a45a-a2824c58def4",
   "metadata": {},
   "outputs": [],
   "source": [
    "nlp=spacy.load('en_core_web_sm', disable=['ner'])"
   ]
  },
  {
   "cell_type": "code",
   "execution_count": 5,
   "id": "bd04508a-15e5-4c5d-b191-509ae92865ae",
   "metadata": {},
   "outputs": [],
   "source": [
    "dir_reader = BratDirReader(nlp=nlp, schema_file=str(Path(cleaned_train_dir, 'annotation.conf')), support_overlap=True)"
   ]
  },
  {
   "cell_type": "markdown",
   "id": "94341b2a-fd10-4fb9-98f5-8169b259a21a",
   "metadata": {},
   "source": [
    "## Read eHOST annotations | load from pickles"
   ]
  },
  {
   "cell_type": "code",
   "execution_count": 6,
   "id": "59de7b8c-52c2-43fb-9cce-392d8dd4de8c",
   "metadata": {},
   "outputs": [],
   "source": [
    "pickle_file= r'..\\data\\n2c2\\spacy_docs.joblib'"
   ]
  },
  {
   "cell_type": "code",
   "execution_count": 7,
   "id": "762f6665-6fe5-4bc2-81dc-2dfff06abd71",
   "metadata": {},
   "outputs": [
    {
     "name": "stdout",
     "output_type": "stream",
     "text": [
      "..\\data\\n2c2\\spacy_docs.joblib already exists, load them directly\n"
     ]
    }
   ],
   "source": [
    "if not Path(pickle_file).exists():\n",
    "    train_docs=dir_reader.read(txt_dir=cleaned_train_dir)\n",
    "    test_docs=dir_reader.read(txt_dir=cleaned_test_dir)\n",
    "    print(len(train_docs), len(test_docs))\n",
    "    joblib.dump((train_docs, test_docs), pickle_file)\n",
    "else:\n",
    "    print(f'{pickle_file} already exists, load them directly')\n",
    "    # before load from pickle, initiate EhostDirReader or EhostDocReader first, because some Doc extension used to store meta data will not be automatically recreated by loading.\n",
    "    train_docs, test_docs=joblib.load(pickle_file)"
   ]
  },
  {
   "cell_type": "markdown",
   "id": "bba0f1e6-1515-4db9-af90-2b37f69bdd64",
   "metadata": {},
   "source": [
    "# Define sampling functions"
   ]
  },
  {
   "cell_type": "code",
   "execution_count": 8,
   "id": "9aedf902-836b-442b-89a4-5962d8d1495f",
   "metadata": {},
   "outputs": [],
   "source": [
    "rounds =10\n",
    "seed= 14"
   ]
  },
  {
   "cell_type": "code",
   "execution_count": 9,
   "id": "01b9ce81-2d67-4b15-bca0-87af84c1dfd0",
   "metadata": {},
   "outputs": [
    {
     "data": {
      "text/plain": [
       "(303, 202)"
      ]
     },
     "execution_count": 9,
     "metadata": {},
     "output_type": "execute_result"
    }
   ],
   "source": [
    "len(train_docs), len(test_docs)"
   ]
  },
  {
   "cell_type": "markdown",
   "id": "9d89180d-7331-4737-bfd7-626b66eae5f8",
   "metadata": {},
   "source": [
    "### Define CRF Wrapper"
   ]
  },
  {
   "cell_type": "code",
   "execution_count": 18,
   "id": "e8e5443c-44d1-449e-a150-f57b432b04fd",
   "metadata": {},
   "outputs": [],
   "source": [
    "from CRFWrapper import spans_to_bio, convert_docs, word2features, sent2features,compute_metrics_and_averages,  CRFModel\n",
    "from ALSampler import SamplingSimulator, ModelSamplingSimulator, VBSamplingSimulator\n"
   ]
  },
  {
   "cell_type": "code",
   "execution_count": 11,
   "id": "79b4d02a-0ee4-44e7-a498-76405e667187",
   "metadata": {},
   "outputs": [],
   "source": [
    "faiss_index_path= r'..\\data\\n2c2\\faiss_index_st768'"
   ]
  },
  {
   "cell_type": "code",
   "execution_count": 12,
   "id": "64c66e94-fc84-4943-bc6c-fc584406f46c",
   "metadata": {
    "collapsed": true,
    "jupyter": {
     "outputs_hidden": true
    }
   },
   "outputs": [
    {
     "name": "stdout",
     "output_type": "stream",
     "text": [
      "{'Frequency', 'Drug', 'ADE', 'Form', 'Dosage', 'Strength', 'Duration', 'Route', 'Reason'}\n"
     ]
    }
   ],
   "source": [
    "## Get all annotation types: \n",
    "annos=set()\n",
    "for d in train_docs:\n",
    "    for anno in d.spans.keys():\n",
    "        annos.add(anno)\n",
    "print(annos)"
   ]
  },
  {
   "cell_type": "code",
   "execution_count": 13,
   "id": "f25910bf-2fc9-411b-9dc0-33f0d3997fef",
   "metadata": {
    "scrolled": true
   },
   "outputs": [
    {
     "name": "stderr",
     "output_type": "stream",
     "text": [
      "\u001b[32m2024-04-04 22:57:25.610\u001b[0m | \u001b[34m\u001b[1mDEBUG   \u001b[0m | \u001b[36mALSampler\u001b[0m:\u001b[36m__init__\u001b[0m:\u001b[36m109\u001b[0m - \u001b[34m\u001b[1mLoading index...\u001b[0m\n",
      "\u001b[32m2024-04-04 22:57:26.153\u001b[0m | \u001b[34m\u001b[1mDEBUG   \u001b[0m | \u001b[36mALSampler\u001b[0m:\u001b[36m__init__\u001b[0m:\u001b[36m111\u001b[0m - \u001b[34m\u001b[1mdone\u001b[0m\n"
     ]
    }
   ],
   "source": [
    "pickle_embedding_file= r'..\\data\\n2c2\\embedding_df.joblib'\n",
    "crf_model=CRFModel(anno_types=annos)\n",
    "embedding_df=joblib.load(pickle_embedding_file)\n",
    "r_simulator=VBSamplingSimulator(train_docs, total_round=10, modelWrapper=crf_model, eval_docs=test_docs, init_seed=seed, faiss_index_path=faiss_index_path, embedding_df=embedding_df)"
   ]
  },
  {
   "cell_type": "markdown",
   "id": "e97fb4b9-ce24-4bf7-9339-8899be70435a",
   "metadata": {},
   "source": [
    "### Test run"
   ]
  },
  {
   "cell_type": "code",
   "execution_count": 14,
   "id": "b4bbf19a-e592-4853-a61a-160f7f19db49",
   "metadata": {
    "scrolled": true
   },
   "outputs": [
    {
     "name": "stderr",
     "output_type": "stream",
     "text": [
      "\u001b[32m2024-04-04 22:57:53.232\u001b[0m | \u001b[1mINFO    \u001b[0m | \u001b[36mALSampler\u001b[0m:\u001b[36msimulate_rounds\u001b[0m:\u001b[36m45\u001b[0m - \u001b[1msimulate round 0.\u001b[0m\n",
      "\u001b[32m2024-04-04 22:57:53.234\u001b[0m | \u001b[34m\u001b[1mDEBUG   \u001b[0m | \u001b[36mALSampler\u001b[0m:\u001b[36mkeep_sample\u001b[0m:\u001b[36m35\u001b[0m - \u001b[34m\u001b[1mThe first round sampling will be random\u001b[0m\n",
      "\u001b[32m2024-04-04 22:57:53.237\u001b[0m | \u001b[1mINFO    \u001b[0m | \u001b[36mALSampler\u001b[0m:\u001b[36mkeep_sample\u001b[0m:\u001b[36m39\u001b[0m - \u001b[1mcurrent sampled: 30, remaining: 273\u001b[0m\n",
      "\u001b[32m2024-04-04 22:57:57.029\u001b[0m | \u001b[34m\u001b[1mDEBUG   \u001b[0m | \u001b[36mCRFWrapper\u001b[0m:\u001b[36mfit\u001b[0m:\u001b[36m251\u001b[0m - \u001b[34m\u001b[1mReset and train CRF model...\u001b[0m\n",
      "\u001b[32m2024-04-04 22:58:53.034\u001b[0m | \u001b[34m\u001b[1mDEBUG   \u001b[0m | \u001b[36mCRFWrapper\u001b[0m:\u001b[36mfit\u001b[0m:\u001b[36m259\u001b[0m - \u001b[34m\u001b[1mTraining complete.\u001b[0m\n",
      "\u001b[32m2024-04-04 22:58:53.133\u001b[0m | \u001b[34m\u001b[1mDEBUG   \u001b[0m | \u001b[36mCRFWrapper\u001b[0m:\u001b[36mbootstrap_eval\u001b[0m:\u001b[36m280\u001b[0m - \u001b[34m\u001b[1mPredicting eval docs...\u001b[0m\n",
      "\u001b[32m2024-04-04 22:59:29.807\u001b[0m | \u001b[34m\u001b[1mDEBUG   \u001b[0m | \u001b[36mCRFWrapper\u001b[0m:\u001b[36mbootstrap_eval\u001b[0m:\u001b[36m284\u001b[0m - \u001b[34m\u001b[1mCalculate scores from bootstrapping 3 times\u001b[0m\n",
      "\u001b[32m2024-04-04 22:59:33.816\u001b[0m | \u001b[34m\u001b[1mDEBUG   \u001b[0m | \u001b[36mCRFWrapper\u001b[0m:\u001b[36mbootstrap_eval\u001b[0m:\u001b[36m293\u001b[0m - \u001b[34m\u001b[1mcomplete\u001b[0m\n",
      "\u001b[32m2024-04-04 22:59:33.966\u001b[0m | \u001b[34m\u001b[1mDEBUG   \u001b[0m | \u001b[36mALSampler\u001b[0m:\u001b[36msimulate_rounds\u001b[0m:\u001b[36m56\u001b[0m - \u001b[34m\u001b[1m{'precision': 0.9422456488896683, 'recall': 0.7769557525403061, 'f1': 0.8516533835173723}\u001b[0m\n",
      "\u001b[32m2024-04-04 22:59:33.968\u001b[0m | \u001b[1mINFO    \u001b[0m | \u001b[36mALSampler\u001b[0m:\u001b[36msimulate_rounds\u001b[0m:\u001b[36m45\u001b[0m - \u001b[1msimulate round 1.\u001b[0m\n",
      "\u001b[32m2024-04-04 22:59:33.971\u001b[0m | \u001b[34m\u001b[1mDEBUG   \u001b[0m | \u001b[36mALSampler\u001b[0m:\u001b[36msample_next_round\u001b[0m:\u001b[36m179\u001b[0m - \u001b[34m\u001b[1mCalculating centroids...\u001b[0m\n",
      "\u001b[32m2024-04-04 22:59:34.324\u001b[0m | \u001b[34m\u001b[1mDEBUG   \u001b[0m | \u001b[36mALSampler\u001b[0m:\u001b[36mfit\u001b[0m:\u001b[36m140\u001b[0m - \u001b[34m\u001b[1m10 centroids detected from the given sampled_docs\u001b[0m\n",
      "\u001b[32m2024-04-04 22:59:34.326\u001b[0m | \u001b[34m\u001b[1mDEBUG   \u001b[0m | \u001b[36mALSampler\u001b[0m:\u001b[36msample_next_round\u001b[0m:\u001b[36m182\u001b[0m - \u001b[34m\u001b[1mSearching from the vector index...\u001b[0m\n",
      "\u001b[32m2024-04-04 22:59:34.334\u001b[0m | \u001b[1mINFO    \u001b[0m | \u001b[36mALSampler\u001b[0m:\u001b[36msample_next_round\u001b[0m:\u001b[36m192\u001b[0m - \u001b[1mdistance shape: (47530, 10), max to retrieve 47501 sentences\u001b[0m\n",
      "\u001b[32m2024-04-04 22:59:34.335\u001b[0m | \u001b[34m\u001b[1mDEBUG   \u001b[0m | \u001b[36mALSampler\u001b[0m:\u001b[36msample_next_round\u001b[0m:\u001b[36m196\u001b[0m - \u001b[34m\u001b[1msearch for centroid: ADE\u001b[0m\n",
      "\u001b[32m2024-04-04 22:59:34.515\u001b[0m | \u001b[34m\u001b[1mDEBUG   \u001b[0m | \u001b[36mALSampler\u001b[0m:\u001b[36msample_next_round\u001b[0m:\u001b[36m196\u001b[0m - \u001b[34m\u001b[1msearch for centroid: Dosage\u001b[0m\n",
      "\u001b[32m2024-04-04 22:59:34.689\u001b[0m | \u001b[34m\u001b[1mDEBUG   \u001b[0m | \u001b[36mALSampler\u001b[0m:\u001b[36msample_next_round\u001b[0m:\u001b[36m196\u001b[0m - \u001b[34m\u001b[1msearch for centroid: Drug\u001b[0m\n",
      "\u001b[32m2024-04-04 22:59:34.889\u001b[0m | \u001b[34m\u001b[1mDEBUG   \u001b[0m | \u001b[36mALSampler\u001b[0m:\u001b[36msample_next_round\u001b[0m:\u001b[36m196\u001b[0m - \u001b[34m\u001b[1msearch for centroid: Duration\u001b[0m\n",
      "\u001b[32m2024-04-04 22:59:35.104\u001b[0m | \u001b[34m\u001b[1mDEBUG   \u001b[0m | \u001b[36mALSampler\u001b[0m:\u001b[36msample_next_round\u001b[0m:\u001b[36m196\u001b[0m - \u001b[34m\u001b[1msearch for centroid: Form\u001b[0m\n",
      "\u001b[32m2024-04-04 22:59:35.278\u001b[0m | \u001b[34m\u001b[1mDEBUG   \u001b[0m | \u001b[36mALSampler\u001b[0m:\u001b[36msample_next_round\u001b[0m:\u001b[36m196\u001b[0m - \u001b[34m\u001b[1msearch for centroid: Frequency\u001b[0m\n",
      "\u001b[32m2024-04-04 22:59:35.496\u001b[0m | \u001b[34m\u001b[1mDEBUG   \u001b[0m | \u001b[36mALSampler\u001b[0m:\u001b[36msample_next_round\u001b[0m:\u001b[36m196\u001b[0m - \u001b[34m\u001b[1msearch for centroid: NEG\u001b[0m\n",
      "\u001b[32m2024-04-04 22:59:35.717\u001b[0m | \u001b[34m\u001b[1mDEBUG   \u001b[0m | \u001b[36mALSampler\u001b[0m:\u001b[36msample_next_round\u001b[0m:\u001b[36m196\u001b[0m - \u001b[34m\u001b[1msearch for centroid: Reason\u001b[0m\n",
      "\u001b[32m2024-04-04 22:59:35.892\u001b[0m | \u001b[34m\u001b[1mDEBUG   \u001b[0m | \u001b[36mALSampler\u001b[0m:\u001b[36msample_next_round\u001b[0m:\u001b[36m196\u001b[0m - \u001b[34m\u001b[1msearch for centroid: Route\u001b[0m\n",
      "\u001b[32m2024-04-04 22:59:36.111\u001b[0m | \u001b[34m\u001b[1mDEBUG   \u001b[0m | \u001b[36mALSampler\u001b[0m:\u001b[36msample_next_round\u001b[0m:\u001b[36m196\u001b[0m - \u001b[34m\u001b[1msearch for centroid: Strength\u001b[0m\n",
      "\u001b[32m2024-04-04 22:59:36.324\u001b[0m | \u001b[34m\u001b[1mDEBUG   \u001b[0m | \u001b[36mALSampler\u001b[0m:\u001b[36msort_dist_diff\u001b[0m:\u001b[36m158\u001b[0m - \u001b[34m\u001b[1mCompute max distance differences to centroids.\u001b[0m\n",
      "\u001b[32m2024-04-04 22:59:36.332\u001b[0m | \u001b[34m\u001b[1mDEBUG   \u001b[0m | \u001b[36mALSampler\u001b[0m:\u001b[36msample_next_round\u001b[0m:\u001b[36m205\u001b[0m - \u001b[34m\u001b[1mLocate the docs of these sentences\u001b[0m\n",
      "\u001b[32m2024-04-04 22:59:36.343\u001b[0m | \u001b[1mINFO    \u001b[0m | \u001b[36mALSampler\u001b[0m:\u001b[36mkeep_sample\u001b[0m:\u001b[36m39\u001b[0m - \u001b[1mcurrent sampled: 60, remaining: 243\u001b[0m\n",
      "\u001b[32m2024-04-04 22:59:44.024\u001b[0m | \u001b[34m\u001b[1mDEBUG   \u001b[0m | \u001b[36mCRFWrapper\u001b[0m:\u001b[36mfit\u001b[0m:\u001b[36m251\u001b[0m - \u001b[34m\u001b[1mReset and train CRF model...\u001b[0m\n",
      "\u001b[32m2024-04-04 23:01:40.532\u001b[0m | \u001b[34m\u001b[1mDEBUG   \u001b[0m | \u001b[36mCRFWrapper\u001b[0m:\u001b[36mfit\u001b[0m:\u001b[36m259\u001b[0m - \u001b[34m\u001b[1mTraining complete.\u001b[0m\n",
      "\u001b[32m2024-04-04 23:01:40.739\u001b[0m | \u001b[34m\u001b[1mDEBUG   \u001b[0m | \u001b[36mCRFWrapper\u001b[0m:\u001b[36mbootstrap_eval\u001b[0m:\u001b[36m280\u001b[0m - \u001b[34m\u001b[1mPredicting eval docs...\u001b[0m\n",
      "\u001b[32m2024-04-04 23:02:17.283\u001b[0m | \u001b[34m\u001b[1mDEBUG   \u001b[0m | \u001b[36mCRFWrapper\u001b[0m:\u001b[36mbootstrap_eval\u001b[0m:\u001b[36m284\u001b[0m - \u001b[34m\u001b[1mCalculate scores from bootstrapping 3 times\u001b[0m\n",
      "\u001b[32m2024-04-04 23:02:21.232\u001b[0m | \u001b[34m\u001b[1mDEBUG   \u001b[0m | \u001b[36mCRFWrapper\u001b[0m:\u001b[36mbootstrap_eval\u001b[0m:\u001b[36m293\u001b[0m - \u001b[34m\u001b[1mcomplete\u001b[0m\n",
      "\u001b[32m2024-04-04 23:02:21.390\u001b[0m | \u001b[34m\u001b[1mDEBUG   \u001b[0m | \u001b[36mALSampler\u001b[0m:\u001b[36msimulate_rounds\u001b[0m:\u001b[36m56\u001b[0m - \u001b[34m\u001b[1m{'precision': 0.9398786975316648, 'recall': 0.8130520387446024, 'f1': 0.8718746974800337}\u001b[0m\n",
      "\u001b[32m2024-04-04 23:02:21.391\u001b[0m | \u001b[1mINFO    \u001b[0m | \u001b[36mALSampler\u001b[0m:\u001b[36msimulate_rounds\u001b[0m:\u001b[36m45\u001b[0m - \u001b[1msimulate round 2.\u001b[0m\n",
      "\u001b[32m2024-04-04 23:02:21.392\u001b[0m | \u001b[34m\u001b[1mDEBUG   \u001b[0m | \u001b[36mALSampler\u001b[0m:\u001b[36msample_next_round\u001b[0m:\u001b[36m179\u001b[0m - \u001b[34m\u001b[1mCalculating centroids...\u001b[0m\n",
      "\u001b[32m2024-04-04 23:02:21.895\u001b[0m | \u001b[34m\u001b[1mDEBUG   \u001b[0m | \u001b[36mALSampler\u001b[0m:\u001b[36mfit\u001b[0m:\u001b[36m140\u001b[0m - \u001b[34m\u001b[1m10 centroids detected from the given sampled_docs\u001b[0m\n",
      "\u001b[32m2024-04-04 23:02:21.898\u001b[0m | \u001b[34m\u001b[1mDEBUG   \u001b[0m | \u001b[36mALSampler\u001b[0m:\u001b[36msample_next_round\u001b[0m:\u001b[36m182\u001b[0m - \u001b[34m\u001b[1mSearching from the vector index...\u001b[0m\n",
      "\u001b[32m2024-04-04 23:02:21.904\u001b[0m | \u001b[1mINFO    \u001b[0m | \u001b[36mALSampler\u001b[0m:\u001b[36msample_next_round\u001b[0m:\u001b[36m192\u001b[0m - \u001b[1mdistance shape: (47530, 10), max to retrieve 47501 sentences\u001b[0m\n",
      "\u001b[32m2024-04-04 23:02:21.905\u001b[0m | \u001b[34m\u001b[1mDEBUG   \u001b[0m | \u001b[36mALSampler\u001b[0m:\u001b[36msample_next_round\u001b[0m:\u001b[36m196\u001b[0m - \u001b[34m\u001b[1msearch for centroid: ADE\u001b[0m\n",
      "\u001b[32m2024-04-04 23:02:22.083\u001b[0m | \u001b[34m\u001b[1mDEBUG   \u001b[0m | \u001b[36mALSampler\u001b[0m:\u001b[36msample_next_round\u001b[0m:\u001b[36m196\u001b[0m - \u001b[34m\u001b[1msearch for centroid: Dosage\u001b[0m\n",
      "\u001b[32m2024-04-04 23:02:22.276\u001b[0m | \u001b[34m\u001b[1mDEBUG   \u001b[0m | \u001b[36mALSampler\u001b[0m:\u001b[36msample_next_round\u001b[0m:\u001b[36m196\u001b[0m - \u001b[34m\u001b[1msearch for centroid: Drug\u001b[0m\n",
      "\u001b[32m2024-04-04 23:02:22.492\u001b[0m | \u001b[34m\u001b[1mDEBUG   \u001b[0m | \u001b[36mALSampler\u001b[0m:\u001b[36msample_next_round\u001b[0m:\u001b[36m196\u001b[0m - \u001b[34m\u001b[1msearch for centroid: Duration\u001b[0m\n",
      "\u001b[32m2024-04-04 23:02:22.661\u001b[0m | \u001b[34m\u001b[1mDEBUG   \u001b[0m | \u001b[36mALSampler\u001b[0m:\u001b[36msample_next_round\u001b[0m:\u001b[36m196\u001b[0m - \u001b[34m\u001b[1msearch for centroid: Form\u001b[0m\n",
      "\u001b[32m2024-04-04 23:02:22.904\u001b[0m | \u001b[34m\u001b[1mDEBUG   \u001b[0m | \u001b[36mALSampler\u001b[0m:\u001b[36msample_next_round\u001b[0m:\u001b[36m196\u001b[0m - \u001b[34m\u001b[1msearch for centroid: Frequency\u001b[0m\n",
      "\u001b[32m2024-04-04 23:02:23.120\u001b[0m | \u001b[34m\u001b[1mDEBUG   \u001b[0m | \u001b[36mALSampler\u001b[0m:\u001b[36msample_next_round\u001b[0m:\u001b[36m196\u001b[0m - \u001b[34m\u001b[1msearch for centroid: NEG\u001b[0m\n",
      "\u001b[32m2024-04-04 23:02:23.291\u001b[0m | \u001b[34m\u001b[1mDEBUG   \u001b[0m | \u001b[36mALSampler\u001b[0m:\u001b[36msample_next_round\u001b[0m:\u001b[36m196\u001b[0m - \u001b[34m\u001b[1msearch for centroid: Reason\u001b[0m\n",
      "\u001b[32m2024-04-04 23:02:23.507\u001b[0m | \u001b[34m\u001b[1mDEBUG   \u001b[0m | \u001b[36mALSampler\u001b[0m:\u001b[36msample_next_round\u001b[0m:\u001b[36m196\u001b[0m - \u001b[34m\u001b[1msearch for centroid: Route\u001b[0m\n",
      "\u001b[32m2024-04-04 23:02:23.717\u001b[0m | \u001b[34m\u001b[1mDEBUG   \u001b[0m | \u001b[36mALSampler\u001b[0m:\u001b[36msample_next_round\u001b[0m:\u001b[36m196\u001b[0m - \u001b[34m\u001b[1msearch for centroid: Strength\u001b[0m\n",
      "\u001b[32m2024-04-04 23:02:23.891\u001b[0m | \u001b[34m\u001b[1mDEBUG   \u001b[0m | \u001b[36mALSampler\u001b[0m:\u001b[36msort_dist_diff\u001b[0m:\u001b[36m158\u001b[0m - \u001b[34m\u001b[1mCompute max distance differences to centroids.\u001b[0m\n",
      "\u001b[32m2024-04-04 23:02:23.902\u001b[0m | \u001b[34m\u001b[1mDEBUG   \u001b[0m | \u001b[36mALSampler\u001b[0m:\u001b[36msample_next_round\u001b[0m:\u001b[36m205\u001b[0m - \u001b[34m\u001b[1mLocate the docs of these sentences\u001b[0m\n",
      "\u001b[32m2024-04-04 23:02:23.908\u001b[0m | \u001b[1mINFO    \u001b[0m | \u001b[36mALSampler\u001b[0m:\u001b[36mkeep_sample\u001b[0m:\u001b[36m39\u001b[0m - \u001b[1mcurrent sampled: 90, remaining: 213\u001b[0m\n",
      "\u001b[32m2024-04-04 23:02:34.829\u001b[0m | \u001b[34m\u001b[1mDEBUG   \u001b[0m | \u001b[36mCRFWrapper\u001b[0m:\u001b[36mfit\u001b[0m:\u001b[36m251\u001b[0m - \u001b[34m\u001b[1mReset and train CRF model...\u001b[0m\n",
      "\u001b[32m2024-04-04 23:05:39.617\u001b[0m | \u001b[34m\u001b[1mDEBUG   \u001b[0m | \u001b[36mCRFWrapper\u001b[0m:\u001b[36mfit\u001b[0m:\u001b[36m259\u001b[0m - \u001b[34m\u001b[1mTraining complete.\u001b[0m\n",
      "\u001b[32m2024-04-04 23:05:39.909\u001b[0m | \u001b[34m\u001b[1mDEBUG   \u001b[0m | \u001b[36mCRFWrapper\u001b[0m:\u001b[36mbootstrap_eval\u001b[0m:\u001b[36m280\u001b[0m - \u001b[34m\u001b[1mPredicting eval docs...\u001b[0m\n",
      "\u001b[32m2024-04-04 23:06:17.526\u001b[0m | \u001b[34m\u001b[1mDEBUG   \u001b[0m | \u001b[36mCRFWrapper\u001b[0m:\u001b[36mbootstrap_eval\u001b[0m:\u001b[36m284\u001b[0m - \u001b[34m\u001b[1mCalculate scores from bootstrapping 3 times\u001b[0m\n",
      "\u001b[32m2024-04-04 23:06:21.528\u001b[0m | \u001b[34m\u001b[1mDEBUG   \u001b[0m | \u001b[36mCRFWrapper\u001b[0m:\u001b[36mbootstrap_eval\u001b[0m:\u001b[36m293\u001b[0m - \u001b[34m\u001b[1mcomplete\u001b[0m\n",
      "\u001b[32m2024-04-04 23:06:21.687\u001b[0m | \u001b[34m\u001b[1mDEBUG   \u001b[0m | \u001b[36mALSampler\u001b[0m:\u001b[36msimulate_rounds\u001b[0m:\u001b[36m56\u001b[0m - \u001b[34m\u001b[1m{'precision': 0.93954732173887, 'recall': 0.822602522489316, 'f1': 0.8771900725289484}\u001b[0m\n",
      "\u001b[32m2024-04-04 23:06:21.689\u001b[0m | \u001b[1mINFO    \u001b[0m | \u001b[36mALSampler\u001b[0m:\u001b[36msimulate_rounds\u001b[0m:\u001b[36m45\u001b[0m - \u001b[1msimulate round 3.\u001b[0m\n",
      "\u001b[32m2024-04-04 23:06:21.691\u001b[0m | \u001b[34m\u001b[1mDEBUG   \u001b[0m | \u001b[36mALSampler\u001b[0m:\u001b[36msample_next_round\u001b[0m:\u001b[36m179\u001b[0m - \u001b[34m\u001b[1mCalculating centroids...\u001b[0m\n",
      "\u001b[32m2024-04-04 23:06:22.361\u001b[0m | \u001b[34m\u001b[1mDEBUG   \u001b[0m | \u001b[36mALSampler\u001b[0m:\u001b[36mfit\u001b[0m:\u001b[36m140\u001b[0m - \u001b[34m\u001b[1m10 centroids detected from the given sampled_docs\u001b[0m\n",
      "\u001b[32m2024-04-04 23:06:22.365\u001b[0m | \u001b[34m\u001b[1mDEBUG   \u001b[0m | \u001b[36mALSampler\u001b[0m:\u001b[36msample_next_round\u001b[0m:\u001b[36m182\u001b[0m - \u001b[34m\u001b[1mSearching from the vector index...\u001b[0m\n",
      "\u001b[32m2024-04-04 23:06:22.371\u001b[0m | \u001b[1mINFO    \u001b[0m | \u001b[36mALSampler\u001b[0m:\u001b[36msample_next_round\u001b[0m:\u001b[36m192\u001b[0m - \u001b[1mdistance shape: (47530, 10), max to retrieve 47501 sentences\u001b[0m\n",
      "\u001b[32m2024-04-04 23:06:22.372\u001b[0m | \u001b[34m\u001b[1mDEBUG   \u001b[0m | \u001b[36mALSampler\u001b[0m:\u001b[36msample_next_round\u001b[0m:\u001b[36m196\u001b[0m - \u001b[34m\u001b[1msearch for centroid: ADE\u001b[0m\n",
      "\u001b[32m2024-04-04 23:06:22.541\u001b[0m | \u001b[34m\u001b[1mDEBUG   \u001b[0m | \u001b[36mALSampler\u001b[0m:\u001b[36msample_next_round\u001b[0m:\u001b[36m196\u001b[0m - \u001b[34m\u001b[1msearch for centroid: Dosage\u001b[0m\n",
      "\u001b[32m2024-04-04 23:06:22.754\u001b[0m | \u001b[34m\u001b[1mDEBUG   \u001b[0m | \u001b[36mALSampler\u001b[0m:\u001b[36msample_next_round\u001b[0m:\u001b[36m196\u001b[0m - \u001b[34m\u001b[1msearch for centroid: Drug\u001b[0m\n",
      "\u001b[32m2024-04-04 23:06:22.973\u001b[0m | \u001b[34m\u001b[1mDEBUG   \u001b[0m | \u001b[36mALSampler\u001b[0m:\u001b[36msample_next_round\u001b[0m:\u001b[36m196\u001b[0m - \u001b[34m\u001b[1msearch for centroid: Duration\u001b[0m\n",
      "\u001b[32m2024-04-04 23:06:23.139\u001b[0m | \u001b[34m\u001b[1mDEBUG   \u001b[0m | \u001b[36mALSampler\u001b[0m:\u001b[36msample_next_round\u001b[0m:\u001b[36m196\u001b[0m - \u001b[34m\u001b[1msearch for centroid: Form\u001b[0m\n",
      "\u001b[32m2024-04-04 23:06:23.345\u001b[0m | \u001b[34m\u001b[1mDEBUG   \u001b[0m | \u001b[36mALSampler\u001b[0m:\u001b[36msample_next_round\u001b[0m:\u001b[36m196\u001b[0m - \u001b[34m\u001b[1msearch for centroid: Frequency\u001b[0m\n",
      "\u001b[32m2024-04-04 23:06:23.571\u001b[0m | \u001b[34m\u001b[1mDEBUG   \u001b[0m | \u001b[36mALSampler\u001b[0m:\u001b[36msample_next_round\u001b[0m:\u001b[36m196\u001b[0m - \u001b[34m\u001b[1msearch for centroid: NEG\u001b[0m\n",
      "\u001b[32m2024-04-04 23:06:23.738\u001b[0m | \u001b[34m\u001b[1mDEBUG   \u001b[0m | \u001b[36mALSampler\u001b[0m:\u001b[36msample_next_round\u001b[0m:\u001b[36m196\u001b[0m - \u001b[34m\u001b[1msearch for centroid: Reason\u001b[0m\n",
      "\u001b[32m2024-04-04 23:06:23.977\u001b[0m | \u001b[34m\u001b[1mDEBUG   \u001b[0m | \u001b[36mALSampler\u001b[0m:\u001b[36msample_next_round\u001b[0m:\u001b[36m196\u001b[0m - \u001b[34m\u001b[1msearch for centroid: Route\u001b[0m\n",
      "\u001b[32m2024-04-04 23:06:24.217\u001b[0m | \u001b[34m\u001b[1mDEBUG   \u001b[0m | \u001b[36mALSampler\u001b[0m:\u001b[36msample_next_round\u001b[0m:\u001b[36m196\u001b[0m - \u001b[34m\u001b[1msearch for centroid: Strength\u001b[0m\n",
      "\u001b[32m2024-04-04 23:06:24.383\u001b[0m | \u001b[34m\u001b[1mDEBUG   \u001b[0m | \u001b[36mALSampler\u001b[0m:\u001b[36msort_dist_diff\u001b[0m:\u001b[36m158\u001b[0m - \u001b[34m\u001b[1mCompute max distance differences to centroids.\u001b[0m\n",
      "\u001b[32m2024-04-04 23:06:24.394\u001b[0m | \u001b[34m\u001b[1mDEBUG   \u001b[0m | \u001b[36mALSampler\u001b[0m:\u001b[36msample_next_round\u001b[0m:\u001b[36m205\u001b[0m - \u001b[34m\u001b[1mLocate the docs of these sentences\u001b[0m\n",
      "\u001b[32m2024-04-04 23:06:24.400\u001b[0m | \u001b[1mINFO    \u001b[0m | \u001b[36mALSampler\u001b[0m:\u001b[36mkeep_sample\u001b[0m:\u001b[36m39\u001b[0m - \u001b[1mcurrent sampled: 120, remaining: 183\u001b[0m\n",
      "\u001b[32m2024-04-04 23:06:40.189\u001b[0m | \u001b[34m\u001b[1mDEBUG   \u001b[0m | \u001b[36mCRFWrapper\u001b[0m:\u001b[36mfit\u001b[0m:\u001b[36m251\u001b[0m - \u001b[34m\u001b[1mReset and train CRF model...\u001b[0m\n",
      "\u001b[32m2024-04-04 23:10:48.814\u001b[0m | \u001b[34m\u001b[1mDEBUG   \u001b[0m | \u001b[36mCRFWrapper\u001b[0m:\u001b[36mfit\u001b[0m:\u001b[36m259\u001b[0m - \u001b[34m\u001b[1mTraining complete.\u001b[0m\n",
      "\u001b[32m2024-04-04 23:10:49.212\u001b[0m | \u001b[34m\u001b[1mDEBUG   \u001b[0m | \u001b[36mCRFWrapper\u001b[0m:\u001b[36mbootstrap_eval\u001b[0m:\u001b[36m280\u001b[0m - \u001b[34m\u001b[1mPredicting eval docs...\u001b[0m\n",
      "\u001b[32m2024-04-04 23:11:26.255\u001b[0m | \u001b[34m\u001b[1mDEBUG   \u001b[0m | \u001b[36mCRFWrapper\u001b[0m:\u001b[36mbootstrap_eval\u001b[0m:\u001b[36m284\u001b[0m - \u001b[34m\u001b[1mCalculate scores from bootstrapping 3 times\u001b[0m\n",
      "\u001b[32m2024-04-04 23:11:30.226\u001b[0m | \u001b[34m\u001b[1mDEBUG   \u001b[0m | \u001b[36mCRFWrapper\u001b[0m:\u001b[36mbootstrap_eval\u001b[0m:\u001b[36m293\u001b[0m - \u001b[34m\u001b[1mcomplete\u001b[0m\n",
      "\u001b[32m2024-04-04 23:11:30.367\u001b[0m | \u001b[34m\u001b[1mDEBUG   \u001b[0m | \u001b[36mALSampler\u001b[0m:\u001b[36msimulate_rounds\u001b[0m:\u001b[36m56\u001b[0m - \u001b[34m\u001b[1m{'precision': 0.9443077423443255, 'recall': 0.8370922632005898, 'f1': 0.8874719044020235}\u001b[0m\n",
      "\u001b[32m2024-04-04 23:11:30.369\u001b[0m | \u001b[1mINFO    \u001b[0m | \u001b[36mALSampler\u001b[0m:\u001b[36msimulate_rounds\u001b[0m:\u001b[36m45\u001b[0m - \u001b[1msimulate round 4.\u001b[0m\n",
      "\u001b[32m2024-04-04 23:11:30.370\u001b[0m | \u001b[34m\u001b[1mDEBUG   \u001b[0m | \u001b[36mALSampler\u001b[0m:\u001b[36msample_next_round\u001b[0m:\u001b[36m179\u001b[0m - \u001b[34m\u001b[1mCalculating centroids...\u001b[0m\n",
      "\u001b[32m2024-04-04 23:11:31.138\u001b[0m | \u001b[34m\u001b[1mDEBUG   \u001b[0m | \u001b[36mALSampler\u001b[0m:\u001b[36mfit\u001b[0m:\u001b[36m140\u001b[0m - \u001b[34m\u001b[1m10 centroids detected from the given sampled_docs\u001b[0m\n",
      "\u001b[32m2024-04-04 23:11:31.141\u001b[0m | \u001b[34m\u001b[1mDEBUG   \u001b[0m | \u001b[36mALSampler\u001b[0m:\u001b[36msample_next_round\u001b[0m:\u001b[36m182\u001b[0m - \u001b[34m\u001b[1mSearching from the vector index...\u001b[0m\n",
      "\u001b[32m2024-04-04 23:11:31.147\u001b[0m | \u001b[1mINFO    \u001b[0m | \u001b[36mALSampler\u001b[0m:\u001b[36msample_next_round\u001b[0m:\u001b[36m192\u001b[0m - \u001b[1mdistance shape: (47530, 10), max to retrieve 47501 sentences\u001b[0m\n",
      "\u001b[32m2024-04-04 23:11:31.149\u001b[0m | \u001b[34m\u001b[1mDEBUG   \u001b[0m | \u001b[36mALSampler\u001b[0m:\u001b[36msample_next_round\u001b[0m:\u001b[36m196\u001b[0m - \u001b[34m\u001b[1msearch for centroid: ADE\u001b[0m\n",
      "\u001b[32m2024-04-04 23:11:31.317\u001b[0m | \u001b[34m\u001b[1mDEBUG   \u001b[0m | \u001b[36mALSampler\u001b[0m:\u001b[36msample_next_round\u001b[0m:\u001b[36m196\u001b[0m - \u001b[34m\u001b[1msearch for centroid: Dosage\u001b[0m\n",
      "\u001b[32m2024-04-04 23:11:31.537\u001b[0m | \u001b[34m\u001b[1mDEBUG   \u001b[0m | \u001b[36mALSampler\u001b[0m:\u001b[36msample_next_round\u001b[0m:\u001b[36m196\u001b[0m - \u001b[34m\u001b[1msearch for centroid: Drug\u001b[0m\n",
      "\u001b[32m2024-04-04 23:11:31.772\u001b[0m | \u001b[34m\u001b[1mDEBUG   \u001b[0m | \u001b[36mALSampler\u001b[0m:\u001b[36msample_next_round\u001b[0m:\u001b[36m196\u001b[0m - \u001b[34m\u001b[1msearch for centroid: Duration\u001b[0m\n",
      "\u001b[32m2024-04-04 23:11:31.946\u001b[0m | \u001b[34m\u001b[1mDEBUG   \u001b[0m | \u001b[36mALSampler\u001b[0m:\u001b[36msample_next_round\u001b[0m:\u001b[36m196\u001b[0m - \u001b[34m\u001b[1msearch for centroid: Form\u001b[0m\n",
      "\u001b[32m2024-04-04 23:11:32.160\u001b[0m | \u001b[34m\u001b[1mDEBUG   \u001b[0m | \u001b[36mALSampler\u001b[0m:\u001b[36msample_next_round\u001b[0m:\u001b[36m196\u001b[0m - \u001b[34m\u001b[1msearch for centroid: Frequency\u001b[0m\n",
      "\u001b[32m2024-04-04 23:11:32.364\u001b[0m | \u001b[34m\u001b[1mDEBUG   \u001b[0m | \u001b[36mALSampler\u001b[0m:\u001b[36msample_next_round\u001b[0m:\u001b[36m196\u001b[0m - \u001b[34m\u001b[1msearch for centroid: NEG\u001b[0m\n",
      "\u001b[32m2024-04-04 23:11:32.535\u001b[0m | \u001b[34m\u001b[1mDEBUG   \u001b[0m | \u001b[36mALSampler\u001b[0m:\u001b[36msample_next_round\u001b[0m:\u001b[36m196\u001b[0m - \u001b[34m\u001b[1msearch for centroid: Reason\u001b[0m\n",
      "\u001b[32m2024-04-04 23:11:32.741\u001b[0m | \u001b[34m\u001b[1mDEBUG   \u001b[0m | \u001b[36mALSampler\u001b[0m:\u001b[36msample_next_round\u001b[0m:\u001b[36m196\u001b[0m - \u001b[34m\u001b[1msearch for centroid: Route\u001b[0m\n",
      "\u001b[32m2024-04-04 23:11:32.957\u001b[0m | \u001b[34m\u001b[1mDEBUG   \u001b[0m | \u001b[36mALSampler\u001b[0m:\u001b[36msample_next_round\u001b[0m:\u001b[36m196\u001b[0m - \u001b[34m\u001b[1msearch for centroid: Strength\u001b[0m\n",
      "\u001b[32m2024-04-04 23:11:33.145\u001b[0m | \u001b[34m\u001b[1mDEBUG   \u001b[0m | \u001b[36mALSampler\u001b[0m:\u001b[36msort_dist_diff\u001b[0m:\u001b[36m158\u001b[0m - \u001b[34m\u001b[1mCompute max distance differences to centroids.\u001b[0m\n",
      "\u001b[32m2024-04-04 23:11:33.157\u001b[0m | \u001b[34m\u001b[1mDEBUG   \u001b[0m | \u001b[36mALSampler\u001b[0m:\u001b[36msample_next_round\u001b[0m:\u001b[36m205\u001b[0m - \u001b[34m\u001b[1mLocate the docs of these sentences\u001b[0m\n",
      "\u001b[32m2024-04-04 23:11:33.164\u001b[0m | \u001b[1mINFO    \u001b[0m | \u001b[36mALSampler\u001b[0m:\u001b[36mkeep_sample\u001b[0m:\u001b[36m39\u001b[0m - \u001b[1mcurrent sampled: 150, remaining: 153\u001b[0m\n",
      "\u001b[32m2024-04-04 23:11:51.787\u001b[0m | \u001b[34m\u001b[1mDEBUG   \u001b[0m | \u001b[36mCRFWrapper\u001b[0m:\u001b[36mfit\u001b[0m:\u001b[36m251\u001b[0m - \u001b[34m\u001b[1mReset and train CRF model...\u001b[0m\n",
      "\u001b[32m2024-04-04 23:17:01.521\u001b[0m | \u001b[34m\u001b[1mDEBUG   \u001b[0m | \u001b[36mCRFWrapper\u001b[0m:\u001b[36mfit\u001b[0m:\u001b[36m259\u001b[0m - \u001b[34m\u001b[1mTraining complete.\u001b[0m\n",
      "\u001b[32m2024-04-04 23:17:02.058\u001b[0m | \u001b[34m\u001b[1mDEBUG   \u001b[0m | \u001b[36mCRFWrapper\u001b[0m:\u001b[36mbootstrap_eval\u001b[0m:\u001b[36m280\u001b[0m - \u001b[34m\u001b[1mPredicting eval docs...\u001b[0m\n",
      "\u001b[32m2024-04-04 23:17:39.126\u001b[0m | \u001b[34m\u001b[1mDEBUG   \u001b[0m | \u001b[36mCRFWrapper\u001b[0m:\u001b[36mbootstrap_eval\u001b[0m:\u001b[36m284\u001b[0m - \u001b[34m\u001b[1mCalculate scores from bootstrapping 3 times\u001b[0m\n",
      "\u001b[32m2024-04-04 23:17:43.117\u001b[0m | \u001b[34m\u001b[1mDEBUG   \u001b[0m | \u001b[36mCRFWrapper\u001b[0m:\u001b[36mbootstrap_eval\u001b[0m:\u001b[36m293\u001b[0m - \u001b[34m\u001b[1mcomplete\u001b[0m\n",
      "\u001b[32m2024-04-04 23:17:43.260\u001b[0m | \u001b[34m\u001b[1mDEBUG   \u001b[0m | \u001b[36mALSampler\u001b[0m:\u001b[36msimulate_rounds\u001b[0m:\u001b[36m56\u001b[0m - \u001b[34m\u001b[1m{'precision': 0.9452564018165824, 'recall': 0.8454474975279463, 'f1': 0.8925679271030004}\u001b[0m\n",
      "\u001b[32m2024-04-04 23:17:43.262\u001b[0m | \u001b[1mINFO    \u001b[0m | \u001b[36mALSampler\u001b[0m:\u001b[36msimulate_rounds\u001b[0m:\u001b[36m45\u001b[0m - \u001b[1msimulate round 5.\u001b[0m\n",
      "\u001b[32m2024-04-04 23:17:43.264\u001b[0m | \u001b[34m\u001b[1mDEBUG   \u001b[0m | \u001b[36mALSampler\u001b[0m:\u001b[36msample_next_round\u001b[0m:\u001b[36m179\u001b[0m - \u001b[34m\u001b[1mCalculating centroids...\u001b[0m\n",
      "\u001b[32m2024-04-04 23:17:44.166\u001b[0m | \u001b[34m\u001b[1mDEBUG   \u001b[0m | \u001b[36mALSampler\u001b[0m:\u001b[36mfit\u001b[0m:\u001b[36m140\u001b[0m - \u001b[34m\u001b[1m10 centroids detected from the given sampled_docs\u001b[0m\n",
      "\u001b[32m2024-04-04 23:17:44.170\u001b[0m | \u001b[34m\u001b[1mDEBUG   \u001b[0m | \u001b[36mALSampler\u001b[0m:\u001b[36msample_next_round\u001b[0m:\u001b[36m182\u001b[0m - \u001b[34m\u001b[1mSearching from the vector index...\u001b[0m\n",
      "\u001b[32m2024-04-04 23:17:44.175\u001b[0m | \u001b[1mINFO    \u001b[0m | \u001b[36mALSampler\u001b[0m:\u001b[36msample_next_round\u001b[0m:\u001b[36m192\u001b[0m - \u001b[1mdistance shape: (47530, 10), max to retrieve 47501 sentences\u001b[0m\n",
      "\u001b[32m2024-04-04 23:17:44.178\u001b[0m | \u001b[34m\u001b[1mDEBUG   \u001b[0m | \u001b[36mALSampler\u001b[0m:\u001b[36msample_next_round\u001b[0m:\u001b[36m196\u001b[0m - \u001b[34m\u001b[1msearch for centroid: ADE\u001b[0m\n",
      "\u001b[32m2024-04-04 23:17:44.365\u001b[0m | \u001b[34m\u001b[1mDEBUG   \u001b[0m | \u001b[36mALSampler\u001b[0m:\u001b[36msample_next_round\u001b[0m:\u001b[36m196\u001b[0m - \u001b[34m\u001b[1msearch for centroid: Dosage\u001b[0m\n",
      "\u001b[32m2024-04-04 23:17:44.568\u001b[0m | \u001b[34m\u001b[1mDEBUG   \u001b[0m | \u001b[36mALSampler\u001b[0m:\u001b[36msample_next_round\u001b[0m:\u001b[36m196\u001b[0m - \u001b[34m\u001b[1msearch for centroid: Drug\u001b[0m\n",
      "\u001b[32m2024-04-04 23:17:44.729\u001b[0m | \u001b[34m\u001b[1mDEBUG   \u001b[0m | \u001b[36mALSampler\u001b[0m:\u001b[36msample_next_round\u001b[0m:\u001b[36m196\u001b[0m - \u001b[34m\u001b[1msearch for centroid: Duration\u001b[0m\n",
      "\u001b[32m2024-04-04 23:17:44.939\u001b[0m | \u001b[34m\u001b[1mDEBUG   \u001b[0m | \u001b[36mALSampler\u001b[0m:\u001b[36msample_next_round\u001b[0m:\u001b[36m196\u001b[0m - \u001b[34m\u001b[1msearch for centroid: Form\u001b[0m\n",
      "\u001b[32m2024-04-04 23:17:45.121\u001b[0m | \u001b[34m\u001b[1mDEBUG   \u001b[0m | \u001b[36mALSampler\u001b[0m:\u001b[36msample_next_round\u001b[0m:\u001b[36m196\u001b[0m - \u001b[34m\u001b[1msearch for centroid: Frequency\u001b[0m\n",
      "\u001b[32m2024-04-04 23:17:45.303\u001b[0m | \u001b[34m\u001b[1mDEBUG   \u001b[0m | \u001b[36mALSampler\u001b[0m:\u001b[36msample_next_round\u001b[0m:\u001b[36m196\u001b[0m - \u001b[34m\u001b[1msearch for centroid: NEG\u001b[0m\n",
      "\u001b[32m2024-04-04 23:17:45.490\u001b[0m | \u001b[34m\u001b[1mDEBUG   \u001b[0m | \u001b[36mALSampler\u001b[0m:\u001b[36msample_next_round\u001b[0m:\u001b[36m196\u001b[0m - \u001b[34m\u001b[1msearch for centroid: Reason\u001b[0m\n",
      "\u001b[32m2024-04-04 23:17:45.692\u001b[0m | \u001b[34m\u001b[1mDEBUG   \u001b[0m | \u001b[36mALSampler\u001b[0m:\u001b[36msample_next_round\u001b[0m:\u001b[36m196\u001b[0m - \u001b[34m\u001b[1msearch for centroid: Route\u001b[0m\n",
      "\u001b[32m2024-04-04 23:17:45.879\u001b[0m | \u001b[34m\u001b[1mDEBUG   \u001b[0m | \u001b[36mALSampler\u001b[0m:\u001b[36msample_next_round\u001b[0m:\u001b[36m196\u001b[0m - \u001b[34m\u001b[1msearch for centroid: Strength\u001b[0m\n",
      "\u001b[32m2024-04-04 23:17:46.048\u001b[0m | \u001b[34m\u001b[1mDEBUG   \u001b[0m | \u001b[36mALSampler\u001b[0m:\u001b[36msort_dist_diff\u001b[0m:\u001b[36m158\u001b[0m - \u001b[34m\u001b[1mCompute max distance differences to centroids.\u001b[0m\n",
      "\u001b[32m2024-04-04 23:17:46.060\u001b[0m | \u001b[34m\u001b[1mDEBUG   \u001b[0m | \u001b[36mALSampler\u001b[0m:\u001b[36msample_next_round\u001b[0m:\u001b[36m205\u001b[0m - \u001b[34m\u001b[1mLocate the docs of these sentences\u001b[0m\n",
      "\u001b[32m2024-04-04 23:17:46.066\u001b[0m | \u001b[1mINFO    \u001b[0m | \u001b[36mALSampler\u001b[0m:\u001b[36mkeep_sample\u001b[0m:\u001b[36m39\u001b[0m - \u001b[1mcurrent sampled: 180, remaining: 123\u001b[0m\n",
      "\u001b[32m2024-04-04 23:18:08.665\u001b[0m | \u001b[34m\u001b[1mDEBUG   \u001b[0m | \u001b[36mCRFWrapper\u001b[0m:\u001b[36mfit\u001b[0m:\u001b[36m251\u001b[0m - \u001b[34m\u001b[1mReset and train CRF model...\u001b[0m\n",
      "\u001b[32m2024-04-04 23:24:10.636\u001b[0m | \u001b[34m\u001b[1mDEBUG   \u001b[0m | \u001b[36mCRFWrapper\u001b[0m:\u001b[36mfit\u001b[0m:\u001b[36m259\u001b[0m - \u001b[34m\u001b[1mTraining complete.\u001b[0m\n",
      "\u001b[32m2024-04-04 23:24:11.252\u001b[0m | \u001b[34m\u001b[1mDEBUG   \u001b[0m | \u001b[36mCRFWrapper\u001b[0m:\u001b[36mbootstrap_eval\u001b[0m:\u001b[36m280\u001b[0m - \u001b[34m\u001b[1mPredicting eval docs...\u001b[0m\n",
      "\u001b[32m2024-04-04 23:24:48.229\u001b[0m | \u001b[34m\u001b[1mDEBUG   \u001b[0m | \u001b[36mCRFWrapper\u001b[0m:\u001b[36mbootstrap_eval\u001b[0m:\u001b[36m284\u001b[0m - \u001b[34m\u001b[1mCalculate scores from bootstrapping 3 times\u001b[0m\n",
      "\u001b[32m2024-04-04 23:24:52.211\u001b[0m | \u001b[34m\u001b[1mDEBUG   \u001b[0m | \u001b[36mCRFWrapper\u001b[0m:\u001b[36mbootstrap_eval\u001b[0m:\u001b[36m293\u001b[0m - \u001b[34m\u001b[1mcomplete\u001b[0m\n",
      "\u001b[32m2024-04-04 23:24:52.355\u001b[0m | \u001b[34m\u001b[1mDEBUG   \u001b[0m | \u001b[36mALSampler\u001b[0m:\u001b[36msimulate_rounds\u001b[0m:\u001b[36m56\u001b[0m - \u001b[34m\u001b[1m{'precision': 0.941061588441818, 'recall': 0.8506849522936278, 'f1': 0.8935890720220664}\u001b[0m\n",
      "\u001b[32m2024-04-04 23:24:52.357\u001b[0m | \u001b[1mINFO    \u001b[0m | \u001b[36mALSampler\u001b[0m:\u001b[36msimulate_rounds\u001b[0m:\u001b[36m45\u001b[0m - \u001b[1msimulate round 6.\u001b[0m\n",
      "\u001b[32m2024-04-04 23:24:52.358\u001b[0m | \u001b[34m\u001b[1mDEBUG   \u001b[0m | \u001b[36mALSampler\u001b[0m:\u001b[36msample_next_round\u001b[0m:\u001b[36m179\u001b[0m - \u001b[34m\u001b[1mCalculating centroids...\u001b[0m\n",
      "\u001b[32m2024-04-04 23:24:53.393\u001b[0m | \u001b[34m\u001b[1mDEBUG   \u001b[0m | \u001b[36mALSampler\u001b[0m:\u001b[36mfit\u001b[0m:\u001b[36m140\u001b[0m - \u001b[34m\u001b[1m10 centroids detected from the given sampled_docs\u001b[0m\n",
      "\u001b[32m2024-04-04 23:24:53.396\u001b[0m | \u001b[34m\u001b[1mDEBUG   \u001b[0m | \u001b[36mALSampler\u001b[0m:\u001b[36msample_next_round\u001b[0m:\u001b[36m182\u001b[0m - \u001b[34m\u001b[1mSearching from the vector index...\u001b[0m\n",
      "\u001b[32m2024-04-04 23:24:53.401\u001b[0m | \u001b[1mINFO    \u001b[0m | \u001b[36mALSampler\u001b[0m:\u001b[36msample_next_round\u001b[0m:\u001b[36m192\u001b[0m - \u001b[1mdistance shape: (47530, 10), max to retrieve 47501 sentences\u001b[0m\n",
      "\u001b[32m2024-04-04 23:24:53.403\u001b[0m | \u001b[34m\u001b[1mDEBUG   \u001b[0m | \u001b[36mALSampler\u001b[0m:\u001b[36msample_next_round\u001b[0m:\u001b[36m196\u001b[0m - \u001b[34m\u001b[1msearch for centroid: ADE\u001b[0m\n",
      "\u001b[32m2024-04-04 23:24:53.586\u001b[0m | \u001b[34m\u001b[1mDEBUG   \u001b[0m | \u001b[36mALSampler\u001b[0m:\u001b[36msample_next_round\u001b[0m:\u001b[36m196\u001b[0m - \u001b[34m\u001b[1msearch for centroid: Dosage\u001b[0m\n",
      "\u001b[32m2024-04-04 23:24:53.804\u001b[0m | \u001b[34m\u001b[1mDEBUG   \u001b[0m | \u001b[36mALSampler\u001b[0m:\u001b[36msample_next_round\u001b[0m:\u001b[36m196\u001b[0m - \u001b[34m\u001b[1msearch for centroid: Drug\u001b[0m\n",
      "\u001b[32m2024-04-04 23:24:53.987\u001b[0m | \u001b[34m\u001b[1mDEBUG   \u001b[0m | \u001b[36mALSampler\u001b[0m:\u001b[36msample_next_round\u001b[0m:\u001b[36m196\u001b[0m - \u001b[34m\u001b[1msearch for centroid: Duration\u001b[0m\n",
      "\u001b[32m2024-04-04 23:24:54.182\u001b[0m | \u001b[34m\u001b[1mDEBUG   \u001b[0m | \u001b[36mALSampler\u001b[0m:\u001b[36msample_next_round\u001b[0m:\u001b[36m196\u001b[0m - \u001b[34m\u001b[1msearch for centroid: Form\u001b[0m\n",
      "\u001b[32m2024-04-04 23:24:54.353\u001b[0m | \u001b[34m\u001b[1mDEBUG   \u001b[0m | \u001b[36mALSampler\u001b[0m:\u001b[36msample_next_round\u001b[0m:\u001b[36m196\u001b[0m - \u001b[34m\u001b[1msearch for centroid: Frequency\u001b[0m\n",
      "\u001b[32m2024-04-04 23:24:54.554\u001b[0m | \u001b[34m\u001b[1mDEBUG   \u001b[0m | \u001b[36mALSampler\u001b[0m:\u001b[36msample_next_round\u001b[0m:\u001b[36m196\u001b[0m - \u001b[34m\u001b[1msearch for centroid: NEG\u001b[0m\n",
      "\u001b[32m2024-04-04 23:24:54.712\u001b[0m | \u001b[34m\u001b[1mDEBUG   \u001b[0m | \u001b[36mALSampler\u001b[0m:\u001b[36msample_next_round\u001b[0m:\u001b[36m196\u001b[0m - \u001b[34m\u001b[1msearch for centroid: Reason\u001b[0m\n",
      "\u001b[32m2024-04-04 23:24:54.919\u001b[0m | \u001b[34m\u001b[1mDEBUG   \u001b[0m | \u001b[36mALSampler\u001b[0m:\u001b[36msample_next_round\u001b[0m:\u001b[36m196\u001b[0m - \u001b[34m\u001b[1msearch for centroid: Route\u001b[0m\n",
      "\u001b[32m2024-04-04 23:24:55.128\u001b[0m | \u001b[34m\u001b[1mDEBUG   \u001b[0m | \u001b[36mALSampler\u001b[0m:\u001b[36msample_next_round\u001b[0m:\u001b[36m196\u001b[0m - \u001b[34m\u001b[1msearch for centroid: Strength\u001b[0m\n",
      "\u001b[32m2024-04-04 23:24:55.286\u001b[0m | \u001b[34m\u001b[1mDEBUG   \u001b[0m | \u001b[36mALSampler\u001b[0m:\u001b[36msort_dist_diff\u001b[0m:\u001b[36m158\u001b[0m - \u001b[34m\u001b[1mCompute max distance differences to centroids.\u001b[0m\n",
      "\u001b[32m2024-04-04 23:24:55.299\u001b[0m | \u001b[34m\u001b[1mDEBUG   \u001b[0m | \u001b[36mALSampler\u001b[0m:\u001b[36msample_next_round\u001b[0m:\u001b[36m205\u001b[0m - \u001b[34m\u001b[1mLocate the docs of these sentences\u001b[0m\n",
      "\u001b[32m2024-04-04 23:24:55.305\u001b[0m | \u001b[1mINFO    \u001b[0m | \u001b[36mALSampler\u001b[0m:\u001b[36mkeep_sample\u001b[0m:\u001b[36m39\u001b[0m - \u001b[1mcurrent sampled: 210, remaining: 93\u001b[0m\n",
      "\u001b[32m2024-04-04 23:25:21.738\u001b[0m | \u001b[34m\u001b[1mDEBUG   \u001b[0m | \u001b[36mCRFWrapper\u001b[0m:\u001b[36mfit\u001b[0m:\u001b[36m251\u001b[0m - \u001b[34m\u001b[1mReset and train CRF model...\u001b[0m\n",
      "\u001b[32m2024-04-04 23:32:38.245\u001b[0m | \u001b[34m\u001b[1mDEBUG   \u001b[0m | \u001b[36mCRFWrapper\u001b[0m:\u001b[36mfit\u001b[0m:\u001b[36m259\u001b[0m - \u001b[34m\u001b[1mTraining complete.\u001b[0m\n",
      "\u001b[32m2024-04-04 23:32:39.014\u001b[0m | \u001b[34m\u001b[1mDEBUG   \u001b[0m | \u001b[36mCRFWrapper\u001b[0m:\u001b[36mbootstrap_eval\u001b[0m:\u001b[36m280\u001b[0m - \u001b[34m\u001b[1mPredicting eval docs...\u001b[0m\n",
      "\u001b[32m2024-04-04 23:33:16.865\u001b[0m | \u001b[34m\u001b[1mDEBUG   \u001b[0m | \u001b[36mCRFWrapper\u001b[0m:\u001b[36mbootstrap_eval\u001b[0m:\u001b[36m284\u001b[0m - \u001b[34m\u001b[1mCalculate scores from bootstrapping 3 times\u001b[0m\n",
      "\u001b[32m2024-04-04 23:33:20.953\u001b[0m | \u001b[34m\u001b[1mDEBUG   \u001b[0m | \u001b[36mCRFWrapper\u001b[0m:\u001b[36mbootstrap_eval\u001b[0m:\u001b[36m293\u001b[0m - \u001b[34m\u001b[1mcomplete\u001b[0m\n",
      "\u001b[32m2024-04-04 23:33:21.097\u001b[0m | \u001b[34m\u001b[1mDEBUG   \u001b[0m | \u001b[36mALSampler\u001b[0m:\u001b[36msimulate_rounds\u001b[0m:\u001b[36m56\u001b[0m - \u001b[34m\u001b[1m{'precision': 0.9448557454221286, 'recall': 0.8531923342681375, 'f1': 0.896687206384282}\u001b[0m\n",
      "\u001b[32m2024-04-04 23:33:21.099\u001b[0m | \u001b[1mINFO    \u001b[0m | \u001b[36mALSampler\u001b[0m:\u001b[36msimulate_rounds\u001b[0m:\u001b[36m45\u001b[0m - \u001b[1msimulate round 7.\u001b[0m\n",
      "\u001b[32m2024-04-04 23:33:21.100\u001b[0m | \u001b[34m\u001b[1mDEBUG   \u001b[0m | \u001b[36mALSampler\u001b[0m:\u001b[36msample_next_round\u001b[0m:\u001b[36m179\u001b[0m - \u001b[34m\u001b[1mCalculating centroids...\u001b[0m\n",
      "\u001b[32m2024-04-04 23:33:22.281\u001b[0m | \u001b[34m\u001b[1mDEBUG   \u001b[0m | \u001b[36mALSampler\u001b[0m:\u001b[36mfit\u001b[0m:\u001b[36m140\u001b[0m - \u001b[34m\u001b[1m10 centroids detected from the given sampled_docs\u001b[0m\n",
      "\u001b[32m2024-04-04 23:33:22.286\u001b[0m | \u001b[34m\u001b[1mDEBUG   \u001b[0m | \u001b[36mALSampler\u001b[0m:\u001b[36msample_next_round\u001b[0m:\u001b[36m182\u001b[0m - \u001b[34m\u001b[1mSearching from the vector index...\u001b[0m\n",
      "\u001b[32m2024-04-04 23:33:22.291\u001b[0m | \u001b[1mINFO    \u001b[0m | \u001b[36mALSampler\u001b[0m:\u001b[36msample_next_round\u001b[0m:\u001b[36m192\u001b[0m - \u001b[1mdistance shape: (47530, 10), max to retrieve 47501 sentences\u001b[0m\n",
      "\u001b[32m2024-04-04 23:33:22.292\u001b[0m | \u001b[34m\u001b[1mDEBUG   \u001b[0m | \u001b[36mALSampler\u001b[0m:\u001b[36msample_next_round\u001b[0m:\u001b[36m196\u001b[0m - \u001b[34m\u001b[1msearch for centroid: ADE\u001b[0m\n",
      "\u001b[32m2024-04-04 23:33:22.480\u001b[0m | \u001b[34m\u001b[1mDEBUG   \u001b[0m | \u001b[36mALSampler\u001b[0m:\u001b[36msample_next_round\u001b[0m:\u001b[36m196\u001b[0m - \u001b[34m\u001b[1msearch for centroid: Dosage\u001b[0m\n",
      "\u001b[32m2024-04-04 23:33:22.675\u001b[0m | \u001b[34m\u001b[1mDEBUG   \u001b[0m | \u001b[36mALSampler\u001b[0m:\u001b[36msample_next_round\u001b[0m:\u001b[36m196\u001b[0m - \u001b[34m\u001b[1msearch for centroid: Drug\u001b[0m\n",
      "\u001b[32m2024-04-04 23:33:22.847\u001b[0m | \u001b[34m\u001b[1mDEBUG   \u001b[0m | \u001b[36mALSampler\u001b[0m:\u001b[36msample_next_round\u001b[0m:\u001b[36m196\u001b[0m - \u001b[34m\u001b[1msearch for centroid: Duration\u001b[0m\n",
      "\u001b[32m2024-04-04 23:33:23.045\u001b[0m | \u001b[34m\u001b[1mDEBUG   \u001b[0m | \u001b[36mALSampler\u001b[0m:\u001b[36msample_next_round\u001b[0m:\u001b[36m196\u001b[0m - \u001b[34m\u001b[1msearch for centroid: Form\u001b[0m\n",
      "\u001b[32m2024-04-04 23:33:23.245\u001b[0m | \u001b[34m\u001b[1mDEBUG   \u001b[0m | \u001b[36mALSampler\u001b[0m:\u001b[36msample_next_round\u001b[0m:\u001b[36m196\u001b[0m - \u001b[34m\u001b[1msearch for centroid: Frequency\u001b[0m\n",
      "\u001b[32m2024-04-04 23:33:23.428\u001b[0m | \u001b[34m\u001b[1mDEBUG   \u001b[0m | \u001b[36mALSampler\u001b[0m:\u001b[36msample_next_round\u001b[0m:\u001b[36m196\u001b[0m - \u001b[34m\u001b[1msearch for centroid: NEG\u001b[0m\n",
      "\u001b[32m2024-04-04 23:33:23.632\u001b[0m | \u001b[34m\u001b[1mDEBUG   \u001b[0m | \u001b[36mALSampler\u001b[0m:\u001b[36msample_next_round\u001b[0m:\u001b[36m196\u001b[0m - \u001b[34m\u001b[1msearch for centroid: Reason\u001b[0m\n",
      "\u001b[32m2024-04-04 23:33:23.832\u001b[0m | \u001b[34m\u001b[1mDEBUG   \u001b[0m | \u001b[36mALSampler\u001b[0m:\u001b[36msample_next_round\u001b[0m:\u001b[36m196\u001b[0m - \u001b[34m\u001b[1msearch for centroid: Route\u001b[0m\n",
      "\u001b[32m2024-04-04 23:33:24.018\u001b[0m | \u001b[34m\u001b[1mDEBUG   \u001b[0m | \u001b[36mALSampler\u001b[0m:\u001b[36msample_next_round\u001b[0m:\u001b[36m196\u001b[0m - \u001b[34m\u001b[1msearch for centroid: Strength\u001b[0m\n",
      "\u001b[32m2024-04-04 23:33:24.206\u001b[0m | \u001b[34m\u001b[1mDEBUG   \u001b[0m | \u001b[36mALSampler\u001b[0m:\u001b[36msort_dist_diff\u001b[0m:\u001b[36m158\u001b[0m - \u001b[34m\u001b[1mCompute max distance differences to centroids.\u001b[0m\n",
      "\u001b[32m2024-04-04 23:33:24.219\u001b[0m | \u001b[34m\u001b[1mDEBUG   \u001b[0m | \u001b[36mALSampler\u001b[0m:\u001b[36msample_next_round\u001b[0m:\u001b[36m205\u001b[0m - \u001b[34m\u001b[1mLocate the docs of these sentences\u001b[0m\n",
      "\u001b[32m2024-04-04 23:33:24.225\u001b[0m | \u001b[1mINFO    \u001b[0m | \u001b[36mALSampler\u001b[0m:\u001b[36mkeep_sample\u001b[0m:\u001b[36m39\u001b[0m - \u001b[1mcurrent sampled: 240, remaining: 63\u001b[0m\n",
      "\u001b[32m2024-04-04 23:33:54.455\u001b[0m | \u001b[34m\u001b[1mDEBUG   \u001b[0m | \u001b[36mCRFWrapper\u001b[0m:\u001b[36mfit\u001b[0m:\u001b[36m251\u001b[0m - \u001b[34m\u001b[1mReset and train CRF model...\u001b[0m\n",
      "\u001b[32m2024-04-04 23:42:08.591\u001b[0m | \u001b[34m\u001b[1mDEBUG   \u001b[0m | \u001b[36mCRFWrapper\u001b[0m:\u001b[36mfit\u001b[0m:\u001b[36m259\u001b[0m - \u001b[34m\u001b[1mTraining complete.\u001b[0m\n",
      "\u001b[32m2024-04-04 23:42:09.444\u001b[0m | \u001b[34m\u001b[1mDEBUG   \u001b[0m | \u001b[36mCRFWrapper\u001b[0m:\u001b[36mbootstrap_eval\u001b[0m:\u001b[36m280\u001b[0m - \u001b[34m\u001b[1mPredicting eval docs...\u001b[0m\n",
      "\u001b[32m2024-04-04 23:42:46.598\u001b[0m | \u001b[34m\u001b[1mDEBUG   \u001b[0m | \u001b[36mCRFWrapper\u001b[0m:\u001b[36mbootstrap_eval\u001b[0m:\u001b[36m284\u001b[0m - \u001b[34m\u001b[1mCalculate scores from bootstrapping 3 times\u001b[0m\n",
      "\u001b[32m2024-04-04 23:42:50.615\u001b[0m | \u001b[34m\u001b[1mDEBUG   \u001b[0m | \u001b[36mCRFWrapper\u001b[0m:\u001b[36mbootstrap_eval\u001b[0m:\u001b[36m293\u001b[0m - \u001b[34m\u001b[1mcomplete\u001b[0m\n",
      "\u001b[32m2024-04-04 23:42:50.752\u001b[0m | \u001b[34m\u001b[1mDEBUG   \u001b[0m | \u001b[36mALSampler\u001b[0m:\u001b[36msimulate_rounds\u001b[0m:\u001b[36m56\u001b[0m - \u001b[34m\u001b[1m{'precision': 0.9450701160808896, 'recall': 0.8545241324324793, 'f1': 0.897514251489287}\u001b[0m\n",
      "\u001b[32m2024-04-04 23:42:50.753\u001b[0m | \u001b[1mINFO    \u001b[0m | \u001b[36mALSampler\u001b[0m:\u001b[36msimulate_rounds\u001b[0m:\u001b[36m45\u001b[0m - \u001b[1msimulate round 8.\u001b[0m\n",
      "\u001b[32m2024-04-04 23:42:50.755\u001b[0m | \u001b[34m\u001b[1mDEBUG   \u001b[0m | \u001b[36mALSampler\u001b[0m:\u001b[36msample_next_round\u001b[0m:\u001b[36m179\u001b[0m - \u001b[34m\u001b[1mCalculating centroids...\u001b[0m\n",
      "\u001b[32m2024-04-04 23:42:52.043\u001b[0m | \u001b[34m\u001b[1mDEBUG   \u001b[0m | \u001b[36mALSampler\u001b[0m:\u001b[36mfit\u001b[0m:\u001b[36m140\u001b[0m - \u001b[34m\u001b[1m10 centroids detected from the given sampled_docs\u001b[0m\n",
      "\u001b[32m2024-04-04 23:42:52.048\u001b[0m | \u001b[34m\u001b[1mDEBUG   \u001b[0m | \u001b[36mALSampler\u001b[0m:\u001b[36msample_next_round\u001b[0m:\u001b[36m182\u001b[0m - \u001b[34m\u001b[1mSearching from the vector index...\u001b[0m\n",
      "\u001b[32m2024-04-04 23:42:52.054\u001b[0m | \u001b[1mINFO    \u001b[0m | \u001b[36mALSampler\u001b[0m:\u001b[36msample_next_round\u001b[0m:\u001b[36m192\u001b[0m - \u001b[1mdistance shape: (47530, 10), max to retrieve 47501 sentences\u001b[0m\n",
      "\u001b[32m2024-04-04 23:42:52.055\u001b[0m | \u001b[34m\u001b[1mDEBUG   \u001b[0m | \u001b[36mALSampler\u001b[0m:\u001b[36msample_next_round\u001b[0m:\u001b[36m196\u001b[0m - \u001b[34m\u001b[1msearch for centroid: ADE\u001b[0m\n",
      "\u001b[32m2024-04-04 23:42:52.215\u001b[0m | \u001b[34m\u001b[1mDEBUG   \u001b[0m | \u001b[36mALSampler\u001b[0m:\u001b[36msample_next_round\u001b[0m:\u001b[36m196\u001b[0m - \u001b[34m\u001b[1msearch for centroid: Dosage\u001b[0m\n",
      "\u001b[32m2024-04-04 23:42:52.367\u001b[0m | \u001b[34m\u001b[1mDEBUG   \u001b[0m | \u001b[36mALSampler\u001b[0m:\u001b[36msample_next_round\u001b[0m:\u001b[36m196\u001b[0m - \u001b[34m\u001b[1msearch for centroid: Drug\u001b[0m\n",
      "\u001b[32m2024-04-04 23:42:52.568\u001b[0m | \u001b[34m\u001b[1mDEBUG   \u001b[0m | \u001b[36mALSampler\u001b[0m:\u001b[36msample_next_round\u001b[0m:\u001b[36m196\u001b[0m - \u001b[34m\u001b[1msearch for centroid: Duration\u001b[0m\n",
      "\u001b[32m2024-04-04 23:42:52.768\u001b[0m | \u001b[34m\u001b[1mDEBUG   \u001b[0m | \u001b[36mALSampler\u001b[0m:\u001b[36msample_next_round\u001b[0m:\u001b[36m196\u001b[0m - \u001b[34m\u001b[1msearch for centroid: Form\u001b[0m\n",
      "\u001b[32m2024-04-04 23:42:52.914\u001b[0m | \u001b[34m\u001b[1mDEBUG   \u001b[0m | \u001b[36mALSampler\u001b[0m:\u001b[36msample_next_round\u001b[0m:\u001b[36m196\u001b[0m - \u001b[34m\u001b[1msearch for centroid: Frequency\u001b[0m\n",
      "\u001b[32m2024-04-04 23:42:53.115\u001b[0m | \u001b[34m\u001b[1mDEBUG   \u001b[0m | \u001b[36mALSampler\u001b[0m:\u001b[36msample_next_round\u001b[0m:\u001b[36m196\u001b[0m - \u001b[34m\u001b[1msearch for centroid: NEG\u001b[0m\n",
      "\u001b[32m2024-04-04 23:42:53.318\u001b[0m | \u001b[34m\u001b[1mDEBUG   \u001b[0m | \u001b[36mALSampler\u001b[0m:\u001b[36msample_next_round\u001b[0m:\u001b[36m196\u001b[0m - \u001b[34m\u001b[1msearch for centroid: Reason\u001b[0m\n",
      "\u001b[32m2024-04-04 23:42:53.471\u001b[0m | \u001b[34m\u001b[1mDEBUG   \u001b[0m | \u001b[36mALSampler\u001b[0m:\u001b[36msample_next_round\u001b[0m:\u001b[36m196\u001b[0m - \u001b[34m\u001b[1msearch for centroid: Route\u001b[0m\n",
      "\u001b[32m2024-04-04 23:42:53.678\u001b[0m | \u001b[34m\u001b[1mDEBUG   \u001b[0m | \u001b[36mALSampler\u001b[0m:\u001b[36msample_next_round\u001b[0m:\u001b[36m196\u001b[0m - \u001b[34m\u001b[1msearch for centroid: Strength\u001b[0m\n",
      "\u001b[32m2024-04-04 23:42:53.878\u001b[0m | \u001b[34m\u001b[1mDEBUG   \u001b[0m | \u001b[36mALSampler\u001b[0m:\u001b[36msort_dist_diff\u001b[0m:\u001b[36m158\u001b[0m - \u001b[34m\u001b[1mCompute max distance differences to centroids.\u001b[0m\n",
      "\u001b[32m2024-04-04 23:42:53.893\u001b[0m | \u001b[34m\u001b[1mDEBUG   \u001b[0m | \u001b[36mALSampler\u001b[0m:\u001b[36msample_next_round\u001b[0m:\u001b[36m205\u001b[0m - \u001b[34m\u001b[1mLocate the docs of these sentences\u001b[0m\n",
      "\u001b[32m2024-04-04 23:42:53.902\u001b[0m | \u001b[1mINFO    \u001b[0m | \u001b[36mALSampler\u001b[0m:\u001b[36mkeep_sample\u001b[0m:\u001b[36m39\u001b[0m - \u001b[1mcurrent sampled: 270, remaining: 33\u001b[0m\n",
      "\u001b[32m2024-04-04 23:43:27.661\u001b[0m | \u001b[34m\u001b[1mDEBUG   \u001b[0m | \u001b[36mCRFWrapper\u001b[0m:\u001b[36mfit\u001b[0m:\u001b[36m251\u001b[0m - \u001b[34m\u001b[1mReset and train CRF model...\u001b[0m\n",
      "\u001b[32m2024-04-04 23:52:51.838\u001b[0m | \u001b[34m\u001b[1mDEBUG   \u001b[0m | \u001b[36mCRFWrapper\u001b[0m:\u001b[36mfit\u001b[0m:\u001b[36m259\u001b[0m - \u001b[34m\u001b[1mTraining complete.\u001b[0m\n",
      "\u001b[32m2024-04-04 23:52:52.708\u001b[0m | \u001b[34m\u001b[1mDEBUG   \u001b[0m | \u001b[36mCRFWrapper\u001b[0m:\u001b[36mbootstrap_eval\u001b[0m:\u001b[36m280\u001b[0m - \u001b[34m\u001b[1mPredicting eval docs...\u001b[0m\n",
      "\u001b[32m2024-04-04 23:53:30.316\u001b[0m | \u001b[34m\u001b[1mDEBUG   \u001b[0m | \u001b[36mCRFWrapper\u001b[0m:\u001b[36mbootstrap_eval\u001b[0m:\u001b[36m284\u001b[0m - \u001b[34m\u001b[1mCalculate scores from bootstrapping 3 times\u001b[0m\n",
      "\u001b[32m2024-04-04 23:53:34.329\u001b[0m | \u001b[34m\u001b[1mDEBUG   \u001b[0m | \u001b[36mCRFWrapper\u001b[0m:\u001b[36mbootstrap_eval\u001b[0m:\u001b[36m293\u001b[0m - \u001b[34m\u001b[1mcomplete\u001b[0m\n",
      "\u001b[32m2024-04-04 23:53:34.460\u001b[0m | \u001b[34m\u001b[1mDEBUG   \u001b[0m | \u001b[36mALSampler\u001b[0m:\u001b[36msimulate_rounds\u001b[0m:\u001b[36m56\u001b[0m - \u001b[34m\u001b[1m{'precision': 0.9457913741711881, 'recall': 0.8568242975538931, 'f1': 0.8991089120539764}\u001b[0m\n",
      "\u001b[32m2024-04-04 23:53:34.462\u001b[0m | \u001b[1mINFO    \u001b[0m | \u001b[36mALSampler\u001b[0m:\u001b[36msimulate_rounds\u001b[0m:\u001b[36m45\u001b[0m - \u001b[1msimulate round 9.\u001b[0m\n",
      "\u001b[32m2024-04-04 23:53:34.464\u001b[0m | \u001b[34m\u001b[1mDEBUG   \u001b[0m | \u001b[36mALSampler\u001b[0m:\u001b[36msample_next_round\u001b[0m:\u001b[36m179\u001b[0m - \u001b[34m\u001b[1mCalculating centroids...\u001b[0m\n",
      "\u001b[32m2024-04-04 23:53:35.846\u001b[0m | \u001b[34m\u001b[1mDEBUG   \u001b[0m | \u001b[36mALSampler\u001b[0m:\u001b[36mfit\u001b[0m:\u001b[36m140\u001b[0m - \u001b[34m\u001b[1m10 centroids detected from the given sampled_docs\u001b[0m\n",
      "\u001b[32m2024-04-04 23:53:35.850\u001b[0m | \u001b[34m\u001b[1mDEBUG   \u001b[0m | \u001b[36mALSampler\u001b[0m:\u001b[36msample_next_round\u001b[0m:\u001b[36m182\u001b[0m - \u001b[34m\u001b[1mSearching from the vector index...\u001b[0m\n",
      "\u001b[32m2024-04-04 23:53:35.856\u001b[0m | \u001b[1mINFO    \u001b[0m | \u001b[36mALSampler\u001b[0m:\u001b[36msample_next_round\u001b[0m:\u001b[36m192\u001b[0m - \u001b[1mdistance shape: (47530, 10), max to retrieve 47501 sentences\u001b[0m\n",
      "\u001b[32m2024-04-04 23:53:35.857\u001b[0m | \u001b[34m\u001b[1mDEBUG   \u001b[0m | \u001b[36mALSampler\u001b[0m:\u001b[36msample_next_round\u001b[0m:\u001b[36m196\u001b[0m - \u001b[34m\u001b[1msearch for centroid: ADE\u001b[0m\n",
      "\u001b[32m2024-04-04 23:53:36.037\u001b[0m | \u001b[34m\u001b[1mDEBUG   \u001b[0m | \u001b[36mALSampler\u001b[0m:\u001b[36msample_next_round\u001b[0m:\u001b[36m196\u001b[0m - \u001b[34m\u001b[1msearch for centroid: Dosage\u001b[0m\n",
      "\u001b[32m2024-04-04 23:53:36.230\u001b[0m | \u001b[34m\u001b[1mDEBUG   \u001b[0m | \u001b[36mALSampler\u001b[0m:\u001b[36msample_next_round\u001b[0m:\u001b[36m196\u001b[0m - \u001b[34m\u001b[1msearch for centroid: Drug\u001b[0m\n",
      "\u001b[32m2024-04-04 23:53:36.423\u001b[0m | \u001b[34m\u001b[1mDEBUG   \u001b[0m | \u001b[36mALSampler\u001b[0m:\u001b[36msample_next_round\u001b[0m:\u001b[36m196\u001b[0m - \u001b[34m\u001b[1msearch for centroid: Duration\u001b[0m\n",
      "\u001b[32m2024-04-04 23:53:36.575\u001b[0m | \u001b[34m\u001b[1mDEBUG   \u001b[0m | \u001b[36mALSampler\u001b[0m:\u001b[36msample_next_round\u001b[0m:\u001b[36m196\u001b[0m - \u001b[34m\u001b[1msearch for centroid: Form\u001b[0m\n",
      "\u001b[32m2024-04-04 23:53:36.769\u001b[0m | \u001b[34m\u001b[1mDEBUG   \u001b[0m | \u001b[36mALSampler\u001b[0m:\u001b[36msample_next_round\u001b[0m:\u001b[36m196\u001b[0m - \u001b[34m\u001b[1msearch for centroid: Frequency\u001b[0m\n",
      "\u001b[32m2024-04-04 23:53:36.957\u001b[0m | \u001b[34m\u001b[1mDEBUG   \u001b[0m | \u001b[36mALSampler\u001b[0m:\u001b[36msample_next_round\u001b[0m:\u001b[36m196\u001b[0m - \u001b[34m\u001b[1msearch for centroid: NEG\u001b[0m\n",
      "\u001b[32m2024-04-04 23:53:37.098\u001b[0m | \u001b[34m\u001b[1mDEBUG   \u001b[0m | \u001b[36mALSampler\u001b[0m:\u001b[36msample_next_round\u001b[0m:\u001b[36m196\u001b[0m - \u001b[34m\u001b[1msearch for centroid: Reason\u001b[0m\n",
      "\u001b[32m2024-04-04 23:53:37.290\u001b[0m | \u001b[34m\u001b[1mDEBUG   \u001b[0m | \u001b[36mALSampler\u001b[0m:\u001b[36msample_next_round\u001b[0m:\u001b[36m196\u001b[0m - \u001b[34m\u001b[1msearch for centroid: Route\u001b[0m\n",
      "\u001b[32m2024-04-04 23:53:37.471\u001b[0m | \u001b[34m\u001b[1mDEBUG   \u001b[0m | \u001b[36mALSampler\u001b[0m:\u001b[36msample_next_round\u001b[0m:\u001b[36m196\u001b[0m - \u001b[34m\u001b[1msearch for centroid: Strength\u001b[0m\n",
      "\u001b[32m2024-04-04 23:53:37.645\u001b[0m | \u001b[34m\u001b[1mDEBUG   \u001b[0m | \u001b[36mALSampler\u001b[0m:\u001b[36msort_dist_diff\u001b[0m:\u001b[36m158\u001b[0m - \u001b[34m\u001b[1mCompute max distance differences to centroids.\u001b[0m\n",
      "\u001b[32m2024-04-04 23:53:37.659\u001b[0m | \u001b[34m\u001b[1mDEBUG   \u001b[0m | \u001b[36mALSampler\u001b[0m:\u001b[36msample_next_round\u001b[0m:\u001b[36m205\u001b[0m - \u001b[34m\u001b[1mLocate the docs of these sentences\u001b[0m\n",
      "\u001b[32m2024-04-04 23:53:37.666\u001b[0m | \u001b[1mINFO    \u001b[0m | \u001b[36mALSampler\u001b[0m:\u001b[36mkeep_sample\u001b[0m:\u001b[36m39\u001b[0m - \u001b[1mcurrent sampled: 300, remaining: 3\u001b[0m\n",
      "\u001b[32m2024-04-04 23:53:37.668\u001b[0m | \u001b[1mINFO    \u001b[0m | \u001b[36mALSampler\u001b[0m:\u001b[36msimulate_rounds\u001b[0m:\u001b[36m50\u001b[0m - \u001b[1mIt's the last round, now add all docs to sampled.\u001b[0m\n",
      "\u001b[32m2024-04-04 23:54:14.527\u001b[0m | \u001b[34m\u001b[1mDEBUG   \u001b[0m | \u001b[36mCRFWrapper\u001b[0m:\u001b[36mfit\u001b[0m:\u001b[36m251\u001b[0m - \u001b[34m\u001b[1mReset and train CRF model...\u001b[0m\n",
      "\u001b[32m2024-04-05 00:04:40.173\u001b[0m | \u001b[34m\u001b[1mDEBUG   \u001b[0m | \u001b[36mCRFWrapper\u001b[0m:\u001b[36mfit\u001b[0m:\u001b[36m259\u001b[0m - \u001b[34m\u001b[1mTraining complete.\u001b[0m\n",
      "\u001b[32m2024-04-05 00:04:41.242\u001b[0m | \u001b[34m\u001b[1mDEBUG   \u001b[0m | \u001b[36mCRFWrapper\u001b[0m:\u001b[36mbootstrap_eval\u001b[0m:\u001b[36m280\u001b[0m - \u001b[34m\u001b[1mPredicting eval docs...\u001b[0m\n",
      "\u001b[32m2024-04-05 00:05:17.846\u001b[0m | \u001b[34m\u001b[1mDEBUG   \u001b[0m | \u001b[36mCRFWrapper\u001b[0m:\u001b[36mbootstrap_eval\u001b[0m:\u001b[36m284\u001b[0m - \u001b[34m\u001b[1mCalculate scores from bootstrapping 3 times\u001b[0m\n",
      "\u001b[32m2024-04-05 00:05:21.855\u001b[0m | \u001b[34m\u001b[1mDEBUG   \u001b[0m | \u001b[36mCRFWrapper\u001b[0m:\u001b[36mbootstrap_eval\u001b[0m:\u001b[36m293\u001b[0m - \u001b[34m\u001b[1mcomplete\u001b[0m\n",
      "\u001b[32m2024-04-05 00:05:21.991\u001b[0m | \u001b[34m\u001b[1mDEBUG   \u001b[0m | \u001b[36mALSampler\u001b[0m:\u001b[36msimulate_rounds\u001b[0m:\u001b[36m56\u001b[0m - \u001b[34m\u001b[1m{'precision': 0.947498796899501, 'recall': 0.8610233113264177, 'f1': 0.9021932305095621}\u001b[0m\n"
     ]
    }
   ],
   "source": [
    "scores=r_simulator.simulate_rounds(boostrap_times=3)"
   ]
  },
  {
   "cell_type": "code",
   "execution_count": 15,
   "id": "5f4f8af2-d1f0-4a5a-a0ee-2a1865f1d263",
   "metadata": {},
   "outputs": [],
   "source": [
    "def compute_mean_ci(scores):\n",
    "    ave=np.mean(scores)\n",
    "    ci=np.percentile(scores, [2.5, 97.5])\n",
    "    return ave, ci\n",
    "\n",
    "summary={'precision': [], 'pl':[], 'pu': [], 'recall': [], 'rl':[], 'ru': [], 'f1':[], 'fl':[], 'fu': []}\n",
    "for s in scores:    \n",
    "    for k,v in s.items():\n",
    "        ave, (l, u)=compute_mean_ci(v)\n",
    "        summary[k].append(ave)\n",
    "        summary[k[0]+'l'].append(l)\n",
    "        summary[k[0]+'u'].append(u)\n"
   ]
  },
  {
   "cell_type": "code",
   "execution_count": 16,
   "id": "e7552a54-9ddf-4152-a490-b65ae047919e",
   "metadata": {},
   "outputs": [
    {
     "data": {
      "text/html": [
       "<div>\n",
       "<style scoped>\n",
       "    .dataframe tbody tr th:only-of-type {\n",
       "        vertical-align: middle;\n",
       "    }\n",
       "\n",
       "    .dataframe tbody tr th {\n",
       "        vertical-align: top;\n",
       "    }\n",
       "\n",
       "    .dataframe thead th {\n",
       "        text-align: right;\n",
       "    }\n",
       "</style>\n",
       "<table border=\"1\" class=\"dataframe\">\n",
       "  <thead>\n",
       "    <tr style=\"text-align: right;\">\n",
       "      <th></th>\n",
       "      <th>precision</th>\n",
       "      <th>pl</th>\n",
       "      <th>pu</th>\n",
       "      <th>recall</th>\n",
       "      <th>rl</th>\n",
       "      <th>ru</th>\n",
       "      <th>f1</th>\n",
       "      <th>fl</th>\n",
       "      <th>fu</th>\n",
       "    </tr>\n",
       "  </thead>\n",
       "  <tbody>\n",
       "    <tr>\n",
       "      <th>0</th>\n",
       "      <td>0.942246</td>\n",
       "      <td>0.941630</td>\n",
       "      <td>0.942988</td>\n",
       "      <td>0.776956</td>\n",
       "      <td>0.774381</td>\n",
       "      <td>0.780254</td>\n",
       "      <td>0.851653</td>\n",
       "      <td>0.849855</td>\n",
       "      <td>0.853937</td>\n",
       "    </tr>\n",
       "    <tr>\n",
       "      <th>1</th>\n",
       "      <td>0.939879</td>\n",
       "      <td>0.939207</td>\n",
       "      <td>0.940350</td>\n",
       "      <td>0.813052</td>\n",
       "      <td>0.809604</td>\n",
       "      <td>0.816221</td>\n",
       "      <td>0.871875</td>\n",
       "      <td>0.869971</td>\n",
       "      <td>0.873879</td>\n",
       "    </tr>\n",
       "    <tr>\n",
       "      <th>2</th>\n",
       "      <td>0.939547</td>\n",
       "      <td>0.937581</td>\n",
       "      <td>0.941075</td>\n",
       "      <td>0.822603</td>\n",
       "      <td>0.820527</td>\n",
       "      <td>0.825724</td>\n",
       "      <td>0.877190</td>\n",
       "      <td>0.876260</td>\n",
       "      <td>0.878127</td>\n",
       "    </tr>\n",
       "    <tr>\n",
       "      <th>3</th>\n",
       "      <td>0.944308</td>\n",
       "      <td>0.943111</td>\n",
       "      <td>0.946018</td>\n",
       "      <td>0.837092</td>\n",
       "      <td>0.834839</td>\n",
       "      <td>0.839625</td>\n",
       "      <td>0.887472</td>\n",
       "      <td>0.885732</td>\n",
       "      <td>0.888681</td>\n",
       "    </tr>\n",
       "    <tr>\n",
       "      <th>4</th>\n",
       "      <td>0.945256</td>\n",
       "      <td>0.944303</td>\n",
       "      <td>0.946406</td>\n",
       "      <td>0.845447</td>\n",
       "      <td>0.843417</td>\n",
       "      <td>0.848065</td>\n",
       "      <td>0.892568</td>\n",
       "      <td>0.891948</td>\n",
       "      <td>0.893600</td>\n",
       "    </tr>\n",
       "    <tr>\n",
       "      <th>5</th>\n",
       "      <td>0.941062</td>\n",
       "      <td>0.939423</td>\n",
       "      <td>0.943176</td>\n",
       "      <td>0.850685</td>\n",
       "      <td>0.847509</td>\n",
       "      <td>0.853065</td>\n",
       "      <td>0.893589</td>\n",
       "      <td>0.892786</td>\n",
       "      <td>0.894164</td>\n",
       "    </tr>\n",
       "    <tr>\n",
       "      <th>6</th>\n",
       "      <td>0.944856</td>\n",
       "      <td>0.942882</td>\n",
       "      <td>0.946125</td>\n",
       "      <td>0.853192</td>\n",
       "      <td>0.852803</td>\n",
       "      <td>0.853750</td>\n",
       "      <td>0.896687</td>\n",
       "      <td>0.895583</td>\n",
       "      <td>0.897567</td>\n",
       "    </tr>\n",
       "    <tr>\n",
       "      <th>7</th>\n",
       "      <td>0.945070</td>\n",
       "      <td>0.943365</td>\n",
       "      <td>0.946529</td>\n",
       "      <td>0.854524</td>\n",
       "      <td>0.850910</td>\n",
       "      <td>0.857363</td>\n",
       "      <td>0.897514</td>\n",
       "      <td>0.896176</td>\n",
       "      <td>0.898310</td>\n",
       "    </tr>\n",
       "    <tr>\n",
       "      <th>8</th>\n",
       "      <td>0.945791</td>\n",
       "      <td>0.944488</td>\n",
       "      <td>0.947165</td>\n",
       "      <td>0.856824</td>\n",
       "      <td>0.854951</td>\n",
       "      <td>0.860053</td>\n",
       "      <td>0.899109</td>\n",
       "      <td>0.898077</td>\n",
       "      <td>0.900329</td>\n",
       "    </tr>\n",
       "    <tr>\n",
       "      <th>9</th>\n",
       "      <td>0.947499</td>\n",
       "      <td>0.945725</td>\n",
       "      <td>0.949551</td>\n",
       "      <td>0.861023</td>\n",
       "      <td>0.857975</td>\n",
       "      <td>0.863436</td>\n",
       "      <td>0.902193</td>\n",
       "      <td>0.899715</td>\n",
       "      <td>0.904448</td>\n",
       "    </tr>\n",
       "  </tbody>\n",
       "</table>\n",
       "</div>"
      ],
      "text/plain": [
       "   precision        pl        pu    recall        rl        ru        f1  \\\n",
       "0   0.942246  0.941630  0.942988  0.776956  0.774381  0.780254  0.851653   \n",
       "1   0.939879  0.939207  0.940350  0.813052  0.809604  0.816221  0.871875   \n",
       "2   0.939547  0.937581  0.941075  0.822603  0.820527  0.825724  0.877190   \n",
       "3   0.944308  0.943111  0.946018  0.837092  0.834839  0.839625  0.887472   \n",
       "4   0.945256  0.944303  0.946406  0.845447  0.843417  0.848065  0.892568   \n",
       "5   0.941062  0.939423  0.943176  0.850685  0.847509  0.853065  0.893589   \n",
       "6   0.944856  0.942882  0.946125  0.853192  0.852803  0.853750  0.896687   \n",
       "7   0.945070  0.943365  0.946529  0.854524  0.850910  0.857363  0.897514   \n",
       "8   0.945791  0.944488  0.947165  0.856824  0.854951  0.860053  0.899109   \n",
       "9   0.947499  0.945725  0.949551  0.861023  0.857975  0.863436  0.902193   \n",
       "\n",
       "         fl        fu  \n",
       "0  0.849855  0.853937  \n",
       "1  0.869971  0.873879  \n",
       "2  0.876260  0.878127  \n",
       "3  0.885732  0.888681  \n",
       "4  0.891948  0.893600  \n",
       "5  0.892786  0.894164  \n",
       "6  0.895583  0.897567  \n",
       "7  0.896176  0.898310  \n",
       "8  0.898077  0.900329  \n",
       "9  0.899715  0.904448  "
      ]
     },
     "execution_count": 16,
     "metadata": {},
     "output_type": "execute_result"
    }
   ],
   "source": [
    "pd.DataFrame(summary)"
   ]
  },
  {
   "cell_type": "code",
   "execution_count": null,
   "id": "39559314-f045-458b-95e7-dd582861c5b6",
   "metadata": {},
   "outputs": [],
   "source": []
  },
  {
   "cell_type": "markdown",
   "id": "f4b51bd0-6d3e-4141-b4f3-415e27d84914",
   "metadata": {},
   "source": [
    "## Bootstrap 3 runs"
   ]
  },
  {
   "cell_type": "code",
   "execution_count": 17,
   "id": "2dfbec7b-865d-4c3d-b233-1798b36be9aa",
   "metadata": {},
   "outputs": [
    {
     "data": {
      "text/plain": [
       "1"
      ]
     },
     "execution_count": 17,
     "metadata": {},
     "output_type": "execute_result"
    }
   ],
   "source": [
    "logger.remove()\n",
    "logger.add(sys.stderr, level='INFO')"
   ]
  },
  {
   "cell_type": "code",
   "execution_count": 15,
   "id": "aa0818ee-3bdf-4c16-abb6-cc71054c2cd8",
   "metadata": {},
   "outputs": [],
   "source": [
    "boostrap_runs=3\n",
    "total_round=10"
   ]
  },
  {
   "cell_type": "code",
   "execution_count": 16,
   "id": "fb1ecb94-8454-4765-ae6e-aeeb6d501e3f",
   "metadata": {},
   "outputs": [
    {
     "data": {
      "text/plain": [
       "[1792286, 8843471, 4142887]"
      ]
     },
     "execution_count": 16,
     "metadata": {},
     "output_type": "execute_result"
    }
   ],
   "source": [
    "random.seed(14)\n",
    "seeds=[random.randint(1,10000000) for  _ in range(boostrap_runs)]\n",
    "seeds"
   ]
  },
  {
   "cell_type": "code",
   "execution_count": 17,
   "id": "6a39c3bc-d4e6-452f-971a-c57849235765",
   "metadata": {},
   "outputs": [
    {
     "name": "stderr",
     "output_type": "stream",
     "text": [
      "\u001b[32m2024-03-24 21:53:27.141\u001b[0m | \u001b[1mINFO    \u001b[0m | \u001b[36m__main__\u001b[0m:\u001b[36m<module>\u001b[0m:\u001b[36m4\u001b[0m - \u001b[1mstart run 0.\u001b[0m\n",
      "\u001b[32m2024-03-24 21:53:37.286\u001b[0m | \u001b[1mINFO    \u001b[0m | \u001b[36mALSampler\u001b[0m:\u001b[36msimulate_rounds\u001b[0m:\u001b[36m45\u001b[0m - \u001b[1msimulate round 0.\u001b[0m\n",
      "\u001b[32m2024-03-24 21:53:37.289\u001b[0m | \u001b[1mINFO    \u001b[0m | \u001b[36mALSampler\u001b[0m:\u001b[36mkeep_sample\u001b[0m:\u001b[36m39\u001b[0m - \u001b[1mcurrent sampled: 30, remaining: 273\u001b[0m\n",
      "\u001b[32m2024-03-24 21:59:31.233\u001b[0m | \u001b[1mINFO    \u001b[0m | \u001b[36mALSampler\u001b[0m:\u001b[36msimulate_rounds\u001b[0m:\u001b[36m45\u001b[0m - \u001b[1msimulate round 1.\u001b[0m\n",
      "\u001b[32m2024-03-24 21:59:31.612\u001b[0m | \u001b[1mINFO    \u001b[0m | \u001b[36mALSampler\u001b[0m:\u001b[36msample_next_round\u001b[0m:\u001b[36m192\u001b[0m - \u001b[1mdistance shape: (47530, 10), max to retrieve 47501 sentences\u001b[0m\n",
      "\u001b[32m2024-03-24 21:59:33.539\u001b[0m | \u001b[1mINFO    \u001b[0m | \u001b[36mALSampler\u001b[0m:\u001b[36mkeep_sample\u001b[0m:\u001b[36m39\u001b[0m - \u001b[1mcurrent sampled: 60, remaining: 243\u001b[0m\n",
      "\u001b[32m2024-03-24 22:06:38.235\u001b[0m | \u001b[1mINFO    \u001b[0m | \u001b[36mALSampler\u001b[0m:\u001b[36msimulate_rounds\u001b[0m:\u001b[36m45\u001b[0m - \u001b[1msimulate round 2.\u001b[0m\n",
      "\u001b[32m2024-03-24 22:06:38.764\u001b[0m | \u001b[1mINFO    \u001b[0m | \u001b[36mALSampler\u001b[0m:\u001b[36msample_next_round\u001b[0m:\u001b[36m192\u001b[0m - \u001b[1mdistance shape: (47530, 10), max to retrieve 47501 sentences\u001b[0m\n",
      "\u001b[32m2024-03-24 22:06:40.669\u001b[0m | \u001b[1mINFO    \u001b[0m | \u001b[36mALSampler\u001b[0m:\u001b[36mkeep_sample\u001b[0m:\u001b[36m39\u001b[0m - \u001b[1mcurrent sampled: 90, remaining: 213\u001b[0m\n",
      "\u001b[32m2024-03-24 22:14:59.070\u001b[0m | \u001b[1mINFO    \u001b[0m | \u001b[36mALSampler\u001b[0m:\u001b[36msimulate_rounds\u001b[0m:\u001b[36m45\u001b[0m - \u001b[1msimulate round 3.\u001b[0m\n",
      "\u001b[32m2024-03-24 22:14:59.732\u001b[0m | \u001b[1mINFO    \u001b[0m | \u001b[36mALSampler\u001b[0m:\u001b[36msample_next_round\u001b[0m:\u001b[36m192\u001b[0m - \u001b[1mdistance shape: (47530, 10), max to retrieve 47501 sentences\u001b[0m\n",
      "\u001b[32m2024-03-24 22:15:01.617\u001b[0m | \u001b[1mINFO    \u001b[0m | \u001b[36mALSampler\u001b[0m:\u001b[36mkeep_sample\u001b[0m:\u001b[36m39\u001b[0m - \u001b[1mcurrent sampled: 120, remaining: 183\u001b[0m\n",
      "\u001b[32m2024-03-24 22:24:18.011\u001b[0m | \u001b[1mINFO    \u001b[0m | \u001b[36mALSampler\u001b[0m:\u001b[36msimulate_rounds\u001b[0m:\u001b[36m45\u001b[0m - \u001b[1msimulate round 4.\u001b[0m\n",
      "\u001b[32m2024-03-24 22:24:18.763\u001b[0m | \u001b[1mINFO    \u001b[0m | \u001b[36mALSampler\u001b[0m:\u001b[36msample_next_round\u001b[0m:\u001b[36m192\u001b[0m - \u001b[1mdistance shape: (47530, 10), max to retrieve 47501 sentences\u001b[0m\n",
      "\u001b[32m2024-03-24 22:24:20.576\u001b[0m | \u001b[1mINFO    \u001b[0m | \u001b[36mALSampler\u001b[0m:\u001b[36mkeep_sample\u001b[0m:\u001b[36m39\u001b[0m - \u001b[1mcurrent sampled: 150, remaining: 153\u001b[0m\n",
      "\u001b[32m2024-03-24 22:34:41.210\u001b[0m | \u001b[1mINFO    \u001b[0m | \u001b[36mALSampler\u001b[0m:\u001b[36msimulate_rounds\u001b[0m:\u001b[36m45\u001b[0m - \u001b[1msimulate round 5.\u001b[0m\n",
      "\u001b[32m2024-03-24 22:34:42.104\u001b[0m | \u001b[1mINFO    \u001b[0m | \u001b[36mALSampler\u001b[0m:\u001b[36msample_next_round\u001b[0m:\u001b[36m192\u001b[0m - \u001b[1mdistance shape: (47530, 10), max to retrieve 47501 sentences\u001b[0m\n",
      "\u001b[32m2024-03-24 22:34:43.958\u001b[0m | \u001b[1mINFO    \u001b[0m | \u001b[36mALSampler\u001b[0m:\u001b[36mkeep_sample\u001b[0m:\u001b[36m39\u001b[0m - \u001b[1mcurrent sampled: 180, remaining: 123\u001b[0m\n",
      "\u001b[32m2024-03-24 22:46:27.221\u001b[0m | \u001b[1mINFO    \u001b[0m | \u001b[36mALSampler\u001b[0m:\u001b[36msimulate_rounds\u001b[0m:\u001b[36m45\u001b[0m - \u001b[1msimulate round 6.\u001b[0m\n",
      "\u001b[32m2024-03-24 22:46:28.296\u001b[0m | \u001b[1mINFO    \u001b[0m | \u001b[36mALSampler\u001b[0m:\u001b[36msample_next_round\u001b[0m:\u001b[36m192\u001b[0m - \u001b[1mdistance shape: (47530, 10), max to retrieve 47501 sentences\u001b[0m\n",
      "\u001b[32m2024-03-24 22:46:30.105\u001b[0m | \u001b[1mINFO    \u001b[0m | \u001b[36mALSampler\u001b[0m:\u001b[36mkeep_sample\u001b[0m:\u001b[36m39\u001b[0m - \u001b[1mcurrent sampled: 210, remaining: 93\u001b[0m\n",
      "\u001b[32m2024-03-24 22:59:07.385\u001b[0m | \u001b[1mINFO    \u001b[0m | \u001b[36mALSampler\u001b[0m:\u001b[36msimulate_rounds\u001b[0m:\u001b[36m45\u001b[0m - \u001b[1msimulate round 7.\u001b[0m\n",
      "\u001b[32m2024-03-24 22:59:08.612\u001b[0m | \u001b[1mINFO    \u001b[0m | \u001b[36mALSampler\u001b[0m:\u001b[36msample_next_round\u001b[0m:\u001b[36m192\u001b[0m - \u001b[1mdistance shape: (47530, 10), max to retrieve 47501 sentences\u001b[0m\n",
      "\u001b[32m2024-03-24 22:59:10.461\u001b[0m | \u001b[1mINFO    \u001b[0m | \u001b[36mALSampler\u001b[0m:\u001b[36mkeep_sample\u001b[0m:\u001b[36m39\u001b[0m - \u001b[1mcurrent sampled: 240, remaining: 63\u001b[0m\n",
      "\u001b[32m2024-03-24 23:12:46.511\u001b[0m | \u001b[1mINFO    \u001b[0m | \u001b[36mALSampler\u001b[0m:\u001b[36msimulate_rounds\u001b[0m:\u001b[36m45\u001b[0m - \u001b[1msimulate round 8.\u001b[0m\n",
      "\u001b[32m2024-03-24 23:12:47.754\u001b[0m | \u001b[1mINFO    \u001b[0m | \u001b[36mALSampler\u001b[0m:\u001b[36msample_next_round\u001b[0m:\u001b[36m192\u001b[0m - \u001b[1mdistance shape: (47530, 10), max to retrieve 47501 sentences\u001b[0m\n",
      "\u001b[32m2024-03-24 23:12:49.487\u001b[0m | \u001b[1mINFO    \u001b[0m | \u001b[36mALSampler\u001b[0m:\u001b[36mkeep_sample\u001b[0m:\u001b[36m39\u001b[0m - \u001b[1mcurrent sampled: 270, remaining: 33\u001b[0m\n",
      "\u001b[32m2024-03-24 23:27:35.677\u001b[0m | \u001b[1mINFO    \u001b[0m | \u001b[36mALSampler\u001b[0m:\u001b[36msimulate_rounds\u001b[0m:\u001b[36m45\u001b[0m - \u001b[1msimulate round 9.\u001b[0m\n",
      "\u001b[32m2024-03-24 23:27:37.121\u001b[0m | \u001b[1mINFO    \u001b[0m | \u001b[36mALSampler\u001b[0m:\u001b[36msample_next_round\u001b[0m:\u001b[36m192\u001b[0m - \u001b[1mdistance shape: (47530, 10), max to retrieve 47501 sentences\u001b[0m\n",
      "\u001b[32m2024-03-24 23:27:38.917\u001b[0m | \u001b[1mINFO    \u001b[0m | \u001b[36mALSampler\u001b[0m:\u001b[36mkeep_sample\u001b[0m:\u001b[36m39\u001b[0m - \u001b[1mcurrent sampled: 300, remaining: 3\u001b[0m\n",
      "\u001b[32m2024-03-24 23:27:38.921\u001b[0m | \u001b[1mINFO    \u001b[0m | \u001b[36mALSampler\u001b[0m:\u001b[36msimulate_rounds\u001b[0m:\u001b[36m50\u001b[0m - \u001b[1mIt's the last round, now add all docs to sampled.\u001b[0m\n",
      "\u001b[32m2024-03-24 23:43:20.653\u001b[0m | \u001b[1mINFO    \u001b[0m | \u001b[36m__main__\u001b[0m:\u001b[36m<module>\u001b[0m:\u001b[36m4\u001b[0m - \u001b[1mstart run 1.\u001b[0m\n",
      "\u001b[32m2024-03-24 23:43:30.710\u001b[0m | \u001b[1mINFO    \u001b[0m | \u001b[36mALSampler\u001b[0m:\u001b[36msimulate_rounds\u001b[0m:\u001b[36m45\u001b[0m - \u001b[1msimulate round 0.\u001b[0m\n",
      "\u001b[32m2024-03-24 23:43:30.713\u001b[0m | \u001b[1mINFO    \u001b[0m | \u001b[36mALSampler\u001b[0m:\u001b[36mkeep_sample\u001b[0m:\u001b[36m39\u001b[0m - \u001b[1mcurrent sampled: 30, remaining: 273\u001b[0m\n",
      "\u001b[32m2024-03-24 23:49:16.044\u001b[0m | \u001b[1mINFO    \u001b[0m | \u001b[36mALSampler\u001b[0m:\u001b[36msimulate_rounds\u001b[0m:\u001b[36m45\u001b[0m - \u001b[1msimulate round 1.\u001b[0m\n",
      "\u001b[32m2024-03-24 23:49:16.405\u001b[0m | \u001b[1mINFO    \u001b[0m | \u001b[36mALSampler\u001b[0m:\u001b[36msample_next_round\u001b[0m:\u001b[36m192\u001b[0m - \u001b[1mdistance shape: (47530, 10), max to retrieve 47501 sentences\u001b[0m\n",
      "\u001b[32m2024-03-24 23:49:18.337\u001b[0m | \u001b[1mINFO    \u001b[0m | \u001b[36mALSampler\u001b[0m:\u001b[36mkeep_sample\u001b[0m:\u001b[36m39\u001b[0m - \u001b[1mcurrent sampled: 60, remaining: 243\u001b[0m\n",
      "\u001b[32m2024-03-24 23:56:07.503\u001b[0m | \u001b[1mINFO    \u001b[0m | \u001b[36mALSampler\u001b[0m:\u001b[36msimulate_rounds\u001b[0m:\u001b[36m45\u001b[0m - \u001b[1msimulate round 2.\u001b[0m\n",
      "\u001b[32m2024-03-24 23:56:08.003\u001b[0m | \u001b[1mINFO    \u001b[0m | \u001b[36mALSampler\u001b[0m:\u001b[36msample_next_round\u001b[0m:\u001b[36m192\u001b[0m - \u001b[1mdistance shape: (47530, 10), max to retrieve 47501 sentences\u001b[0m\n",
      "\u001b[32m2024-03-24 23:56:09.923\u001b[0m | \u001b[1mINFO    \u001b[0m | \u001b[36mALSampler\u001b[0m:\u001b[36mkeep_sample\u001b[0m:\u001b[36m39\u001b[0m - \u001b[1mcurrent sampled: 90, remaining: 213\u001b[0m\n",
      "\u001b[32m2024-03-25 00:04:10.223\u001b[0m | \u001b[1mINFO    \u001b[0m | \u001b[36mALSampler\u001b[0m:\u001b[36msimulate_rounds\u001b[0m:\u001b[36m45\u001b[0m - \u001b[1msimulate round 3.\u001b[0m\n",
      "\u001b[32m2024-03-25 00:04:10.858\u001b[0m | \u001b[1mINFO    \u001b[0m | \u001b[36mALSampler\u001b[0m:\u001b[36msample_next_round\u001b[0m:\u001b[36m192\u001b[0m - \u001b[1mdistance shape: (47530, 10), max to retrieve 47501 sentences\u001b[0m\n",
      "\u001b[32m2024-03-25 00:04:12.720\u001b[0m | \u001b[1mINFO    \u001b[0m | \u001b[36mALSampler\u001b[0m:\u001b[36mkeep_sample\u001b[0m:\u001b[36m39\u001b[0m - \u001b[1mcurrent sampled: 120, remaining: 183\u001b[0m\n",
      "\u001b[32m2024-03-25 00:13:17.068\u001b[0m | \u001b[1mINFO    \u001b[0m | \u001b[36mALSampler\u001b[0m:\u001b[36msimulate_rounds\u001b[0m:\u001b[36m45\u001b[0m - \u001b[1msimulate round 4.\u001b[0m\n",
      "\u001b[32m2024-03-25 00:13:17.816\u001b[0m | \u001b[1mINFO    \u001b[0m | \u001b[36mALSampler\u001b[0m:\u001b[36msample_next_round\u001b[0m:\u001b[36m192\u001b[0m - \u001b[1mdistance shape: (47530, 10), max to retrieve 47501 sentences\u001b[0m\n",
      "\u001b[32m2024-03-25 00:13:19.648\u001b[0m | \u001b[1mINFO    \u001b[0m | \u001b[36mALSampler\u001b[0m:\u001b[36mkeep_sample\u001b[0m:\u001b[36m39\u001b[0m - \u001b[1mcurrent sampled: 150, remaining: 153\u001b[0m\n",
      "\u001b[32m2024-03-25 00:23:26.654\u001b[0m | \u001b[1mINFO    \u001b[0m | \u001b[36mALSampler\u001b[0m:\u001b[36msimulate_rounds\u001b[0m:\u001b[36m45\u001b[0m - \u001b[1msimulate round 5.\u001b[0m\n",
      "\u001b[32m2024-03-25 00:23:27.527\u001b[0m | \u001b[1mINFO    \u001b[0m | \u001b[36mALSampler\u001b[0m:\u001b[36msample_next_round\u001b[0m:\u001b[36m192\u001b[0m - \u001b[1mdistance shape: (47530, 10), max to retrieve 47501 sentences\u001b[0m\n",
      "\u001b[32m2024-03-25 00:23:29.364\u001b[0m | \u001b[1mINFO    \u001b[0m | \u001b[36mALSampler\u001b[0m:\u001b[36mkeep_sample\u001b[0m:\u001b[36m39\u001b[0m - \u001b[1mcurrent sampled: 180, remaining: 123\u001b[0m\n",
      "\u001b[32m2024-03-25 00:34:35.364\u001b[0m | \u001b[1mINFO    \u001b[0m | \u001b[36mALSampler\u001b[0m:\u001b[36msimulate_rounds\u001b[0m:\u001b[36m45\u001b[0m - \u001b[1msimulate round 6.\u001b[0m\n",
      "\u001b[32m2024-03-25 00:34:36.363\u001b[0m | \u001b[1mINFO    \u001b[0m | \u001b[36mALSampler\u001b[0m:\u001b[36msample_next_round\u001b[0m:\u001b[36m192\u001b[0m - \u001b[1mdistance shape: (47530, 10), max to retrieve 47501 sentences\u001b[0m\n",
      "\u001b[32m2024-03-25 00:34:38.170\u001b[0m | \u001b[1mINFO    \u001b[0m | \u001b[36mALSampler\u001b[0m:\u001b[36mkeep_sample\u001b[0m:\u001b[36m39\u001b[0m - \u001b[1mcurrent sampled: 210, remaining: 93\u001b[0m\n",
      "\u001b[32m2024-03-25 00:46:53.816\u001b[0m | \u001b[1mINFO    \u001b[0m | \u001b[36mALSampler\u001b[0m:\u001b[36msimulate_rounds\u001b[0m:\u001b[36m45\u001b[0m - \u001b[1msimulate round 7.\u001b[0m\n",
      "\u001b[32m2024-03-25 00:46:54.944\u001b[0m | \u001b[1mINFO    \u001b[0m | \u001b[36mALSampler\u001b[0m:\u001b[36msample_next_round\u001b[0m:\u001b[36m192\u001b[0m - \u001b[1mdistance shape: (47530, 10), max to retrieve 47501 sentences\u001b[0m\n",
      "\u001b[32m2024-03-25 00:46:56.769\u001b[0m | \u001b[1mINFO    \u001b[0m | \u001b[36mALSampler\u001b[0m:\u001b[36mkeep_sample\u001b[0m:\u001b[36m39\u001b[0m - \u001b[1mcurrent sampled: 240, remaining: 63\u001b[0m\n",
      "\u001b[32m2024-03-25 01:00:12.637\u001b[0m | \u001b[1mINFO    \u001b[0m | \u001b[36mALSampler\u001b[0m:\u001b[36msimulate_rounds\u001b[0m:\u001b[36m45\u001b[0m - \u001b[1msimulate round 8.\u001b[0m\n",
      "\u001b[32m2024-03-25 01:00:13.890\u001b[0m | \u001b[1mINFO    \u001b[0m | \u001b[36mALSampler\u001b[0m:\u001b[36msample_next_round\u001b[0m:\u001b[36m192\u001b[0m - \u001b[1mdistance shape: (47530, 10), max to retrieve 47501 sentences\u001b[0m\n",
      "\u001b[32m2024-03-25 01:00:15.661\u001b[0m | \u001b[1mINFO    \u001b[0m | \u001b[36mALSampler\u001b[0m:\u001b[36mkeep_sample\u001b[0m:\u001b[36m39\u001b[0m - \u001b[1mcurrent sampled: 270, remaining: 33\u001b[0m\n",
      "\u001b[32m2024-03-25 01:14:45.595\u001b[0m | \u001b[1mINFO    \u001b[0m | \u001b[36mALSampler\u001b[0m:\u001b[36msimulate_rounds\u001b[0m:\u001b[36m45\u001b[0m - \u001b[1msimulate round 9.\u001b[0m\n",
      "\u001b[32m2024-03-25 01:14:46.946\u001b[0m | \u001b[1mINFO    \u001b[0m | \u001b[36mALSampler\u001b[0m:\u001b[36msample_next_round\u001b[0m:\u001b[36m192\u001b[0m - \u001b[1mdistance shape: (47530, 10), max to retrieve 47501 sentences\u001b[0m\n",
      "\u001b[32m2024-03-25 01:14:48.610\u001b[0m | \u001b[1mINFO    \u001b[0m | \u001b[36mALSampler\u001b[0m:\u001b[36mkeep_sample\u001b[0m:\u001b[36m39\u001b[0m - \u001b[1mcurrent sampled: 300, remaining: 3\u001b[0m\n",
      "\u001b[32m2024-03-25 01:14:48.614\u001b[0m | \u001b[1mINFO    \u001b[0m | \u001b[36mALSampler\u001b[0m:\u001b[36msimulate_rounds\u001b[0m:\u001b[36m50\u001b[0m - \u001b[1mIt's the last round, now add all docs to sampled.\u001b[0m\n",
      "\u001b[32m2024-03-25 01:30:19.391\u001b[0m | \u001b[1mINFO    \u001b[0m | \u001b[36m__main__\u001b[0m:\u001b[36m<module>\u001b[0m:\u001b[36m4\u001b[0m - \u001b[1mstart run 2.\u001b[0m\n",
      "\u001b[32m2024-03-25 01:30:29.110\u001b[0m | \u001b[1mINFO    \u001b[0m | \u001b[36mALSampler\u001b[0m:\u001b[36msimulate_rounds\u001b[0m:\u001b[36m45\u001b[0m - \u001b[1msimulate round 0.\u001b[0m\n",
      "\u001b[32m2024-03-25 01:30:29.113\u001b[0m | \u001b[1mINFO    \u001b[0m | \u001b[36mALSampler\u001b[0m:\u001b[36mkeep_sample\u001b[0m:\u001b[36m39\u001b[0m - \u001b[1mcurrent sampled: 30, remaining: 273\u001b[0m\n",
      "\u001b[32m2024-03-25 01:36:16.542\u001b[0m | \u001b[1mINFO    \u001b[0m | \u001b[36mALSampler\u001b[0m:\u001b[36msimulate_rounds\u001b[0m:\u001b[36m45\u001b[0m - \u001b[1msimulate round 1.\u001b[0m\n",
      "\u001b[32m2024-03-25 01:36:16.906\u001b[0m | \u001b[1mINFO    \u001b[0m | \u001b[36mALSampler\u001b[0m:\u001b[36msample_next_round\u001b[0m:\u001b[36m192\u001b[0m - \u001b[1mdistance shape: (47530, 10), max to retrieve 47501 sentences\u001b[0m\n",
      "\u001b[32m2024-03-25 01:36:18.932\u001b[0m | \u001b[1mINFO    \u001b[0m | \u001b[36mALSampler\u001b[0m:\u001b[36mkeep_sample\u001b[0m:\u001b[36m39\u001b[0m - \u001b[1mcurrent sampled: 60, remaining: 243\u001b[0m\n",
      "\u001b[32m2024-03-25 01:43:07.758\u001b[0m | \u001b[1mINFO    \u001b[0m | \u001b[36mALSampler\u001b[0m:\u001b[36msimulate_rounds\u001b[0m:\u001b[36m45\u001b[0m - \u001b[1msimulate round 2.\u001b[0m\n",
      "\u001b[32m2024-03-25 01:43:08.255\u001b[0m | \u001b[1mINFO    \u001b[0m | \u001b[36mALSampler\u001b[0m:\u001b[36msample_next_round\u001b[0m:\u001b[36m192\u001b[0m - \u001b[1mdistance shape: (47530, 10), max to retrieve 47501 sentences\u001b[0m\n",
      "\u001b[32m2024-03-25 01:43:10.245\u001b[0m | \u001b[1mINFO    \u001b[0m | \u001b[36mALSampler\u001b[0m:\u001b[36mkeep_sample\u001b[0m:\u001b[36m39\u001b[0m - \u001b[1mcurrent sampled: 90, remaining: 213\u001b[0m\n",
      "\u001b[32m2024-03-25 01:51:07.014\u001b[0m | \u001b[1mINFO    \u001b[0m | \u001b[36mALSampler\u001b[0m:\u001b[36msimulate_rounds\u001b[0m:\u001b[36m45\u001b[0m - \u001b[1msimulate round 3.\u001b[0m\n",
      "\u001b[32m2024-03-25 01:51:07.635\u001b[0m | \u001b[1mINFO    \u001b[0m | \u001b[36mALSampler\u001b[0m:\u001b[36msample_next_round\u001b[0m:\u001b[36m192\u001b[0m - \u001b[1mdistance shape: (47530, 10), max to retrieve 47501 sentences\u001b[0m\n",
      "\u001b[32m2024-03-25 01:51:09.559\u001b[0m | \u001b[1mINFO    \u001b[0m | \u001b[36mALSampler\u001b[0m:\u001b[36mkeep_sample\u001b[0m:\u001b[36m39\u001b[0m - \u001b[1mcurrent sampled: 120, remaining: 183\u001b[0m\n",
      "\u001b[32m2024-03-25 02:00:16.049\u001b[0m | \u001b[1mINFO    \u001b[0m | \u001b[36mALSampler\u001b[0m:\u001b[36msimulate_rounds\u001b[0m:\u001b[36m45\u001b[0m - \u001b[1msimulate round 4.\u001b[0m\n",
      "\u001b[32m2024-03-25 02:00:16.827\u001b[0m | \u001b[1mINFO    \u001b[0m | \u001b[36mALSampler\u001b[0m:\u001b[36msample_next_round\u001b[0m:\u001b[36m192\u001b[0m - \u001b[1mdistance shape: (47530, 10), max to retrieve 47501 sentences\u001b[0m\n",
      "\u001b[32m2024-03-25 02:00:18.643\u001b[0m | \u001b[1mINFO    \u001b[0m | \u001b[36mALSampler\u001b[0m:\u001b[36mkeep_sample\u001b[0m:\u001b[36m39\u001b[0m - \u001b[1mcurrent sampled: 150, remaining: 153\u001b[0m\n",
      "\u001b[32m2024-03-25 02:10:24.248\u001b[0m | \u001b[1mINFO    \u001b[0m | \u001b[36mALSampler\u001b[0m:\u001b[36msimulate_rounds\u001b[0m:\u001b[36m45\u001b[0m - \u001b[1msimulate round 5.\u001b[0m\n",
      "\u001b[32m2024-03-25 02:10:25.123\u001b[0m | \u001b[1mINFO    \u001b[0m | \u001b[36mALSampler\u001b[0m:\u001b[36msample_next_round\u001b[0m:\u001b[36m192\u001b[0m - \u001b[1mdistance shape: (47530, 10), max to retrieve 47501 sentences\u001b[0m\n",
      "\u001b[32m2024-03-25 02:10:26.943\u001b[0m | \u001b[1mINFO    \u001b[0m | \u001b[36mALSampler\u001b[0m:\u001b[36mkeep_sample\u001b[0m:\u001b[36m39\u001b[0m - \u001b[1mcurrent sampled: 180, remaining: 123\u001b[0m\n",
      "\u001b[32m2024-03-25 02:21:31.554\u001b[0m | \u001b[1mINFO    \u001b[0m | \u001b[36mALSampler\u001b[0m:\u001b[36msimulate_rounds\u001b[0m:\u001b[36m45\u001b[0m - \u001b[1msimulate round 6.\u001b[0m\n",
      "\u001b[32m2024-03-25 02:21:32.556\u001b[0m | \u001b[1mINFO    \u001b[0m | \u001b[36mALSampler\u001b[0m:\u001b[36msample_next_round\u001b[0m:\u001b[36m192\u001b[0m - \u001b[1mdistance shape: (47530, 10), max to retrieve 47501 sentences\u001b[0m\n",
      "\u001b[32m2024-03-25 02:21:34.386\u001b[0m | \u001b[1mINFO    \u001b[0m | \u001b[36mALSampler\u001b[0m:\u001b[36mkeep_sample\u001b[0m:\u001b[36m39\u001b[0m - \u001b[1mcurrent sampled: 210, remaining: 93\u001b[0m\n",
      "\u001b[32m2024-03-25 02:33:55.550\u001b[0m | \u001b[1mINFO    \u001b[0m | \u001b[36mALSampler\u001b[0m:\u001b[36msimulate_rounds\u001b[0m:\u001b[36m45\u001b[0m - \u001b[1msimulate round 7.\u001b[0m\n",
      "\u001b[32m2024-03-25 02:33:56.698\u001b[0m | \u001b[1mINFO    \u001b[0m | \u001b[36mALSampler\u001b[0m:\u001b[36msample_next_round\u001b[0m:\u001b[36m192\u001b[0m - \u001b[1mdistance shape: (47530, 10), max to retrieve 47501 sentences\u001b[0m\n",
      "\u001b[32m2024-03-25 02:33:58.478\u001b[0m | \u001b[1mINFO    \u001b[0m | \u001b[36mALSampler\u001b[0m:\u001b[36mkeep_sample\u001b[0m:\u001b[36m39\u001b[0m - \u001b[1mcurrent sampled: 240, remaining: 63\u001b[0m\n",
      "\u001b[32m2024-03-25 02:47:15.375\u001b[0m | \u001b[1mINFO    \u001b[0m | \u001b[36mALSampler\u001b[0m:\u001b[36msimulate_rounds\u001b[0m:\u001b[36m45\u001b[0m - \u001b[1msimulate round 8.\u001b[0m\n",
      "\u001b[32m2024-03-25 02:47:16.626\u001b[0m | \u001b[1mINFO    \u001b[0m | \u001b[36mALSampler\u001b[0m:\u001b[36msample_next_round\u001b[0m:\u001b[36m192\u001b[0m - \u001b[1mdistance shape: (47530, 10), max to retrieve 47501 sentences\u001b[0m\n",
      "\u001b[32m2024-03-25 02:47:18.363\u001b[0m | \u001b[1mINFO    \u001b[0m | \u001b[36mALSampler\u001b[0m:\u001b[36mkeep_sample\u001b[0m:\u001b[36m39\u001b[0m - \u001b[1mcurrent sampled: 270, remaining: 33\u001b[0m\n",
      "\u001b[32m2024-03-25 03:01:45.776\u001b[0m | \u001b[1mINFO    \u001b[0m | \u001b[36mALSampler\u001b[0m:\u001b[36msimulate_rounds\u001b[0m:\u001b[36m45\u001b[0m - \u001b[1msimulate round 9.\u001b[0m\n",
      "\u001b[32m2024-03-25 03:01:47.130\u001b[0m | \u001b[1mINFO    \u001b[0m | \u001b[36mALSampler\u001b[0m:\u001b[36msample_next_round\u001b[0m:\u001b[36m192\u001b[0m - \u001b[1mdistance shape: (47530, 10), max to retrieve 47501 sentences\u001b[0m\n",
      "\u001b[32m2024-03-25 03:01:48.862\u001b[0m | \u001b[1mINFO    \u001b[0m | \u001b[36mALSampler\u001b[0m:\u001b[36mkeep_sample\u001b[0m:\u001b[36m39\u001b[0m - \u001b[1mcurrent sampled: 300, remaining: 3\u001b[0m\n",
      "\u001b[32m2024-03-25 03:01:48.866\u001b[0m | \u001b[1mINFO    \u001b[0m | \u001b[36mALSampler\u001b[0m:\u001b[36msimulate_rounds\u001b[0m:\u001b[36m50\u001b[0m - \u001b[1mIt's the last round, now add all docs to sampled.\u001b[0m\n"
     ]
    }
   ],
   "source": [
    "all_scores=[]\n",
    "embedding_df=joblib.load(pickle_embedding_file)\n",
    "for si, seed  in enumerate(seeds):\n",
    "    logger.info(f'start run {si}.')\n",
    "    pickle_embedding_file= r'..\\data\\n2c2\\embedding_df.joblib'\n",
    "    crf_model=CRFModel(anno_types=annos)\n",
    "    v_simulator=VBSamplingSimulator(train_docs, total_round=10, modelWrapper=crf_model, eval_docs=test_docs, init_seed=seed, faiss_index_path=faiss_index_path, embedding_df=embedding_df)\n",
    "    scores=v_simulator.simulate_rounds(boostrap_times=200)\n",
    "    all_scores.append(scores) "
   ]
  },
  {
   "cell_type": "code",
   "execution_count": 18,
   "id": "c87e3bad-fb84-4ae7-bf45-d59e830396ab",
   "metadata": {},
   "outputs": [
    {
     "data": {
      "text/plain": [
       "['..\\\\data\\\\vb_sampling\\\\ner_vbmax_scores.joblib']"
      ]
     },
     "execution_count": 18,
     "metadata": {},
     "output_type": "execute_result"
    }
   ],
   "source": [
    "joblib.dump(all_scores, r'..\\data\\vb_sampling\\ner_vbmax_scores.joblib')"
   ]
  },
  {
   "cell_type": "code",
   "execution_count": null,
   "id": "c16d7bde-e1e1-42da-a0a5-cb846b427a57",
   "metadata": {},
   "outputs": [],
   "source": []
  },
  {
   "cell_type": "code",
   "execution_count": null,
   "id": "c60adb88-dc23-43ae-be48-54c1eb6cace7",
   "metadata": {},
   "outputs": [],
   "source": []
  },
  {
   "cell_type": "code",
   "execution_count": null,
   "id": "3f9b63a3-c0ed-4205-a6f0-d42961aaf24d",
   "metadata": {},
   "outputs": [],
   "source": []
  }
 ],
 "metadata": {
  "kernelspec": {
   "display_name": "Python 3 (ipykernel)",
   "language": "python",
   "name": "python3"
  },
  "language_info": {
   "codemirror_mode": {
    "name": "ipython",
    "version": 3
   },
   "file_extension": ".py",
   "mimetype": "text/x-python",
   "name": "python",
   "nbconvert_exporter": "python",
   "pygments_lexer": "ipython3",
   "version": "3.8.18"
  }
 },
 "nbformat": 4,
 "nbformat_minor": 5
}
