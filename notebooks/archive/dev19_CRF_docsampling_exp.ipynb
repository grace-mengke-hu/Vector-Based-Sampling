{
 "cells": [
  {
   "cell_type": "markdown",
   "id": "6024f606-7aa7-4f43-bc5b-4941a2686579",
   "metadata": {},
   "source": [
    "# Import "
   ]
  },
  {
   "cell_type": "code",
   "execution_count": 1,
   "id": "07dade98-d203-4c37-9201-094d4fa9684c",
   "metadata": {},
   "outputs": [],
   "source": [
    "import sklearn_crfsuite\n",
    "from sklearn_crfsuite.metrics import flat_f1_score\n",
    "from sklearn_crfsuite import CRF\n",
    "from sklearn.model_selection import train_test_split\n",
    "import pandas as pd\n",
    "import numpy as np\n",
    "from spacy.lang.en import English\n",
    "from spacy import displacy\n",
    "from pathlib import Path\n",
    "import joblib\n",
    "from spacy.tokens import Doc\n",
    "from typing import List\n",
    "import random\n",
    "from statistics import mean, stdev\n",
    "from loguru import logger\n",
    "import sys\n",
    "import spacy"
   ]
  },
  {
   "cell_type": "code",
   "execution_count": 2,
   "id": "456d2db0-ae32-41e5-822b-b79feff89fad",
   "metadata": {},
   "outputs": [],
   "source": [
    "from medspacy_io.reader.brat_reader import BratDocReader, BratDirReader\n",
    "import medspacy"
   ]
  },
  {
   "cell_type": "markdown",
   "id": "b3074734-1e2a-4093-9e17-393710ab8ef9",
   "metadata": {},
   "source": [
    "## Initiate BratDirReader"
   ]
  },
  {
   "cell_type": "code",
   "execution_count": 3,
   "id": "fb94b875-5b8d-4d0f-9101-e9cd5e27f253",
   "metadata": {},
   "outputs": [
    {
     "data": {
      "text/plain": [
       "(True, True)"
      ]
     },
     "execution_count": 3,
     "metadata": {},
     "output_type": "execute_result"
    }
   ],
   "source": [
    "cleaned_train_dir=r'..\\data\\n2c2\\cleaned_training'\n",
    "cleaned_test_dir=r'..\\data\\n2c2\\cleaned_test'\n",
    "Path(cleaned_train_dir).exists(), Path(cleaned_test_dir).exists()"
   ]
  },
  {
   "cell_type": "code",
   "execution_count": 4,
   "id": "2ead595b-6b3f-4164-a45a-a2824c58def4",
   "metadata": {},
   "outputs": [],
   "source": [
    "nlp=spacy.load('en_core_web_sm', disable=['ner'])"
   ]
  },
  {
   "cell_type": "code",
   "execution_count": 5,
   "id": "bd04508a-15e5-4c5d-b191-509ae92865ae",
   "metadata": {},
   "outputs": [],
   "source": [
    "dir_reader = BratDirReader(nlp=nlp, schema_file=str(Path(cleaned_train_dir, 'annotation.conf')), support_overlap=True)"
   ]
  },
  {
   "cell_type": "markdown",
   "id": "94341b2a-fd10-4fb9-98f5-8169b259a21a",
   "metadata": {},
   "source": [
    "## Read Brat annotations | load from pickles"
   ]
  },
  {
   "cell_type": "code",
   "execution_count": 6,
   "id": "59de7b8c-52c2-43fb-9cce-392d8dd4de8c",
   "metadata": {},
   "outputs": [],
   "source": [
    "pickle_file= r'..\\data\\n2c2\\spacy_docs.joblib'"
   ]
  },
  {
   "cell_type": "code",
   "execution_count": 7,
   "id": "762f6665-6fe5-4bc2-81dc-2dfff06abd71",
   "metadata": {},
   "outputs": [
    {
     "name": "stdout",
     "output_type": "stream",
     "text": [
      "..\\data\\n2c2\\spacy_docs.joblib already exists, load them directly\n"
     ]
    }
   ],
   "source": [
    "if not Path(pickle_file).exists():\n",
    "    train_docs=dir_reader.read(txt_dir=cleaned_train_dir)\n",
    "    test_docs=dir_reader.read(txt_dir=cleaned_test_dir)\n",
    "    print(len(train_docs), len(test_docs))\n",
    "    joblib.dump((train_docs, test_docs), pickle_file)\n",
    "else:\n",
    "    print(f'{pickle_file} already exists, load them directly')\n",
    "    # before load from pickle, initiate EhostDirReader or EhostDocReader first, because some Doc extension used to store meta data will not be automatically recreated by loading.\n",
    "    train_docs, test_docs=joblib.load(pickle_file)"
   ]
  },
  {
   "cell_type": "markdown",
   "id": "bba0f1e6-1515-4db9-af90-2b37f69bdd64",
   "metadata": {},
   "source": [
    "# Define sampling functions"
   ]
  },
  {
   "cell_type": "code",
   "execution_count": 8,
   "id": "9aedf902-836b-442b-89a4-5962d8d1495f",
   "metadata": {},
   "outputs": [],
   "source": [
    "rounds =10\n",
    "seed= 14"
   ]
  },
  {
   "cell_type": "code",
   "execution_count": 9,
   "id": "01b9ce81-2d67-4b15-bca0-87af84c1dfd0",
   "metadata": {},
   "outputs": [
    {
     "data": {
      "text/plain": [
       "(303, 202)"
      ]
     },
     "execution_count": 9,
     "metadata": {},
     "output_type": "execute_result"
    }
   ],
   "source": [
    "len(train_docs), len(test_docs)"
   ]
  },
  {
   "cell_type": "markdown",
   "id": "9d89180d-7331-4737-bfd7-626b66eae5f8",
   "metadata": {},
   "source": [
    "### Define CRF Wrapper"
   ]
  },
  {
   "cell_type": "code",
   "execution_count": 10,
   "id": "e8e5443c-44d1-449e-a150-f57b432b04fd",
   "metadata": {},
   "outputs": [],
   "source": [
    "from CRFWrapper import spans_to_bio, convert_docs, word2features, sent2features,compute_metrics_and_averages,  CRFModel\n",
    "from ALSampler import SamplingSimulator, ModelSamplingSimulator"
   ]
  },
  {
   "cell_type": "code",
   "execution_count": 11,
   "id": "64c66e94-fc84-4943-bc6c-fc584406f46c",
   "metadata": {},
   "outputs": [
    {
     "name": "stdout",
     "output_type": "stream",
     "text": [
      "{'Form', 'Drug', 'Route', 'Dosage', 'Strength', 'ADE', 'Duration', 'Frequency', 'Reason'}\n"
     ]
    }
   ],
   "source": [
    "## Get all annotation types: \n",
    "annos=set()\n",
    "for d in train_docs:\n",
    "    for anno in d.spans.keys():\n",
    "        annos.add(anno)\n",
    "print(annos)"
   ]
  },
  {
   "cell_type": "code",
   "execution_count": 12,
   "id": "f25910bf-2fc9-411b-9dc0-33f0d3997fef",
   "metadata": {},
   "outputs": [],
   "source": [
    "crf_model=CRFModel(anno_types=annos)\n",
    "m_simulator=ModelSamplingSimulator(train_docs, total_round=10, modelWrapper=crf_model, eval_docs=test_docs, init_seed=seed)"
   ]
  },
  {
   "cell_type": "markdown",
   "id": "d8687ece-0d65-4def-888e-9372a7e58744",
   "metadata": {},
   "source": [
    "### Test run"
   ]
  },
  {
   "cell_type": "code",
   "execution_count": 13,
   "id": "b4bbf19a-e592-4853-a61a-160f7f19db49",
   "metadata": {},
   "outputs": [
    {
     "name": "stderr",
     "output_type": "stream",
     "text": [
      "\u001b[32m2024-04-04 22:37:20.776\u001b[0m | \u001b[1mINFO    \u001b[0m | \u001b[36mALSampler\u001b[0m:\u001b[36msimulate_rounds\u001b[0m:\u001b[36m45\u001b[0m - \u001b[1msimulate round 0.\u001b[0m\n",
      "\u001b[32m2024-04-04 22:37:20.777\u001b[0m | \u001b[34m\u001b[1mDEBUG   \u001b[0m | \u001b[36mALSampler\u001b[0m:\u001b[36mkeep_sample\u001b[0m:\u001b[36m35\u001b[0m - \u001b[34m\u001b[1mThe first round sampling will be random\u001b[0m\n",
      "\u001b[32m2024-04-04 22:37:20.779\u001b[0m | \u001b[1mINFO    \u001b[0m | \u001b[36mALSampler\u001b[0m:\u001b[36mkeep_sample\u001b[0m:\u001b[36m39\u001b[0m - \u001b[1mcurrent sampled: 30, remaining: 273\u001b[0m\n",
      "\u001b[32m2024-04-04 22:37:24.462\u001b[0m | \u001b[34m\u001b[1mDEBUG   \u001b[0m | \u001b[36mCRFWrapper\u001b[0m:\u001b[36mfit\u001b[0m:\u001b[36m251\u001b[0m - \u001b[34m\u001b[1mReset and train CRF model...\u001b[0m\n",
      "\u001b[32m2024-04-04 22:38:20.944\u001b[0m | \u001b[34m\u001b[1mDEBUG   \u001b[0m | \u001b[36mCRFWrapper\u001b[0m:\u001b[36mfit\u001b[0m:\u001b[36m259\u001b[0m - \u001b[34m\u001b[1mTraining complete.\u001b[0m\n",
      "\u001b[32m2024-04-04 22:38:21.041\u001b[0m | \u001b[34m\u001b[1mDEBUG   \u001b[0m | \u001b[36mCRFWrapper\u001b[0m:\u001b[36mbootstrap_eval\u001b[0m:\u001b[36m280\u001b[0m - \u001b[34m\u001b[1mPredicting eval docs...\u001b[0m\n",
      "\u001b[32m2024-04-04 22:38:57.564\u001b[0m | \u001b[34m\u001b[1mDEBUG   \u001b[0m | \u001b[36mCRFWrapper\u001b[0m:\u001b[36mbootstrap_eval\u001b[0m:\u001b[36m284\u001b[0m - \u001b[34m\u001b[1mCalculate scores from bootstrapping 200 times\u001b[0m\n",
      "\u001b[32m2024-04-04 22:43:11.749\u001b[0m | \u001b[34m\u001b[1mDEBUG   \u001b[0m | \u001b[36mCRFWrapper\u001b[0m:\u001b[36mbootstrap_eval\u001b[0m:\u001b[36m293\u001b[0m - \u001b[34m\u001b[1mcomplete\u001b[0m\n",
      "\u001b[32m2024-04-04 22:43:11.882\u001b[0m | \u001b[34m\u001b[1mDEBUG   \u001b[0m | \u001b[36mALSampler\u001b[0m:\u001b[36msimulate_rounds\u001b[0m:\u001b[36m56\u001b[0m - \u001b[34m\u001b[1m{'precision': 0.9435403132345506, 'recall': 0.7792371047764345, 'f1': 0.8535492442836575}\u001b[0m\n",
      "\u001b[32m2024-04-04 22:43:11.884\u001b[0m | \u001b[1mINFO    \u001b[0m | \u001b[36mALSampler\u001b[0m:\u001b[36msimulate_rounds\u001b[0m:\u001b[36m45\u001b[0m - \u001b[1msimulate round 1.\u001b[0m\n",
      "\u001b[32m2024-04-04 22:43:11.885\u001b[0m | \u001b[34m\u001b[1mDEBUG   \u001b[0m | \u001b[36mALSampler\u001b[0m:\u001b[36msample_next_round\u001b[0m:\u001b[36m84\u001b[0m - \u001b[34m\u001b[1mTrain model wrapper on sampled 30 samples\u001b[0m\n",
      "\u001b[32m2024-04-04 22:43:11.886\u001b[0m | \u001b[34m\u001b[1mDEBUG   \u001b[0m | \u001b[36mALSampler\u001b[0m:\u001b[36msample_next_round\u001b[0m:\u001b[36m85\u001b[0m - \u001b[34m\u001b[1mUse trained model to estimate the remaining data certainty.\u001b[0m\n",
      "\u001b[32m2024-04-04 22:44:25.395\u001b[0m | \u001b[34m\u001b[1mDEBUG   \u001b[0m | \u001b[36mALSampler\u001b[0m:\u001b[36msample_next_round\u001b[0m:\u001b[36m88\u001b[0m - \u001b[34m\u001b[1mremain 273 docs, sort indx on certainty for 273\u001b[0m\n",
      "\u001b[32m2024-04-04 22:44:25.396\u001b[0m | \u001b[34m\u001b[1mDEBUG   \u001b[0m | \u001b[36mALSampler\u001b[0m:\u001b[36msample_next_round\u001b[0m:\u001b[36m95\u001b[0m - \u001b[34m\u001b[1mUpdate model with new sampled data\u001b[0m\n",
      "\u001b[32m2024-04-04 22:44:25.398\u001b[0m | \u001b[1mINFO    \u001b[0m | \u001b[36mALSampler\u001b[0m:\u001b[36mkeep_sample\u001b[0m:\u001b[36m39\u001b[0m - \u001b[1mcurrent sampled: 60, remaining: 243\u001b[0m\n",
      "\u001b[32m2024-04-04 22:44:33.752\u001b[0m | \u001b[34m\u001b[1mDEBUG   \u001b[0m | \u001b[36mCRFWrapper\u001b[0m:\u001b[36mfit\u001b[0m:\u001b[36m251\u001b[0m - \u001b[34m\u001b[1mReset and train CRF model...\u001b[0m\n",
      "\u001b[32m2024-04-04 22:46:48.339\u001b[0m | \u001b[34m\u001b[1mDEBUG   \u001b[0m | \u001b[36mCRFWrapper\u001b[0m:\u001b[36mfit\u001b[0m:\u001b[36m259\u001b[0m - \u001b[34m\u001b[1mTraining complete.\u001b[0m\n",
      "\u001b[32m2024-04-04 22:46:48.566\u001b[0m | \u001b[34m\u001b[1mDEBUG   \u001b[0m | \u001b[36mCRFWrapper\u001b[0m:\u001b[36mbootstrap_eval\u001b[0m:\u001b[36m280\u001b[0m - \u001b[34m\u001b[1mPredicting eval docs...\u001b[0m\n",
      "\u001b[32m2024-04-04 22:47:24.433\u001b[0m | \u001b[34m\u001b[1mDEBUG   \u001b[0m | \u001b[36mCRFWrapper\u001b[0m:\u001b[36mbootstrap_eval\u001b[0m:\u001b[36m284\u001b[0m - \u001b[34m\u001b[1mCalculate scores from bootstrapping 200 times\u001b[0m\n",
      "\u001b[32m2024-04-04 22:51:38.861\u001b[0m | \u001b[34m\u001b[1mDEBUG   \u001b[0m | \u001b[36mCRFWrapper\u001b[0m:\u001b[36mbootstrap_eval\u001b[0m:\u001b[36m293\u001b[0m - \u001b[34m\u001b[1mcomplete\u001b[0m\n",
      "\u001b[32m2024-04-04 22:51:38.987\u001b[0m | \u001b[34m\u001b[1mDEBUG   \u001b[0m | \u001b[36mALSampler\u001b[0m:\u001b[36msimulate_rounds\u001b[0m:\u001b[36m56\u001b[0m - \u001b[34m\u001b[1m{'precision': 0.9454708444418821, 'recall': 0.8092738057861973, 'f1': 0.8720829138167935}\u001b[0m\n",
      "\u001b[32m2024-04-04 22:51:38.989\u001b[0m | \u001b[1mINFO    \u001b[0m | \u001b[36mALSampler\u001b[0m:\u001b[36msimulate_rounds\u001b[0m:\u001b[36m45\u001b[0m - \u001b[1msimulate round 2.\u001b[0m\n",
      "\u001b[32m2024-04-04 22:51:38.990\u001b[0m | \u001b[34m\u001b[1mDEBUG   \u001b[0m | \u001b[36mALSampler\u001b[0m:\u001b[36msample_next_round\u001b[0m:\u001b[36m84\u001b[0m - \u001b[34m\u001b[1mTrain model wrapper on sampled 60 samples\u001b[0m\n",
      "\u001b[32m2024-04-04 22:51:38.992\u001b[0m | \u001b[34m\u001b[1mDEBUG   \u001b[0m | \u001b[36mALSampler\u001b[0m:\u001b[36msample_next_round\u001b[0m:\u001b[36m85\u001b[0m - \u001b[34m\u001b[1mUse trained model to estimate the remaining data certainty.\u001b[0m\n",
      "\u001b[32m2024-04-04 22:52:42.299\u001b[0m | \u001b[34m\u001b[1mDEBUG   \u001b[0m | \u001b[36mALSampler\u001b[0m:\u001b[36msample_next_round\u001b[0m:\u001b[36m88\u001b[0m - \u001b[34m\u001b[1mremain 243 docs, sort indx on certainty for 243\u001b[0m\n",
      "\u001b[32m2024-04-04 22:52:42.301\u001b[0m | \u001b[34m\u001b[1mDEBUG   \u001b[0m | \u001b[36mALSampler\u001b[0m:\u001b[36msample_next_round\u001b[0m:\u001b[36m95\u001b[0m - \u001b[34m\u001b[1mUpdate model with new sampled data\u001b[0m\n",
      "\u001b[32m2024-04-04 22:52:42.302\u001b[0m | \u001b[1mINFO    \u001b[0m | \u001b[36mALSampler\u001b[0m:\u001b[36mkeep_sample\u001b[0m:\u001b[36m39\u001b[0m - \u001b[1mcurrent sampled: 90, remaining: 213\u001b[0m\n",
      "\u001b[32m2024-04-04 22:52:55.013\u001b[0m | \u001b[34m\u001b[1mDEBUG   \u001b[0m | \u001b[36mCRFWrapper\u001b[0m:\u001b[36mfit\u001b[0m:\u001b[36m251\u001b[0m - \u001b[34m\u001b[1mReset and train CRF model...\u001b[0m\n",
      "\u001b[32m2024-04-04 22:56:18.845\u001b[0m | \u001b[34m\u001b[1mDEBUG   \u001b[0m | \u001b[36mCRFWrapper\u001b[0m:\u001b[36mfit\u001b[0m:\u001b[36m259\u001b[0m - \u001b[34m\u001b[1mTraining complete.\u001b[0m\n",
      "\u001b[32m2024-04-04 22:56:19.182\u001b[0m | \u001b[34m\u001b[1mDEBUG   \u001b[0m | \u001b[36mCRFWrapper\u001b[0m:\u001b[36mbootstrap_eval\u001b[0m:\u001b[36m280\u001b[0m - \u001b[34m\u001b[1mPredicting eval docs...\u001b[0m\n",
      "\u001b[32m2024-04-04 22:56:55.400\u001b[0m | \u001b[34m\u001b[1mDEBUG   \u001b[0m | \u001b[36mCRFWrapper\u001b[0m:\u001b[36mbootstrap_eval\u001b[0m:\u001b[36m284\u001b[0m - \u001b[34m\u001b[1mCalculate scores from bootstrapping 200 times\u001b[0m\n",
      "\u001b[32m2024-04-04 23:01:19.155\u001b[0m | \u001b[34m\u001b[1mDEBUG   \u001b[0m | \u001b[36mCRFWrapper\u001b[0m:\u001b[36mbootstrap_eval\u001b[0m:\u001b[36m293\u001b[0m - \u001b[34m\u001b[1mcomplete\u001b[0m\n",
      "\u001b[32m2024-04-04 23:01:19.283\u001b[0m | \u001b[34m\u001b[1mDEBUG   \u001b[0m | \u001b[36mALSampler\u001b[0m:\u001b[36msimulate_rounds\u001b[0m:\u001b[36m56\u001b[0m - \u001b[34m\u001b[1m{'precision': 0.9451394662363041, 'recall': 0.8271557869417129, 'f1': 0.882217344046299}\u001b[0m\n",
      "\u001b[32m2024-04-04 23:01:19.285\u001b[0m | \u001b[1mINFO    \u001b[0m | \u001b[36mALSampler\u001b[0m:\u001b[36msimulate_rounds\u001b[0m:\u001b[36m45\u001b[0m - \u001b[1msimulate round 3.\u001b[0m\n",
      "\u001b[32m2024-04-04 23:01:19.286\u001b[0m | \u001b[34m\u001b[1mDEBUG   \u001b[0m | \u001b[36mALSampler\u001b[0m:\u001b[36msample_next_round\u001b[0m:\u001b[36m84\u001b[0m - \u001b[34m\u001b[1mTrain model wrapper on sampled 90 samples\u001b[0m\n",
      "\u001b[32m2024-04-04 23:01:19.287\u001b[0m | \u001b[34m\u001b[1mDEBUG   \u001b[0m | \u001b[36mALSampler\u001b[0m:\u001b[36msample_next_round\u001b[0m:\u001b[36m85\u001b[0m - \u001b[34m\u001b[1mUse trained model to estimate the remaining data certainty.\u001b[0m\n",
      "\u001b[32m2024-04-04 23:02:14.688\u001b[0m | \u001b[34m\u001b[1mDEBUG   \u001b[0m | \u001b[36mALSampler\u001b[0m:\u001b[36msample_next_round\u001b[0m:\u001b[36m88\u001b[0m - \u001b[34m\u001b[1mremain 213 docs, sort indx on certainty for 213\u001b[0m\n",
      "\u001b[32m2024-04-04 23:02:14.690\u001b[0m | \u001b[34m\u001b[1mDEBUG   \u001b[0m | \u001b[36mALSampler\u001b[0m:\u001b[36msample_next_round\u001b[0m:\u001b[36m95\u001b[0m - \u001b[34m\u001b[1mUpdate model with new sampled data\u001b[0m\n",
      "\u001b[32m2024-04-04 23:02:14.692\u001b[0m | \u001b[1mINFO    \u001b[0m | \u001b[36mALSampler\u001b[0m:\u001b[36mkeep_sample\u001b[0m:\u001b[36m39\u001b[0m - \u001b[1mcurrent sampled: 120, remaining: 183\u001b[0m\n",
      "\u001b[32m2024-04-04 23:02:31.909\u001b[0m | \u001b[34m\u001b[1mDEBUG   \u001b[0m | \u001b[36mCRFWrapper\u001b[0m:\u001b[36mfit\u001b[0m:\u001b[36m251\u001b[0m - \u001b[34m\u001b[1mReset and train CRF model...\u001b[0m\n",
      "\u001b[32m2024-04-04 23:07:06.012\u001b[0m | \u001b[34m\u001b[1mDEBUG   \u001b[0m | \u001b[36mCRFWrapper\u001b[0m:\u001b[36mfit\u001b[0m:\u001b[36m259\u001b[0m - \u001b[34m\u001b[1mTraining complete.\u001b[0m\n",
      "\u001b[32m2024-04-04 23:07:06.500\u001b[0m | \u001b[34m\u001b[1mDEBUG   \u001b[0m | \u001b[36mCRFWrapper\u001b[0m:\u001b[36mbootstrap_eval\u001b[0m:\u001b[36m280\u001b[0m - \u001b[34m\u001b[1mPredicting eval docs...\u001b[0m\n",
      "\u001b[32m2024-04-04 23:07:43.637\u001b[0m | \u001b[34m\u001b[1mDEBUG   \u001b[0m | \u001b[36mCRFWrapper\u001b[0m:\u001b[36mbootstrap_eval\u001b[0m:\u001b[36m284\u001b[0m - \u001b[34m\u001b[1mCalculate scores from bootstrapping 200 times\u001b[0m\n",
      "\u001b[32m2024-04-04 23:12:05.773\u001b[0m | \u001b[34m\u001b[1mDEBUG   \u001b[0m | \u001b[36mCRFWrapper\u001b[0m:\u001b[36mbootstrap_eval\u001b[0m:\u001b[36m293\u001b[0m - \u001b[34m\u001b[1mcomplete\u001b[0m\n",
      "\u001b[32m2024-04-04 23:12:05.905\u001b[0m | \u001b[34m\u001b[1mDEBUG   \u001b[0m | \u001b[36mALSampler\u001b[0m:\u001b[36msimulate_rounds\u001b[0m:\u001b[36m56\u001b[0m - \u001b[34m\u001b[1m{'precision': 0.946075874386404, 'recall': 0.8374278949720175, 'f1': 0.8884402625717408}\u001b[0m\n",
      "\u001b[32m2024-04-04 23:12:05.906\u001b[0m | \u001b[1mINFO    \u001b[0m | \u001b[36mALSampler\u001b[0m:\u001b[36msimulate_rounds\u001b[0m:\u001b[36m45\u001b[0m - \u001b[1msimulate round 4.\u001b[0m\n",
      "\u001b[32m2024-04-04 23:12:05.907\u001b[0m | \u001b[34m\u001b[1mDEBUG   \u001b[0m | \u001b[36mALSampler\u001b[0m:\u001b[36msample_next_round\u001b[0m:\u001b[36m84\u001b[0m - \u001b[34m\u001b[1mTrain model wrapper on sampled 120 samples\u001b[0m\n",
      "\u001b[32m2024-04-04 23:12:05.909\u001b[0m | \u001b[34m\u001b[1mDEBUG   \u001b[0m | \u001b[36mALSampler\u001b[0m:\u001b[36msample_next_round\u001b[0m:\u001b[36m85\u001b[0m - \u001b[34m\u001b[1mUse trained model to estimate the remaining data certainty.\u001b[0m\n",
      "\u001b[32m2024-04-04 23:12:52.629\u001b[0m | \u001b[34m\u001b[1mDEBUG   \u001b[0m | \u001b[36mALSampler\u001b[0m:\u001b[36msample_next_round\u001b[0m:\u001b[36m88\u001b[0m - \u001b[34m\u001b[1mremain 183 docs, sort indx on certainty for 183\u001b[0m\n",
      "\u001b[32m2024-04-04 23:12:52.631\u001b[0m | \u001b[34m\u001b[1mDEBUG   \u001b[0m | \u001b[36mALSampler\u001b[0m:\u001b[36msample_next_round\u001b[0m:\u001b[36m95\u001b[0m - \u001b[34m\u001b[1mUpdate model with new sampled data\u001b[0m\n",
      "\u001b[32m2024-04-04 23:12:52.632\u001b[0m | \u001b[1mINFO    \u001b[0m | \u001b[36mALSampler\u001b[0m:\u001b[36mkeep_sample\u001b[0m:\u001b[36m39\u001b[0m - \u001b[1mcurrent sampled: 150, remaining: 153\u001b[0m\n",
      "\u001b[32m2024-04-04 23:13:14.525\u001b[0m | \u001b[34m\u001b[1mDEBUG   \u001b[0m | \u001b[36mCRFWrapper\u001b[0m:\u001b[36mfit\u001b[0m:\u001b[36m251\u001b[0m - \u001b[34m\u001b[1mReset and train CRF model...\u001b[0m\n",
      "\u001b[32m2024-04-04 23:19:09.497\u001b[0m | \u001b[34m\u001b[1mDEBUG   \u001b[0m | \u001b[36mCRFWrapper\u001b[0m:\u001b[36mfit\u001b[0m:\u001b[36m259\u001b[0m - \u001b[34m\u001b[1mTraining complete.\u001b[0m\n",
      "\u001b[32m2024-04-04 23:19:10.121\u001b[0m | \u001b[34m\u001b[1mDEBUG   \u001b[0m | \u001b[36mCRFWrapper\u001b[0m:\u001b[36mbootstrap_eval\u001b[0m:\u001b[36m280\u001b[0m - \u001b[34m\u001b[1mPredicting eval docs...\u001b[0m\n",
      "\u001b[32m2024-04-04 23:19:46.263\u001b[0m | \u001b[34m\u001b[1mDEBUG   \u001b[0m | \u001b[36mCRFWrapper\u001b[0m:\u001b[36mbootstrap_eval\u001b[0m:\u001b[36m284\u001b[0m - \u001b[34m\u001b[1mCalculate scores from bootstrapping 200 times\u001b[0m\n",
      "\u001b[32m2024-04-04 23:24:08.004\u001b[0m | \u001b[34m\u001b[1mDEBUG   \u001b[0m | \u001b[36mCRFWrapper\u001b[0m:\u001b[36mbootstrap_eval\u001b[0m:\u001b[36m293\u001b[0m - \u001b[34m\u001b[1mcomplete\u001b[0m\n",
      "\u001b[32m2024-04-04 23:24:08.130\u001b[0m | \u001b[34m\u001b[1mDEBUG   \u001b[0m | \u001b[36mALSampler\u001b[0m:\u001b[36msimulate_rounds\u001b[0m:\u001b[36m56\u001b[0m - \u001b[34m\u001b[1m{'precision': 0.9448445844535109, 'recall': 0.8440897866042537, 'f1': 0.8916272135103717}\u001b[0m\n",
      "\u001b[32m2024-04-04 23:24:08.132\u001b[0m | \u001b[1mINFO    \u001b[0m | \u001b[36mALSampler\u001b[0m:\u001b[36msimulate_rounds\u001b[0m:\u001b[36m45\u001b[0m - \u001b[1msimulate round 5.\u001b[0m\n",
      "\u001b[32m2024-04-04 23:24:08.133\u001b[0m | \u001b[34m\u001b[1mDEBUG   \u001b[0m | \u001b[36mALSampler\u001b[0m:\u001b[36msample_next_round\u001b[0m:\u001b[36m84\u001b[0m - \u001b[34m\u001b[1mTrain model wrapper on sampled 150 samples\u001b[0m\n",
      "\u001b[32m2024-04-04 23:24:08.134\u001b[0m | \u001b[34m\u001b[1mDEBUG   \u001b[0m | \u001b[36mALSampler\u001b[0m:\u001b[36msample_next_round\u001b[0m:\u001b[36m85\u001b[0m - \u001b[34m\u001b[1mUse trained model to estimate the remaining data certainty.\u001b[0m\n",
      "\u001b[32m2024-04-04 23:24:44.315\u001b[0m | \u001b[34m\u001b[1mDEBUG   \u001b[0m | \u001b[36mALSampler\u001b[0m:\u001b[36msample_next_round\u001b[0m:\u001b[36m88\u001b[0m - \u001b[34m\u001b[1mremain 153 docs, sort indx on certainty for 153\u001b[0m\n",
      "\u001b[32m2024-04-04 23:24:44.316\u001b[0m | \u001b[34m\u001b[1mDEBUG   \u001b[0m | \u001b[36mALSampler\u001b[0m:\u001b[36msample_next_round\u001b[0m:\u001b[36m95\u001b[0m - \u001b[34m\u001b[1mUpdate model with new sampled data\u001b[0m\n",
      "\u001b[32m2024-04-04 23:24:44.318\u001b[0m | \u001b[1mINFO    \u001b[0m | \u001b[36mALSampler\u001b[0m:\u001b[36mkeep_sample\u001b[0m:\u001b[36m39\u001b[0m - \u001b[1mcurrent sampled: 180, remaining: 123\u001b[0m\n",
      "\u001b[32m2024-04-04 23:25:10.945\u001b[0m | \u001b[34m\u001b[1mDEBUG   \u001b[0m | \u001b[36mCRFWrapper\u001b[0m:\u001b[36mfit\u001b[0m:\u001b[36m251\u001b[0m - \u001b[34m\u001b[1mReset and train CRF model...\u001b[0m\n",
      "\u001b[32m2024-04-04 23:32:11.711\u001b[0m | \u001b[34m\u001b[1mDEBUG   \u001b[0m | \u001b[36mCRFWrapper\u001b[0m:\u001b[36mfit\u001b[0m:\u001b[36m259\u001b[0m - \u001b[34m\u001b[1mTraining complete.\u001b[0m\n",
      "\u001b[32m2024-04-04 23:32:12.401\u001b[0m | \u001b[34m\u001b[1mDEBUG   \u001b[0m | \u001b[36mCRFWrapper\u001b[0m:\u001b[36mbootstrap_eval\u001b[0m:\u001b[36m280\u001b[0m - \u001b[34m\u001b[1mPredicting eval docs...\u001b[0m\n",
      "\u001b[32m2024-04-04 23:32:49.507\u001b[0m | \u001b[34m\u001b[1mDEBUG   \u001b[0m | \u001b[36mCRFWrapper\u001b[0m:\u001b[36mbootstrap_eval\u001b[0m:\u001b[36m284\u001b[0m - \u001b[34m\u001b[1mCalculate scores from bootstrapping 200 times\u001b[0m\n",
      "\u001b[32m2024-04-04 23:37:14.072\u001b[0m | \u001b[34m\u001b[1mDEBUG   \u001b[0m | \u001b[36mCRFWrapper\u001b[0m:\u001b[36mbootstrap_eval\u001b[0m:\u001b[36m293\u001b[0m - \u001b[34m\u001b[1mcomplete\u001b[0m\n",
      "\u001b[32m2024-04-04 23:37:14.194\u001b[0m | \u001b[34m\u001b[1mDEBUG   \u001b[0m | \u001b[36mALSampler\u001b[0m:\u001b[36msimulate_rounds\u001b[0m:\u001b[36m56\u001b[0m - \u001b[34m\u001b[1m{'precision': 0.944429652294551, 'recall': 0.8527384185695109, 'f1': 0.8962424752011148}\u001b[0m\n",
      "\u001b[32m2024-04-04 23:37:14.196\u001b[0m | \u001b[1mINFO    \u001b[0m | \u001b[36mALSampler\u001b[0m:\u001b[36msimulate_rounds\u001b[0m:\u001b[36m45\u001b[0m - \u001b[1msimulate round 6.\u001b[0m\n",
      "\u001b[32m2024-04-04 23:37:14.197\u001b[0m | \u001b[34m\u001b[1mDEBUG   \u001b[0m | \u001b[36mALSampler\u001b[0m:\u001b[36msample_next_round\u001b[0m:\u001b[36m84\u001b[0m - \u001b[34m\u001b[1mTrain model wrapper on sampled 180 samples\u001b[0m\n",
      "\u001b[32m2024-04-04 23:37:14.198\u001b[0m | \u001b[34m\u001b[1mDEBUG   \u001b[0m | \u001b[36mALSampler\u001b[0m:\u001b[36msample_next_round\u001b[0m:\u001b[36m85\u001b[0m - \u001b[34m\u001b[1mUse trained model to estimate the remaining data certainty.\u001b[0m\n",
      "\u001b[32m2024-04-04 23:37:40.628\u001b[0m | \u001b[34m\u001b[1mDEBUG   \u001b[0m | \u001b[36mALSampler\u001b[0m:\u001b[36msample_next_round\u001b[0m:\u001b[36m88\u001b[0m - \u001b[34m\u001b[1mremain 123 docs, sort indx on certainty for 123\u001b[0m\n",
      "\u001b[32m2024-04-04 23:37:40.629\u001b[0m | \u001b[34m\u001b[1mDEBUG   \u001b[0m | \u001b[36mALSampler\u001b[0m:\u001b[36msample_next_round\u001b[0m:\u001b[36m95\u001b[0m - \u001b[34m\u001b[1mUpdate model with new sampled data\u001b[0m\n",
      "\u001b[32m2024-04-04 23:37:40.631\u001b[0m | \u001b[1mINFO    \u001b[0m | \u001b[36mALSampler\u001b[0m:\u001b[36mkeep_sample\u001b[0m:\u001b[36m39\u001b[0m - \u001b[1mcurrent sampled: 210, remaining: 93\u001b[0m\n",
      "\u001b[32m2024-04-04 23:38:09.539\u001b[0m | \u001b[34m\u001b[1mDEBUG   \u001b[0m | \u001b[36mCRFWrapper\u001b[0m:\u001b[36mfit\u001b[0m:\u001b[36m251\u001b[0m - \u001b[34m\u001b[1mReset and train CRF model...\u001b[0m\n",
      "\u001b[32m2024-04-04 23:46:02.040\u001b[0m | \u001b[34m\u001b[1mDEBUG   \u001b[0m | \u001b[36mCRFWrapper\u001b[0m:\u001b[36mfit\u001b[0m:\u001b[36m259\u001b[0m - \u001b[34m\u001b[1mTraining complete.\u001b[0m\n",
      "\u001b[32m2024-04-04 23:46:02.870\u001b[0m | \u001b[34m\u001b[1mDEBUG   \u001b[0m | \u001b[36mCRFWrapper\u001b[0m:\u001b[36mbootstrap_eval\u001b[0m:\u001b[36m280\u001b[0m - \u001b[34m\u001b[1mPredicting eval docs...\u001b[0m\n",
      "\u001b[32m2024-04-04 23:46:39.682\u001b[0m | \u001b[34m\u001b[1mDEBUG   \u001b[0m | \u001b[36mCRFWrapper\u001b[0m:\u001b[36mbootstrap_eval\u001b[0m:\u001b[36m284\u001b[0m - \u001b[34m\u001b[1mCalculate scores from bootstrapping 200 times\u001b[0m\n",
      "\u001b[32m2024-04-04 23:51:01.820\u001b[0m | \u001b[34m\u001b[1mDEBUG   \u001b[0m | \u001b[36mCRFWrapper\u001b[0m:\u001b[36mbootstrap_eval\u001b[0m:\u001b[36m293\u001b[0m - \u001b[34m\u001b[1mcomplete\u001b[0m\n",
      "\u001b[32m2024-04-04 23:51:01.944\u001b[0m | \u001b[34m\u001b[1mDEBUG   \u001b[0m | \u001b[36mALSampler\u001b[0m:\u001b[36msimulate_rounds\u001b[0m:\u001b[36m56\u001b[0m - \u001b[34m\u001b[1m{'precision': 0.9472037310077495, 'recall': 0.8527658645533756, 'f1': 0.8975053720250022}\u001b[0m\n",
      "\u001b[32m2024-04-04 23:51:01.945\u001b[0m | \u001b[1mINFO    \u001b[0m | \u001b[36mALSampler\u001b[0m:\u001b[36msimulate_rounds\u001b[0m:\u001b[36m45\u001b[0m - \u001b[1msimulate round 7.\u001b[0m\n",
      "\u001b[32m2024-04-04 23:51:01.946\u001b[0m | \u001b[34m\u001b[1mDEBUG   \u001b[0m | \u001b[36mALSampler\u001b[0m:\u001b[36msample_next_round\u001b[0m:\u001b[36m84\u001b[0m - \u001b[34m\u001b[1mTrain model wrapper on sampled 210 samples\u001b[0m\n",
      "\u001b[32m2024-04-04 23:51:01.947\u001b[0m | \u001b[34m\u001b[1mDEBUG   \u001b[0m | \u001b[36mALSampler\u001b[0m:\u001b[36msample_next_round\u001b[0m:\u001b[36m85\u001b[0m - \u001b[34m\u001b[1mUse trained model to estimate the remaining data certainty.\u001b[0m\n",
      "\u001b[32m2024-04-04 23:51:21.479\u001b[0m | \u001b[34m\u001b[1mDEBUG   \u001b[0m | \u001b[36mALSampler\u001b[0m:\u001b[36msample_next_round\u001b[0m:\u001b[36m88\u001b[0m - \u001b[34m\u001b[1mremain 93 docs, sort indx on certainty for 93\u001b[0m\n",
      "\u001b[32m2024-04-04 23:51:21.481\u001b[0m | \u001b[34m\u001b[1mDEBUG   \u001b[0m | \u001b[36mALSampler\u001b[0m:\u001b[36msample_next_round\u001b[0m:\u001b[36m95\u001b[0m - \u001b[34m\u001b[1mUpdate model with new sampled data\u001b[0m\n",
      "\u001b[32m2024-04-04 23:51:21.483\u001b[0m | \u001b[1mINFO    \u001b[0m | \u001b[36mALSampler\u001b[0m:\u001b[36mkeep_sample\u001b[0m:\u001b[36m39\u001b[0m - \u001b[1mcurrent sampled: 240, remaining: 63\u001b[0m\n",
      "\u001b[32m2024-04-04 23:51:52.849\u001b[0m | \u001b[34m\u001b[1mDEBUG   \u001b[0m | \u001b[36mCRFWrapper\u001b[0m:\u001b[36mfit\u001b[0m:\u001b[36m251\u001b[0m - \u001b[34m\u001b[1mReset and train CRF model...\u001b[0m\n",
      "\u001b[32m2024-04-05 00:00:39.317\u001b[0m | \u001b[34m\u001b[1mDEBUG   \u001b[0m | \u001b[36mCRFWrapper\u001b[0m:\u001b[36mfit\u001b[0m:\u001b[36m259\u001b[0m - \u001b[34m\u001b[1mTraining complete.\u001b[0m\n",
      "\u001b[32m2024-04-05 00:00:40.172\u001b[0m | \u001b[34m\u001b[1mDEBUG   \u001b[0m | \u001b[36mCRFWrapper\u001b[0m:\u001b[36mbootstrap_eval\u001b[0m:\u001b[36m280\u001b[0m - \u001b[34m\u001b[1mPredicting eval docs...\u001b[0m\n",
      "\u001b[32m2024-04-05 00:01:16.649\u001b[0m | \u001b[34m\u001b[1mDEBUG   \u001b[0m | \u001b[36mCRFWrapper\u001b[0m:\u001b[36mbootstrap_eval\u001b[0m:\u001b[36m284\u001b[0m - \u001b[34m\u001b[1mCalculate scores from bootstrapping 200 times\u001b[0m\n",
      "\u001b[32m2024-04-05 00:05:37.636\u001b[0m | \u001b[34m\u001b[1mDEBUG   \u001b[0m | \u001b[36mCRFWrapper\u001b[0m:\u001b[36mbootstrap_eval\u001b[0m:\u001b[36m293\u001b[0m - \u001b[34m\u001b[1mcomplete\u001b[0m\n",
      "\u001b[32m2024-04-05 00:05:37.756\u001b[0m | \u001b[34m\u001b[1mDEBUG   \u001b[0m | \u001b[36mALSampler\u001b[0m:\u001b[36msimulate_rounds\u001b[0m:\u001b[36m56\u001b[0m - \u001b[34m\u001b[1m{'precision': 0.9451539237181896, 'recall': 0.8574118575731104, 'f1': 0.8991451748330076}\u001b[0m\n",
      "\u001b[32m2024-04-05 00:05:37.757\u001b[0m | \u001b[1mINFO    \u001b[0m | \u001b[36mALSampler\u001b[0m:\u001b[36msimulate_rounds\u001b[0m:\u001b[36m45\u001b[0m - \u001b[1msimulate round 8.\u001b[0m\n",
      "\u001b[32m2024-04-05 00:05:37.758\u001b[0m | \u001b[34m\u001b[1mDEBUG   \u001b[0m | \u001b[36mALSampler\u001b[0m:\u001b[36msample_next_round\u001b[0m:\u001b[36m84\u001b[0m - \u001b[34m\u001b[1mTrain model wrapper on sampled 240 samples\u001b[0m\n",
      "\u001b[32m2024-04-05 00:05:37.759\u001b[0m | \u001b[34m\u001b[1mDEBUG   \u001b[0m | \u001b[36mALSampler\u001b[0m:\u001b[36msample_next_round\u001b[0m:\u001b[36m85\u001b[0m - \u001b[34m\u001b[1mUse trained model to estimate the remaining data certainty.\u001b[0m\n",
      "\u001b[32m2024-04-05 00:05:50.733\u001b[0m | \u001b[34m\u001b[1mDEBUG   \u001b[0m | \u001b[36mALSampler\u001b[0m:\u001b[36msample_next_round\u001b[0m:\u001b[36m88\u001b[0m - \u001b[34m\u001b[1mremain 63 docs, sort indx on certainty for 63\u001b[0m\n",
      "\u001b[32m2024-04-05 00:05:50.735\u001b[0m | \u001b[34m\u001b[1mDEBUG   \u001b[0m | \u001b[36mALSampler\u001b[0m:\u001b[36msample_next_round\u001b[0m:\u001b[36m95\u001b[0m - \u001b[34m\u001b[1mUpdate model with new sampled data\u001b[0m\n",
      "\u001b[32m2024-04-05 00:05:50.736\u001b[0m | \u001b[1mINFO    \u001b[0m | \u001b[36mALSampler\u001b[0m:\u001b[36mkeep_sample\u001b[0m:\u001b[36m39\u001b[0m - \u001b[1mcurrent sampled: 270, remaining: 33\u001b[0m\n",
      "\u001b[32m2024-04-05 00:06:24.776\u001b[0m | \u001b[34m\u001b[1mDEBUG   \u001b[0m | \u001b[36mCRFWrapper\u001b[0m:\u001b[36mfit\u001b[0m:\u001b[36m251\u001b[0m - \u001b[34m\u001b[1mReset and train CRF model...\u001b[0m\n",
      "\u001b[32m2024-04-05 00:15:49.682\u001b[0m | \u001b[34m\u001b[1mDEBUG   \u001b[0m | \u001b[36mCRFWrapper\u001b[0m:\u001b[36mfit\u001b[0m:\u001b[36m259\u001b[0m - \u001b[34m\u001b[1mTraining complete.\u001b[0m\n",
      "\u001b[32m2024-04-05 00:15:50.637\u001b[0m | \u001b[34m\u001b[1mDEBUG   \u001b[0m | \u001b[36mCRFWrapper\u001b[0m:\u001b[36mbootstrap_eval\u001b[0m:\u001b[36m280\u001b[0m - \u001b[34m\u001b[1mPredicting eval docs...\u001b[0m\n",
      "\u001b[32m2024-04-05 00:16:26.279\u001b[0m | \u001b[34m\u001b[1mDEBUG   \u001b[0m | \u001b[36mCRFWrapper\u001b[0m:\u001b[36mbootstrap_eval\u001b[0m:\u001b[36m284\u001b[0m - \u001b[34m\u001b[1mCalculate scores from bootstrapping 200 times\u001b[0m\n",
      "\u001b[32m2024-04-05 00:20:39.592\u001b[0m | \u001b[34m\u001b[1mDEBUG   \u001b[0m | \u001b[36mCRFWrapper\u001b[0m:\u001b[36mbootstrap_eval\u001b[0m:\u001b[36m293\u001b[0m - \u001b[34m\u001b[1mcomplete\u001b[0m\n",
      "\u001b[32m2024-04-05 00:20:39.706\u001b[0m | \u001b[34m\u001b[1mDEBUG   \u001b[0m | \u001b[36mALSampler\u001b[0m:\u001b[36msimulate_rounds\u001b[0m:\u001b[36m56\u001b[0m - \u001b[34m\u001b[1m{'precision': 0.9480873296296266, 'recall': 0.8570747083043352, 'f1': 0.9002846528178935}\u001b[0m\n",
      "\u001b[32m2024-04-05 00:20:39.707\u001b[0m | \u001b[1mINFO    \u001b[0m | \u001b[36mALSampler\u001b[0m:\u001b[36msimulate_rounds\u001b[0m:\u001b[36m45\u001b[0m - \u001b[1msimulate round 9.\u001b[0m\n",
      "\u001b[32m2024-04-05 00:20:39.708\u001b[0m | \u001b[34m\u001b[1mDEBUG   \u001b[0m | \u001b[36mALSampler\u001b[0m:\u001b[36msample_next_round\u001b[0m:\u001b[36m84\u001b[0m - \u001b[34m\u001b[1mTrain model wrapper on sampled 270 samples\u001b[0m\n",
      "\u001b[32m2024-04-05 00:20:39.709\u001b[0m | \u001b[34m\u001b[1mDEBUG   \u001b[0m | \u001b[36mALSampler\u001b[0m:\u001b[36msample_next_round\u001b[0m:\u001b[36m85\u001b[0m - \u001b[34m\u001b[1mUse trained model to estimate the remaining data certainty.\u001b[0m\n",
      "\u001b[32m2024-04-05 00:20:45.309\u001b[0m | \u001b[34m\u001b[1mDEBUG   \u001b[0m | \u001b[36mALSampler\u001b[0m:\u001b[36msample_next_round\u001b[0m:\u001b[36m88\u001b[0m - \u001b[34m\u001b[1mremain 33 docs, sort indx on certainty for 33\u001b[0m\n",
      "\u001b[32m2024-04-05 00:20:45.310\u001b[0m | \u001b[34m\u001b[1mDEBUG   \u001b[0m | \u001b[36mALSampler\u001b[0m:\u001b[36msample_next_round\u001b[0m:\u001b[36m95\u001b[0m - \u001b[34m\u001b[1mUpdate model with new sampled data\u001b[0m\n",
      "\u001b[32m2024-04-05 00:20:45.312\u001b[0m | \u001b[1mINFO    \u001b[0m | \u001b[36mALSampler\u001b[0m:\u001b[36mkeep_sample\u001b[0m:\u001b[36m39\u001b[0m - \u001b[1mcurrent sampled: 300, remaining: 3\u001b[0m\n",
      "\u001b[32m2024-04-05 00:20:45.313\u001b[0m | \u001b[1mINFO    \u001b[0m | \u001b[36mALSampler\u001b[0m:\u001b[36msimulate_rounds\u001b[0m:\u001b[36m50\u001b[0m - \u001b[1mIt's the last round, now add all docs to sampled.\u001b[0m\n",
      "\u001b[32m2024-04-05 00:21:21.757\u001b[0m | \u001b[34m\u001b[1mDEBUG   \u001b[0m | \u001b[36mCRFWrapper\u001b[0m:\u001b[36mfit\u001b[0m:\u001b[36m251\u001b[0m - \u001b[34m\u001b[1mReset and train CRF model...\u001b[0m\n",
      "\u001b[32m2024-04-05 00:31:30.909\u001b[0m | \u001b[34m\u001b[1mDEBUG   \u001b[0m | \u001b[36mCRFWrapper\u001b[0m:\u001b[36mfit\u001b[0m:\u001b[36m259\u001b[0m - \u001b[34m\u001b[1mTraining complete.\u001b[0m\n",
      "\u001b[32m2024-04-05 00:31:31.947\u001b[0m | \u001b[34m\u001b[1mDEBUG   \u001b[0m | \u001b[36mCRFWrapper\u001b[0m:\u001b[36mbootstrap_eval\u001b[0m:\u001b[36m280\u001b[0m - \u001b[34m\u001b[1mPredicting eval docs...\u001b[0m\n",
      "\u001b[32m2024-04-05 00:32:08.045\u001b[0m | \u001b[34m\u001b[1mDEBUG   \u001b[0m | \u001b[36mCRFWrapper\u001b[0m:\u001b[36mbootstrap_eval\u001b[0m:\u001b[36m284\u001b[0m - \u001b[34m\u001b[1mCalculate scores from bootstrapping 200 times\u001b[0m\n",
      "\u001b[32m2024-04-05 00:36:22.567\u001b[0m | \u001b[34m\u001b[1mDEBUG   \u001b[0m | \u001b[36mCRFWrapper\u001b[0m:\u001b[36mbootstrap_eval\u001b[0m:\u001b[36m293\u001b[0m - \u001b[34m\u001b[1mcomplete\u001b[0m\n",
      "\u001b[32m2024-04-05 00:36:22.686\u001b[0m | \u001b[34m\u001b[1mDEBUG   \u001b[0m | \u001b[36mALSampler\u001b[0m:\u001b[36msimulate_rounds\u001b[0m:\u001b[36m56\u001b[0m - \u001b[34m\u001b[1m{'precision': 0.9457992277438143, 'recall': 0.8594842631667159, 'f1': 0.9005761462999615}\u001b[0m\n"
     ]
    }
   ],
   "source": [
    "scores=m_simulator.simulate_rounds()"
   ]
  },
  {
   "cell_type": "code",
   "execution_count": 14,
   "id": "c909a29a-29f4-4a98-a698-782d85c1fd1a",
   "metadata": {},
   "outputs": [],
   "source": [
    "def compute_mean_ci(scores):\n",
    "    ave=np.mean(scores)\n",
    "    ci=np.percentile(scores, [2.5, 97.5])\n",
    "    return ave, ci\n",
    "\n",
    "summary={'precision': [], 'pl':[], 'pu': [], 'recall': [], 'rl':[], 'ru': [], 'f1':[], 'fl':[], 'fu': []}\n",
    "for s in scores:    \n",
    "    for k,v in s.items():\n",
    "        ave, (l, u)=compute_mean_ci(v)\n",
    "        summary[k].append(ave)\n",
    "        summary[k[0]+'l'].append(l)\n",
    "        summary[k[0]+'u'].append(u)\n"
   ]
  },
  {
   "cell_type": "code",
   "execution_count": 15,
   "id": "ef755c0a-2def-498e-a42b-9bd858b164be",
   "metadata": {},
   "outputs": [],
   "source": [
    "pd.options.display.float_format='{:,.4f}'.format"
   ]
  },
  {
   "cell_type": "code",
   "execution_count": 16,
   "id": "4232d31c-9d9f-44bc-8a21-e87889df420f",
   "metadata": {},
   "outputs": [
    {
     "data": {
      "text/html": [
       "<div>\n",
       "<style scoped>\n",
       "    .dataframe tbody tr th:only-of-type {\n",
       "        vertical-align: middle;\n",
       "    }\n",
       "\n",
       "    .dataframe tbody tr th {\n",
       "        vertical-align: top;\n",
       "    }\n",
       "\n",
       "    .dataframe thead th {\n",
       "        text-align: right;\n",
       "    }\n",
       "</style>\n",
       "<table border=\"1\" class=\"dataframe\">\n",
       "  <thead>\n",
       "    <tr style=\"text-align: right;\">\n",
       "      <th></th>\n",
       "      <th>precision</th>\n",
       "      <th>pl</th>\n",
       "      <th>pu</th>\n",
       "      <th>recall</th>\n",
       "      <th>rl</th>\n",
       "      <th>ru</th>\n",
       "      <th>f1</th>\n",
       "      <th>fl</th>\n",
       "      <th>fu</th>\n",
       "    </tr>\n",
       "  </thead>\n",
       "  <tbody>\n",
       "    <tr>\n",
       "      <th>0</th>\n",
       "      <td>0.9435</td>\n",
       "      <td>0.9402</td>\n",
       "      <td>0.9472</td>\n",
       "      <td>0.7792</td>\n",
       "      <td>0.7715</td>\n",
       "      <td>0.7860</td>\n",
       "      <td>0.8535</td>\n",
       "      <td>0.8485</td>\n",
       "      <td>0.8582</td>\n",
       "    </tr>\n",
       "    <tr>\n",
       "      <th>1</th>\n",
       "      <td>0.9455</td>\n",
       "      <td>0.9419</td>\n",
       "      <td>0.9489</td>\n",
       "      <td>0.8093</td>\n",
       "      <td>0.8024</td>\n",
       "      <td>0.8170</td>\n",
       "      <td>0.8721</td>\n",
       "      <td>0.8671</td>\n",
       "      <td>0.8764</td>\n",
       "    </tr>\n",
       "    <tr>\n",
       "      <th>2</th>\n",
       "      <td>0.9451</td>\n",
       "      <td>0.9419</td>\n",
       "      <td>0.9487</td>\n",
       "      <td>0.8272</td>\n",
       "      <td>0.8222</td>\n",
       "      <td>0.8340</td>\n",
       "      <td>0.8822</td>\n",
       "      <td>0.8790</td>\n",
       "      <td>0.8869</td>\n",
       "    </tr>\n",
       "    <tr>\n",
       "      <th>3</th>\n",
       "      <td>0.9461</td>\n",
       "      <td>0.9429</td>\n",
       "      <td>0.9494</td>\n",
       "      <td>0.8374</td>\n",
       "      <td>0.8318</td>\n",
       "      <td>0.8432</td>\n",
       "      <td>0.8884</td>\n",
       "      <td>0.8846</td>\n",
       "      <td>0.8923</td>\n",
       "    </tr>\n",
       "    <tr>\n",
       "      <th>4</th>\n",
       "      <td>0.9448</td>\n",
       "      <td>0.9408</td>\n",
       "      <td>0.9482</td>\n",
       "      <td>0.8441</td>\n",
       "      <td>0.8384</td>\n",
       "      <td>0.8496</td>\n",
       "      <td>0.8916</td>\n",
       "      <td>0.8879</td>\n",
       "      <td>0.8954</td>\n",
       "    </tr>\n",
       "    <tr>\n",
       "      <th>5</th>\n",
       "      <td>0.9444</td>\n",
       "      <td>0.9413</td>\n",
       "      <td>0.9474</td>\n",
       "      <td>0.8527</td>\n",
       "      <td>0.8476</td>\n",
       "      <td>0.8582</td>\n",
       "      <td>0.8962</td>\n",
       "      <td>0.8929</td>\n",
       "      <td>0.8998</td>\n",
       "    </tr>\n",
       "    <tr>\n",
       "      <th>6</th>\n",
       "      <td>0.9472</td>\n",
       "      <td>0.9443</td>\n",
       "      <td>0.9501</td>\n",
       "      <td>0.8528</td>\n",
       "      <td>0.8477</td>\n",
       "      <td>0.8579</td>\n",
       "      <td>0.8975</td>\n",
       "      <td>0.8941</td>\n",
       "      <td>0.9011</td>\n",
       "    </tr>\n",
       "    <tr>\n",
       "      <th>7</th>\n",
       "      <td>0.9452</td>\n",
       "      <td>0.9421</td>\n",
       "      <td>0.9481</td>\n",
       "      <td>0.8574</td>\n",
       "      <td>0.8526</td>\n",
       "      <td>0.8629</td>\n",
       "      <td>0.8991</td>\n",
       "      <td>0.8956</td>\n",
       "      <td>0.9024</td>\n",
       "    </tr>\n",
       "    <tr>\n",
       "      <th>8</th>\n",
       "      <td>0.9481</td>\n",
       "      <td>0.9451</td>\n",
       "      <td>0.9518</td>\n",
       "      <td>0.8571</td>\n",
       "      <td>0.8530</td>\n",
       "      <td>0.8616</td>\n",
       "      <td>0.9003</td>\n",
       "      <td>0.8977</td>\n",
       "      <td>0.9036</td>\n",
       "    </tr>\n",
       "    <tr>\n",
       "      <th>9</th>\n",
       "      <td>0.9458</td>\n",
       "      <td>0.9423</td>\n",
       "      <td>0.9490</td>\n",
       "      <td>0.8595</td>\n",
       "      <td>0.8545</td>\n",
       "      <td>0.8641</td>\n",
       "      <td>0.9006</td>\n",
       "      <td>0.8967</td>\n",
       "      <td>0.9040</td>\n",
       "    </tr>\n",
       "  </tbody>\n",
       "</table>\n",
       "</div>"
      ],
      "text/plain": [
       "   precision     pl     pu  recall     rl     ru     f1     fl     fu\n",
       "0     0.9435 0.9402 0.9472  0.7792 0.7715 0.7860 0.8535 0.8485 0.8582\n",
       "1     0.9455 0.9419 0.9489  0.8093 0.8024 0.8170 0.8721 0.8671 0.8764\n",
       "2     0.9451 0.9419 0.9487  0.8272 0.8222 0.8340 0.8822 0.8790 0.8869\n",
       "3     0.9461 0.9429 0.9494  0.8374 0.8318 0.8432 0.8884 0.8846 0.8923\n",
       "4     0.9448 0.9408 0.9482  0.8441 0.8384 0.8496 0.8916 0.8879 0.8954\n",
       "5     0.9444 0.9413 0.9474  0.8527 0.8476 0.8582 0.8962 0.8929 0.8998\n",
       "6     0.9472 0.9443 0.9501  0.8528 0.8477 0.8579 0.8975 0.8941 0.9011\n",
       "7     0.9452 0.9421 0.9481  0.8574 0.8526 0.8629 0.8991 0.8956 0.9024\n",
       "8     0.9481 0.9451 0.9518  0.8571 0.8530 0.8616 0.9003 0.8977 0.9036\n",
       "9     0.9458 0.9423 0.9490  0.8595 0.8545 0.8641 0.9006 0.8967 0.9040"
      ]
     },
     "execution_count": 16,
     "metadata": {},
     "output_type": "execute_result"
    }
   ],
   "source": [
    "pd.DataFrame(summary)"
   ]
  },
  {
   "cell_type": "markdown",
   "id": "f4b51bd0-6d3e-4141-b4f3-415e27d84914",
   "metadata": {},
   "source": [
    "## Bootstrap 3 different initials runs"
   ]
  },
  {
   "cell_type": "code",
   "execution_count": 17,
   "id": "e1b6a7cf-9b75-42ca-ae75-4417a360d52f",
   "metadata": {},
   "outputs": [],
   "source": [
    "boostrap_runs=3\n",
    "total_round=10"
   ]
  },
  {
   "cell_type": "code",
   "execution_count": 18,
   "id": "ae0cbdbc-d3fa-4388-b3ec-beb675d3ef00",
   "metadata": {},
   "outputs": [
    {
     "data": {
      "text/plain": [
       "1"
      ]
     },
     "execution_count": 18,
     "metadata": {},
     "output_type": "execute_result"
    }
   ],
   "source": [
    "logger.remove()\n",
    "logger.add(sys.stderr, level='INFO')"
   ]
  },
  {
   "cell_type": "code",
   "execution_count": 19,
   "id": "fb1ecb94-8454-4765-ae6e-aeeb6d501e3f",
   "metadata": {},
   "outputs": [
    {
     "data": {
      "text/plain": [
       "[1792286, 8843471, 4142887]"
      ]
     },
     "execution_count": 19,
     "metadata": {},
     "output_type": "execute_result"
    }
   ],
   "source": [
    "random.seed(14)\n",
    "seeds=[random.randint(1,10000000) for  _ in range(boostrap_runs)]\n",
    "seeds"
   ]
  },
  {
   "cell_type": "code",
   "execution_count": 20,
   "id": "29beb899-99be-45da-9a06-cb34f5031980",
   "metadata": {},
   "outputs": [
    {
     "name": "stderr",
     "output_type": "stream",
     "text": [
      "\u001b[32m2024-04-09 10:30:04.634\u001b[0m | \u001b[1mINFO    \u001b[0m | \u001b[36m__main__\u001b[0m:\u001b[36m<module>\u001b[0m:\u001b[36m3\u001b[0m - \u001b[1mstart run 0.\u001b[0m\n",
      "\u001b[32m2024-04-09 10:30:04.646\u001b[0m | \u001b[1mINFO    \u001b[0m | \u001b[36mALSampler\u001b[0m:\u001b[36msimulate_rounds\u001b[0m:\u001b[36m45\u001b[0m - \u001b[1msimulate round 0.\u001b[0m\n",
      "\u001b[32m2024-04-09 10:30:04.647\u001b[0m | \u001b[1mINFO    \u001b[0m | \u001b[36mALSampler\u001b[0m:\u001b[36mkeep_sample\u001b[0m:\u001b[36m39\u001b[0m - \u001b[1mcurrent sampled: 30, remaining: 273\u001b[0m\n",
      "\u001b[32m2024-04-09 10:35:57.078\u001b[0m | \u001b[1mINFO    \u001b[0m | \u001b[36mALSampler\u001b[0m:\u001b[36msimulate_rounds\u001b[0m:\u001b[36m45\u001b[0m - \u001b[1msimulate round 1.\u001b[0m\n",
      "\u001b[32m2024-04-09 10:37:11.900\u001b[0m | \u001b[1mINFO    \u001b[0m | \u001b[36mALSampler\u001b[0m:\u001b[36mkeep_sample\u001b[0m:\u001b[36m39\u001b[0m - \u001b[1mcurrent sampled: 60, remaining: 243\u001b[0m\n",
      "\u001b[32m2024-04-09 10:44:22.287\u001b[0m | \u001b[1mINFO    \u001b[0m | \u001b[36mALSampler\u001b[0m:\u001b[36msimulate_rounds\u001b[0m:\u001b[36m45\u001b[0m - \u001b[1msimulate round 2.\u001b[0m\n",
      "\u001b[32m2024-04-09 10:45:25.429\u001b[0m | \u001b[1mINFO    \u001b[0m | \u001b[36mALSampler\u001b[0m:\u001b[36mkeep_sample\u001b[0m:\u001b[36m39\u001b[0m - \u001b[1mcurrent sampled: 90, remaining: 213\u001b[0m\n",
      "\u001b[32m2024-04-09 10:53:49.786\u001b[0m | \u001b[1mINFO    \u001b[0m | \u001b[36mALSampler\u001b[0m:\u001b[36msimulate_rounds\u001b[0m:\u001b[36m45\u001b[0m - \u001b[1msimulate round 3.\u001b[0m\n",
      "\u001b[32m2024-04-09 10:54:43.363\u001b[0m | \u001b[1mINFO    \u001b[0m | \u001b[36mALSampler\u001b[0m:\u001b[36mkeep_sample\u001b[0m:\u001b[36m39\u001b[0m - \u001b[1mcurrent sampled: 120, remaining: 183\u001b[0m\n",
      "\u001b[32m2024-04-09 11:04:13.952\u001b[0m | \u001b[1mINFO    \u001b[0m | \u001b[36mALSampler\u001b[0m:\u001b[36msimulate_rounds\u001b[0m:\u001b[36m45\u001b[0m - \u001b[1msimulate round 4.\u001b[0m\n",
      "\u001b[32m2024-04-09 11:04:58.732\u001b[0m | \u001b[1mINFO    \u001b[0m | \u001b[36mALSampler\u001b[0m:\u001b[36mkeep_sample\u001b[0m:\u001b[36m39\u001b[0m - \u001b[1mcurrent sampled: 150, remaining: 153\u001b[0m\n",
      "\u001b[32m2024-04-09 11:15:50.181\u001b[0m | \u001b[1mINFO    \u001b[0m | \u001b[36mALSampler\u001b[0m:\u001b[36msimulate_rounds\u001b[0m:\u001b[36m45\u001b[0m - \u001b[1msimulate round 5.\u001b[0m\n",
      "\u001b[32m2024-04-09 11:16:25.456\u001b[0m | \u001b[1mINFO    \u001b[0m | \u001b[36mALSampler\u001b[0m:\u001b[36mkeep_sample\u001b[0m:\u001b[36m39\u001b[0m - \u001b[1mcurrent sampled: 180, remaining: 123\u001b[0m\n",
      "\u001b[32m2024-04-09 11:28:30.232\u001b[0m | \u001b[1mINFO    \u001b[0m | \u001b[36mALSampler\u001b[0m:\u001b[36msimulate_rounds\u001b[0m:\u001b[36m45\u001b[0m - \u001b[1msimulate round 6.\u001b[0m\n",
      "\u001b[32m2024-04-09 11:28:56.038\u001b[0m | \u001b[1mINFO    \u001b[0m | \u001b[36mALSampler\u001b[0m:\u001b[36mkeep_sample\u001b[0m:\u001b[36m39\u001b[0m - \u001b[1mcurrent sampled: 210, remaining: 93\u001b[0m\n",
      "\u001b[32m2024-04-09 11:41:49.316\u001b[0m | \u001b[1mINFO    \u001b[0m | \u001b[36mALSampler\u001b[0m:\u001b[36msimulate_rounds\u001b[0m:\u001b[36m45\u001b[0m - \u001b[1msimulate round 7.\u001b[0m\n",
      "\u001b[32m2024-04-09 11:42:08.589\u001b[0m | \u001b[1mINFO    \u001b[0m | \u001b[36mALSampler\u001b[0m:\u001b[36mkeep_sample\u001b[0m:\u001b[36m39\u001b[0m - \u001b[1mcurrent sampled: 240, remaining: 63\u001b[0m\n",
      "\u001b[32m2024-04-09 11:55:59.643\u001b[0m | \u001b[1mINFO    \u001b[0m | \u001b[36mALSampler\u001b[0m:\u001b[36msimulate_rounds\u001b[0m:\u001b[36m45\u001b[0m - \u001b[1msimulate round 8.\u001b[0m\n",
      "\u001b[32m2024-04-09 11:56:11.817\u001b[0m | \u001b[1mINFO    \u001b[0m | \u001b[36mALSampler\u001b[0m:\u001b[36mkeep_sample\u001b[0m:\u001b[36m39\u001b[0m - \u001b[1mcurrent sampled: 270, remaining: 33\u001b[0m\n",
      "\u001b[32m2024-04-09 12:10:52.489\u001b[0m | \u001b[1mINFO    \u001b[0m | \u001b[36mALSampler\u001b[0m:\u001b[36msimulate_rounds\u001b[0m:\u001b[36m45\u001b[0m - \u001b[1msimulate round 9.\u001b[0m\n",
      "\u001b[32m2024-04-09 12:10:58.090\u001b[0m | \u001b[1mINFO    \u001b[0m | \u001b[36mALSampler\u001b[0m:\u001b[36mkeep_sample\u001b[0m:\u001b[36m39\u001b[0m - \u001b[1mcurrent sampled: 300, remaining: 3\u001b[0m\n",
      "\u001b[32m2024-04-09 12:10:58.092\u001b[0m | \u001b[1mINFO    \u001b[0m | \u001b[36mALSampler\u001b[0m:\u001b[36msimulate_rounds\u001b[0m:\u001b[36m50\u001b[0m - \u001b[1mIt's the last round, now add all docs to sampled.\u001b[0m\n",
      "\u001b[32m2024-04-09 12:26:31.798\u001b[0m | \u001b[1mINFO    \u001b[0m | \u001b[36m__main__\u001b[0m:\u001b[36m<module>\u001b[0m:\u001b[36m3\u001b[0m - \u001b[1mstart run 1.\u001b[0m\n",
      "\u001b[32m2024-04-09 12:26:31.808\u001b[0m | \u001b[1mINFO    \u001b[0m | \u001b[36mALSampler\u001b[0m:\u001b[36msimulate_rounds\u001b[0m:\u001b[36m45\u001b[0m - \u001b[1msimulate round 0.\u001b[0m\n",
      "\u001b[32m2024-04-09 12:26:31.809\u001b[0m | \u001b[1mINFO    \u001b[0m | \u001b[36mALSampler\u001b[0m:\u001b[36mkeep_sample\u001b[0m:\u001b[36m39\u001b[0m - \u001b[1mcurrent sampled: 30, remaining: 273\u001b[0m\n",
      "\u001b[32m2024-04-09 12:32:17.663\u001b[0m | \u001b[1mINFO    \u001b[0m | \u001b[36mALSampler\u001b[0m:\u001b[36msimulate_rounds\u001b[0m:\u001b[36m45\u001b[0m - \u001b[1msimulate round 1.\u001b[0m\n",
      "\u001b[32m2024-04-09 12:33:30.895\u001b[0m | \u001b[1mINFO    \u001b[0m | \u001b[36mALSampler\u001b[0m:\u001b[36mkeep_sample\u001b[0m:\u001b[36m39\u001b[0m - \u001b[1mcurrent sampled: 60, remaining: 243\u001b[0m\n",
      "\u001b[32m2024-04-09 12:40:40.817\u001b[0m | \u001b[1mINFO    \u001b[0m | \u001b[36mALSampler\u001b[0m:\u001b[36msimulate_rounds\u001b[0m:\u001b[36m45\u001b[0m - \u001b[1msimulate round 2.\u001b[0m\n",
      "\u001b[32m2024-04-09 12:41:43.936\u001b[0m | \u001b[1mINFO    \u001b[0m | \u001b[36mALSampler\u001b[0m:\u001b[36mkeep_sample\u001b[0m:\u001b[36m39\u001b[0m - \u001b[1mcurrent sampled: 90, remaining: 213\u001b[0m\n",
      "\u001b[32m2024-04-09 12:50:04.655\u001b[0m | \u001b[1mINFO    \u001b[0m | \u001b[36mALSampler\u001b[0m:\u001b[36msimulate_rounds\u001b[0m:\u001b[36m45\u001b[0m - \u001b[1msimulate round 3.\u001b[0m\n",
      "\u001b[32m2024-04-09 12:50:58.796\u001b[0m | \u001b[1mINFO    \u001b[0m | \u001b[36mALSampler\u001b[0m:\u001b[36mkeep_sample\u001b[0m:\u001b[36m39\u001b[0m - \u001b[1mcurrent sampled: 120, remaining: 183\u001b[0m\n",
      "\u001b[32m2024-04-09 13:00:31.401\u001b[0m | \u001b[1mINFO    \u001b[0m | \u001b[36mALSampler\u001b[0m:\u001b[36msimulate_rounds\u001b[0m:\u001b[36m45\u001b[0m - \u001b[1msimulate round 4.\u001b[0m\n",
      "\u001b[32m2024-04-09 13:01:16.068\u001b[0m | \u001b[1mINFO    \u001b[0m | \u001b[36mALSampler\u001b[0m:\u001b[36mkeep_sample\u001b[0m:\u001b[36m39\u001b[0m - \u001b[1mcurrent sampled: 150, remaining: 153\u001b[0m\n",
      "\u001b[32m2024-04-09 13:12:10.574\u001b[0m | \u001b[1mINFO    \u001b[0m | \u001b[36mALSampler\u001b[0m:\u001b[36msimulate_rounds\u001b[0m:\u001b[36m45\u001b[0m - \u001b[1msimulate round 5.\u001b[0m\n",
      "\u001b[32m2024-04-09 13:12:45.770\u001b[0m | \u001b[1mINFO    \u001b[0m | \u001b[36mALSampler\u001b[0m:\u001b[36mkeep_sample\u001b[0m:\u001b[36m39\u001b[0m - \u001b[1mcurrent sampled: 180, remaining: 123\u001b[0m\n",
      "\u001b[32m2024-04-09 13:24:49.955\u001b[0m | \u001b[1mINFO    \u001b[0m | \u001b[36mALSampler\u001b[0m:\u001b[36msimulate_rounds\u001b[0m:\u001b[36m45\u001b[0m - \u001b[1msimulate round 6.\u001b[0m\n",
      "\u001b[32m2024-04-09 13:25:15.667\u001b[0m | \u001b[1mINFO    \u001b[0m | \u001b[36mALSampler\u001b[0m:\u001b[36mkeep_sample\u001b[0m:\u001b[36m39\u001b[0m - \u001b[1mcurrent sampled: 210, remaining: 93\u001b[0m\n",
      "\u001b[32m2024-04-09 13:38:10.217\u001b[0m | \u001b[1mINFO    \u001b[0m | \u001b[36mALSampler\u001b[0m:\u001b[36msimulate_rounds\u001b[0m:\u001b[36m45\u001b[0m - \u001b[1msimulate round 7.\u001b[0m\n",
      "\u001b[32m2024-04-09 13:38:29.457\u001b[0m | \u001b[1mINFO    \u001b[0m | \u001b[36mALSampler\u001b[0m:\u001b[36mkeep_sample\u001b[0m:\u001b[36m39\u001b[0m - \u001b[1mcurrent sampled: 240, remaining: 63\u001b[0m\n",
      "\u001b[32m2024-04-09 13:52:21.446\u001b[0m | \u001b[1mINFO    \u001b[0m | \u001b[36mALSampler\u001b[0m:\u001b[36msimulate_rounds\u001b[0m:\u001b[36m45\u001b[0m - \u001b[1msimulate round 8.\u001b[0m\n",
      "\u001b[32m2024-04-09 13:52:34.092\u001b[0m | \u001b[1mINFO    \u001b[0m | \u001b[36mALSampler\u001b[0m:\u001b[36mkeep_sample\u001b[0m:\u001b[36m39\u001b[0m - \u001b[1mcurrent sampled: 270, remaining: 33\u001b[0m\n",
      "\u001b[32m2024-04-09 14:07:14.851\u001b[0m | \u001b[1mINFO    \u001b[0m | \u001b[36mALSampler\u001b[0m:\u001b[36msimulate_rounds\u001b[0m:\u001b[36m45\u001b[0m - \u001b[1msimulate round 9.\u001b[0m\n",
      "\u001b[32m2024-04-09 14:07:20.450\u001b[0m | \u001b[1mINFO    \u001b[0m | \u001b[36mALSampler\u001b[0m:\u001b[36mkeep_sample\u001b[0m:\u001b[36m39\u001b[0m - \u001b[1mcurrent sampled: 300, remaining: 3\u001b[0m\n",
      "\u001b[32m2024-04-09 14:07:20.452\u001b[0m | \u001b[1mINFO    \u001b[0m | \u001b[36mALSampler\u001b[0m:\u001b[36msimulate_rounds\u001b[0m:\u001b[36m50\u001b[0m - \u001b[1mIt's the last round, now add all docs to sampled.\u001b[0m\n",
      "\u001b[32m2024-04-09 14:22:53.546\u001b[0m | \u001b[1mINFO    \u001b[0m | \u001b[36m__main__\u001b[0m:\u001b[36m<module>\u001b[0m:\u001b[36m3\u001b[0m - \u001b[1mstart run 2.\u001b[0m\n",
      "\u001b[32m2024-04-09 14:22:53.556\u001b[0m | \u001b[1mINFO    \u001b[0m | \u001b[36mALSampler\u001b[0m:\u001b[36msimulate_rounds\u001b[0m:\u001b[36m45\u001b[0m - \u001b[1msimulate round 0.\u001b[0m\n",
      "\u001b[32m2024-04-09 14:22:53.558\u001b[0m | \u001b[1mINFO    \u001b[0m | \u001b[36mALSampler\u001b[0m:\u001b[36mkeep_sample\u001b[0m:\u001b[36m39\u001b[0m - \u001b[1mcurrent sampled: 30, remaining: 273\u001b[0m\n",
      "\u001b[32m2024-04-09 14:28:38.937\u001b[0m | \u001b[1mINFO    \u001b[0m | \u001b[36mALSampler\u001b[0m:\u001b[36msimulate_rounds\u001b[0m:\u001b[36m45\u001b[0m - \u001b[1msimulate round 1.\u001b[0m\n",
      "\u001b[32m2024-04-09 14:29:53.194\u001b[0m | \u001b[1mINFO    \u001b[0m | \u001b[36mALSampler\u001b[0m:\u001b[36mkeep_sample\u001b[0m:\u001b[36m39\u001b[0m - \u001b[1mcurrent sampled: 60, remaining: 243\u001b[0m\n",
      "\u001b[32m2024-04-09 14:37:08.164\u001b[0m | \u001b[1mINFO    \u001b[0m | \u001b[36mALSampler\u001b[0m:\u001b[36msimulate_rounds\u001b[0m:\u001b[36m45\u001b[0m - \u001b[1msimulate round 2.\u001b[0m\n",
      "\u001b[32m2024-04-09 14:38:11.029\u001b[0m | \u001b[1mINFO    \u001b[0m | \u001b[36mALSampler\u001b[0m:\u001b[36mkeep_sample\u001b[0m:\u001b[36m39\u001b[0m - \u001b[1mcurrent sampled: 90, remaining: 213\u001b[0m\n",
      "\u001b[32m2024-04-09 14:46:35.252\u001b[0m | \u001b[1mINFO    \u001b[0m | \u001b[36mALSampler\u001b[0m:\u001b[36msimulate_rounds\u001b[0m:\u001b[36m45\u001b[0m - \u001b[1msimulate round 3.\u001b[0m\n",
      "\u001b[32m2024-04-09 14:47:28.838\u001b[0m | \u001b[1mINFO    \u001b[0m | \u001b[36mALSampler\u001b[0m:\u001b[36mkeep_sample\u001b[0m:\u001b[36m39\u001b[0m - \u001b[1mcurrent sampled: 120, remaining: 183\u001b[0m\n",
      "\u001b[32m2024-04-09 14:56:59.012\u001b[0m | \u001b[1mINFO    \u001b[0m | \u001b[36mALSampler\u001b[0m:\u001b[36msimulate_rounds\u001b[0m:\u001b[36m45\u001b[0m - \u001b[1msimulate round 4.\u001b[0m\n",
      "\u001b[32m2024-04-09 14:57:43.549\u001b[0m | \u001b[1mINFO    \u001b[0m | \u001b[36mALSampler\u001b[0m:\u001b[36mkeep_sample\u001b[0m:\u001b[36m39\u001b[0m - \u001b[1mcurrent sampled: 150, remaining: 153\u001b[0m\n",
      "\u001b[32m2024-04-09 15:08:36.628\u001b[0m | \u001b[1mINFO    \u001b[0m | \u001b[36mALSampler\u001b[0m:\u001b[36msimulate_rounds\u001b[0m:\u001b[36m45\u001b[0m - \u001b[1msimulate round 5.\u001b[0m\n",
      "\u001b[32m2024-04-09 15:09:11.394\u001b[0m | \u001b[1mINFO    \u001b[0m | \u001b[36mALSampler\u001b[0m:\u001b[36mkeep_sample\u001b[0m:\u001b[36m39\u001b[0m - \u001b[1mcurrent sampled: 180, remaining: 123\u001b[0m\n",
      "\u001b[32m2024-04-09 15:21:14.252\u001b[0m | \u001b[1mINFO    \u001b[0m | \u001b[36mALSampler\u001b[0m:\u001b[36msimulate_rounds\u001b[0m:\u001b[36m45\u001b[0m - \u001b[1msimulate round 6.\u001b[0m\n",
      "\u001b[32m2024-04-09 15:21:40.273\u001b[0m | \u001b[1mINFO    \u001b[0m | \u001b[36mALSampler\u001b[0m:\u001b[36mkeep_sample\u001b[0m:\u001b[36m39\u001b[0m - \u001b[1mcurrent sampled: 210, remaining: 93\u001b[0m\n",
      "\u001b[32m2024-04-09 15:34:31.958\u001b[0m | \u001b[1mINFO    \u001b[0m | \u001b[36mALSampler\u001b[0m:\u001b[36msimulate_rounds\u001b[0m:\u001b[36m45\u001b[0m - \u001b[1msimulate round 7.\u001b[0m\n",
      "\u001b[32m2024-04-09 15:34:51.083\u001b[0m | \u001b[1mINFO    \u001b[0m | \u001b[36mALSampler\u001b[0m:\u001b[36mkeep_sample\u001b[0m:\u001b[36m39\u001b[0m - \u001b[1mcurrent sampled: 240, remaining: 63\u001b[0m\n",
      "\u001b[32m2024-04-09 15:48:46.267\u001b[0m | \u001b[1mINFO    \u001b[0m | \u001b[36mALSampler\u001b[0m:\u001b[36msimulate_rounds\u001b[0m:\u001b[36m45\u001b[0m - \u001b[1msimulate round 8.\u001b[0m\n",
      "\u001b[32m2024-04-09 15:48:58.551\u001b[0m | \u001b[1mINFO    \u001b[0m | \u001b[36mALSampler\u001b[0m:\u001b[36mkeep_sample\u001b[0m:\u001b[36m39\u001b[0m - \u001b[1mcurrent sampled: 270, remaining: 33\u001b[0m\n",
      "\u001b[32m2024-04-09 16:03:51.970\u001b[0m | \u001b[1mINFO    \u001b[0m | \u001b[36mALSampler\u001b[0m:\u001b[36msimulate_rounds\u001b[0m:\u001b[36m45\u001b[0m - \u001b[1msimulate round 9.\u001b[0m\n",
      "\u001b[32m2024-04-09 16:03:57.940\u001b[0m | \u001b[1mINFO    \u001b[0m | \u001b[36mALSampler\u001b[0m:\u001b[36mkeep_sample\u001b[0m:\u001b[36m39\u001b[0m - \u001b[1mcurrent sampled: 300, remaining: 3\u001b[0m\n",
      "\u001b[32m2024-04-09 16:03:57.942\u001b[0m | \u001b[1mINFO    \u001b[0m | \u001b[36mALSampler\u001b[0m:\u001b[36msimulate_rounds\u001b[0m:\u001b[36m50\u001b[0m - \u001b[1mIt's the last round, now add all docs to sampled.\u001b[0m\n"
     ]
    }
   ],
   "source": [
    "all_scores=[]\n",
    "for si, seed  in enumerate(seeds):\n",
    "    logger.info(f'start run {si}.')\n",
    "    crf_model=CRFModel(anno_types=annos)\n",
    "    m_simulator=ModelSamplingSimulator(train_docs, total_round=total_round, modelWrapper=crf_model, eval_docs=test_docs, init_seed=seed)\n",
    "    scores=m_simulator.simulate_rounds()\n",
    "    all_scores.append(scores) "
   ]
  },
  {
   "cell_type": "code",
   "execution_count": 17,
   "id": "c87e3bad-fb84-4ae7-bf45-d59e830396ab",
   "metadata": {},
   "outputs": [
    {
     "data": {
      "text/plain": [
       "['..\\\\data\\\\vb_sampling\\\\ner_crf_scores.joblib']"
      ]
     },
     "execution_count": 17,
     "metadata": {},
     "output_type": "execute_result"
    }
   ],
   "source": [
    "joblib.dump(all_scores, r'..\\data\\vb_sampling\\ner_crf_scores.joblib')"
   ]
  },
  {
   "cell_type": "code",
   "execution_count": null,
   "id": "b47650d3-234b-4e21-95f6-f4651fdb4df0",
   "metadata": {},
   "outputs": [],
   "source": []
  }
 ],
 "metadata": {
  "kernelspec": {
   "display_name": "Python 3 (ipykernel)",
   "language": "python",
   "name": "python3"
  },
  "language_info": {
   "codemirror_mode": {
    "name": "ipython",
    "version": 3
   },
   "file_extension": ".py",
   "mimetype": "text/x-python",
   "name": "python",
   "nbconvert_exporter": "python",
   "pygments_lexer": "ipython3",
   "version": "3.8.18"
  }
 },
 "nbformat": 4,
 "nbformat_minor": 5
}
