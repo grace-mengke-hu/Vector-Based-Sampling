{
 "cells": [
  {
   "cell_type": "code",
   "execution_count": 1,
   "id": "8f97b1eb-82fb-4e71-8fba-bc8a1146d489",
   "metadata": {},
   "outputs": [
    {
     "data": {
      "text/plain": [
       "'O:\\\\VINCI_NLPETL\\\\workspace\\\\jianlins\\\\PycharmProjects\\\\vectorsearch\\\\notebooks'"
      ]
     },
     "execution_count": 1,
     "metadata": {},
     "output_type": "execute_result"
    }
   ],
   "source": [
    "pwd"
   ]
  },
  {
   "cell_type": "markdown",
   "id": "7120f3aa-1b3b-4347-b051-6c4af9a02178",
   "metadata": {},
   "source": [
    "# Import"
   ]
  },
  {
   "cell_type": "code",
   "execution_count": 2,
   "id": "fc2c7eff-b784-4114-8740-62c3fd0fa475",
   "metadata": {},
   "outputs": [],
   "source": [
    "import os, sys"
   ]
  },
  {
   "cell_type": "code",
   "execution_count": 3,
   "id": "0cc70ef3-6801-4546-adf2-b86402af741e",
   "metadata": {},
   "outputs": [],
   "source": [
    "from pathlib import Path\n",
    "import shutil\n",
    "from loguru import logger\n",
    "from bs4 import BeautifulSoup\n",
    "from spacy.lang.en import English\n",
    "from medspacy_io.reader.brat_reader import BratDocReader, BratDirReader\n",
    "from spacy import displacy\n",
    "import medspacy\n",
    "import spacy\n",
    "import pandas as pd\n",
    "from spacy.tokens import SpanGroup\n",
    "from medspacy_io.writer import EhostWriter\n",
    "from medspacy_io.vectorizer import Vectorizer\n",
    "import joblib\n",
    "from spacy.tokens import Doc\n",
    "from typing import List\n",
    "pd.reset_option('display.width', None)"
   ]
  },
  {
   "cell_type": "markdown",
   "id": "eb8d8ad6-7461-4ff6-bcc2-03224ede8089",
   "metadata": {},
   "source": [
    "# Prepare brat annotation for NER training"
   ]
  },
  {
   "cell_type": "code",
   "execution_count": 4,
   "id": "23003408-2c84-4128-8a20-fb3546893358",
   "metadata": {},
   "outputs": [],
   "source": [
    "train_dir=r'..\\data\\n2c2\\training'\n",
    "test_dir=r'..\\data\\n2c2\\test'"
   ]
  },
  {
   "cell_type": "code",
   "execution_count": 5,
   "id": "3fa11a4b-526b-48ad-8028-0c09e2a0d985",
   "metadata": {},
   "outputs": [
    {
     "data": {
      "text/plain": [
       "(True, True)"
      ]
     },
     "execution_count": 5,
     "metadata": {},
     "output_type": "execute_result"
    }
   ],
   "source": [
    "cleaned_train_dir=r'..\\data\\n2c2\\cleaned_training'\n",
    "cleaned_test_dir=r'..\\data\\n2c2\\cleaned_test'\n",
    "Path(cleaned_train_dir).exists(), Path(cleaned_test_dir).exists()"
   ]
  },
  {
   "cell_type": "code",
   "execution_count": 6,
   "id": "82b12032-82f4-45c3-9c4c-ea17c24ef673",
   "metadata": {},
   "outputs": [],
   "source": [
    "# only keep entity annotations"
   ]
  },
  {
   "cell_type": "code",
   "execution_count": 7,
   "id": "ca4f321c-f969-4c70-b591-056d81907c46",
   "metadata": {},
   "outputs": [],
   "source": [
    "def clean_annotations(source_dir):\n",
    "    source_dir=Path(source_dir)\n",
    "    target_dir=Path(source_dir.parent, 'cleaned_'+source_dir.name)\n",
    "    if not target_dir.exists():\n",
    "        target_dir.mkdir()\n",
    "    for f in source_dir.glob('*.*'):\n",
    "        if f.name.endswith('ann'):\n",
    "            lines=[l for l in f.read_text().split('\\n') if len(l.strip())>0  and l[0]=='T']\n",
    "            content='\\n'.join(lines)\n",
    "        else:\n",
    "            content=f.read_text()\n",
    "        Path(target_dir, f.name).write_text(content)\n",
    "    return target_dir"
   ]
  },
  {
   "cell_type": "code",
   "execution_count": 8,
   "id": "68dfc983-57d1-4e8f-904c-f44d7f4874e8",
   "metadata": {},
   "outputs": [],
   "source": [
    "if not Path(cleaned_train_dir).exists():\n",
    "   cleaned_rain_dir=clean_annotations(train_dir)"
   ]
  },
  {
   "cell_type": "code",
   "execution_count": 9,
   "id": "7a9c4d06-35db-455f-af07-8a6f67b03515",
   "metadata": {},
   "outputs": [],
   "source": [
    "if not Path(cleaned_test_dir).exists():\n",
    "    cleaned_test_dir=clean_annotations(test_dir)"
   ]
  },
  {
   "cell_type": "markdown",
   "id": "749f51a9-ed11-4bcf-b52a-c7d9e28fd3c3",
   "metadata": {},
   "source": [
    "## Load as spaCy docs"
   ]
  },
  {
   "cell_type": "code",
   "execution_count": 10,
   "id": "a57f8aef-0a0b-415f-8f22-bc8f90e8bf1f",
   "metadata": {},
   "outputs": [
    {
     "data": {
      "text/plain": [
       "(True, True)"
      ]
     },
     "execution_count": 10,
     "metadata": {},
     "output_type": "execute_result"
    }
   ],
   "source": [
    "cleaned_train_dir=r'..\\data\\n2c2\\cleaned_training'\n",
    "cleaned_test_dir=r'..\\data\\n2c2\\cleaned_test'\n",
    "Path(cleaned_train_dir).exists(), Path(cleaned_test_dir).exists()"
   ]
  },
  {
   "cell_type": "code",
   "execution_count": 11,
   "id": "59d804ae-f564-49fc-9dc7-1714339537a2",
   "metadata": {},
   "outputs": [],
   "source": [
    "nlp=spacy.load('en_core_web_sm', disable=['ner'])"
   ]
  },
  {
   "cell_type": "code",
   "execution_count": 12,
   "id": "ebbbcf28-c1a5-42d4-9b58-bf5d93fdaac9",
   "metadata": {},
   "outputs": [],
   "source": [
    "dir_reader = BratDirReader(nlp=nlp, schema_file=str(Path(cleaned_train_dir, 'annotation.conf')), support_overlap=True)"
   ]
  },
  {
   "cell_type": "code",
   "execution_count": 13,
   "id": "f44842ea-cfc3-45e5-b192-2a7c343c34f8",
   "metadata": {},
   "outputs": [],
   "source": [
    "pickle_file= r'..\\data\\n2c2\\spacy_docs.joblib'"
   ]
  },
  {
   "cell_type": "code",
   "execution_count": 14,
   "id": "71507db2-cc6f-4059-9054-4d2a08395d48",
   "metadata": {
    "scrolled": true
   },
   "outputs": [
    {
     "name": "stdout",
     "output_type": "stream",
     "text": [
      "..\\data\\n2c2\\spacy_docs.joblib already exists, load them directly\n"
     ]
    }
   ],
   "source": [
    "if not Path(pickle_file).exists():\n",
    "    train_docs=dir_reader.read(txt_dir=cleaned_train_dir)\n",
    "    test_docs=dir_reader.read(txt_dir=cleaned_test_dir)\n",
    "    print(len(train_docs), len(test_docs))\n",
    "    joblib.dump((train_docs, test_docs), pickle_file)\n",
    "else:\n",
    "    print(f'{pickle_file} already exists, load them directly')\n",
    "    # before load from pickle, initiate EhostDirReader or EhostDocReader first, because some Doc extension used to store meta data will not be automatically recreated by loading.\n",
    "    train_docs, test_docs=joblib.load(pickle_file)"
   ]
  },
  {
   "cell_type": "code",
   "execution_count": 15,
   "id": "1fd1b2ca-cfa7-4f34-b54e-61fe41e44ecb",
   "metadata": {},
   "outputs": [
    {
     "data": {
      "text/plain": [
       "(303, 202)"
      ]
     },
     "execution_count": 15,
     "metadata": {},
     "output_type": "execute_result"
    }
   ],
   "source": [
    "len(train_docs), len(test_docs)"
   ]
  },
  {
   "cell_type": "code",
   "execution_count": 16,
   "id": "5c0fc10d-0c7f-4787-8886-6ab032b2bd85",
   "metadata": {},
   "outputs": [],
   "source": [
    "#train_docs"
   ]
  },
  {
   "cell_type": "markdown",
   "id": "353d8d55-105f-4637-a509-197d36950aea",
   "metadata": {},
   "source": [
    "## Build embedding using sentence transformers"
   ]
  },
  {
   "cell_type": "code",
   "execution_count": 17,
   "id": "f2e86ab8-c941-463d-956b-fe03b257055d",
   "metadata": {},
   "outputs": [],
   "source": [
    "pickle_embedding_file= r'..\\data\\n2c2\\embedding_df.joblib'"
   ]
  },
  {
   "cell_type": "code",
   "execution_count": 18,
   "id": "d3a41f3a-3af1-4a5a-a2bb-90c7a106f6bb",
   "metadata": {},
   "outputs": [],
   "source": [
    "from sentence_transformers import SentenceTransformer"
   ]
  },
  {
   "cell_type": "code",
   "execution_count": 19,
   "id": "1f149ad3-6a16-4981-a980-6a2d213a094a",
   "metadata": {},
   "outputs": [],
   "source": [
    "model=SentenceTransformer(r'D:\\\\pretrained_models\\\\models--sentence-transformers--all-mpnet-base-v2\\\\snapshots\\\\c46f31f8d119ac648208de9fba297c447a5a4474')"
   ]
  },
  {
   "cell_type": "code",
   "execution_count": 20,
   "id": "b1473154-61a2-446d-b53c-b7391b3a488b",
   "metadata": {},
   "outputs": [
    {
     "name": "stdout",
     "output_type": "stream",
     "text": [
      "{'Dosage', 'Route', 'Frequency', 'Strength', 'Duration', 'ADE', 'Drug', 'Form', 'Reason'}\n"
     ]
    }
   ],
   "source": [
    "## Get all annotation types: \n",
    "annos=set()\n",
    "for d in train_docs:\n",
    "    for anno in d.spans.keys():\n",
    "        annos.add(anno)\n",
    "print(annos)"
   ]
  },
  {
   "cell_type": "markdown",
   "id": "d1578bd3-aafd-474a-9d10-003dafba4060",
   "metadata": {},
   "source": [
    "### to make embedding sentence ID consistent with train_df, we will all use conver2df from CRF wrapper"
   ]
  },
  {
   "cell_type": "code",
   "execution_count": 21,
   "id": "def4d3c1-5bbb-4325-aecb-8cd700529810",
   "metadata": {},
   "outputs": [],
   "source": [
    "#def convert2df(docs: List[Doc], min_length:int=10):\n",
    "#    data={'sentence':[], 'doc_name':[]}\n",
    "#    for d in docs:\n",
    "#        sents=[str(s) for s in d.sents if len(str(s).strip())>min_length]\n",
    "#        data['sentence']+=sents\n",
    "#        data['doc_name']+=[d._.doc_name]*len(sents)\n",
    "#    return pd.DataFrame(data)\n",
    "        "
   ]
  },
  {
   "cell_type": "code",
   "execution_count": 22,
   "id": "e6ec6d75-c66d-433f-9092-d6e5ebb556ec",
   "metadata": {},
   "outputs": [],
   "source": [
    "from CRFWrapper_Sentence import convert_docs, spans_to_bio\n"
   ]
  },
  {
   "cell_type": "code",
   "execution_count": 23,
   "id": "1c423541-eca5-48ae-a92e-0f2e5dc0cb1b",
   "metadata": {},
   "outputs": [],
   "source": [
    "data, span2bioDF = spans_to_bio(train_docs[0], anno_types=annos)"
   ]
  },
  {
   "cell_type": "code",
   "execution_count": 24,
   "id": "57d891ae-19b5-440b-b8aa-939fa02bbff5",
   "metadata": {},
   "outputs": [
    {
     "data": {
      "text/html": [
       "<div>\n",
       "<style scoped>\n",
       "    .dataframe tbody tr th:only-of-type {\n",
       "        vertical-align: middle;\n",
       "    }\n",
       "\n",
       "    .dataframe tbody tr th {\n",
       "        vertical-align: top;\n",
       "    }\n",
       "\n",
       "    .dataframe thead th {\n",
       "        text-align: right;\n",
       "    }\n",
       "</style>\n",
       "<table border=\"1\" class=\"dataframe\">\n",
       "  <thead>\n",
       "    <tr style=\"text-align: right;\">\n",
       "      <th></th>\n",
       "      <th>sentence_id</th>\n",
       "      <th>doc_name</th>\n",
       "      <th>token</th>\n",
       "      <th>label</th>\n",
       "      <th>sentence</th>\n",
       "    </tr>\n",
       "  </thead>\n",
       "  <tbody>\n",
       "    <tr>\n",
       "      <th>0</th>\n",
       "      <td>0</td>\n",
       "      <td>100035.txt</td>\n",
       "      <td>Admission</td>\n",
       "      <td>O</td>\n",
       "      <td>Admission Date:</td>\n",
       "    </tr>\n",
       "    <tr>\n",
       "      <th>1</th>\n",
       "      <td>0</td>\n",
       "      <td>100035.txt</td>\n",
       "      <td>Date</td>\n",
       "      <td>O</td>\n",
       "      <td>Admission Date:</td>\n",
       "    </tr>\n",
       "    <tr>\n",
       "      <th>2</th>\n",
       "      <td>0</td>\n",
       "      <td>100035.txt</td>\n",
       "      <td>:</td>\n",
       "      <td>O</td>\n",
       "      <td>Admission Date:</td>\n",
       "    </tr>\n",
       "    <tr>\n",
       "      <th>3</th>\n",
       "      <td>1</td>\n",
       "      <td>100035.txt</td>\n",
       "      <td>[</td>\n",
       "      <td>O</td>\n",
       "      <td>[**2115-2-22**]              Discharge Date:  ...</td>\n",
       "    </tr>\n",
       "    <tr>\n",
       "      <th>4</th>\n",
       "      <td>1</td>\n",
       "      <td>100035.txt</td>\n",
       "      <td>*</td>\n",
       "      <td>O</td>\n",
       "      <td>[**2115-2-22**]              Discharge Date:  ...</td>\n",
       "    </tr>\n",
       "    <tr>\n",
       "      <th>...</th>\n",
       "      <td>...</td>\n",
       "      <td>...</td>\n",
       "      <td>...</td>\n",
       "      <td>...</td>\n",
       "      <td>...</td>\n",
       "    </tr>\n",
       "    <tr>\n",
       "      <th>4491</th>\n",
       "      <td>263</td>\n",
       "      <td>100035.txt</td>\n",
       "      <td>Best</td>\n",
       "      <td>O</td>\n",
       "      <td>[**Location (un) **]\\nCampus: EAST     Best Pa...</td>\n",
       "    </tr>\n",
       "    <tr>\n",
       "      <th>4492</th>\n",
       "      <td>263</td>\n",
       "      <td>100035.txt</td>\n",
       "      <td>Parking</td>\n",
       "      <td>O</td>\n",
       "      <td>[**Location (un) **]\\nCampus: EAST     Best Pa...</td>\n",
       "    </tr>\n",
       "    <tr>\n",
       "      <th>4493</th>\n",
       "      <td>263</td>\n",
       "      <td>100035.txt</td>\n",
       "      <td>:</td>\n",
       "      <td>O</td>\n",
       "      <td>[**Location (un) **]\\nCampus: EAST     Best Pa...</td>\n",
       "    </tr>\n",
       "    <tr>\n",
       "      <th>4494</th>\n",
       "      <td>264</td>\n",
       "      <td>100035.txt</td>\n",
       "      <td>Main</td>\n",
       "      <td>O</td>\n",
       "      <td>Main Garage\\n\\n\\n\\n</td>\n",
       "    </tr>\n",
       "    <tr>\n",
       "      <th>4495</th>\n",
       "      <td>264</td>\n",
       "      <td>100035.txt</td>\n",
       "      <td>Garage</td>\n",
       "      <td>O</td>\n",
       "      <td>Main Garage\\n\\n\\n\\n</td>\n",
       "    </tr>\n",
       "  </tbody>\n",
       "</table>\n",
       "<p>4496 rows × 5 columns</p>\n",
       "</div>"
      ],
      "text/plain": [
       "      sentence_id    doc_name      token label  \\\n",
       "0               0  100035.txt  Admission     O   \n",
       "1               0  100035.txt       Date     O   \n",
       "2               0  100035.txt          :     O   \n",
       "3               1  100035.txt          [     O   \n",
       "4               1  100035.txt          *     O   \n",
       "...           ...         ...        ...   ...   \n",
       "4491          263  100035.txt       Best     O   \n",
       "4492          263  100035.txt    Parking     O   \n",
       "4493          263  100035.txt          :     O   \n",
       "4494          264  100035.txt       Main     O   \n",
       "4495          264  100035.txt     Garage     O   \n",
       "\n",
       "                                               sentence  \n",
       "0                                     Admission Date:    \n",
       "1                                     Admission Date:    \n",
       "2                                     Admission Date:    \n",
       "3     [**2115-2-22**]              Discharge Date:  ...  \n",
       "4     [**2115-2-22**]              Discharge Date:  ...  \n",
       "...                                                 ...  \n",
       "4491  [**Location (un) **]\\nCampus: EAST     Best Pa...  \n",
       "4492  [**Location (un) **]\\nCampus: EAST     Best Pa...  \n",
       "4493  [**Location (un) **]\\nCampus: EAST     Best Pa...  \n",
       "4494                                Main Garage\\n\\n\\n\\n  \n",
       "4495                                Main Garage\\n\\n\\n\\n  \n",
       "\n",
       "[4496 rows x 5 columns]"
      ]
     },
     "execution_count": 24,
     "metadata": {},
     "output_type": "execute_result"
    }
   ],
   "source": [
    "span2bioDF"
   ]
  },
  {
   "cell_type": "code",
   "execution_count": 25,
   "id": "5e6c72b6-d5ec-42dd-8e9b-1be9bb3bccd5",
   "metadata": {},
   "outputs": [
    {
     "data": {
      "text/plain": [
       "'[**2078-8-9**]             Sex:   M\\n\\nService: MEDICINE\\n\\nAllergies:\\nVicodin\\n\\nAttending:[**First Name3 (LF) 4891**]\\nChief Complaint:\\nPost-cardiac arrest, asthma exacerbation\\n\\nMajor Surgical or Invasive Procedure:\\nIntubation\\nRemoval of chest tubes placed at an outside hospital\\nR CVL placement\\n\\n\\nHistory of Present Illness:\\nMr.'"
      ]
     },
     "execution_count": 25,
     "metadata": {},
     "output_type": "execute_result"
    }
   ],
   "source": [
    "span2bioDF.sentence[105]"
   ]
  },
  {
   "cell_type": "code",
   "execution_count": 26,
   "id": "737f224f-c5f3-49b8-ae96-a5b36b73859e",
   "metadata": {},
   "outputs": [],
   "source": [
    "#data"
   ]
  },
  {
   "cell_type": "code",
   "execution_count": 27,
   "id": "014f428a-ee93-43cc-8ff6-50957352cbcb",
   "metadata": {},
   "outputs": [],
   "source": [
    "_, train_df=convert_docs(train_docs, anno_types=annos)\n",
    "_, test_df=convert_docs(test_docs, anno_types=annos)\n",
    "#train_df=convert2df(train_docs)"
   ]
  },
  {
   "cell_type": "code",
   "execution_count": 28,
   "id": "1ccc86c4-d18a-4061-ae35-a0caac1362ff",
   "metadata": {},
   "outputs": [
    {
     "data": {
      "text/html": [
       "<div>\n",
       "<style scoped>\n",
       "    .dataframe tbody tr th:only-of-type {\n",
       "        vertical-align: middle;\n",
       "    }\n",
       "\n",
       "    .dataframe tbody tr th {\n",
       "        vertical-align: top;\n",
       "    }\n",
       "\n",
       "    .dataframe thead th {\n",
       "        text-align: right;\n",
       "    }\n",
       "</style>\n",
       "<table border=\"1\" class=\"dataframe\">\n",
       "  <thead>\n",
       "    <tr style=\"text-align: right;\">\n",
       "      <th></th>\n",
       "      <th>sentence_id</th>\n",
       "      <th>doc_name</th>\n",
       "      <th>token</th>\n",
       "      <th>label</th>\n",
       "      <th>sentence</th>\n",
       "    </tr>\n",
       "  </thead>\n",
       "  <tbody>\n",
       "    <tr>\n",
       "      <th>0</th>\n",
       "      <td>0</td>\n",
       "      <td>100035.txt</td>\n",
       "      <td>Admission</td>\n",
       "      <td>O</td>\n",
       "      <td>Admission Date:</td>\n",
       "    </tr>\n",
       "    <tr>\n",
       "      <th>1</th>\n",
       "      <td>0</td>\n",
       "      <td>100035.txt</td>\n",
       "      <td>Date</td>\n",
       "      <td>O</td>\n",
       "      <td>Admission Date:</td>\n",
       "    </tr>\n",
       "    <tr>\n",
       "      <th>2</th>\n",
       "      <td>0</td>\n",
       "      <td>100035.txt</td>\n",
       "      <td>:</td>\n",
       "      <td>O</td>\n",
       "      <td>Admission Date:</td>\n",
       "    </tr>\n",
       "    <tr>\n",
       "      <th>3</th>\n",
       "      <td>1</td>\n",
       "      <td>100035.txt</td>\n",
       "      <td>[</td>\n",
       "      <td>O</td>\n",
       "      <td>[**2115-2-22**]              Discharge Date:  ...</td>\n",
       "    </tr>\n",
       "    <tr>\n",
       "      <th>4</th>\n",
       "      <td>1</td>\n",
       "      <td>100035.txt</td>\n",
       "      <td>*</td>\n",
       "      <td>O</td>\n",
       "      <td>[**2115-2-22**]              Discharge Date:  ...</td>\n",
       "    </tr>\n",
       "    <tr>\n",
       "      <th>...</th>\n",
       "      <td>...</td>\n",
       "      <td>...</td>\n",
       "      <td>...</td>\n",
       "      <td>...</td>\n",
       "      <td>...</td>\n",
       "    </tr>\n",
       "    <tr>\n",
       "      <th>3151</th>\n",
       "      <td>929927</td>\n",
       "      <td>198406.txt</td>\n",
       "      <td>Followup</td>\n",
       "      <td>O</td>\n",
       "      <td>Mirtazapine 15 mg PO QHS\\n\\n\\nDischarge Medica...</td>\n",
       "    </tr>\n",
       "    <tr>\n",
       "      <th>3152</th>\n",
       "      <td>929927</td>\n",
       "      <td>198406.txt</td>\n",
       "      <td>Instructions</td>\n",
       "      <td>O</td>\n",
       "      <td>Mirtazapine 15 mg PO QHS\\n\\n\\nDischarge Medica...</td>\n",
       "    </tr>\n",
       "    <tr>\n",
       "      <th>3153</th>\n",
       "      <td>929927</td>\n",
       "      <td>198406.txt</td>\n",
       "      <td>:</td>\n",
       "      <td>O</td>\n",
       "      <td>Mirtazapine 15 mg PO QHS\\n\\n\\nDischarge Medica...</td>\n",
       "    </tr>\n",
       "    <tr>\n",
       "      <th>3154</th>\n",
       "      <td>929927</td>\n",
       "      <td>198406.txt</td>\n",
       "      <td>\\n</td>\n",
       "      <td>O</td>\n",
       "      <td>Mirtazapine 15 mg PO QHS\\n\\n\\nDischarge Medica...</td>\n",
       "    </tr>\n",
       "    <tr>\n",
       "      <th>3155</th>\n",
       "      <td>929927</td>\n",
       "      <td>198406.txt</td>\n",
       "      <td>Deceased</td>\n",
       "      <td>O</td>\n",
       "      <td>Mirtazapine 15 mg PO QHS\\n\\n\\nDischarge Medica...</td>\n",
       "    </tr>\n",
       "  </tbody>\n",
       "</table>\n",
       "<p>932906 rows × 5 columns</p>\n",
       "</div>"
      ],
      "text/plain": [
       "      sentence_id    doc_name         token label  \\\n",
       "0               0  100035.txt     Admission     O   \n",
       "1               0  100035.txt          Date     O   \n",
       "2               0  100035.txt             :     O   \n",
       "3               1  100035.txt             [     O   \n",
       "4               1  100035.txt             *     O   \n",
       "...           ...         ...           ...   ...   \n",
       "3151       929927  198406.txt      Followup     O   \n",
       "3152       929927  198406.txt  Instructions     O   \n",
       "3153       929927  198406.txt             :     O   \n",
       "3154       929927  198406.txt            \\n     O   \n",
       "3155       929927  198406.txt      Deceased     O   \n",
       "\n",
       "                                               sentence  \n",
       "0                                     Admission Date:    \n",
       "1                                     Admission Date:    \n",
       "2                                     Admission Date:    \n",
       "3     [**2115-2-22**]              Discharge Date:  ...  \n",
       "4     [**2115-2-22**]              Discharge Date:  ...  \n",
       "...                                                 ...  \n",
       "3151  Mirtazapine 15 mg PO QHS\\n\\n\\nDischarge Medica...  \n",
       "3152  Mirtazapine 15 mg PO QHS\\n\\n\\nDischarge Medica...  \n",
       "3153  Mirtazapine 15 mg PO QHS\\n\\n\\nDischarge Medica...  \n",
       "3154  Mirtazapine 15 mg PO QHS\\n\\n\\nDischarge Medica...  \n",
       "3155  Mirtazapine 15 mg PO QHS\\n\\n\\nDischarge Medica...  \n",
       "\n",
       "[932906 rows x 5 columns]"
      ]
     },
     "execution_count": 28,
     "metadata": {},
     "output_type": "execute_result"
    }
   ],
   "source": [
    "train_df"
   ]
  },
  {
   "cell_type": "code",
   "execution_count": 42,
   "id": "c01d50ca-b5ba-4475-acdb-724368d7874c",
   "metadata": {},
   "outputs": [
    {
     "data": {
      "text/plain": [
       "2"
      ]
     },
     "execution_count": 42,
     "metadata": {},
     "output_type": "execute_result"
    }
   ],
   "source": [
    "#train_df=train_df.rename_axis('sid').reset_index()\n",
    "train_df['sentence'].to_list()\n",
    "sentslength=[len(s) for s in d.sents ]\n",
    "min(sentslength)\n",
    "#for s in train_df['sentence'].to_list():\n",
    "#    if len(s)<10:\n",
    "#        print(s)"
   ]
  },
  {
   "cell_type": "code",
   "execution_count": 44,
   "id": "c63560b0-dc87-4f9c-8336-8179d80cd469",
   "metadata": {},
   "outputs": [
    {
     "data": {
      "text/html": [
       "<div>\n",
       "<style scoped>\n",
       "    .dataframe tbody tr th:only-of-type {\n",
       "        vertical-align: middle;\n",
       "    }\n",
       "\n",
       "    .dataframe tbody tr th {\n",
       "        vertical-align: top;\n",
       "    }\n",
       "\n",
       "    .dataframe thead th {\n",
       "        text-align: right;\n",
       "    }\n",
       "</style>\n",
       "<table border=\"1\" class=\"dataframe\">\n",
       "  <thead>\n",
       "    <tr style=\"text-align: right;\">\n",
       "      <th></th>\n",
       "      <th>sentence_id</th>\n",
       "      <th>sentence</th>\n",
       "    </tr>\n",
       "  </thead>\n",
       "  <tbody>\n",
       "    <tr>\n",
       "      <th>0</th>\n",
       "      <td>0</td>\n",
       "      <td>Admission Date:</td>\n",
       "    </tr>\n",
       "    <tr>\n",
       "      <th>3</th>\n",
       "      <td>1</td>\n",
       "      <td>[**2115-2-22**]              Discharge Date:  ...</td>\n",
       "    </tr>\n",
       "    <tr>\n",
       "      <th>35</th>\n",
       "      <td>2</td>\n",
       "      <td>[**2078-8-9**]             Sex:   M\\n\\nService...</td>\n",
       "    </tr>\n",
       "    <tr>\n",
       "      <th>113</th>\n",
       "      <td>3</td>\n",
       "      <td>[**Known lastname 3234**] is a 36 year old gen...</td>\n",
       "    </tr>\n",
       "    <tr>\n",
       "      <th>163</th>\n",
       "      <td>4</td>\n",
       "      <td>The patient initially presented to LGH ED with...</td>\n",
       "    </tr>\n",
       "    <tr>\n",
       "      <th>...</th>\n",
       "      <td>...</td>\n",
       "      <td>...</td>\n",
       "    </tr>\n",
       "    <tr>\n",
       "      <th>3059</th>\n",
       "      <td>929923</td>\n",
       "      <td>Cyanocobalamin 1,000 mcg/mL Injection once a m...</td>\n",
       "    </tr>\n",
       "    <tr>\n",
       "      <th>3071</th>\n",
       "      <td>929924</td>\n",
       "      <td>Lorazepam 0.25 QAM, O.25 QPM, 0.5 mg QHS\\n8 Ca...</td>\n",
       "    </tr>\n",
       "    <tr>\n",
       "      <th>3086</th>\n",
       "      <td>929925</td>\n",
       "      <td>Cream Topical TID\\n9.</td>\n",
       "    </tr>\n",
       "    <tr>\n",
       "      <th>3092</th>\n",
       "      <td>929926</td>\n",
       "      <td>Acetaminophen 1000 mg PO Q6H\\n10.</td>\n",
       "    </tr>\n",
       "    <tr>\n",
       "      <th>3100</th>\n",
       "      <td>929927</td>\n",
       "      <td>Mirtazapine 15 mg PO QHS\\n\\n\\nDischarge Medica...</td>\n",
       "    </tr>\n",
       "  </tbody>\n",
       "</table>\n",
       "<p>51798 rows × 2 columns</p>\n",
       "</div>"
      ],
      "text/plain": [
       "      sentence_id                                           sentence\n",
       "0               0                                  Admission Date:  \n",
       "3               1  [**2115-2-22**]              Discharge Date:  ...\n",
       "35              2  [**2078-8-9**]             Sex:   M\\n\\nService...\n",
       "113             3  [**Known lastname 3234**] is a 36 year old gen...\n",
       "163             4  The patient initially presented to LGH ED with...\n",
       "...           ...                                                ...\n",
       "3059       929923  Cyanocobalamin 1,000 mcg/mL Injection once a m...\n",
       "3071       929924  Lorazepam 0.25 QAM, O.25 QPM, 0.5 mg QHS\\n8 Ca...\n",
       "3086       929925                              Cream Topical TID\\n9.\n",
       "3092       929926                  Acetaminophen 1000 mg PO Q6H\\n10.\n",
       "3100       929927  Mirtazapine 15 mg PO QHS\\n\\n\\nDischarge Medica...\n",
       "\n",
       "[51798 rows x 2 columns]"
      ]
     },
     "execution_count": 44,
     "metadata": {},
     "output_type": "execute_result"
    }
   ],
   "source": [
    "# get the unique sentence\n",
    "sent_train_df = train_df[['sentence_id', 'sentence']]\n",
    "uniqueSent_train_df = sent_train_df.drop_duplicates()\n",
    "uniqueSent_train_df"
   ]
  },
  {
   "cell_type": "code",
   "execution_count": 39,
   "id": "88edf629-0852-4435-8040-250924f17c94",
   "metadata": {},
   "outputs": [],
   "source": [
    "#testEmbedding = model.encode(train_df['sentence'][3154].to_list()) #embedding input should be list"
   ]
  },
  {
   "cell_type": "code",
   "execution_count": 45,
   "id": "08655788-db46-4c52-ac54-2898df3c492e",
   "metadata": {},
   "outputs": [],
   "source": [
    "embeddings=model.encode(uniqueSent_train_df['sentence'].to_list())"
   ]
  },
  {
   "cell_type": "code",
   "execution_count": 46,
   "id": "42ea2aa2-5995-41e1-a211-0fcd53653de5",
   "metadata": {},
   "outputs": [
    {
     "data": {
      "text/plain": [
       "(51798, 768)"
      ]
     },
     "execution_count": 46,
     "metadata": {},
     "output_type": "execute_result"
    }
   ],
   "source": [
    "embeddings.shape"
   ]
  },
  {
   "cell_type": "code",
   "execution_count": 47,
   "id": "a83e2db5-55df-4b35-baaa-d525a54dd13a",
   "metadata": {},
   "outputs": [
    {
     "data": {
      "text/plain": [
       "51798"
      ]
     },
     "execution_count": 47,
     "metadata": {},
     "output_type": "execute_result"
    }
   ],
   "source": [
    "len(list(embeddings))"
   ]
  },
  {
   "cell_type": "code",
   "execution_count": 48,
   "id": "f5650a07-7f78-4c18-859d-853618f8b384",
   "metadata": {},
   "outputs": [],
   "source": [
    "uniqueSent_train_df['embedding']=list(embeddings)"
   ]
  },
  {
   "cell_type": "code",
   "execution_count": 33,
   "id": "05937100-64e5-4fdf-99a7-5e62f3dcf61e",
   "metadata": {},
   "outputs": [],
   "source": [
    "#train_df['embedding']=list(embeddings)"
   ]
  },
  {
   "cell_type": "code",
   "execution_count": 49,
   "id": "bc8b2fec-9343-4db0-b945-4d27bd7c3c93",
   "metadata": {},
   "outputs": [
    {
     "data": {
      "text/html": [
       "<div>\n",
       "<style scoped>\n",
       "    .dataframe tbody tr th:only-of-type {\n",
       "        vertical-align: middle;\n",
       "    }\n",
       "\n",
       "    .dataframe tbody tr th {\n",
       "        vertical-align: top;\n",
       "    }\n",
       "\n",
       "    .dataframe thead th {\n",
       "        text-align: right;\n",
       "    }\n",
       "</style>\n",
       "<table border=\"1\" class=\"dataframe\">\n",
       "  <thead>\n",
       "    <tr style=\"text-align: right;\">\n",
       "      <th></th>\n",
       "      <th>sentence_id</th>\n",
       "      <th>sentence</th>\n",
       "      <th>embedding</th>\n",
       "    </tr>\n",
       "  </thead>\n",
       "  <tbody>\n",
       "    <tr>\n",
       "      <th>0</th>\n",
       "      <td>0</td>\n",
       "      <td>Admission Date:</td>\n",
       "      <td>[0.026282, 0.03218903, -0.022386529, 0.0493732...</td>\n",
       "    </tr>\n",
       "    <tr>\n",
       "      <th>3</th>\n",
       "      <td>1</td>\n",
       "      <td>[**2115-2-22**]              Discharge Date:  ...</td>\n",
       "      <td>[0.016159855, 0.042264156, -0.018290585, -0.05...</td>\n",
       "    </tr>\n",
       "  </tbody>\n",
       "</table>\n",
       "</div>"
      ],
      "text/plain": [
       "   sentence_id                                           sentence  \\\n",
       "0            0                                  Admission Date:     \n",
       "3            1  [**2115-2-22**]              Discharge Date:  ...   \n",
       "\n",
       "                                           embedding  \n",
       "0  [0.026282, 0.03218903, -0.022386529, 0.0493732...  \n",
       "3  [0.016159855, 0.042264156, -0.018290585, -0.05...  "
      ]
     },
     "execution_count": 49,
     "metadata": {},
     "output_type": "execute_result"
    }
   ],
   "source": [
    "uniqueSent_train_df[:2]"
   ]
  },
  {
   "cell_type": "code",
   "execution_count": 50,
   "id": "1b7ca653-361a-4ce8-a5ac-9de63eb5c8e2",
   "metadata": {},
   "outputs": [
    {
     "data": {
      "text/plain": [
       "['..\\\\data\\\\n2c2\\\\embedding_df_uniqueSentID.joblib']"
      ]
     },
     "execution_count": 50,
     "metadata": {},
     "output_type": "execute_result"
    }
   ],
   "source": [
    "pickle_embedding_file= r'..\\data\\n2c2\\embedding_df_uniqueSentID.joblib'\n",
    "joblib.dump(uniqueSent_train_df, pickle_embedding_file)"
   ]
  },
  {
   "cell_type": "markdown",
   "id": "93462ad6-4e5b-41d9-8e5b-2595481f4b4a",
   "metadata": {},
   "source": [
    "## Build faiss index"
   ]
  },
  {
   "cell_type": "code",
   "execution_count": 64,
   "id": "769672f3-e7df-4f42-90dc-ea0221425c83",
   "metadata": {},
   "outputs": [],
   "source": [
    "faiss_index_path= r'..\\data\\n2c2\\faiss_index_st768'"
   ]
  },
  {
   "cell_type": "code",
   "execution_count": 65,
   "id": "8f07f204-7e09-42ac-84af-3e22ca65859c",
   "metadata": {},
   "outputs": [],
   "source": [
    "import faiss\n",
    "base_index=faiss.IndexFlatL2(768)\n",
    "index=faiss.IndexIDMap(base_index)\n"
   ]
  },
  {
   "cell_type": "code",
   "execution_count": 66,
   "id": "1de3681d-d4ef-46ea-be20-d1359a2bfaf0",
   "metadata": {},
   "outputs": [],
   "source": [
    "import numpy as np"
   ]
  },
  {
   "cell_type": "code",
   "execution_count": 67,
   "id": "ade7b27e-3f75-4a5f-9b00-e3e89fdf65ea",
   "metadata": {},
   "outputs": [
    {
     "name": "stdout",
     "output_type": "stream",
     "text": [
      "CPU times: total: 688 ms\n",
      "Wall time: 1.12 s\n"
     ]
    }
   ],
   "source": [
    "%%time\n",
    "index.add_with_ids(np.stack(uniqueSent_train_df['embedding']).astype(np.float32), uniqueSent_train_df['sentence_id'].tolist())\n",
    "faiss.write_index(index, faiss_index_path)"
   ]
  },
  {
   "cell_type": "code",
   "execution_count": 68,
   "id": "72249ba0-fa8e-48f2-9b85-2b6d29f21f1d",
   "metadata": {},
   "outputs": [],
   "source": [
    "#%%time\n",
    "#index.add_with_ids(np.stack(train_df['embedding']).astype(np.float32), train_df['sid'].tolist())\n",
    "#faiss.write_index(index, faiss_index_path)"
   ]
  },
  {
   "cell_type": "code",
   "execution_count": 69,
   "id": "ba4e2a37-d8a0-44fc-ad0b-847825af3dfc",
   "metadata": {},
   "outputs": [],
   "source": [
    "D, I=index.search(np.stack([uniqueSent_train_df.iloc[8].embedding]), 800000)"
   ]
  },
  {
   "cell_type": "code",
   "execution_count": 70,
   "id": "5b9f52e1-6777-4605-a4f6-07266a287a76",
   "metadata": {},
   "outputs": [],
   "source": [
    "p=[v for v in D[0] if v>-1 and v<2.4028235e+38]"
   ]
  },
  {
   "cell_type": "code",
   "execution_count": 71,
   "id": "c60e619f-8fe3-4bfa-8564-694ecb614695",
   "metadata": {},
   "outputs": [
    {
     "data": {
      "text/plain": [
       "51798"
      ]
     },
     "execution_count": 71,
     "metadata": {},
     "output_type": "execute_result"
    }
   ],
   "source": [
    "len(p)"
   ]
  },
  {
   "cell_type": "code",
   "execution_count": 72,
   "id": "e35d469f-077b-4504-8380-354106ae2699",
   "metadata": {},
   "outputs": [
    {
     "data": {
      "text/plain": [
       "[2.144607,\n",
       " 2.146985,\n",
       " 2.1478677,\n",
       " 2.1491637,\n",
       " 2.1497927,\n",
       " 2.1672182,\n",
       " 2.1730304,\n",
       " 2.1730824,\n",
       " 2.1897774,\n",
       " 2.2237568]"
      ]
     },
     "execution_count": 72,
     "metadata": {},
     "output_type": "execute_result"
    }
   ],
   "source": [
    "p[-10:]"
   ]
  },
  {
   "cell_type": "code",
   "execution_count": 73,
   "id": "d2d1c814-82ca-4f9e-9245-75ecc2c60ec8",
   "metadata": {},
   "outputs": [
    {
     "data": {
      "text/plain": [
       "(51798, 3)"
      ]
     },
     "execution_count": 73,
     "metadata": {},
     "output_type": "execute_result"
    }
   ],
   "source": [
    "uniqueSent_train_df.shape"
   ]
  },
  {
   "cell_type": "code",
   "execution_count": 74,
   "id": "417ec02d-e1a9-48fd-8432-65712507adb6",
   "metadata": {},
   "outputs": [
    {
     "data": {
      "text/html": [
       "<div>\n",
       "<style scoped>\n",
       "    .dataframe tbody tr th:only-of-type {\n",
       "        vertical-align: middle;\n",
       "    }\n",
       "\n",
       "    .dataframe tbody tr th {\n",
       "        vertical-align: top;\n",
       "    }\n",
       "\n",
       "    .dataframe thead th {\n",
       "        text-align: right;\n",
       "    }\n",
       "</style>\n",
       "<table border=\"1\" class=\"dataframe\">\n",
       "  <thead>\n",
       "    <tr style=\"text-align: right;\">\n",
       "      <th></th>\n",
       "      <th>sentence_id</th>\n",
       "      <th>sentence</th>\n",
       "      <th>embedding</th>\n",
       "    </tr>\n",
       "  </thead>\n",
       "  <tbody>\n",
       "    <tr>\n",
       "      <th>0</th>\n",
       "      <td>0</td>\n",
       "      <td>Admission Date:</td>\n",
       "      <td>[0.026282, 0.03218903, -0.022386529, 0.0493732...</td>\n",
       "    </tr>\n",
       "    <tr>\n",
       "      <th>3</th>\n",
       "      <td>1</td>\n",
       "      <td>[**2115-2-22**]              Discharge Date:  ...</td>\n",
       "      <td>[0.016159855, 0.042264156, -0.018290585, -0.05...</td>\n",
       "    </tr>\n",
       "    <tr>\n",
       "      <th>35</th>\n",
       "      <td>2</td>\n",
       "      <td>[**2078-8-9**]             Sex:   M\\n\\nService...</td>\n",
       "      <td>[0.025958579, -0.05749655, 0.012378361, -0.009...</td>\n",
       "    </tr>\n",
       "    <tr>\n",
       "      <th>113</th>\n",
       "      <td>3</td>\n",
       "      <td>[**Known lastname 3234**] is a 36 year old gen...</td>\n",
       "      <td>[0.023170307, 0.03989108, 0.026217388, -0.0272...</td>\n",
       "    </tr>\n",
       "    <tr>\n",
       "      <th>163</th>\n",
       "      <td>4</td>\n",
       "      <td>The patient initially presented to LGH ED with...</td>\n",
       "      <td>[0.008176211, -0.06342948, 0.048615105, -0.045...</td>\n",
       "    </tr>\n",
       "    <tr>\n",
       "      <th>...</th>\n",
       "      <td>...</td>\n",
       "      <td>...</td>\n",
       "      <td>...</td>\n",
       "    </tr>\n",
       "    <tr>\n",
       "      <th>3059</th>\n",
       "      <td>929923</td>\n",
       "      <td>Cyanocobalamin 1,000 mcg/mL Injection once a m...</td>\n",
       "      <td>[0.050521564, -0.08905716, -0.0019493615, -0.0...</td>\n",
       "    </tr>\n",
       "    <tr>\n",
       "      <th>3071</th>\n",
       "      <td>929924</td>\n",
       "      <td>Lorazepam 0.25 QAM, O.25 QPM, 0.5 mg QHS\\n8 Ca...</td>\n",
       "      <td>[-0.030010266, -0.062390286, 0.00167252, 0.016...</td>\n",
       "    </tr>\n",
       "    <tr>\n",
       "      <th>3086</th>\n",
       "      <td>929925</td>\n",
       "      <td>Cream Topical TID\\n9.</td>\n",
       "      <td>[0.026732022, -0.04987913, 0.024520764, -0.016...</td>\n",
       "    </tr>\n",
       "    <tr>\n",
       "      <th>3092</th>\n",
       "      <td>929926</td>\n",
       "      <td>Acetaminophen 1000 mg PO Q6H\\n10.</td>\n",
       "      <td>[-0.017295217, -0.10513715, -0.0030776137, -0....</td>\n",
       "    </tr>\n",
       "    <tr>\n",
       "      <th>3100</th>\n",
       "      <td>929927</td>\n",
       "      <td>Mirtazapine 15 mg PO QHS\\n\\n\\nDischarge Medica...</td>\n",
       "      <td>[0.02337662, 0.021309359, 0.039473698, -0.0429...</td>\n",
       "    </tr>\n",
       "  </tbody>\n",
       "</table>\n",
       "<p>51798 rows × 3 columns</p>\n",
       "</div>"
      ],
      "text/plain": [
       "      sentence_id                                           sentence  \\\n",
       "0               0                                  Admission Date:     \n",
       "3               1  [**2115-2-22**]              Discharge Date:  ...   \n",
       "35              2  [**2078-8-9**]             Sex:   M\\n\\nService...   \n",
       "113             3  [**Known lastname 3234**] is a 36 year old gen...   \n",
       "163             4  The patient initially presented to LGH ED with...   \n",
       "...           ...                                                ...   \n",
       "3059       929923  Cyanocobalamin 1,000 mcg/mL Injection once a m...   \n",
       "3071       929924  Lorazepam 0.25 QAM, O.25 QPM, 0.5 mg QHS\\n8 Ca...   \n",
       "3086       929925                              Cream Topical TID\\n9.   \n",
       "3092       929926                  Acetaminophen 1000 mg PO Q6H\\n10.   \n",
       "3100       929927  Mirtazapine 15 mg PO QHS\\n\\n\\nDischarge Medica...   \n",
       "\n",
       "                                              embedding  \n",
       "0     [0.026282, 0.03218903, -0.022386529, 0.0493732...  \n",
       "3     [0.016159855, 0.042264156, -0.018290585, -0.05...  \n",
       "35    [0.025958579, -0.05749655, 0.012378361, -0.009...  \n",
       "113   [0.023170307, 0.03989108, 0.026217388, -0.0272...  \n",
       "163   [0.008176211, -0.06342948, 0.048615105, -0.045...  \n",
       "...                                                 ...  \n",
       "3059  [0.050521564, -0.08905716, -0.0019493615, -0.0...  \n",
       "3071  [-0.030010266, -0.062390286, 0.00167252, 0.016...  \n",
       "3086  [0.026732022, -0.04987913, 0.024520764, -0.016...  \n",
       "3092  [-0.017295217, -0.10513715, -0.0030776137, -0....  \n",
       "3100  [0.02337662, 0.021309359, 0.039473698, -0.0429...  \n",
       "\n",
       "[51798 rows x 3 columns]"
      ]
     },
     "execution_count": 74,
     "metadata": {},
     "output_type": "execute_result"
    }
   ],
   "source": [
    "uniqueSent_train_df#.iloc[I[0]]#[['sentence', 'sentence_id']]"
   ]
  },
  {
   "cell_type": "code",
   "execution_count": 76,
   "id": "cd5baea5-f8f9-4d08-adf7-32e590292e53",
   "metadata": {},
   "outputs": [
    {
     "data": {
      "text/plain": [
       "array([     8,    167, 699572, ...,     -1,     -1,     -1], dtype=int64)"
      ]
     },
     "execution_count": 76,
     "metadata": {},
     "output_type": "execute_result"
    }
   ],
   "source": [
    "I[0]"
   ]
  },
  {
   "cell_type": "code",
   "execution_count": 48,
   "id": "3d326825-5636-46a0-951d-cc2c15760b81",
   "metadata": {},
   "outputs": [
    {
     "data": {
      "text/html": [
       "<div>\n",
       "<style scoped>\n",
       "    .dataframe tbody tr th:only-of-type {\n",
       "        vertical-align: middle;\n",
       "    }\n",
       "\n",
       "    .dataframe tbody tr th {\n",
       "        vertical-align: top;\n",
       "    }\n",
       "\n",
       "    .dataframe thead th {\n",
       "        text-align: right;\n",
       "    }\n",
       "</style>\n",
       "<table border=\"1\" class=\"dataframe\">\n",
       "  <thead>\n",
       "    <tr style=\"text-align: right;\">\n",
       "      <th></th>\n",
       "      <th>sid</th>\n",
       "      <th>sentence</th>\n",
       "      <th>doc_name</th>\n",
       "      <th>embedding</th>\n",
       "    </tr>\n",
       "  </thead>\n",
       "  <tbody>\n",
       "    <tr>\n",
       "      <th>0</th>\n",
       "      <td>0</td>\n",
       "      <td>Admission Date:</td>\n",
       "      <td>100035.txt</td>\n",
       "      <td>[0.026282, 0.03218903, -0.022386529, 0.0493732...</td>\n",
       "    </tr>\n",
       "    <tr>\n",
       "      <th>1</th>\n",
       "      <td>1</td>\n",
       "      <td>[**2115-2-22**]              Discharge Date:  ...</td>\n",
       "      <td>100035.txt</td>\n",
       "      <td>[0.016159855, 0.042264156, -0.018290585, -0.05...</td>\n",
       "    </tr>\n",
       "    <tr>\n",
       "      <th>2</th>\n",
       "      <td>2</td>\n",
       "      <td>[**2078-8-9**]             Sex:   M\\n\\nService...</td>\n",
       "      <td>100035.txt</td>\n",
       "      <td>[0.025958579, -0.05749655, 0.012378361, -0.009...</td>\n",
       "    </tr>\n",
       "    <tr>\n",
       "      <th>3</th>\n",
       "      <td>3</td>\n",
       "      <td>[**Known lastname 3234**] is a 36 year old gen...</td>\n",
       "      <td>100035.txt</td>\n",
       "      <td>[0.023170307, 0.03989108, 0.026217388, -0.0272...</td>\n",
       "    </tr>\n",
       "    <tr>\n",
       "      <th>4</th>\n",
       "      <td>4</td>\n",
       "      <td>The patient initially presented to LGH ED with...</td>\n",
       "      <td>100035.txt</td>\n",
       "      <td>[0.008176211, -0.06342948, 0.048615105, -0.045...</td>\n",
       "    </tr>\n",
       "    <tr>\n",
       "      <th>...</th>\n",
       "      <td>...</td>\n",
       "      <td>...</td>\n",
       "      <td>...</td>\n",
       "      <td>...</td>\n",
       "    </tr>\n",
       "    <tr>\n",
       "      <th>47525</th>\n",
       "      <td>47525</td>\n",
       "      <td>Cyanocobalamin 1,000 mcg/mL Injection once a m...</td>\n",
       "      <td>198406.txt</td>\n",
       "      <td>[0.050521564, -0.08905716, -0.0019493615, -0.0...</td>\n",
       "    </tr>\n",
       "    <tr>\n",
       "      <th>47526</th>\n",
       "      <td>47526</td>\n",
       "      <td>Lorazepam 0.25 QAM, O.25 QPM, 0.5 mg QHS\\n8 Ca...</td>\n",
       "      <td>198406.txt</td>\n",
       "      <td>[-0.030010268, -0.062390275, 0.0016725484, 0.0...</td>\n",
       "    </tr>\n",
       "    <tr>\n",
       "      <th>47527</th>\n",
       "      <td>47527</td>\n",
       "      <td>Cream Topical TID\\n9.</td>\n",
       "      <td>198406.txt</td>\n",
       "      <td>[0.026732022, -0.04987913, 0.024520764, -0.016...</td>\n",
       "    </tr>\n",
       "    <tr>\n",
       "      <th>47528</th>\n",
       "      <td>47528</td>\n",
       "      <td>Acetaminophen 1000 mg PO Q6H\\n10.</td>\n",
       "      <td>198406.txt</td>\n",
       "      <td>[-0.017295217, -0.10513715, -0.0030776137, -0....</td>\n",
       "    </tr>\n",
       "    <tr>\n",
       "      <th>47529</th>\n",
       "      <td>47529</td>\n",
       "      <td>Mirtazapine 15 mg PO QHS\\n\\n\\nDischarge Medica...</td>\n",
       "      <td>198406.txt</td>\n",
       "      <td>[0.02337662, 0.021309359, 0.039473698, -0.0429...</td>\n",
       "    </tr>\n",
       "  </tbody>\n",
       "</table>\n",
       "<p>47530 rows × 4 columns</p>\n",
       "</div>"
      ],
      "text/plain": [
       "         sid                                           sentence    doc_name  \\\n",
       "0          0                                  Admission Date:    100035.txt   \n",
       "1          1  [**2115-2-22**]              Discharge Date:  ...  100035.txt   \n",
       "2          2  [**2078-8-9**]             Sex:   M\\n\\nService...  100035.txt   \n",
       "3          3  [**Known lastname 3234**] is a 36 year old gen...  100035.txt   \n",
       "4          4  The patient initially presented to LGH ED with...  100035.txt   \n",
       "...      ...                                                ...         ...   \n",
       "47525  47525  Cyanocobalamin 1,000 mcg/mL Injection once a m...  198406.txt   \n",
       "47526  47526  Lorazepam 0.25 QAM, O.25 QPM, 0.5 mg QHS\\n8 Ca...  198406.txt   \n",
       "47527  47527                              Cream Topical TID\\n9.  198406.txt   \n",
       "47528  47528                  Acetaminophen 1000 mg PO Q6H\\n10.  198406.txt   \n",
       "47529  47529  Mirtazapine 15 mg PO QHS\\n\\n\\nDischarge Medica...  198406.txt   \n",
       "\n",
       "                                               embedding  \n",
       "0      [0.026282, 0.03218903, -0.022386529, 0.0493732...  \n",
       "1      [0.016159855, 0.042264156, -0.018290585, -0.05...  \n",
       "2      [0.025958579, -0.05749655, 0.012378361, -0.009...  \n",
       "3      [0.023170307, 0.03989108, 0.026217388, -0.0272...  \n",
       "4      [0.008176211, -0.06342948, 0.048615105, -0.045...  \n",
       "...                                                  ...  \n",
       "47525  [0.050521564, -0.08905716, -0.0019493615, -0.0...  \n",
       "47526  [-0.030010268, -0.062390275, 0.0016725484, 0.0...  \n",
       "47527  [0.026732022, -0.04987913, 0.024520764, -0.016...  \n",
       "47528  [-0.017295217, -0.10513715, -0.0030776137, -0....  \n",
       "47529  [0.02337662, 0.021309359, 0.039473698, -0.0429...  \n",
       "\n",
       "[47530 rows x 4 columns]"
      ]
     },
     "execution_count": 48,
     "metadata": {},
     "output_type": "execute_result"
    }
   ],
   "source": [
    "train_df"
   ]
  },
  {
   "cell_type": "code",
   "execution_count": 77,
   "id": "c414b401-1713-4cad-aa57-cfb0a9ed7653",
   "metadata": {},
   "outputs": [],
   "source": [
    "sdf=train_df[:500]"
   ]
  },
  {
   "cell_type": "code",
   "execution_count": 78,
   "id": "e184ecff-55fd-448d-b414-27a78974e1f6",
   "metadata": {},
   "outputs": [
    {
     "data": {
      "text/plain": [
       "(500, 5)"
      ]
     },
     "execution_count": 78,
     "metadata": {},
     "output_type": "execute_result"
    }
   ],
   "source": [
    "sdf.shape"
   ]
  },
  {
   "cell_type": "code",
   "execution_count": 79,
   "id": "7b273e6f-6119-40fc-bcb5-b1a3d3604ebb",
   "metadata": {},
   "outputs": [
    {
     "data": {
      "text/html": [
       "<div>\n",
       "<style scoped>\n",
       "    .dataframe tbody tr th:only-of-type {\n",
       "        vertical-align: middle;\n",
       "    }\n",
       "\n",
       "    .dataframe tbody tr th {\n",
       "        vertical-align: top;\n",
       "    }\n",
       "\n",
       "    .dataframe thead th {\n",
       "        text-align: right;\n",
       "    }\n",
       "</style>\n",
       "<table border=\"1\" class=\"dataframe\">\n",
       "  <thead>\n",
       "    <tr style=\"text-align: right;\">\n",
       "      <th></th>\n",
       "      <th>sentence_id</th>\n",
       "      <th>doc_name</th>\n",
       "      <th>token</th>\n",
       "      <th>label</th>\n",
       "      <th>sentence</th>\n",
       "    </tr>\n",
       "  </thead>\n",
       "  <tbody>\n",
       "    <tr>\n",
       "      <th>0</th>\n",
       "      <td>0</td>\n",
       "      <td>100035.txt</td>\n",
       "      <td>Admission</td>\n",
       "      <td>O</td>\n",
       "      <td>Admission Date:</td>\n",
       "    </tr>\n",
       "    <tr>\n",
       "      <th>1</th>\n",
       "      <td>0</td>\n",
       "      <td>100035.txt</td>\n",
       "      <td>Date</td>\n",
       "      <td>O</td>\n",
       "      <td>Admission Date:</td>\n",
       "    </tr>\n",
       "    <tr>\n",
       "      <th>2</th>\n",
       "      <td>0</td>\n",
       "      <td>100035.txt</td>\n",
       "      <td>:</td>\n",
       "      <td>O</td>\n",
       "      <td>Admission Date:</td>\n",
       "    </tr>\n",
       "    <tr>\n",
       "      <th>3</th>\n",
       "      <td>1</td>\n",
       "      <td>100035.txt</td>\n",
       "      <td>[</td>\n",
       "      <td>O</td>\n",
       "      <td>[**2115-2-22**]              Discharge Date:  ...</td>\n",
       "    </tr>\n",
       "    <tr>\n",
       "      <th>4</th>\n",
       "      <td>1</td>\n",
       "      <td>100035.txt</td>\n",
       "      <td>*</td>\n",
       "      <td>O</td>\n",
       "      <td>[**2115-2-22**]              Discharge Date:  ...</td>\n",
       "    </tr>\n",
       "    <tr>\n",
       "      <th>...</th>\n",
       "      <td>...</td>\n",
       "      <td>...</td>\n",
       "      <td>...</td>\n",
       "      <td>...</td>\n",
       "      <td>...</td>\n",
       "    </tr>\n",
       "    <tr>\n",
       "      <th>3151</th>\n",
       "      <td>929927</td>\n",
       "      <td>198406.txt</td>\n",
       "      <td>Followup</td>\n",
       "      <td>O</td>\n",
       "      <td>Mirtazapine 15 mg PO QHS\\n\\n\\nDischarge Medica...</td>\n",
       "    </tr>\n",
       "    <tr>\n",
       "      <th>3152</th>\n",
       "      <td>929927</td>\n",
       "      <td>198406.txt</td>\n",
       "      <td>Instructions</td>\n",
       "      <td>O</td>\n",
       "      <td>Mirtazapine 15 mg PO QHS\\n\\n\\nDischarge Medica...</td>\n",
       "    </tr>\n",
       "    <tr>\n",
       "      <th>3153</th>\n",
       "      <td>929927</td>\n",
       "      <td>198406.txt</td>\n",
       "      <td>:</td>\n",
       "      <td>O</td>\n",
       "      <td>Mirtazapine 15 mg PO QHS\\n\\n\\nDischarge Medica...</td>\n",
       "    </tr>\n",
       "    <tr>\n",
       "      <th>3154</th>\n",
       "      <td>929927</td>\n",
       "      <td>198406.txt</td>\n",
       "      <td>\\n</td>\n",
       "      <td>O</td>\n",
       "      <td>Mirtazapine 15 mg PO QHS\\n\\n\\nDischarge Medica...</td>\n",
       "    </tr>\n",
       "    <tr>\n",
       "      <th>3155</th>\n",
       "      <td>929927</td>\n",
       "      <td>198406.txt</td>\n",
       "      <td>Deceased</td>\n",
       "      <td>O</td>\n",
       "      <td>Mirtazapine 15 mg PO QHS\\n\\n\\nDischarge Medica...</td>\n",
       "    </tr>\n",
       "  </tbody>\n",
       "</table>\n",
       "<p>932906 rows × 5 columns</p>\n",
       "</div>"
      ],
      "text/plain": [
       "      sentence_id    doc_name         token label  \\\n",
       "0               0  100035.txt     Admission     O   \n",
       "1               0  100035.txt          Date     O   \n",
       "2               0  100035.txt             :     O   \n",
       "3               1  100035.txt             [     O   \n",
       "4               1  100035.txt             *     O   \n",
       "...           ...         ...           ...   ...   \n",
       "3151       929927  198406.txt      Followup     O   \n",
       "3152       929927  198406.txt  Instructions     O   \n",
       "3153       929927  198406.txt             :     O   \n",
       "3154       929927  198406.txt            \\n     O   \n",
       "3155       929927  198406.txt      Deceased     O   \n",
       "\n",
       "                                               sentence  \n",
       "0                                     Admission Date:    \n",
       "1                                     Admission Date:    \n",
       "2                                     Admission Date:    \n",
       "3     [**2115-2-22**]              Discharge Date:  ...  \n",
       "4     [**2115-2-22**]              Discharge Date:  ...  \n",
       "...                                                 ...  \n",
       "3151  Mirtazapine 15 mg PO QHS\\n\\n\\nDischarge Medica...  \n",
       "3152  Mirtazapine 15 mg PO QHS\\n\\n\\nDischarge Medica...  \n",
       "3153  Mirtazapine 15 mg PO QHS\\n\\n\\nDischarge Medica...  \n",
       "3154  Mirtazapine 15 mg PO QHS\\n\\n\\nDischarge Medica...  \n",
       "3155  Mirtazapine 15 mg PO QHS\\n\\n\\nDischarge Medica...  \n",
       "\n",
       "[932906 rows x 5 columns]"
      ]
     },
     "execution_count": 79,
     "metadata": {},
     "output_type": "execute_result"
    }
   ],
   "source": [
    "train_df"
   ]
  },
  {
   "cell_type": "code",
   "execution_count": 81,
   "id": "9c7e281e-b986-400c-83f3-a3c8bf9f93f0",
   "metadata": {},
   "outputs": [],
   "source": [
    "#sdf['y'].unique()"
   ]
  },
  {
   "cell_type": "code",
   "execution_count": 132,
   "id": "d011d795-7ff9-486f-865c-229bbb122823",
   "metadata": {},
   "outputs": [],
   "source": [
    "gsdf=list(sdf.groupby('y'))"
   ]
  },
  {
   "cell_type": "code",
   "execution_count": 139,
   "id": "9a0f1465-b136-480b-8df8-bffa8ffd4da1",
   "metadata": {},
   "outputs": [
    {
     "data": {
      "text/plain": [
       "[('ADE', 2),\n",
       " ('Dosage', 26),\n",
       " ('Drug', 87),\n",
       " ('Duration', 14),\n",
       " ('Form', 44),\n",
       " ('Frequency', 29),\n",
       " ('NEG', 208),\n",
       " ('Reason', 29),\n",
       " ('Route', 32),\n",
       " ('Strength', 29)]"
      ]
     },
     "execution_count": 139,
     "metadata": {},
     "output_type": "execute_result"
    }
   ],
   "source": [
    "[(k,v.shape[0]) for k,v in gsdf]"
   ]
  },
  {
   "cell_type": "code",
   "execution_count": null,
   "id": "dcbc82f5-82a6-4363-8da9-ab37e2d8cd26",
   "metadata": {},
   "outputs": [],
   "source": []
  }
 ],
 "metadata": {
  "kernelspec": {
   "display_name": "Python 3 (ipykernel)",
   "language": "python",
   "name": "python3"
  },
  "language_info": {
   "codemirror_mode": {
    "name": "ipython",
    "version": 3
   },
   "file_extension": ".py",
   "mimetype": "text/x-python",
   "name": "python",
   "nbconvert_exporter": "python",
   "pygments_lexer": "ipython3",
   "version": "3.8.18"
  }
 },
 "nbformat": 4,
 "nbformat_minor": 5
}
