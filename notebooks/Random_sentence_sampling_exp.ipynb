{
 "cells": [
  {
   "cell_type": "code",
   "execution_count": 1,
   "id": "1a65a67f-590c-433e-8c78-d525b673f7bb",
   "metadata": {},
   "outputs": [],
   "source": [
    "import sklearn_crfsuite\n",
    "from sklearn_crfsuite.metrics import flat_f1_score\n",
    "from sklearn_crfsuite import CRF\n",
    "from sklearn.model_selection import train_test_split\n",
    "import pandas as pd\n",
    "import numpy as np\n",
    "from spacy.lang.en import English\n",
    "from spacy import displacy\n",
    "from pathlib import Path\n",
    "import joblib\n",
    "from spacy.tokens import Doc\n",
    "from typing import List\n",
    "import random\n",
    "from statistics import mean, stdev\n",
    "from loguru import logger\n",
    "import sys\n",
    "import spacy\n",
    "from medspacy_io.reader.brat_reader import BratDocReader, BratDirReader\n",
    "import medspacy"
   ]
  },
  {
   "cell_type": "markdown",
   "id": "7dd92bea-d77d-4e3a-8172-1076bc8e7eb3",
   "metadata": {},
   "source": [
    "## Initial Brat Reader"
   ]
  },
  {
   "cell_type": "code",
   "execution_count": 2,
   "id": "fcd34a8d-f685-41c2-aa74-8cf246911a1c",
   "metadata": {},
   "outputs": [
    {
     "data": {
      "text/plain": [
       "(True, True)"
      ]
     },
     "execution_count": 2,
     "metadata": {},
     "output_type": "execute_result"
    }
   ],
   "source": [
    "cleaned_train_dir=r'..\\data\\n2c2\\cleaned_training'\n",
    "cleaned_test_dir=r'..\\data\\n2c2\\cleaned_test'\n",
    "Path(cleaned_train_dir).exists(), Path(cleaned_test_dir).exists()"
   ]
  },
  {
   "cell_type": "code",
   "execution_count": 3,
   "id": "9e53fe5f-8269-4c04-9730-a87f72fb8ad5",
   "metadata": {},
   "outputs": [],
   "source": [
    "nlp=spacy.load('en_core_web_sm', disable=['ner'])"
   ]
  },
  {
   "cell_type": "code",
   "execution_count": 4,
   "id": "5571ad33-cd90-4dc7-9e23-369ff5a19cac",
   "metadata": {},
   "outputs": [],
   "source": [
    "dir_reader = BratDirReader(nlp=nlp, schema_file=str(Path(cleaned_train_dir, 'annotation.conf')), support_overlap=True)"
   ]
  },
  {
   "cell_type": "markdown",
   "id": "b3e9534c-ae6b-43d8-af46-445a60b1cf64",
   "metadata": {},
   "source": [
    "## read ehost annotation/load pickle"
   ]
  },
  {
   "cell_type": "code",
   "execution_count": 5,
   "id": "deed2967-1126-44c7-a7e9-d33330dbe7c2",
   "metadata": {},
   "outputs": [],
   "source": [
    "pickle_file= r'..\\data\\n2c2\\spacy_docs.joblib'"
   ]
  },
  {
   "cell_type": "code",
   "execution_count": 6,
   "id": "f2628e94-e81a-479e-a660-bb935a05e547",
   "metadata": {},
   "outputs": [
    {
     "name": "stdout",
     "output_type": "stream",
     "text": [
      "..\\data\\n2c2\\spacy_docs.joblib already exists, load them directly\n"
     ]
    }
   ],
   "source": [
    "if not Path(pickle_file).exists():\n",
    "    train_docs=dir_reader.read(txt_dir=cleaned_train_dir)\n",
    "    test_docs=dir_reader.read(txt_dir=cleaned_test_dir)\n",
    "    print(len(train_docs), len(test_docs))\n",
    "    joblib.dump((train_docs, test_docs), pickle_file)\n",
    "else:\n",
    "    print(f'{pickle_file} already exists, load them directly')\n",
    "    # before load from pickle, initiate EhostDirReader or EhostDocReader first, because some Doc extension used to store meta data will not be automatically recreated by loading.\n",
    "    train_docs, test_docs=joblib.load(pickle_file)"
   ]
  },
  {
   "cell_type": "markdown",
   "id": "ccd58a3d-5c6b-41cf-8c77-2b18321c53b8",
   "metadata": {},
   "source": [
    "## define sampling functions"
   ]
  },
  {
   "cell_type": "code",
   "execution_count": 7,
   "id": "da8e6611-467b-4a95-8b71-8be891d69fc4",
   "metadata": {},
   "outputs": [],
   "source": [
    "rounds =10\n",
    "seed= 14"
   ]
  },
  {
   "cell_type": "code",
   "execution_count": 8,
   "id": "a97a2294-658f-4258-a8de-01d59450c130",
   "metadata": {},
   "outputs": [
    {
     "data": {
      "text/plain": [
       "(303, 202)"
      ]
     },
     "execution_count": 8,
     "metadata": {},
     "output_type": "execute_result"
    }
   ],
   "source": [
    "len(train_docs), len(test_docs)"
   ]
  },
  {
   "cell_type": "markdown",
   "id": "a3bba872-ac8f-4f58-822d-2a5dcdea5a04",
   "metadata": {},
   "source": [
    "## Define CRF Wrapper"
   ]
  },
  {
   "cell_type": "code",
   "execution_count": 9,
   "id": "d7cd6a4b-1982-4954-969a-690575d58361",
   "metadata": {},
   "outputs": [],
   "source": [
    "from CRFWrapper_Sentence import spans_to_bio, convert_docs, word2features, sent2features,compute_metrics_and_averages,  CRFModel\n"
   ]
  },
  {
   "cell_type": "code",
   "execution_count": 10,
   "id": "90cc65e9-b3ec-4a86-a99c-917e055067e2",
   "metadata": {},
   "outputs": [
    {
     "name": "stdout",
     "output_type": "stream",
     "text": [
      "{'Form', 'Frequency', 'Duration', 'Route', 'Dosage', 'Drug', 'Strength', 'Reason', 'ADE'}\n"
     ]
    }
   ],
   "source": [
    "## Get all annotation types: \n",
    "annos=set()\n",
    "for d in train_docs:\n",
    "    for anno in d.spans.keys():\n",
    "        annos.add(anno)\n",
    "print(annos)"
   ]
  },
  {
   "cell_type": "code",
   "execution_count": 11,
   "id": "ada19947-c307-4c5e-8419-52f315fdfcb9",
   "metadata": {},
   "outputs": [],
   "source": [
    "crf_model=CRFModel(anno_types=annos)"
   ]
  },
  {
   "cell_type": "markdown",
   "id": "2826deac-5978-4d2a-b1c1-de21bf41269d",
   "metadata": {},
   "source": [
    "## Convert training and testing docs into sentence level dataframe"
   ]
  },
  {
   "cell_type": "code",
   "execution_count": 12,
   "id": "9b02d853-f97d-45f2-ab05-80b787da31a8",
   "metadata": {},
   "outputs": [],
   "source": [
    "_, train_df=convert_docs(train_docs, anno_types=annos)\n",
    "_, test_df=convert_docs(test_docs, anno_types=annos)"
   ]
  },
  {
   "cell_type": "code",
   "execution_count": 13,
   "id": "0cc0ff49-4536-4393-88c0-2683a7a9d4b2",
   "metadata": {},
   "outputs": [
    {
     "data": {
      "text/html": [
       "<div>\n",
       "<style scoped>\n",
       "    .dataframe tbody tr th:only-of-type {\n",
       "        vertical-align: middle;\n",
       "    }\n",
       "\n",
       "    .dataframe tbody tr th {\n",
       "        vertical-align: top;\n",
       "    }\n",
       "\n",
       "    .dataframe thead th {\n",
       "        text-align: right;\n",
       "    }\n",
       "</style>\n",
       "<table border=\"1\" class=\"dataframe\">\n",
       "  <thead>\n",
       "    <tr style=\"text-align: right;\">\n",
       "      <th></th>\n",
       "      <th>sentence_id</th>\n",
       "      <th>doc_name</th>\n",
       "      <th>token</th>\n",
       "      <th>label</th>\n",
       "    </tr>\n",
       "  </thead>\n",
       "  <tbody>\n",
       "    <tr>\n",
       "      <th>0</th>\n",
       "      <td>0</td>\n",
       "      <td>100035.txt</td>\n",
       "      <td>Admission</td>\n",
       "      <td>O</td>\n",
       "    </tr>\n",
       "    <tr>\n",
       "      <th>1</th>\n",
       "      <td>0</td>\n",
       "      <td>100035.txt</td>\n",
       "      <td>Date</td>\n",
       "      <td>O</td>\n",
       "    </tr>\n",
       "    <tr>\n",
       "      <th>2</th>\n",
       "      <td>0</td>\n",
       "      <td>100035.txt</td>\n",
       "      <td>:</td>\n",
       "      <td>O</td>\n",
       "    </tr>\n",
       "    <tr>\n",
       "      <th>3</th>\n",
       "      <td>1</td>\n",
       "      <td>100035.txt</td>\n",
       "      <td>[</td>\n",
       "      <td>O</td>\n",
       "    </tr>\n",
       "    <tr>\n",
       "      <th>4</th>\n",
       "      <td>1</td>\n",
       "      <td>100035.txt</td>\n",
       "      <td>*</td>\n",
       "      <td>O</td>\n",
       "    </tr>\n",
       "    <tr>\n",
       "      <th>...</th>\n",
       "      <td>...</td>\n",
       "      <td>...</td>\n",
       "      <td>...</td>\n",
       "      <td>...</td>\n",
       "    </tr>\n",
       "    <tr>\n",
       "      <th>3151</th>\n",
       "      <td>929927</td>\n",
       "      <td>198406.txt</td>\n",
       "      <td>Followup</td>\n",
       "      <td>O</td>\n",
       "    </tr>\n",
       "    <tr>\n",
       "      <th>3152</th>\n",
       "      <td>929927</td>\n",
       "      <td>198406.txt</td>\n",
       "      <td>Instructions</td>\n",
       "      <td>O</td>\n",
       "    </tr>\n",
       "    <tr>\n",
       "      <th>3153</th>\n",
       "      <td>929927</td>\n",
       "      <td>198406.txt</td>\n",
       "      <td>:</td>\n",
       "      <td>O</td>\n",
       "    </tr>\n",
       "    <tr>\n",
       "      <th>3154</th>\n",
       "      <td>929927</td>\n",
       "      <td>198406.txt</td>\n",
       "      <td>\\n</td>\n",
       "      <td>O</td>\n",
       "    </tr>\n",
       "    <tr>\n",
       "      <th>3155</th>\n",
       "      <td>929927</td>\n",
       "      <td>198406.txt</td>\n",
       "      <td>Deceased</td>\n",
       "      <td>O</td>\n",
       "    </tr>\n",
       "  </tbody>\n",
       "</table>\n",
       "<p>932906 rows × 4 columns</p>\n",
       "</div>"
      ],
      "text/plain": [
       "      sentence_id    doc_name         token label\n",
       "0               0  100035.txt     Admission     O\n",
       "1               0  100035.txt          Date     O\n",
       "2               0  100035.txt             :     O\n",
       "3               1  100035.txt             [     O\n",
       "4               1  100035.txt             *     O\n",
       "...           ...         ...           ...   ...\n",
       "3151       929927  198406.txt      Followup     O\n",
       "3152       929927  198406.txt  Instructions     O\n",
       "3153       929927  198406.txt             :     O\n",
       "3154       929927  198406.txt            \\n     O\n",
       "3155       929927  198406.txt      Deceased     O\n",
       "\n",
       "[932906 rows x 4 columns]"
      ]
     },
     "execution_count": 13,
     "metadata": {},
     "output_type": "execute_result"
    }
   ],
   "source": [
    "train_df"
   ]
  },
  {
   "cell_type": "code",
   "execution_count": 14,
   "id": "43c73f9d-a67d-4951-a129-8e1349530cff",
   "metadata": {},
   "outputs": [
    {
     "name": "stdout",
     "output_type": "stream",
     "text": [
      "51798 34334\n"
     ]
    }
   ],
   "source": [
    "train_sentID_list = train_df['sentence_id'].to_list()\n",
    "train_sentID_set = set(train_sentID_list)\n",
    "train_sentID_uniqList = list(train_sentID_set)\n",
    "test_sentID_list = test_df['sentence_id'].to_list()\n",
    "test_sentID_set = set(test_sentID_list)\n",
    "test_sentID_uniqList = list(test_sentID_set)\n",
    "print(len(train_sentID_uniqList), len(test_sentID_uniqList))"
   ]
  },
  {
   "cell_type": "code",
   "execution_count": 15,
   "id": "9f4803bc-ca64-4e85-ad46-a96fcd333146",
   "metadata": {},
   "outputs": [
    {
     "data": {
      "text/plain": [
       "5179"
      ]
     },
     "execution_count": 15,
     "metadata": {},
     "output_type": "execute_result"
    }
   ],
   "source": [
    "int(1.0*len(train_sentID_uniqList)/10)"
   ]
  },
  {
   "cell_type": "code",
   "execution_count": null,
   "id": "21a210ff-bdb9-4f8e-9f9a-fe8444041767",
   "metadata": {},
   "outputs": [],
   "source": []
  },
  {
   "cell_type": "markdown",
   "id": "3ae5f0d9-d5fa-404a-a5d7-ee69e59e8297",
   "metadata": {},
   "source": [
    "# Random Sampling Simulator"
   ]
  },
  {
   "cell_type": "code",
   "execution_count": 16,
   "id": "a54cf766-2219-46cb-a906-e5e570e62077",
   "metadata": {},
   "outputs": [],
   "source": [
    "from ALLSampler_Sentence import SamplingSimulator, ModelSamplingSimulator, RandomSamplingSimulator"
   ]
  },
  {
   "cell_type": "code",
   "execution_count": 17,
   "id": "a07d0075-074f-48d4-a930-d2d07c99c29f",
   "metadata": {},
   "outputs": [],
   "source": [
    "r_simulator=RandomSamplingSimulator(total_sents=train_df, \n",
    "                                    total_round=10, \n",
    "                                    modelWrapper=crf_model, \n",
    "                                    eval_sents=test_df, \n",
    "                                    init_seed=seed)"
   ]
  },
  {
   "cell_type": "markdown",
   "id": "962899bb-3dec-4c28-8a6a-6c47dd5c0faa",
   "metadata": {},
   "source": [
    "## test run"
   ]
  },
  {
   "cell_type": "code",
   "execution_count": 18,
   "id": "120425db-b0cb-45d9-a2a1-7c2aa69c4f70",
   "metadata": {},
   "outputs": [
    {
     "name": "stderr",
     "output_type": "stream",
     "text": [
      "\u001b[32m2024-04-24 12:40:38.789\u001b[0m | \u001b[1mINFO    \u001b[0m | \u001b[36mALLSampler_Sentence\u001b[0m:\u001b[36msimulate_rounds\u001b[0m:\u001b[36m92\u001b[0m - \u001b[1msimulate round 0.\u001b[0m\n",
      "\u001b[32m2024-04-24 12:40:38.790\u001b[0m | \u001b[34m\u001b[1mDEBUG   \u001b[0m | \u001b[36mALLSampler_Sentence\u001b[0m:\u001b[36mkeep_sample\u001b[0m:\u001b[36m75\u001b[0m - \u001b[34m\u001b[1mThe first round sampling will be random\u001b[0m\n",
      "\u001b[32m2024-04-24 12:40:39.208\u001b[0m | \u001b[1mINFO    \u001b[0m | \u001b[36mALLSampler_Sentence\u001b[0m:\u001b[36mkeep_sample\u001b[0m:\u001b[36m82\u001b[0m - \u001b[1mcurrent sampled sentences: 5179, remaining sentences: 46619\u001b[0m\n",
      "\u001b[32m2024-04-24 12:40:41.315\u001b[0m | \u001b[34m\u001b[1mDEBUG   \u001b[0m | \u001b[36mCRFWrapper_Sentence\u001b[0m:\u001b[36mfit\u001b[0m:\u001b[36m284\u001b[0m - \u001b[34m\u001b[1mReset and train CRF model...\u001b[0m\n",
      "\u001b[32m2024-04-24 12:41:43.962\u001b[0m | \u001b[34m\u001b[1mDEBUG   \u001b[0m | \u001b[36mCRFWrapper_Sentence\u001b[0m:\u001b[36mfit\u001b[0m:\u001b[36m292\u001b[0m - \u001b[34m\u001b[1mTraining complete.\u001b[0m\n",
      "\u001b[32m2024-04-24 12:41:44.052\u001b[0m | \u001b[34m\u001b[1mDEBUG   \u001b[0m | \u001b[36mCRFWrapper_Sentence\u001b[0m:\u001b[36mbootstrap_eval_DFsent\u001b[0m:\u001b[36m352\u001b[0m - \u001b[34m\u001b[1mPredicting eval sents...\u001b[0m\n",
      "\u001b[32m2024-04-24 12:42:10.450\u001b[0m | \u001b[34m\u001b[1mDEBUG   \u001b[0m | \u001b[36mCRFWrapper_Sentence\u001b[0m:\u001b[36mbootstrap_eval_DFsent\u001b[0m:\u001b[36m356\u001b[0m - \u001b[34m\u001b[1mCalculate scores from bootstrapping 200 times\u001b[0m\n",
      "\u001b[32m2024-04-24 12:46:36.887\u001b[0m | \u001b[34m\u001b[1mDEBUG   \u001b[0m | \u001b[36mCRFWrapper_Sentence\u001b[0m:\u001b[36mbootstrap_eval_DFsent\u001b[0m:\u001b[36m365\u001b[0m - \u001b[34m\u001b[1mcomplete\u001b[0m\n",
      "\u001b[32m2024-04-24 12:46:37.017\u001b[0m | \u001b[34m\u001b[1mDEBUG   \u001b[0m | \u001b[36mALLSampler_Sentence\u001b[0m:\u001b[36msimulate_rounds\u001b[0m:\u001b[36m103\u001b[0m - \u001b[34m\u001b[1m{'precision': 0.9460863337731906, 'recall': 0.7718258294774815, 'f1': 0.8501139611079124}\u001b[0m\n",
      "\u001b[32m2024-04-24 12:46:37.019\u001b[0m | \u001b[1mINFO    \u001b[0m | \u001b[36mALLSampler_Sentence\u001b[0m:\u001b[36msimulate_rounds\u001b[0m:\u001b[36m92\u001b[0m - \u001b[1msimulate round 1.\u001b[0m\n",
      "\u001b[32m2024-04-24 12:46:37.020\u001b[0m | \u001b[34m\u001b[1mDEBUG   \u001b[0m | \u001b[36mALLSampler_Sentence\u001b[0m:\u001b[36mkeep_sample\u001b[0m:\u001b[36m78\u001b[0m - \u001b[34m\u001b[1mSample according to certainties\u001b[0m\n",
      "\u001b[32m2024-04-24 12:46:37.394\u001b[0m | \u001b[1mINFO    \u001b[0m | \u001b[36mALLSampler_Sentence\u001b[0m:\u001b[36mkeep_sample\u001b[0m:\u001b[36m82\u001b[0m - \u001b[1mcurrent sampled sentences: 10358, remaining sentences: 41440\u001b[0m\n",
      "\u001b[32m2024-04-24 12:46:41.595\u001b[0m | \u001b[34m\u001b[1mDEBUG   \u001b[0m | \u001b[36mCRFWrapper_Sentence\u001b[0m:\u001b[36mfit\u001b[0m:\u001b[36m284\u001b[0m - \u001b[34m\u001b[1mReset and train CRF model...\u001b[0m\n",
      "\u001b[32m2024-04-24 12:48:42.342\u001b[0m | \u001b[34m\u001b[1mDEBUG   \u001b[0m | \u001b[36mCRFWrapper_Sentence\u001b[0m:\u001b[36mfit\u001b[0m:\u001b[36m292\u001b[0m - \u001b[34m\u001b[1mTraining complete.\u001b[0m\n",
      "\u001b[32m2024-04-24 12:48:42.506\u001b[0m | \u001b[34m\u001b[1mDEBUG   \u001b[0m | \u001b[36mCRFWrapper_Sentence\u001b[0m:\u001b[36mbootstrap_eval_DFsent\u001b[0m:\u001b[36m352\u001b[0m - \u001b[34m\u001b[1mPredicting eval sents...\u001b[0m\n",
      "\u001b[32m2024-04-24 12:49:08.607\u001b[0m | \u001b[34m\u001b[1mDEBUG   \u001b[0m | \u001b[36mCRFWrapper_Sentence\u001b[0m:\u001b[36mbootstrap_eval_DFsent\u001b[0m:\u001b[36m356\u001b[0m - \u001b[34m\u001b[1mCalculate scores from bootstrapping 200 times\u001b[0m\n",
      "\u001b[32m2024-04-24 12:53:31.735\u001b[0m | \u001b[34m\u001b[1mDEBUG   \u001b[0m | \u001b[36mCRFWrapper_Sentence\u001b[0m:\u001b[36mbootstrap_eval_DFsent\u001b[0m:\u001b[36m365\u001b[0m - \u001b[34m\u001b[1mcomplete\u001b[0m\n",
      "\u001b[32m2024-04-24 12:53:31.857\u001b[0m | \u001b[34m\u001b[1mDEBUG   \u001b[0m | \u001b[36mALLSampler_Sentence\u001b[0m:\u001b[36msimulate_rounds\u001b[0m:\u001b[36m103\u001b[0m - \u001b[34m\u001b[1m{'precision': 0.9457012153774486, 'recall': 0.8166925252322672, 'f1': 0.8764722296726251}\u001b[0m\n",
      "\u001b[32m2024-04-24 12:53:31.859\u001b[0m | \u001b[1mINFO    \u001b[0m | \u001b[36mALLSampler_Sentence\u001b[0m:\u001b[36msimulate_rounds\u001b[0m:\u001b[36m92\u001b[0m - \u001b[1msimulate round 2.\u001b[0m\n",
      "\u001b[32m2024-04-24 12:53:31.860\u001b[0m | \u001b[34m\u001b[1mDEBUG   \u001b[0m | \u001b[36mALLSampler_Sentence\u001b[0m:\u001b[36mkeep_sample\u001b[0m:\u001b[36m78\u001b[0m - \u001b[34m\u001b[1mSample according to certainties\u001b[0m\n",
      "\u001b[32m2024-04-24 12:53:32.219\u001b[0m | \u001b[1mINFO    \u001b[0m | \u001b[36mALLSampler_Sentence\u001b[0m:\u001b[36mkeep_sample\u001b[0m:\u001b[36m82\u001b[0m - \u001b[1mcurrent sampled sentences: 15537, remaining sentences: 36261\u001b[0m\n",
      "\u001b[32m2024-04-24 12:53:38.457\u001b[0m | \u001b[34m\u001b[1mDEBUG   \u001b[0m | \u001b[36mCRFWrapper_Sentence\u001b[0m:\u001b[36mfit\u001b[0m:\u001b[36m284\u001b[0m - \u001b[34m\u001b[1mReset and train CRF model...\u001b[0m\n",
      "\u001b[32m2024-04-24 12:56:38.792\u001b[0m | \u001b[34m\u001b[1mDEBUG   \u001b[0m | \u001b[36mCRFWrapper_Sentence\u001b[0m:\u001b[36mfit\u001b[0m:\u001b[36m292\u001b[0m - \u001b[34m\u001b[1mTraining complete.\u001b[0m\n",
      "\u001b[32m2024-04-24 12:56:39.056\u001b[0m | \u001b[34m\u001b[1mDEBUG   \u001b[0m | \u001b[36mCRFWrapper_Sentence\u001b[0m:\u001b[36mbootstrap_eval_DFsent\u001b[0m:\u001b[36m352\u001b[0m - \u001b[34m\u001b[1mPredicting eval sents...\u001b[0m\n",
      "\u001b[32m2024-04-24 12:57:05.272\u001b[0m | \u001b[34m\u001b[1mDEBUG   \u001b[0m | \u001b[36mCRFWrapper_Sentence\u001b[0m:\u001b[36mbootstrap_eval_DFsent\u001b[0m:\u001b[36m356\u001b[0m - \u001b[34m\u001b[1mCalculate scores from bootstrapping 200 times\u001b[0m\n",
      "\u001b[32m2024-04-24 13:01:25.916\u001b[0m | \u001b[34m\u001b[1mDEBUG   \u001b[0m | \u001b[36mCRFWrapper_Sentence\u001b[0m:\u001b[36mbootstrap_eval_DFsent\u001b[0m:\u001b[36m365\u001b[0m - \u001b[34m\u001b[1mcomplete\u001b[0m\n",
      "\u001b[32m2024-04-24 13:01:26.035\u001b[0m | \u001b[34m\u001b[1mDEBUG   \u001b[0m | \u001b[36mALLSampler_Sentence\u001b[0m:\u001b[36msimulate_rounds\u001b[0m:\u001b[36m103\u001b[0m - \u001b[34m\u001b[1m{'precision': 0.9464227822012083, 'recall': 0.8294071563177906, 'f1': 0.8840570908107336}\u001b[0m\n",
      "\u001b[32m2024-04-24 13:01:26.037\u001b[0m | \u001b[1mINFO    \u001b[0m | \u001b[36mALLSampler_Sentence\u001b[0m:\u001b[36msimulate_rounds\u001b[0m:\u001b[36m92\u001b[0m - \u001b[1msimulate round 3.\u001b[0m\n",
      "\u001b[32m2024-04-24 13:01:26.038\u001b[0m | \u001b[34m\u001b[1mDEBUG   \u001b[0m | \u001b[36mALLSampler_Sentence\u001b[0m:\u001b[36mkeep_sample\u001b[0m:\u001b[36m78\u001b[0m - \u001b[34m\u001b[1mSample according to certainties\u001b[0m\n",
      "\u001b[32m2024-04-24 13:01:26.370\u001b[0m | \u001b[1mINFO    \u001b[0m | \u001b[36mALLSampler_Sentence\u001b[0m:\u001b[36mkeep_sample\u001b[0m:\u001b[36m82\u001b[0m - \u001b[1mcurrent sampled sentences: 20716, remaining sentences: 31082\u001b[0m\n",
      "\u001b[32m2024-04-24 13:01:34.735\u001b[0m | \u001b[34m\u001b[1mDEBUG   \u001b[0m | \u001b[36mCRFWrapper_Sentence\u001b[0m:\u001b[36mfit\u001b[0m:\u001b[36m284\u001b[0m - \u001b[34m\u001b[1mReset and train CRF model...\u001b[0m\n",
      "\u001b[32m2024-04-24 13:05:37.464\u001b[0m | \u001b[34m\u001b[1mDEBUG   \u001b[0m | \u001b[36mCRFWrapper_Sentence\u001b[0m:\u001b[36mfit\u001b[0m:\u001b[36m292\u001b[0m - \u001b[34m\u001b[1mTraining complete.\u001b[0m\n",
      "\u001b[32m2024-04-24 13:05:37.830\u001b[0m | \u001b[34m\u001b[1mDEBUG   \u001b[0m | \u001b[36mCRFWrapper_Sentence\u001b[0m:\u001b[36mbootstrap_eval_DFsent\u001b[0m:\u001b[36m352\u001b[0m - \u001b[34m\u001b[1mPredicting eval sents...\u001b[0m\n",
      "\u001b[32m2024-04-24 13:06:04.603\u001b[0m | \u001b[34m\u001b[1mDEBUG   \u001b[0m | \u001b[36mCRFWrapper_Sentence\u001b[0m:\u001b[36mbootstrap_eval_DFsent\u001b[0m:\u001b[36m356\u001b[0m - \u001b[34m\u001b[1mCalculate scores from bootstrapping 200 times\u001b[0m\n",
      "\u001b[32m2024-04-24 13:10:25.708\u001b[0m | \u001b[34m\u001b[1mDEBUG   \u001b[0m | \u001b[36mCRFWrapper_Sentence\u001b[0m:\u001b[36mbootstrap_eval_DFsent\u001b[0m:\u001b[36m365\u001b[0m - \u001b[34m\u001b[1mcomplete\u001b[0m\n",
      "\u001b[32m2024-04-24 13:10:25.822\u001b[0m | \u001b[34m\u001b[1mDEBUG   \u001b[0m | \u001b[36mALLSampler_Sentence\u001b[0m:\u001b[36msimulate_rounds\u001b[0m:\u001b[36m103\u001b[0m - \u001b[34m\u001b[1m{'precision': 0.9443927810818239, 'recall': 0.8389634545691562, 'f1': 0.8885592539529796}\u001b[0m\n",
      "\u001b[32m2024-04-24 13:10:25.824\u001b[0m | \u001b[1mINFO    \u001b[0m | \u001b[36mALLSampler_Sentence\u001b[0m:\u001b[36msimulate_rounds\u001b[0m:\u001b[36m92\u001b[0m - \u001b[1msimulate round 4.\u001b[0m\n",
      "\u001b[32m2024-04-24 13:10:25.825\u001b[0m | \u001b[34m\u001b[1mDEBUG   \u001b[0m | \u001b[36mALLSampler_Sentence\u001b[0m:\u001b[36mkeep_sample\u001b[0m:\u001b[36m78\u001b[0m - \u001b[34m\u001b[1mSample according to certainties\u001b[0m\n",
      "\u001b[32m2024-04-24 13:10:26.141\u001b[0m | \u001b[1mINFO    \u001b[0m | \u001b[36mALLSampler_Sentence\u001b[0m:\u001b[36mkeep_sample\u001b[0m:\u001b[36m82\u001b[0m - \u001b[1mcurrent sampled sentences: 25895, remaining sentences: 25903\u001b[0m\n",
      "\u001b[32m2024-04-24 13:10:36.521\u001b[0m | \u001b[34m\u001b[1mDEBUG   \u001b[0m | \u001b[36mCRFWrapper_Sentence\u001b[0m:\u001b[36mfit\u001b[0m:\u001b[36m284\u001b[0m - \u001b[34m\u001b[1mReset and train CRF model...\u001b[0m\n",
      "\u001b[32m2024-04-24 13:15:46.358\u001b[0m | \u001b[34m\u001b[1mDEBUG   \u001b[0m | \u001b[36mCRFWrapper_Sentence\u001b[0m:\u001b[36mfit\u001b[0m:\u001b[36m292\u001b[0m - \u001b[34m\u001b[1mTraining complete.\u001b[0m\n",
      "\u001b[32m2024-04-24 13:15:46.864\u001b[0m | \u001b[34m\u001b[1mDEBUG   \u001b[0m | \u001b[36mCRFWrapper_Sentence\u001b[0m:\u001b[36mbootstrap_eval_DFsent\u001b[0m:\u001b[36m352\u001b[0m - \u001b[34m\u001b[1mPredicting eval sents...\u001b[0m\n",
      "\u001b[32m2024-04-24 13:16:12.950\u001b[0m | \u001b[34m\u001b[1mDEBUG   \u001b[0m | \u001b[36mCRFWrapper_Sentence\u001b[0m:\u001b[36mbootstrap_eval_DFsent\u001b[0m:\u001b[36m356\u001b[0m - \u001b[34m\u001b[1mCalculate scores from bootstrapping 200 times\u001b[0m\n",
      "\u001b[32m2024-04-24 13:20:34.384\u001b[0m | \u001b[34m\u001b[1mDEBUG   \u001b[0m | \u001b[36mCRFWrapper_Sentence\u001b[0m:\u001b[36mbootstrap_eval_DFsent\u001b[0m:\u001b[36m365\u001b[0m - \u001b[34m\u001b[1mcomplete\u001b[0m\n",
      "\u001b[32m2024-04-24 13:20:34.497\u001b[0m | \u001b[34m\u001b[1mDEBUG   \u001b[0m | \u001b[36mALLSampler_Sentence\u001b[0m:\u001b[36msimulate_rounds\u001b[0m:\u001b[36m103\u001b[0m - \u001b[34m\u001b[1m{'precision': 0.9433199534271759, 'recall': 0.84495916820378, 'f1': 0.8914318064559371}\u001b[0m\n",
      "\u001b[32m2024-04-24 13:20:34.499\u001b[0m | \u001b[1mINFO    \u001b[0m | \u001b[36mALLSampler_Sentence\u001b[0m:\u001b[36msimulate_rounds\u001b[0m:\u001b[36m92\u001b[0m - \u001b[1msimulate round 5.\u001b[0m\n",
      "\u001b[32m2024-04-24 13:20:34.500\u001b[0m | \u001b[34m\u001b[1mDEBUG   \u001b[0m | \u001b[36mALLSampler_Sentence\u001b[0m:\u001b[36mkeep_sample\u001b[0m:\u001b[36m78\u001b[0m - \u001b[34m\u001b[1mSample according to certainties\u001b[0m\n",
      "\u001b[32m2024-04-24 13:20:34.793\u001b[0m | \u001b[1mINFO    \u001b[0m | \u001b[36mALLSampler_Sentence\u001b[0m:\u001b[36mkeep_sample\u001b[0m:\u001b[36m82\u001b[0m - \u001b[1mcurrent sampled sentences: 31074, remaining sentences: 20724\u001b[0m\n",
      "\u001b[32m2024-04-24 13:20:47.415\u001b[0m | \u001b[34m\u001b[1mDEBUG   \u001b[0m | \u001b[36mCRFWrapper_Sentence\u001b[0m:\u001b[36mfit\u001b[0m:\u001b[36m284\u001b[0m - \u001b[34m\u001b[1mReset and train CRF model...\u001b[0m\n",
      "\u001b[32m2024-04-24 13:26:58.082\u001b[0m | \u001b[34m\u001b[1mDEBUG   \u001b[0m | \u001b[36mCRFWrapper_Sentence\u001b[0m:\u001b[36mfit\u001b[0m:\u001b[36m292\u001b[0m - \u001b[34m\u001b[1mTraining complete.\u001b[0m\n",
      "\u001b[32m2024-04-24 13:26:58.706\u001b[0m | \u001b[34m\u001b[1mDEBUG   \u001b[0m | \u001b[36mCRFWrapper_Sentence\u001b[0m:\u001b[36mbootstrap_eval_DFsent\u001b[0m:\u001b[36m352\u001b[0m - \u001b[34m\u001b[1mPredicting eval sents...\u001b[0m\n",
      "\u001b[32m2024-04-24 13:27:25.057\u001b[0m | \u001b[34m\u001b[1mDEBUG   \u001b[0m | \u001b[36mCRFWrapper_Sentence\u001b[0m:\u001b[36mbootstrap_eval_DFsent\u001b[0m:\u001b[36m356\u001b[0m - \u001b[34m\u001b[1mCalculate scores from bootstrapping 200 times\u001b[0m\n",
      "\u001b[32m2024-04-24 13:31:46.946\u001b[0m | \u001b[34m\u001b[1mDEBUG   \u001b[0m | \u001b[36mCRFWrapper_Sentence\u001b[0m:\u001b[36mbootstrap_eval_DFsent\u001b[0m:\u001b[36m365\u001b[0m - \u001b[34m\u001b[1mcomplete\u001b[0m\n",
      "\u001b[32m2024-04-24 13:31:47.058\u001b[0m | \u001b[34m\u001b[1mDEBUG   \u001b[0m | \u001b[36mALLSampler_Sentence\u001b[0m:\u001b[36msimulate_rounds\u001b[0m:\u001b[36m103\u001b[0m - \u001b[34m\u001b[1m{'precision': 0.9444669591723297, 'recall': 0.8480416939871134, 'f1': 0.8936584412978319}\u001b[0m\n",
      "\u001b[32m2024-04-24 13:31:47.060\u001b[0m | \u001b[1mINFO    \u001b[0m | \u001b[36mALLSampler_Sentence\u001b[0m:\u001b[36msimulate_rounds\u001b[0m:\u001b[36m92\u001b[0m - \u001b[1msimulate round 6.\u001b[0m\n",
      "\u001b[32m2024-04-24 13:31:47.061\u001b[0m | \u001b[34m\u001b[1mDEBUG   \u001b[0m | \u001b[36mALLSampler_Sentence\u001b[0m:\u001b[36mkeep_sample\u001b[0m:\u001b[36m78\u001b[0m - \u001b[34m\u001b[1mSample according to certainties\u001b[0m\n",
      "\u001b[32m2024-04-24 13:31:47.349\u001b[0m | \u001b[1mINFO    \u001b[0m | \u001b[36mALLSampler_Sentence\u001b[0m:\u001b[36mkeep_sample\u001b[0m:\u001b[36m82\u001b[0m - \u001b[1mcurrent sampled sentences: 36253, remaining sentences: 15545\u001b[0m\n",
      "\u001b[32m2024-04-24 13:32:02.138\u001b[0m | \u001b[34m\u001b[1mDEBUG   \u001b[0m | \u001b[36mCRFWrapper_Sentence\u001b[0m:\u001b[36mfit\u001b[0m:\u001b[36m284\u001b[0m - \u001b[34m\u001b[1mReset and train CRF model...\u001b[0m\n",
      "\u001b[32m2024-04-24 13:39:22.989\u001b[0m | \u001b[34m\u001b[1mDEBUG   \u001b[0m | \u001b[36mCRFWrapper_Sentence\u001b[0m:\u001b[36mfit\u001b[0m:\u001b[36m292\u001b[0m - \u001b[34m\u001b[1mTraining complete.\u001b[0m\n",
      "\u001b[32m2024-04-24 13:39:23.729\u001b[0m | \u001b[34m\u001b[1mDEBUG   \u001b[0m | \u001b[36mCRFWrapper_Sentence\u001b[0m:\u001b[36mbootstrap_eval_DFsent\u001b[0m:\u001b[36m352\u001b[0m - \u001b[34m\u001b[1mPredicting eval sents...\u001b[0m\n",
      "\u001b[32m2024-04-24 13:39:50.169\u001b[0m | \u001b[34m\u001b[1mDEBUG   \u001b[0m | \u001b[36mCRFWrapper_Sentence\u001b[0m:\u001b[36mbootstrap_eval_DFsent\u001b[0m:\u001b[36m356\u001b[0m - \u001b[34m\u001b[1mCalculate scores from bootstrapping 200 times\u001b[0m\n",
      "\u001b[32m2024-04-24 13:44:10.536\u001b[0m | \u001b[34m\u001b[1mDEBUG   \u001b[0m | \u001b[36mCRFWrapper_Sentence\u001b[0m:\u001b[36mbootstrap_eval_DFsent\u001b[0m:\u001b[36m365\u001b[0m - \u001b[34m\u001b[1mcomplete\u001b[0m\n",
      "\u001b[32m2024-04-24 13:44:10.649\u001b[0m | \u001b[34m\u001b[1mDEBUG   \u001b[0m | \u001b[36mALLSampler_Sentence\u001b[0m:\u001b[36msimulate_rounds\u001b[0m:\u001b[36m103\u001b[0m - \u001b[34m\u001b[1m{'precision': 0.9455949374767824, 'recall': 0.853497904121609, 'f1': 0.8971868283017964}\u001b[0m\n",
      "\u001b[32m2024-04-24 13:44:10.650\u001b[0m | \u001b[1mINFO    \u001b[0m | \u001b[36mALLSampler_Sentence\u001b[0m:\u001b[36msimulate_rounds\u001b[0m:\u001b[36m92\u001b[0m - \u001b[1msimulate round 7.\u001b[0m\n",
      "\u001b[32m2024-04-24 13:44:10.652\u001b[0m | \u001b[34m\u001b[1mDEBUG   \u001b[0m | \u001b[36mALLSampler_Sentence\u001b[0m:\u001b[36mkeep_sample\u001b[0m:\u001b[36m78\u001b[0m - \u001b[34m\u001b[1mSample according to certainties\u001b[0m\n",
      "\u001b[32m2024-04-24 13:44:10.900\u001b[0m | \u001b[1mINFO    \u001b[0m | \u001b[36mALLSampler_Sentence\u001b[0m:\u001b[36mkeep_sample\u001b[0m:\u001b[36m82\u001b[0m - \u001b[1mcurrent sampled sentences: 41432, remaining sentences: 10366\u001b[0m\n",
      "\u001b[32m2024-04-24 13:44:27.546\u001b[0m | \u001b[34m\u001b[1mDEBUG   \u001b[0m | \u001b[36mCRFWrapper_Sentence\u001b[0m:\u001b[36mfit\u001b[0m:\u001b[36m284\u001b[0m - \u001b[34m\u001b[1mReset and train CRF model...\u001b[0m\n",
      "\u001b[32m2024-04-24 13:52:38.252\u001b[0m | \u001b[34m\u001b[1mDEBUG   \u001b[0m | \u001b[36mCRFWrapper_Sentence\u001b[0m:\u001b[36mfit\u001b[0m:\u001b[36m292\u001b[0m - \u001b[34m\u001b[1mTraining complete.\u001b[0m\n",
      "\u001b[32m2024-04-24 13:52:39.125\u001b[0m | \u001b[34m\u001b[1mDEBUG   \u001b[0m | \u001b[36mCRFWrapper_Sentence\u001b[0m:\u001b[36mbootstrap_eval_DFsent\u001b[0m:\u001b[36m352\u001b[0m - \u001b[34m\u001b[1mPredicting eval sents...\u001b[0m\n",
      "\u001b[32m2024-04-24 13:53:05.303\u001b[0m | \u001b[34m\u001b[1mDEBUG   \u001b[0m | \u001b[36mCRFWrapper_Sentence\u001b[0m:\u001b[36mbootstrap_eval_DFsent\u001b[0m:\u001b[36m356\u001b[0m - \u001b[34m\u001b[1mCalculate scores from bootstrapping 200 times\u001b[0m\n",
      "\u001b[32m2024-04-24 13:57:26.492\u001b[0m | \u001b[34m\u001b[1mDEBUG   \u001b[0m | \u001b[36mCRFWrapper_Sentence\u001b[0m:\u001b[36mbootstrap_eval_DFsent\u001b[0m:\u001b[36m365\u001b[0m - \u001b[34m\u001b[1mcomplete\u001b[0m\n",
      "\u001b[32m2024-04-24 13:57:26.603\u001b[0m | \u001b[34m\u001b[1mDEBUG   \u001b[0m | \u001b[36mALLSampler_Sentence\u001b[0m:\u001b[36msimulate_rounds\u001b[0m:\u001b[36m103\u001b[0m - \u001b[34m\u001b[1m{'precision': 0.9449636574238659, 'recall': 0.854133100628243, 'f1': 0.8972531788541428}\u001b[0m\n",
      "\u001b[32m2024-04-24 13:57:26.605\u001b[0m | \u001b[1mINFO    \u001b[0m | \u001b[36mALLSampler_Sentence\u001b[0m:\u001b[36msimulate_rounds\u001b[0m:\u001b[36m92\u001b[0m - \u001b[1msimulate round 8.\u001b[0m\n",
      "\u001b[32m2024-04-24 13:57:26.606\u001b[0m | \u001b[34m\u001b[1mDEBUG   \u001b[0m | \u001b[36mALLSampler_Sentence\u001b[0m:\u001b[36mkeep_sample\u001b[0m:\u001b[36m78\u001b[0m - \u001b[34m\u001b[1mSample according to certainties\u001b[0m\n",
      "\u001b[32m2024-04-24 13:57:26.833\u001b[0m | \u001b[1mINFO    \u001b[0m | \u001b[36mALLSampler_Sentence\u001b[0m:\u001b[36mkeep_sample\u001b[0m:\u001b[36m82\u001b[0m - \u001b[1mcurrent sampled sentences: 46611, remaining sentences: 5187\u001b[0m\n",
      "\u001b[32m2024-04-24 13:57:46.162\u001b[0m | \u001b[34m\u001b[1mDEBUG   \u001b[0m | \u001b[36mCRFWrapper_Sentence\u001b[0m:\u001b[36mfit\u001b[0m:\u001b[36m284\u001b[0m - \u001b[34m\u001b[1mReset and train CRF model...\u001b[0m\n",
      "\u001b[32m2024-04-24 14:07:13.297\u001b[0m | \u001b[34m\u001b[1mDEBUG   \u001b[0m | \u001b[36mCRFWrapper_Sentence\u001b[0m:\u001b[36mfit\u001b[0m:\u001b[36m292\u001b[0m - \u001b[34m\u001b[1mTraining complete.\u001b[0m\n",
      "\u001b[32m2024-04-24 14:07:14.286\u001b[0m | \u001b[34m\u001b[1mDEBUG   \u001b[0m | \u001b[36mCRFWrapper_Sentence\u001b[0m:\u001b[36mbootstrap_eval_DFsent\u001b[0m:\u001b[36m352\u001b[0m - \u001b[34m\u001b[1mPredicting eval sents...\u001b[0m\n",
      "\u001b[32m2024-04-24 14:07:39.832\u001b[0m | \u001b[34m\u001b[1mDEBUG   \u001b[0m | \u001b[36mCRFWrapper_Sentence\u001b[0m:\u001b[36mbootstrap_eval_DFsent\u001b[0m:\u001b[36m356\u001b[0m - \u001b[34m\u001b[1mCalculate scores from bootstrapping 200 times\u001b[0m\n",
      "\u001b[32m2024-04-24 14:12:01.207\u001b[0m | \u001b[34m\u001b[1mDEBUG   \u001b[0m | \u001b[36mCRFWrapper_Sentence\u001b[0m:\u001b[36mbootstrap_eval_DFsent\u001b[0m:\u001b[36m365\u001b[0m - \u001b[34m\u001b[1mcomplete\u001b[0m\n",
      "\u001b[32m2024-04-24 14:12:01.321\u001b[0m | \u001b[34m\u001b[1mDEBUG   \u001b[0m | \u001b[36mALLSampler_Sentence\u001b[0m:\u001b[36msimulate_rounds\u001b[0m:\u001b[36m103\u001b[0m - \u001b[34m\u001b[1m{'precision': 0.947430547606862, 'recall': 0.8551691748315754, 'f1': 0.8989364182235805}\u001b[0m\n",
      "\u001b[32m2024-04-24 14:12:01.323\u001b[0m | \u001b[1mINFO    \u001b[0m | \u001b[36mALLSampler_Sentence\u001b[0m:\u001b[36msimulate_rounds\u001b[0m:\u001b[36m92\u001b[0m - \u001b[1msimulate round 9.\u001b[0m\n",
      "\u001b[32m2024-04-24 14:12:01.324\u001b[0m | \u001b[34m\u001b[1mDEBUG   \u001b[0m | \u001b[36mALLSampler_Sentence\u001b[0m:\u001b[36mkeep_sample\u001b[0m:\u001b[36m78\u001b[0m - \u001b[34m\u001b[1mSample according to certainties\u001b[0m\n",
      "\u001b[32m2024-04-24 14:12:01.531\u001b[0m | \u001b[1mINFO    \u001b[0m | \u001b[36mALLSampler_Sentence\u001b[0m:\u001b[36mkeep_sample\u001b[0m:\u001b[36m82\u001b[0m - \u001b[1mcurrent sampled sentences: 51790, remaining sentences: 8\u001b[0m\n",
      "\u001b[32m2024-04-24 14:12:01.563\u001b[0m | \u001b[1mINFO    \u001b[0m | \u001b[36mALLSampler_Sentence\u001b[0m:\u001b[36msimulate_rounds\u001b[0m:\u001b[36m97\u001b[0m - \u001b[1mIt's the last round, now add all docs to sampled.\u001b[0m\n",
      "\u001b[32m2024-04-24 14:12:22.647\u001b[0m | \u001b[34m\u001b[1mDEBUG   \u001b[0m | \u001b[36mCRFWrapper_Sentence\u001b[0m:\u001b[36mfit\u001b[0m:\u001b[36m284\u001b[0m - \u001b[34m\u001b[1mReset and train CRF model...\u001b[0m\n",
      "\u001b[32m2024-04-24 14:22:45.845\u001b[0m | \u001b[34m\u001b[1mDEBUG   \u001b[0m | \u001b[36mCRFWrapper_Sentence\u001b[0m:\u001b[36mfit\u001b[0m:\u001b[36m292\u001b[0m - \u001b[34m\u001b[1mTraining complete.\u001b[0m\n",
      "\u001b[32m2024-04-24 14:22:46.843\u001b[0m | \u001b[34m\u001b[1mDEBUG   \u001b[0m | \u001b[36mCRFWrapper_Sentence\u001b[0m:\u001b[36mbootstrap_eval_DFsent\u001b[0m:\u001b[36m352\u001b[0m - \u001b[34m\u001b[1mPredicting eval sents...\u001b[0m\n",
      "\u001b[32m2024-04-24 14:23:13.035\u001b[0m | \u001b[34m\u001b[1mDEBUG   \u001b[0m | \u001b[36mCRFWrapper_Sentence\u001b[0m:\u001b[36mbootstrap_eval_DFsent\u001b[0m:\u001b[36m356\u001b[0m - \u001b[34m\u001b[1mCalculate scores from bootstrapping 200 times\u001b[0m\n",
      "\u001b[32m2024-04-24 14:27:37.834\u001b[0m | \u001b[34m\u001b[1mDEBUG   \u001b[0m | \u001b[36mCRFWrapper_Sentence\u001b[0m:\u001b[36mbootstrap_eval_DFsent\u001b[0m:\u001b[36m365\u001b[0m - \u001b[34m\u001b[1mcomplete\u001b[0m\n",
      "\u001b[32m2024-04-24 14:27:37.956\u001b[0m | \u001b[34m\u001b[1mDEBUG   \u001b[0m | \u001b[36mALLSampler_Sentence\u001b[0m:\u001b[36msimulate_rounds\u001b[0m:\u001b[36m103\u001b[0m - \u001b[34m\u001b[1m{'precision': 0.9458538630055956, 'recall': 0.8595858840496089, 'f1': 0.9006565236722046}\u001b[0m\n"
     ]
    }
   ],
   "source": [
    "scores=r_simulator.simulate_rounds(boostrap_times=200) #sample sentences for 10 rounds; each round bootstrap sampling 200 for evaluation"
   ]
  },
  {
   "cell_type": "markdown",
   "id": "b1c35b3b-fbd5-4e0b-a42f-0f22a51d06e4",
   "metadata": {},
   "source": [
    "## Bootstrap 3 different initials runs"
   ]
  },
  {
   "cell_type": "code",
   "execution_count": 18,
   "id": "45ad49fc-25a3-4cb3-99d4-adf90fc869dc",
   "metadata": {},
   "outputs": [
    {
     "data": {
      "text/plain": [
       "1"
      ]
     },
     "execution_count": 18,
     "metadata": {},
     "output_type": "execute_result"
    }
   ],
   "source": [
    "boostrap_runs=3\n",
    "total_round=10\n",
    "logger.remove()\n",
    "logger.add(sys.stderr, level='INFO')"
   ]
  },
  {
   "cell_type": "code",
   "execution_count": 19,
   "id": "1ece6cfc-2bbe-464c-b52b-6f639819aac0",
   "metadata": {},
   "outputs": [
    {
     "data": {
      "text/plain": [
       "[1792286, 8843471, 4142887]"
      ]
     },
     "execution_count": 19,
     "metadata": {},
     "output_type": "execute_result"
    }
   ],
   "source": [
    "random.seed(14)\n",
    "seeds=[random.randint(1,10000000) for  _ in range(boostrap_runs)]\n",
    "seeds"
   ]
  },
  {
   "cell_type": "code",
   "execution_count": 20,
   "id": "246e8117-063b-4ff9-b4ab-92644c476286",
   "metadata": {},
   "outputs": [
    {
     "name": "stderr",
     "output_type": "stream",
     "text": [
      "\u001b[32m2024-05-03 23:07:15.669\u001b[0m | \u001b[1mINFO    \u001b[0m | \u001b[36m__main__\u001b[0m:\u001b[36m<module>\u001b[0m:\u001b[36m3\u001b[0m - \u001b[1mstart run 0.\u001b[0m\n",
      "\u001b[32m2024-05-03 23:07:15.781\u001b[0m | \u001b[1mINFO    \u001b[0m | \u001b[36mALLSampler_Sentence\u001b[0m:\u001b[36msimulate_rounds\u001b[0m:\u001b[36m92\u001b[0m - \u001b[1msimulate round 0.\u001b[0m\n",
      "\u001b[32m2024-05-03 23:07:16.160\u001b[0m | \u001b[1mINFO    \u001b[0m | \u001b[36mALLSampler_Sentence\u001b[0m:\u001b[36mkeep_sample\u001b[0m:\u001b[36m82\u001b[0m - \u001b[1mcurrent sampled sentences: 2589, remaining sentences: 49209\u001b[0m\n",
      "\u001b[32m2024-05-03 23:12:21.298\u001b[0m | \u001b[1mINFO    \u001b[0m | \u001b[36mALLSampler_Sentence\u001b[0m:\u001b[36msimulate_rounds\u001b[0m:\u001b[36m92\u001b[0m - \u001b[1msimulate round 1.\u001b[0m\n",
      "\u001b[32m2024-05-03 23:12:21.677\u001b[0m | \u001b[1mINFO    \u001b[0m | \u001b[36mALLSampler_Sentence\u001b[0m:\u001b[36mkeep_sample\u001b[0m:\u001b[36m82\u001b[0m - \u001b[1mcurrent sampled sentences: 5178, remaining sentences: 46620\u001b[0m\n",
      "\u001b[32m2024-05-03 23:17:58.302\u001b[0m | \u001b[1mINFO    \u001b[0m | \u001b[36mALLSampler_Sentence\u001b[0m:\u001b[36msimulate_rounds\u001b[0m:\u001b[36m92\u001b[0m - \u001b[1msimulate round 2.\u001b[0m\n",
      "\u001b[32m2024-05-03 23:17:58.648\u001b[0m | \u001b[1mINFO    \u001b[0m | \u001b[36mALLSampler_Sentence\u001b[0m:\u001b[36mkeep_sample\u001b[0m:\u001b[36m82\u001b[0m - \u001b[1mcurrent sampled sentences: 7767, remaining sentences: 44031\u001b[0m\n",
      "\u001b[32m2024-05-03 23:24:03.225\u001b[0m | \u001b[1mINFO    \u001b[0m | \u001b[36mALLSampler_Sentence\u001b[0m:\u001b[36msimulate_rounds\u001b[0m:\u001b[36m92\u001b[0m - \u001b[1msimulate round 3.\u001b[0m\n",
      "\u001b[32m2024-05-03 23:24:03.565\u001b[0m | \u001b[1mINFO    \u001b[0m | \u001b[36mALLSampler_Sentence\u001b[0m:\u001b[36mkeep_sample\u001b[0m:\u001b[36m82\u001b[0m - \u001b[1mcurrent sampled sentences: 10356, remaining sentences: 41442\u001b[0m\n",
      "\u001b[32m2024-05-03 23:30:39.928\u001b[0m | \u001b[1mINFO    \u001b[0m | \u001b[36mALLSampler_Sentence\u001b[0m:\u001b[36msimulate_rounds\u001b[0m:\u001b[36m92\u001b[0m - \u001b[1msimulate round 4.\u001b[0m\n",
      "\u001b[32m2024-05-03 23:30:40.256\u001b[0m | \u001b[1mINFO    \u001b[0m | \u001b[36mALLSampler_Sentence\u001b[0m:\u001b[36mkeep_sample\u001b[0m:\u001b[36m82\u001b[0m - \u001b[1mcurrent sampled sentences: 12945, remaining sentences: 38853\u001b[0m\n",
      "\u001b[32m2024-05-03 23:37:55.355\u001b[0m | \u001b[1mINFO    \u001b[0m | \u001b[36mALLSampler_Sentence\u001b[0m:\u001b[36msimulate_rounds\u001b[0m:\u001b[36m92\u001b[0m - \u001b[1msimulate round 5.\u001b[0m\n",
      "\u001b[32m2024-05-03 23:37:55.667\u001b[0m | \u001b[1mINFO    \u001b[0m | \u001b[36mALLSampler_Sentence\u001b[0m:\u001b[36mkeep_sample\u001b[0m:\u001b[36m82\u001b[0m - \u001b[1mcurrent sampled sentences: 15534, remaining sentences: 36264\u001b[0m\n",
      "\u001b[32m2024-05-03 23:45:35.166\u001b[0m | \u001b[1mINFO    \u001b[0m | \u001b[36mALLSampler_Sentence\u001b[0m:\u001b[36msimulate_rounds\u001b[0m:\u001b[36m92\u001b[0m - \u001b[1msimulate round 6.\u001b[0m\n",
      "\u001b[32m2024-05-03 23:45:35.471\u001b[0m | \u001b[1mINFO    \u001b[0m | \u001b[36mALLSampler_Sentence\u001b[0m:\u001b[36mkeep_sample\u001b[0m:\u001b[36m82\u001b[0m - \u001b[1mcurrent sampled sentences: 18123, remaining sentences: 33675\u001b[0m\n",
      "\u001b[32m2024-05-03 23:53:46.262\u001b[0m | \u001b[1mINFO    \u001b[0m | \u001b[36mALLSampler_Sentence\u001b[0m:\u001b[36msimulate_rounds\u001b[0m:\u001b[36m92\u001b[0m - \u001b[1msimulate round 7.\u001b[0m\n",
      "\u001b[32m2024-05-03 23:53:46.583\u001b[0m | \u001b[1mINFO    \u001b[0m | \u001b[36mALLSampler_Sentence\u001b[0m:\u001b[36mkeep_sample\u001b[0m:\u001b[36m82\u001b[0m - \u001b[1mcurrent sampled sentences: 20712, remaining sentences: 31086\u001b[0m\n",
      "\u001b[32m2024-05-04 00:02:31.050\u001b[0m | \u001b[1mINFO    \u001b[0m | \u001b[36mALLSampler_Sentence\u001b[0m:\u001b[36msimulate_rounds\u001b[0m:\u001b[36m92\u001b[0m - \u001b[1msimulate round 8.\u001b[0m\n",
      "\u001b[32m2024-05-04 00:02:31.339\u001b[0m | \u001b[1mINFO    \u001b[0m | \u001b[36mALLSampler_Sentence\u001b[0m:\u001b[36mkeep_sample\u001b[0m:\u001b[36m82\u001b[0m - \u001b[1mcurrent sampled sentences: 23301, remaining sentences: 28497\u001b[0m\n",
      "\u001b[32m2024-05-04 00:11:53.133\u001b[0m | \u001b[1mINFO    \u001b[0m | \u001b[36mALLSampler_Sentence\u001b[0m:\u001b[36msimulate_rounds\u001b[0m:\u001b[36m92\u001b[0m - \u001b[1msimulate round 9.\u001b[0m\n",
      "\u001b[32m2024-05-04 00:11:53.421\u001b[0m | \u001b[1mINFO    \u001b[0m | \u001b[36mALLSampler_Sentence\u001b[0m:\u001b[36mkeep_sample\u001b[0m:\u001b[36m82\u001b[0m - \u001b[1mcurrent sampled sentences: 25890, remaining sentences: 25908\u001b[0m\n",
      "\u001b[32m2024-05-04 00:11:53.454\u001b[0m | \u001b[1mINFO    \u001b[0m | \u001b[36mALLSampler_Sentence\u001b[0m:\u001b[36msimulate_rounds\u001b[0m:\u001b[36m97\u001b[0m - \u001b[1mIt's the last round, now add all docs to sampled.\u001b[0m\n",
      "\u001b[32m2024-05-04 00:28:24.325\u001b[0m | \u001b[1mINFO    \u001b[0m | \u001b[36m__main__\u001b[0m:\u001b[36m<module>\u001b[0m:\u001b[36m3\u001b[0m - \u001b[1mstart run 1.\u001b[0m\n",
      "\u001b[32m2024-05-04 00:28:24.493\u001b[0m | \u001b[1mINFO    \u001b[0m | \u001b[36mALLSampler_Sentence\u001b[0m:\u001b[36msimulate_rounds\u001b[0m:\u001b[36m92\u001b[0m - \u001b[1msimulate round 0.\u001b[0m\n",
      "\u001b[32m2024-05-04 00:28:24.969\u001b[0m | \u001b[1mINFO    \u001b[0m | \u001b[36mALLSampler_Sentence\u001b[0m:\u001b[36mkeep_sample\u001b[0m:\u001b[36m82\u001b[0m - \u001b[1mcurrent sampled sentences: 2589, remaining sentences: 49209\u001b[0m\n",
      "\u001b[32m2024-05-04 00:34:45.889\u001b[0m | \u001b[1mINFO    \u001b[0m | \u001b[36mALLSampler_Sentence\u001b[0m:\u001b[36msimulate_rounds\u001b[0m:\u001b[36m92\u001b[0m - \u001b[1msimulate round 1.\u001b[0m\n",
      "\u001b[32m2024-05-04 00:34:46.378\u001b[0m | \u001b[1mINFO    \u001b[0m | \u001b[36mALLSampler_Sentence\u001b[0m:\u001b[36mkeep_sample\u001b[0m:\u001b[36m82\u001b[0m - \u001b[1mcurrent sampled sentences: 5178, remaining sentences: 46620\u001b[0m\n",
      "\u001b[32m2024-05-04 00:41:37.991\u001b[0m | \u001b[1mINFO    \u001b[0m | \u001b[36mALLSampler_Sentence\u001b[0m:\u001b[36msimulate_rounds\u001b[0m:\u001b[36m92\u001b[0m - \u001b[1msimulate round 2.\u001b[0m\n",
      "\u001b[32m2024-05-04 00:41:38.534\u001b[0m | \u001b[1mINFO    \u001b[0m | \u001b[36mALLSampler_Sentence\u001b[0m:\u001b[36mkeep_sample\u001b[0m:\u001b[36m82\u001b[0m - \u001b[1mcurrent sampled sentences: 7767, remaining sentences: 44031\u001b[0m\n",
      "\u001b[32m2024-05-04 00:49:26.221\u001b[0m | \u001b[1mINFO    \u001b[0m | \u001b[36mALLSampler_Sentence\u001b[0m:\u001b[36msimulate_rounds\u001b[0m:\u001b[36m92\u001b[0m - \u001b[1msimulate round 3.\u001b[0m\n",
      "\u001b[32m2024-05-04 00:49:26.763\u001b[0m | \u001b[1mINFO    \u001b[0m | \u001b[36mALLSampler_Sentence\u001b[0m:\u001b[36mkeep_sample\u001b[0m:\u001b[36m82\u001b[0m - \u001b[1mcurrent sampled sentences: 10356, remaining sentences: 41442\u001b[0m\n",
      "\u001b[32m2024-05-04 00:57:51.238\u001b[0m | \u001b[1mINFO    \u001b[0m | \u001b[36mALLSampler_Sentence\u001b[0m:\u001b[36msimulate_rounds\u001b[0m:\u001b[36m92\u001b[0m - \u001b[1msimulate round 4.\u001b[0m\n",
      "\u001b[32m2024-05-04 00:57:51.651\u001b[0m | \u001b[1mINFO    \u001b[0m | \u001b[36mALLSampler_Sentence\u001b[0m:\u001b[36mkeep_sample\u001b[0m:\u001b[36m82\u001b[0m - \u001b[1mcurrent sampled sentences: 12945, remaining sentences: 38853\u001b[0m\n",
      "\u001b[32m2024-05-04 01:07:04.668\u001b[0m | \u001b[1mINFO    \u001b[0m | \u001b[36mALLSampler_Sentence\u001b[0m:\u001b[36msimulate_rounds\u001b[0m:\u001b[36m92\u001b[0m - \u001b[1msimulate round 5.\u001b[0m\n",
      "\u001b[32m2024-05-04 01:07:05.136\u001b[0m | \u001b[1mINFO    \u001b[0m | \u001b[36mALLSampler_Sentence\u001b[0m:\u001b[36mkeep_sample\u001b[0m:\u001b[36m82\u001b[0m - \u001b[1mcurrent sampled sentences: 15534, remaining sentences: 36264\u001b[0m\n",
      "\u001b[32m2024-05-04 01:16:53.035\u001b[0m | \u001b[1mINFO    \u001b[0m | \u001b[36mALLSampler_Sentence\u001b[0m:\u001b[36msimulate_rounds\u001b[0m:\u001b[36m92\u001b[0m - \u001b[1msimulate round 6.\u001b[0m\n",
      "\u001b[32m2024-05-04 01:16:53.392\u001b[0m | \u001b[1mINFO    \u001b[0m | \u001b[36mALLSampler_Sentence\u001b[0m:\u001b[36mkeep_sample\u001b[0m:\u001b[36m82\u001b[0m - \u001b[1mcurrent sampled sentences: 18123, remaining sentences: 33675\u001b[0m\n",
      "\u001b[32m2024-05-04 01:26:36.294\u001b[0m | \u001b[1mINFO    \u001b[0m | \u001b[36mALLSampler_Sentence\u001b[0m:\u001b[36msimulate_rounds\u001b[0m:\u001b[36m92\u001b[0m - \u001b[1msimulate round 7.\u001b[0m\n",
      "\u001b[32m2024-05-04 01:26:36.645\u001b[0m | \u001b[1mINFO    \u001b[0m | \u001b[36mALLSampler_Sentence\u001b[0m:\u001b[36mkeep_sample\u001b[0m:\u001b[36m82\u001b[0m - \u001b[1mcurrent sampled sentences: 20712, remaining sentences: 31086\u001b[0m\n",
      "\u001b[32m2024-05-04 01:37:35.661\u001b[0m | \u001b[1mINFO    \u001b[0m | \u001b[36mALLSampler_Sentence\u001b[0m:\u001b[36msimulate_rounds\u001b[0m:\u001b[36m92\u001b[0m - \u001b[1msimulate round 8.\u001b[0m\n",
      "\u001b[32m2024-05-04 01:37:36.097\u001b[0m | \u001b[1mINFO    \u001b[0m | \u001b[36mALLSampler_Sentence\u001b[0m:\u001b[36mkeep_sample\u001b[0m:\u001b[36m82\u001b[0m - \u001b[1mcurrent sampled sentences: 23301, remaining sentences: 28497\u001b[0m\n",
      "\u001b[32m2024-05-04 01:48:55.846\u001b[0m | \u001b[1mINFO    \u001b[0m | \u001b[36mALLSampler_Sentence\u001b[0m:\u001b[36msimulate_rounds\u001b[0m:\u001b[36m92\u001b[0m - \u001b[1msimulate round 9.\u001b[0m\n",
      "\u001b[32m2024-05-04 01:48:56.186\u001b[0m | \u001b[1mINFO    \u001b[0m | \u001b[36mALLSampler_Sentence\u001b[0m:\u001b[36mkeep_sample\u001b[0m:\u001b[36m82\u001b[0m - \u001b[1mcurrent sampled sentences: 25890, remaining sentences: 25908\u001b[0m\n",
      "\u001b[32m2024-05-04 01:48:56.221\u001b[0m | \u001b[1mINFO    \u001b[0m | \u001b[36mALLSampler_Sentence\u001b[0m:\u001b[36msimulate_rounds\u001b[0m:\u001b[36m97\u001b[0m - \u001b[1mIt's the last round, now add all docs to sampled.\u001b[0m\n",
      "\u001b[32m2024-05-04 02:06:58.965\u001b[0m | \u001b[1mINFO    \u001b[0m | \u001b[36m__main__\u001b[0m:\u001b[36m<module>\u001b[0m:\u001b[36m3\u001b[0m - \u001b[1mstart run 2.\u001b[0m\n",
      "\u001b[32m2024-05-04 02:06:59.114\u001b[0m | \u001b[1mINFO    \u001b[0m | \u001b[36mALLSampler_Sentence\u001b[0m:\u001b[36msimulate_rounds\u001b[0m:\u001b[36m92\u001b[0m - \u001b[1msimulate round 0.\u001b[0m\n",
      "\u001b[32m2024-05-04 02:06:59.565\u001b[0m | \u001b[1mINFO    \u001b[0m | \u001b[36mALLSampler_Sentence\u001b[0m:\u001b[36mkeep_sample\u001b[0m:\u001b[36m82\u001b[0m - \u001b[1mcurrent sampled sentences: 2589, remaining sentences: 49209\u001b[0m\n",
      "\u001b[32m2024-05-04 02:12:58.354\u001b[0m | \u001b[1mINFO    \u001b[0m | \u001b[36mALLSampler_Sentence\u001b[0m:\u001b[36msimulate_rounds\u001b[0m:\u001b[36m92\u001b[0m - \u001b[1msimulate round 1.\u001b[0m\n",
      "\u001b[32m2024-05-04 02:12:58.812\u001b[0m | \u001b[1mINFO    \u001b[0m | \u001b[36mALLSampler_Sentence\u001b[0m:\u001b[36mkeep_sample\u001b[0m:\u001b[36m82\u001b[0m - \u001b[1mcurrent sampled sentences: 5178, remaining sentences: 46620\u001b[0m\n",
      "\u001b[32m2024-05-04 02:19:21.270\u001b[0m | \u001b[1mINFO    \u001b[0m | \u001b[36mALLSampler_Sentence\u001b[0m:\u001b[36msimulate_rounds\u001b[0m:\u001b[36m92\u001b[0m - \u001b[1msimulate round 2.\u001b[0m\n",
      "\u001b[32m2024-05-04 02:19:21.669\u001b[0m | \u001b[1mINFO    \u001b[0m | \u001b[36mALLSampler_Sentence\u001b[0m:\u001b[36mkeep_sample\u001b[0m:\u001b[36m82\u001b[0m - \u001b[1mcurrent sampled sentences: 7767, remaining sentences: 44031\u001b[0m\n",
      "\u001b[32m2024-05-04 02:26:20.518\u001b[0m | \u001b[1mINFO    \u001b[0m | \u001b[36mALLSampler_Sentence\u001b[0m:\u001b[36msimulate_rounds\u001b[0m:\u001b[36m92\u001b[0m - \u001b[1msimulate round 3.\u001b[0m\n",
      "\u001b[32m2024-05-04 02:26:20.939\u001b[0m | \u001b[1mINFO    \u001b[0m | \u001b[36mALLSampler_Sentence\u001b[0m:\u001b[36mkeep_sample\u001b[0m:\u001b[36m82\u001b[0m - \u001b[1mcurrent sampled sentences: 10356, remaining sentences: 41442\u001b[0m\n",
      "\u001b[32m2024-05-04 02:33:52.508\u001b[0m | \u001b[1mINFO    \u001b[0m | \u001b[36mALLSampler_Sentence\u001b[0m:\u001b[36msimulate_rounds\u001b[0m:\u001b[36m92\u001b[0m - \u001b[1msimulate round 4.\u001b[0m\n",
      "\u001b[32m2024-05-04 02:33:52.883\u001b[0m | \u001b[1mINFO    \u001b[0m | \u001b[36mALLSampler_Sentence\u001b[0m:\u001b[36mkeep_sample\u001b[0m:\u001b[36m82\u001b[0m - \u001b[1mcurrent sampled sentences: 12945, remaining sentences: 38853\u001b[0m\n",
      "\u001b[32m2024-05-04 02:42:08.493\u001b[0m | \u001b[1mINFO    \u001b[0m | \u001b[36mALLSampler_Sentence\u001b[0m:\u001b[36msimulate_rounds\u001b[0m:\u001b[36m92\u001b[0m - \u001b[1msimulate round 5.\u001b[0m\n",
      "\u001b[32m2024-05-04 02:42:08.935\u001b[0m | \u001b[1mINFO    \u001b[0m | \u001b[36mALLSampler_Sentence\u001b[0m:\u001b[36mkeep_sample\u001b[0m:\u001b[36m82\u001b[0m - \u001b[1mcurrent sampled sentences: 15534, remaining sentences: 36264\u001b[0m\n",
      "\u001b[32m2024-05-04 02:51:46.774\u001b[0m | \u001b[1mINFO    \u001b[0m | \u001b[36mALLSampler_Sentence\u001b[0m:\u001b[36msimulate_rounds\u001b[0m:\u001b[36m92\u001b[0m - \u001b[1msimulate round 6.\u001b[0m\n",
      "\u001b[32m2024-05-04 02:51:47.230\u001b[0m | \u001b[1mINFO    \u001b[0m | \u001b[36mALLSampler_Sentence\u001b[0m:\u001b[36mkeep_sample\u001b[0m:\u001b[36m82\u001b[0m - \u001b[1mcurrent sampled sentences: 18123, remaining sentences: 33675\u001b[0m\n",
      "\u001b[32m2024-05-04 03:02:23.219\u001b[0m | \u001b[1mINFO    \u001b[0m | \u001b[36mALLSampler_Sentence\u001b[0m:\u001b[36msimulate_rounds\u001b[0m:\u001b[36m92\u001b[0m - \u001b[1msimulate round 7.\u001b[0m\n",
      "\u001b[32m2024-05-04 03:02:23.615\u001b[0m | \u001b[1mINFO    \u001b[0m | \u001b[36mALLSampler_Sentence\u001b[0m:\u001b[36mkeep_sample\u001b[0m:\u001b[36m82\u001b[0m - \u001b[1mcurrent sampled sentences: 20712, remaining sentences: 31086\u001b[0m\n",
      "\u001b[32m2024-05-04 03:13:26.592\u001b[0m | \u001b[1mINFO    \u001b[0m | \u001b[36mALLSampler_Sentence\u001b[0m:\u001b[36msimulate_rounds\u001b[0m:\u001b[36m92\u001b[0m - \u001b[1msimulate round 8.\u001b[0m\n",
      "\u001b[32m2024-05-04 03:13:27.002\u001b[0m | \u001b[1mINFO    \u001b[0m | \u001b[36mALLSampler_Sentence\u001b[0m:\u001b[36mkeep_sample\u001b[0m:\u001b[36m82\u001b[0m - \u001b[1mcurrent sampled sentences: 23301, remaining sentences: 28497\u001b[0m\n",
      "\u001b[32m2024-05-04 03:25:03.272\u001b[0m | \u001b[1mINFO    \u001b[0m | \u001b[36mALLSampler_Sentence\u001b[0m:\u001b[36msimulate_rounds\u001b[0m:\u001b[36m92\u001b[0m - \u001b[1msimulate round 9.\u001b[0m\n",
      "\u001b[32m2024-05-04 03:25:03.635\u001b[0m | \u001b[1mINFO    \u001b[0m | \u001b[36mALLSampler_Sentence\u001b[0m:\u001b[36mkeep_sample\u001b[0m:\u001b[36m82\u001b[0m - \u001b[1mcurrent sampled sentences: 25890, remaining sentences: 25908\u001b[0m\n",
      "\u001b[32m2024-05-04 03:25:03.673\u001b[0m | \u001b[1mINFO    \u001b[0m | \u001b[36mALLSampler_Sentence\u001b[0m:\u001b[36msimulate_rounds\u001b[0m:\u001b[36m97\u001b[0m - \u001b[1mIt's the last round, now add all docs to sampled.\u001b[0m\n"
     ]
    }
   ],
   "source": [
    "all_scores=[]\n",
    "for si, seed  in enumerate(seeds):\n",
    "    logger.info(f'start run {si}.')\n",
    "    crf_model=CRFModel(anno_types=annos)\n",
    "    r_simulator=RandomSamplingSimulator(total_sents=train_df, \n",
    "                                    total_round=10, \n",
    "                                    modelWrapper=crf_model, \n",
    "                                    eval_sents=test_df, \n",
    "                                    init_seed=seed)  \n",
    "    scores=r_simulator.simulate_rounds()\n",
    "    all_scores.append(scores) "
   ]
  },
  {
   "cell_type": "code",
   "execution_count": 22,
   "id": "ca3d19f6-2e2a-4729-b22d-cfac1af41168",
   "metadata": {},
   "outputs": [
    {
     "data": {
      "text/plain": [
       "['../data/n2c2/scores_sentence_sampling/ner_random_scores_sentenceSampling.joblib']"
      ]
     },
     "execution_count": 22,
     "metadata": {},
     "output_type": "execute_result"
    }
   ],
   "source": [
    "joblib.dump(all_scores, r'../data/n2c2/scores_sentence_sampling/ner_random_scores_sentenceSampling.joblib')\n"
   ]
  },
  {
   "cell_type": "code",
   "execution_count": null,
   "id": "16de5581-26b3-44c2-90b6-8e9b4306de5e",
   "metadata": {},
   "outputs": [],
   "source": []
  }
 ],
 "metadata": {
  "kernelspec": {
   "display_name": "Python 3 (ipykernel)",
   "language": "python",
   "name": "python3"
  },
  "language_info": {
   "codemirror_mode": {
    "name": "ipython",
    "version": 3
   },
   "file_extension": ".py",
   "mimetype": "text/x-python",
   "name": "python",
   "nbconvert_exporter": "python",
   "pygments_lexer": "ipython3",
   "version": "3.8.18"
  }
 },
 "nbformat": 4,
 "nbformat_minor": 5
}
