{
 "cells": [
  {
   "cell_type": "markdown",
   "id": "6024f606-7aa7-4f43-bc5b-4941a2686579",
   "metadata": {},
   "source": [
    "# Import "
   ]
  },
  {
   "cell_type": "code",
   "execution_count": 1,
   "id": "07dade98-d203-4c37-9201-094d4fa9684c",
   "metadata": {},
   "outputs": [],
   "source": [
    "import sklearn_crfsuite\n",
    "from sklearn_crfsuite.metrics import flat_f1_score\n",
    "from sklearn_crfsuite import CRF\n",
    "from sklearn.model_selection import train_test_split\n",
    "import pandas as pd\n",
    "import numpy as np\n",
    "from spacy.lang.en import English\n",
    "from spacy import displacy\n",
    "from pathlib import Path\n",
    "import joblib\n",
    "from spacy.tokens import Doc\n",
    "from typing import List\n",
    "import random\n",
    "from statistics import mean, stdev\n",
    "from loguru import logger\n",
    "import sys\n",
    "import spacy"
   ]
  },
  {
   "cell_type": "code",
   "execution_count": 2,
   "id": "456d2db0-ae32-41e5-822b-b79feff89fad",
   "metadata": {},
   "outputs": [],
   "source": [
    "from medspacy_io.reader.brat_reader import BratDocReader, BratDirReader\n",
    "import medspacy"
   ]
  },
  {
   "cell_type": "markdown",
   "id": "b3074734-1e2a-4093-9e17-393710ab8ef9",
   "metadata": {},
   "source": [
    "## Initiate BratDirReader"
   ]
  },
  {
   "cell_type": "code",
   "execution_count": 3,
   "id": "fb94b875-5b8d-4d0f-9101-e9cd5e27f253",
   "metadata": {},
   "outputs": [
    {
     "data": {
      "text/plain": [
       "(True, True)"
      ]
     },
     "execution_count": 3,
     "metadata": {},
     "output_type": "execute_result"
    }
   ],
   "source": [
    "cleaned_train_dir=r'..\\data\\n2c2\\cleaned_training'\n",
    "cleaned_test_dir=r'..\\data\\n2c2\\cleaned_test'\n",
    "Path(cleaned_train_dir).exists(), Path(cleaned_test_dir).exists()"
   ]
  },
  {
   "cell_type": "code",
   "execution_count": 4,
   "id": "2ead595b-6b3f-4164-a45a-a2824c58def4",
   "metadata": {},
   "outputs": [],
   "source": [
    "nlp=spacy.load('en_core_web_sm', disable=['ner'])"
   ]
  },
  {
   "cell_type": "code",
   "execution_count": 5,
   "id": "bd04508a-15e5-4c5d-b191-509ae92865ae",
   "metadata": {},
   "outputs": [],
   "source": [
    "dir_reader = BratDirReader(nlp=nlp, schema_file=str(Path(cleaned_train_dir, 'annotation.conf')), support_overlap=True)"
   ]
  },
  {
   "cell_type": "markdown",
   "id": "94341b2a-fd10-4fb9-98f5-8169b259a21a",
   "metadata": {},
   "source": [
    "## Read eHOST annotations | load from pickles"
   ]
  },
  {
   "cell_type": "code",
   "execution_count": 6,
   "id": "59de7b8c-52c2-43fb-9cce-392d8dd4de8c",
   "metadata": {},
   "outputs": [],
   "source": [
    "pickle_file= r'..\\data\\n2c2\\spacy_docs.joblib'"
   ]
  },
  {
   "cell_type": "code",
   "execution_count": 7,
   "id": "762f6665-6fe5-4bc2-81dc-2dfff06abd71",
   "metadata": {},
   "outputs": [
    {
     "name": "stdout",
     "output_type": "stream",
     "text": [
      "..\\data\\n2c2\\spacy_docs.joblib already exists, load them directly\n"
     ]
    }
   ],
   "source": [
    "if not Path(pickle_file).exists():\n",
    "    train_docs=dir_reader.read(txt_dir=cleaned_train_dir)\n",
    "    test_docs=dir_reader.read(txt_dir=cleaned_test_dir)\n",
    "    print(len(train_docs), len(test_docs))\n",
    "    joblib.dump((train_docs, test_docs), pickle_file)\n",
    "else:\n",
    "    print(f'{pickle_file} already exists, load them directly')\n",
    "    # before load from pickle, initiate EhostDirReader or EhostDocReader first, because some Doc extension used to store meta data will not be automatically recreated by loading.\n",
    "    train_docs, test_docs=joblib.load(pickle_file)"
   ]
  },
  {
   "cell_type": "markdown",
   "id": "bba0f1e6-1515-4db9-af90-2b37f69bdd64",
   "metadata": {},
   "source": [
    "# Define sampling functions"
   ]
  },
  {
   "cell_type": "code",
   "execution_count": 8,
   "id": "9aedf902-836b-442b-89a4-5962d8d1495f",
   "metadata": {},
   "outputs": [],
   "source": [
    "rounds =10\n",
    "seed= 14"
   ]
  },
  {
   "cell_type": "code",
   "execution_count": 9,
   "id": "01b9ce81-2d67-4b15-bca0-87af84c1dfd0",
   "metadata": {},
   "outputs": [
    {
     "data": {
      "text/plain": [
       "(303, 202)"
      ]
     },
     "execution_count": 9,
     "metadata": {},
     "output_type": "execute_result"
    }
   ],
   "source": [
    "len(train_docs), len(test_docs)"
   ]
  },
  {
   "cell_type": "markdown",
   "id": "9d89180d-7331-4737-bfd7-626b66eae5f8",
   "metadata": {},
   "source": [
    "### Define CRF Wrapper"
   ]
  },
  {
   "cell_type": "code",
   "execution_count": 10,
   "id": "e8e5443c-44d1-449e-a150-f57b432b04fd",
   "metadata": {},
   "outputs": [],
   "source": [
    "from CRFWrapper import spans_to_bio, convert_docs, word2features, sent2features,compute_metrics_and_averages,  CRFModel\n",
    "from ALSampler import SamplingSimulator, ModelSamplingSimulator, RandomSamplingSimulator"
   ]
  },
  {
   "cell_type": "code",
   "execution_count": 11,
   "id": "64c66e94-fc84-4943-bc6c-fc584406f46c",
   "metadata": {},
   "outputs": [
    {
     "name": "stdout",
     "output_type": "stream",
     "text": [
      "{'Route', 'Duration', 'ADE', 'Frequency', 'Drug', 'Form', 'Strength', 'Reason', 'Dosage'}\n"
     ]
    }
   ],
   "source": [
    "## Get all annotation types: \n",
    "annos=set()\n",
    "for d in train_docs:\n",
    "    for anno in d.spans.keys():\n",
    "        annos.add(anno)\n",
    "print(annos)"
   ]
  },
  {
   "cell_type": "code",
   "execution_count": 12,
   "id": "f25910bf-2fc9-411b-9dc0-33f0d3997fef",
   "metadata": {},
   "outputs": [],
   "source": [
    "crf_model=CRFModel(anno_types=annos)\n",
    "r_simulator=RandomSamplingSimulator(train_docs, total_round=10, modelWrapper=crf_model, eval_docs=test_docs, init_seed=seed)"
   ]
  },
  {
   "cell_type": "code",
   "execution_count": 13,
   "id": "b4bbf19a-e592-4853-a61a-160f7f19db49",
   "metadata": {
    "scrolled": true
   },
   "outputs": [
    {
     "name": "stderr",
     "output_type": "stream",
     "text": [
      "\u001b[32m2024-05-20 15:07:43.338\u001b[0m | \u001b[1mINFO    \u001b[0m | \u001b[36mALSampler\u001b[0m:\u001b[36msimulate_rounds\u001b[0m:\u001b[36m53\u001b[0m - \u001b[1msimulate round 0.\u001b[0m\n",
      "\u001b[32m2024-05-20 15:07:43.339\u001b[0m | \u001b[34m\u001b[1mDEBUG   \u001b[0m | \u001b[36mALSampler\u001b[0m:\u001b[36mkeep_sample\u001b[0m:\u001b[36m39\u001b[0m - \u001b[34m\u001b[1mThe first round sampling will be random\u001b[0m\n",
      "\u001b[32m2024-05-20 15:07:43.341\u001b[0m | \u001b[1mINFO    \u001b[0m | \u001b[36mALSampler\u001b[0m:\u001b[36mkeep_sample\u001b[0m:\u001b[36m43\u001b[0m - \u001b[1mcurrent sampled: 30, remaining: 273\u001b[0m\n",
      "\u001b[32m2024-05-20 15:07:47.028\u001b[0m | \u001b[34m\u001b[1mDEBUG   \u001b[0m | \u001b[36mCRFWrapper\u001b[0m:\u001b[36mfit\u001b[0m:\u001b[36m266\u001b[0m - \u001b[34m\u001b[1mReset and train CRF model...\u001b[0m\n",
      "\u001b[32m2024-05-20 15:08:43.217\u001b[0m | \u001b[34m\u001b[1mDEBUG   \u001b[0m | \u001b[36mCRFWrapper\u001b[0m:\u001b[36mfit\u001b[0m:\u001b[36m274\u001b[0m - \u001b[34m\u001b[1mTraining complete.\u001b[0m\n",
      "\u001b[32m2024-05-20 15:08:43.312\u001b[0m | \u001b[34m\u001b[1mDEBUG   \u001b[0m | \u001b[36mCRFWrapper\u001b[0m:\u001b[36mbootstrap_eval\u001b[0m:\u001b[36m299\u001b[0m - \u001b[34m\u001b[1mPredicting eval docs...\u001b[0m\n",
      "\u001b[32m2024-05-20 15:09:20.092\u001b[0m | \u001b[34m\u001b[1mDEBUG   \u001b[0m | \u001b[36mCRFWrapper\u001b[0m:\u001b[36mbootstrap_eval\u001b[0m:\u001b[36m303\u001b[0m - \u001b[34m\u001b[1mCalculate scores from bootstrapping 200 times\u001b[0m\n",
      "\u001b[32m2024-05-20 15:13:42.822\u001b[0m | \u001b[34m\u001b[1mDEBUG   \u001b[0m | \u001b[36mCRFWrapper\u001b[0m:\u001b[36mbootstrap_eval\u001b[0m:\u001b[36m313\u001b[0m - \u001b[34m\u001b[1mcomplete\u001b[0m\n",
      "\u001b[32m2024-05-20 15:13:42.968\u001b[0m | \u001b[34m\u001b[1mDEBUG   \u001b[0m | \u001b[36mALSampler\u001b[0m:\u001b[36msimulate_rounds\u001b[0m:\u001b[36m64\u001b[0m - \u001b[34m\u001b[1m{'precision': 0.9436780861622498, 'recall': 0.7790147749120776, 'f1': 0.8534724728682227}\u001b[0m\n",
      "\u001b[32m2024-05-20 15:13:42.970\u001b[0m | \u001b[1mINFO    \u001b[0m | \u001b[36mALSampler\u001b[0m:\u001b[36msimulate_rounds\u001b[0m:\u001b[36m53\u001b[0m - \u001b[1msimulate round 1.\u001b[0m\n",
      "\u001b[32m2024-05-20 15:13:42.971\u001b[0m | \u001b[1mINFO    \u001b[0m | \u001b[36mALSampler\u001b[0m:\u001b[36mkeep_sample\u001b[0m:\u001b[36m43\u001b[0m - \u001b[1mcurrent sampled: 60, remaining: 243\u001b[0m\n",
      "\u001b[32m2024-05-20 15:13:49.659\u001b[0m | \u001b[34m\u001b[1mDEBUG   \u001b[0m | \u001b[36mCRFWrapper\u001b[0m:\u001b[36mfit\u001b[0m:\u001b[36m266\u001b[0m - \u001b[34m\u001b[1mReset and train CRF model...\u001b[0m\n",
      "\u001b[32m2024-05-20 15:15:41.948\u001b[0m | \u001b[34m\u001b[1mDEBUG   \u001b[0m | \u001b[36mCRFWrapper\u001b[0m:\u001b[36mfit\u001b[0m:\u001b[36m274\u001b[0m - \u001b[34m\u001b[1mTraining complete.\u001b[0m\n",
      "\u001b[32m2024-05-20 15:15:42.118\u001b[0m | \u001b[34m\u001b[1mDEBUG   \u001b[0m | \u001b[36mCRFWrapper\u001b[0m:\u001b[36mbootstrap_eval\u001b[0m:\u001b[36m299\u001b[0m - \u001b[34m\u001b[1mPredicting eval docs...\u001b[0m\n",
      "\u001b[32m2024-05-20 15:16:18.816\u001b[0m | \u001b[34m\u001b[1mDEBUG   \u001b[0m | \u001b[36mCRFWrapper\u001b[0m:\u001b[36mbootstrap_eval\u001b[0m:\u001b[36m303\u001b[0m - \u001b[34m\u001b[1mCalculate scores from bootstrapping 200 times\u001b[0m\n",
      "\u001b[32m2024-05-20 15:20:36.513\u001b[0m | \u001b[34m\u001b[1mDEBUG   \u001b[0m | \u001b[36mCRFWrapper\u001b[0m:\u001b[36mbootstrap_eval\u001b[0m:\u001b[36m313\u001b[0m - \u001b[34m\u001b[1mcomplete\u001b[0m\n",
      "\u001b[32m2024-05-20 15:20:36.642\u001b[0m | \u001b[34m\u001b[1mDEBUG   \u001b[0m | \u001b[36mALSampler\u001b[0m:\u001b[36msimulate_rounds\u001b[0m:\u001b[36m64\u001b[0m - \u001b[34m\u001b[1m{'precision': 0.9433849836001384, 'recall': 0.8087856574468845, 'f1': 0.8709122971140314}\u001b[0m\n",
      "\u001b[32m2024-05-20 15:20:36.644\u001b[0m | \u001b[1mINFO    \u001b[0m | \u001b[36mALSampler\u001b[0m:\u001b[36msimulate_rounds\u001b[0m:\u001b[36m53\u001b[0m - \u001b[1msimulate round 2.\u001b[0m\n",
      "\u001b[32m2024-05-20 15:20:36.645\u001b[0m | \u001b[1mINFO    \u001b[0m | \u001b[36mALSampler\u001b[0m:\u001b[36mkeep_sample\u001b[0m:\u001b[36m43\u001b[0m - \u001b[1mcurrent sampled: 90, remaining: 213\u001b[0m\n",
      "\u001b[32m2024-05-20 15:20:47.005\u001b[0m | \u001b[34m\u001b[1mDEBUG   \u001b[0m | \u001b[36mCRFWrapper\u001b[0m:\u001b[36mfit\u001b[0m:\u001b[36m266\u001b[0m - \u001b[34m\u001b[1mReset and train CRF model...\u001b[0m\n",
      "\u001b[32m2024-05-20 15:23:36.055\u001b[0m | \u001b[34m\u001b[1mDEBUG   \u001b[0m | \u001b[36mCRFWrapper\u001b[0m:\u001b[36mfit\u001b[0m:\u001b[36m274\u001b[0m - \u001b[34m\u001b[1mTraining complete.\u001b[0m\n",
      "\u001b[32m2024-05-20 15:23:36.317\u001b[0m | \u001b[34m\u001b[1mDEBUG   \u001b[0m | \u001b[36mCRFWrapper\u001b[0m:\u001b[36mbootstrap_eval\u001b[0m:\u001b[36m299\u001b[0m - \u001b[34m\u001b[1mPredicting eval docs...\u001b[0m\n",
      "\u001b[32m2024-05-20 15:24:12.695\u001b[0m | \u001b[34m\u001b[1mDEBUG   \u001b[0m | \u001b[36mCRFWrapper\u001b[0m:\u001b[36mbootstrap_eval\u001b[0m:\u001b[36m303\u001b[0m - \u001b[34m\u001b[1mCalculate scores from bootstrapping 200 times\u001b[0m\n",
      "\u001b[32m2024-05-20 15:28:29.295\u001b[0m | \u001b[34m\u001b[1mDEBUG   \u001b[0m | \u001b[36mCRFWrapper\u001b[0m:\u001b[36mbootstrap_eval\u001b[0m:\u001b[36m313\u001b[0m - \u001b[34m\u001b[1mcomplete\u001b[0m\n",
      "\u001b[32m2024-05-20 15:28:29.421\u001b[0m | \u001b[34m\u001b[1mDEBUG   \u001b[0m | \u001b[36mALSampler\u001b[0m:\u001b[36msimulate_rounds\u001b[0m:\u001b[36m64\u001b[0m - \u001b[34m\u001b[1m{'precision': 0.9430991147127492, 'recall': 0.8246020261797612, 'f1': 0.8798760927947145}\u001b[0m\n",
      "\u001b[32m2024-05-20 15:28:29.423\u001b[0m | \u001b[1mINFO    \u001b[0m | \u001b[36mALSampler\u001b[0m:\u001b[36msimulate_rounds\u001b[0m:\u001b[36m53\u001b[0m - \u001b[1msimulate round 3.\u001b[0m\n",
      "\u001b[32m2024-05-20 15:28:29.425\u001b[0m | \u001b[1mINFO    \u001b[0m | \u001b[36mALSampler\u001b[0m:\u001b[36mkeep_sample\u001b[0m:\u001b[36m43\u001b[0m - \u001b[1mcurrent sampled: 120, remaining: 183\u001b[0m\n",
      "\u001b[32m2024-05-20 15:28:43.609\u001b[0m | \u001b[34m\u001b[1mDEBUG   \u001b[0m | \u001b[36mCRFWrapper\u001b[0m:\u001b[36mfit\u001b[0m:\u001b[36m266\u001b[0m - \u001b[34m\u001b[1mReset and train CRF model...\u001b[0m\n",
      "\u001b[32m2024-05-20 15:32:39.234\u001b[0m | \u001b[34m\u001b[1mDEBUG   \u001b[0m | \u001b[36mCRFWrapper\u001b[0m:\u001b[36mfit\u001b[0m:\u001b[36m274\u001b[0m - \u001b[34m\u001b[1mTraining complete.\u001b[0m\n",
      "\u001b[32m2024-05-20 15:32:39.617\u001b[0m | \u001b[34m\u001b[1mDEBUG   \u001b[0m | \u001b[36mCRFWrapper\u001b[0m:\u001b[36mbootstrap_eval\u001b[0m:\u001b[36m299\u001b[0m - \u001b[34m\u001b[1mPredicting eval docs...\u001b[0m\n",
      "\u001b[32m2024-05-20 15:33:16.251\u001b[0m | \u001b[34m\u001b[1mDEBUG   \u001b[0m | \u001b[36mCRFWrapper\u001b[0m:\u001b[36mbootstrap_eval\u001b[0m:\u001b[36m303\u001b[0m - \u001b[34m\u001b[1mCalculate scores from bootstrapping 200 times\u001b[0m\n",
      "\u001b[32m2024-05-20 15:37:28.825\u001b[0m | \u001b[34m\u001b[1mDEBUG   \u001b[0m | \u001b[36mCRFWrapper\u001b[0m:\u001b[36mbootstrap_eval\u001b[0m:\u001b[36m313\u001b[0m - \u001b[34m\u001b[1mcomplete\u001b[0m\n",
      "\u001b[32m2024-05-20 15:37:28.959\u001b[0m | \u001b[34m\u001b[1mDEBUG   \u001b[0m | \u001b[36mALSampler\u001b[0m:\u001b[36msimulate_rounds\u001b[0m:\u001b[36m64\u001b[0m - \u001b[34m\u001b[1m{'precision': 0.9434091548744326, 'recall': 0.8333670079627461, 'f1': 0.8849778225162097}\u001b[0m\n",
      "\u001b[32m2024-05-20 15:37:28.961\u001b[0m | \u001b[1mINFO    \u001b[0m | \u001b[36mALSampler\u001b[0m:\u001b[36msimulate_rounds\u001b[0m:\u001b[36m53\u001b[0m - \u001b[1msimulate round 4.\u001b[0m\n",
      "\u001b[32m2024-05-20 15:37:28.962\u001b[0m | \u001b[1mINFO    \u001b[0m | \u001b[36mALSampler\u001b[0m:\u001b[36mkeep_sample\u001b[0m:\u001b[36m43\u001b[0m - \u001b[1mcurrent sampled: 150, remaining: 153\u001b[0m\n",
      "\u001b[32m2024-05-20 15:37:48.509\u001b[0m | \u001b[34m\u001b[1mDEBUG   \u001b[0m | \u001b[36mCRFWrapper\u001b[0m:\u001b[36mfit\u001b[0m:\u001b[36m266\u001b[0m - \u001b[34m\u001b[1mReset and train CRF model...\u001b[0m\n",
      "\u001b[32m2024-05-20 15:42:46.943\u001b[0m | \u001b[34m\u001b[1mDEBUG   \u001b[0m | \u001b[36mCRFWrapper\u001b[0m:\u001b[36mfit\u001b[0m:\u001b[36m274\u001b[0m - \u001b[34m\u001b[1mTraining complete.\u001b[0m\n",
      "\u001b[32m2024-05-20 15:42:47.445\u001b[0m | \u001b[34m\u001b[1mDEBUG   \u001b[0m | \u001b[36mCRFWrapper\u001b[0m:\u001b[36mbootstrap_eval\u001b[0m:\u001b[36m299\u001b[0m - \u001b[34m\u001b[1mPredicting eval docs...\u001b[0m\n",
      "\u001b[32m2024-05-20 15:43:23.226\u001b[0m | \u001b[34m\u001b[1mDEBUG   \u001b[0m | \u001b[36mCRFWrapper\u001b[0m:\u001b[36mbootstrap_eval\u001b[0m:\u001b[36m303\u001b[0m - \u001b[34m\u001b[1mCalculate scores from bootstrapping 200 times\u001b[0m\n",
      "\u001b[32m2024-05-20 15:47:38.071\u001b[0m | \u001b[34m\u001b[1mDEBUG   \u001b[0m | \u001b[36mCRFWrapper\u001b[0m:\u001b[36mbootstrap_eval\u001b[0m:\u001b[36m313\u001b[0m - \u001b[34m\u001b[1mcomplete\u001b[0m\n",
      "\u001b[32m2024-05-20 15:47:38.199\u001b[0m | \u001b[34m\u001b[1mDEBUG   \u001b[0m | \u001b[36mALSampler\u001b[0m:\u001b[36msimulate_rounds\u001b[0m:\u001b[36m64\u001b[0m - \u001b[34m\u001b[1m{'precision': 0.9435322508241859, 'recall': 0.842699556956046, 'f1': 0.8902677069890191}\u001b[0m\n",
      "\u001b[32m2024-05-20 15:47:38.201\u001b[0m | \u001b[1mINFO    \u001b[0m | \u001b[36mALSampler\u001b[0m:\u001b[36msimulate_rounds\u001b[0m:\u001b[36m53\u001b[0m - \u001b[1msimulate round 5.\u001b[0m\n",
      "\u001b[32m2024-05-20 15:47:38.202\u001b[0m | \u001b[1mINFO    \u001b[0m | \u001b[36mALSampler\u001b[0m:\u001b[36mkeep_sample\u001b[0m:\u001b[36m43\u001b[0m - \u001b[1mcurrent sampled: 180, remaining: 123\u001b[0m\n",
      "\u001b[32m2024-05-20 15:48:00.348\u001b[0m | \u001b[34m\u001b[1mDEBUG   \u001b[0m | \u001b[36mCRFWrapper\u001b[0m:\u001b[36mfit\u001b[0m:\u001b[36m266\u001b[0m - \u001b[34m\u001b[1mReset and train CRF model...\u001b[0m\n",
      "\u001b[32m2024-05-20 15:54:03.454\u001b[0m | \u001b[34m\u001b[1mDEBUG   \u001b[0m | \u001b[36mCRFWrapper\u001b[0m:\u001b[36mfit\u001b[0m:\u001b[36m274\u001b[0m - \u001b[34m\u001b[1mTraining complete.\u001b[0m\n",
      "\u001b[32m2024-05-20 15:54:04.094\u001b[0m | \u001b[34m\u001b[1mDEBUG   \u001b[0m | \u001b[36mCRFWrapper\u001b[0m:\u001b[36mbootstrap_eval\u001b[0m:\u001b[36m299\u001b[0m - \u001b[34m\u001b[1mPredicting eval docs...\u001b[0m\n",
      "\u001b[32m2024-05-20 15:54:40.995\u001b[0m | \u001b[34m\u001b[1mDEBUG   \u001b[0m | \u001b[36mCRFWrapper\u001b[0m:\u001b[36mbootstrap_eval\u001b[0m:\u001b[36m303\u001b[0m - \u001b[34m\u001b[1mCalculate scores from bootstrapping 200 times\u001b[0m\n",
      "\u001b[32m2024-05-20 15:58:54.407\u001b[0m | \u001b[34m\u001b[1mDEBUG   \u001b[0m | \u001b[36mCRFWrapper\u001b[0m:\u001b[36mbootstrap_eval\u001b[0m:\u001b[36m313\u001b[0m - \u001b[34m\u001b[1mcomplete\u001b[0m\n",
      "\u001b[32m2024-05-20 15:58:54.530\u001b[0m | \u001b[34m\u001b[1mDEBUG   \u001b[0m | \u001b[36mALSampler\u001b[0m:\u001b[36msimulate_rounds\u001b[0m:\u001b[36m64\u001b[0m - \u001b[34m\u001b[1m{'precision': 0.9456721956453268, 'recall': 0.844813980468563, 'f1': 0.8924001223551246}\u001b[0m\n",
      "\u001b[32m2024-05-20 15:58:54.532\u001b[0m | \u001b[1mINFO    \u001b[0m | \u001b[36mALSampler\u001b[0m:\u001b[36msimulate_rounds\u001b[0m:\u001b[36m53\u001b[0m - \u001b[1msimulate round 6.\u001b[0m\n",
      "\u001b[32m2024-05-20 15:58:54.534\u001b[0m | \u001b[1mINFO    \u001b[0m | \u001b[36mALSampler\u001b[0m:\u001b[36mkeep_sample\u001b[0m:\u001b[36m43\u001b[0m - \u001b[1mcurrent sampled: 210, remaining: 93\u001b[0m\n",
      "\u001b[32m2024-05-20 15:59:20.693\u001b[0m | \u001b[34m\u001b[1mDEBUG   \u001b[0m | \u001b[36mCRFWrapper\u001b[0m:\u001b[36mfit\u001b[0m:\u001b[36m266\u001b[0m - \u001b[34m\u001b[1mReset and train CRF model...\u001b[0m\n",
      "\u001b[32m2024-05-20 16:06:21.797\u001b[0m | \u001b[34m\u001b[1mDEBUG   \u001b[0m | \u001b[36mCRFWrapper\u001b[0m:\u001b[36mfit\u001b[0m:\u001b[36m274\u001b[0m - \u001b[34m\u001b[1mTraining complete.\u001b[0m\n",
      "\u001b[32m2024-05-20 16:06:22.574\u001b[0m | \u001b[34m\u001b[1mDEBUG   \u001b[0m | \u001b[36mCRFWrapper\u001b[0m:\u001b[36mbootstrap_eval\u001b[0m:\u001b[36m299\u001b[0m - \u001b[34m\u001b[1mPredicting eval docs...\u001b[0m\n",
      "\u001b[32m2024-05-20 16:06:57.589\u001b[0m | \u001b[34m\u001b[1mDEBUG   \u001b[0m | \u001b[36mCRFWrapper\u001b[0m:\u001b[36mbootstrap_eval\u001b[0m:\u001b[36m303\u001b[0m - \u001b[34m\u001b[1mCalculate scores from bootstrapping 200 times\u001b[0m\n",
      "\u001b[32m2024-05-20 16:11:08.160\u001b[0m | \u001b[34m\u001b[1mDEBUG   \u001b[0m | \u001b[36mCRFWrapper\u001b[0m:\u001b[36mbootstrap_eval\u001b[0m:\u001b[36m313\u001b[0m - \u001b[34m\u001b[1mcomplete\u001b[0m\n",
      "\u001b[32m2024-05-20 16:11:08.285\u001b[0m | \u001b[34m\u001b[1mDEBUG   \u001b[0m | \u001b[36mALSampler\u001b[0m:\u001b[36msimulate_rounds\u001b[0m:\u001b[36m64\u001b[0m - \u001b[34m\u001b[1m{'precision': 0.9460105490915908, 'recall': 0.8498273707065209, 'f1': 0.8953409778497757}\u001b[0m\n",
      "\u001b[32m2024-05-20 16:11:08.286\u001b[0m | \u001b[1mINFO    \u001b[0m | \u001b[36mALSampler\u001b[0m:\u001b[36msimulate_rounds\u001b[0m:\u001b[36m53\u001b[0m - \u001b[1msimulate round 7.\u001b[0m\n",
      "\u001b[32m2024-05-20 16:11:08.288\u001b[0m | \u001b[1mINFO    \u001b[0m | \u001b[36mALSampler\u001b[0m:\u001b[36mkeep_sample\u001b[0m:\u001b[36m43\u001b[0m - \u001b[1mcurrent sampled: 240, remaining: 63\u001b[0m\n",
      "\u001b[32m2024-05-20 16:11:37.449\u001b[0m | \u001b[34m\u001b[1mDEBUG   \u001b[0m | \u001b[36mCRFWrapper\u001b[0m:\u001b[36mfit\u001b[0m:\u001b[36m266\u001b[0m - \u001b[34m\u001b[1mReset and train CRF model...\u001b[0m\n",
      "\u001b[32m2024-05-20 16:19:39.113\u001b[0m | \u001b[34m\u001b[1mDEBUG   \u001b[0m | \u001b[36mCRFWrapper\u001b[0m:\u001b[36mfit\u001b[0m:\u001b[36m274\u001b[0m - \u001b[34m\u001b[1mTraining complete.\u001b[0m\n",
      "\u001b[32m2024-05-20 16:19:40.023\u001b[0m | \u001b[34m\u001b[1mDEBUG   \u001b[0m | \u001b[36mCRFWrapper\u001b[0m:\u001b[36mbootstrap_eval\u001b[0m:\u001b[36m299\u001b[0m - \u001b[34m\u001b[1mPredicting eval docs...\u001b[0m\n",
      "\u001b[32m2024-05-20 16:20:16.073\u001b[0m | \u001b[34m\u001b[1mDEBUG   \u001b[0m | \u001b[36mCRFWrapper\u001b[0m:\u001b[36mbootstrap_eval\u001b[0m:\u001b[36m303\u001b[0m - \u001b[34m\u001b[1mCalculate scores from bootstrapping 200 times\u001b[0m\n",
      "\u001b[32m2024-05-20 16:24:27.074\u001b[0m | \u001b[34m\u001b[1mDEBUG   \u001b[0m | \u001b[36mCRFWrapper\u001b[0m:\u001b[36mbootstrap_eval\u001b[0m:\u001b[36m313\u001b[0m - \u001b[34m\u001b[1mcomplete\u001b[0m\n",
      "\u001b[32m2024-05-20 16:24:27.198\u001b[0m | \u001b[34m\u001b[1mDEBUG   \u001b[0m | \u001b[36mALSampler\u001b[0m:\u001b[36msimulate_rounds\u001b[0m:\u001b[36m64\u001b[0m - \u001b[34m\u001b[1m{'precision': 0.9446261890423537, 'recall': 0.8542038731467139, 'f1': 0.8971401468288498}\u001b[0m\n",
      "\u001b[32m2024-05-20 16:24:27.199\u001b[0m | \u001b[1mINFO    \u001b[0m | \u001b[36mALSampler\u001b[0m:\u001b[36msimulate_rounds\u001b[0m:\u001b[36m53\u001b[0m - \u001b[1msimulate round 8.\u001b[0m\n",
      "\u001b[32m2024-05-20 16:24:27.202\u001b[0m | \u001b[1mINFO    \u001b[0m | \u001b[36mALSampler\u001b[0m:\u001b[36mkeep_sample\u001b[0m:\u001b[36m43\u001b[0m - \u001b[1mcurrent sampled: 270, remaining: 33\u001b[0m\n",
      "\u001b[32m2024-05-20 16:24:59.741\u001b[0m | \u001b[34m\u001b[1mDEBUG   \u001b[0m | \u001b[36mCRFWrapper\u001b[0m:\u001b[36mfit\u001b[0m:\u001b[36m266\u001b[0m - \u001b[34m\u001b[1mReset and train CRF model...\u001b[0m\n",
      "\u001b[32m2024-05-20 16:33:59.705\u001b[0m | \u001b[34m\u001b[1mDEBUG   \u001b[0m | \u001b[36mCRFWrapper\u001b[0m:\u001b[36mfit\u001b[0m:\u001b[36m274\u001b[0m - \u001b[34m\u001b[1mTraining complete.\u001b[0m\n",
      "\u001b[32m2024-05-20 16:34:00.735\u001b[0m | \u001b[34m\u001b[1mDEBUG   \u001b[0m | \u001b[36mCRFWrapper\u001b[0m:\u001b[36mbootstrap_eval\u001b[0m:\u001b[36m299\u001b[0m - \u001b[34m\u001b[1mPredicting eval docs...\u001b[0m\n",
      "\u001b[32m2024-05-20 16:34:36.838\u001b[0m | \u001b[34m\u001b[1mDEBUG   \u001b[0m | \u001b[36mCRFWrapper\u001b[0m:\u001b[36mbootstrap_eval\u001b[0m:\u001b[36m303\u001b[0m - \u001b[34m\u001b[1mCalculate scores from bootstrapping 200 times\u001b[0m\n",
      "\u001b[32m2024-05-20 16:38:49.178\u001b[0m | \u001b[34m\u001b[1mDEBUG   \u001b[0m | \u001b[36mCRFWrapper\u001b[0m:\u001b[36mbootstrap_eval\u001b[0m:\u001b[36m313\u001b[0m - \u001b[34m\u001b[1mcomplete\u001b[0m\n",
      "\u001b[32m2024-05-20 16:38:49.300\u001b[0m | \u001b[34m\u001b[1mDEBUG   \u001b[0m | \u001b[36mALSampler\u001b[0m:\u001b[36msimulate_rounds\u001b[0m:\u001b[36m64\u001b[0m - \u001b[34m\u001b[1m{'precision': 0.9456568598468834, 'recall': 0.8580678953634129, 'f1': 0.8997336366887887}\u001b[0m\n",
      "\u001b[32m2024-05-20 16:38:49.302\u001b[0m | \u001b[1mINFO    \u001b[0m | \u001b[36mALSampler\u001b[0m:\u001b[36msimulate_rounds\u001b[0m:\u001b[36m53\u001b[0m - \u001b[1msimulate round 9.\u001b[0m\n",
      "\u001b[32m2024-05-20 16:38:49.304\u001b[0m | \u001b[1mINFO    \u001b[0m | \u001b[36mALSampler\u001b[0m:\u001b[36mkeep_sample\u001b[0m:\u001b[36m43\u001b[0m - \u001b[1mcurrent sampled: 300, remaining: 3\u001b[0m\n",
      "\u001b[32m2024-05-20 16:38:49.305\u001b[0m | \u001b[1mINFO    \u001b[0m | \u001b[36mALSampler\u001b[0m:\u001b[36msimulate_rounds\u001b[0m:\u001b[36m58\u001b[0m - \u001b[1mIt's the last round, now add all docs to sampled.\u001b[0m\n",
      "\u001b[32m2024-05-20 16:39:26.464\u001b[0m | \u001b[34m\u001b[1mDEBUG   \u001b[0m | \u001b[36mCRFWrapper\u001b[0m:\u001b[36mfit\u001b[0m:\u001b[36m266\u001b[0m - \u001b[34m\u001b[1mReset and train CRF model...\u001b[0m\n",
      "\u001b[32m2024-05-20 16:49:27.968\u001b[0m | \u001b[34m\u001b[1mDEBUG   \u001b[0m | \u001b[36mCRFWrapper\u001b[0m:\u001b[36mfit\u001b[0m:\u001b[36m274\u001b[0m - \u001b[34m\u001b[1mTraining complete.\u001b[0m\n",
      "\u001b[32m2024-05-20 16:49:28.984\u001b[0m | \u001b[34m\u001b[1mDEBUG   \u001b[0m | \u001b[36mCRFWrapper\u001b[0m:\u001b[36mbootstrap_eval\u001b[0m:\u001b[36m299\u001b[0m - \u001b[34m\u001b[1mPredicting eval docs...\u001b[0m\n",
      "\u001b[32m2024-05-20 16:50:04.513\u001b[0m | \u001b[34m\u001b[1mDEBUG   \u001b[0m | \u001b[36mCRFWrapper\u001b[0m:\u001b[36mbootstrap_eval\u001b[0m:\u001b[36m303\u001b[0m - \u001b[34m\u001b[1mCalculate scores from bootstrapping 200 times\u001b[0m\n",
      "\u001b[32m2024-05-20 16:54:14.904\u001b[0m | \u001b[34m\u001b[1mDEBUG   \u001b[0m | \u001b[36mCRFWrapper\u001b[0m:\u001b[36mbootstrap_eval\u001b[0m:\u001b[36m313\u001b[0m - \u001b[34m\u001b[1mcomplete\u001b[0m\n",
      "\u001b[32m2024-05-20 16:54:15.026\u001b[0m | \u001b[34m\u001b[1mDEBUG   \u001b[0m | \u001b[36mALSampler\u001b[0m:\u001b[36msimulate_rounds\u001b[0m:\u001b[36m64\u001b[0m - \u001b[34m\u001b[1m{'precision': 0.9459211614216876, 'recall': 0.8596433709480625, 'f1': 0.9007189686376789}\u001b[0m\n"
     ]
    }
   ],
   "source": [
    "scores=r_simulator.simulate_rounds(boostrap_times=200)"
   ]
  },
  {
   "cell_type": "code",
   "execution_count": 14,
   "id": "ea8fc7ea-31eb-48a2-9f50-17f939f999e5",
   "metadata": {},
   "outputs": [],
   "source": [
    "def compute_mean_ci(scores):\n",
    "    ave=np.mean(scores)\n",
    "    ci=np.percentile(scores, [2.5, 97.5])\n",
    "    return ave, ci\n",
    "\n",
    "summary={'precision': [], 'pl':[], 'pu': [], 'recall': [], 'rl':[], 'ru': [], 'f1':[], 'fl':[], 'fu': []}\n",
    "for s in scores:    \n",
    "    for k,v in s.items():\n",
    "        ave, (l, u)=compute_mean_ci(v)\n",
    "        summary[k].append(ave)\n",
    "        summary[k[0]+'l'].append(l)\n",
    "        summary[k[0]+'u'].append(u)\n"
   ]
  },
  {
   "cell_type": "code",
   "execution_count": 15,
   "id": "39559314-f045-458b-95e7-dd582861c5b6",
   "metadata": {},
   "outputs": [],
   "source": [
    "pd.options.display.float_format='{:,.5f}'.format"
   ]
  },
  {
   "cell_type": "code",
   "execution_count": 16,
   "id": "4232d31c-9d9f-44bc-8a21-e87889df420f",
   "metadata": {},
   "outputs": [
    {
     "data": {
      "text/html": [
       "<div>\n",
       "<style scoped>\n",
       "    .dataframe tbody tr th:only-of-type {\n",
       "        vertical-align: middle;\n",
       "    }\n",
       "\n",
       "    .dataframe tbody tr th {\n",
       "        vertical-align: top;\n",
       "    }\n",
       "\n",
       "    .dataframe thead th {\n",
       "        text-align: right;\n",
       "    }\n",
       "</style>\n",
       "<table border=\"1\" class=\"dataframe\">\n",
       "  <thead>\n",
       "    <tr style=\"text-align: right;\">\n",
       "      <th></th>\n",
       "      <th>precision</th>\n",
       "      <th>pl</th>\n",
       "      <th>pu</th>\n",
       "      <th>recall</th>\n",
       "      <th>rl</th>\n",
       "      <th>ru</th>\n",
       "      <th>f1</th>\n",
       "      <th>fl</th>\n",
       "      <th>fu</th>\n",
       "    </tr>\n",
       "  </thead>\n",
       "  <tbody>\n",
       "    <tr>\n",
       "      <th>0</th>\n",
       "      <td>0.94368</td>\n",
       "      <td>0.93985</td>\n",
       "      <td>0.94710</td>\n",
       "      <td>0.77901</td>\n",
       "      <td>0.77207</td>\n",
       "      <td>0.78561</td>\n",
       "      <td>0.85347</td>\n",
       "      <td>0.84886</td>\n",
       "      <td>0.85785</td>\n",
       "    </tr>\n",
       "    <tr>\n",
       "      <th>1</th>\n",
       "      <td>0.94338</td>\n",
       "      <td>0.94028</td>\n",
       "      <td>0.94694</td>\n",
       "      <td>0.80879</td>\n",
       "      <td>0.80277</td>\n",
       "      <td>0.81530</td>\n",
       "      <td>0.87091</td>\n",
       "      <td>0.86682</td>\n",
       "      <td>0.87472</td>\n",
       "    </tr>\n",
       "    <tr>\n",
       "      <th>2</th>\n",
       "      <td>0.94310</td>\n",
       "      <td>0.93972</td>\n",
       "      <td>0.94635</td>\n",
       "      <td>0.82460</td>\n",
       "      <td>0.81890</td>\n",
       "      <td>0.83017</td>\n",
       "      <td>0.87988</td>\n",
       "      <td>0.87605</td>\n",
       "      <td>0.88364</td>\n",
       "    </tr>\n",
       "    <tr>\n",
       "      <th>3</th>\n",
       "      <td>0.94341</td>\n",
       "      <td>0.94031</td>\n",
       "      <td>0.94671</td>\n",
       "      <td>0.83337</td>\n",
       "      <td>0.82774</td>\n",
       "      <td>0.83865</td>\n",
       "      <td>0.88498</td>\n",
       "      <td>0.88099</td>\n",
       "      <td>0.88895</td>\n",
       "    </tr>\n",
       "    <tr>\n",
       "      <th>4</th>\n",
       "      <td>0.94353</td>\n",
       "      <td>0.94007</td>\n",
       "      <td>0.94692</td>\n",
       "      <td>0.84270</td>\n",
       "      <td>0.83770</td>\n",
       "      <td>0.84748</td>\n",
       "      <td>0.89027</td>\n",
       "      <td>0.88595</td>\n",
       "      <td>0.89391</td>\n",
       "    </tr>\n",
       "    <tr>\n",
       "      <th>5</th>\n",
       "      <td>0.94567</td>\n",
       "      <td>0.94242</td>\n",
       "      <td>0.94887</td>\n",
       "      <td>0.84481</td>\n",
       "      <td>0.83868</td>\n",
       "      <td>0.84999</td>\n",
       "      <td>0.89240</td>\n",
       "      <td>0.88843</td>\n",
       "      <td>0.89602</td>\n",
       "    </tr>\n",
       "    <tr>\n",
       "      <th>6</th>\n",
       "      <td>0.94601</td>\n",
       "      <td>0.94241</td>\n",
       "      <td>0.94902</td>\n",
       "      <td>0.84983</td>\n",
       "      <td>0.84407</td>\n",
       "      <td>0.85503</td>\n",
       "      <td>0.89534</td>\n",
       "      <td>0.89139</td>\n",
       "      <td>0.89877</td>\n",
       "    </tr>\n",
       "    <tr>\n",
       "      <th>7</th>\n",
       "      <td>0.94463</td>\n",
       "      <td>0.94081</td>\n",
       "      <td>0.94792</td>\n",
       "      <td>0.85420</td>\n",
       "      <td>0.84875</td>\n",
       "      <td>0.85912</td>\n",
       "      <td>0.89714</td>\n",
       "      <td>0.89283</td>\n",
       "      <td>0.90059</td>\n",
       "    </tr>\n",
       "    <tr>\n",
       "      <th>8</th>\n",
       "      <td>0.94566</td>\n",
       "      <td>0.94263</td>\n",
       "      <td>0.94877</td>\n",
       "      <td>0.85807</td>\n",
       "      <td>0.85292</td>\n",
       "      <td>0.86348</td>\n",
       "      <td>0.89973</td>\n",
       "      <td>0.89612</td>\n",
       "      <td>0.90357</td>\n",
       "    </tr>\n",
       "    <tr>\n",
       "      <th>9</th>\n",
       "      <td>0.94592</td>\n",
       "      <td>0.94269</td>\n",
       "      <td>0.94898</td>\n",
       "      <td>0.85964</td>\n",
       "      <td>0.85514</td>\n",
       "      <td>0.86487</td>\n",
       "      <td>0.90072</td>\n",
       "      <td>0.89721</td>\n",
       "      <td>0.90464</td>\n",
       "    </tr>\n",
       "  </tbody>\n",
       "</table>\n",
       "</div>"
      ],
      "text/plain": [
       "   precision      pl      pu  recall      rl      ru      f1      fl      fu\n",
       "0    0.94368 0.93985 0.94710 0.77901 0.77207 0.78561 0.85347 0.84886 0.85785\n",
       "1    0.94338 0.94028 0.94694 0.80879 0.80277 0.81530 0.87091 0.86682 0.87472\n",
       "2    0.94310 0.93972 0.94635 0.82460 0.81890 0.83017 0.87988 0.87605 0.88364\n",
       "3    0.94341 0.94031 0.94671 0.83337 0.82774 0.83865 0.88498 0.88099 0.88895\n",
       "4    0.94353 0.94007 0.94692 0.84270 0.83770 0.84748 0.89027 0.88595 0.89391\n",
       "5    0.94567 0.94242 0.94887 0.84481 0.83868 0.84999 0.89240 0.88843 0.89602\n",
       "6    0.94601 0.94241 0.94902 0.84983 0.84407 0.85503 0.89534 0.89139 0.89877\n",
       "7    0.94463 0.94081 0.94792 0.85420 0.84875 0.85912 0.89714 0.89283 0.90059\n",
       "8    0.94566 0.94263 0.94877 0.85807 0.85292 0.86348 0.89973 0.89612 0.90357\n",
       "9    0.94592 0.94269 0.94898 0.85964 0.85514 0.86487 0.90072 0.89721 0.90464"
      ]
     },
     "execution_count": 16,
     "metadata": {},
     "output_type": "execute_result"
    }
   ],
   "source": [
    "pd.DataFrame(summary)"
   ]
  },
  {
   "cell_type": "markdown",
   "id": "f4b51bd0-6d3e-4141-b4f3-415e27d84914",
   "metadata": {},
   "source": [
    "## Bootstrap 10 runs"
   ]
  },
  {
   "cell_type": "code",
   "execution_count": 17,
   "id": "aa0818ee-3bdf-4c16-abb6-cc71054c2cd8",
   "metadata": {},
   "outputs": [],
   "source": [
    "boostrap_runs=3\n",
    "total_round=10"
   ]
  },
  {
   "cell_type": "code",
   "execution_count": 18,
   "id": "15afec04-f7e9-4f63-8b17-b9199055d192",
   "metadata": {},
   "outputs": [
    {
     "data": {
      "text/plain": [
       "1"
      ]
     },
     "execution_count": 18,
     "metadata": {},
     "output_type": "execute_result"
    }
   ],
   "source": [
    "logger.remove()\n",
    "logger.add(sys.stderr, level='INFO')"
   ]
  },
  {
   "cell_type": "code",
   "execution_count": 19,
   "id": "fb1ecb94-8454-4765-ae6e-aeeb6d501e3f",
   "metadata": {},
   "outputs": [
    {
     "data": {
      "text/plain": [
       "[1792286, 8843471, 4142887]"
      ]
     },
     "execution_count": 19,
     "metadata": {},
     "output_type": "execute_result"
    }
   ],
   "source": [
    "random.seed(14)\n",
    "seeds=[random.randint(1,10000000) for  _ in range(boostrap_runs)]\n",
    "seeds"
   ]
  },
  {
   "cell_type": "code",
   "execution_count": 20,
   "id": "6a39c3bc-d4e6-452f-971a-c57849235765",
   "metadata": {},
   "outputs": [
    {
     "name": "stderr",
     "output_type": "stream",
     "text": [
      "\u001b[32m2024-05-20 16:54:15.257\u001b[0m | \u001b[1mINFO    \u001b[0m | \u001b[36m__main__\u001b[0m:\u001b[36m<module>\u001b[0m:\u001b[36m3\u001b[0m - \u001b[1mstart run 0.\u001b[0m\n",
      "\u001b[32m2024-05-20 16:54:15.259\u001b[0m | \u001b[1mINFO    \u001b[0m | \u001b[36mALSampler\u001b[0m:\u001b[36msimulate_rounds\u001b[0m:\u001b[36m53\u001b[0m - \u001b[1msimulate round 0.\u001b[0m\n",
      "\u001b[32m2024-05-20 16:54:15.261\u001b[0m | \u001b[1mINFO    \u001b[0m | \u001b[36mALSampler\u001b[0m:\u001b[36mkeep_sample\u001b[0m:\u001b[36m43\u001b[0m - \u001b[1mcurrent sampled: 30, remaining: 273\u001b[0m\n",
      "\u001b[32m2024-05-20 17:00:02.253\u001b[0m | \u001b[1mINFO    \u001b[0m | \u001b[36mALSampler\u001b[0m:\u001b[36msimulate_rounds\u001b[0m:\u001b[36m53\u001b[0m - \u001b[1msimulate round 1.\u001b[0m\n",
      "\u001b[32m2024-05-20 17:00:02.256\u001b[0m | \u001b[1mINFO    \u001b[0m | \u001b[36mALSampler\u001b[0m:\u001b[36mkeep_sample\u001b[0m:\u001b[36m43\u001b[0m - \u001b[1mcurrent sampled: 60, remaining: 243\u001b[0m\n",
      "\u001b[32m2024-05-20 17:06:46.626\u001b[0m | \u001b[1mINFO    \u001b[0m | \u001b[36mALSampler\u001b[0m:\u001b[36msimulate_rounds\u001b[0m:\u001b[36m53\u001b[0m - \u001b[1msimulate round 2.\u001b[0m\n",
      "\u001b[32m2024-05-20 17:06:46.630\u001b[0m | \u001b[1mINFO    \u001b[0m | \u001b[36mALSampler\u001b[0m:\u001b[36mkeep_sample\u001b[0m:\u001b[36m43\u001b[0m - \u001b[1mcurrent sampled: 90, remaining: 213\u001b[0m\n",
      "\u001b[32m2024-05-20 17:14:35.801\u001b[0m | \u001b[1mINFO    \u001b[0m | \u001b[36mALSampler\u001b[0m:\u001b[36msimulate_rounds\u001b[0m:\u001b[36m53\u001b[0m - \u001b[1msimulate round 3.\u001b[0m\n",
      "\u001b[32m2024-05-20 17:14:35.805\u001b[0m | \u001b[1mINFO    \u001b[0m | \u001b[36mALSampler\u001b[0m:\u001b[36mkeep_sample\u001b[0m:\u001b[36m43\u001b[0m - \u001b[1mcurrent sampled: 120, remaining: 183\u001b[0m\n",
      "\u001b[32m2024-05-20 17:23:37.081\u001b[0m | \u001b[1mINFO    \u001b[0m | \u001b[36mALSampler\u001b[0m:\u001b[36msimulate_rounds\u001b[0m:\u001b[36m53\u001b[0m - \u001b[1msimulate round 4.\u001b[0m\n",
      "\u001b[32m2024-05-20 17:23:37.084\u001b[0m | \u001b[1mINFO    \u001b[0m | \u001b[36mALSampler\u001b[0m:\u001b[36mkeep_sample\u001b[0m:\u001b[36m43\u001b[0m - \u001b[1mcurrent sampled: 150, remaining: 153\u001b[0m\n",
      "\u001b[32m2024-05-20 17:33:46.038\u001b[0m | \u001b[1mINFO    \u001b[0m | \u001b[36mALSampler\u001b[0m:\u001b[36msimulate_rounds\u001b[0m:\u001b[36m53\u001b[0m - \u001b[1msimulate round 5.\u001b[0m\n",
      "\u001b[32m2024-05-20 17:33:46.042\u001b[0m | \u001b[1mINFO    \u001b[0m | \u001b[36mALSampler\u001b[0m:\u001b[36mkeep_sample\u001b[0m:\u001b[36m43\u001b[0m - \u001b[1mcurrent sampled: 180, remaining: 123\u001b[0m\n",
      "\u001b[32m2024-05-20 17:44:58.462\u001b[0m | \u001b[1mINFO    \u001b[0m | \u001b[36mALSampler\u001b[0m:\u001b[36msimulate_rounds\u001b[0m:\u001b[36m53\u001b[0m - \u001b[1msimulate round 6.\u001b[0m\n",
      "\u001b[32m2024-05-20 17:44:58.467\u001b[0m | \u001b[1mINFO    \u001b[0m | \u001b[36mALSampler\u001b[0m:\u001b[36mkeep_sample\u001b[0m:\u001b[36m43\u001b[0m - \u001b[1mcurrent sampled: 210, remaining: 93\u001b[0m\n",
      "\u001b[32m2024-05-20 17:57:25.440\u001b[0m | \u001b[1mINFO    \u001b[0m | \u001b[36mALSampler\u001b[0m:\u001b[36msimulate_rounds\u001b[0m:\u001b[36m53\u001b[0m - \u001b[1msimulate round 7.\u001b[0m\n",
      "\u001b[32m2024-05-20 17:57:25.443\u001b[0m | \u001b[1mINFO    \u001b[0m | \u001b[36mALSampler\u001b[0m:\u001b[36mkeep_sample\u001b[0m:\u001b[36m43\u001b[0m - \u001b[1mcurrent sampled: 240, remaining: 63\u001b[0m\n",
      "\u001b[32m2024-05-20 18:10:46.151\u001b[0m | \u001b[1mINFO    \u001b[0m | \u001b[36mALSampler\u001b[0m:\u001b[36msimulate_rounds\u001b[0m:\u001b[36m53\u001b[0m - \u001b[1msimulate round 8.\u001b[0m\n",
      "\u001b[32m2024-05-20 18:10:46.154\u001b[0m | \u001b[1mINFO    \u001b[0m | \u001b[36mALSampler\u001b[0m:\u001b[36mkeep_sample\u001b[0m:\u001b[36m43\u001b[0m - \u001b[1mcurrent sampled: 270, remaining: 33\u001b[0m\n",
      "\u001b[32m2024-05-20 18:25:10.949\u001b[0m | \u001b[1mINFO    \u001b[0m | \u001b[36mALSampler\u001b[0m:\u001b[36msimulate_rounds\u001b[0m:\u001b[36m53\u001b[0m - \u001b[1msimulate round 9.\u001b[0m\n",
      "\u001b[32m2024-05-20 18:25:10.952\u001b[0m | \u001b[1mINFO    \u001b[0m | \u001b[36mALSampler\u001b[0m:\u001b[36mkeep_sample\u001b[0m:\u001b[36m43\u001b[0m - \u001b[1mcurrent sampled: 300, remaining: 3\u001b[0m\n",
      "\u001b[32m2024-05-20 18:25:10.953\u001b[0m | \u001b[1mINFO    \u001b[0m | \u001b[36mALSampler\u001b[0m:\u001b[36msimulate_rounds\u001b[0m:\u001b[36m58\u001b[0m - \u001b[1mIt's the last round, now add all docs to sampled.\u001b[0m\n",
      "\u001b[32m2024-05-20 18:40:45.985\u001b[0m | \u001b[1mINFO    \u001b[0m | \u001b[36m__main__\u001b[0m:\u001b[36m<module>\u001b[0m:\u001b[36m3\u001b[0m - \u001b[1mstart run 1.\u001b[0m\n",
      "\u001b[32m2024-05-20 18:40:45.995\u001b[0m | \u001b[1mINFO    \u001b[0m | \u001b[36mALSampler\u001b[0m:\u001b[36msimulate_rounds\u001b[0m:\u001b[36m53\u001b[0m - \u001b[1msimulate round 0.\u001b[0m\n",
      "\u001b[32m2024-05-20 18:40:45.997\u001b[0m | \u001b[1mINFO    \u001b[0m | \u001b[36mALSampler\u001b[0m:\u001b[36mkeep_sample\u001b[0m:\u001b[36m43\u001b[0m - \u001b[1mcurrent sampled: 30, remaining: 273\u001b[0m\n",
      "\u001b[32m2024-05-20 18:46:36.372\u001b[0m | \u001b[1mINFO    \u001b[0m | \u001b[36mALSampler\u001b[0m:\u001b[36msimulate_rounds\u001b[0m:\u001b[36m53\u001b[0m - \u001b[1msimulate round 1.\u001b[0m\n",
      "\u001b[32m2024-05-20 18:46:36.375\u001b[0m | \u001b[1mINFO    \u001b[0m | \u001b[36mALSampler\u001b[0m:\u001b[36mkeep_sample\u001b[0m:\u001b[36m43\u001b[0m - \u001b[1mcurrent sampled: 60, remaining: 243\u001b[0m\n",
      "\u001b[32m2024-05-20 18:53:19.847\u001b[0m | \u001b[1mINFO    \u001b[0m | \u001b[36mALSampler\u001b[0m:\u001b[36msimulate_rounds\u001b[0m:\u001b[36m53\u001b[0m - \u001b[1msimulate round 2.\u001b[0m\n",
      "\u001b[32m2024-05-20 18:53:19.850\u001b[0m | \u001b[1mINFO    \u001b[0m | \u001b[36mALSampler\u001b[0m:\u001b[36mkeep_sample\u001b[0m:\u001b[36m43\u001b[0m - \u001b[1mcurrent sampled: 90, remaining: 213\u001b[0m\n",
      "\u001b[32m2024-05-20 19:01:06.240\u001b[0m | \u001b[1mINFO    \u001b[0m | \u001b[36mALSampler\u001b[0m:\u001b[36msimulate_rounds\u001b[0m:\u001b[36m53\u001b[0m - \u001b[1msimulate round 3.\u001b[0m\n",
      "\u001b[32m2024-05-20 19:01:06.243\u001b[0m | \u001b[1mINFO    \u001b[0m | \u001b[36mALSampler\u001b[0m:\u001b[36mkeep_sample\u001b[0m:\u001b[36m43\u001b[0m - \u001b[1mcurrent sampled: 120, remaining: 183\u001b[0m\n",
      "\u001b[32m2024-05-20 19:10:01.061\u001b[0m | \u001b[1mINFO    \u001b[0m | \u001b[36mALSampler\u001b[0m:\u001b[36msimulate_rounds\u001b[0m:\u001b[36m53\u001b[0m - \u001b[1msimulate round 4.\u001b[0m\n",
      "\u001b[32m2024-05-20 19:10:01.064\u001b[0m | \u001b[1mINFO    \u001b[0m | \u001b[36mALSampler\u001b[0m:\u001b[36mkeep_sample\u001b[0m:\u001b[36m43\u001b[0m - \u001b[1mcurrent sampled: 150, remaining: 153\u001b[0m\n",
      "\u001b[32m2024-05-20 19:20:27.586\u001b[0m | \u001b[1mINFO    \u001b[0m | \u001b[36mALSampler\u001b[0m:\u001b[36msimulate_rounds\u001b[0m:\u001b[36m53\u001b[0m - \u001b[1msimulate round 5.\u001b[0m\n",
      "\u001b[32m2024-05-20 19:20:27.589\u001b[0m | \u001b[1mINFO    \u001b[0m | \u001b[36mALSampler\u001b[0m:\u001b[36mkeep_sample\u001b[0m:\u001b[36m43\u001b[0m - \u001b[1mcurrent sampled: 180, remaining: 123\u001b[0m\n",
      "\u001b[32m2024-05-20 19:31:44.013\u001b[0m | \u001b[1mINFO    \u001b[0m | \u001b[36mALSampler\u001b[0m:\u001b[36msimulate_rounds\u001b[0m:\u001b[36m53\u001b[0m - \u001b[1msimulate round 6.\u001b[0m\n",
      "\u001b[32m2024-05-20 19:31:44.015\u001b[0m | \u001b[1mINFO    \u001b[0m | \u001b[36mALSampler\u001b[0m:\u001b[36mkeep_sample\u001b[0m:\u001b[36m43\u001b[0m - \u001b[1mcurrent sampled: 210, remaining: 93\u001b[0m\n",
      "\u001b[32m2024-05-20 19:44:09.015\u001b[0m | \u001b[1mINFO    \u001b[0m | \u001b[36mALSampler\u001b[0m:\u001b[36msimulate_rounds\u001b[0m:\u001b[36m53\u001b[0m - \u001b[1msimulate round 7.\u001b[0m\n",
      "\u001b[32m2024-05-20 19:44:09.017\u001b[0m | \u001b[1mINFO    \u001b[0m | \u001b[36mALSampler\u001b[0m:\u001b[36mkeep_sample\u001b[0m:\u001b[36m43\u001b[0m - \u001b[1mcurrent sampled: 240, remaining: 63\u001b[0m\n",
      "\u001b[32m2024-05-20 19:57:27.210\u001b[0m | \u001b[1mINFO    \u001b[0m | \u001b[36mALSampler\u001b[0m:\u001b[36msimulate_rounds\u001b[0m:\u001b[36m53\u001b[0m - \u001b[1msimulate round 8.\u001b[0m\n",
      "\u001b[32m2024-05-20 19:57:27.213\u001b[0m | \u001b[1mINFO    \u001b[0m | \u001b[36mALSampler\u001b[0m:\u001b[36mkeep_sample\u001b[0m:\u001b[36m43\u001b[0m - \u001b[1mcurrent sampled: 270, remaining: 33\u001b[0m\n",
      "\u001b[32m2024-05-20 20:11:49.149\u001b[0m | \u001b[1mINFO    \u001b[0m | \u001b[36mALSampler\u001b[0m:\u001b[36msimulate_rounds\u001b[0m:\u001b[36m53\u001b[0m - \u001b[1msimulate round 9.\u001b[0m\n",
      "\u001b[32m2024-05-20 20:11:49.152\u001b[0m | \u001b[1mINFO    \u001b[0m | \u001b[36mALSampler\u001b[0m:\u001b[36mkeep_sample\u001b[0m:\u001b[36m43\u001b[0m - \u001b[1mcurrent sampled: 300, remaining: 3\u001b[0m\n",
      "\u001b[32m2024-05-20 20:11:49.154\u001b[0m | \u001b[1mINFO    \u001b[0m | \u001b[36mALSampler\u001b[0m:\u001b[36msimulate_rounds\u001b[0m:\u001b[36m58\u001b[0m - \u001b[1mIt's the last round, now add all docs to sampled.\u001b[0m\n",
      "\u001b[32m2024-05-20 20:27:18.690\u001b[0m | \u001b[1mINFO    \u001b[0m | \u001b[36m__main__\u001b[0m:\u001b[36m<module>\u001b[0m:\u001b[36m3\u001b[0m - \u001b[1mstart run 2.\u001b[0m\n",
      "\u001b[32m2024-05-20 20:27:18.702\u001b[0m | \u001b[1mINFO    \u001b[0m | \u001b[36mALSampler\u001b[0m:\u001b[36msimulate_rounds\u001b[0m:\u001b[36m53\u001b[0m - \u001b[1msimulate round 0.\u001b[0m\n",
      "\u001b[32m2024-05-20 20:27:18.703\u001b[0m | \u001b[1mINFO    \u001b[0m | \u001b[36mALSampler\u001b[0m:\u001b[36mkeep_sample\u001b[0m:\u001b[36m43\u001b[0m - \u001b[1mcurrent sampled: 30, remaining: 273\u001b[0m\n",
      "\u001b[32m2024-05-20 20:33:03.115\u001b[0m | \u001b[1mINFO    \u001b[0m | \u001b[36mALSampler\u001b[0m:\u001b[36msimulate_rounds\u001b[0m:\u001b[36m53\u001b[0m - \u001b[1msimulate round 1.\u001b[0m\n",
      "\u001b[32m2024-05-20 20:33:03.117\u001b[0m | \u001b[1mINFO    \u001b[0m | \u001b[36mALSampler\u001b[0m:\u001b[36mkeep_sample\u001b[0m:\u001b[36m43\u001b[0m - \u001b[1mcurrent sampled: 60, remaining: 243\u001b[0m\n",
      "\u001b[32m2024-05-20 20:39:48.947\u001b[0m | \u001b[1mINFO    \u001b[0m | \u001b[36mALSampler\u001b[0m:\u001b[36msimulate_rounds\u001b[0m:\u001b[36m53\u001b[0m - \u001b[1msimulate round 2.\u001b[0m\n",
      "\u001b[32m2024-05-20 20:39:48.951\u001b[0m | \u001b[1mINFO    \u001b[0m | \u001b[36mALSampler\u001b[0m:\u001b[36mkeep_sample\u001b[0m:\u001b[36m43\u001b[0m - \u001b[1mcurrent sampled: 90, remaining: 213\u001b[0m\n",
      "\u001b[32m2024-05-20 20:47:38.544\u001b[0m | \u001b[1mINFO    \u001b[0m | \u001b[36mALSampler\u001b[0m:\u001b[36msimulate_rounds\u001b[0m:\u001b[36m53\u001b[0m - \u001b[1msimulate round 3.\u001b[0m\n",
      "\u001b[32m2024-05-20 20:47:38.547\u001b[0m | \u001b[1mINFO    \u001b[0m | \u001b[36mALSampler\u001b[0m:\u001b[36mkeep_sample\u001b[0m:\u001b[36m43\u001b[0m - \u001b[1mcurrent sampled: 120, remaining: 183\u001b[0m\n",
      "\u001b[32m2024-05-20 20:56:32.327\u001b[0m | \u001b[1mINFO    \u001b[0m | \u001b[36mALSampler\u001b[0m:\u001b[36msimulate_rounds\u001b[0m:\u001b[36m53\u001b[0m - \u001b[1msimulate round 4.\u001b[0m\n",
      "\u001b[32m2024-05-20 20:56:32.329\u001b[0m | \u001b[1mINFO    \u001b[0m | \u001b[36mALSampler\u001b[0m:\u001b[36mkeep_sample\u001b[0m:\u001b[36m43\u001b[0m - \u001b[1mcurrent sampled: 150, remaining: 153\u001b[0m\n",
      "\u001b[32m2024-05-20 21:06:35.877\u001b[0m | \u001b[1mINFO    \u001b[0m | \u001b[36mALSampler\u001b[0m:\u001b[36msimulate_rounds\u001b[0m:\u001b[36m53\u001b[0m - \u001b[1msimulate round 5.\u001b[0m\n",
      "\u001b[32m2024-05-20 21:06:35.880\u001b[0m | \u001b[1mINFO    \u001b[0m | \u001b[36mALSampler\u001b[0m:\u001b[36mkeep_sample\u001b[0m:\u001b[36m43\u001b[0m - \u001b[1mcurrent sampled: 180, remaining: 123\u001b[0m\n",
      "\u001b[32m2024-05-20 21:17:59.983\u001b[0m | \u001b[1mINFO    \u001b[0m | \u001b[36mALSampler\u001b[0m:\u001b[36msimulate_rounds\u001b[0m:\u001b[36m53\u001b[0m - \u001b[1msimulate round 6.\u001b[0m\n",
      "\u001b[32m2024-05-20 21:17:59.985\u001b[0m | \u001b[1mINFO    \u001b[0m | \u001b[36mALSampler\u001b[0m:\u001b[36mkeep_sample\u001b[0m:\u001b[36m43\u001b[0m - \u001b[1mcurrent sampled: 210, remaining: 93\u001b[0m\n",
      "\u001b[32m2024-05-20 21:31:00.151\u001b[0m | \u001b[1mINFO    \u001b[0m | \u001b[36mALSampler\u001b[0m:\u001b[36msimulate_rounds\u001b[0m:\u001b[36m53\u001b[0m - \u001b[1msimulate round 7.\u001b[0m\n",
      "\u001b[32m2024-05-20 21:31:00.154\u001b[0m | \u001b[1mINFO    \u001b[0m | \u001b[36mALSampler\u001b[0m:\u001b[36mkeep_sample\u001b[0m:\u001b[36m43\u001b[0m - \u001b[1mcurrent sampled: 240, remaining: 63\u001b[0m\n",
      "\u001b[32m2024-05-20 21:44:46.621\u001b[0m | \u001b[1mINFO    \u001b[0m | \u001b[36mALSampler\u001b[0m:\u001b[36msimulate_rounds\u001b[0m:\u001b[36m53\u001b[0m - \u001b[1msimulate round 8.\u001b[0m\n",
      "\u001b[32m2024-05-20 21:44:46.625\u001b[0m | \u001b[1mINFO    \u001b[0m | \u001b[36mALSampler\u001b[0m:\u001b[36mkeep_sample\u001b[0m:\u001b[36m43\u001b[0m - \u001b[1mcurrent sampled: 270, remaining: 33\u001b[0m\n",
      "\u001b[32m2024-05-20 21:59:40.354\u001b[0m | \u001b[1mINFO    \u001b[0m | \u001b[36mALSampler\u001b[0m:\u001b[36msimulate_rounds\u001b[0m:\u001b[36m53\u001b[0m - \u001b[1msimulate round 9.\u001b[0m\n",
      "\u001b[32m2024-05-20 21:59:40.357\u001b[0m | \u001b[1mINFO    \u001b[0m | \u001b[36mALSampler\u001b[0m:\u001b[36mkeep_sample\u001b[0m:\u001b[36m43\u001b[0m - \u001b[1mcurrent sampled: 300, remaining: 3\u001b[0m\n",
      "\u001b[32m2024-05-20 21:59:40.358\u001b[0m | \u001b[1mINFO    \u001b[0m | \u001b[36mALSampler\u001b[0m:\u001b[36msimulate_rounds\u001b[0m:\u001b[36m58\u001b[0m - \u001b[1mIt's the last round, now add all docs to sampled.\u001b[0m\n"
     ]
    }
   ],
   "source": [
    "all_scores=[]\n",
    "for si, seed  in enumerate(seeds):\n",
    "    logger.info(f'start run {si}.')\n",
    "    crf_model=CRFModel(anno_types=annos)\n",
    "    m_simulator=RandomSamplingSimulator(train_docs, total_round=total_round, modelWrapper=crf_model, eval_docs=test_docs, init_seed=seed)\n",
    "    scores=m_simulator.simulate_rounds()\n",
    "    all_scores.append(scores) "
   ]
  },
  {
   "cell_type": "code",
   "execution_count": 25,
   "id": "c87e3bad-fb84-4ae7-bf45-d59e830396ab",
   "metadata": {},
   "outputs": [
    {
     "data": {
      "text/plain": [
       "['..\\\\data\\\\ner_rand_scores.joblib']"
      ]
     },
     "execution_count": 25,
     "metadata": {},
     "output_type": "execute_result"
    }
   ],
   "source": [
    "joblib.dump(all_scores, r'..\\data\\ner_rand_scores.joblib')"
   ]
  },
  {
   "cell_type": "code",
   "execution_count": 27,
   "id": "e089ab98-fc6d-4526-be05-d5a50a0e2e88",
   "metadata": {},
   "outputs": [
    {
     "data": {
      "text/plain": [
       "'T:\\\\VINCI_NLPETL\\\\workspace\\\\jianlins\\\\PycharmProjects\\\\vectorsearch\\\\notebooks'"
      ]
     },
     "execution_count": 27,
     "metadata": {},
     "output_type": "execute_result"
    }
   ],
   "source": [
    "pwd"
   ]
  },
  {
   "cell_type": "code",
   "execution_count": 20,
   "id": "a29db564-8534-4b6b-85e9-cedabfcb3127",
   "metadata": {},
   "outputs": [
    {
     "data": {
      "text/plain": [
       "10"
      ]
     },
     "execution_count": 20,
     "metadata": {},
     "output_type": "execute_result"
    }
   ],
   "source": [
    "len(all_scores[0])"
   ]
  },
  {
   "cell_type": "code",
   "execution_count": 8,
   "id": "c60adb88-dc23-43ae-be48-54c1eb6cace7",
   "metadata": {},
   "outputs": [],
   "source": [
    "import random"
   ]
  },
  {
   "cell_type": "code",
   "execution_count": 39,
   "id": "8600c26c-1a66-4879-a90a-8492e72a4f16",
   "metadata": {},
   "outputs": [
    {
     "data": {
      "text/plain": [
       "[9, 4, 5, 10, 8, 0, 7, 3, 10, 0, 2, 1, 5, 7, 3, 6, 8, 1, 9, 3]"
      ]
     },
     "execution_count": 39,
     "metadata": {},
     "output_type": "execute_result"
    }
   ],
   "source": [
    "random.seed(5)\n",
    "[random.randint(0,10) for _ in range(20)]"
   ]
  },
  {
   "cell_type": "code",
   "execution_count": null,
   "id": "8311f107-5c7d-45dd-90b4-9b809e803e61",
   "metadata": {},
   "outputs": [],
   "source": []
  }
 ],
 "metadata": {
  "kernelspec": {
   "display_name": "Python 3 (ipykernel)",
   "language": "python",
   "name": "python3"
  },
  "language_info": {
   "codemirror_mode": {
    "name": "ipython",
    "version": 3
   },
   "file_extension": ".py",
   "mimetype": "text/x-python",
   "name": "python",
   "nbconvert_exporter": "python",
   "pygments_lexer": "ipython3",
   "version": "3.8.18"
  }
 },
 "nbformat": 4,
 "nbformat_minor": 5
}
