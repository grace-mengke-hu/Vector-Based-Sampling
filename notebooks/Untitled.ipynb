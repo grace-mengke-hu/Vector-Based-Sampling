{
 "cells": [
  {
   "cell_type": "code",
   "execution_count": 1,
   "id": "4973e096-472a-4206-a6b5-0196ce48972b",
   "metadata": {},
   "outputs": [],
   "source": [
    "import sklearn_crfsuite\n",
    "from sklearn_crfsuite.metrics import flat_f1_score\n",
    "from sklearn_crfsuite import CRF\n",
    "from sklearn.model_selection import train_test_split\n",
    "import pandas as pd\n",
    "import numpy as np\n",
    "from spacy.lang.en import English\n",
    "from spacy import displacy\n",
    "from pathlib import Path\n",
    "import joblib\n",
    "from spacy.tokens import Doc\n",
    "from typing import List\n",
    "import random\n",
    "from statistics import mean, stdev\n",
    "from loguru import logger\n",
    "import sys\n",
    "import spacy\n",
    "from medspacy_io.reader.brat_reader import BratDocReader, BratDirReader\n",
    "import medspacy"
   ]
  },
  {
   "cell_type": "markdown",
   "id": "47d89a32-833a-493e-a237-34718a38ac5d",
   "metadata": {},
   "source": [
    "###  initiate brat reader"
   ]
  },
  {
   "cell_type": "code",
   "execution_count": 2,
   "id": "b350c1f2-8c4c-4cc7-8911-1b33efb4118e",
   "metadata": {},
   "outputs": [
    {
     "data": {
      "text/plain": [
       "(True, True)"
      ]
     },
     "execution_count": 2,
     "metadata": {},
     "output_type": "execute_result"
    }
   ],
   "source": [
    "cleaned_train_dir=r'..\\data\\n2c2\\cleaned_training'\n",
    "cleaned_test_dir=r'..\\data\\n2c2\\cleaned_test'\n",
    "Path(cleaned_train_dir).exists(), Path(cleaned_test_dir).exists()"
   ]
  },
  {
   "cell_type": "code",
   "execution_count": 3,
   "id": "f6fa84a1-bf07-41e7-a0be-936916453fb9",
   "metadata": {},
   "outputs": [],
   "source": [
    "nlp=spacy.load('en_core_web_sm', disable=['ner'])"
   ]
  },
  {
   "cell_type": "code",
   "execution_count": 4,
   "id": "e3578181-6414-4f9b-b4b6-42a4c8e89c86",
   "metadata": {},
   "outputs": [],
   "source": [
    "dir_reader = BratDirReader(nlp=nlp, schema_file=str(Path(cleaned_train_dir, 'annotation.conf')), support_overlap=True)"
   ]
  },
  {
   "cell_type": "markdown",
   "id": "ae45a208-1865-483a-bf10-7081a797a038",
   "metadata": {},
   "source": [
    "### Read eHOST annotations | load from pickles"
   ]
  },
  {
   "cell_type": "code",
   "execution_count": 5,
   "id": "a934ad77-65e8-42c7-ac6e-57f0dad6e4ac",
   "metadata": {},
   "outputs": [],
   "source": [
    "pickle_file= r'..\\data\\n2c2\\spacy_docs.joblib'"
   ]
  },
  {
   "cell_type": "code",
   "execution_count": 6,
   "id": "fbfbddd0-5242-4683-8525-8cc2bd32c03d",
   "metadata": {},
   "outputs": [
    {
     "name": "stdout",
     "output_type": "stream",
     "text": [
      "..\\data\\n2c2\\spacy_docs.joblib already exists, load them directly\n"
     ]
    }
   ],
   "source": [
    "if not Path(pickle_file).exists():\n",
    "    train_docs=dir_reader.read(txt_dir=cleaned_train_dir)\n",
    "    test_docs=dir_reader.read(txt_dir=cleaned_test_dir)\n",
    "    print(len(train_docs), len(test_docs))\n",
    "    joblib.dump((train_docs, test_docs), pickle_file)\n",
    "else:\n",
    "    print(f'{pickle_file} already exists, load them directly')\n",
    "    # before load from pickle, initiate EhostDirReader or EhostDocReader first, because some Doc extension used to store meta data will not be automatically recreated by loading.\n",
    "    train_docs, test_docs=joblib.load(pickle_file)"
   ]
  },
  {
   "cell_type": "markdown",
   "id": "0b65aeb4-6110-4c0d-a429-d1d3d8688f89",
   "metadata": {},
   "source": [
    "### define sampling functions"
   ]
  },
  {
   "cell_type": "code",
   "execution_count": 7,
   "id": "155e5a4a-6f68-4baa-94e0-8b8c0b08c904",
   "metadata": {},
   "outputs": [],
   "source": [
    "rounds =10\n",
    "seed= 14"
   ]
  },
  {
   "cell_type": "code",
   "execution_count": 8,
   "id": "05e3a59a-48fc-42d1-a646-b73c656f71d4",
   "metadata": {},
   "outputs": [
    {
     "data": {
      "text/plain": [
       "(303, 202)"
      ]
     },
     "execution_count": 8,
     "metadata": {},
     "output_type": "execute_result"
    }
   ],
   "source": [
    "len(train_docs), len(test_docs)"
   ]
  },
  {
   "cell_type": "markdown",
   "id": "a8834d0d-8de0-4595-adc1-631abe8775d5",
   "metadata": {},
   "source": [
    "### Convert training and testing docs into sentence level dataframe"
   ]
  },
  {
   "cell_type": "code",
   "execution_count": 9,
   "id": "6d834b77-80e7-4f8f-b0ea-72eba6ef4e8d",
   "metadata": {},
   "outputs": [],
   "source": [
    "from medspacy_io.vectorizer import Vectorizer"
   ]
  },
  {
   "cell_type": "code",
   "execution_count": 10,
   "id": "8ba4caa0-69e2-41b1-8c66-6a371b005dc9",
   "metadata": {},
   "outputs": [],
   "source": [
    "sdf_labels=Vectorizer.docs_to_sents_df(train_docs, track_doc_name=True).rename(columns={\"X\":\"sentence\"})"
   ]
  },
  {
   "cell_type": "code",
   "execution_count": 11,
   "id": "d609ea97-ebab-4f7a-a5fe-46f4c0218cf8",
   "metadata": {},
   "outputs": [
    {
     "data": {
      "text/html": [
       "<div>\n",
       "<style scoped>\n",
       "    .dataframe tbody tr th:only-of-type {\n",
       "        vertical-align: middle;\n",
       "    }\n",
       "\n",
       "    .dataframe tbody tr th {\n",
       "        vertical-align: top;\n",
       "    }\n",
       "\n",
       "    .dataframe thead th {\n",
       "        text-align: right;\n",
       "    }\n",
       "</style>\n",
       "<table border=\"1\" class=\"dataframe\">\n",
       "  <thead>\n",
       "    <tr style=\"text-align: right;\">\n",
       "      <th></th>\n",
       "      <th>sentence</th>\n",
       "      <th>concept</th>\n",
       "      <th>y</th>\n",
       "      <th>doc_name</th>\n",
       "    </tr>\n",
       "  </thead>\n",
       "  <tbody>\n",
       "    <tr>\n",
       "      <th>0</th>\n",
       "      <td>[**2078-8-9**]             Sex:   M\\n\\nService...</td>\n",
       "      <td>Vicodin</td>\n",
       "      <td>Drug</td>\n",
       "      <td>100035.txt</td>\n",
       "    </tr>\n",
       "    <tr>\n",
       "      <th>1</th>\n",
       "      <td>While at the OSH, he received CTX,\\nazithromyc...</td>\n",
       "      <td>CTX</td>\n",
       "      <td>Drug</td>\n",
       "      <td>100035.txt</td>\n",
       "    </tr>\n",
       "    <tr>\n",
       "      <th>2</th>\n",
       "      <td>While at the OSH, he received CTX,\\nazithromyc...</td>\n",
       "      <td>azithromycin</td>\n",
       "      <td>Drug</td>\n",
       "      <td>100035.txt</td>\n",
       "    </tr>\n",
       "    <tr>\n",
       "      <th>3</th>\n",
       "      <td>While at the OSH, he received CTX,\\nazithromyc...</td>\n",
       "      <td>epinephrine</td>\n",
       "      <td>Drug</td>\n",
       "      <td>100035.txt</td>\n",
       "    </tr>\n",
       "    <tr>\n",
       "      <th>4</th>\n",
       "      <td>While at the OSH, he received CTX,\\nazithromyc...</td>\n",
       "      <td>solumedrol</td>\n",
       "      <td>Drug</td>\n",
       "      <td>100035.txt</td>\n",
       "    </tr>\n",
       "    <tr>\n",
       "      <th>...</th>\n",
       "      <td>...</td>\n",
       "      <td>...</td>\n",
       "      <td>...</td>\n",
       "      <td>...</td>\n",
       "    </tr>\n",
       "    <tr>\n",
       "      <th>90405</th>\n",
       "      <td>[**Name (NI) **]</td>\n",
       "      <td></td>\n",
       "      <td>NEG</td>\n",
       "      <td>198406.txt</td>\n",
       "    </tr>\n",
       "    <tr>\n",
       "      <th>90406</th>\n",
       "      <td>[**Telephone/Fax (1) 92787**](H),</td>\n",
       "      <td></td>\n",
       "      <td>NEG</td>\n",
       "      <td>198406.txt</td>\n",
       "    </tr>\n",
       "    <tr>\n",
       "      <th>90407</th>\n",
       "      <td>[**Telephone/Fax (1) 92788**](C)\\n\\n\\nMedicati...</td>\n",
       "      <td></td>\n",
       "      <td>NEG</td>\n",
       "      <td>198406.txt</td>\n",
       "    </tr>\n",
       "    <tr>\n",
       "      <th>90408</th>\n",
       "      <td>3.</td>\n",
       "      <td></td>\n",
       "      <td>NEG</td>\n",
       "      <td>198406.txt</td>\n",
       "    </tr>\n",
       "    <tr>\n",
       "      <th>90409</th>\n",
       "      <td>6.</td>\n",
       "      <td></td>\n",
       "      <td>NEG</td>\n",
       "      <td>198406.txt</td>\n",
       "    </tr>\n",
       "  </tbody>\n",
       "</table>\n",
       "<p>90410 rows × 4 columns</p>\n",
       "</div>"
      ],
      "text/plain": [
       "                                                sentence       concept     y  \\\n",
       "0      [**2078-8-9**]             Sex:   M\\n\\nService...       Vicodin  Drug   \n",
       "1      While at the OSH, he received CTX,\\nazithromyc...           CTX  Drug   \n",
       "2      While at the OSH, he received CTX,\\nazithromyc...  azithromycin  Drug   \n",
       "3      While at the OSH, he received CTX,\\nazithromyc...   epinephrine  Drug   \n",
       "4      While at the OSH, he received CTX,\\nazithromyc...    solumedrol  Drug   \n",
       "...                                                  ...           ...   ...   \n",
       "90405                                   [**Name (NI) **]                 NEG   \n",
       "90406                  [**Telephone/Fax (1) 92787**](H),                 NEG   \n",
       "90407  [**Telephone/Fax (1) 92788**](C)\\n\\n\\nMedicati...                 NEG   \n",
       "90408                                                 3.                 NEG   \n",
       "90409                                                 6.                 NEG   \n",
       "\n",
       "         doc_name  \n",
       "0      100035.txt  \n",
       "1      100035.txt  \n",
       "2      100035.txt  \n",
       "3      100035.txt  \n",
       "4      100035.txt  \n",
       "...           ...  \n",
       "90405  198406.txt  \n",
       "90406  198406.txt  \n",
       "90407  198406.txt  \n",
       "90408  198406.txt  \n",
       "90409  198406.txt  \n",
       "\n",
       "[90410 rows x 4 columns]"
      ]
     },
     "execution_count": 11,
     "metadata": {},
     "output_type": "execute_result"
    }
   ],
   "source": [
    "sdf_labels"
   ]
  },
  {
   "cell_type": "code",
   "execution_count": 12,
   "id": "3423870b-77d3-48fa-b92f-9287497b8819",
   "metadata": {},
   "outputs": [
    {
     "data": {
      "text/plain": [
       "43875"
      ]
     },
     "execution_count": 12,
     "metadata": {},
     "output_type": "execute_result"
    }
   ],
   "source": [
    "uniq_sentSet = set(sdf_labels['sentence'].to_list())\n",
    "len(list(uniq_sentSet))"
   ]
  },
  {
   "cell_type": "code",
   "execution_count": 13,
   "id": "fe74a5fe-e2c4-4e1f-9fdc-84934a3ada26",
   "metadata": {},
   "outputs": [],
   "source": [
    "pickle_embedding_file= r'..\\data\\n2c2\\embedding_df.joblib'\n",
    "embedding_df=joblib.load(pickle_embedding_file)"
   ]
  },
  {
   "cell_type": "code",
   "execution_count": 14,
   "id": "9a5d392c-7fb6-49b8-9b30-e089f6229aff",
   "metadata": {},
   "outputs": [
    {
     "data": {
      "text/html": [
       "<div>\n",
       "<style scoped>\n",
       "    .dataframe tbody tr th:only-of-type {\n",
       "        vertical-align: middle;\n",
       "    }\n",
       "\n",
       "    .dataframe tbody tr th {\n",
       "        vertical-align: top;\n",
       "    }\n",
       "\n",
       "    .dataframe thead th {\n",
       "        text-align: right;\n",
       "    }\n",
       "</style>\n",
       "<table border=\"1\" class=\"dataframe\">\n",
       "  <thead>\n",
       "    <tr style=\"text-align: right;\">\n",
       "      <th></th>\n",
       "      <th>sid</th>\n",
       "      <th>sentence</th>\n",
       "      <th>doc_name</th>\n",
       "      <th>embedding</th>\n",
       "    </tr>\n",
       "  </thead>\n",
       "  <tbody>\n",
       "    <tr>\n",
       "      <th>0</th>\n",
       "      <td>0</td>\n",
       "      <td>Admission Date:</td>\n",
       "      <td>100035.txt</td>\n",
       "      <td>[0.026282, 0.03218903, -0.022386529, 0.0493732...</td>\n",
       "    </tr>\n",
       "    <tr>\n",
       "      <th>1</th>\n",
       "      <td>1</td>\n",
       "      <td>[**2115-2-22**]              Discharge Date:  ...</td>\n",
       "      <td>100035.txt</td>\n",
       "      <td>[0.016159855, 0.042264156, -0.018290585, -0.05...</td>\n",
       "    </tr>\n",
       "    <tr>\n",
       "      <th>2</th>\n",
       "      <td>2</td>\n",
       "      <td>[**2078-8-9**]             Sex:   M\\n\\nService...</td>\n",
       "      <td>100035.txt</td>\n",
       "      <td>[0.025958579, -0.05749655, 0.012378361, -0.009...</td>\n",
       "    </tr>\n",
       "    <tr>\n",
       "      <th>3</th>\n",
       "      <td>3</td>\n",
       "      <td>[**Known lastname 3234**] is a 36 year old gen...</td>\n",
       "      <td>100035.txt</td>\n",
       "      <td>[0.023170307, 0.03989108, 0.026217388, -0.0272...</td>\n",
       "    </tr>\n",
       "    <tr>\n",
       "      <th>4</th>\n",
       "      <td>4</td>\n",
       "      <td>The patient initially presented to LGH ED with...</td>\n",
       "      <td>100035.txt</td>\n",
       "      <td>[0.008176211, -0.06342948, 0.048615105, -0.045...</td>\n",
       "    </tr>\n",
       "    <tr>\n",
       "      <th>...</th>\n",
       "      <td>...</td>\n",
       "      <td>...</td>\n",
       "      <td>...</td>\n",
       "      <td>...</td>\n",
       "    </tr>\n",
       "    <tr>\n",
       "      <th>47525</th>\n",
       "      <td>47525</td>\n",
       "      <td>Cyanocobalamin 1,000 mcg/mL Injection once a m...</td>\n",
       "      <td>198406.txt</td>\n",
       "      <td>[0.050521564, -0.08905716, -0.0019493615, -0.0...</td>\n",
       "    </tr>\n",
       "    <tr>\n",
       "      <th>47526</th>\n",
       "      <td>47526</td>\n",
       "      <td>Lorazepam 0.25 QAM, O.25 QPM, 0.5 mg QHS\\n8 Ca...</td>\n",
       "      <td>198406.txt</td>\n",
       "      <td>[-0.030010268, -0.062390275, 0.0016725484, 0.0...</td>\n",
       "    </tr>\n",
       "    <tr>\n",
       "      <th>47527</th>\n",
       "      <td>47527</td>\n",
       "      <td>Cream Topical TID\\n9.</td>\n",
       "      <td>198406.txt</td>\n",
       "      <td>[0.026732022, -0.04987913, 0.024520764, -0.016...</td>\n",
       "    </tr>\n",
       "    <tr>\n",
       "      <th>47528</th>\n",
       "      <td>47528</td>\n",
       "      <td>Acetaminophen 1000 mg PO Q6H\\n10.</td>\n",
       "      <td>198406.txt</td>\n",
       "      <td>[-0.017295217, -0.10513715, -0.0030776137, -0....</td>\n",
       "    </tr>\n",
       "    <tr>\n",
       "      <th>47529</th>\n",
       "      <td>47529</td>\n",
       "      <td>Mirtazapine 15 mg PO QHS\\n\\n\\nDischarge Medica...</td>\n",
       "      <td>198406.txt</td>\n",
       "      <td>[0.02337662, 0.021309359, 0.039473698, -0.0429...</td>\n",
       "    </tr>\n",
       "  </tbody>\n",
       "</table>\n",
       "<p>47530 rows × 4 columns</p>\n",
       "</div>"
      ],
      "text/plain": [
       "         sid                                           sentence    doc_name  \\\n",
       "0          0                                  Admission Date:    100035.txt   \n",
       "1          1  [**2115-2-22**]              Discharge Date:  ...  100035.txt   \n",
       "2          2  [**2078-8-9**]             Sex:   M\\n\\nService...  100035.txt   \n",
       "3          3  [**Known lastname 3234**] is a 36 year old gen...  100035.txt   \n",
       "4          4  The patient initially presented to LGH ED with...  100035.txt   \n",
       "...      ...                                                ...         ...   \n",
       "47525  47525  Cyanocobalamin 1,000 mcg/mL Injection once a m...  198406.txt   \n",
       "47526  47526  Lorazepam 0.25 QAM, O.25 QPM, 0.5 mg QHS\\n8 Ca...  198406.txt   \n",
       "47527  47527                              Cream Topical TID\\n9.  198406.txt   \n",
       "47528  47528                  Acetaminophen 1000 mg PO Q6H\\n10.  198406.txt   \n",
       "47529  47529  Mirtazapine 15 mg PO QHS\\n\\n\\nDischarge Medica...  198406.txt   \n",
       "\n",
       "                                               embedding  \n",
       "0      [0.026282, 0.03218903, -0.022386529, 0.0493732...  \n",
       "1      [0.016159855, 0.042264156, -0.018290585, -0.05...  \n",
       "2      [0.025958579, -0.05749655, 0.012378361, -0.009...  \n",
       "3      [0.023170307, 0.03989108, 0.026217388, -0.0272...  \n",
       "4      [0.008176211, -0.06342948, 0.048615105, -0.045...  \n",
       "...                                                  ...  \n",
       "47525  [0.050521564, -0.08905716, -0.0019493615, -0.0...  \n",
       "47526  [-0.030010268, -0.062390275, 0.0016725484, 0.0...  \n",
       "47527  [0.026732022, -0.04987913, 0.024520764, -0.016...  \n",
       "47528  [-0.017295217, -0.10513715, -0.0030776137, -0....  \n",
       "47529  [0.02337662, 0.021309359, 0.039473698, -0.0429...  \n",
       "\n",
       "[47530 rows x 4 columns]"
      ]
     },
     "execution_count": 14,
     "metadata": {},
     "output_type": "execute_result"
    }
   ],
   "source": [
    "embedding_df"
   ]
  },
  {
   "cell_type": "code",
   "execution_count": 15,
   "id": "a1e87bfc-a2a0-41f7-acd3-d237552e0e44",
   "metadata": {},
   "outputs": [],
   "source": [
    "embedding_df[['sentence', 'embedding']].drop_duplicates(subset='sentence',keep='first', inplace=True)"
   ]
  },
  {
   "cell_type": "code",
   "execution_count": 19,
   "id": "c9140f4f-7464-45db-833a-b886da635c82",
   "metadata": {},
   "outputs": [
    {
     "data": {
      "text/html": [
       "<div>\n",
       "<style scoped>\n",
       "    .dataframe tbody tr th:only-of-type {\n",
       "        vertical-align: middle;\n",
       "    }\n",
       "\n",
       "    .dataframe tbody tr th {\n",
       "        vertical-align: top;\n",
       "    }\n",
       "\n",
       "    .dataframe thead th {\n",
       "        text-align: right;\n",
       "    }\n",
       "</style>\n",
       "<table border=\"1\" class=\"dataframe\">\n",
       "  <thead>\n",
       "    <tr style=\"text-align: right;\">\n",
       "      <th></th>\n",
       "      <th>sid</th>\n",
       "      <th>sentence</th>\n",
       "      <th>doc_name</th>\n",
       "      <th>embedding</th>\n",
       "    </tr>\n",
       "  </thead>\n",
       "  <tbody>\n",
       "    <tr>\n",
       "      <th>1</th>\n",
       "      <td>1</td>\n",
       "      <td>[**2115-2-22**]              Discharge Date:  ...</td>\n",
       "      <td>100035.txt</td>\n",
       "      <td>[0.016159855, 0.042264156, -0.018290585, -0.05...</td>\n",
       "    </tr>\n",
       "  </tbody>\n",
       "</table>\n",
       "</div>"
      ],
      "text/plain": [
       "   sid                                           sentence    doc_name  \\\n",
       "1    1  [**2115-2-22**]              Discharge Date:  ...  100035.txt   \n",
       "\n",
       "                                           embedding  \n",
       "1  [0.016159855, 0.042264156, -0.018290585, -0.05...  "
      ]
     },
     "execution_count": 19,
     "metadata": {},
     "output_type": "execute_result"
    }
   ],
   "source": [
    "embedding_df[embedding_df['sid']==1]"
   ]
  },
  {
   "cell_type": "code",
   "execution_count": 17,
   "id": "b98cf4a1-ad6a-4932-9217-1bd46b0e7308",
   "metadata": {},
   "outputs": [
    {
     "data": {
      "text/html": [
       "<div>\n",
       "<style scoped>\n",
       "    .dataframe tbody tr th:only-of-type {\n",
       "        vertical-align: middle;\n",
       "    }\n",
       "\n",
       "    .dataframe tbody tr th {\n",
       "        vertical-align: top;\n",
       "    }\n",
       "\n",
       "    .dataframe thead th {\n",
       "        text-align: right;\n",
       "    }\n",
       "</style>\n",
       "<table border=\"1\" class=\"dataframe\">\n",
       "  <thead>\n",
       "    <tr style=\"text-align: right;\">\n",
       "      <th></th>\n",
       "      <th>sentence</th>\n",
       "      <th>concept</th>\n",
       "      <th>y</th>\n",
       "      <th>doc_name_x</th>\n",
       "      <th>sid</th>\n",
       "      <th>doc_name_y</th>\n",
       "      <th>embedding</th>\n",
       "    </tr>\n",
       "  </thead>\n",
       "  <tbody>\n",
       "    <tr>\n",
       "      <th>0</th>\n",
       "      <td>[**2078-8-9**]             Sex:   M\\n\\nService...</td>\n",
       "      <td>Vicodin</td>\n",
       "      <td>Drug</td>\n",
       "      <td>100035.txt</td>\n",
       "      <td>2</td>\n",
       "      <td>100035.txt</td>\n",
       "      <td>[0.025958579, -0.05749655, 0.012378361, -0.009...</td>\n",
       "    </tr>\n",
       "    <tr>\n",
       "      <th>1</th>\n",
       "      <td>While at the OSH, he received CTX,\\nazithromyc...</td>\n",
       "      <td>CTX</td>\n",
       "      <td>Drug</td>\n",
       "      <td>100035.txt</td>\n",
       "      <td>5</td>\n",
       "      <td>100035.txt</td>\n",
       "      <td>[0.038356796, -0.054362558, 0.028156247, -0.02...</td>\n",
       "    </tr>\n",
       "    <tr>\n",
       "      <th>2</th>\n",
       "      <td>While at the OSH, he received CTX,\\nazithromyc...</td>\n",
       "      <td>azithromycin</td>\n",
       "      <td>Drug</td>\n",
       "      <td>100035.txt</td>\n",
       "      <td>5</td>\n",
       "      <td>100035.txt</td>\n",
       "      <td>[0.038356796, -0.054362558, 0.028156247, -0.02...</td>\n",
       "    </tr>\n",
       "    <tr>\n",
       "      <th>3</th>\n",
       "      <td>While at the OSH, he received CTX,\\nazithromyc...</td>\n",
       "      <td>epinephrine</td>\n",
       "      <td>Drug</td>\n",
       "      <td>100035.txt</td>\n",
       "      <td>5</td>\n",
       "      <td>100035.txt</td>\n",
       "      <td>[0.038356796, -0.054362558, 0.028156247, -0.02...</td>\n",
       "    </tr>\n",
       "    <tr>\n",
       "      <th>4</th>\n",
       "      <td>While at the OSH, he received CTX,\\nazithromyc...</td>\n",
       "      <td>solumedrol</td>\n",
       "      <td>Drug</td>\n",
       "      <td>100035.txt</td>\n",
       "      <td>5</td>\n",
       "      <td>100035.txt</td>\n",
       "      <td>[0.038356796, -0.054362558, 0.028156247, -0.02...</td>\n",
       "    </tr>\n",
       "    <tr>\n",
       "      <th>...</th>\n",
       "      <td>...</td>\n",
       "      <td>...</td>\n",
       "      <td>...</td>\n",
       "      <td>...</td>\n",
       "      <td>...</td>\n",
       "      <td>...</td>\n",
       "      <td>...</td>\n",
       "    </tr>\n",
       "    <tr>\n",
       "      <th>272209</th>\n",
       "      <td>Patient had some cardiac enzyme leaks\\nduring ...</td>\n",
       "      <td></td>\n",
       "      <td>NEG</td>\n",
       "      <td>198406.txt</td>\n",
       "      <td>47513</td>\n",
       "      <td>198406.txt</td>\n",
       "      <td>[0.02065785, -0.06587324, 0.055154495, 0.01074...</td>\n",
       "    </tr>\n",
       "    <tr>\n",
       "      <th>272210</th>\n",
       "      <td>Patient was given cardiac healthy diet during ...</td>\n",
       "      <td></td>\n",
       "      <td>NEG</td>\n",
       "      <td>198406.txt</td>\n",
       "      <td>47515</td>\n",
       "      <td>198406.txt</td>\n",
       "      <td>[0.030450102, -0.042418838, 0.00325665, 0.0384...</td>\n",
       "    </tr>\n",
       "    <tr>\n",
       "      <th>272211</th>\n",
       "      <td># CODE: DNR/DNI (discussed with patient and so...</td>\n",
       "      <td></td>\n",
       "      <td>NEG</td>\n",
       "      <td>198406.txt</td>\n",
       "      <td>47516</td>\n",
       "      <td>198406.txt</td>\n",
       "      <td>[0.023342747, 0.013347558, -0.01095362, -0.052...</td>\n",
       "    </tr>\n",
       "    <tr>\n",
       "      <th>272212</th>\n",
       "      <td>[**Telephone/Fax (1) 92787**](H),</td>\n",
       "      <td></td>\n",
       "      <td>NEG</td>\n",
       "      <td>198406.txt</td>\n",
       "      <td>47518</td>\n",
       "      <td>198406.txt</td>\n",
       "      <td>[0.02003492, 0.029056935, -0.0140215475, 0.007...</td>\n",
       "    </tr>\n",
       "    <tr>\n",
       "      <th>272213</th>\n",
       "      <td>[**Telephone/Fax (1) 92788**](C)\\n\\n\\nMedicati...</td>\n",
       "      <td></td>\n",
       "      <td>NEG</td>\n",
       "      <td>198406.txt</td>\n",
       "      <td>47519</td>\n",
       "      <td>198406.txt</td>\n",
       "      <td>[0.013550713, -0.0049643386, -0.024216536, -0....</td>\n",
       "    </tr>\n",
       "  </tbody>\n",
       "</table>\n",
       "<p>272214 rows × 7 columns</p>\n",
       "</div>"
      ],
      "text/plain": [
       "                                                 sentence       concept     y  \\\n",
       "0       [**2078-8-9**]             Sex:   M\\n\\nService...       Vicodin  Drug   \n",
       "1       While at the OSH, he received CTX,\\nazithromyc...           CTX  Drug   \n",
       "2       While at the OSH, he received CTX,\\nazithromyc...  azithromycin  Drug   \n",
       "3       While at the OSH, he received CTX,\\nazithromyc...   epinephrine  Drug   \n",
       "4       While at the OSH, he received CTX,\\nazithromyc...    solumedrol  Drug   \n",
       "...                                                   ...           ...   ...   \n",
       "272209  Patient had some cardiac enzyme leaks\\nduring ...                 NEG   \n",
       "272210  Patient was given cardiac healthy diet during ...                 NEG   \n",
       "272211  # CODE: DNR/DNI (discussed with patient and so...                 NEG   \n",
       "272212                  [**Telephone/Fax (1) 92787**](H),                 NEG   \n",
       "272213  [**Telephone/Fax (1) 92788**](C)\\n\\n\\nMedicati...                 NEG   \n",
       "\n",
       "        doc_name_x    sid  doc_name_y  \\\n",
       "0       100035.txt      2  100035.txt   \n",
       "1       100035.txt      5  100035.txt   \n",
       "2       100035.txt      5  100035.txt   \n",
       "3       100035.txt      5  100035.txt   \n",
       "4       100035.txt      5  100035.txt   \n",
       "...            ...    ...         ...   \n",
       "272209  198406.txt  47513  198406.txt   \n",
       "272210  198406.txt  47515  198406.txt   \n",
       "272211  198406.txt  47516  198406.txt   \n",
       "272212  198406.txt  47518  198406.txt   \n",
       "272213  198406.txt  47519  198406.txt   \n",
       "\n",
       "                                                embedding  \n",
       "0       [0.025958579, -0.05749655, 0.012378361, -0.009...  \n",
       "1       [0.038356796, -0.054362558, 0.028156247, -0.02...  \n",
       "2       [0.038356796, -0.054362558, 0.028156247, -0.02...  \n",
       "3       [0.038356796, -0.054362558, 0.028156247, -0.02...  \n",
       "4       [0.038356796, -0.054362558, 0.028156247, -0.02...  \n",
       "...                                                   ...  \n",
       "272209  [0.02065785, -0.06587324, 0.055154495, 0.01074...  \n",
       "272210  [0.030450102, -0.042418838, 0.00325665, 0.0384...  \n",
       "272211  [0.023342747, 0.013347558, -0.01095362, -0.052...  \n",
       "272212  [0.02003492, 0.029056935, -0.0140215475, 0.007...  \n",
       "272213  [0.013550713, -0.0049643386, -0.024216536, -0....  \n",
       "\n",
       "[272214 rows x 7 columns]"
      ]
     },
     "execution_count": 17,
     "metadata": {},
     "output_type": "execute_result"
    }
   ],
   "source": [
    "sdf_labels.merge(embedding_df, how='inner', on='sentence')  "
   ]
  },
  {
   "cell_type": "code",
   "execution_count": null,
   "id": "3bd14cf1-2cd9-4f15-8867-ab6d41467e92",
   "metadata": {},
   "outputs": [],
   "source": []
  }
 ],
 "metadata": {
  "kernelspec": {
   "display_name": "Python 3 (ipykernel)",
   "language": "python",
   "name": "python3"
  },
  "language_info": {
   "codemirror_mode": {
    "name": "ipython",
    "version": 3
   },
   "file_extension": ".py",
   "mimetype": "text/x-python",
   "name": "python",
   "nbconvert_exporter": "python",
   "pygments_lexer": "ipython3",
   "version": "3.8.18"
  }
 },
 "nbformat": 4,
 "nbformat_minor": 5
}
